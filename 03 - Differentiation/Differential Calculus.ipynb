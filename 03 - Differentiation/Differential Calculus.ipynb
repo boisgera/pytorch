{
 "cells": [
  {
   "cell_type": "markdown",
   "id": "55d93c50-b251-470e-b756-5dedb0dad0e8",
   "metadata": {},
   "source": [
    "# Differential Calculus"
   ]
  },
  {
   "cell_type": "markdown",
   "id": "f2c44d31-9874-4969-b9ec-3b697151d1bf",
   "metadata": {},
   "source": [
    "## Derivative\n",
    "\n",
    "For scalar or vector-valued functions of a single variable:"
   ]
  },
  {
   "cell_type": "markdown",
   "id": "0b333064-49bb-4fa6-bab4-6991239f06ef",
   "metadata": {},
   "source": [
    "$$\n",
    "y = f(x), \\; f: x \\in \\mathbb{R} \\to y \\in \\mathbb{R}^p\n",
    "$$"
   ]
  },
  {
   "cell_type": "markdown",
   "id": "f10bc55e-751e-477b-a76c-4cb9220ae633",
   "metadata": {},
   "source": [
    "$$\n",
    "f'(x) := \\lim_{\\Delta x \\to 0} \\frac{f(x+\\Delta x)-f(x)}{\\Delta x} \\in \\mathbb{R}^p\n",
    "$$"
   ]
  },
  {
   "cell_type": "markdown",
   "id": "6e92f871-86b2-46ed-8ab6-d039a150b101",
   "metadata": {},
   "source": [
    "$$\n",
    "\\varepsilon(x, \\Delta x) := \\left(\\frac{f(x+\\Delta x)-f(x)}{\\Delta x} - f'(x)\\right) \\frac{\\Delta x}{|\\Delta x|} \\to 0 \\; \\mbox{ when } \\; \\Delta x \\to 0.\n",
    "$$"
   ]
  },
  {
   "cell_type": "markdown",
   "id": "37acd980-2deb-4fac-a591-321050b276dd",
   "metadata": {},
   "source": [
    "$$\n",
    "f(x + \\Delta x) = f(x) + f'(x) \\Delta x + \\varepsilon(x, \\Delta x) |\\Delta x|\n",
    "$$"
   ]
  },
  {
   "cell_type": "markdown",
   "id": "13fac9ba-44ec-405c-ad4a-0c334e32ebd1",
   "metadata": {},
   "source": [
    "$$\n",
    "f(x + \\Delta x) = f(x) + f'(x) \\Delta x + o(\\Delta x)\n",
    "$$"
   ]
  },
  {
   "cell_type": "markdown",
   "id": "ac2e3ee9-da67-4821-ab66-431e8d1f2d48",
   "metadata": {},
   "source": [
    "## Partial Derivative\n",
    "\n",
    "For functions of several variables:\n",
    "\n",
    "$$\n",
    "y = f(x), \\; f: x \\in \\mathbb{R}^m \\to y \\in \\mathbb{R}^p\n",
    "$$\n",
    "\n",
    "$$\n",
    "y = (f_1(x), \\dots, f_i(x), \\dots, f_p(x))\n",
    "$$\n"
   ]
  },
  {
   "cell_type": "markdown",
   "id": "cb7cd100-40c5-4956-ac26-eedec9c1652d",
   "metadata": {},
   "source": [
    "$$\n",
    "\\partial_i f(x) = \\frac{\\partial f}{\\partial x_i}(x) \n",
    ":= \n",
    "\\lim_{\\Delta x_i \\to 0} \\frac{f(x_1, \\dots, x_{i-1}, x_i + \\Delta x_i, x_{i+1}, \\dots)-f(x)}{\\Delta x_i} \\in \\mathbb{R}^p\n",
    "$$"
   ]
  },
  {
   "cell_type": "markdown",
   "id": "fd090cc1-d697-49dc-b257-5ddc6ac1a848",
   "metadata": {},
   "source": [
    "## Jacobian Matrix\n",
    "\n",
    "$$\n",
    "f: x \\in \\mathbb{R}^m \\to y \\in \\mathbb{R}^p\n",
    "$$\n",
    "\n",
    "\n",
    "$$\n",
    "J_f(x) :=\n",
    "\\left[\n",
    "\\begin{array}{cccc}\n",
    "\\vert & \\vert & \\cdots & \\vert \\\\\n",
    "\\partial_1 f (x) & \\partial_2 f (x) & \\cdots & \\partial_n f (x) \\\\\n",
    "\\vert & \\vert & \\cdots & \\vert \\\\\n",
    "\\end{array}\n",
    "\\right] \\in \\mathbb{R}^{p\\times m}.\n",
    "$$\n",
    "\n",
    "$$\n",
    "J_f(x) :=\n",
    "\\left[\n",
    "\\begin{array}{cccc}\n",
    "\\partial_1 f_1 (x) & \\partial_2 f_1 (x) & \\cdots & \\partial_n f_1 (x) \\\\\n",
    "\\partial_1 f_2 (x) & \\partial_2 f_2 (x) & \\cdots & \\partial_n f_2 (x) \\\\\n",
    "\\vdots & \\vdots & \\vdots & \\vdots \\\\\n",
    "\\partial_1 f_m (x) & \\partial_2 f_m (x) & \\cdots & \\partial_n f_m (x) \\\\\n",
    "\\end{array}\n",
    "\\right]\n",
    "$$\n",
    "\n",
    "\n",
    "\n",
    "\n",
    "$$\n",
    "[J_f(x)]_{ij} := \\partial_{j} f_i(x),\n",
    "$$"
   ]
  },
  {
   "cell_type": "markdown",
   "id": "f7ff904c-8d86-46bc-ac4f-6c9931473fa7",
   "metadata": {},
   "source": [
    "```{note} Exercise\n",
    "Show that for every $x=(x_1, x_2)$ de $\\R^2$, the jacobian matrix of the function\n",
    "$$\n",
    "f:(x_1, x_2) \\in \\R^2 \\mapsto (-2(x_2^2 - x_1) + 2 (x_1 - 1), 4 (x_2^2 - x_1)x_2) \\in \\R^2.\n",
    "$$\n",
    "is defined and satisfies\n",
    "$$\n",
    "J_f(x_1, x_2) = \n",
    "\\left[ \n",
    "  \\begin{array}{cc}\n",
    "  4 & -4x_2 \\\\\n",
    "  -4x_2 & 12 x_2^2\n",
    "  \\end{array}\n",
    "  \\right]\\in \\R^{2 \\times 2}.\n",
    "$$\n",
    "```"
   ]
  },
  {
   "cell_type": "markdown",
   "id": "7462a49d-3293-4f6f-84ec-b6a4a592b992",
   "metadata": {},
   "source": [
    "## Gradient"
   ]
  },
  {
   "cell_type": "markdown",
   "id": "dd01a0ae-1707-442d-b114-d6389890bbac",
   "metadata": {},
   "source": [
    "For functions of several variables but a single value:\n",
    "\n",
    "$$\n",
    "y = f(x), \\; f: x \\in \\mathbb{R}^m \\to y \\in \\mathbb{R}\n",
    "$$\n",
    "\n",
    "The gradient of $f$ at $x$ is defined as:\n",
    "$$\n",
    "\\nabla f(x) := (\\partial_1 f(x), \\partial_2 f(x), \\dots, \\partial_n f(x)) \\in \\R^n.\n",
    "$$\n",
    "If we identify the vector to a column vector, the gradient of $f$ at $x$ is\n",
    "the transposed jacobian matrix of $f$ at $x$:\n",
    "$$\n",
    "\\nabla f(x) = J_f(x)^{\\top} = \n",
    "\\left[ \n",
    "\\begin{array}{c}\n",
    "\\partial_1 f(x) \\\\\n",
    "\\partial_2 f(x) \\\\\n",
    "\\vdots \\\\\n",
    "\\partial_n f(x)\n",
    "\\end{array}\n",
    "\\right] \\in \\R^{n\\times 1}.\n",
    "$$"
   ]
  },
  {
   "cell_type": "markdown",
   "id": "429373fa-fe9d-40d6-8da4-35849cfb675d",
   "metadata": {},
   "source": [
    "```{note} Worked example\n",
    "\n",
    "Both partial functions of\n",
    "\n",
    "$$\n",
    "f:(x_1,x_2) \\in \\R^2 \\mapsto (x_2^2 - x_1)^2 + (x_1 - 1)^2 \\in \\R\n",
    "$$ \n",
    "\n",
    "have a derivative ; \n",
    "they satisfy $\\partial_1 f(x_1, x_2) = -2(x_2^2 - x_1) + 2 (x_1 - 1)$ and \n",
    "$\\partial_2 f(x_1, x_2) = 4 (x_2^2 - x_1)x_2$. \n",
    "Therefore\n",
    "\n",
    "$$\n",
    "J_f(x_1, x_2) = \n",
    "\\left[ \n",
    "  \\begin{array}{cc}\n",
    "  -2(x_2^2 - x_1) + 2 (x_1 - 1) &\n",
    "  4 (x_2^2 - x_1)x_2\n",
    "  \\end{array}\n",
    "  \\right] \\in \\R^{1 \\times 2}.\n",
    "$$\n",
    "\n",
    "Its gradient is given by\n",
    "\n",
    "$$\n",
    "\\nabla f(x_1, x_2)\n",
    "=\n",
    "(-2(x_2^2 - x_1) + 2 (x_1 - 1), 4 (x_2^2 - x_1)x_2) \\in \\R^2\n",
    "$$\n",
    "\n",
    "or, represented as a column vector:\n",
    "\n",
    "$$\n",
    "\\nabla f(x_1, x_2) = J_f(x_1, x_2)^{\\top} =\n",
    "\\left[ \n",
    "  \\begin{array}{c}\n",
    "  -2(x_2^2 - x_1) + 2 (x_1 - 1) \\\\\n",
    "  4 (x_2^2 - x_1)x_2\n",
    "  \\end{array}\n",
    "  \\right] \\in \\R^{2\\times 1}.\n",
    "$$\n",
    "```"
   ]
  },
  {
   "cell_type": "markdown",
   "id": "72ce146e-6fdc-4f13-8d1d-c4e6285e4630",
   "metadata": {},
   "source": [
    "## Differential\n",
    "\n",
    "$$\n",
    "y = f(x), \\; f: x \\in \\mathbb{R}^m \\to y \\in \\mathbb{R}^p\n",
    "$$\n"
   ]
  },
  {
   "cell_type": "markdown",
   "id": "1423c985-383b-462a-a2ce-f9547701200b",
   "metadata": {},
   "source": [
    "The function $f$ is differentiable at $x$ if the jacobian matrix is defined at $x$ and\n",
    "\n",
    "$$\n",
    "f(x + \\Delta x) = f(x) + J_f(x) \\Delta x + o(\\Delta x).\n",
    "$$\n",
    "\n",
    "In other words, if\n",
    "$$\n",
    "\\frac{f(x + \\Delta x) - f(x) - J_f(x) \\Delta x}{\\|\\Delta x\\|} \\to 0 \\; \n",
    "\\mbox{ when } \\; \\Delta x  \\to 0.\n",
    "$$"
   ]
  },
  {
   "cell_type": "markdown",
   "id": "aeb3686d-2145-46e1-b206-40aef30eabc6",
   "metadata": {},
   "source": [
    "In this case, the jacobian-vector product (jvp) of $f$ at $x$ is the series expansion of order $1$ of $f$ at $x$. We denote $df(x)$ the differential of $f$ at $x$ the function that associate to a vector the corresponding jacobian-vector product. \n",
    "$$\n",
    "df(x)(\\Delta x) := J_f(x) \\Delta x\n",
    "$$"
   ]
  },
  {
   "cell_type": "markdown",
   "id": "18aa0223-266b-46eb-8005-a3be5a30bb7c",
   "metadata": {},
   "source": [
    "## Chain Rule\n",
    "\n",
    "```{important} Chain Rule\n",
    "If \n",
    "$f: \\mathbb{R}^p \\to \\mathbb{R}^{m}$ and\n",
    "$g: \\mathbb{R}^m \\to \\mathbb{R}^{r}$ \n",
    "are both differentiable, the composite function $g \\circ f$ is differentiable and\n",
    "$$\n",
    "d(g \\circ f)(x) = dg(f(x)) \\circ df(x)\n",
    "$$\n",
    "\n",
    "The jacobian matrix of $g \\circ f$ at $x$ satisfies:\n",
    "$$\n",
    "J_{g \\circ f}(x) = J_{g}(f(x)) J_f(x)\n",
    "$$\n",
    "```"
   ]
  },
  {
   "cell_type": "markdown",
   "id": "4c29e810-4b8e-4546-909c-9c5e12574668",
   "metadata": {},
   "source": [
    "```{hint} Implementation\n",
    "Concretely, if there are three variables $x$, $y$ and $z$, such that\n",
    "$$\n",
    "y = f(x) \\; \\mbox{ and } \\; z= g(y),\n",
    "$$\n",
    "to compute the first-order variation of $z$ with respect to $x$, one can compute\n",
    "$$\n",
    "\\Delta y = J_f(x) \\Delta x\n",
    "\\;\n",
    "\\mbox{ and then }\n",
    "\\;\n",
    "\\Delta z  = J_g(y) \\Delta y. \n",
    "$$\n",
    "```\n"
   ]
  }
 ],
 "metadata": {
  "kernelspec": {
   "display_name": "Python 3 (ipykernel)",
   "language": "python",
   "name": "python3"
  },
  "language_info": {
   "codemirror_mode": {
    "name": "ipython",
    "version": 3
   },
   "file_extension": ".py",
   "mimetype": "text/x-python",
   "name": "python",
   "nbconvert_exporter": "python",
   "pygments_lexer": "ipython3",
   "version": "3.12.2"
  }
 },
 "nbformat": 4,
 "nbformat_minor": 5
}

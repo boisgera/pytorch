{
 "cells": [
  {
   "cell_type": "markdown",
   "id": "1841bc96-ba56-48a3-9f86-43a2678d77c0",
   "metadata": {},
   "source": [
    "# Automatic Differentiation from Scratch"
   ]
  },
  {
   "cell_type": "markdown",
   "id": "009cc3c9-2ec8-406b-9409-6f6382500d98",
   "metadata": {},
   "source": [
    "## Introduction\n",
    "\n",
    "Automatic differentiation refers to a family of numerical methods used to compute derivatives, gradients, and Jacobian matrices of numerical functions. These methods have the major advantage of eliminating a significant portion of rounding errors typically associated with classical methods such as finite differences. The error is in fact as low as in a \"manual\" symbolic differentiation of functions without the need for delicate parameter tuning.\n",
    "\n",
    "In practice, if you were to implement manually the derivative of the function \n",
    "$$\n",
    "f: x \\in \\R \\mapsto \\frac{1-e^{-2x}}{1+e^{-2x}} \\in \\R,\n",
    "$$\n",
    "you would probably start with the implementation of the function $f$, for example as:"
   ]
  },
  {
   "cell_type": "code",
   "execution_count": 1,
   "id": "465db7ff-7342-4ebd-97cb-ff9458409794",
   "metadata": {},
   "outputs": [],
   "source": [
    "def f(x):\n",
    "    y = exp(-2.0 * x)\n",
    "    u = 1.0 - y\n",
    "    v = 1.0 + y\n",
    "    w = u / v\n",
    "    return w"
   ]
  },
  {
   "cell_type": "markdown",
   "id": "68344e5c-30f0-4ecf-90b5-94c87a6bd484",
   "metadata": {},
   "source": [
    "and then proceed to implement its derivative $g:= f'$, typically as "
   ]
  },
  {
   "cell_type": "code",
   "execution_count": 2,
   "id": "ee6c576b-4fbf-4fa3-920a-80572935a26e",
   "metadata": {},
   "outputs": [],
   "source": [
    "def g(x):\n",
    "    y = exp(-2.0 * x)\n",
    "    u = 1.0 - y\n",
    "    v = 1.0 + y\n",
    "    w = u / v\n",
    "    dx = 1.0\n",
    "    dy = -2.0 * exp(-2.0 * x) * dx\n",
    "    du = 0.0 - dy\n",
    "    dv = 0.0 + dy\n",
    "    dw = du / v + u * (- dv) / (v * v)  \n",
    "    return dw"
   ]
  },
  {
   "cell_type": "markdown",
   "id": "2e79243d-97d8-49e7-b110-27519577ae78",
   "metadata": {},
   "source": [
    "Here, automatic differentiation would typically automate the generation of the function $g$ given the function $f$, giving you exactly the same results but avoiding all the tedious work (and the corresponding risks of manual computation errors)."
   ]
  },
  {
   "cell_type": "markdown",
   "id": "6277c850-545c-4bfd-afd7-575b5d87e5a4",
   "metadata": {},
   "source": [
    "## Computation Graph"
   ]
  },
  {
   "cell_type": "markdown",
   "id": "58b103b5-6062-4546-906f-9090c041f75c",
   "metadata": {},
   "source": [
    "Python being dynamically typed does not assign types to function arguments during their definition. Thus, the addition function,"
   ]
  },
  {
   "cell_type": "code",
   "execution_count": 3,
   "id": "56e9f083-7e6a-4074-9504-d6b0d14c6f79",
   "metadata": {},
   "outputs": [],
   "source": [
    "def add(x, y):\n",
    "    return x + y"
   ]
  },
  {
   "cell_type": "markdown",
   "id": "0b63010e-e8ad-4981-adf6-adf633b41cd2",
   "metadata": {},
   "source": [
    "allows of course adding floating-point numbers:"
   ]
  },
  {
   "cell_type": "code",
   "execution_count": 4,
   "id": "96b019be-88f4-480c-918c-a13b57a6902d",
   "metadata": {},
   "outputs": [
    {
     "data": {
      "text/plain": [
       "3.0"
      ]
     },
     "execution_count": 4,
     "metadata": {},
     "output_type": "execute_result"
    }
   ],
   "source": [
    "add(1.0, 2.0)"
   ]
  },
  {
   "cell_type": "markdown",
   "id": "cff927fb-4b31-407d-966e-70c0799612c1",
   "metadata": {},
   "source": [
    "but it will also work perfectly fine with integers or NumPy arrays or even non-numeric types like strings:"
   ]
  },
  {
   "cell_type": "code",
   "execution_count": 5,
   "id": "8eb16f6a-9367-4882-944c-d531bc64b904",
   "metadata": {},
   "outputs": [
    {
     "data": {
      "text/plain": [
       "3"
      ]
     },
     "execution_count": 5,
     "metadata": {},
     "output_type": "execute_result"
    }
   ],
   "source": [
    "add(1, 2)"
   ]
  },
  {
   "cell_type": "code",
   "execution_count": 6,
   "id": "befb6279-b47a-49fd-8237-5cba2fd73b7b",
   "metadata": {},
   "outputs": [
    {
     "data": {
      "text/plain": [
       "'onetwo'"
      ]
     },
     "execution_count": 6,
     "metadata": {},
     "output_type": "execute_result"
    }
   ],
   "source": [
    "add(\"one\", \"two\")"
   ]
  },
  {
   "cell_type": "markdown",
   "id": "e8819cf4-3ce8-455b-b51b-1cc14943551a",
   "metadata": {},
   "source": [
    "The key is that during execution, the objects `x` and `y` support the addition operation — otherwise, an exception will be raised. Thus, our add function is implicitly defined for addable objects.\n",
    "\n",
    "This is also confirmed by examining the bytecode of the add function, which makes no reference to the type of the arguments `x` and `y`:"
   ]
  },
  {
   "cell_type": "code",
   "execution_count": 7,
   "id": "abd6f6fe-8639-4372-8ad9-b31aad62dd62",
   "metadata": {},
   "outputs": [
    {
     "name": "stdout",
     "output_type": "stream",
     "text": [
      "  1           0 RESUME                   0\n",
      "\n",
      "  2           2 LOAD_FAST                0 (x)\n",
      "              4 LOAD_FAST                1 (y)\n",
      "              6 BINARY_OP                0 (+)\n",
      "             10 RETURN_VALUE\n"
     ]
    }
   ],
   "source": [
    "from dis import dis\n",
    "dis(add)"
   ]
  },
  {
   "cell_type": "markdown",
   "id": "24a4e3ee-6948-47c1-96aa-40be4f810d48",
   "metadata": {},
   "source": [
    "In the case of addition, the operation `x + y` is delegated to the `__add__` method of the `x` object. To intercept this call, it is necessary to modify the type of floating-point numbers we are going to use and override the definition of this method:"
   ]
  },
  {
   "cell_type": "code",
   "execution_count": 8,
   "id": "b223d3fe-2ce8-4f0e-a1e8-99648b48c3ae",
   "metadata": {},
   "outputs": [],
   "source": [
    "class Float(float):\n",
    "    def __add__(self, other):\n",
    "        print(f\"trace: {self} + {other}\")\n",
    "        return super().__add__(other)"
   ]
  },
  {
   "cell_type": "markdown",
   "id": "6ae445a7-370f-414e-abb7-a11f9c19a746",
   "metadata": {},
   "source": [
    "As our class inherits from the standard type float, operations we haven't explicitly redefined will be handled as usual. So, we've just modified addition for instances of `Float`, and in a very limited way since we've delegated the result calculation to the parent class float.\n",
    "\n",
    "Once this effort is made, we can indeed trace the additions made:"
   ]
  },
  {
   "cell_type": "code",
   "execution_count": 9,
   "id": "5d1a03ed-4a70-464f-8cc7-419daae3a46d",
   "metadata": {},
   "outputs": [
    {
     "name": "stdout",
     "output_type": "stream",
     "text": [
      "trace: 2.0 + 1.0\n"
     ]
    },
    {
     "data": {
      "text/plain": [
       "3.0"
      ]
     },
     "execution_count": 9,
     "metadata": {},
     "output_type": "execute_result"
    }
   ],
   "source": [
    "x = Float(2.0) + 1.0\n",
    "x"
   ]
  },
  {
   "cell_type": "markdown",
   "id": "04bd21f3-1e85-47f1-ae17-576d0a1eb331",
   "metadata": {},
   "source": [
    "provided, of course, that we work with instances of `Float` and not `float`! \n",
    "To start generalizing this usage, \n",
    "we will ensure that operations on our floats return our own float type as much as possible:"
   ]
  },
  {
   "cell_type": "code",
   "execution_count": 10,
   "id": "3211b779-533a-40e2-b435-44a31b96080e",
   "metadata": {},
   "outputs": [],
   "source": [
    "class Float(float):\n",
    "    def __add__(self, other):\n",
    "        print(f\"trace: {self} + {other}\")\n",
    "        return Float(super().__add__(other))"
   ]
  },
  {
   "cell_type": "markdown",
   "id": "32dcc13b-002e-48d8-b0af-8f91030c8433",
   "metadata": {},
   "source": [
    "But this is not enough: Python's math library functions will return regular floats, \n",
    "so we need to adapt them again; first, let's import the math module:"
   ]
  },
  {
   "cell_type": "code",
   "execution_count": 11,
   "id": "4bab02b7-6d58-4432-9813-e9ffcc6e4293",
   "metadata": {},
   "outputs": [],
   "source": [
    "import math"
   ]
  },
  {
   "cell_type": "markdown",
   "id": "2c3978c6-461e-48ac-94ce-1ffedd46e3d7",
   "metadata": {},
   "source": [
    "then define our own `cos` function:"
   ]
  },
  {
   "cell_type": "code",
   "execution_count": 12,
   "id": "a3dd07d8-8f62-4390-9da2-1f3b4760659f",
   "metadata": {},
   "outputs": [],
   "source": [
    "def cos(x):\n",
    "    print(f\"trace: cos({x})\")\n",
    "    return Float(math.cos(x))"
   ]
  },
  {
   "cell_type": "markdown",
   "id": "aa5d9e1d-c505-452a-8587-72ee150a948b",
   "metadata": {},
   "source": [
    "Let's check the result:"
   ]
  },
  {
   "cell_type": "code",
   "execution_count": 13,
   "id": "c5021ee4-e7bc-446c-a76c-6e2772cdbc92",
   "metadata": {},
   "outputs": [
    {
     "name": "stdout",
     "output_type": "stream",
     "text": [
      "trace: cos(3.141592653589793)\n",
      "trace: -1.0 + 1.0\n"
     ]
    },
    {
     "data": {
      "text/plain": [
       "0.0"
      ]
     },
     "execution_count": 13,
     "metadata": {},
     "output_type": "execute_result"
    }
   ],
   "source": [
    "from math import pi\n",
    "cos(pi) + 1.0"
   ]
  },
  {
   "cell_type": "markdown",
   "id": "94aad8fe-91d8-4e82-b50f-eb07c74e2615",
   "metadata": {},
   "source": [
    "Unfortunately, we still cannot correctly trace the very similar expression `1.0 + cos(pi)`:"
   ]
  },
  {
   "cell_type": "code",
   "execution_count": 14,
   "id": "77312b89-4e3e-41d1-b902-7c7d20ab3af9",
   "metadata": {},
   "outputs": [
    {
     "name": "stdout",
     "output_type": "stream",
     "text": [
      "trace: cos(3.141592653589793)\n"
     ]
    },
    {
     "data": {
      "text/plain": [
       "0.0"
      ]
     },
     "execution_count": 14,
     "metadata": {},
     "output_type": "execute_result"
    }
   ],
   "source": [
    "1.0 + cos(pi)"
   ]
  },
  {
   "cell_type": "markdown",
   "id": "84e3dbf7-e288-4b74-aedf-e496513a1350",
   "metadata": {},
   "source": [
    "Indeed, it is the `__add__` method of `1.0`, an instance of `float`, that is called; thus, this call is not traced. \n",
    "To successfully handle this type of call, we need to ... make it fail! \n",
    "The method called to perform the sum so far entrusts the operation to the `__add__` method of 1.0 \n",
    "because this object knows how to handle the operation, as it's \n",
    "about adding itself with another instance (deriving) of float."
   ]
  },
  {
   "cell_type": "markdown",
   "id": "64052c65-cbd6-46bc-90b5-e5911fb0712c",
   "metadata": {},
   "source": [
    "If we ensure that the left operand is unable to handle this operation, it will be delegated to the right operand and the `__radd__` method; for this purpose, we simply replace `Float`, a numeric type, with `Node`, a class that contains (encapsulates) a numerical value:\n"
   ]
  },
  {
   "cell_type": "code",
   "execution_count": 15,
   "id": "b0181ea6-9941-453d-a91d-59100bf0d15e",
   "metadata": {},
   "outputs": [],
   "source": [
    "class Node:\n",
    "    def __init__(self, value):\n",
    "        self.value = value"
   ]
  },
  {
   "cell_type": "markdown",
   "id": "0df43ae5-8f6a-4086-a9b2-38bafa3cc67d",
   "metadata": {},
   "source": [
    "We won't dwell on this first version of `Node`. It's named like that because it will represent a node in a computation graph. Instead of displaying the operations performed on the standard output, we will record the operations each variable undergoes and how they are organized; each node resulting from an operation must remember which operation was applied and what the operation's arguments were (themselves nodes). To support this approach, `Node` becomes:"
   ]
  },
  {
   "cell_type": "code",
   "execution_count": 16,
   "id": "438b2c68-1303-41ae-bf5f-7bef7cdab8b8",
   "metadata": {},
   "outputs": [],
   "source": [
    "class Node:\n",
    "    def __init__(self, value, function=None, *args):\n",
    "        self.value = value\n",
    "        self.function = function\n",
    "        self.args = args"
   ]
  },
  {
   "cell_type": "markdown",
   "id": "3649fe05-42b9-475a-878e-354401715264",
   "metadata": {},
   "source": [
    "We then need to make the usual operations compatible with node creation; \n",
    "by examining the function's arguments, we must decide if it's in \"normal\" mode \n",
    "(receiving numerical values, producing numerical values) or tracing calculations. \n",
    "For example:"
   ]
  },
  {
   "cell_type": "code",
   "execution_count": 17,
   "id": "fd479c14-661d-4ba7-93f1-676178d11f55",
   "metadata": {},
   "outputs": [],
   "source": [
    "def cos(x):\n",
    "    if isinstance(x, Node):\n",
    "        cos_x_value = math.cos(x.value)\n",
    "        cos_x = Node(cos_x_value, cos, x)\n",
    "        return cos_x\n",
    "    else:\n",
    "        return math.cos(x) "
   ]
  },
  {
   "cell_type": "markdown",
   "id": "42436a8a-88ad-4ac9-b47c-a1a03a99e09e",
   "metadata": {},
   "source": [
    "or"
   ]
  },
  {
   "cell_type": "code",
   "execution_count": 18,
   "id": "599e0c56-b6f4-4b30-b398-afacfa47633a",
   "metadata": {},
   "outputs": [],
   "source": [
    "def add(x, y):\n",
    "    if isinstance(x, Node) or isinstance(y, Node):\n",
    "        if not isinstance(x, Node):\n",
    "            x = Node(x)\n",
    "        if not isinstance(y, Node):\n",
    "            y = Node(y)\n",
    "        add_x_y_value = x.value + y.value\n",
    "        return Node(add_x_y_value, add, x, y)\n",
    "    else:\n",
    "        return x + y"
   ]
  },
  {
   "cell_type": "markdown",
   "id": "c9d7240b-cda7-4ce5-8556-e7b42428bd05",
   "metadata": {},
   "source": [
    "The add function probably won't be used directly but called using the + operator; \n",
    "therefore, it must allow us to define the `__add__` and `__radd__` methods:"
   ]
  },
  {
   "cell_type": "code",
   "execution_count": 19,
   "id": "62c5f38e-e15e-4676-9419-f8fc8217b43a",
   "metadata": {},
   "outputs": [],
   "source": [
    "Node.__add__ = add\n",
    "Node.__radd__ = add"
   ]
  },
  {
   "cell_type": "markdown",
   "id": "1a79bc29-bc95-4679-b631-cee8cf1a0920",
   "metadata": {},
   "source": [
    "We notice many similarities between the two codes; \n",
    "rather than continuing this process for all the functions we will need, \n",
    "at the expense of abstraction effort, \n",
    "it would be possible to define a function that automatically performs this transformation. \n",
    "This function is a higher-order function because it takes a function (the original numerical function) \n",
    "as an argument and returns a new function compatible with node management. \n",
    "We can ignore its implementation on first reading."
   ]
  },
  {
   "cell_type": "code",
   "execution_count": 20,
   "id": "0962a6f7-08c7-4b2b-841c-eea2c07ab1c1",
   "metadata": {},
   "outputs": [],
   "source": [
    "def autodiff(function):\n",
    "    def autodiff_function(*args):\n",
    "        if any([isinstance(arg, Node) for arg in args]):\n",
    "            node_args = []\n",
    "            values = []\n",
    "            for arg in args:\n",
    "                if isinstance(arg, Node):\n",
    "                    node_args.append(arg)\n",
    "                    values.append(arg.value)\n",
    "                else:\n",
    "                    node_args.append(Node(arg)) \n",
    "                    values.append(arg)\n",
    "            output_value = function(*values)\n",
    "            output_node = Node(\n",
    "               output_value, autodiff_function, *node_args\n",
    "            )\n",
    "            return output_node\n",
    "        else:\n",
    "            return function(*args)        \n",
    "    autodiff_function.__qualname__ = function.__qualname__\n",
    "    return autodiff_function"
   ]
  },
  {
   "cell_type": "markdown",
   "id": "4380901f-2712-4432-aae8-a604c0adffad",
   "metadata": {},
   "source": [
    "Despite its apparent complexity, using this function is simple; \n",
    "thus, to make the `sin` function and the `*` operator compatible with node management, \n",
    "all we need to do is:"
   ]
  },
  {
   "cell_type": "code",
   "execution_count": 21,
   "id": "01bea204-925e-4a77-a295-4533f9fce757",
   "metadata": {},
   "outputs": [],
   "source": [
    "sin = autodiff(math.sin)"
   ]
  },
  {
   "cell_type": "markdown",
   "id": "53478b72-f8a4-4892-bfd4-d2479f9122fe",
   "metadata": {},
   "source": [
    "and"
   ]
  },
  {
   "cell_type": "code",
   "execution_count": 22,
   "id": "55c4a13f-3df4-4f76-8e0f-32c4d7ec3f93",
   "metadata": {},
   "outputs": [],
   "source": [
    "def multiply(x, y):\n",
    "    return x * y\n",
    "multiply = autodiff(multiply)\n",
    "Node.__mul__ = Node.__rmul__ = multiply"
   ]
  },
  {
   "cell_type": "markdown",
   "id": "c85442b6-a9d0-427c-8dbb-f25b615965fa",
   "metadata": {},
   "source": [
    "which is considerably faster and more readable than the approach taken for `cos` and `+`; \n",
    "but once again, the result is the same."
   ]
  },
  {
   "cell_type": "markdown",
   "id": "c58ff36a-8237-44c4-adca-d41463704ef4",
   "metadata": {},
   "source": [
    "It's now possible to implement the tracer. \n",
    "This function encapsulates the arguments of the function to trace into nodes, \n",
    "then calls the function and returns the node associated with the value returned by the function:"
   ]
  },
  {
   "cell_type": "code",
   "execution_count": 23,
   "id": "d18e16ce-c903-4b41-8d47-0557806272d3",
   "metadata": {},
   "outputs": [],
   "source": [
    "def trace(f, args):\n",
    "    args = [Node(arg) for arg in args]\n",
    "    end_node = f(*args)\n",
    "    return end_node"
   ]
  },
  {
   "cell_type": "markdown",
   "id": "1fba01fc-4769-4921-9fc4-f084b55932b7",
   "metadata": {},
   "source": [
    "To verify that everything is working as expected, let's ensure we display a readable and friendly representation of the node contents as a string:"
   ]
  },
  {
   "cell_type": "code",
   "execution_count": 24,
   "id": "99ddb523-225e-4067-96fc-2145f4d362cf",
   "metadata": {},
   "outputs": [],
   "source": [
    "def node_str(node):\n",
    "    if node.function is None:\n",
    "        return str(node.value)\n",
    "    else:\n",
    "        function_name = node.function.__qualname__\n",
    "        args_str = \", \".join(str(arg) for arg in node.args)\n",
    "        return f\"{function_name}({args_str})\""
   ]
  },
  {
   "cell_type": "markdown",
   "id": "7795f258-8c3f-41e6-a33a-708ed3e6e455",
   "metadata": {},
   "source": [
    "Then, let's make sure it's used when invoking the `print` function, rather than the standard display:"
   ]
  },
  {
   "cell_type": "code",
   "execution_count": 25,
   "id": "b070d3c4-c9a5-4f88-8757-c22c309924b6",
   "metadata": {},
   "outputs": [],
   "source": [
    "Node.__str__ = node_str"
   ]
  },
  {
   "cell_type": "markdown",
   "id": "8a489705-5254-421d-9b2a-3f5ec087279a",
   "metadata": {},
   "source": [
    "We complete this description with a second representation, more explicit but also more verbose:"
   ]
  },
  {
   "cell_type": "code",
   "execution_count": 26,
   "id": "472ba002-5402-4c15-b57f-8eeca0f56041",
   "metadata": {},
   "outputs": [],
   "source": [
    "def node_repr(node):\n",
    "    reprs = [repr(node.value)]\n",
    "    if node.function is not None:\n",
    "        reprs.append(node.function.__qualname__)\n",
    "    if node.args:\n",
    "        reprs.extend([repr(arg) for arg in node.args])\n",
    "    args_repr = \", \".join(reprs)\n",
    "    return f\"Node({args_repr})\"\n",
    "Node.__repr__ = node_repr"
   ]
  },
  {
   "cell_type": "markdown",
   "id": "595400c6-69a0-496a-829c-0e5f9578d4b4",
   "metadata": {},
   "source": [
    "We're ready to do our verification:"
   ]
  },
  {
   "cell_type": "code",
   "execution_count": 27,
   "id": "d658738c-fe9f-4436-b371-e8346737c575",
   "metadata": {},
   "outputs": [
    {
     "data": {
      "text/plain": [
       "Node(0.0, add, Node(-1.0, cos, Node(3.141592653589793)), Node(1.0))"
      ]
     },
     "execution_count": 27,
     "metadata": {},
     "output_type": "execute_result"
    }
   ],
   "source": [
    "def f(x):\n",
    "    return 1.0 + cos(x)\n",
    "\n",
    "end = trace(f, [pi])\n",
    "end"
   ]
  },
  {
   "cell_type": "code",
   "execution_count": 28,
   "id": "7e2bb129-6ce0-47d3-8df1-a2b0c77b4dd5",
   "metadata": {},
   "outputs": [
    {
     "name": "stdout",
     "output_type": "stream",
     "text": [
      "add(cos(3.141592653589793), 1.0)\n"
     ]
    }
   ],
   "source": [
    "print(end)"
   ]
  },
  {
   "cell_type": "markdown",
   "id": "cd7be494-eca2-4297-9b58-cd231c23b7e8",
   "metadata": {},
   "source": [
    "The result is read as follows: the calculation of `f(pi)` produces the value `0.0`, \n",
    "resulting from the addition of `-1.0`, calculated as `cos(3.141592653589793)`, \n",
    "and the constant `1.0`. So, this seems correct!"
   ]
  },
  {
   "cell_type": "markdown",
   "id": "00c0b447-84aa-4d59-b02c-6b75c92ab030",
   "metadata": {},
   "source": [
    "Another example, with two arguments, just for good measure:"
   ]
  },
  {
   "cell_type": "code",
   "execution_count": 29,
   "id": "30e54c02-d026-483e-bf30-efdd0e845e97",
   "metadata": {},
   "outputs": [
    {
     "data": {
      "text/plain": [
       "Node(3.0, multiply, Node(1.0), Node(3.0, add, Node(1.0), Node(2.0)))"
      ]
     },
     "execution_count": 29,
     "metadata": {},
     "output_type": "execute_result"
    }
   ],
   "source": [
    "def f(x, y):\n",
    "    return x * (x + y)\n",
    "\n",
    "t = trace(f, [1.0, 2.0])\n",
    "t"
   ]
  },
  {
   "cell_type": "code",
   "execution_count": 30,
   "id": "007cbe07-1e84-44c6-bfe9-cfef0d4c5652",
   "metadata": {},
   "outputs": [
    {
     "name": "stdout",
     "output_type": "stream",
     "text": [
      "multiply(1.0, add(1.0, 2.0))\n"
     ]
    }
   ],
   "source": [
    "print(t)"
   ]
  },
  {
   "cell_type": "markdown",
   "id": "9037c629-4720-4644-b864-16598a5620b6",
   "metadata": {},
   "source": [
    "## Visualization"
   ]
  },
  {
   "cell_type": "code",
   "execution_count": 31,
   "id": "55fc7f00-2f03-4194-b512-15c2ef745fcf",
   "metadata": {},
   "outputs": [],
   "source": [
    "import graphviz  \n",
    "\n",
    "def graph(end_node):\n",
    "    dot = graphviz.Digraph()\n",
    "    todo = [end_node]\n",
    "    while todo:\n",
    "        node = todo.pop()\n",
    "        id_ = str(id(node))\n",
    "        label = node.function.__qualname__ if node.function else str(node.value) \n",
    "        dot.node(id_, label)\n",
    "        for arg in node.args:\n",
    "            dot.node(str(id(arg)), node.function.__qualname__ or str(node.value))\n",
    "            dot.edge(id_, str(id(arg)))\n",
    "        todo.extend(node.args)\n",
    "    return dot"
   ]
  },
  {
   "cell_type": "code",
   "execution_count": 32,
   "id": "0dd7b770-e367-4947-9a6c-2d934e85a8e6",
   "metadata": {},
   "outputs": [
    {
     "data": {
      "image/svg+xml": [
       "<?xml version=\"1.0\" encoding=\"UTF-8\" standalone=\"no\"?>\n",
       "<!DOCTYPE svg PUBLIC \"-//W3C//DTD SVG 1.1//EN\"\n",
       " \"http://www.w3.org/Graphics/SVG/1.1/DTD/svg11.dtd\">\n",
       "<!-- Generated by graphviz version 9.0.0 (20231125.0833)\n",
       " -->\n",
       "<!-- Pages: 1 -->\n",
       "<svg width=\"134pt\" height=\"188pt\"\n",
       " viewBox=\"0.00 0.00 134.01 188.00\" xmlns=\"http://www.w3.org/2000/svg\" xmlns:xlink=\"http://www.w3.org/1999/xlink\">\n",
       "<g id=\"graph0\" class=\"graph\" transform=\"scale(1 1) rotate(0) translate(4 184)\">\n",
       "<polygon fill=\"white\" stroke=\"none\" points=\"-4,4 -4,-184 130.01,-184 130.01,4 -4,4\"/>\n",
       "<!-- 139764277039168 -->\n",
       "<g id=\"node1\" class=\"node\">\n",
       "<title>139764277039168</title>\n",
       "<ellipse fill=\"none\" stroke=\"black\" cx=\"56.01\" cy=\"-162\" rx=\"52.79\" ry=\"18\"/>\n",
       "<text text-anchor=\"middle\" x=\"56.01\" y=\"-157.32\" font-family=\"Times,serif\" font-size=\"14.00\">multiply</text>\n",
       "</g>\n",
       "<!-- 139764277039744 -->\n",
       "<g id=\"node2\" class=\"node\">\n",
       "<title>139764277039744</title>\n",
       "<ellipse fill=\"none\" stroke=\"black\" cx=\"27.01\" cy=\"-18\" rx=\"27.01\" ry=\"18\"/>\n",
       "<text text-anchor=\"middle\" x=\"27.01\" y=\"-13.32\" font-family=\"Times,serif\" font-size=\"14.00\">1.0</text>\n",
       "</g>\n",
       "<!-- 139764277039168&#45;&gt;139764277039744 -->\n",
       "<g id=\"edge1\" class=\"edge\">\n",
       "<title>139764277039168&#45;&gt;139764277039744</title>\n",
       "<path fill=\"none\" stroke=\"black\" d=\"M52.45,-143.59C47.53,-119.5 38.6,-75.75 32.73,-47.03\"/>\n",
       "<polygon fill=\"black\" stroke=\"black\" points=\"36.23,-46.69 30.8,-37.59 29.38,-48.09 36.23,-46.69\"/>\n",
       "</g>\n",
       "<!-- 139764276827472 -->\n",
       "<g id=\"node3\" class=\"node\">\n",
       "<title>139764276827472</title>\n",
       "<ellipse fill=\"none\" stroke=\"black\" cx=\"85.01\" cy=\"-90\" rx=\"29.64\" ry=\"18\"/>\n",
       "<text text-anchor=\"middle\" x=\"85.01\" y=\"-85.33\" font-family=\"Times,serif\" font-size=\"14.00\">add</text>\n",
       "</g>\n",
       "<!-- 139764277039168&#45;&gt;139764276827472 -->\n",
       "<g id=\"edge2\" class=\"edge\">\n",
       "<title>139764277039168&#45;&gt;139764276827472</title>\n",
       "<path fill=\"none\" stroke=\"black\" d=\"M63.18,-143.7C66.38,-135.95 70.24,-126.64 73.81,-118.02\"/>\n",
       "<polygon fill=\"black\" stroke=\"black\" points=\"76.95,-119.6 77.54,-109.02 70.48,-116.92 76.95,-119.6\"/>\n",
       "</g>\n",
       "<!-- 139764276827472&#45;&gt;139764277039744 -->\n",
       "<g id=\"edge3\" class=\"edge\">\n",
       "<title>139764276827472&#45;&gt;139764277039744</title>\n",
       "<path fill=\"none\" stroke=\"black\" d=\"M72.13,-73.46C64.67,-64.46 55.12,-52.93 46.73,-42.81\"/>\n",
       "<polygon fill=\"black\" stroke=\"black\" points=\"49.49,-40.64 40.41,-35.18 44.1,-45.11 49.49,-40.64\"/>\n",
       "</g>\n",
       "<!-- 139764277036864 -->\n",
       "<g id=\"node4\" class=\"node\">\n",
       "<title>139764277036864</title>\n",
       "<ellipse fill=\"none\" stroke=\"black\" cx=\"99.01\" cy=\"-18\" rx=\"27.01\" ry=\"18\"/>\n",
       "<text text-anchor=\"middle\" x=\"99.01\" y=\"-13.32\" font-family=\"Times,serif\" font-size=\"14.00\">2.0</text>\n",
       "</g>\n",
       "<!-- 139764276827472&#45;&gt;139764277036864 -->\n",
       "<g id=\"edge4\" class=\"edge\">\n",
       "<title>139764276827472&#45;&gt;139764277036864</title>\n",
       "<path fill=\"none\" stroke=\"black\" d=\"M88.47,-71.7C89.94,-64.32 91.7,-55.52 93.36,-47.25\"/>\n",
       "<polygon fill=\"black\" stroke=\"black\" points=\"96.76,-48.08 95.29,-37.59 89.9,-46.71 96.76,-48.08\"/>\n",
       "</g>\n",
       "</g>\n",
       "</svg>\n"
      ],
      "text/plain": [
       "<graphviz.graphs.Digraph at 0x7f1d681aa180>"
      ]
     },
     "execution_count": 32,
     "metadata": {},
     "output_type": "execute_result"
    }
   ],
   "source": [
    "graph(t)"
   ]
  },
  {
   "cell_type": "code",
   "execution_count": 33,
   "id": "3aaacf94-e580-4b3e-9fac-645a9fe43c6a",
   "metadata": {},
   "outputs": [],
   "source": [
    "def graph_function(f, *args):\n",
    "    start_nodes = [Node(arg) for arg in args]\n",
    "    end_node = f(*start_nodes)\n",
    "    return graph(end_node)"
   ]
  },
  {
   "cell_type": "code",
   "execution_count": 34,
   "id": "6848bf53-2c82-4d8f-b508-dbe8f5c8fe3f",
   "metadata": {},
   "outputs": [
    {
     "data": {
      "image/svg+xml": [
       "<?xml version=\"1.0\" encoding=\"UTF-8\" standalone=\"no\"?>\n",
       "<!DOCTYPE svg PUBLIC \"-//W3C//DTD SVG 1.1//EN\"\n",
       " \"http://www.w3.org/Graphics/SVG/1.1/DTD/svg11.dtd\">\n",
       "<!-- Generated by graphviz version 9.0.0 (20231125.0833)\n",
       " -->\n",
       "<!-- Pages: 1 -->\n",
       "<svg width=\"310pt\" height=\"332pt\"\n",
       " viewBox=\"0.00 0.00 309.79 332.00\" xmlns=\"http://www.w3.org/2000/svg\" xmlns:xlink=\"http://www.w3.org/1999/xlink\">\n",
       "<g id=\"graph0\" class=\"graph\" transform=\"scale(1 1) rotate(0) translate(4 328)\">\n",
       "<polygon fill=\"white\" stroke=\"none\" points=\"-4,4 -4,-328 305.79,-328 305.79,4 -4,4\"/>\n",
       "<!-- 139764277355552 -->\n",
       "<g id=\"node1\" class=\"node\">\n",
       "<title>139764277355552</title>\n",
       "<ellipse fill=\"none\" stroke=\"black\" cx=\"151.79\" cy=\"-306\" rx=\"29.64\" ry=\"18\"/>\n",
       "<text text-anchor=\"middle\" x=\"151.79\" y=\"-301.32\" font-family=\"Times,serif\" font-size=\"14.00\">add</text>\n",
       "</g>\n",
       "<!-- 139764277354640 -->\n",
       "<g id=\"node2\" class=\"node\">\n",
       "<title>139764277354640</title>\n",
       "<ellipse fill=\"none\" stroke=\"black\" cx=\"114.79\" cy=\"-234\" rx=\"29.64\" ry=\"18\"/>\n",
       "<text text-anchor=\"middle\" x=\"114.79\" y=\"-229.32\" font-family=\"Times,serif\" font-size=\"14.00\">add</text>\n",
       "</g>\n",
       "<!-- 139764277355552&#45;&gt;139764277354640 -->\n",
       "<g id=\"edge1\" class=\"edge\">\n",
       "<title>139764277355552&#45;&gt;139764277354640</title>\n",
       "<path fill=\"none\" stroke=\"black\" d=\"M143.02,-288.41C138.78,-280.39 133.59,-270.57 128.82,-261.54\"/>\n",
       "<polygon fill=\"black\" stroke=\"black\" points=\"131.97,-260.01 124.2,-252.81 125.78,-263.28 131.97,-260.01\"/>\n",
       "</g>\n",
       "<!-- 139764277356080 -->\n",
       "<g id=\"node3\" class=\"node\">\n",
       "<title>139764277356080</title>\n",
       "<ellipse fill=\"none\" stroke=\"black\" cx=\"189.79\" cy=\"-234\" rx=\"27.01\" ry=\"18\"/>\n",
       "<text text-anchor=\"middle\" x=\"189.79\" y=\"-229.32\" font-family=\"Times,serif\" font-size=\"14.00\">1.0</text>\n",
       "</g>\n",
       "<!-- 139764277355552&#45;&gt;139764277356080 -->\n",
       "<g id=\"edge2\" class=\"edge\">\n",
       "<title>139764277355552&#45;&gt;139764277356080</title>\n",
       "<path fill=\"none\" stroke=\"black\" d=\"M160.79,-288.41C165.15,-280.39 170.48,-270.57 175.38,-261.54\"/>\n",
       "<polygon fill=\"black\" stroke=\"black\" points=\"178.43,-263.26 180.12,-252.8 172.28,-259.92 178.43,-263.26\"/>\n",
       "</g>\n",
       "<!-- 139764337257328 -->\n",
       "<g id=\"node4\" class=\"node\">\n",
       "<title>139764337257328</title>\n",
       "<ellipse fill=\"none\" stroke=\"black\" cx=\"52.79\" cy=\"-90\" rx=\"52.79\" ry=\"18\"/>\n",
       "<text text-anchor=\"middle\" x=\"52.79\" y=\"-85.33\" font-family=\"Times,serif\" font-size=\"14.00\">multiply</text>\n",
       "</g>\n",
       "<!-- 139764277354640&#45;&gt;139764337257328 -->\n",
       "<g id=\"edge3\" class=\"edge\">\n",
       "<title>139764277354640&#45;&gt;139764337257328</title>\n",
       "<path fill=\"none\" stroke=\"black\" d=\"M107.43,-216.15C96.91,-192.05 77.43,-147.45 64.8,-118.51\"/>\n",
       "<polygon fill=\"black\" stroke=\"black\" points=\"68.14,-117.42 60.93,-109.65 61.73,-120.22 68.14,-117.42\"/>\n",
       "</g>\n",
       "<!-- 139764277357040 -->\n",
       "<g id=\"node5\" class=\"node\">\n",
       "<title>139764277357040</title>\n",
       "<ellipse fill=\"none\" stroke=\"black\" cx=\"176.79\" cy=\"-162\" rx=\"52.79\" ry=\"18\"/>\n",
       "<text text-anchor=\"middle\" x=\"176.79\" y=\"-157.32\" font-family=\"Times,serif\" font-size=\"14.00\">multiply</text>\n",
       "</g>\n",
       "<!-- 139764277354640&#45;&gt;139764277357040 -->\n",
       "<g id=\"edge4\" class=\"edge\">\n",
       "<title>139764277354640&#45;&gt;139764277357040</title>\n",
       "<path fill=\"none\" stroke=\"black\" d=\"M128.24,-217.81C135.95,-209.1 145.83,-197.96 154.65,-187.99\"/>\n",
       "<polygon fill=\"black\" stroke=\"black\" points=\"157.04,-190.57 161.06,-180.76 151.8,-185.93 157.04,-190.57\"/>\n",
       "</g>\n",
       "<!-- 139764277045840 -->\n",
       "<g id=\"node8\" class=\"node\">\n",
       "<title>139764277045840</title>\n",
       "<ellipse fill=\"none\" stroke=\"black\" cx=\"52.79\" cy=\"-18\" rx=\"27.01\" ry=\"18\"/>\n",
       "<text text-anchor=\"middle\" x=\"52.79\" y=\"-13.32\" font-family=\"Times,serif\" font-size=\"14.00\">3.0</text>\n",
       "</g>\n",
       "<!-- 139764337257328&#45;&gt;139764277045840 -->\n",
       "<g id=\"edge9\" class=\"edge\">\n",
       "<title>139764337257328&#45;&gt;139764277045840</title>\n",
       "<path fill=\"none\" stroke=\"black\" d=\"M46.87,-71.7C46.1,-64.21 45.86,-55.26 46.16,-46.88\"/>\n",
       "<polygon fill=\"black\" stroke=\"black\" points=\"49.64,-47.35 46.84,-37.13 42.65,-46.87 49.64,-47.35\"/>\n",
       "</g>\n",
       "<!-- 139764337257328&#45;&gt;139764277045840 -->\n",
       "<g id=\"edge10\" class=\"edge\">\n",
       "<title>139764337257328&#45;&gt;139764277045840</title>\n",
       "<path fill=\"none\" stroke=\"black\" d=\"M58.7,-71.7C59.47,-64.21 59.71,-55.26 59.41,-46.88\"/>\n",
       "<polygon fill=\"black\" stroke=\"black\" points=\"62.92,-46.87 58.73,-37.13 55.93,-47.35 62.92,-46.87\"/>\n",
       "</g>\n",
       "<!-- 139764277041664 -->\n",
       "<g id=\"node6\" class=\"node\">\n",
       "<title>139764277041664</title>\n",
       "<ellipse fill=\"none\" stroke=\"black\" cx=\"176.79\" cy=\"-90\" rx=\"52.79\" ry=\"18\"/>\n",
       "<text text-anchor=\"middle\" x=\"176.79\" y=\"-85.33\" font-family=\"Times,serif\" font-size=\"14.00\">multiply</text>\n",
       "</g>\n",
       "<!-- 139764277357040&#45;&gt;139764277041664 -->\n",
       "<g id=\"edge5\" class=\"edge\">\n",
       "<title>139764277357040&#45;&gt;139764277041664</title>\n",
       "<path fill=\"none\" stroke=\"black\" d=\"M176.79,-143.7C176.79,-136.41 176.79,-127.73 176.79,-119.54\"/>\n",
       "<polygon fill=\"black\" stroke=\"black\" points=\"180.29,-119.62 176.79,-109.62 173.29,-119.62 180.29,-119.62\"/>\n",
       "</g>\n",
       "<!-- 139764277038304 -->\n",
       "<g id=\"node7\" class=\"node\">\n",
       "<title>139764277038304</title>\n",
       "<ellipse fill=\"none\" stroke=\"black\" cx=\"274.79\" cy=\"-90\" rx=\"27.01\" ry=\"18\"/>\n",
       "<text text-anchor=\"middle\" x=\"274.79\" y=\"-85.33\" font-family=\"Times,serif\" font-size=\"14.00\">4.0</text>\n",
       "</g>\n",
       "<!-- 139764277357040&#45;&gt;139764277038304 -->\n",
       "<g id=\"edge6\" class=\"edge\">\n",
       "<title>139764277357040&#45;&gt;139764277038304</title>\n",
       "<path fill=\"none\" stroke=\"black\" d=\"M198.54,-145.46C213.01,-135.12 232.14,-121.46 247.62,-110.41\"/>\n",
       "<polygon fill=\"black\" stroke=\"black\" points=\"249.37,-113.45 255.48,-104.79 245.3,-107.76 249.37,-113.45\"/>\n",
       "</g>\n",
       "<!-- 139764277041664&#45;&gt;139764277045840 -->\n",
       "<g id=\"edge7\" class=\"edge\">\n",
       "<title>139764277041664&#45;&gt;139764277045840</title>\n",
       "<path fill=\"none\" stroke=\"black\" d=\"M150.19,-73.98C130.34,-62.78 103.22,-47.47 82.63,-35.85\"/>\n",
       "<polygon fill=\"black\" stroke=\"black\" points=\"84.57,-32.92 74.14,-31.06 81.13,-39.02 84.57,-32.92\"/>\n",
       "</g>\n",
       "<!-- 139764277356848 -->\n",
       "<g id=\"node9\" class=\"node\">\n",
       "<title>139764277356848</title>\n",
       "<ellipse fill=\"none\" stroke=\"black\" cx=\"176.79\" cy=\"-18\" rx=\"27.01\" ry=\"18\"/>\n",
       "<text text-anchor=\"middle\" x=\"176.79\" y=\"-13.32\" font-family=\"Times,serif\" font-size=\"14.00\">2.0</text>\n",
       "</g>\n",
       "<!-- 139764277041664&#45;&gt;139764277356848 -->\n",
       "<g id=\"edge8\" class=\"edge\">\n",
       "<title>139764277041664&#45;&gt;139764277356848</title>\n",
       "<path fill=\"none\" stroke=\"black\" d=\"M176.79,-71.7C176.79,-64.41 176.79,-55.73 176.79,-47.54\"/>\n",
       "<polygon fill=\"black\" stroke=\"black\" points=\"180.29,-47.62 176.79,-37.62 173.29,-47.62 180.29,-47.62\"/>\n",
       "</g>\n",
       "</g>\n",
       "</svg>\n"
      ],
      "text/plain": [
       "<graphviz.graphs.Digraph at 0x7f1d681aa330>"
      ]
     },
     "execution_count": 34,
     "metadata": {},
     "output_type": "execute_result"
    }
   ],
   "source": [
    "def f(x, y):\n",
    "    return x * x + 2.0 * x * y + 1.0\n",
    "\n",
    "graph_function(f, 3.0, 4.0)"
   ]
  },
  {
   "cell_type": "markdown",
   "id": "2e381e5a-bc01-4f11-ac96-13afbdb3d2e6",
   "metadata": {},
   "source": [
    "## Differential of Elementary Functions\n",
    "\n",
    "To leverage the computation graph we can now determine, we need to declare the differentials \n",
    "of primitive operations and functions in a \"registry\" of differentials, \n",
    "indexed by the function to differentiate."
   ]
  },
  {
   "cell_type": "code",
   "execution_count": 35,
   "id": "9dc0c6d2-f62b-4679-9e32-a31a47d88217",
   "metadata": {},
   "outputs": [],
   "source": [
    "differential = {}"
   ]
  },
  {
   "cell_type": "markdown",
   "id": "8adedecf-75c8-44c1-8b93-eb83e84ec842",
   "metadata": {},
   "source": [
    "For addition and multiplication, we utilize the identities $d(x+y) = dx + dy$ and $d(x \\times y) = x \\times dy + dx \\times y$:"
   ]
  },
  {
   "cell_type": "code",
   "execution_count": 36,
   "id": "f41ad857-17f8-4b3a-94cc-19f0bd8c5e35",
   "metadata": {},
   "outputs": [],
   "source": [
    "def d_add(x, y):\n",
    "    return add\n",
    "\n",
    "differential[add] = d_add\n",
    "\n",
    "def d_multiply(x, y):\n",
    "    def d_multiply_xy(dx, dy):\n",
    "        return x * dy + dx * y\n",
    "    return d_multiply_xy\n",
    "\n",
    "differential[multiply] = d_multiply"
   ]
  },
  {
   "cell_type": "markdown",
   "id": "b18da18d-7938-4e8a-87f6-4e08566e8aee",
   "metadata": {},
   "source": [
    "For a function such as `cos`, we use the identity $d (\\cos(x)) = -\\sin(x) dx$:"
   ]
  },
  {
   "cell_type": "code",
   "execution_count": 37,
   "id": "b01d9723-7be0-4b53-914e-e728ab57713c",
   "metadata": {},
   "outputs": [],
   "source": [
    "def d_cos(x):\n",
    "    def d_cos_x(dx):\n",
    "        return - sin(x) * dx\n",
    "    return d_cos_x\n",
    "\n",
    "differential[cos] = d_cos"
   ]
  },
  {
   "cell_type": "markdown",
   "id": "f44a8020-f1e4-4dff-8b3b-74bcd0712e6c",
   "metadata": {},
   "source": [
    "But this is just a particular case of the identity $d (f(x)) = f'(x) dx$. \n",
    "We can equip ourselves with a function that will compute the differential $df$ from the derivative $f'$:"
   ]
  },
  {
   "cell_type": "code",
   "execution_count": 38,
   "id": "b20d6953-5657-4880-9785-bf3b2d3dc4f9",
   "metadata": {},
   "outputs": [],
   "source": [
    "def d_from_deriv(g):\n",
    "    def d_f(x):\n",
    "        def d_f_x(dx):\n",
    "            return g(x) * dx\n",
    "        return d_f_x\n",
    "    return d_f"
   ]
  },
  {
   "cell_type": "markdown",
   "id": "4c6f28c1-8bfa-4bb9-8961-38638c020654",
   "metadata": {},
   "source": [
    "The declaration of differentials is thus simplified; for instance, from the identity $(\\sin x)' = \\cos x$, we have:"
   ]
  },
  {
   "cell_type": "code",
   "execution_count": 39,
   "id": "e23a1237-2ff4-4c8c-99bd-c694e05b7e4b",
   "metadata": {},
   "outputs": [],
   "source": [
    "differential[sin] = d_from_deriv(cos)"
   ]
  },
  {
   "cell_type": "markdown",
   "id": "7db28541-7acb-4023-ac26-55ec2f2180dd",
   "metadata": {},
   "source": [
    "## Differential of Composite Functions\n",
    "\n",
    "To leverage the tracing of a function, we need to extract from the final node produced by this process all the upstream nodes, which represent the arguments used in the calculation of the final value. Then, to prepare for the calculation of the differential, we will order the nodes so that the arguments of a function always appear before the value it produces. The following implementation, relatively naive, accomplishes this operation:"
   ]
  },
  {
   "cell_type": "code",
   "execution_count": 40,
   "id": "4525d0f3-7ccd-4868-abec-6e4173ee450a",
   "metadata": {},
   "outputs": [],
   "source": [
    "def find_and_sort_nodes(end_node):\n",
    "    todo = [end_node]\n",
    "    nodes = []\n",
    "    while todo:\n",
    "        node = todo.pop()\n",
    "        nodes.append(node)\n",
    "        for parent in node.args:\n",
    "            if parent not in nodes + todo:\n",
    "                todo.append(parent) \n",
    "    done = []\n",
    "    while nodes:\n",
    "        for node in nodes[:]:\n",
    "            if all([parent in done for parent in node.args]):\n",
    "                done.append(node)\n",
    "                nodes.remove(node)\n",
    "    return done"
   ]
  },
  {
   "cell_type": "markdown",
   "id": "c91562b4-6363-4e8d-b97a-7a9cfbc43f1c",
   "metadata": {},
   "source": [
    "The calculation of the differential itself then consists of propagating the variation of the node arguments \n",
    "from node to node, based on the chain rule of differentiation; \n",
    "these intermediate variations are stored in the `d_value` attribute of the graph nodes."
   ]
  },
  {
   "cell_type": "code",
   "execution_count": 41,
   "id": "ac206c77-ae45-4cdc-990b-516a0fb4ab53",
   "metadata": {},
   "outputs": [],
   "source": [
    "def d(f):\n",
    "    def df(*args): # args=(x1, x2, ...)\n",
    "        start_nodes = [Node(arg) for arg in args]\n",
    "        end_node = f(*start_nodes)\n",
    "        if not isinstance(end_node, Node): # constant value\n",
    "            end_node = Node(end_node)\n",
    "        nodes = find_and_sort_nodes(end_node).copy()\n",
    "        def df_x(*d_args): # d_args = (d_x1, d_x2, ...)\n",
    "            for node in nodes:\n",
    "                if node in start_nodes:\n",
    "                    i = start_nodes.index(node)\n",
    "                    node.d_value = d_args[i]\n",
    "                elif node.function is None: # constant node\n",
    "                    node.d_value = 0.0\n",
    "                else:\n",
    "                    _d_f = differential[node.function]\n",
    "                    _args = node.args\n",
    "                    _args_values = [_node.value for _node in _args]\n",
    "                    _d_args = [_node.d_value for _node in _args]\n",
    "                    node.d_value = _d_f(*_args_values)(*_d_args)\n",
    "            return end_node.d_value\n",
    "        return df_x\n",
    "    return df"
   ]
  },
  {
   "cell_type": "markdown",
   "id": "4d5f41a6-b68a-4a72-8df0-1f58719c57bb",
   "metadata": {},
   "source": [
    "## Usage\n",
    "\n",
    "To simply leverage our differential calculation, we can deduce the derivative in the case of a function of a real variable; recall that we have $f'(x) = df(x) \\cdot 1$."
   ]
  },
  {
   "cell_type": "code",
   "execution_count": 42,
   "id": "2e3896b5-2525-4094-a4c9-7959b5459312",
   "metadata": {},
   "outputs": [],
   "source": [
    "def deriv(f):\n",
    "    df = d(f)\n",
    "    def deriv_f(x):\n",
    "        return df(x)(1.0)\n",
    "    return deriv_f"
   ]
  },
  {
   "cell_type": "markdown",
   "id": "6eff9d65-99bb-417c-bd47-9cd8ff158203",
   "metadata": {},
   "source": [
    "Let's verify that the behavior of these differentiation operators meets our expectations for single-variable functions; first, in the case of a constant function:"
   ]
  },
  {
   "cell_type": "code",
   "execution_count": 43,
   "id": "657e7fad-a6e7-469a-8839-beb7102eb661",
   "metadata": {},
   "outputs": [],
   "source": [
    "def f(x):\n",
    "    return pi\n",
    "\n",
    "g = deriv(f)"
   ]
  },
  {
   "cell_type": "code",
   "execution_count": 44,
   "id": "16bc7cae-4ee6-4a1e-9017-3a4120994048",
   "metadata": {},
   "outputs": [
    {
     "data": {
      "text/plain": [
       "0.0"
      ]
     },
     "execution_count": 44,
     "metadata": {},
     "output_type": "execute_result"
    }
   ],
   "source": [
    "g(0.0)"
   ]
  },
  {
   "cell_type": "code",
   "execution_count": 45,
   "id": "9c34dcdf-15e6-49cb-b480-26bfd792ecdd",
   "metadata": {},
   "outputs": [
    {
     "data": {
      "text/plain": [
       "0.0"
      ]
     },
     "execution_count": 45,
     "metadata": {},
     "output_type": "execute_result"
    }
   ],
   "source": [
    "g(1.0)"
   ]
  },
  {
   "cell_type": "code",
   "execution_count": 46,
   "id": "b10b1cf6-c616-465e-a318-d376fc0358a7",
   "metadata": {},
   "outputs": [
    {
     "data": {
      "text/plain": [
       "0.0"
      ]
     },
     "execution_count": 46,
     "metadata": {},
     "output_type": "execute_result"
    }
   ],
   "source": [
    "g(2.0)"
   ]
  },
  {
   "cell_type": "markdown",
   "id": "49f6a473-35cf-4f5d-90c9-4769f897306e",
   "metadata": {},
   "source": [
    "Then, in the case of an affine function:"
   ]
  },
  {
   "cell_type": "code",
   "execution_count": 47,
   "id": "cb6c28e1-76b5-47a0-b5e9-7734aba2f72b",
   "metadata": {},
   "outputs": [],
   "source": [
    "def f(x):\n",
    "    return 2.0 * x + 1.0\n",
    "\n",
    "g = deriv(f)"
   ]
  },
  {
   "cell_type": "code",
   "execution_count": 48,
   "id": "35ff9885-fdd0-4ab0-b229-60bca918253f",
   "metadata": {},
   "outputs": [
    {
     "data": {
      "text/plain": [
       "2.0"
      ]
     },
     "execution_count": 48,
     "metadata": {},
     "output_type": "execute_result"
    }
   ],
   "source": [
    "g(0.0)"
   ]
  },
  {
   "cell_type": "code",
   "execution_count": 49,
   "id": "3a96dfa5-e736-450b-81be-db2a7367346f",
   "metadata": {},
   "outputs": [
    {
     "data": {
      "text/plain": [
       "2.0"
      ]
     },
     "execution_count": 49,
     "metadata": {},
     "output_type": "execute_result"
    }
   ],
   "source": [
    "g(1.0)"
   ]
  },
  {
   "cell_type": "code",
   "execution_count": 50,
   "id": "07a7f42b-207a-4271-adf4-32fd7ab5e3ab",
   "metadata": {},
   "outputs": [
    {
     "data": {
      "text/plain": [
       "2.0"
      ]
     },
     "execution_count": 50,
     "metadata": {},
     "output_type": "execute_result"
    }
   ],
   "source": [
    "g(2.0)"
   ]
  },
  {
   "cell_type": "markdown",
   "id": "b0ec0ca1-17ea-4160-bdc7-28ec3013f705",
   "metadata": {},
   "source": [
    "And finally, in the case of a quadratic function:"
   ]
  },
  {
   "cell_type": "code",
   "execution_count": 51,
   "id": "ca137d51-d454-425a-9860-25ef3d0a34d6",
   "metadata": {},
   "outputs": [],
   "source": [
    "def f(x):\n",
    "    return x * x + 2 * x + 1\n",
    "\n",
    "g = deriv(f)"
   ]
  },
  {
   "cell_type": "code",
   "execution_count": 52,
   "id": "6c038091-4d86-4b71-9bb6-a5abc8cfa71d",
   "metadata": {},
   "outputs": [
    {
     "data": {
      "text/plain": [
       "2.0"
      ]
     },
     "execution_count": 52,
     "metadata": {},
     "output_type": "execute_result"
    }
   ],
   "source": [
    "g(0.0)"
   ]
  },
  {
   "cell_type": "code",
   "execution_count": 53,
   "id": "290c6bf4-e0f1-40ea-a7bf-1388b48de3ce",
   "metadata": {},
   "outputs": [
    {
     "data": {
      "text/plain": [
       "4.0"
      ]
     },
     "execution_count": 53,
     "metadata": {},
     "output_type": "execute_result"
    }
   ],
   "source": [
    "g(1.0)"
   ]
  },
  {
   "cell_type": "code",
   "execution_count": 54,
   "id": "2f627ddb-203c-4c26-9cae-e41bb5210a9d",
   "metadata": {},
   "outputs": [
    {
     "data": {
      "text/plain": [
       "6.0"
      ]
     },
     "execution_count": 54,
     "metadata": {},
     "output_type": "execute_result"
    }
   ],
   "source": [
    "g(2.0)"
   ]
  },
  {
   "cell_type": "markdown",
   "id": "32c37e60-aa7d-47b7-b794-6dd985d1a0e0",
   "metadata": {},
   "source": [
    "To conclude within this framework, \n",
    "let's test two functions using trigonometric functions `sin` and `cos`:"
   ]
  },
  {
   "cell_type": "code",
   "execution_count": 55,
   "id": "d182c392-b6b2-4575-abf3-97113ec1d154",
   "metadata": {},
   "outputs": [],
   "source": [
    "def f(x):\n",
    "    return cos(x) * cos(x) + sin(x) * sin(x)\n",
    "\n",
    "g = deriv(f)"
   ]
  },
  {
   "cell_type": "code",
   "execution_count": 56,
   "id": "2f04a2fe-1db0-48e7-8c9b-02664e8b181f",
   "metadata": {},
   "outputs": [
    {
     "data": {
      "text/plain": [
       "0.0"
      ]
     },
     "execution_count": 56,
     "metadata": {},
     "output_type": "execute_result"
    }
   ],
   "source": [
    "g(0.0)"
   ]
  },
  {
   "cell_type": "code",
   "execution_count": 57,
   "id": "b644c230-50ed-40d9-8594-f2fad9d0e37d",
   "metadata": {},
   "outputs": [
    {
     "data": {
      "text/plain": [
       "0.0"
      ]
     },
     "execution_count": 57,
     "metadata": {},
     "output_type": "execute_result"
    }
   ],
   "source": [
    "g(1.0)"
   ]
  },
  {
   "cell_type": "code",
   "execution_count": 58,
   "id": "27f09b3e-858f-4b48-b1cc-63321223ff6c",
   "metadata": {},
   "outputs": [
    {
     "data": {
      "text/plain": [
       "0.0"
      ]
     },
     "execution_count": 58,
     "metadata": {},
     "output_type": "execute_result"
    }
   ],
   "source": [
    "g(2.0)"
   ]
  },
  {
   "cell_type": "markdown",
   "id": "ecc63119-9af9-4029-8993-ae7afe39b9a7",
   "metadata": {},
   "source": [
    "In the general case, since our functions always yield real values, we can deduce the gradient of the differential:"
   ]
  },
  {
   "cell_type": "code",
   "execution_count": 59,
   "id": "0583a5f0-c94c-4823-84b7-3dadbf02d754",
   "metadata": {},
   "outputs": [],
   "source": [
    "def grad(f):\n",
    "    df = d(f)\n",
    "    def grad_f(*args):\n",
    "        n = len(args)\n",
    "        grad_f_x = n * [0.0]\n",
    "        df_x = df(*args)\n",
    "        for i in range(0, n):\n",
    "            e_i = n * [0.0]; e_i[i] = 1.0\n",
    "            grad_f_x[i] = df_x(*e_i)\n",
    "        return grad_f_x  \n",
    "    return grad_f"
   ]
  },
  {
   "cell_type": "markdown",
   "id": "bdf26af5-5bbf-443f-9e09-b793bd11b6c2",
   "metadata": {},
   "source": [
    "Similarly, constant, affine, and quadratic functions allow for elementary tests:"
   ]
  },
  {
   "cell_type": "code",
   "execution_count": 60,
   "id": "807a64ec-b8e0-4ec8-a897-069b90ea9653",
   "metadata": {},
   "outputs": [],
   "source": [
    "def f(x, y):\n",
    "    return 1.0"
   ]
  },
  {
   "cell_type": "code",
   "execution_count": 61,
   "id": "2cddd9ee-e413-4e60-a945-6ab7010e385f",
   "metadata": {},
   "outputs": [
    {
     "data": {
      "text/plain": [
       "[0.0, 0.0]"
      ]
     },
     "execution_count": 61,
     "metadata": {},
     "output_type": "execute_result"
    }
   ],
   "source": [
    "grad(f)(0.0, 0.0)"
   ]
  },
  {
   "cell_type": "code",
   "execution_count": 62,
   "id": "9aeb4605-5acc-47ee-a139-fe610e5884fa",
   "metadata": {},
   "outputs": [
    {
     "data": {
      "text/plain": [
       "[0.0, 0.0]"
      ]
     },
     "execution_count": 62,
     "metadata": {},
     "output_type": "execute_result"
    }
   ],
   "source": [
    "grad(f)(1.0, 2.0)"
   ]
  },
  {
   "cell_type": "code",
   "execution_count": 63,
   "id": "79dac569-f6d4-4521-9a3c-17d4075374ce",
   "metadata": {},
   "outputs": [],
   "source": [
    "def f(x, y):\n",
    "    return x + 2.0 * y + 1.0"
   ]
  },
  {
   "cell_type": "code",
   "execution_count": 64,
   "id": "99ba25d5-93af-4b5b-bfc1-dc228200eda9",
   "metadata": {},
   "outputs": [
    {
     "data": {
      "text/plain": [
       "[1.0, 2.0]"
      ]
     },
     "execution_count": 64,
     "metadata": {},
     "output_type": "execute_result"
    }
   ],
   "source": [
    "grad(f)(0.0, 0.0)"
   ]
  },
  {
   "cell_type": "code",
   "execution_count": 65,
   "id": "c54ceb1c-fdaa-4ff6-b42c-55b4303f5af6",
   "metadata": {},
   "outputs": [
    {
     "data": {
      "text/plain": [
       "[1.0, 2.0]"
      ]
     },
     "execution_count": 65,
     "metadata": {},
     "output_type": "execute_result"
    }
   ],
   "source": [
    "grad(f)(1.0, 2.0)"
   ]
  },
  {
   "cell_type": "code",
   "execution_count": 66,
   "id": "a3c2be06-371c-4e07-8f81-e3aee0a60cb9",
   "metadata": {},
   "outputs": [],
   "source": [
    "def f(x, y):\n",
    "    return x * x + y * y"
   ]
  },
  {
   "cell_type": "code",
   "execution_count": 67,
   "id": "8776fdca-f97b-42cf-bf33-6391c199b662",
   "metadata": {},
   "outputs": [
    {
     "data": {
      "text/plain": [
       "[0.0, 0.0]"
      ]
     },
     "execution_count": 67,
     "metadata": {},
     "output_type": "execute_result"
    }
   ],
   "source": [
    "grad(f)(0.0, 0.0)"
   ]
  },
  {
   "cell_type": "code",
   "execution_count": 68,
   "id": "f232e0b7-2ba0-4ecc-b82d-12d799a79c70",
   "metadata": {},
   "outputs": [
    {
     "data": {
      "text/plain": [
       "[2.0, 4.0]"
      ]
     },
     "execution_count": 68,
     "metadata": {},
     "output_type": "execute_result"
    }
   ],
   "source": [
    "grad(f)(1.0, 2.0)"
   ]
  },
  {
   "cell_type": "markdown",
   "id": "6a71cfd1-ba09-48a2-945a-bcd7c94ebfa1",
   "metadata": {},
   "source": [
    "## Backward Differentiation"
   ]
  },
  {
   "cell_type": "code",
   "execution_count": 69,
   "id": "ba52e28f-3993-4a29-8509-f643e04e7937",
   "metadata": {},
   "outputs": [],
   "source": [
    "gradient = {}"
   ]
  },
  {
   "cell_type": "code",
   "execution_count": 70,
   "id": "9d8280be-0313-43d5-acd1-9775d91ed0c5",
   "metadata": {},
   "outputs": [],
   "source": [
    "def grad_sin(x):\n",
    "    return [cos(x)]\n",
    "\n",
    "gradient[sin] = grad_sin\n",
    "\n",
    "def grad_cos(x):\n",
    "    return [-sin(x)]\n",
    "\n",
    "gradient[cos] = grad_cos\n",
    "\n",
    "def grad_add(x, y):\n",
    "    return [1.0, 1.0]\n",
    "\n",
    "gradient[add] = grad_add\n",
    "\n",
    "def grad_multiply(x, y):\n",
    "    return [y, x]\n",
    "\n",
    "gradient[multiply] = grad_multiply"
   ]
  },
  {
   "cell_type": "code",
   "execution_count": 71,
   "id": "19e57518-054a-4c92-981b-a01e3a6f0b81",
   "metadata": {},
   "outputs": [],
   "source": [
    "def backward_grad(f):\n",
    "    def grad_f(*args): # args=(x1, x2, ...)\n",
    "        start_nodes = [Node(arg) for arg in args]\n",
    "        end_node = f(*start_nodes)\n",
    "        if not isinstance(end_node, Node): # constant value\n",
    "            end_node = Node(end_node)\n",
    "        nodes = find_and_sort_nodes(end_node)\n",
    "        nodes.reverse()\n",
    "        end_node_args_values = [arg.value for arg in end_node.args] \n",
    "        end_node.grad = gradient[end_node.function](*end_node_args_values)\n",
    "\n",
    "        for node in nodes:\n",
    "            if node.function is not None:\n",
    "                assert len(node.grad) == len(node.args)\n",
    "                for i, node_i in enumerate(node.args):\n",
    "                    g_i = node.grad[i]\n",
    "                    if not hasattr(node_i, \"grad\"):\n",
    "                        node_i.grad = max(1, len(node_i.args)) * [0.0]\n",
    "                    if node_i.function is None:\n",
    "                        gradient_ = [1.0]\n",
    "                    else:\n",
    "                        node_args_values = [arg.value for arg in node_i.args] \n",
    "                        gradient_ = gradient[node_i.function](*node_args_values)\n",
    "                    extra_grad = [g_i * g for g in gradient_]\n",
    "                    node_i.grad = [g + xg for g, xg in zip(node_i.grad, extra_grad)]\n",
    "        return [node.grad[0] for node in start_nodes]\n",
    "    return grad_f"
   ]
  },
  {
   "cell_type": "code",
   "execution_count": 72,
   "id": "b26de937-143c-47be-92c0-d90e0d578072",
   "metadata": {},
   "outputs": [],
   "source": [
    "def f(x):\n",
    "    return 0.0 * x * x\n",
    "g = backward_grad(f)"
   ]
  },
  {
   "cell_type": "code",
   "execution_count": 73,
   "id": "bf1a6ea3-7b43-47f1-b851-fcb57572b991",
   "metadata": {},
   "outputs": [
    {
     "data": {
      "text/plain": [
       "[0.0]"
      ]
     },
     "execution_count": 73,
     "metadata": {},
     "output_type": "execute_result"
    }
   ],
   "source": [
    "g(1.0)"
   ]
  },
  {
   "cell_type": "code",
   "execution_count": 74,
   "id": "ee7d19aa-641c-4d0e-b81b-dcd8f97aecb6",
   "metadata": {},
   "outputs": [
    {
     "data": {
      "text/plain": [
       "[0.0]"
      ]
     },
     "execution_count": 74,
     "metadata": {},
     "output_type": "execute_result"
    }
   ],
   "source": [
    "g(2.0)"
   ]
  },
  {
   "cell_type": "code",
   "execution_count": 75,
   "id": "933a80ed-72ee-411a-829c-d2709cdcfa49",
   "metadata": {},
   "outputs": [],
   "source": [
    "def f(x, y):\n",
    "    return x * x + 2.0 * x * y + 3.0 * y * y + 1.0\n",
    "\n",
    "g = backward_grad(f)"
   ]
  },
  {
   "cell_type": "code",
   "execution_count": 76,
   "id": "171d0125-9f98-4b0b-84e0-2435d337c40b",
   "metadata": {},
   "outputs": [
    {
     "data": {
      "text/plain": [
       "[0.0, 0.0]"
      ]
     },
     "execution_count": 76,
     "metadata": {},
     "output_type": "execute_result"
    }
   ],
   "source": [
    "g(0.0, 0.0)"
   ]
  },
  {
   "cell_type": "code",
   "execution_count": 77,
   "id": "934e2a71-d38a-4453-8783-afd19dabf3a0",
   "metadata": {},
   "outputs": [
    {
     "data": {
      "text/plain": [
       "[2.0, 2.0]"
      ]
     },
     "execution_count": 77,
     "metadata": {},
     "output_type": "execute_result"
    }
   ],
   "source": [
    "g(1.0, 0.0)"
   ]
  },
  {
   "cell_type": "code",
   "execution_count": 78,
   "id": "d3e812e6-02d0-4dd0-bad0-35fde7afe86f",
   "metadata": {},
   "outputs": [
    {
     "data": {
      "text/plain": [
       "[2.0, 6.0]"
      ]
     },
     "execution_count": 78,
     "metadata": {},
     "output_type": "execute_result"
    }
   ],
   "source": [
    "g(0.0, 1.0)"
   ]
  },
  {
   "cell_type": "code",
   "execution_count": 79,
   "id": "7a161bf0-4152-451e-9c50-8e63969ae303",
   "metadata": {},
   "outputs": [
    {
     "data": {
      "text/plain": [
       "[10.0, 22.0]"
      ]
     },
     "execution_count": 79,
     "metadata": {},
     "output_type": "execute_result"
    }
   ],
   "source": [
    "g(2.0, 3.0)"
   ]
  }
 ],
 "metadata": {
  "kernelspec": {
   "display_name": "Python 3 (ipykernel)",
   "language": "python",
   "name": "python3"
  },
  "language_info": {
   "codemirror_mode": {
    "name": "ipython",
    "version": 3
   },
   "file_extension": ".py",
   "mimetype": "text/x-python",
   "name": "python",
   "nbconvert_exporter": "python",
   "pygments_lexer": "ipython3",
   "version": "3.12.2"
  }
 },
 "nbformat": 4,
 "nbformat_minor": 5
}

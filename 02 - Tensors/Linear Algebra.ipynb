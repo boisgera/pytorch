{
 "cells": [
  {
   "cell_type": "markdown",
   "id": "31ee26fd-cb7c-4cc4-ac98-401e02d12e62",
   "metadata": {},
   "source": [
    "# Linear Algebra"
   ]
  },
  {
   "cell_type": "code",
   "execution_count": 1,
   "id": "e197729a-55f4-4b10-95b7-c28eba8abfe5",
   "metadata": {},
   "outputs": [],
   "source": [
    "import torch\n",
    "from torch import tensor"
   ]
  },
  {
   "cell_type": "markdown",
   "id": "b966265d-eb49-4fe3-9d6e-c273f9b28b74",
   "metadata": {},
   "source": [
    "## Vectors"
   ]
  },
  {
   "cell_type": "code",
   "execution_count": 2,
   "id": "9faee0b5-0299-4645-90eb-e470fd8067fe",
   "metadata": {},
   "outputs": [
    {
     "data": {
      "text/plain": [
       "tensor([[1.],\n",
       "        [2.]])"
      ]
     },
     "execution_count": 2,
     "metadata": {},
     "output_type": "execute_result"
    }
   ],
   "source": [
    "u = tensor([[1.0], \n",
    "            [2.0]])\n",
    "u"
   ]
  },
  {
   "cell_type": "code",
   "execution_count": 3,
   "id": "09bb2f64-f36d-48d0-8a4d-c25ca32605a6",
   "metadata": {},
   "outputs": [
    {
     "data": {
      "text/plain": [
       "tensor([[2.],\n",
       "        [4.]])"
      ]
     },
     "execution_count": 3,
     "metadata": {},
     "output_type": "execute_result"
    }
   ],
   "source": [
    "alpha = 2.0\n",
    "alpha * u"
   ]
  },
  {
   "cell_type": "code",
   "execution_count": 4,
   "id": "6a85351a-a3be-4076-b739-5b4acfb98224",
   "metadata": {},
   "outputs": [
    {
     "data": {
      "text/plain": [
       "tensor([[3.],\n",
       "        [4.]])"
      ]
     },
     "execution_count": 4,
     "metadata": {},
     "output_type": "execute_result"
    }
   ],
   "source": [
    "v = tensor([[3.0], \n",
    "            [4.0]])\n",
    "v"
   ]
  },
  {
   "cell_type": "code",
   "execution_count": 5,
   "id": "36b08ded-27b8-4c17-8a7f-b5408bfc2265",
   "metadata": {},
   "outputs": [
    {
     "data": {
      "text/plain": [
       "tensor([[4.],\n",
       "        [6.]])"
      ]
     },
     "execution_count": 5,
     "metadata": {},
     "output_type": "execute_result"
    }
   ],
   "source": [
    "u + v"
   ]
  },
  {
   "cell_type": "markdown",
   "id": "abd97989-151a-4626-83f6-5aa9d789b320",
   "metadata": {},
   "source": [
    "## Matrix-Vector Product"
   ]
  },
  {
   "cell_type": "code",
   "execution_count": 6,
   "id": "4d8f9462-03cc-4315-87b2-28ee69b09f21",
   "metadata": {},
   "outputs": [
    {
     "data": {
      "text/plain": [
       "tensor([[1., 2.],\n",
       "        [3., 4.]])"
      ]
     },
     "execution_count": 6,
     "metadata": {},
     "output_type": "execute_result"
    }
   ],
   "source": [
    "A = tensor([[1.0, 2.0],\n",
    "            [3.0, 4.0]])\n",
    "A"
   ]
  },
  {
   "cell_type": "code",
   "execution_count": 7,
   "id": "83009625-573e-42bf-b6fd-2da486d7a1cc",
   "metadata": {},
   "outputs": [
    {
     "data": {
      "text/plain": [
       "tensor([[1.],\n",
       "        [2.]])"
      ]
     },
     "execution_count": 7,
     "metadata": {},
     "output_type": "execute_result"
    }
   ],
   "source": [
    "x = tensor([[1.0], [2.0]])\n",
    "x"
   ]
  },
  {
   "cell_type": "code",
   "execution_count": 8,
   "id": "21ba543e-d885-421f-980c-4f9f75aa4953",
   "metadata": {},
   "outputs": [
    {
     "data": {
      "text/plain": [
       "tensor([[1., 2.],\n",
       "        [6., 8.]])"
      ]
     },
     "execution_count": 8,
     "metadata": {},
     "output_type": "execute_result"
    }
   ],
   "source": [
    "A * x # Not what you expect AT ALL! "
   ]
  },
  {
   "cell_type": "code",
   "execution_count": 9,
   "id": "17b514b8-1ed5-4b7b-a780-f97ea801f575",
   "metadata": {},
   "outputs": [
    {
     "data": {
      "text/plain": [
       "tensor([[ 5.],\n",
       "        [11.]])"
      ]
     },
     "execution_count": 9,
     "metadata": {},
     "output_type": "execute_result"
    }
   ],
   "source": [
    "y = A @ x\n",
    "y"
   ]
  },
  {
   "cell_type": "markdown",
   "id": "12442931-32d7-4fd8-b7e9-882caba0121b",
   "metadata": {},
   "source": [
    "## Matrix Product"
   ]
  },
  {
   "cell_type": "code",
   "execution_count": 10,
   "id": "baddeeb4-30a9-4509-a8a8-06beffdc6690",
   "metadata": {},
   "outputs": [
    {
     "data": {
      "text/plain": [
       "tensor([[0., 1.],\n",
       "        [1., 0.]])"
      ]
     },
     "execution_count": 10,
     "metadata": {},
     "output_type": "execute_result"
    }
   ],
   "source": [
    "B = tensor([[0.0, 1.0],\n",
    "            [1.0, 0.0]])\n",
    "B"
   ]
  },
  {
   "cell_type": "code",
   "execution_count": 11,
   "id": "9bce8972-c513-4690-8bc7-dc6d48a40de3",
   "metadata": {},
   "outputs": [
    {
     "data": {
      "text/plain": [
       "tensor([[0., 2.],\n",
       "        [3., 0.]])"
      ]
     },
     "execution_count": 11,
     "metadata": {},
     "output_type": "execute_result"
    }
   ],
   "source": [
    "A * B"
   ]
  },
  {
   "cell_type": "code",
   "execution_count": 12,
   "id": "f2001785-a551-472f-bb39-de7c4e7d0afe",
   "metadata": {},
   "outputs": [
    {
     "data": {
      "text/plain": [
       "tensor([[2., 1.],\n",
       "        [4., 3.]])"
      ]
     },
     "execution_count": 12,
     "metadata": {},
     "output_type": "execute_result"
    }
   ],
   "source": [
    "A @ B"
   ]
  },
  {
   "cell_type": "code",
   "execution_count": 13,
   "id": "ecc1f7c0-5362-4384-84b7-269f07cc58df",
   "metadata": {},
   "outputs": [
    {
     "data": {
      "text/plain": [
       "tensor([[0.0981, 0.7248, 0.4123],\n",
       "        [0.5671, 0.0765, 0.2497]])"
      ]
     },
     "execution_count": 13,
     "metadata": {},
     "output_type": "execute_result"
    }
   ],
   "source": [
    "C = torch.rand((2, 3))\n",
    "C"
   ]
  },
  {
   "cell_type": "code",
   "execution_count": 14,
   "id": "1a97d973-cbe8-4dd9-8e8c-90c5c519bdee",
   "metadata": {},
   "outputs": [],
   "source": [
    "D = torch.rand((3, 4))"
   ]
  },
  {
   "cell_type": "code",
   "execution_count": 15,
   "id": "a84c669e-120c-414c-ae7f-8cfc9069becc",
   "metadata": {},
   "outputs": [
    {
     "data": {
      "text/plain": [
       "tensor([[0.4661, 0.4342, 0.5188, 0.5583],\n",
       "        [0.2239, 0.1456, 0.3247, 0.2532]])"
      ]
     },
     "execution_count": 15,
     "metadata": {},
     "output_type": "execute_result"
    }
   ],
   "source": [
    "E = C @ D\n",
    "E"
   ]
  },
  {
   "cell_type": "code",
   "execution_count": 16,
   "id": "874a7df6-7a6d-49d1-b2f5-c67c2064c166",
   "metadata": {},
   "outputs": [
    {
     "data": {
      "text/plain": [
       "torch.Size([2, 4])"
      ]
     },
     "execution_count": 16,
     "metadata": {},
     "output_type": "execute_result"
    }
   ],
   "source": [
    "E.shape"
   ]
  },
  {
   "cell_type": "markdown",
   "id": "567bb8d0-81b5-4ad1-b636-028b664b2eb2",
   "metadata": {},
   "source": [
    "# Transposition"
   ]
  },
  {
   "cell_type": "code",
   "execution_count": 17,
   "id": "9331d66b-a01a-419f-9e61-500493facbb8",
   "metadata": {},
   "outputs": [
    {
     "data": {
      "text/plain": [
       "tensor([[1.],\n",
       "        [2.]])"
      ]
     },
     "execution_count": 17,
     "metadata": {},
     "output_type": "execute_result"
    }
   ],
   "source": [
    "x"
   ]
  },
  {
   "cell_type": "code",
   "execution_count": 18,
   "id": "75c8d558-66d7-4e7e-adef-096fc1a73393",
   "metadata": {},
   "outputs": [
    {
     "data": {
      "text/plain": [
       "tensor([[1., 2.]])"
      ]
     },
     "execution_count": 18,
     "metadata": {},
     "output_type": "execute_result"
    }
   ],
   "source": [
    "x.T"
   ]
  },
  {
   "cell_type": "code",
   "execution_count": 19,
   "id": "3def8f2a-a0e0-44c1-aef7-22610c6ccabe",
   "metadata": {},
   "outputs": [
    {
     "data": {
      "text/plain": [
       "tensor([[1., 2.],\n",
       "        [3., 4.]])"
      ]
     },
     "execution_count": 19,
     "metadata": {},
     "output_type": "execute_result"
    }
   ],
   "source": [
    "A"
   ]
  },
  {
   "cell_type": "code",
   "execution_count": 20,
   "id": "b1ec3d62-7fe5-4a81-87fa-366dfbac10e7",
   "metadata": {},
   "outputs": [
    {
     "data": {
      "text/plain": [
       "tensor([[1., 3.],\n",
       "        [2., 4.]])"
      ]
     },
     "execution_count": 20,
     "metadata": {},
     "output_type": "execute_result"
    }
   ],
   "source": [
    "A.T"
   ]
  },
  {
   "cell_type": "code",
   "execution_count": 21,
   "id": "1eba66c4-845f-4a51-9da0-ce0abb50202b",
   "metadata": {},
   "outputs": [
    {
     "data": {
      "text/plain": [
       "tensor([[0.0981, 0.7248, 0.4123],\n",
       "        [0.5671, 0.0765, 0.2497]])"
      ]
     },
     "execution_count": 21,
     "metadata": {},
     "output_type": "execute_result"
    }
   ],
   "source": [
    "C"
   ]
  },
  {
   "cell_type": "code",
   "execution_count": 22,
   "id": "5bb8aeff-950f-4b61-98b6-9654e37009fe",
   "metadata": {},
   "outputs": [
    {
     "data": {
      "text/plain": [
       "tensor([[0.0981, 0.5671],\n",
       "        [0.7248, 0.0765],\n",
       "        [0.4123, 0.2497]])"
      ]
     },
     "execution_count": 22,
     "metadata": {},
     "output_type": "execute_result"
    }
   ],
   "source": [
    "C.T"
   ]
  },
  {
   "cell_type": "code",
   "execution_count": 23,
   "id": "57bfdab3-bc32-4161-b547-4c5abe62442c",
   "metadata": {},
   "outputs": [
    {
     "data": {
      "text/plain": [
       "tensor([[ 7., 10.]])"
      ]
     },
     "execution_count": 23,
     "metadata": {},
     "output_type": "execute_result"
    }
   ],
   "source": [
    "x.T @ A"
   ]
  },
  {
   "cell_type": "code",
   "execution_count": 24,
   "id": "3c4736c7-754c-447c-9107-8fb0b30735a9",
   "metadata": {},
   "outputs": [
    {
     "data": {
      "text/plain": [
       "tensor([[27.]])"
      ]
     },
     "execution_count": 24,
     "metadata": {},
     "output_type": "execute_result"
    }
   ],
   "source": [
    "x.T @ y"
   ]
  },
  {
   "cell_type": "code",
   "execution_count": 25,
   "id": "c34da32f-478d-4522-bdf7-c3bbe8b3f0ac",
   "metadata": {},
   "outputs": [
    {
     "data": {
      "text/plain": [
       "tensor(27.)"
      ]
     },
     "execution_count": 25,
     "metadata": {},
     "output_type": "execute_result"
    }
   ],
   "source": [
    "(x.T @ y)[0, 0]"
   ]
  },
  {
   "cell_type": "code",
   "execution_count": 26,
   "id": "c01a7c47-86a3-4547-bfd9-51269530be1b",
   "metadata": {},
   "outputs": [
    {
     "data": {
      "text/plain": [
       "tensor(27.)"
      ]
     },
     "execution_count": 26,
     "metadata": {},
     "output_type": "execute_result"
    }
   ],
   "source": [
    "(x.T @ y).squeeze()"
   ]
  },
  {
   "cell_type": "code",
   "execution_count": 27,
   "id": "b489463b-fa54-46ab-9301-9b07cfd1fadb",
   "metadata": {},
   "outputs": [
    {
     "data": {
      "text/plain": [
       "27.0"
      ]
     },
     "execution_count": 27,
     "metadata": {},
     "output_type": "execute_result"
    }
   ],
   "source": [
    "(x.T @ y).item()"
   ]
  },
  {
   "cell_type": "code",
   "execution_count": 28,
   "id": "c5eddc3c-eb5b-460e-a049-db576eb5cdda",
   "metadata": {},
   "outputs": [
    {
     "data": {
      "text/plain": [
       "tensor([[27.]])"
      ]
     },
     "execution_count": 28,
     "metadata": {},
     "output_type": "execute_result"
    }
   ],
   "source": [
    "x.T @ A @ x"
   ]
  },
  {
   "cell_type": "code",
   "execution_count": 29,
   "id": "f1ea1f2b-bebe-427e-8033-4736e4f72cc8",
   "metadata": {},
   "outputs": [
    {
     "data": {
      "text/plain": [
       "tensor([[1., 2.],\n",
       "        [2., 4.]])"
      ]
     },
     "execution_count": 29,
     "metadata": {},
     "output_type": "execute_result"
    }
   ],
   "source": [
    "x @ x.T"
   ]
  },
  {
   "cell_type": "markdown",
   "id": "6fc941fa-d3f2-466d-a722-4b9cbbd91f2f",
   "metadata": {},
   "source": [
    "## Tensorisation"
   ]
  },
  {
   "cell_type": "markdown",
   "id": "ccec2f79-31f6-4111-aabb-f2166bc59e09",
   "metadata": {},
   "source": [
    "Forget about row vectors vs column vectors (which are matrices), describe them as 1-d tensors."
   ]
  },
  {
   "cell_type": "code",
   "execution_count": 30,
   "id": "a421488d-72c9-46c7-a25f-42f2c68e5a46",
   "metadata": {},
   "outputs": [
    {
     "data": {
      "text/plain": [
       "tensor([[1.],\n",
       "        [2.]])"
      ]
     },
     "execution_count": 30,
     "metadata": {},
     "output_type": "execute_result"
    }
   ],
   "source": [
    "x"
   ]
  },
  {
   "cell_type": "code",
   "execution_count": 31,
   "id": "4e548259-1c8d-4060-9296-5caae86e010f",
   "metadata": {},
   "outputs": [
    {
     "data": {
      "text/plain": [
       "torch.Size([2, 1])"
      ]
     },
     "execution_count": 31,
     "metadata": {},
     "output_type": "execute_result"
    }
   ],
   "source": [
    "x.shape"
   ]
  },
  {
   "cell_type": "code",
   "execution_count": 32,
   "id": "4783f740-183b-466e-a47b-6b3d5a88a7e0",
   "metadata": {},
   "outputs": [
    {
     "data": {
      "text/plain": [
       "tensor([1., 2.])"
      ]
     },
     "execution_count": 32,
     "metadata": {},
     "output_type": "execute_result"
    }
   ],
   "source": [
    "x.squeeze()"
   ]
  },
  {
   "cell_type": "code",
   "execution_count": 33,
   "id": "62213e08-6837-4d20-ad2c-ab532961d010",
   "metadata": {},
   "outputs": [],
   "source": [
    "x = tensor([1., 2.])"
   ]
  },
  {
   "cell_type": "code",
   "execution_count": 34,
   "id": "b0cf4f3b-ce7c-4409-88c5-93ed01b951dd",
   "metadata": {},
   "outputs": [
    {
     "data": {
      "text/plain": [
       "tensor([ 5., 11.])"
      ]
     },
     "execution_count": 34,
     "metadata": {},
     "output_type": "execute_result"
    }
   ],
   "source": [
    "y = A @ x\n",
    "y"
   ]
  },
  {
   "cell_type": "code",
   "execution_count": 35,
   "id": "a57b890f-90cf-415d-b147-a8e5d99b4390",
   "metadata": {},
   "outputs": [
    {
     "data": {
      "text/plain": [
       "tensor([[2., 1.],\n",
       "        [4., 3.]])"
      ]
     },
     "execution_count": 35,
     "metadata": {},
     "output_type": "execute_result"
    }
   ],
   "source": [
    "A @ B"
   ]
  },
  {
   "cell_type": "code",
   "execution_count": 36,
   "id": "afd636fb-0f40-44f9-b417-a38e363589ce",
   "metadata": {},
   "outputs": [],
   "source": [
    "# x.T # doesn't make sense, warning at least"
   ]
  },
  {
   "cell_type": "code",
   "execution_count": 49,
   "id": "ec91801d-ae68-4509-a795-805bd0680636",
   "metadata": {},
   "outputs": [
    {
     "data": {
      "text/plain": [
       "tensor(27.)"
      ]
     },
     "execution_count": 49,
     "metadata": {},
     "output_type": "execute_result"
    }
   ],
   "source": [
    "x @ A @ x"
   ]
  },
  {
   "cell_type": "code",
   "execution_count": 38,
   "id": "551ac3e5-a7e4-40b1-8c6f-78bd4d51c7ee",
   "metadata": {},
   "outputs": [],
   "source": [
    "# What about x.T @ x ? Nah, does not work now"
   ]
  },
  {
   "cell_type": "markdown",
   "id": "a9f60545-d147-4999-ae55-4ecaff22bed3",
   "metadata": {},
   "source": [
    "The operator `@` has a bunch of special cases in its [definition](https://pytorch.org/docs/stable/generated/torch.matmul.html). The situation is simpler when you consider `torch.tensordot` (the tensor contraction) instead."
   ]
  },
  {
   "cell_type": "code",
   "execution_count": 39,
   "id": "a8d6de25-f265-4cd3-8278-64ef4c1aa7e8",
   "metadata": {},
   "outputs": [],
   "source": [
    "td = torch.tensordot "
   ]
  },
  {
   "cell_type": "code",
   "execution_count": 50,
   "id": "12485b36-913d-4006-879f-a3928296d263",
   "metadata": {},
   "outputs": [],
   "source": [
    "y = td(A, x, 1)"
   ]
  },
  {
   "cell_type": "code",
   "execution_count": 51,
   "id": "5419b5f9-98f3-44c0-82c4-e25b24baac10",
   "metadata": {},
   "outputs": [
    {
     "data": {
      "text/plain": [
       "tensor([[2., 1.],\n",
       "        [4., 3.]])"
      ]
     },
     "execution_count": 51,
     "metadata": {},
     "output_type": "execute_result"
    }
   ],
   "source": [
    "td(A, B, 1)"
   ]
  },
  {
   "cell_type": "code",
   "execution_count": 52,
   "id": "9bbbd926-95c4-4f36-bb01-a453264ed24d",
   "metadata": {},
   "outputs": [
    {
     "data": {
      "text/plain": [
       "tensor(27.)"
      ]
     },
     "execution_count": 52,
     "metadata": {},
     "output_type": "execute_result"
    }
   ],
   "source": [
    "td(y, x, 1)"
   ]
  },
  {
   "cell_type": "markdown",
   "id": "7b32d80c-0099-49f4-9b06-4e1af687b138",
   "metadata": {},
   "source": [
    "## Linear Algebra Operations"
   ]
  },
  {
   "cell_type": "code",
   "execution_count": 54,
   "id": "bebb6f67-6e75-4352-82a1-cc9dc6eaad05",
   "metadata": {},
   "outputs": [],
   "source": [
    "import torch.linalg as la"
   ]
  },
  {
   "cell_type": "code",
   "execution_count": 55,
   "id": "35df7cb3-163d-4958-bfb5-79050d5ddd67",
   "metadata": {},
   "outputs": [
    {
     "data": {
      "text/plain": [
       "tensor([[1., 2.],\n",
       "        [3., 4.]])"
      ]
     },
     "execution_count": 55,
     "metadata": {},
     "output_type": "execute_result"
    }
   ],
   "source": [
    "A"
   ]
  },
  {
   "cell_type": "code",
   "execution_count": 56,
   "id": "26ae91f2-02df-43c1-93ee-f03daece62a6",
   "metadata": {},
   "outputs": [
    {
     "data": {
      "text/plain": [
       "tensor([1., 2.])"
      ]
     },
     "execution_count": 56,
     "metadata": {},
     "output_type": "execute_result"
    }
   ],
   "source": [
    "x"
   ]
  },
  {
   "cell_type": "code",
   "execution_count": 57,
   "id": "3dddbbaf-ed79-4a8c-9570-412789756f26",
   "metadata": {},
   "outputs": [
    {
     "data": {
      "text/plain": [
       "tensor(2.2361)"
      ]
     },
     "execution_count": 57,
     "metadata": {},
     "output_type": "execute_result"
    }
   ],
   "source": [
    "la.norm(x)"
   ]
  },
  {
   "cell_type": "code",
   "execution_count": 59,
   "id": "c6af5926-d8e9-49a1-b2a4-852e09c531f3",
   "metadata": {},
   "outputs": [
    {
     "data": {
      "text/plain": [
       "tensor(5.4772)"
      ]
     },
     "execution_count": 59,
     "metadata": {},
     "output_type": "execute_result"
    }
   ],
   "source": [
    "la.norm(A)"
   ]
  },
  {
   "cell_type": "code",
   "execution_count": 67,
   "id": "99ff121a-f481-435a-90fe-7917a5b1e5f4",
   "metadata": {},
   "outputs": [
    {
     "data": {
      "text/plain": [
       "tensor(5.4772)"
      ]
     },
     "execution_count": 67,
     "metadata": {},
     "output_type": "execute_result"
    }
   ],
   "source": [
    "la.norm(A.flatten())"
   ]
  },
  {
   "cell_type": "markdown",
   "id": "7fd62804-9b08-4c4c-a365-2024e1e81743",
   "metadata": {},
   "source": [
    "See also: [`vector_norm`]  and [`matrix_norm`]\n",
    "\n",
    "[`vector_norm`]: https://pytorch.org/docs/stable/generated/torch.linalg.vector_norm.html#torch.linalg.vector_norm\n",
    "[`matrix_norm`]: https://pytorch.org/docs/stable/generated/torch.linalg.matrix_norm.html#torch.linalg.matrix_norm"
   ]
  },
  {
   "cell_type": "code",
   "execution_count": 60,
   "id": "ba07edbf-5e0c-42b0-bdbc-a1f489684d8b",
   "metadata": {},
   "outputs": [
    {
     "data": {
      "text/plain": [
       "tensor([[-2.0000,  1.0000],\n",
       "        [ 1.5000, -0.5000]])"
      ]
     },
     "execution_count": 60,
     "metadata": {},
     "output_type": "execute_result"
    }
   ],
   "source": [
    "la.inv(A)"
   ]
  },
  {
   "cell_type": "code",
   "execution_count": 61,
   "id": "60044d5c-14a1-4f8a-ba5b-480fe047c9c4",
   "metadata": {},
   "outputs": [
    {
     "data": {
      "text/plain": [
       "tensor([0.0000, 0.5000])"
      ]
     },
     "execution_count": 61,
     "metadata": {},
     "output_type": "execute_result"
    }
   ],
   "source": [
    "la.inv(A) @ x"
   ]
  },
  {
   "cell_type": "code",
   "execution_count": 62,
   "id": "a3218222-cfbd-4200-aeda-af601a1c186a",
   "metadata": {},
   "outputs": [
    {
     "data": {
      "text/plain": [
       "tensor([0.0000, 0.5000])"
      ]
     },
     "execution_count": 62,
     "metadata": {},
     "output_type": "execute_result"
    }
   ],
   "source": [
    "la.solve(A, x)"
   ]
  },
  {
   "cell_type": "code",
   "execution_count": 64,
   "id": "92ce3de3-e546-42d1-a31c-4f42e614531c",
   "metadata": {},
   "outputs": [],
   "source": [
    "vals, vectors = la.eig(A)"
   ]
  },
  {
   "cell_type": "code",
   "execution_count": 65,
   "id": "1667eafb-2881-48ac-b0df-a81383cdda0c",
   "metadata": {},
   "outputs": [
    {
     "data": {
      "text/plain": [
       "tensor([-0.3723+0.j,  5.3723+0.j])"
      ]
     },
     "execution_count": 65,
     "metadata": {},
     "output_type": "execute_result"
    }
   ],
   "source": [
    "vals"
   ]
  },
  {
   "cell_type": "code",
   "execution_count": 66,
   "id": "d2282b95-b82d-4c3b-bb81-5d0f896c0957",
   "metadata": {},
   "outputs": [
    {
     "data": {
      "text/plain": [
       "tensor([[-0.8246+0.j, -0.4160+0.j],\n",
       "        [ 0.5658+0.j, -0.9094+0.j]])"
      ]
     },
     "execution_count": 66,
     "metadata": {},
     "output_type": "execute_result"
    }
   ],
   "source": [
    "vectors"
   ]
  }
 ],
 "metadata": {
  "kernelspec": {
   "display_name": "Python 3 (ipykernel)",
   "language": "python",
   "name": "python3"
  },
  "language_info": {
   "codemirror_mode": {
    "name": "ipython",
    "version": 3
   },
   "file_extension": ".py",
   "mimetype": "text/x-python",
   "name": "python",
   "nbconvert_exporter": "python",
   "pygments_lexer": "ipython3",
   "version": "3.12.2"
  }
 },
 "nbformat": 4,
 "nbformat_minor": 5
}

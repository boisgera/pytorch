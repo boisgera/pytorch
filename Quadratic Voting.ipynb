{
 "cells": [
  {
   "cell_type": "markdown",
   "id": "06593da5-1eef-4f4b-bb12-11b55e78d4d0",
   "metadata": {},
   "source": [
    "# Quadratic Voting"
   ]
  },
  {
   "cell_type": "code",
   "execution_count": 33,
   "id": "44b4792f-eb73-4c5f-8dbe-c9b5a30513de",
   "metadata": {},
   "outputs": [],
   "source": [
    "from torch import *\n",
    "from builtins import range\n",
    "import numpy as np\n",
    "\n",
    "from torch.nn import Module, Parameter, Softmax\n",
    "from torch.linalg import vector_norm\n",
    "from torch.optim import SGD"
   ]
  },
  {
   "cell_type": "code",
   "execution_count": 34,
   "id": "d0ddbb05-a262-4461-8434-b0eeb76f82a1",
   "metadata": {},
   "outputs": [],
   "source": [
    "alpha = tensor([1.0, 3.0, 2.0])\n",
    "def U(x): # utility function\n",
    "    return x @ alpha # this implementation supports batching"
   ]
  },
  {
   "cell_type": "code",
   "execution_count": 35,
   "id": "1974ad2c-56e9-4bfd-bc6a-32e69c802848",
   "metadata": {},
   "outputs": [
    {
     "data": {
      "text/plain": [
       "tensor(2.)"
      ]
     },
     "execution_count": 35,
     "metadata": {},
     "output_type": "execute_result"
    }
   ],
   "source": [
    "U(tensor([1/3, 1/3, 1/3])) "
   ]
  },
  {
   "cell_type": "code",
   "execution_count": 36,
   "id": "6539a5d2-0b48-4e74-9be7-a26f1526e858",
   "metadata": {},
   "outputs": [
    {
     "data": {
      "text/plain": [
       "tensor(3.)"
      ]
     },
     "execution_count": 36,
     "metadata": {},
     "output_type": "execute_result"
    }
   ],
   "source": [
    "U(tensor([0.0, 1.0, 0.0]))"
   ]
  },
  {
   "cell_type": "code",
   "execution_count": 37,
   "id": "711bbedf-5a0e-466c-8da4-7e85efdbc073",
   "metadata": {},
   "outputs": [
    {
     "data": {
      "text/plain": [
       "tensor(1.)"
      ]
     },
     "execution_count": 37,
     "metadata": {},
     "output_type": "execute_result"
    }
   ],
   "source": [
    "U(tensor([1.0, 0.0, 0.0]))"
   ]
  },
  {
   "cell_type": "code",
   "execution_count": 38,
   "id": "740a9bec-5677-4638-96c3-d68ca8016a4b",
   "metadata": {},
   "outputs": [],
   "source": [
    "batch = tensor([\n",
    "    [1/3, 1/3, 1/3],\n",
    "    [0.0, 1.0, 0.0],\n",
    "    [1.0, 0.0, 0.0],\n",
    "])"
   ]
  },
  {
   "cell_type": "code",
   "execution_count": 39,
   "id": "91620d4f-88d3-4de0-923c-fee779ba0887",
   "metadata": {},
   "outputs": [
    {
     "data": {
      "text/plain": [
       "tensor([2., 3., 1.])"
      ]
     },
     "execution_count": 39,
     "metadata": {},
     "output_type": "execute_result"
    }
   ],
   "source": [
    "U(batch)"
   ]
  },
  {
   "cell_type": "code",
   "execution_count": 40,
   "id": "f15d1467-f70d-4ac3-89bf-68dfe3e09df8",
   "metadata": {},
   "outputs": [],
   "source": [
    "class Utility(Module): # minus utility parametrized by logits\n",
    "    def __init__(self, alpha, quadratic=False):\n",
    "        super().__init__()\n",
    "        self.quadratic = quadratic\n",
    "        self.alpha = tensor(alpha)\n",
    "        self.logits = Parameter(rand(3))\n",
    "        self.softmax = Softmax(dim=-1)\n",
    "    def forward(self):\n",
    "        x = self.x\n",
    "        if self.quadratic:\n",
    "            x = sqrt(x)\n",
    "        return x @ self.alpha\n",
    "    def get_x(self):\n",
    "        return self.softmax(self.logits)\n",
    "    x = property(get_x)"
   ]
  },
  {
   "cell_type": "code",
   "execution_count": 41,
   "id": "6e25bda8-ff37-4fe2-9c14-6a0949b3842e",
   "metadata": {},
   "outputs": [],
   "source": [
    "utility = Utility([1.0, 3.0, 2.0])"
   ]
  },
  {
   "cell_type": "code",
   "execution_count": 42,
   "id": "5c72ce11-0a69-4488-9a23-5646108dd58a",
   "metadata": {},
   "outputs": [],
   "source": [
    "optimizer = SGD(utility.parameters(), lr=1.0)"
   ]
  },
  {
   "cell_type": "code",
   "execution_count": 43,
   "id": "ed4e21ab-606c-4b3d-aa07-e7ae2e78d57f",
   "metadata": {},
   "outputs": [
    {
     "name": "stdout",
     "output_type": "stream",
     "text": [
      "[0.33192194 0.3689132  0.2991649 ]\n",
      "[0.22248855 0.49770325 0.27980822]\n",
      "[1.6732406e-04 9.9949801e-01 3.3464000e-04]\n",
      "[8.3509563e-05 9.9974948e-01 1.6702511e-04]\n",
      "[5.5643559e-05 9.9983299e-01 1.1129248e-04]\n",
      "[4.1716688e-05 9.9987483e-01 8.3437713e-05]\n",
      "[3.3366323e-05 9.9989986e-01 6.6736182e-05]\n",
      "[2.7801761e-05 9.9991667e-01 5.5606466e-05]\n",
      "[2.3828197e-05 9.9992847e-01 4.7658963e-05]\n",
      "[2.0848604e-05 9.9993742e-01 4.1699455e-05]\n",
      "[1.8531469e-05 9.9994445e-01 3.7064900e-05]\n"
     ]
    }
   ],
   "source": [
    "\n",
    "# OK\n",
    "\n",
    "utility = Utility([1.0, 3.0, 2.0])\n",
    "optimizer = SGD(utility.parameters(), lr=1.0)\n",
    "\n",
    "print(utility.x.detach().numpy())\n",
    "for i in range(10_000):\n",
    "    optimizer.zero_grad()\n",
    "    loss = -utility()\n",
    "    loss.backward()\n",
    "    optimizer.step()\n",
    "    if i % 1_000 == 0:\n",
    "        print(utility.x.detach().numpy())"
   ]
  },
  {
   "cell_type": "code",
   "execution_count": 53,
   "id": "1356f48a-a88f-431d-a30b-204e2f5ec6d1",
   "metadata": {},
   "outputs": [
    {
     "name": "stdout",
     "output_type": "stream",
     "text": [
      "[0.20332044 0.35189286 0.4447866 ] [0.4509107 0.5932056 0.6669232]\n",
      "[0.17262416 0.4455143  0.38186154] [0.41548064 0.66746855 0.6179495 ]\n",
      "[0.07142858 0.64285713 0.2857143 ] [0.26726127 0.80178374 0.5345225 ]\n",
      "[0.07142858 0.64285713 0.2857143 ] [0.26726127 0.80178374 0.5345225 ]\n",
      "[0.07142858 0.64285713 0.2857143 ] [0.26726127 0.80178374 0.5345225 ]\n",
      "[0.07142858 0.64285713 0.2857143 ] [0.26726127 0.80178374 0.5345225 ]\n",
      "[0.07142858 0.64285713 0.2857143 ] [0.26726127 0.80178374 0.5345225 ]\n",
      "[0.07142858 0.64285713 0.2857143 ] [0.26726127 0.80178374 0.5345225 ]\n",
      "[0.07142858 0.64285713 0.2857143 ] [0.26726127 0.80178374 0.5345225 ]\n",
      "[0.07142858 0.64285713 0.2857143 ] [0.26726127 0.80178374 0.5345225 ]\n",
      "[0.07142858 0.64285713 0.2857143 ] [0.26726127 0.80178374 0.5345225 ]\n"
     ]
    }
   ],
   "source": [
    "\n",
    "# Here the result is wrong AFAICT, but very stably so!\n",
    "# I don't get smthin prop to alpha as a result, but prop to the squares of alpha\n",
    "# What does the theory says then? Yay, that's it, my bad. The effort is prop to alpha square\n",
    "# and the movement of the needle prop to alpha.\n",
    "\n",
    "utility = Utility([1.0, 3.0, 2.0], quadratic=True)\n",
    "optimizer = SGD(utility.parameters(), lr=1.0)\n",
    "\n",
    "x = utility.x.detach().numpy()\n",
    "print(x, np.sqrt(x))\n",
    "for i in range(10_000):\n",
    "    optimizer.zero_grad()\n",
    "    loss = -utility()\n",
    "    loss.backward()\n",
    "    optimizer.step()\n",
    "    if i % 1_000 == 0:\n",
    "        x = utility.x.detach().numpy()\n",
    "        s = np.sqrt(x)\n",
    "        print(x, s)"
   ]
  },
  {
   "cell_type": "code",
   "execution_count": 54,
   "id": "0d3e581b-7f91-4866-af3d-2aa62529d364",
   "metadata": {},
   "outputs": [
    {
     "data": {
      "text/plain": [
       "2.9999998"
      ]
     },
     "execution_count": 54,
     "metadata": {},
     "output_type": "execute_result"
    }
   ],
   "source": [
    "s[1] / s[0]"
   ]
  },
  {
   "cell_type": "code",
   "execution_count": 55,
   "id": "f4a5b4de-1706-49e2-ae99-980c7e699b5f",
   "metadata": {},
   "outputs": [
    {
     "data": {
      "text/plain": [
       "1.9999998"
      ]
     },
     "execution_count": 55,
     "metadata": {},
     "output_type": "execute_result"
    }
   ],
   "source": [
    "s[2] / s[0]"
   ]
  },
  {
   "cell_type": "code",
   "execution_count": null,
   "id": "32ff31e0-046a-49cc-82e0-66e25c31ca28",
   "metadata": {},
   "outputs": [],
   "source": []
  }
 ],
 "metadata": {
  "kernelspec": {
   "display_name": "Python 3 (ipykernel)",
   "language": "python",
   "name": "python3"
  },
  "language_info": {
   "codemirror_mode": {
    "name": "ipython",
    "version": 3
   },
   "file_extension": ".py",
   "mimetype": "text/x-python",
   "name": "python",
   "nbconvert_exporter": "python",
   "pygments_lexer": "ipython3",
   "version": "3.12.2"
  }
 },
 "nbformat": 4,
 "nbformat_minor": 5
}

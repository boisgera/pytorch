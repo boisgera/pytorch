{
 "cells": [
  {
   "cell_type": "markdown",
   "id": "55d93c50-b251-470e-b756-5dedb0dad0e8",
   "metadata": {},
   "source": [
    "# Automatic Differentiation"
   ]
  },
  {
   "cell_type": "markdown",
   "id": "0b333064-49bb-4fa6-bab4-6991239f06ef",
   "metadata": {},
   "source": [
    "$$\n",
    "y = f(x), \\; f: x \\in \\mathbb{R} \\to y \\in \\mathbb{R}\n",
    "$$"
   ]
  },
  {
   "cell_type": "markdown",
   "id": "f10bc55e-751e-477b-a76c-4cb9220ae633",
   "metadata": {},
   "source": [
    "$$\n",
    "f'(x) := \\lim_{dx \\to 0} \\frac{f(x+dx)-f(x)}{dx} \\in \\mathbb{R}\n",
    "$$"
   ]
  },
  {
   "cell_type": "code",
   "execution_count": null,
   "id": "962a913b-d4f4-4023-8241-7c448fae1c29",
   "metadata": {},
   "outputs": [],
   "source": []
  },
  {
   "cell_type": "markdown",
   "id": "2a3f1335-c54a-4c8c-a3ad-93b35f5ef6f4",
   "metadata": {},
   "source": [
    "$$\n",
    "f(x+h) - f(x) \\approx f'(x) h\n",
    "$$"
   ]
  },
  {
   "cell_type": "markdown",
   "id": "fb53b203-e909-4a12-975b-03cd5ec224de",
   "metadata": {},
   "source": [
    "$$\n",
    "dy = f'(x) dx\n",
    "$$"
   ]
  },
  {
   "cell_type": "markdown",
   "id": "57383353-4cdb-4a5c-bcfb-44d6156310d6",
   "metadata": {},
   "source": [
    "----"
   ]
  },
  {
   "cell_type": "code",
   "execution_count": 1,
   "id": "bd3c91e5-d7a4-4493-90d9-3127ef06b82d",
   "metadata": {},
   "outputs": [
    {
     "ename": "NameError",
     "evalue": "name 'zug' is not defined",
     "output_type": "error",
     "traceback": [
      "\u001b[0;31m---------------------------------------------------------------------------\u001b[0m",
      "\u001b[0;31mNameError\u001b[0m                                 Traceback (most recent call last)",
      "Cell \u001b[0;32mIn[1], line 1\u001b[0m\n\u001b[0;32m----> 1\u001b[0m \u001b[43mzug\u001b[49m\n",
      "\u001b[0;31mNameError\u001b[0m: name 'zug' is not defined"
     ]
    }
   ],
   "source": [
    "zug"
   ]
  }
 ],
 "metadata": {
  "kernelspec": {
   "display_name": "Python 3 (ipykernel)",
   "language": "python",
   "name": "python3"
  },
  "language_info": {
   "codemirror_mode": {
    "name": "ipython",
    "version": 3
   },
   "file_extension": ".py",
   "mimetype": "text/x-python",
   "name": "python",
   "nbconvert_exporter": "python",
   "pygments_lexer": "ipython3",
   "version": "3.12.2"
  }
 },
 "nbformat": 4,
 "nbformat_minor": 5
}

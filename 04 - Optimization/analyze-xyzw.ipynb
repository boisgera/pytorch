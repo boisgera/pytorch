{
 "cells": [
  {
   "cell_type": "markdown",
   "id": "1ec35031-8ee8-4610-969d-3c92ac2964b5",
   "metadata": {},
   "source": [
    "# Prédiction Linéaire de w en fonction de x, y et z"
   ]
  },
  {
   "cell_type": "markdown",
   "id": "faa582a9-83f7-4344-9523-0d86f6fae0be",
   "metadata": {},
   "source": [
    "\n",
    "\n",
    "Obtenir les tenseurs de données\n",
    "-------------------------------\n",
    "\n",
    "\"A la main\" tout d'abord:"
   ]
  },
  {
   "cell_type": "code",
   "execution_count": 1,
   "id": "9e897e23-ed0f-4a63-b617-0cf9ffc2c30e",
   "metadata": {},
   "outputs": [],
   "source": [
    "file = open(\"xyzw.csv\", mode=\"rt\", encoding=\"ascii\")\n",
    "content = file.read()\n",
    "file.close()\n",
    "xs = []\n",
    "ys = []\n",
    "zs = []\n",
    "ws = []\n",
    "for i, line in enumerate(content.splitlines()):\n",
    "    if i != 0:\n",
    "        # print(line)\n",
    "        index, x, y, z, w = line.split(\",\")\n",
    "        xs.append(float(x))\n",
    "        ys.append(float(y))\n",
    "        zs.append(float(z))\n",
    "        ws.append(float(w))"
   ]
  },
  {
   "cell_type": "code",
   "execution_count": 2,
   "id": "eeccf254-c06b-40ca-8ba7-8e0cbe3961d0",
   "metadata": {},
   "outputs": [
    {
     "data": {
      "text/plain": [
       "(torch.Size([100, 3]), torch.Size([100]))"
      ]
     },
     "execution_count": 2,
     "metadata": {},
     "output_type": "execute_result"
    }
   ],
   "source": [
    "import torch \n",
    "xyz = torch.tensor([xs, ys, zs]).T\n",
    "w = torch.tensor(ws)\n",
    "xyz.shape, w.shape"
   ]
  },
  {
   "cell_type": "code",
   "execution_count": 3,
   "id": "f769a734-30c2-4426-a5c5-b0d9a0ebc72d",
   "metadata": {},
   "outputs": [
    {
     "data": {
      "text/plain": [
       "torch.float32"
      ]
     },
     "execution_count": 3,
     "metadata": {},
     "output_type": "execute_result"
    }
   ],
   "source": [
    "w.dtype"
   ]
  },
  {
   "cell_type": "markdown",
   "id": "a3bbd178-4092-4783-8339-b0d0c6f746bf",
   "metadata": {},
   "source": [
    "... ou avec pandas"
   ]
  },
  {
   "cell_type": "code",
   "execution_count": 4,
   "id": "7cb8cd83-ae4d-4923-a609-6760e94e58fe",
   "metadata": {},
   "outputs": [
    {
     "data": {
      "text/html": [
       "<div>\n",
       "<style scoped>\n",
       "    .dataframe tbody tr th:only-of-type {\n",
       "        vertical-align: middle;\n",
       "    }\n",
       "\n",
       "    .dataframe tbody tr th {\n",
       "        vertical-align: top;\n",
       "    }\n",
       "\n",
       "    .dataframe thead th {\n",
       "        text-align: right;\n",
       "    }\n",
       "</style>\n",
       "<table border=\"1\" class=\"dataframe\">\n",
       "  <thead>\n",
       "    <tr style=\"text-align: right;\">\n",
       "      <th></th>\n",
       "      <th>x</th>\n",
       "      <th>y</th>\n",
       "      <th>z</th>\n",
       "      <th>w</th>\n",
       "    </tr>\n",
       "  </thead>\n",
       "  <tbody>\n",
       "    <tr>\n",
       "      <th>0</th>\n",
       "      <td>1.343114</td>\n",
       "      <td>1.430186</td>\n",
       "      <td>2.693590</td>\n",
       "      <td>12.522816</td>\n",
       "    </tr>\n",
       "    <tr>\n",
       "      <th>1</th>\n",
       "      <td>0.831336</td>\n",
       "      <td>-2.046429</td>\n",
       "      <td>2.517389</td>\n",
       "      <td>-0.084809</td>\n",
       "    </tr>\n",
       "    <tr>\n",
       "      <th>2</th>\n",
       "      <td>0.607821</td>\n",
       "      <td>-1.725985</td>\n",
       "      <td>0.615121</td>\n",
       "      <td>-2.777417</td>\n",
       "    </tr>\n",
       "    <tr>\n",
       "      <th>3</th>\n",
       "      <td>-0.132979</td>\n",
       "      <td>-1.257057</td>\n",
       "      <td>1.866271</td>\n",
       "      <td>-1.299913</td>\n",
       "    </tr>\n",
       "    <tr>\n",
       "      <th>4</th>\n",
       "      <td>0.767262</td>\n",
       "      <td>-1.910461</td>\n",
       "      <td>1.143629</td>\n",
       "      <td>-2.059190</td>\n",
       "    </tr>\n",
       "  </tbody>\n",
       "</table>\n",
       "</div>"
      ],
      "text/plain": [
       "          x         y         z          w\n",
       "0  1.343114  1.430186  2.693590  12.522816\n",
       "1  0.831336 -2.046429  2.517389  -0.084809\n",
       "2  0.607821 -1.725985  0.615121  -2.777417\n",
       "3 -0.132979 -1.257057  1.866271  -1.299913\n",
       "4  0.767262 -1.910461  1.143629  -2.059190"
      ]
     },
     "execution_count": 4,
     "metadata": {},
     "output_type": "execute_result"
    }
   ],
   "source": [
    "import pandas as pd\n",
    "df = pd.read_csv(\"xyzw.csv\")\n",
    "del df[\"Unnamed: 0\"]\n",
    "df.head(5)"
   ]
  },
  {
   "cell_type": "code",
   "execution_count": 5,
   "id": "18db1fe9-456c-4a74-9b7e-2f5353f2c329",
   "metadata": {},
   "outputs": [
    {
     "data": {
      "text/plain": [
       "(torch.Size([100, 3]), torch.Size([100]))"
      ]
     },
     "execution_count": 5,
     "metadata": {},
     "output_type": "execute_result"
    }
   ],
   "source": [
    "xyz = df[[\"x\", \"y\", \"z\"]]\n",
    "xyz = torch.tensor(xyz.values)\n",
    "w = df[\"w\"]\n",
    "w = torch.tensor(w.values)\n",
    "xyz.shape, w.shape"
   ]
  },
  {
   "cell_type": "markdown",
   "id": "9001e63d-1870-4240-bab1-f500f6c44231",
   "metadata": {},
   "source": [
    "## Recherche de p = [alpha, beta, gamma] optimal"
   ]
  },
  {
   "cell_type": "code",
   "execution_count": 6,
   "id": "ff4e9bb4-8355-4d93-9cb6-88bf8dd3aed7",
   "metadata": {},
   "outputs": [
    {
     "data": {
      "text/plain": [
       "torch.Size([100, 3])"
      ]
     },
     "execution_count": 6,
     "metadata": {},
     "output_type": "execute_result"
    }
   ],
   "source": [
    "xyz.shape"
   ]
  },
  {
   "cell_type": "markdown",
   "id": "df4a0856-c7a5-4c5e-ba98-1fadf9039df2",
   "metadata": {},
   "source": [
    "$$\n",
    "e = \\frac{1}{n} \\sum_{i=1}^n (w_i - \\hat{w}_i)^2\n",
    "$$"
   ]
  },
  {
   "cell_type": "code",
   "execution_count": 31,
   "id": "f52ad55d-0cd5-4335-a1a3-e1ffa546ee8b",
   "metadata": {},
   "outputs": [],
   "source": [
    "def error_sum(w, w_pred): # (carré de l') erreur quadratique moyenne\n",
    "    return ((w-w_pred)**2).sum()\n",
    "\n",
    "def error_mean(w, w_pred):\n",
    "    return ((w-w_pred)**2).mean()\n",
    "    \n",
    "def RMS(w, w_pred):\n",
    "    return ((w-w_pred)**2).mean().sqrt()"
   ]
  },
  {
   "cell_type": "code",
   "execution_count": 49,
   "id": "c787f4ef-10a6-4fae-a100-eae1a102cc0a",
   "metadata": {},
   "outputs": [
    {
     "name": "stdout",
     "output_type": "stream",
     "text": [
      "0 4.817154690625145\n",
      "1 3.870367396140692\n",
      "2 3.157813698534132\n",
      "3 2.6157911248237307\n",
      "4 2.1978001328564907\n",
      "5 1.8701329104505173\n",
      "6 1.6085706200749976\n",
      "7 1.395859096922987\n",
      "8 1.219776103481531\n",
      "9 1.071673548527167\n",
      "10 0.9454042173986277\n",
      "11 0.8365519460763441\n",
      "12 0.7418922176652826\n",
      "13 0.6590211486845942\n",
      "14 0.5861035861606348\n",
      "15 0.521703343993584\n",
      "16 0.4646690404833114\n",
      "17 0.41405710052621914\n",
      "18 0.36907941151916573\n",
      "19 0.32906728111536593\n",
      "20 0.2934461823560181\n",
      "21 0.26171766974985294\n",
      "22 0.23344610263606608\n",
      "23 0.20824863165390295\n",
      "24 0.18578743718589846\n",
      "25 0.16576355429453524\n",
      "26 0.1479118425918237\n",
      "27 0.13199680467549518\n",
      "28 0.11780905117887548\n",
      "29 0.10516227217337341\n",
      "30 0.09389061526203574\n",
      "31 0.08384639768153655\n",
      "32 0.07489809788274475\n",
      "33 0.06692858446156284\n",
      "34 0.059833548934289896\n",
      "35 0.053520114961740764\n",
      "36 0.04790560103922333\n",
      "37 0.04291641691505794\n",
      "38 0.03848707643119927\n",
      "39 0.03455931134489727\n",
      "40 0.031081272189155237\n",
      "41 0.028006803551100277\n",
      "42 0.025294782500519343\n",
      "43 0.022908510529922984\n",
      "44 0.020815151539226782\n",
      "45 0.018985211342437424\n",
      "46 0.0173920579625876\n",
      "47 0.01601148635330328\n",
      "48 0.014821335381780796\n",
      "49 0.013801167653709154\n",
      "50 0.012932022558023277\n",
      "51 0.012196248697385637\n",
      "52 0.011577413829196111\n",
      "53 0.011060280428533213\n",
      "54 0.010630826098464219\n",
      "55 0.010276283341034212\n",
      "56 0.009985174197382018\n",
      "57 0.009747321303587245\n",
      "58 0.009553825630505617\n",
      "59 0.009397009787006975\n",
      "60 0.009270332212778279\n",
      "61 0.009168281065511836\n",
      "62 0.009086257392071582\n",
      "63 0.009020456108181066\n",
      "64 0.008967751324438049\n",
      "65 0.008925590373994173\n",
      "66 0.008891898957824601\n",
      "67 0.008864998317544117\n",
      "68 0.008843534298286564\n",
      "69 0.008826417513684025\n",
      "70 0.0088127734790327\n",
      "71 0.008801901445847703\n",
      "72 0.00879324067498344\n",
      "73 0.00878634296915783\n",
      "74 0.008780850409315736\n",
      "75 0.008776477376988853\n",
      "76 0.008772996081077112\n",
      "77 0.00877022493371007\n",
      "78 0.008768019232048532\n",
      "79 0.008766263699855144\n",
      "80 0.008764866524816709\n",
      "81 0.008763754596204496\n",
      "82 0.008762869704124364\n",
      "83 0.008762165508030304\n",
      "84 0.008761605119965748\n",
      "85 0.008761159178616739\n",
      "86 0.008760804314965003\n",
      "87 0.008760521930215866\n",
      "88 0.0087602972226305\n",
      "89 0.008760118412689021\n",
      "90 0.008759976126238378\n",
      "91 0.008759862903460588\n",
      "92 0.008759772808028648\n",
      "93 0.008759701116026815\n",
      "94 0.008759644068368167\n",
      "95 0.008759598673758104\n",
      "96 0.008759562551887118\n",
      "97 0.008759533808643864\n",
      "98 0.008759510936810638\n",
      "99 0.0087594927370398\n"
     ]
    }
   ],
   "source": [
    "\n",
    "lr = 1.55e-1\n",
    "p = torch.tensor([0.0, 0.0, 0.0], dtype=torch.float64, requires_grad=True)\n",
    "optimizer = torch.optim.SGD(params=[p], lr=lr)\n",
    "\n",
    "for i in range(100):\n",
    "    w_pred = xyz @ p\n",
    "    loss = error_mean(w=w, w_pred=w_pred) # loss is a \"tracking\" tensor\n",
    "    loss.backward()\n",
    "    print(i, RMS(w, w_pred).item())\n",
    "    optimizer.step()\n",
    "    optimizer.zero_grad()"
   ]
  },
  {
   "cell_type": "code",
   "execution_count": 48,
   "id": "c7a26200-c1ee-47a8-ad01-07bc036038af",
   "metadata": {},
   "outputs": [
    {
     "data": {
      "text/plain": [
       "tensor([ -717.3981,   687.5890, -1293.4126], dtype=torch.float64,\n",
       "       requires_grad=True)"
      ]
     },
     "execution_count": 48,
     "metadata": {},
     "output_type": "execute_result"
    }
   ],
   "source": [
    "p # [alpha, beta, gamma]"
   ]
  },
  {
   "cell_type": "code",
   "execution_count": 10,
   "id": "5d47b134-2ae6-4978-8e0d-8bf281bf9ace",
   "metadata": {},
   "outputs": [],
   "source": [
    "df = pd.DataFrame()\n",
    "df[\"w\"] = w\n",
    "df[\"w (pred)\"] = xyz @ p.detach()"
   ]
  },
  {
   "cell_type": "code",
   "execution_count": 11,
   "id": "7a22885d-0b3e-444a-9c73-4bb88fb2d817",
   "metadata": {},
   "outputs": [
    {
     "data": {
      "text/plain": [
       "tensor([1., 2., 3.], requires_grad=True)"
      ]
     },
     "execution_count": 11,
     "metadata": {},
     "output_type": "execute_result"
    }
   ],
   "source": [
    "t = torch.tensor([1.0, 2.0, 3.0], requires_grad=True)\n",
    "t"
   ]
  },
  {
   "cell_type": "code",
   "execution_count": 12,
   "id": "30d72f26-3d49-4ae5-90e3-4c50b8a0e369",
   "metadata": {},
   "outputs": [
    {
     "data": {
      "text/plain": [
       "tensor([1., 2., 3.])"
      ]
     },
     "execution_count": 12,
     "metadata": {},
     "output_type": "execute_result"
    }
   ],
   "source": [
    "t.detach()"
   ]
  },
  {
   "cell_type": "code",
   "execution_count": 13,
   "id": "6ad96fe2-41fc-4399-9562-cafe49df1b7b",
   "metadata": {},
   "outputs": [],
   "source": [
    "t.detach()[0] = 0.0"
   ]
  },
  {
   "cell_type": "code",
   "execution_count": 14,
   "id": "0c667e12-459e-484e-9dbe-5ae12a84877e",
   "metadata": {},
   "outputs": [
    {
     "data": {
      "text/plain": [
       "tensor([0., 2., 3.])"
      ]
     },
     "execution_count": 14,
     "metadata": {},
     "output_type": "execute_result"
    }
   ],
   "source": [
    "t.detach().clone()"
   ]
  },
  {
   "cell_type": "code",
   "execution_count": 15,
   "id": "85a5321a-6386-4409-9d78-1344a959186f",
   "metadata": {},
   "outputs": [
    {
     "data": {
      "text/plain": [
       "tensor([0., 2., 3.], requires_grad=True)"
      ]
     },
     "execution_count": 15,
     "metadata": {},
     "output_type": "execute_result"
    }
   ],
   "source": [
    "t.detach().clone()[0] = 12.0\n",
    "t"
   ]
  },
  {
   "cell_type": "code",
   "execution_count": 16,
   "id": "bd938f6a-5399-48bb-89fc-811c0006163e",
   "metadata": {},
   "outputs": [
    {
     "data": {
      "text/plain": [
       "tensor([0., 2., 3.], requires_grad=True)"
      ]
     },
     "execution_count": 16,
     "metadata": {},
     "output_type": "execute_result"
    }
   ],
   "source": [
    "t"
   ]
  },
  {
   "cell_type": "code",
   "execution_count": 17,
   "id": "13f6e94e-d9c5-455b-b659-b0e93e6ec300",
   "metadata": {},
   "outputs": [
    {
     "data": {
      "text/html": [
       "<div>\n",
       "<style scoped>\n",
       "    .dataframe tbody tr th:only-of-type {\n",
       "        vertical-align: middle;\n",
       "    }\n",
       "\n",
       "    .dataframe tbody tr th {\n",
       "        vertical-align: top;\n",
       "    }\n",
       "\n",
       "    .dataframe thead th {\n",
       "        text-align: right;\n",
       "    }\n",
       "</style>\n",
       "<table border=\"1\" class=\"dataframe\">\n",
       "  <thead>\n",
       "    <tr style=\"text-align: right;\">\n",
       "      <th></th>\n",
       "      <th>w</th>\n",
       "      <th>w (pred)</th>\n",
       "    </tr>\n",
       "  </thead>\n",
       "  <tbody>\n",
       "    <tr>\n",
       "      <th>0</th>\n",
       "      <td>12.522816</td>\n",
       "      <td>12.506561</td>\n",
       "    </tr>\n",
       "    <tr>\n",
       "      <th>1</th>\n",
       "      <td>-0.084809</td>\n",
       "      <td>-0.099431</td>\n",
       "    </tr>\n",
       "    <tr>\n",
       "      <th>2</th>\n",
       "      <td>-2.777417</td>\n",
       "      <td>-2.777272</td>\n",
       "    </tr>\n",
       "    <tr>\n",
       "      <th>3</th>\n",
       "      <td>-1.299913</td>\n",
       "      <td>-1.294377</td>\n",
       "    </tr>\n",
       "    <tr>\n",
       "      <th>4</th>\n",
       "      <td>-2.059190</td>\n",
       "      <td>-2.068541</td>\n",
       "    </tr>\n",
       "    <tr>\n",
       "      <th>...</th>\n",
       "      <td>...</td>\n",
       "      <td>...</td>\n",
       "    </tr>\n",
       "    <tr>\n",
       "      <th>95</th>\n",
       "      <td>-3.372359</td>\n",
       "      <td>-3.382119</td>\n",
       "    </tr>\n",
       "    <tr>\n",
       "      <th>96</th>\n",
       "      <td>9.381154</td>\n",
       "      <td>9.372666</td>\n",
       "    </tr>\n",
       "    <tr>\n",
       "      <th>97</th>\n",
       "      <td>14.040586</td>\n",
       "      <td>14.046984</td>\n",
       "    </tr>\n",
       "    <tr>\n",
       "      <th>98</th>\n",
       "      <td>2.795322</td>\n",
       "      <td>2.798389</td>\n",
       "    </tr>\n",
       "    <tr>\n",
       "      <th>99</th>\n",
       "      <td>3.624820</td>\n",
       "      <td>3.631382</td>\n",
       "    </tr>\n",
       "  </tbody>\n",
       "</table>\n",
       "<p>100 rows × 2 columns</p>\n",
       "</div>"
      ],
      "text/plain": [
       "            w   w (pred)\n",
       "0   12.522816  12.506561\n",
       "1   -0.084809  -0.099431\n",
       "2   -2.777417  -2.777272\n",
       "3   -1.299913  -1.294377\n",
       "4   -2.059190  -2.068541\n",
       "..        ...        ...\n",
       "95  -3.372359  -3.382119\n",
       "96   9.381154   9.372666\n",
       "97  14.040586  14.046984\n",
       "98   2.795322   2.798389\n",
       "99   3.624820   3.631382\n",
       "\n",
       "[100 rows x 2 columns]"
      ]
     },
     "execution_count": 17,
     "metadata": {},
     "output_type": "execute_result"
    }
   ],
   "source": [
    "df"
   ]
  },
  {
   "cell_type": "code",
   "execution_count": 18,
   "id": "04ca3143-0da0-4818-9b61-9561b30cacfd",
   "metadata": {},
   "outputs": [
    {
     "data": {
      "image/png": "[encoded data removed]",
      "text/plain": [
       "<Figure size 500x500 with 6 Axes>"
      ]
     },
     "metadata": {},
     "output_type": "display_data"
    }
   ],
   "source": [
    "import seaborn as sns\n",
    "sns.pairplot(df)\n",
    "None"
   ]
  },
  {
   "cell_type": "code",
   "execution_count": null,
   "id": "f4299a02-9348-46e9-8f89-234d45e20741",
   "metadata": {},
   "outputs": [],
   "source": []
  }
 ],
 "metadata": {
  "kernelspec": {
   "display_name": "Python 3 (ipykernel)",
   "language": "python",
   "name": "python3"
  },
  "language_info": {
   "codemirror_mode": {
    "name": "ipython",
    "version": 3
   },
   "file_extension": ".py",
   "mimetype": "text/x-python",
   "name": "python",
   "nbconvert_exporter": "python",
   "pygments_lexer": "ipython3",
   "version": "3.12.2"
  }
 },
 "nbformat": 4,
 "nbformat_minor": 5
}

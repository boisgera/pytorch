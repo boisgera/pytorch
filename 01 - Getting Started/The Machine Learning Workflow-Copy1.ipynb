{
 "cells": [
  {
   "cell_type": "markdown",
   "id": "be92d45c-9125-497e-9aa4-048ec0d82e54",
   "metadata": {},
   "source": [
    "# The Machine Learning Workflow\n",
    "\n",
    "Source: [Pytorch / Learn the Basics](https://pytorch.org/tutorials/beginner/basics/intro.html)"
   ]
  },
  {
   "cell_type": "code",
   "execution_count": 1,
   "id": "6c1d361c-5e1b-46c5-b607-fd25566a8428",
   "metadata": {},
   "outputs": [],
   "source": [
    "import torch\n",
    "import torchvision"
   ]
  },
  {
   "cell_type": "markdown",
   "id": "e681cd9d-c913-440a-92b1-731956c5313b",
   "metadata": {},
   "source": [
    "## The FashionMNIST Dataset "
   ]
  },
  {
   "cell_type": "code",
   "execution_count": 2,
   "id": "f93d4548-fd7b-45c3-9a39-61e34a0e3335",
   "metadata": {},
   "outputs": [],
   "source": [
    "# Download training data from open datasets.\n",
    "training_data = torchvision.datasets.FashionMNIST(\n",
    "    root=\"data\",\n",
    "    train=True,\n",
    "    download=True,\n",
    "    transform=torchvision.transforms.ToTensor(),\n",
    ")\n",
    "\n",
    "# Download test data from open datasets.\n",
    "test_data = torchvision.datasets.FashionMNIST(\n",
    "    root=\"data\",\n",
    "    train=False,\n",
    "    download=True,\n",
    "    transform=torchvision.transforms.ToTensor(),\n",
    ")"
   ]
  },
  {
   "cell_type": "markdown",
   "id": "420ce320-c734-4ab8-a377-c4b9c235c54a",
   "metadata": {},
   "source": [
    "## Neural Network Model"
   ]
  },
  {
   "cell_type": "code",
   "execution_count": 3,
   "id": "543ed589-c9b9-4376-8ff5-ded427307b2e",
   "metadata": {},
   "outputs": [],
   "source": [
    "class NeuralNetwork(torch.nn.Module):\n",
    "    def __init__(self):\n",
    "        super().__init__()\n",
    "        self.flatten = torch.nn.Flatten()\n",
    "        self.linear_1 = torch.nn.Linear(28*28, 512)\n",
    "        self.relu_1 = torch.nn.ReLU()\n",
    "        self.linear_2 = torch.nn.Linear(512, 512)\n",
    "        self.relu_2 = torch.nn.ReLU()\n",
    "        self.linear_3 = torch.nn.Linear(512, 10)\n",
    "\n",
    "    def forward(self, image_tensor):\n",
    "        image_flat = self.flatten(image_tensor)\n",
    "        x_0 = image_flat\n",
    "        x_1 = self.linear_1(x_0)\n",
    "        x_1 = self.relu_1(x_1)\n",
    "        x_2 = self.linear_2(x_1)\n",
    "        x_2 = self.relu_2(x_2)\n",
    "        x_3 = self.linear_3(x_2)\n",
    "        logits = x_3\n",
    "        return logits"
   ]
  },
  {
   "cell_type": "code",
   "execution_count": 4,
   "id": "165d4e2f-41a4-4ee7-8d36-a5cb59275934",
   "metadata": {},
   "outputs": [
    {
     "name": "stdout",
     "output_type": "stream",
     "text": [
      "NeuralNetwork(\n",
      "  (flatten): Flatten(start_dim=1, end_dim=-1)\n",
      "  (linear_1): Linear(in_features=784, out_features=512, bias=True)\n",
      "  (relu_1): ReLU()\n",
      "  (linear_2): Linear(in_features=512, out_features=512, bias=True)\n",
      "  (relu_2): ReLU()\n",
      "  (linear_3): Linear(in_features=512, out_features=10, bias=True)\n",
      ")\n"
     ]
    }
   ],
   "source": [
    "model = NeuralNetwork()\n",
    "print(model)"
   ]
  },
  {
   "cell_type": "markdown",
   "id": "f61f1b95-6b16-4504-85e9-53521e1c1737",
   "metadata": {},
   "source": [
    "## Training"
   ]
  },
  {
   "cell_type": "code",
   "execution_count": 5,
   "id": "a0b9ba81-fcc2-488b-b697-2f7ae3ad1055",
   "metadata": {},
   "outputs": [
    {
     "name": "stdout",
     "output_type": "stream",
     "text": [
      "Shape of X [N, C, H, W]: torch.Size([64, 1, 28, 28])\n",
      "Shape of y: torch.Size([64]) torch.int64\n"
     ]
    }
   ],
   "source": [
    "batch_size = 64\n",
    "\n",
    "# Create data loaders.\n",
    "train_dataloader = torch.utils.data.DataLoader(training_data, batch_size=batch_size)\n",
    "test_dataloader = torch.utils.data.DataLoader(test_data, batch_size=batch_size)\n",
    "\n",
    "for X, y in test_dataloader:\n",
    "    print(f\"Shape of X [N, C, H, W]: {X.shape}\")\n",
    "    print(f\"Shape of y: {y.shape} {y.dtype}\")\n",
    "    break"
   ]
  },
  {
   "cell_type": "code",
   "execution_count": 6,
   "id": "c5071344-eebb-43aa-a2e6-abe371cea7c3",
   "metadata": {},
   "outputs": [],
   "source": [
    "loss_fn = torch.nn.CrossEntropyLoss()\n",
    "optimizer = torch.optim.SGD(model.parameters(), lr=1e-3)"
   ]
  },
  {
   "cell_type": "code",
   "execution_count": 7,
   "id": "b40c6413-f34f-4060-a4ab-71fc1dd26137",
   "metadata": {},
   "outputs": [],
   "source": [
    "def train(dataloader, model, loss_fn, optimizer):\n",
    "    size = len(dataloader.dataset)\n",
    "    model.train()\n",
    "    for batch, (X, y) in enumerate(dataloader):\n",
    "        # Compute prediction error\n",
    "        pred = model(X)\n",
    "        loss = loss_fn(pred, y)\n",
    "\n",
    "        # Backpropagation\n",
    "        loss.backward()\n",
    "        optimizer.step()\n",
    "        optimizer.zero_grad()\n",
    "\n",
    "        if batch % 100 == 0:\n",
    "            loss, current = loss.item(), (batch + 1) * len(X)\n",
    "            print(f\"loss: {loss:>7f}  [{current:>5d}/{size:>5d}]\")"
   ]
  },
  {
   "cell_type": "code",
   "execution_count": 8,
   "id": "05342f5e-b04b-4698-b192-a13d9015e5d6",
   "metadata": {},
   "outputs": [],
   "source": [
    "def test(dataloader, model, loss_fn):\n",
    "    size = len(dataloader.dataset)\n",
    "    num_batches = len(dataloader)\n",
    "    model.eval()\n",
    "    test_loss, correct = 0, 0\n",
    "    with torch.no_grad():\n",
    "        for X, y in dataloader:\n",
    "            pred = model(X)\n",
    "            test_loss += loss_fn(pred, y).item()\n",
    "            correct += (pred.argmax(1) == y).type(torch.float).sum().item()\n",
    "    test_loss /= num_batches\n",
    "    correct /= size\n",
    "    print(f\"Test Error: \\n Accuracy: {(100*correct):>0.1f}%, Avg loss: {test_loss:>8f} \\n\")"
   ]
  },
  {
   "cell_type": "code",
   "execution_count": 9,
   "id": "d7e912bc-4e8a-4dbb-824f-d62ae9f2ae2d",
   "metadata": {},
   "outputs": [
    {
     "name": "stdout",
     "output_type": "stream",
     "text": [
      "Test Error: \n",
      " Accuracy: 13.3%, Avg loss: 2.301862 \n",
      "\n",
      "Epoch 1\n",
      "-------------------------------\n",
      "loss: 2.305230  [   64/60000]\n",
      "loss: 2.295716  [ 6464/60000]\n",
      "loss: 2.282937  [12864/60000]\n",
      "loss: 2.273963  [19264/60000]\n",
      "loss: 2.243748  [25664/60000]\n",
      "loss: 2.232301  [32064/60000]\n",
      "loss: 2.232475  [38464/60000]\n",
      "loss: 2.206668  [44864/60000]\n",
      "loss: 2.200647  [51264/60000]\n",
      "loss: 2.164821  [57664/60000]\n",
      "Test Error: \n",
      " Accuracy: 45.2%, Avg loss: 2.164538 \n",
      "\n",
      "Epoch 2\n",
      "-------------------------------\n",
      "loss: 2.179728  [   64/60000]\n",
      "loss: 2.170717  [ 6464/60000]\n",
      "loss: 2.120047  [12864/60000]\n",
      "loss: 2.129733  [19264/60000]\n",
      "loss: 2.071230  [25664/60000]\n",
      "loss: 2.026939  [32064/60000]\n",
      "loss: 2.048179  [38464/60000]\n",
      "loss: 1.975792  [44864/60000]\n",
      "loss: 1.978917  [51264/60000]\n",
      "loss: 1.906634  [57664/60000]\n",
      "Test Error: \n",
      " Accuracy: 50.3%, Avg loss: 1.905792 \n",
      "\n",
      "Epoch 3\n",
      "-------------------------------\n",
      "loss: 1.941822  [   64/60000]\n",
      "loss: 1.910281  [ 6464/60000]\n",
      "loss: 1.801955  [12864/60000]\n",
      "loss: 1.841447  [19264/60000]\n",
      "loss: 1.722957  [25664/60000]\n",
      "loss: 1.687175  [32064/60000]\n",
      "loss: 1.706201  [38464/60000]\n",
      "loss: 1.608674  [44864/60000]\n",
      "loss: 1.633827  [51264/60000]\n",
      "loss: 1.534229  [57664/60000]\n",
      "Test Error: \n",
      " Accuracy: 58.8%, Avg loss: 1.547806 \n",
      "\n",
      "Epoch 4\n",
      "-------------------------------\n",
      "loss: 1.612916  [   64/60000]\n",
      "loss: 1.574816  [ 6464/60000]\n",
      "loss: 1.435371  [12864/60000]\n",
      "loss: 1.507861  [19264/60000]\n",
      "loss: 1.385864  [25664/60000]\n",
      "loss: 1.383643  [32064/60000]\n",
      "loss: 1.394428  [38464/60000]\n",
      "loss: 1.321333  [44864/60000]\n",
      "loss: 1.351851  [51264/60000]\n",
      "loss: 1.253357  [57664/60000]\n",
      "Test Error: \n",
      " Accuracy: 63.1%, Avg loss: 1.279005 \n",
      "\n",
      "Epoch 5\n",
      "-------------------------------\n",
      "loss: 1.355592  [   64/60000]\n",
      "loss: 1.330414  [ 6464/60000]\n",
      "loss: 1.175773  [12864/60000]\n",
      "loss: 1.277862  [19264/60000]\n",
      "loss: 1.154552  [25664/60000]\n",
      "loss: 1.179376  [32064/60000]\n",
      "loss: 1.191999  [38464/60000]\n",
      "loss: 1.137311  [44864/60000]\n",
      "loss: 1.168480  [51264/60000]\n",
      "loss: 1.080042  [57664/60000]\n",
      "Test Error: \n",
      " Accuracy: 64.7%, Avg loss: 1.104535 \n",
      "\n",
      "Epoch 6\n",
      "-------------------------------\n",
      "loss: 1.177041  [   64/60000]\n",
      "loss: 1.168782  [ 6464/60000]\n",
      "loss: 0.998077  [12864/60000]\n",
      "loss: 1.127497  [19264/60000]\n",
      "loss: 1.004281  [25664/60000]\n",
      "loss: 1.037254  [32064/60000]\n",
      "loss: 1.063482  [38464/60000]\n",
      "loss: 1.016521  [44864/60000]\n",
      "loss: 1.047919  [51264/60000]\n",
      "loss: 0.969110  [57664/60000]\n",
      "Test Error: \n",
      " Accuracy: 65.7%, Avg loss: 0.989988 \n",
      "\n",
      "Epoch 7\n",
      "-------------------------------\n",
      "loss: 1.050781  [   64/60000]\n",
      "loss: 1.062177  [ 6464/60000]\n",
      "loss: 0.874989  [12864/60000]\n",
      "loss: 1.026495  [19264/60000]\n",
      "loss: 0.907624  [25664/60000]\n",
      "loss: 0.936367  [32064/60000]\n",
      "loss: 0.980052  [38464/60000]\n",
      "loss: 0.937486  [44864/60000]\n",
      "loss: 0.965481  [51264/60000]\n",
      "loss: 0.895632  [57664/60000]\n",
      "Test Error: \n",
      " Accuracy: 67.0%, Avg loss: 0.912854 \n",
      "\n",
      "Epoch 8\n",
      "-------------------------------\n",
      "loss: 0.959086  [   64/60000]\n",
      "loss: 0.989412  [ 6464/60000]\n",
      "loss: 0.787997  [12864/60000]\n",
      "loss: 0.956490  [19264/60000]\n",
      "loss: 0.844029  [25664/60000]\n",
      "loss: 0.863544  [32064/60000]\n",
      "loss: 0.922990  [38464/60000]\n",
      "loss: 0.885186  [44864/60000]\n",
      "loss: 0.907307  [51264/60000]\n",
      "loss: 0.844360  [57664/60000]\n",
      "Test Error: \n",
      " Accuracy: 67.9%, Avg loss: 0.858763 \n",
      "\n",
      "Epoch 9\n",
      "-------------------------------\n",
      "loss: 0.890168  [   64/60000]\n",
      "loss: 0.936722  [ 6464/60000]\n",
      "loss: 0.724611  [12864/60000]\n",
      "loss: 0.905723  [19264/60000]\n",
      "loss: 0.799666  [25664/60000]\n",
      "loss: 0.809906  [32064/60000]\n",
      "loss: 0.881329  [38464/60000]\n",
      "loss: 0.849328  [44864/60000]\n",
      "loss: 0.864588  [51264/60000]\n",
      "loss: 0.806640  [57664/60000]\n",
      "Test Error: \n",
      " Accuracy: 69.0%, Avg loss: 0.818903 \n",
      "\n",
      "Epoch 10\n",
      "-------------------------------\n",
      "loss: 0.836209  [   64/60000]\n",
      "loss: 0.896045  [ 6464/60000]\n",
      "loss: 0.676519  [12864/60000]\n",
      "loss: 0.867578  [19264/60000]\n",
      "loss: 0.766930  [25664/60000]\n",
      "loss: 0.769711  [32064/60000]\n",
      "loss: 0.848802  [38464/60000]\n",
      "loss: 0.823450  [44864/60000]\n",
      "loss: 0.831720  [51264/60000]\n",
      "loss: 0.777387  [57664/60000]\n",
      "Test Error: \n",
      " Accuracy: 70.0%, Avg loss: 0.787955 \n",
      "\n",
      "Done!\n"
     ]
    }
   ],
   "source": [
    "test(test_dataloader, model, loss_fn)\n",
    "\n",
    "epochs = 10\n",
    "for t in range(epochs):\n",
    "    print(f\"Epoch {t+1}\\n-------------------------------\")\n",
    "    train(train_dataloader, model, loss_fn, optimizer)\n",
    "    test(test_dataloader, model, loss_fn)\n",
    "print(\"Done!\")"
   ]
  },
  {
   "cell_type": "code",
   "execution_count": 10,
   "id": "e69ce9ce-c190-4653-8c52-2ae96989779a",
   "metadata": {},
   "outputs": [
    {
     "name": "stdout",
     "output_type": "stream",
     "text": [
      "Saved PyTorch Model State to models/base-model.pth\n"
     ]
    }
   ],
   "source": [
    "torch.save(model.state_dict(), \"models/base-model.pth\")\n",
    "print(\"Saved PyTorch Model State to models/base-model.pth\")"
   ]
  },
  {
   "cell_type": "markdown",
   "id": "9a25d704-be52-414f-a3c5-b6273237ad14",
   "metadata": {},
   "source": [
    "## Use the Model"
   ]
  },
  {
   "cell_type": "code",
   "execution_count": 11,
   "id": "bcb319a0-3703-44a9-bbbb-8503012ffe1e",
   "metadata": {},
   "outputs": [
    {
     "data": {
      "text/plain": [
       "<All keys matched successfully>"
      ]
     },
     "execution_count": 11,
     "metadata": {},
     "output_type": "execute_result"
    }
   ],
   "source": [
    "model = NeuralNetwork()\n",
    "model.load_state_dict(torch.load(\"models/base-model.pth\"))"
   ]
  },
  {
   "cell_type": "code",
   "execution_count": 12,
   "id": "87081abf-1fb9-4ac6-9067-7490581dbd66",
   "metadata": {},
   "outputs": [
    {
     "name": "stdout",
     "output_type": "stream",
     "text": [
      "Predicted: \"Ankle boot\", Actual: \"Ankle boot\"\n"
     ]
    }
   ],
   "source": [
    "classes = test_data.classes\n",
    "\n",
    "model.eval()\n",
    "x, y = test_data[0][0], test_data[0][1]\n",
    "with torch.no_grad():\n",
    "    pred = model(x)\n",
    "    predicted, actual = classes[pred[0].argmax(0)], classes[y]\n",
    "    print(f'Predicted: \"{predicted}\", Actual: \"{actual}\"')"
   ]
  }
 ],
 "metadata": {
  "kernelspec": {
   "display_name": "Python 3 (ipykernel)",
   "language": "python",
   "name": "python3"
  },
  "language_info": {
   "codemirror_mode": {
    "name": "ipython",
    "version": 3
   },
   "file_extension": ".py",
   "mimetype": "text/x-python",
   "name": "python",
   "nbconvert_exporter": "python",
   "pygments_lexer": "ipython3",
   "version": "3.12.2"
  }
 },
 "nbformat": 4,
 "nbformat_minor": 5
}

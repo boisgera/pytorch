{
 "cells": [
  {
   "cell_type": "markdown",
   "id": "be92d45c-9125-497e-9aa4-048ec0d82e54",
   "metadata": {},
   "source": [
    "# The Machine Learning Workflow\n",
    "\n",
    "Source: [Pytorch / Learn the Basics](https://pytorch.org/tutorials/beginner/basics/intro.html)"
   ]
  },
  {
   "cell_type": "code",
   "execution_count": 1,
   "id": "6c1d361c-5e1b-46c5-b607-fd25566a8428",
   "metadata": {},
   "outputs": [],
   "source": [
    "import torch\n",
    "import torchvision"
   ]
  },
  {
   "cell_type": "markdown",
   "id": "e681cd9d-c913-440a-92b1-731956c5313b",
   "metadata": {},
   "source": [
    "## The FashionMNIST Dataset "
   ]
  },
  {
   "cell_type": "code",
   "execution_count": 2,
   "id": "f93d4548-fd7b-45c3-9a39-61e34a0e3335",
   "metadata": {},
   "outputs": [],
   "source": [
    "# Download training data from open datasets.\n",
    "training_data = torchvision.datasets.FashionMNIST(\n",
    "    root=\"data\",\n",
    "    train=True,\n",
    "    download=True,\n",
    "    transform=torchvision.transforms.ToTensor(),\n",
    ")\n",
    "\n",
    "# Download test data from open datasets.\n",
    "test_data = torchvision.datasets.FashionMNIST(\n",
    "    root=\"data\",\n",
    "    train=False,\n",
    "    download=True,\n",
    "    transform=torchvision.transforms.ToTensor(),\n",
    ")"
   ]
  },
  {
   "cell_type": "markdown",
   "id": "420ce320-c734-4ab8-a377-c4b9c235c54a",
   "metadata": {},
   "source": [
    "## Neural Network Model"
   ]
  },
  {
   "cell_type": "code",
   "execution_count": 3,
   "id": "543ed589-c9b9-4376-8ff5-ded427307b2e",
   "metadata": {},
   "outputs": [],
   "source": [
    "class NeuralNetwork(torch.nn.Module):\n",
    "    def __init__(self):\n",
    "        super().__init__()\n",
    "        self.flatten = torch.nn.Flatten()\n",
    "        self.linear_1 = torch.nn.Linear(28*28, 512)\n",
    "        self.relu_1 = torch.nn.ReLU()\n",
    "        self.linear_2 = torch.nn.Linear(512, 512)\n",
    "        self.relu_2 = torch.nn.ReLU()\n",
    "        self.linear_3 = torch.nn.Linear(512, 10)\n",
    "\n",
    "    def forward(self, image_tensor):\n",
    "        image_flat = self.flatten(image_tensor)\n",
    "        x_0 = image_flat\n",
    "        x_1 = self.linear_1(x_0)\n",
    "        x_1 = self.relu_1(x_1)\n",
    "        x_2 = self.linear_2(x_1)\n",
    "        x_2 = self.relu_2(x_2)\n",
    "        x_3 = self.linear_3(x_2)\n",
    "        logits = x_3\n",
    "        return logits"
   ]
  },
  {
   "cell_type": "code",
   "execution_count": 4,
   "id": "165d4e2f-41a4-4ee7-8d36-a5cb59275934",
   "metadata": {},
   "outputs": [
    {
     "name": "stdout",
     "output_type": "stream",
     "text": [
      "NeuralNetwork(\n",
      "  (flatten): Flatten(start_dim=1, end_dim=-1)\n",
      "  (linear_1): Linear(in_features=784, out_features=512, bias=True)\n",
      "  (relu_1): ReLU()\n",
      "  (linear_2): Linear(in_features=512, out_features=512, bias=True)\n",
      "  (relu_2): ReLU()\n",
      "  (linear_3): Linear(in_features=512, out_features=10, bias=True)\n",
      ")\n"
     ]
    }
   ],
   "source": [
    "model = NeuralNetwork()\n",
    "print(model)"
   ]
  },
  {
   "cell_type": "markdown",
   "id": "f61f1b95-6b16-4504-85e9-53521e1c1737",
   "metadata": {},
   "source": [
    "## Training"
   ]
  },
  {
   "cell_type": "code",
   "execution_count": 5,
   "id": "a0b9ba81-fcc2-488b-b697-2f7ae3ad1055",
   "metadata": {},
   "outputs": [
    {
     "name": "stdout",
     "output_type": "stream",
     "text": [
      "Shape of X [N, C, H, W]: torch.Size([64, 1, 28, 28])\n",
      "Shape of y: torch.Size([64]) torch.int64\n"
     ]
    }
   ],
   "source": [
    "batch_size = 64\n",
    "\n",
    "# Create data loaders.\n",
    "train_dataloader = torch.utils.data.DataLoader(training_data, batch_size=batch_size)\n",
    "test_dataloader = torch.utils.data.DataLoader(test_data, batch_size=batch_size)\n",
    "\n",
    "for X, y in test_dataloader:\n",
    "    print(f\"Shape of X [N, C, H, W]: {X.shape}\")\n",
    "    print(f\"Shape of y: {y.shape} {y.dtype}\")\n",
    "    break"
   ]
  },
  {
   "cell_type": "code",
   "execution_count": 6,
   "id": "c5071344-eebb-43aa-a2e6-abe371cea7c3",
   "metadata": {},
   "outputs": [],
   "source": [
    "loss_fn = torch.nn.CrossEntropyLoss()\n",
    "optimizer = torch.optim.SGD(model.parameters(), lr=1e-3)"
   ]
  },
  {
   "cell_type": "code",
   "execution_count": 7,
   "id": "b40c6413-f34f-4060-a4ab-71fc1dd26137",
   "metadata": {},
   "outputs": [],
   "source": [
    "def train(dataloader, model, loss_fn, optimizer):\n",
    "    size = len(dataloader.dataset)\n",
    "    model.train()\n",
    "    for batch, (X, y) in enumerate(dataloader):\n",
    "        # Compute prediction error\n",
    "        pred = model(X)\n",
    "        loss = loss_fn(pred, y)\n",
    "\n",
    "        # Backpropagation\n",
    "        loss.backward()\n",
    "        optimizer.step()\n",
    "        optimizer.zero_grad()\n",
    "\n",
    "        if batch % 100 == 0:\n",
    "            loss, current = loss.item(), (batch + 1) * len(X)\n",
    "            print(f\"loss: {loss:>7f}  [{current:>5d}/{size:>5d}]\")"
   ]
  },
  {
   "cell_type": "code",
   "execution_count": 8,
   "id": "05342f5e-b04b-4698-b192-a13d9015e5d6",
   "metadata": {},
   "outputs": [],
   "source": [
    "def test(dataloader, model, loss_fn):\n",
    "    size = len(dataloader.dataset)\n",
    "    num_batches = len(dataloader)\n",
    "    model.eval()\n",
    "    test_loss, correct = 0, 0\n",
    "    with torch.no_grad():\n",
    "        for X, y in dataloader:\n",
    "            pred = model(X)\n",
    "            test_loss += loss_fn(pred, y).item()\n",
    "            correct += (pred.argmax(1) == y).type(torch.float).sum().item()\n",
    "    test_loss /= num_batches\n",
    "    correct /= size\n",
    "    print(f\"Test Error: \\n Accuracy: {(100*correct):>0.1f}%, Avg loss: {test_loss:>8f} \\n\")"
   ]
  },
  {
   "cell_type": "code",
   "execution_count": 9,
   "id": "d7e912bc-4e8a-4dbb-824f-d62ae9f2ae2d",
   "metadata": {},
   "outputs": [
    {
     "name": "stdout",
     "output_type": "stream",
     "text": [
      "Test Error: \n",
      " Accuracy: 11.3%, Avg loss: 2.301137 \n",
      "\n",
      "Epoch 1\n",
      "-------------------------------\n",
      "loss: 2.300364  [   64/60000]\n",
      "loss: 2.285060  [ 6464/60000]\n",
      "loss: 2.267026  [12864/60000]\n",
      "loss: 2.272377  [19264/60000]\n",
      "loss: 2.243131  [25664/60000]\n",
      "loss: 2.220963  [32064/60000]\n",
      "loss: 2.235604  [38464/60000]\n",
      "loss: 2.204225  [44864/60000]\n",
      "loss: 2.202234  [51264/60000]\n",
      "loss: 2.182379  [57664/60000]\n",
      "Test Error: \n",
      " Accuracy: 43.9%, Avg loss: 2.164888 \n",
      "\n",
      "Epoch 2\n",
      "-------------------------------\n",
      "loss: 2.174365  [   64/60000]\n",
      "loss: 2.163682  [ 6464/60000]\n",
      "loss: 2.111275  [12864/60000]\n",
      "loss: 2.136062  [19264/60000]\n",
      "loss: 2.076841  [25664/60000]\n",
      "loss: 2.025592  [32064/60000]\n",
      "loss: 2.061626  [38464/60000]\n",
      "loss: 1.987211  [44864/60000]\n",
      "loss: 1.991948  [51264/60000]\n",
      "loss: 1.934569  [57664/60000]\n",
      "Test Error: \n",
      " Accuracy: 58.8%, Avg loss: 1.918066 \n",
      "\n",
      "Epoch 3\n",
      "-------------------------------\n",
      "loss: 1.948495  [   64/60000]\n",
      "loss: 1.922378  [ 6464/60000]\n",
      "loss: 1.804772  [12864/60000]\n",
      "loss: 1.853777  [19264/60000]\n",
      "loss: 1.735286  [25664/60000]\n",
      "loss: 1.682946  [32064/60000]\n",
      "loss: 1.714923  [38464/60000]\n",
      "loss: 1.612159  [44864/60000]\n",
      "loss: 1.632191  [51264/60000]\n",
      "loss: 1.533897  [57664/60000]\n",
      "Test Error: \n",
      " Accuracy: 61.3%, Avg loss: 1.537378 \n",
      "\n",
      "Epoch 4\n",
      "-------------------------------\n",
      "loss: 1.605949  [   64/60000]\n",
      "loss: 1.570271  [ 6464/60000]\n",
      "loss: 1.409805  [12864/60000]\n",
      "loss: 1.490861  [19264/60000]\n",
      "loss: 1.359331  [25664/60000]\n",
      "loss: 1.349016  [32064/60000]\n",
      "loss: 1.373138  [38464/60000]\n",
      "loss: 1.294626  [44864/60000]\n",
      "loss: 1.327654  [51264/60000]\n",
      "loss: 1.227471  [57664/60000]\n",
      "Test Error: \n",
      " Accuracy: 63.5%, Avg loss: 1.248185 \n",
      "\n",
      "Epoch 5\n",
      "-------------------------------\n",
      "loss: 1.331873  [   64/60000]\n",
      "loss: 1.313041  [ 6464/60000]\n",
      "loss: 1.136796  [12864/60000]\n",
      "loss: 1.251914  [19264/60000]\n",
      "loss: 1.121208  [25664/60000]\n",
      "loss: 1.137198  [32064/60000]\n",
      "loss: 1.169255  [38464/60000]\n",
      "loss: 1.104446  [44864/60000]\n",
      "loss: 1.144556  [51264/60000]\n",
      "loss: 1.058564  [57664/60000]\n",
      "Test Error: \n",
      " Accuracy: 64.8%, Avg loss: 1.076387 \n",
      "\n",
      "Epoch 6\n",
      "-------------------------------\n",
      "loss: 1.155170  [   64/60000]\n",
      "loss: 1.156357  [ 6464/60000]\n",
      "loss: 0.963905  [12864/60000]\n",
      "loss: 1.109440  [19264/60000]\n",
      "loss: 0.979584  [25664/60000]\n",
      "loss: 1.000256  [32064/60000]\n",
      "loss: 1.049635  [38464/60000]\n",
      "loss: 0.988427  [44864/60000]\n",
      "loss: 1.029962  [51264/60000]\n",
      "loss: 0.957983  [57664/60000]\n",
      "Test Error: \n",
      " Accuracy: 65.9%, Avg loss: 0.969398 \n",
      "\n",
      "Epoch 7\n",
      "-------------------------------\n",
      "loss: 1.035964  [   64/60000]\n",
      "loss: 1.057241  [ 6464/60000]\n",
      "loss: 0.848447  [12864/60000]\n",
      "loss: 1.016875  [19264/60000]\n",
      "loss: 0.892228  [25664/60000]\n",
      "loss: 0.905819  [32064/60000]\n",
      "loss: 0.973492  [38464/60000]\n",
      "loss: 0.915143  [44864/60000]\n",
      "loss: 0.952689  [51264/60000]\n",
      "loss: 0.892720  [57664/60000]\n",
      "Test Error: \n",
      " Accuracy: 67.3%, Avg loss: 0.898144 \n",
      "\n",
      "Epoch 8\n",
      "-------------------------------\n",
      "loss: 0.949926  [   64/60000]\n",
      "loss: 0.989632  [ 6464/60000]\n",
      "loss: 0.767650  [12864/60000]\n",
      "loss: 0.952196  [19264/60000]\n",
      "loss: 0.834807  [25664/60000]\n",
      "loss: 0.837526  [32064/60000]\n",
      "loss: 0.920195  [38464/60000]\n",
      "loss: 0.866529  [44864/60000]\n",
      "loss: 0.897556  [51264/60000]\n",
      "loss: 0.846533  [57664/60000]\n",
      "Test Error: \n",
      " Accuracy: 68.4%, Avg loss: 0.847319 \n",
      "\n",
      "Epoch 9\n",
      "-------------------------------\n",
      "loss: 0.884118  [   64/60000]\n",
      "loss: 0.939246  [ 6464/60000]\n",
      "loss: 0.707685  [12864/60000]\n",
      "loss: 0.904112  [19264/60000]\n",
      "loss: 0.793978  [25664/60000]\n",
      "loss: 0.786401  [32064/60000]\n",
      "loss: 0.879529  [38464/60000]\n",
      "loss: 0.832514  [44864/60000]\n",
      "loss: 0.856257  [51264/60000]\n",
      "loss: 0.811067  [57664/60000]\n",
      "Test Error: \n",
      " Accuracy: 69.6%, Avg loss: 0.808753 \n",
      "\n",
      "Epoch 10\n",
      "-------------------------------\n",
      "loss: 0.831386  [   64/60000]\n",
      "loss: 0.898841  [ 6464/60000]\n",
      "loss: 0.661295  [12864/60000]\n",
      "loss: 0.866740  [19264/60000]\n",
      "loss: 0.762713  [25664/60000]\n",
      "loss: 0.746963  [32064/60000]\n",
      "loss: 0.846019  [38464/60000]\n",
      "loss: 0.807019  [44864/60000]\n",
      "loss: 0.824005  [51264/60000]\n",
      "loss: 0.782351  [57664/60000]\n",
      "Test Error: \n",
      " Accuracy: 71.0%, Avg loss: 0.777889 \n",
      "\n",
      "Done!\n"
     ]
    }
   ],
   "source": [
    "test(test_dataloader, model, loss_fn)\n",
    "\n",
    "epochs = 10\n",
    "for t in range(epochs):\n",
    "    print(f\"Epoch {t+1}\\n-------------------------------\")\n",
    "    train(train_dataloader, model, loss_fn, optimizer)\n",
    "    test(test_dataloader, model, loss_fn)\n",
    "print(\"Done!\")"
   ]
  },
  {
   "cell_type": "code",
   "execution_count": 13,
   "id": "e69ce9ce-c190-4653-8c52-2ae96989779a",
   "metadata": {},
   "outputs": [
    {
     "name": "stdout",
     "output_type": "stream",
     "text": [
      "Saved PyTorch Model State to models/base-model.pth\n"
     ]
    }
   ],
   "source": [
    "torch.save(model.state_dict(), \"models/base-model.pth\")\n",
    "print(\"Saved PyTorch Model State to models/base-model.pth\")"
   ]
  },
  {
   "cell_type": "markdown",
   "id": "9a25d704-be52-414f-a3c5-b6273237ad14",
   "metadata": {},
   "source": [
    "## Use the Model"
   ]
  },
  {
   "cell_type": "code",
   "execution_count": 11,
   "id": "bcb319a0-3703-44a9-bbbb-8503012ffe1e",
   "metadata": {},
   "outputs": [
    {
     "data": {
      "text/plain": [
       "<All keys matched successfully>"
      ]
     },
     "execution_count": 11,
     "metadata": {},
     "output_type": "execute_result"
    }
   ],
   "source": [
    "model = NeuralNetwork()\n",
    "model.load_state_dict(torch.load(\"models/base-model.pth\"))"
   ]
  },
  {
   "cell_type": "code",
   "execution_count": 12,
   "id": "87081abf-1fb9-4ac6-9067-7490581dbd66",
   "metadata": {},
   "outputs": [
    {
     "name": "stdout",
     "output_type": "stream",
     "text": [
      "Predicted: \"Ankle boot\", Actual: \"Ankle boot\"\n"
     ]
    }
   ],
   "source": [
    "classes = test_data.classes\n",
    "\n",
    "model.eval()\n",
    "x, y = test_data[0][0], test_data[0][1]\n",
    "with torch.no_grad():\n",
    "    pred = model(x)\n",
    "    predicted, actual = classes[pred[0].argmax(0)], classes[y]\n",
    "    print(f'Predicted: \"{predicted}\", Actual: \"{actual}\"')"
   ]
  }
 ],
 "metadata": {
  "kernelspec": {
   "display_name": "Python 3 (ipykernel)",
   "language": "python",
   "name": "python3"
  },
  "language_info": {
   "codemirror_mode": {
    "name": "ipython",
    "version": 3
   },
   "file_extension": ".py",
   "mimetype": "text/x-python",
   "name": "python",
   "nbconvert_exporter": "python",
   "pygments_lexer": "ipython3",
   "version": "3.12.2"
  }
 },
 "nbformat": 4,
 "nbformat_minor": 5
}

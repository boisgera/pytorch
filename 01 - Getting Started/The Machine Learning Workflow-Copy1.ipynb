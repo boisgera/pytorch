{
 "cells": [
  {
   "cell_type": "markdown",
   "id": "be92d45c-9125-497e-9aa4-048ec0d82e54",
   "metadata": {},
   "source": [
    "# The Machine Learning Workflow\n",
    "\n",
    "Source: [Pytorch / Learn the Basics](https://pytorch.org/tutorials/beginner/basics/intro.html)"
   ]
  },
  {
   "cell_type": "code",
   "execution_count": 1,
   "id": "6c1d361c-5e1b-46c5-b607-fd25566a8428",
   "metadata": {},
   "outputs": [],
   "source": [
    "import torch\n",
    "import torchvision"
   ]
  },
  {
   "cell_type": "markdown",
   "id": "e681cd9d-c913-440a-92b1-731956c5313b",
   "metadata": {},
   "source": [
    "## The FashionMNIST Dataset "
   ]
  },
  {
   "cell_type": "code",
   "execution_count": 2,
   "id": "f93d4548-fd7b-45c3-9a39-61e34a0e3335",
   "metadata": {},
   "outputs": [],
   "source": [
    "# Download training data from open datasets.\n",
    "training_data = torchvision.datasets.FashionMNIST(\n",
    "    root=\"data\",\n",
    "    train=True,\n",
    "    download=True,\n",
    "    transform=torchvision.transforms.ToTensor(),\n",
    ")\n",
    "\n",
    "# Download test data from open datasets.\n",
    "test_data = torchvision.datasets.FashionMNIST(\n",
    "    root=\"data\",\n",
    "    train=False,\n",
    "    download=True,\n",
    "    transform=torchvision.transforms.ToTensor(),\n",
    ")"
   ]
  },
  {
   "cell_type": "markdown",
   "id": "420ce320-c734-4ab8-a377-c4b9c235c54a",
   "metadata": {},
   "source": [
    "## Neural Network Model"
   ]
  },
  {
   "cell_type": "code",
   "execution_count": 4,
   "id": "543ed589-c9b9-4376-8ff5-ded427307b2e",
   "metadata": {},
   "outputs": [],
   "source": [
    "class NeuralNetwork(torch.nn.Module):\n",
    "    def __init__(self):\n",
    "        super().__init__()\n",
    "        self.flatten = torch.nn.Flatten()\n",
    "        self.linear_relu_stack = torch.nn.Sequential(\n",
    "            torch.nn.Linear(28*28, 512),\n",
    "            torch.nn.ReLU(),\n",
    "            torch.nn.Linear(512, 512),\n",
    "            torch.nn.ReLU(),\n",
    "            torch.nn.Linear(512, 10)\n",
    "        )\n",
    "\n",
    "    def forward(self, x):\n",
    "        x = self.flatten(x)\n",
    "        logits = self.linear_relu_stack(x)\n",
    "        return logits"
   ]
  },
  {
   "cell_type": "code",
   "execution_count": 5,
   "id": "165d4e2f-41a4-4ee7-8d36-a5cb59275934",
   "metadata": {},
   "outputs": [
    {
     "name": "stdout",
     "output_type": "stream",
     "text": [
      "NeuralNetwork(\n",
      "  (flatten): Flatten(start_dim=1, end_dim=-1)\n",
      "  (linear_relu_stack): Sequential(\n",
      "    (0): Linear(in_features=784, out_features=512, bias=True)\n",
      "    (1): ReLU()\n",
      "    (2): Linear(in_features=512, out_features=512, bias=True)\n",
      "    (3): ReLU()\n",
      "    (4): Linear(in_features=512, out_features=10, bias=True)\n",
      "  )\n",
      ")\n"
     ]
    }
   ],
   "source": [
    "model = NeuralNetwork()\n",
    "print(model)"
   ]
  },
  {
   "cell_type": "markdown",
   "id": "f61f1b95-6b16-4504-85e9-53521e1c1737",
   "metadata": {},
   "source": [
    "## Training"
   ]
  },
  {
   "cell_type": "code",
   "execution_count": 13,
   "id": "a0b9ba81-fcc2-488b-b697-2f7ae3ad1055",
   "metadata": {},
   "outputs": [
    {
     "name": "stdout",
     "output_type": "stream",
     "text": [
      "Shape of X [N, C, H, W]: torch.Size([64, 1, 28, 28])\n",
      "Shape of y: torch.Size([64]) torch.int64\n"
     ]
    }
   ],
   "source": [
    "batch_size = 64\n",
    "\n",
    "# Create data loaders.\n",
    "train_dataloader = torch.utils.data.DataLoader(training_data, batch_size=batch_size)\n",
    "test_dataloader = torch.utils.data.DataLoader(test_data, batch_size=batch_size)\n",
    "\n",
    "for X, y in test_dataloader:\n",
    "    print(f\"Shape of X [N, C, H, W]: {X.shape}\")\n",
    "    print(f\"Shape of y: {y.shape} {y.dtype}\")\n",
    "    break"
   ]
  },
  {
   "cell_type": "code",
   "execution_count": 6,
   "id": "c5071344-eebb-43aa-a2e6-abe371cea7c3",
   "metadata": {},
   "outputs": [],
   "source": [
    "loss_fn = torch.nn.CrossEntropyLoss()\n",
    "optimizer = torch.optim.SGD(model.parameters(), lr=1e-3)"
   ]
  },
  {
   "cell_type": "code",
   "execution_count": 7,
   "id": "b40c6413-f34f-4060-a4ab-71fc1dd26137",
   "metadata": {},
   "outputs": [],
   "source": [
    "def train(dataloader, model, loss_fn, optimizer):\n",
    "    size = len(dataloader.dataset)\n",
    "    model.train()\n",
    "    for batch, (X, y) in enumerate(dataloader):\n",
    "        # Compute prediction error\n",
    "        pred = model(X)\n",
    "        loss = loss_fn(pred, y)\n",
    "\n",
    "        # Backpropagation\n",
    "        loss.backward()\n",
    "        optimizer.step()\n",
    "        optimizer.zero_grad()\n",
    "\n",
    "        if batch % 100 == 0:\n",
    "            loss, current = loss.item(), (batch + 1) * len(X)\n",
    "            print(f\"loss: {loss:>7f}  [{current:>5d}/{size:>5d}]\")"
   ]
  },
  {
   "cell_type": "code",
   "execution_count": 8,
   "id": "05342f5e-b04b-4698-b192-a13d9015e5d6",
   "metadata": {},
   "outputs": [],
   "source": [
    "def test(dataloader, model, loss_fn):\n",
    "    size = len(dataloader.dataset)\n",
    "    num_batches = len(dataloader)\n",
    "    model.eval()\n",
    "    test_loss, correct = 0, 0\n",
    "    with torch.no_grad():\n",
    "        for X, y in dataloader:\n",
    "            pred = model(X)\n",
    "            test_loss += loss_fn(pred, y).item()\n",
    "            correct += (pred.argmax(1) == y).type(torch.float).sum().item()\n",
    "    test_loss /= num_batches\n",
    "    correct /= size\n",
    "    print(f\"Test Error: \\n Accuracy: {(100*correct):>0.1f}%, Avg loss: {test_loss:>8f} \\n\")"
   ]
  },
  {
   "cell_type": "code",
   "execution_count": 9,
   "id": "d7e912bc-4e8a-4dbb-824f-d62ae9f2ae2d",
   "metadata": {},
   "outputs": [
    {
     "name": "stdout",
     "output_type": "stream",
     "text": [
      "Test Error: \n",
      " Accuracy: 10.9%, Avg loss: 2.301795 \n",
      "\n",
      "Epoch 1\n",
      "-------------------------------\n",
      "loss: 2.305466  [   64/60000]\n",
      "loss: 2.286765  [ 6464/60000]\n",
      "loss: 2.264852  [12864/60000]\n",
      "loss: 2.250013  [19264/60000]\n",
      "loss: 2.255873  [25664/60000]\n",
      "loss: 2.216752  [32064/60000]\n",
      "loss: 2.229820  [38464/60000]\n",
      "loss: 2.195893  [44864/60000]\n",
      "loss: 2.192985  [51264/60000]\n",
      "loss: 2.144763  [57664/60000]\n",
      "Test Error: \n",
      " Accuracy: 49.1%, Avg loss: 2.147272 \n",
      "\n",
      "Epoch 2\n",
      "-------------------------------\n",
      "loss: 2.169356  [   64/60000]\n",
      "loss: 2.152007  [ 6464/60000]\n",
      "loss: 2.088073  [12864/60000]\n",
      "loss: 2.095418  [19264/60000]\n",
      "loss: 2.068280  [25664/60000]\n",
      "loss: 1.996736  [32064/60000]\n",
      "loss: 2.030478  [38464/60000]\n",
      "loss: 1.948842  [44864/60000]\n",
      "loss: 1.956985  [51264/60000]\n",
      "loss: 1.865953  [57664/60000]\n",
      "Test Error: \n",
      " Accuracy: 57.8%, Avg loss: 1.873585 \n",
      "\n",
      "Epoch 3\n",
      "-------------------------------\n",
      "loss: 1.917747  [   64/60000]\n",
      "loss: 1.886906  [ 6464/60000]\n",
      "loss: 1.756401  [12864/60000]\n",
      "loss: 1.792215  [19264/60000]\n",
      "loss: 1.703985  [25664/60000]\n",
      "loss: 1.639249  [32064/60000]\n",
      "loss: 1.668920  [38464/60000]\n",
      "loss: 1.561542  [44864/60000]\n",
      "loss: 1.595314  [51264/60000]\n",
      "loss: 1.470784  [57664/60000]\n",
      "Test Error: \n",
      " Accuracy: 60.6%, Avg loss: 1.497511 \n",
      "\n",
      "Epoch 4\n",
      "-------------------------------\n",
      "loss: 1.574939  [   64/60000]\n",
      "loss: 1.539961  [ 6464/60000]\n",
      "loss: 1.373568  [12864/60000]\n",
      "loss: 1.448177  [19264/60000]\n",
      "loss: 1.339637  [25664/60000]\n",
      "loss: 1.327857  [32064/60000]\n",
      "loss: 1.353075  [38464/60000]\n",
      "loss: 1.266414  [44864/60000]\n",
      "loss: 1.310402  [51264/60000]\n",
      "loss: 1.201479  [57664/60000]\n",
      "Test Error: \n",
      " Accuracy: 63.0%, Avg loss: 1.232176 \n",
      "\n",
      "Epoch 5\n",
      "-------------------------------\n",
      "loss: 1.315095  [   64/60000]\n",
      "loss: 1.299232  [ 6464/60000]\n",
      "loss: 1.117484  [12864/60000]\n",
      "loss: 1.230117  [19264/60000]\n",
      "loss: 1.111285  [25664/60000]\n",
      "loss: 1.134512  [32064/60000]\n",
      "loss: 1.166010  [38464/60000]\n",
      "loss: 1.091751  [44864/60000]\n",
      "loss: 1.137597  [51264/60000]\n",
      "loss: 1.049186  [57664/60000]\n",
      "Test Error: \n",
      " Accuracy: 64.4%, Avg loss: 1.073639 \n",
      "\n",
      "Epoch 6\n",
      "-------------------------------\n",
      "loss: 1.145972  [   64/60000]\n",
      "loss: 1.152826  [ 6464/60000]\n",
      "loss: 0.956346  [12864/60000]\n",
      "loss: 1.097306  [19264/60000]\n",
      "loss: 0.978015  [25664/60000]\n",
      "loss: 1.006346  [32064/60000]\n",
      "loss: 1.051931  [38464/60000]\n",
      "loss: 0.984063  [44864/60000]\n",
      "loss: 1.028145  [51264/60000]\n",
      "loss: 0.954039  [57664/60000]\n",
      "Test Error: \n",
      " Accuracy: 65.8%, Avg loss: 0.972964 \n",
      "\n",
      "Epoch 7\n",
      "-------------------------------\n",
      "loss: 1.030089  [   64/60000]\n",
      "loss: 1.058776  [ 6464/60000]\n",
      "loss: 0.847871  [12864/60000]\n",
      "loss: 1.009195  [19264/60000]\n",
      "loss: 0.895374  [25664/60000]\n",
      "loss: 0.915092  [32064/60000]\n",
      "loss: 0.976406  [38464/60000]\n",
      "loss: 0.914726  [44864/60000]\n",
      "loss: 0.952712  [51264/60000]\n",
      "loss: 0.889136  [57664/60000]\n",
      "Test Error: \n",
      " Accuracy: 67.2%, Avg loss: 0.903737 \n",
      "\n",
      "Epoch 8\n",
      "-------------------------------\n",
      "loss: 0.944460  [   64/60000]\n",
      "loss: 0.992696  [ 6464/60000]\n",
      "loss: 0.770281  [12864/60000]\n",
      "loss: 0.945830  [19264/60000]\n",
      "loss: 0.839640  [25664/60000]\n",
      "loss: 0.847049  [32064/60000]\n",
      "loss: 0.922137  [38464/60000]\n",
      "loss: 0.867993  [44864/60000]\n",
      "loss: 0.897874  [51264/60000]\n",
      "loss: 0.841211  [57664/60000]\n",
      "Test Error: \n",
      " Accuracy: 68.4%, Avg loss: 0.853040 \n",
      "\n",
      "Epoch 9\n",
      "-------------------------------\n",
      "loss: 0.878000  [   64/60000]\n",
      "loss: 0.942593  [ 6464/60000]\n",
      "loss: 0.711720  [12864/60000]\n",
      "loss: 0.897981  [19264/60000]\n",
      "loss: 0.799374  [25664/60000]\n",
      "loss: 0.795312  [32064/60000]\n",
      "loss: 0.880492  [38464/60000]\n",
      "loss: 0.834844  [44864/60000]\n",
      "loss: 0.856620  [51264/60000]\n",
      "loss: 0.803823  [57664/60000]\n",
      "Test Error: \n",
      " Accuracy: 69.6%, Avg loss: 0.813991 \n",
      "\n",
      "Epoch 10\n",
      "-------------------------------\n",
      "loss: 0.824471  [   64/60000]\n",
      "loss: 0.901975  [ 6464/60000]\n",
      "loss: 0.665670  [12864/60000]\n",
      "loss: 0.860861  [19264/60000]\n",
      "loss: 0.768356  [25664/60000]\n",
      "loss: 0.755313  [32064/60000]\n",
      "loss: 0.846709  [38464/60000]\n",
      "loss: 0.809941  [44864/60000]\n",
      "loss: 0.824390  [51264/60000]\n",
      "loss: 0.773559  [57664/60000]\n",
      "Test Error: \n",
      " Accuracy: 70.9%, Avg loss: 0.782624 \n",
      "\n",
      "Done!\n"
     ]
    }
   ],
   "source": [
    "test(test_dataloader, model, loss_fn)\n",
    "\n",
    "epochs = 10\n",
    "for t in range(epochs):\n",
    "    print(f\"Epoch {t+1}\\n-------------------------------\")\n",
    "    train(train_dataloader, model, loss_fn, optimizer)\n",
    "    test(test_dataloader, model, loss_fn)\n",
    "print(\"Done!\")"
   ]
  },
  {
   "cell_type": "code",
   "execution_count": 10,
   "id": "e69ce9ce-c190-4653-8c52-2ae96989779a",
   "metadata": {},
   "outputs": [
    {
     "name": "stdout",
     "output_type": "stream",
     "text": [
      "Saved PyTorch Model State to model.pth\n"
     ]
    }
   ],
   "source": [
    "torch.save(model.state_dict(), \"model.pth\")\n",
    "print(\"Saved PyTorch Model State to model.pth\")"
   ]
  },
  {
   "cell_type": "markdown",
   "id": "9a25d704-be52-414f-a3c5-b6273237ad14",
   "metadata": {},
   "source": [
    "## Use the Model"
   ]
  },
  {
   "cell_type": "code",
   "execution_count": 11,
   "id": "bcb319a0-3703-44a9-bbbb-8503012ffe1e",
   "metadata": {},
   "outputs": [
    {
     "data": {
      "text/plain": [
       "<All keys matched successfully>"
      ]
     },
     "execution_count": 11,
     "metadata": {},
     "output_type": "execute_result"
    }
   ],
   "source": [
    "model = NeuralNetwork()\n",
    "model.load_state_dict(torch.load(\"model.pth\"))"
   ]
  },
  {
   "cell_type": "code",
   "execution_count": 12,
   "id": "87081abf-1fb9-4ac6-9067-7490581dbd66",
   "metadata": {},
   "outputs": [
    {
     "name": "stdout",
     "output_type": "stream",
     "text": [
      "Predicted: \"Ankle boot\", Actual: \"Ankle boot\"\n"
     ]
    }
   ],
   "source": [
    "classes = test_data.classes\n",
    "\n",
    "model.eval()\n",
    "x, y = test_data[0][0], test_data[0][1]\n",
    "with torch.no_grad():\n",
    "    pred = model(x)\n",
    "    predicted, actual = classes[pred[0].argmax(0)], classes[y]\n",
    "    print(f'Predicted: \"{predicted}\", Actual: \"{actual}\"')"
   ]
  }
 ],
 "metadata": {
  "kernelspec": {
   "display_name": "Python 3 (ipykernel)",
   "language": "python",
   "name": "python3"
  },
  "language_info": {
   "codemirror_mode": {
    "name": "ipython",
    "version": 3
   },
   "file_extension": ".py",
   "mimetype": "text/x-python",
   "name": "python",
   "nbconvert_exporter": "python",
   "pygments_lexer": "ipython3",
   "version": "3.12.2"
  }
 },
 "nbformat": 4,
 "nbformat_minor": 5
}

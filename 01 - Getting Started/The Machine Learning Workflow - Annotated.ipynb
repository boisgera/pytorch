{
 "cells": [
  {
   "cell_type": "markdown",
   "id": "be92d45c-9125-497e-9aa4-048ec0d82e54",
   "metadata": {},
   "source": [
    "# The Machine Learning Workflow Annotated\n",
    "\n",
    "Source: [Pytorch / Learn the Basics](https://pytorch.org/tutorials/beginner/basics/intro.html)"
   ]
  },
  {
   "cell_type": "markdown",
   "id": "273a2e4b-0f67-433f-a8e0-787bd05d0c84",
   "metadata": {},
   "source": [
    "```{attention} TODO\n",
    "- Explain logit stuff & give math formulas\n",
    "- Show that the neural network accepts batched data\n",
    "- Plot ReLU graph\n",
    "- Annotate & tweak learning\n",
    "```"
   ]
  },
  {
   "cell_type": "code",
   "execution_count": 1,
   "id": "6c1d361c-5e1b-46c5-b607-fd25566a8428",
   "metadata": {},
   "outputs": [],
   "source": [
    "import torch\n",
    "import torchvision"
   ]
  },
  {
   "cell_type": "markdown",
   "id": "e681cd9d-c913-440a-92b1-731956c5313b",
   "metadata": {},
   "source": [
    "## The FashionMNIST Dataset "
   ]
  },
  {
   "cell_type": "code",
   "execution_count": 2,
   "id": "f93d4548-fd7b-45c3-9a39-61e34a0e3335",
   "metadata": {},
   "outputs": [],
   "source": [
    "# Download training data from open datasets.\n",
    "training_data = torchvision.datasets.FashionMNIST(\n",
    "    root=\"data\",\n",
    "    train=True,\n",
    "    download=True,\n",
    "    transform=torchvision.transforms.ToTensor(),\n",
    ")\n",
    "\n",
    "# Download test data from open datasets.\n",
    "test_data = torchvision.datasets.FashionMNIST(\n",
    "    root=\"data\",\n",
    "    train=False,\n",
    "    download=True,\n",
    "    transform=torchvision.transforms.ToTensor(),\n",
    ")"
   ]
  },
  {
   "cell_type": "code",
   "execution_count": 3,
   "id": "63c617ba-f065-4430-807c-128e42c3a126",
   "metadata": {},
   "outputs": [
    {
     "data": {
      "text/plain": [
       "Dataset FashionMNIST\n",
       "    Number of datapoints: 60000\n",
       "    Root location: data\n",
       "    Split: Train"
      ]
     },
     "execution_count": 3,
     "metadata": {},
     "output_type": "execute_result"
    }
   ],
   "source": [
    "data = torchvision.datasets.FashionMNIST(root=\"data\") # by default: training data set, no input/output transform, no download\n",
    "data"
   ]
  },
  {
   "cell_type": "code",
   "execution_count": 4,
   "id": "3af20871-ef0d-4ac8-8524-036f5866bf85",
   "metadata": {},
   "outputs": [
    {
     "data": {
      "text/plain": [
       "(<PIL.Image.Image image mode=L size=28x28>, 9)"
      ]
     },
     "execution_count": 4,
     "metadata": {},
     "output_type": "execute_result"
    }
   ],
   "source": [
    "# data is list-like ; each item in an input-output pair\n",
    "datum = data[0]\n",
    "datum"
   ]
  },
  {
   "cell_type": "code",
   "execution_count": 5,
   "id": "3cdbe9ef-04ed-4d4e-b169-4f22f72853a2",
   "metadata": {},
   "outputs": [],
   "source": [
    "image, index = datum"
   ]
  },
  {
   "cell_type": "code",
   "execution_count": 6,
   "id": "c90e7b4c-3398-4518-8455-f8f9ab3cb3a0",
   "metadata": {},
   "outputs": [
    {
     "data": {
      "image/jpeg": "[encoded data removed]",
      "image/png": "[encoded data removed]",
      "text/plain": [
       "<PIL.Image.Image image mode=L size=28x28>"
      ]
     },
     "execution_count": 6,
     "metadata": {},
     "output_type": "execute_result"
    }
   ],
   "source": [
    "image"
   ]
  },
  {
   "cell_type": "code",
   "execution_count": 7,
   "id": "0eabdbce-3d62-4ad8-a784-474a2521073f",
   "metadata": {
    "user_expressions": [
     {
      "expression": "data.classes",
      "result": {
       "data": {
        "text/plain": "['T-shirt/top',\n 'Trouser',\n 'Pullover',\n 'Dress',\n 'Coat',\n 'Sandal',\n 'Shirt',\n 'Sneaker',\n 'Bag',\n 'Ankle boot']"
       },
       "metadata": {},
       "status": "ok"
      }
     }
    ]
   },
   "outputs": [
    {
     "name": "stdout",
     "output_type": "stream",
     "text": [
      "['T-shirt/top', 'Trouser', 'Pullover', 'Dress', 'Coat', 'Sandal', 'Shirt', 'Sneaker', 'Bag', 'Ankle boot']\n"
     ]
    }
   ],
   "source": [
    "# The output is a number that denotes the class of the pictured object. The list of categories is:\n",
    "print(data.classes)"
   ]
  },
  {
   "cell_type": "code",
   "execution_count": 8,
   "id": "126c1ec3-7059-4203-b699-d17de1e0b12e",
   "metadata": {},
   "outputs": [
    {
     "data": {
      "text/plain": [
       "'Ankle boot'"
      ]
     },
     "execution_count": 8,
     "metadata": {},
     "output_type": "execute_result"
    }
   ],
   "source": [
    "# Get the category name from the index:\n",
    "data.classes[index] # that checks out!"
   ]
  },
  {
   "cell_type": "code",
   "execution_count": 9,
   "id": "d8399b61-8763-4851-9273-fc82e89aa09c",
   "metadata": {},
   "outputs": [
    {
     "data": {
      "text/html": [
       "<div>\n",
       "<style scoped>\n",
       "    .dataframe tbody tr th:only-of-type {\n",
       "        vertical-align: middle;\n",
       "    }\n",
       "\n",
       "    .dataframe tbody tr th {\n",
       "        vertical-align: top;\n",
       "    }\n",
       "\n",
       "    .dataframe thead th {\n",
       "        text-align: right;\n",
       "    }\n",
       "</style>\n",
       "<table border=\"1\" class=\"dataframe\">\n",
       "  <thead>\n",
       "    <tr style=\"text-align: right;\">\n",
       "      <th></th>\n",
       "      <th>image</th>\n",
       "      <th>category</th>\n",
       "    </tr>\n",
       "  </thead>\n",
       "  <tbody>\n",
       "    <tr>\n",
       "      <th>0</th>\n",
       "      <td>&lt;PIL.Image.Image image mode=L size=28x28 at 0x...</td>\n",
       "      <td>Ankle boot</td>\n",
       "    </tr>\n",
       "    <tr>\n",
       "      <th>1</th>\n",
       "      <td>&lt;PIL.Image.Image image mode=L size=28x28 at 0x...</td>\n",
       "      <td>T-shirt/top</td>\n",
       "    </tr>\n",
       "    <tr>\n",
       "      <th>2</th>\n",
       "      <td>&lt;PIL.Image.Image image mode=L size=28x28 at 0x...</td>\n",
       "      <td>T-shirt/top</td>\n",
       "    </tr>\n",
       "    <tr>\n",
       "      <th>3</th>\n",
       "      <td>&lt;PIL.Image.Image image mode=L size=28x28 at 0x...</td>\n",
       "      <td>Dress</td>\n",
       "    </tr>\n",
       "    <tr>\n",
       "      <th>4</th>\n",
       "      <td>&lt;PIL.Image.Image image mode=L size=28x28 at 0x...</td>\n",
       "      <td>T-shirt/top</td>\n",
       "    </tr>\n",
       "    <tr>\n",
       "      <th>...</th>\n",
       "      <td>...</td>\n",
       "      <td>...</td>\n",
       "    </tr>\n",
       "    <tr>\n",
       "      <th>59995</th>\n",
       "      <td>&lt;PIL.Image.Image image mode=L size=28x28 at 0x...</td>\n",
       "      <td>Sandal</td>\n",
       "    </tr>\n",
       "    <tr>\n",
       "      <th>59996</th>\n",
       "      <td>&lt;PIL.Image.Image image mode=L size=28x28 at 0x...</td>\n",
       "      <td>Trouser</td>\n",
       "    </tr>\n",
       "    <tr>\n",
       "      <th>59997</th>\n",
       "      <td>&lt;PIL.Image.Image image mode=L size=28x28 at 0x...</td>\n",
       "      <td>Dress</td>\n",
       "    </tr>\n",
       "    <tr>\n",
       "      <th>59998</th>\n",
       "      <td>&lt;PIL.Image.Image image mode=L size=28x28 at 0x...</td>\n",
       "      <td>T-shirt/top</td>\n",
       "    </tr>\n",
       "    <tr>\n",
       "      <th>59999</th>\n",
       "      <td>&lt;PIL.Image.Image image mode=L size=28x28 at 0x...</td>\n",
       "      <td>Sandal</td>\n",
       "    </tr>\n",
       "  </tbody>\n",
       "</table>\n",
       "<p>60000 rows × 2 columns</p>\n",
       "</div>"
      ],
      "text/plain": [
       "                                                   image     category\n",
       "0      <PIL.Image.Image image mode=L size=28x28 at 0x...   Ankle boot\n",
       "1      <PIL.Image.Image image mode=L size=28x28 at 0x...  T-shirt/top\n",
       "2      <PIL.Image.Image image mode=L size=28x28 at 0x...  T-shirt/top\n",
       "3      <PIL.Image.Image image mode=L size=28x28 at 0x...        Dress\n",
       "4      <PIL.Image.Image image mode=L size=28x28 at 0x...  T-shirt/top\n",
       "...                                                  ...          ...\n",
       "59995  <PIL.Image.Image image mode=L size=28x28 at 0x...       Sandal\n",
       "59996  <PIL.Image.Image image mode=L size=28x28 at 0x...      Trouser\n",
       "59997  <PIL.Image.Image image mode=L size=28x28 at 0x...        Dress\n",
       "59998  <PIL.Image.Image image mode=L size=28x28 at 0x...  T-shirt/top\n",
       "59999  <PIL.Image.Image image mode=L size=28x28 at 0x...       Sandal\n",
       "\n",
       "[60000 rows x 2 columns]"
      ]
     },
     "execution_count": 9,
     "metadata": {},
     "output_type": "execute_result"
    }
   ],
   "source": [
    "import pandas as pd\n",
    "df = [{\"image\": image, \"category\": data.classes[index]} for image, index in data]\n",
    "df = pd.DataFrame(df)\n",
    "df"
   ]
  },
  {
   "cell_type": "code",
   "execution_count": 10,
   "id": "11a39240-12b5-4062-ae4e-a860d1bc09c5",
   "metadata": {},
   "outputs": [
    {
     "data": {
      "text/html": [
       "<table border=\"1\" class=\"dataframe\">\n",
       "  <thead>\n",
       "    <tr style=\"text-align: right;\">\n",
       "      <th></th>\n",
       "      <th>image</th>\n",
       "      <th>category</th>\n",
       "    </tr>\n",
       "  </thead>\n",
       "  <tbody>\n",
       "    <tr>\n",
       "      <th>0</th>\n",
       "      <td><img src=\"data:image/jpeg;base64, /9j/4AAQSkZJRgABAQAAAQABAAD/2wBDAAgGBgcGBQgHBwcJCQgKDBQNDAsLDBkSEw8UHRofHh0aHBwgJC4nICIsIxwcKDcpLDAxNDQ0Hyc5PTgyPC4zNDL/wAALCAAcABwBAREA/8QAHwAAAQUBAQEBAQEAAAAAAAAAAAECAwQFBgcICQoL/8QAtRAAAgEDAwIEAwUFBAQAAAF9AQIDAAQRBRIhMUEGE1FhByJxFDKBkaEII0KxwRVS0fAkM2JyggkKFhcYGRolJicoKSo0NTY3ODk6Q0RFRkdISUpTVFVWV1hZWmNkZWZnaGlqc3R1dnd4eXqDhIWGh4iJipKTlJWWl5iZmqKjpKWmp6ipqrKztLW2t7i5usLDxMXGx8jJytLT1NXW19jZ2uHi4+Tl5ufo6erx8vP09fb3+Pn6/9oACAEBAAA/APn+tbw1oNx4m8QWmkWx2yXD4LkZCADJJ+gFbviL4a63oc7COE3MW4hdn38duD976jNc9daDqllIsc9lKrMu4YGeMkdR7gj8KzcV7H8BtEvV16+1iWCeG1Wz8mOV02pIzupwCeuAp6Z98cZ90aIzLIlw0c0ZJ4KgjHoeOa+evjS9n/wnMcNxBPCYLKONFhA2FNzMpGenDcgd816V4K03wefC+m3NlpVhP+5QSXBiR5fMx825iMg5zwce3FdbOzTwgW90lu6uCm8eYrL02soIyCPQgggEdMGQ3cluiPNK0rJwrRQBNueuMkt+teNfGKxsdY8WWdxNqcNo66eieXMwVsb5DnH415Hp2rajpE5n02/urOUjBe3laMkehIPIrVm8eeLrhNknibVivoLtx/I1UPinxC3XXtUP1vJP8ay5JZJpGkldnduSzHJP41//2Q==\"></td>\n",
       "      <td>Ankle boot</td>\n",
       "    </tr>\n",
       "    <tr>\n",
       "      <th>1</th>\n",
       "      <td><img src=\"data:image/jpeg;base64, /9j/4AAQSkZJRgABAQAAAQABAAD/2wBDAAgGBgcGBQgHBwcJCQgKDBQNDAsLDBkSEw8UHRofHh0aHBwgJC4nICIsIxwcKDcpLDAxNDQ0Hyc5PTgyPC4zNDL/wAALCAAcABwBAREA/8QAHwAAAQUBAQEBAQEAAAAAAAAAAAECAwQFBgcICQoL/8QAtRAAAgEDAwIEAwUFBAQAAAF9AQIDAAQRBRIhMUEGE1FhByJxFDKBkaEII0KxwRVS0fAkM2JyggkKFhcYGRolJicoKSo0NTY3ODk6Q0RFRkdISUpTVFVWV1hZWmNkZWZnaGlqc3R1dnd4eXqDhIWGh4iJipKTlJWWl5iZmqKjpKWmp6ipqrKztLW2t7i5usLDxMXGx8jJytLT1NXW19jZ2uHi4+Tl5ufo6erx8vP09fb3+Pn6/9oACAEBAAA/AOB+E3gyz8V6xez6lE01jYRqWiDFQ8jk7QSOcYVjxjoK9hlufDultLpcPhSa5itZdjra6NFNCshiEh5Yj5tmCTTjpvhnxg9zYX/huSCe3SMyLeWC20yI+7aUZTnb8jcA446V81a7pcmh69qGlytue0uHh3f3gpIB/Ec/jXSeBfiJf+CvMt7ezsp7a4lV5vORg/HHDKR2z1z1NfQF94U8Oapez3l7o9vczzkGSSR5MvjAGcMB0C9B2rC8Uz2Xw28LXGp+HdIsoJ5JIoCr+YyNyx5y2eMtjBHJr5517WrrxFrdzq16sS3FwwLiJdqjAAGB9AKzq+zkXjAAGcnivP8A4zLu8ATf7N1C/wCrD+tfONFfUf8AwlV5AmBbWrbQACwf0Ho1cV8S/Edzqfg66t5be2RTLFzGHzw2e7GvEa//2Q==\"></td>\n",
       "      <td>T-shirt/top</td>\n",
       "    </tr>\n",
       "    <tr>\n",
       "      <th>2</th>\n",
       "      <td><img src=\"data:image/jpeg;base64, /9j/4AAQSkZJRgABAQAAAQABAAD/2wBDAAgGBgcGBQgHBwcJCQgKDBQNDAsLDBkSEw8UHRofHh0aHBwgJC4nICIsIxwcKDcpLDAxNDQ0Hyc5PTgyPC4zNDL/wAALCAAcABwBAREA/8QAHwAAAQUBAQEBAQEAAAAAAAAAAAECAwQFBgcICQoL/8QAtRAAAgEDAwIEAwUFBAQAAAF9AQIDAAQRBRIhMUEGE1FhByJxFDKBkaEII0KxwRVS0fAkM2JyggkKFhcYGRolJicoKSo0NTY3ODk6Q0RFRkdISUpTVFVWV1hZWmNkZWZnaGlqc3R1dnd4eXqDhIWGh4iJipKTlJWWl5iZmqKjpKWmp6ipqrKztLW2t7i5usLDxMXGx8jJytLT1NXW19jZ2uHi4+Tl5ufo6erx8vP09fb3+Pn6/9oACAEBAAA/APn+vX/DGqaVa6HZw6r4X07VQIFMLyxqrpkZIJ2/MM5P4nrXH+PZUuLu0njs7a0VlcLDbRBERQRhRgc49fc1yFFenaeANMsx6QRj/wAdFc/41H7uwOOcyc+3yf8A165GivUbVSlnAh6rEgP/AHyKwPGa7rK0fH3JGHX1A/wrjaK6zRPEN5Ni2mWKQImA7Kdxx6kGsfWdXudSmEc2xY4idqRjAz6nPJNZdf/Z\"></td>\n",
       "      <td>T-shirt/top</td>\n",
       "    </tr>\n",
       "    <tr>\n",
       "      <th>3</th>\n",
       "      <td><img src=\"data:image/jpeg;base64, /9j/4AAQSkZJRgABAQAAAQABAAD/2wBDAAgGBgcGBQgHBwcJCQgKDBQNDAsLDBkSEw8UHRofHh0aHBwgJC4nICIsIxwcKDcpLDAxNDQ0Hyc5PTgyPC4zNDL/wAALCAAcABwBAREA/8QAHwAAAQUBAQEBAQEAAAAAAAAAAAECAwQFBgcICQoL/8QAtRAAAgEDAwIEAwUFBAQAAAF9AQIDAAQRBRIhMUEGE1FhByJxFDKBkaEII0KxwRVS0fAkM2JyggkKFhcYGRolJicoKSo0NTY3ODk6Q0RFRkdISUpTVFVWV1hZWmNkZWZnaGlqc3R1dnd4eXqDhIWGh4iJipKTlJWWl5iZmqKjpKWmp6ipqrKztLW2t7i5usLDxMXGx8jJytLT1NXW19jZ2uHi4+Tl5ufo6erx8vP09fb3+Pn6/9oACAEBAAA/APHfBp0z/hKLRdWSNrd22KZseWrnhS4PG3PXPHc8A17c95bWoiiawsW8n/VK9oj+Uf8AZ4+X8K434kXmnXOjGe9t4n1CZgttKiBZMjqS2MlQD0Oeo6da8lor3OZzeQWsqFGZ7dCwEijB2D34rg/iIXM2nbiCPLfowIByCeh9MVxFaGh2iX+uWVtIu6N5V3r6qOSPyBr1eS1iklWZoIWdoppM+WOQFBB6fWs7xzpUUnhiSWKFFNrLn5VA29PTsVZPyFeU1c0vUZdJ1GK9gSN5It20SAleVI7EetdHJ441P7NbuILMGOLygAjYKkMv970qvqPjrVdTsLi0mitEW4wJHjjIY4VV9cdFHauYr//Z\"></td>\n",
       "      <td>Dress</td>\n",
       "    </tr>\n",
       "    <tr>\n",
       "      <th>4</th>\n",
       "      <td><img src=\"data:image/jpeg;base64, /9j/4AAQSkZJRgABAQAAAQABAAD/2wBDAAgGBgcGBQgHBwcJCQgKDBQNDAsLDBkSEw8UHRofHh0aHBwgJC4nICIsIxwcKDcpLDAxNDQ0Hyc5PTgyPC4zNDL/wAALCAAcABwBAREA/8QAHwAAAQUBAQEBAQEAAAAAAAAAAAECAwQFBgcICQoL/8QAtRAAAgEDAwIEAwUFBAQAAAF9AQIDAAQRBRIhMUEGE1FhByJxFDKBkaEII0KxwRVS0fAkM2JyggkKFhcYGRolJicoKSo0NTY3ODk6Q0RFRkdISUpTVFVWV1hZWmNkZWZnaGlqc3R1dnd4eXqDhIWGh4iJipKTlJWWl5iZmqKjpKWmp6ipqrKztLW2t7i5usLDxMXGx8jJytLT1NXW19jZ2uHi4+Tl5ufo6erx8vP09fb3+Pn6/9oACAEBAAA/APn+vp6f4feFNcg0LUIfDdlsleJrrypGgAt2iZtwVGUFg5TsSRn8PJ/jTYWGm+NbeDTrK2tIfsEbGO2iWNSxZ+cDvjAz7V5zRX2F4WVv+EL0DcDuGlWmcjn/AFKV4P8AHGN08dwM/wB17CIp9Azj+YNea1NZ2sl9ewWkIzLPIsSD1Zjgfzr7QYWmmQpbtLFbxB0toBIwTcxO1EXPUnHA7145+0BpjfY9F1PytpSWW2Zj1YEK6j2wfM4968MpyO0bq6MVdTlWU4IPqK9oPxD1jxL4b0O41CGzM0OuWTb442XeyM3JG7GTjnAA54xXKfFXxpqviTX3027EEVnp8rCKKBSAxPVmySScceg9OTngK//Z\"></td>\n",
       "      <td>T-shirt/top</td>\n",
       "    </tr>\n",
       "  </tbody>\n",
       "</table>"
      ],
      "text/plain": [
       "<IPython.core.display.HTML object>"
      ]
     },
     "execution_count": 10,
     "metadata": {},
     "output_type": "execute_result"
    }
   ],
   "source": [
    "import base64\n",
    "import io\n",
    "from IPython.display import HTML\n",
    "\n",
    "def image_formatter(image):\n",
    "    with io.BytesIO() as buffer:\n",
    "        image.save(buffer, \"jpeg\")\n",
    "        _bytes = buffer.getvalue()\n",
    "    _base64 = base64.b64encode(_bytes).decode(\"ascii\")\n",
    "    return f'<img src=\"data:image/jpeg;base64, {_base64}\">'\n",
    "\n",
    "HTML(df.head().to_html(formatters={'image': image_formatter}, escape=False))"
   ]
  },
  {
   "cell_type": "code",
   "execution_count": 11,
   "id": "f754275e-191b-4517-b4a7-df009dc475ef",
   "metadata": {},
   "outputs": [
    {
     "data": {
      "text/plain": [
       "tensor([[[0.0000, 0.0000, 0.0000, 0.0000, 0.0000, 0.0000, 0.0000, 0.0000,\n",
       "          0.0000, 0.0000, 0.0000, 0.0000, 0.0000, 0.0000, 0.0000, 0.0000,\n",
       "          0.0000, 0.0000, 0.0000, 0.0000, 0.0000, 0.0000, 0.0000, 0.0000,\n",
       "          0.0000, 0.0000, 0.0000, 0.0000],\n",
       "         [0.0000, 0.0000, 0.0000, 0.0000, 0.0000, 0.0000, 0.0000, 0.0000,\n",
       "          0.0000, 0.0000, 0.0000, 0.0000, 0.0000, 0.0000, 0.0000, 0.0000,\n",
       "          0.0000, 0.0000, 0.0000, 0.0000, 0.0000, 0.0000, 0.0000, 0.0000,\n",
       "          0.0000, 0.0000, 0.0000, 0.0000],\n",
       "         [0.0000, 0.0000, 0.0000, 0.0000, 0.0000, 0.0000, 0.0000, 0.0000,\n",
       "          0.0000, 0.0000, 0.0000, 0.0000, 0.0000, 0.0000, 0.0000, 0.0000,\n",
       "          0.0000, 0.0000, 0.0000, 0.0000, 0.0000, 0.0000, 0.0000, 0.0000,\n",
       "          0.0000, 0.0000, 0.0000, 0.0000],\n",
       "         [0.0000, 0.0000, 0.0000, 0.0000, 0.0000, 0.0000, 0.0000, 0.0000,\n",
       "          0.0000, 0.0000, 0.0000, 0.0000, 0.0039, 0.0000, 0.0000, 0.0510,\n",
       "          0.2863, 0.0000, 0.0000, 0.0039, 0.0157, 0.0000, 0.0000, 0.0000,\n",
       "          0.0000, 0.0039, 0.0039, 0.0000],\n",
       "         [0.0000, 0.0000, 0.0000, 0.0000, 0.0000, 0.0000, 0.0000, 0.0000,\n",
       "          0.0000, 0.0000, 0.0000, 0.0000, 0.0118, 0.0000, 0.1412, 0.5333,\n",
       "          0.4980, 0.2431, 0.2118, 0.0000, 0.0000, 0.0000, 0.0039, 0.0118,\n",
       "          0.0157, 0.0000, 0.0000, 0.0118],\n",
       "         [0.0000, 0.0000, 0.0000, 0.0000, 0.0000, 0.0000, 0.0000, 0.0000,\n",
       "          0.0000, 0.0000, 0.0000, 0.0000, 0.0235, 0.0000, 0.4000, 0.8000,\n",
       "          0.6902, 0.5255, 0.5647, 0.4824, 0.0902, 0.0000, 0.0000, 0.0000,\n",
       "          0.0000, 0.0471, 0.0392, 0.0000],\n",
       "         [0.0000, 0.0000, 0.0000, 0.0000, 0.0000, 0.0000, 0.0000, 0.0000,\n",
       "          0.0000, 0.0000, 0.0000, 0.0000, 0.0000, 0.0000, 0.6078, 0.9255,\n",
       "          0.8118, 0.6980, 0.4196, 0.6118, 0.6314, 0.4275, 0.2510, 0.0902,\n",
       "          0.3020, 0.5098, 0.2824, 0.0588],\n",
       "         [0.0000, 0.0000, 0.0000, 0.0000, 0.0000, 0.0000, 0.0000, 0.0000,\n",
       "          0.0000, 0.0000, 0.0000, 0.0039, 0.0000, 0.2706, 0.8118, 0.8745,\n",
       "          0.8549, 0.8471, 0.8471, 0.6392, 0.4980, 0.4745, 0.4784, 0.5725,\n",
       "          0.5529, 0.3451, 0.6745, 0.2588],\n",
       "         [0.0000, 0.0000, 0.0000, 0.0000, 0.0000, 0.0000, 0.0000, 0.0000,\n",
       "          0.0000, 0.0039, 0.0039, 0.0039, 0.0000, 0.7843, 0.9098, 0.9098,\n",
       "          0.9137, 0.8980, 0.8745, 0.8745, 0.8431, 0.8353, 0.6431, 0.4980,\n",
       "          0.4824, 0.7686, 0.8980, 0.0000],\n",
       "         [0.0000, 0.0000, 0.0000, 0.0000, 0.0000, 0.0000, 0.0000, 0.0000,\n",
       "          0.0000, 0.0000, 0.0000, 0.0000, 0.0000, 0.7176, 0.8824, 0.8471,\n",
       "          0.8745, 0.8941, 0.9216, 0.8902, 0.8784, 0.8706, 0.8784, 0.8667,\n",
       "          0.8745, 0.9608, 0.6784, 0.0000],\n",
       "         [0.0000, 0.0000, 0.0000, 0.0000, 0.0000, 0.0000, 0.0000, 0.0000,\n",
       "          0.0000, 0.0000, 0.0000, 0.0000, 0.0000, 0.7569, 0.8941, 0.8549,\n",
       "          0.8353, 0.7765, 0.7059, 0.8314, 0.8235, 0.8275, 0.8353, 0.8745,\n",
       "          0.8627, 0.9529, 0.7922, 0.0000],\n",
       "         [0.0000, 0.0000, 0.0000, 0.0000, 0.0000, 0.0000, 0.0000, 0.0000,\n",
       "          0.0000, 0.0039, 0.0118, 0.0000, 0.0471, 0.8588, 0.8627, 0.8314,\n",
       "          0.8549, 0.7529, 0.6627, 0.8902, 0.8157, 0.8549, 0.8784, 0.8314,\n",
       "          0.8863, 0.7725, 0.8196, 0.2039],\n",
       "         [0.0000, 0.0000, 0.0000, 0.0000, 0.0000, 0.0000, 0.0000, 0.0000,\n",
       "          0.0000, 0.0000, 0.0235, 0.0000, 0.3882, 0.9569, 0.8706, 0.8627,\n",
       "          0.8549, 0.7961, 0.7765, 0.8667, 0.8431, 0.8353, 0.8706, 0.8627,\n",
       "          0.9608, 0.4667, 0.6549, 0.2196],\n",
       "         [0.0000, 0.0000, 0.0000, 0.0000, 0.0000, 0.0000, 0.0000, 0.0000,\n",
       "          0.0000, 0.0157, 0.0000, 0.0000, 0.2157, 0.9255, 0.8941, 0.9020,\n",
       "          0.8941, 0.9412, 0.9098, 0.8353, 0.8549, 0.8745, 0.9176, 0.8510,\n",
       "          0.8510, 0.8196, 0.3608, 0.0000],\n",
       "         [0.0000, 0.0000, 0.0039, 0.0157, 0.0235, 0.0275, 0.0078, 0.0000,\n",
       "          0.0000, 0.0000, 0.0000, 0.0000, 0.9294, 0.8863, 0.8510, 0.8745,\n",
       "          0.8706, 0.8588, 0.8706, 0.8667, 0.8471, 0.8745, 0.8980, 0.8431,\n",
       "          0.8549, 1.0000, 0.3020, 0.0000],\n",
       "         [0.0000, 0.0118, 0.0000, 0.0000, 0.0000, 0.0000, 0.0000, 0.0000,\n",
       "          0.0000, 0.2431, 0.5686, 0.8000, 0.8941, 0.8118, 0.8353, 0.8667,\n",
       "          0.8549, 0.8157, 0.8275, 0.8549, 0.8784, 0.8745, 0.8588, 0.8431,\n",
       "          0.8784, 0.9569, 0.6235, 0.0000],\n",
       "         [0.0000, 0.0000, 0.0000, 0.0000, 0.0706, 0.1725, 0.3216, 0.4196,\n",
       "          0.7412, 0.8941, 0.8627, 0.8706, 0.8510, 0.8863, 0.7843, 0.8039,\n",
       "          0.8275, 0.9020, 0.8784, 0.9176, 0.6902, 0.7373, 0.9804, 0.9725,\n",
       "          0.9137, 0.9333, 0.8431, 0.0000],\n",
       "         [0.0000, 0.2235, 0.7333, 0.8157, 0.8784, 0.8667, 0.8784, 0.8157,\n",
       "          0.8000, 0.8392, 0.8157, 0.8196, 0.7843, 0.6235, 0.9608, 0.7569,\n",
       "          0.8078, 0.8745, 1.0000, 1.0000, 0.8667, 0.9176, 0.8667, 0.8275,\n",
       "          0.8627, 0.9098, 0.9647, 0.0000],\n",
       "         [0.0118, 0.7922, 0.8941, 0.8784, 0.8667, 0.8275, 0.8275, 0.8392,\n",
       "          0.8039, 0.8039, 0.8039, 0.8627, 0.9412, 0.3137, 0.5882, 1.0000,\n",
       "          0.8980, 0.8667, 0.7373, 0.6039, 0.7490, 0.8235, 0.8000, 0.8196,\n",
       "          0.8706, 0.8941, 0.8824, 0.0000],\n",
       "         [0.3843, 0.9137, 0.7765, 0.8235, 0.8706, 0.8980, 0.8980, 0.9176,\n",
       "          0.9765, 0.8627, 0.7608, 0.8431, 0.8510, 0.9451, 0.2549, 0.2863,\n",
       "          0.4157, 0.4588, 0.6588, 0.8588, 0.8667, 0.8431, 0.8510, 0.8745,\n",
       "          0.8745, 0.8784, 0.8980, 0.1137],\n",
       "         [0.2941, 0.8000, 0.8314, 0.8000, 0.7569, 0.8039, 0.8275, 0.8824,\n",
       "          0.8471, 0.7255, 0.7725, 0.8078, 0.7765, 0.8353, 0.9412, 0.7647,\n",
       "          0.8902, 0.9608, 0.9373, 0.8745, 0.8549, 0.8314, 0.8196, 0.8706,\n",
       "          0.8627, 0.8667, 0.9020, 0.2627],\n",
       "         [0.1882, 0.7961, 0.7176, 0.7608, 0.8353, 0.7725, 0.7255, 0.7451,\n",
       "          0.7608, 0.7529, 0.7922, 0.8392, 0.8588, 0.8667, 0.8627, 0.9255,\n",
       "          0.8824, 0.8471, 0.7804, 0.8078, 0.7294, 0.7098, 0.6941, 0.6745,\n",
       "          0.7098, 0.8039, 0.8078, 0.4510],\n",
       "         [0.0000, 0.4784, 0.8588, 0.7569, 0.7020, 0.6706, 0.7176, 0.7686,\n",
       "          0.8000, 0.8235, 0.8353, 0.8118, 0.8275, 0.8235, 0.7843, 0.7686,\n",
       "          0.7608, 0.7490, 0.7647, 0.7490, 0.7765, 0.7529, 0.6902, 0.6118,\n",
       "          0.6549, 0.6941, 0.8235, 0.3608],\n",
       "         [0.0000, 0.0000, 0.2902, 0.7412, 0.8314, 0.7490, 0.6863, 0.6745,\n",
       "          0.6863, 0.7098, 0.7255, 0.7373, 0.7412, 0.7373, 0.7569, 0.7765,\n",
       "          0.8000, 0.8196, 0.8235, 0.8235, 0.8275, 0.7373, 0.7373, 0.7608,\n",
       "          0.7529, 0.8471, 0.6667, 0.0000],\n",
       "         [0.0078, 0.0000, 0.0000, 0.0000, 0.2588, 0.7843, 0.8706, 0.9294,\n",
       "          0.9373, 0.9490, 0.9647, 0.9529, 0.9569, 0.8667, 0.8627, 0.7569,\n",
       "          0.7490, 0.7020, 0.7137, 0.7137, 0.7098, 0.6902, 0.6510, 0.6588,\n",
       "          0.3882, 0.2275, 0.0000, 0.0000],\n",
       "         [0.0000, 0.0000, 0.0000, 0.0000, 0.0000, 0.0000, 0.0000, 0.1569,\n",
       "          0.2392, 0.1725, 0.2824, 0.1608, 0.1373, 0.0000, 0.0000, 0.0000,\n",
       "          0.0000, 0.0000, 0.0000, 0.0000, 0.0000, 0.0000, 0.0000, 0.0000,\n",
       "          0.0000, 0.0000, 0.0000, 0.0000],\n",
       "         [0.0000, 0.0000, 0.0000, 0.0000, 0.0000, 0.0000, 0.0000, 0.0000,\n",
       "          0.0000, 0.0000, 0.0000, 0.0000, 0.0000, 0.0000, 0.0000, 0.0000,\n",
       "          0.0000, 0.0000, 0.0000, 0.0000, 0.0000, 0.0000, 0.0000, 0.0000,\n",
       "          0.0000, 0.0000, 0.0000, 0.0000],\n",
       "         [0.0000, 0.0000, 0.0000, 0.0000, 0.0000, 0.0000, 0.0000, 0.0000,\n",
       "          0.0000, 0.0000, 0.0000, 0.0000, 0.0000, 0.0000, 0.0000, 0.0000,\n",
       "          0.0000, 0.0000, 0.0000, 0.0000, 0.0000, 0.0000, 0.0000, 0.0000,\n",
       "          0.0000, 0.0000, 0.0000, 0.0000]]])"
      ]
     },
     "execution_count": 11,
     "metadata": {},
     "output_type": "execute_result"
    }
   ],
   "source": [
    "# Torch only want to deal with numeric array called \"tensors\", not images.\n",
    "# So, it is perfectly happy with the output as a numeric value, but we need to transform the input\n",
    "image_to_tensor = torchvision.transforms.ToTensor()\n",
    "t = image_to_tensor(image)\n",
    "t"
   ]
  },
  {
   "cell_type": "code",
   "execution_count": 12,
   "id": "199069a5-2fe5-4ee9-bc6a-40332db52cbe",
   "metadata": {},
   "outputs": [
    {
     "data": {
      "text/plain": [
       "(torch.Size([1, 28, 28]), torch.float32)"
      ]
     },
     "execution_count": 12,
     "metadata": {},
     "output_type": "execute_result"
    }
   ],
   "source": [
    "t.shape, t.dtype"
   ]
  },
  {
   "cell_type": "code",
   "execution_count": 13,
   "id": "63bc73a5-dd37-45b9-89ab-34e3f10506e0",
   "metadata": {},
   "outputs": [
    {
     "data": {
      "image/png": "[encoded data removed]",
      "text/plain": [
       "<Figure size 640x480 with 2 Axes>"
      ]
     },
     "metadata": {},
     "output_type": "display_data"
    }
   ],
   "source": [
    "# No information has been lost in the conversion process!\n",
    "import matplotlib.pyplot as plt\n",
    "plt.imshow(t.squeeze(), cmap=\"grey\")\n",
    "plt.colorbar()\n",
    "None"
   ]
  },
  {
   "cell_type": "markdown",
   "id": "420ce320-c734-4ab8-a377-c4b9c235c54a",
   "metadata": {},
   "source": [
    "## Neural Network Model"
   ]
  },
  {
   "cell_type": "code",
   "execution_count": 14,
   "id": "543ed589-c9b9-4376-8ff5-ded427307b2e",
   "metadata": {},
   "outputs": [],
   "source": [
    "class NeuralNetwork(torch.nn.Module):\n",
    "    def __init__(self):\n",
    "        super().__init__()\n",
    "        self.flatten = torch.nn.Flatten()\n",
    "        self.linear_relu_stack = torch.nn.Sequential(\n",
    "            torch.nn.Linear(28*28, 512),\n",
    "            torch.nn.ReLU(),\n",
    "            torch.nn.Linear(512, 512),\n",
    "            torch.nn.ReLU(),\n",
    "            torch.nn.Linear(512, 10)\n",
    "        )\n",
    "\n",
    "    def forward(self, x):\n",
    "        x = self.flatten(x)\n",
    "        logits = self.linear_relu_stack(x)\n",
    "        return logits"
   ]
  },
  {
   "cell_type": "code",
   "execution_count": 15,
   "id": "165d4e2f-41a4-4ee7-8d36-a5cb59275934",
   "metadata": {},
   "outputs": [
    {
     "name": "stdout",
     "output_type": "stream",
     "text": [
      "NeuralNetwork(\n",
      "  (flatten): Flatten(start_dim=1, end_dim=-1)\n",
      "  (linear_relu_stack): Sequential(\n",
      "    (0): Linear(in_features=784, out_features=512, bias=True)\n",
      "    (1): ReLU()\n",
      "    (2): Linear(in_features=512, out_features=512, bias=True)\n",
      "    (3): ReLU()\n",
      "    (4): Linear(in_features=512, out_features=10, bias=True)\n",
      "  )\n",
      ")\n"
     ]
    }
   ],
   "source": [
    "model = NeuralNetwork()\n",
    "print(model)"
   ]
  },
  {
   "cell_type": "code",
   "execution_count": 16,
   "id": "4cf4e731-a71b-4956-aecd-83ba9e2a2e38",
   "metadata": {},
   "outputs": [
    {
     "data": {
      "text/plain": [
       "[Parameter containing:\n",
       " tensor([[ 0.0230, -0.0045,  0.0263,  ...,  0.0356, -0.0111, -0.0057],\n",
       "         [-0.0183, -0.0146,  0.0041,  ..., -0.0002, -0.0155,  0.0008],\n",
       "         [-0.0131,  0.0150, -0.0250,  ..., -0.0039, -0.0221, -0.0019],\n",
       "         ...,\n",
       "         [-0.0298, -0.0247, -0.0011,  ..., -0.0224,  0.0046, -0.0083],\n",
       "         [ 0.0278,  0.0268, -0.0158,  ..., -0.0219,  0.0096,  0.0248],\n",
       "         [ 0.0269,  0.0055, -0.0336,  ..., -0.0210, -0.0175,  0.0267]],\n",
       "        requires_grad=True),\n",
       " Parameter containing:\n",
       " tensor([-0.0108, -0.0301,  0.0014, -0.0018, -0.0046,  0.0179,  0.0126, -0.0315,\n",
       "          0.0142,  0.0313,  0.0137,  0.0255, -0.0289, -0.0190, -0.0036, -0.0230,\n",
       "          0.0309,  0.0215, -0.0083, -0.0277, -0.0172, -0.0317,  0.0117, -0.0075,\n",
       "         -0.0357, -0.0323,  0.0151, -0.0009,  0.0280,  0.0302,  0.0274,  0.0101,\n",
       "         -0.0124, -0.0153, -0.0020, -0.0006,  0.0111,  0.0306,  0.0322, -0.0354,\n",
       "         -0.0039,  0.0196,  0.0198, -0.0320, -0.0192,  0.0105,  0.0230,  0.0002,\n",
       "         -0.0120, -0.0254,  0.0017, -0.0205, -0.0108,  0.0261, -0.0100,  0.0271,\n",
       "         -0.0055, -0.0237,  0.0098,  0.0063, -0.0297,  0.0264,  0.0172, -0.0303,\n",
       "         -0.0210, -0.0070, -0.0145, -0.0253,  0.0194,  0.0329,  0.0274, -0.0202,\n",
       "         -0.0219,  0.0157,  0.0163, -0.0198,  0.0163, -0.0120, -0.0247, -0.0342,\n",
       "          0.0301, -0.0006, -0.0174,  0.0055, -0.0165,  0.0136, -0.0221, -0.0282,\n",
       "         -0.0178, -0.0240, -0.0052, -0.0294, -0.0159,  0.0050,  0.0353,  0.0230,\n",
       "         -0.0130, -0.0200, -0.0174,  0.0091,  0.0163, -0.0117, -0.0326,  0.0006,\n",
       "          0.0058, -0.0337,  0.0116, -0.0162,  0.0333,  0.0126,  0.0054, -0.0163,\n",
       "          0.0059, -0.0043, -0.0206, -0.0190, -0.0271,  0.0013, -0.0158, -0.0057,\n",
       "         -0.0041, -0.0119, -0.0172, -0.0324, -0.0354, -0.0040,  0.0301,  0.0066,\n",
       "          0.0287,  0.0149, -0.0295, -0.0270, -0.0278, -0.0253,  0.0061,  0.0246,\n",
       "         -0.0288,  0.0016,  0.0335, -0.0024,  0.0241,  0.0270, -0.0230, -0.0174,\n",
       "          0.0060, -0.0236, -0.0334, -0.0224, -0.0263, -0.0296, -0.0074,  0.0153,\n",
       "          0.0090,  0.0187, -0.0037, -0.0005,  0.0306,  0.0218,  0.0026, -0.0339,\n",
       "          0.0313, -0.0071,  0.0354,  0.0079,  0.0024, -0.0342,  0.0293,  0.0011,\n",
       "         -0.0310, -0.0292,  0.0070,  0.0297,  0.0038,  0.0193, -0.0073, -0.0014,\n",
       "         -0.0095, -0.0164,  0.0045,  0.0279, -0.0339,  0.0277, -0.0341,  0.0071,\n",
       "         -0.0314,  0.0338,  0.0202, -0.0323, -0.0008, -0.0128,  0.0174,  0.0170,\n",
       "         -0.0303, -0.0093,  0.0212,  0.0207, -0.0216,  0.0260, -0.0251,  0.0192,\n",
       "         -0.0204,  0.0103,  0.0250, -0.0296, -0.0081,  0.0309, -0.0197,  0.0342,\n",
       "         -0.0006,  0.0159,  0.0106,  0.0232,  0.0021, -0.0297,  0.0081,  0.0070,\n",
       "          0.0343,  0.0141, -0.0173,  0.0307,  0.0146, -0.0139,  0.0211,  0.0105,\n",
       "         -0.0330,  0.0324,  0.0163,  0.0276, -0.0282,  0.0084,  0.0108, -0.0288,\n",
       "          0.0105,  0.0035,  0.0073,  0.0081, -0.0130,  0.0193, -0.0275, -0.0286,\n",
       "         -0.0095, -0.0322,  0.0293, -0.0185, -0.0218, -0.0171, -0.0027,  0.0245,\n",
       "          0.0105,  0.0225,  0.0163, -0.0048,  0.0265,  0.0008, -0.0123, -0.0061,\n",
       "          0.0315, -0.0061, -0.0177, -0.0117, -0.0272, -0.0233,  0.0155, -0.0208,\n",
       "          0.0261,  0.0080,  0.0301, -0.0007,  0.0088,  0.0003, -0.0288, -0.0214,\n",
       "          0.0170, -0.0090, -0.0229, -0.0136,  0.0248,  0.0144, -0.0279, -0.0206,\n",
       "          0.0205, -0.0250, -0.0092,  0.0108, -0.0338,  0.0246,  0.0150,  0.0003,\n",
       "         -0.0224,  0.0297, -0.0129, -0.0144, -0.0082,  0.0205,  0.0028, -0.0350,\n",
       "          0.0140,  0.0091,  0.0323, -0.0023, -0.0161, -0.0012, -0.0352, -0.0019,\n",
       "         -0.0148,  0.0018,  0.0050,  0.0040, -0.0065, -0.0077,  0.0012, -0.0259,\n",
       "         -0.0164, -0.0198,  0.0318, -0.0220, -0.0203,  0.0085,  0.0298, -0.0191,\n",
       "          0.0301, -0.0133,  0.0230, -0.0268, -0.0268, -0.0240, -0.0260, -0.0161,\n",
       "         -0.0109, -0.0294, -0.0296,  0.0042,  0.0094,  0.0309, -0.0162, -0.0183,\n",
       "         -0.0215, -0.0227, -0.0309, -0.0160,  0.0264, -0.0300, -0.0145, -0.0346,\n",
       "          0.0271,  0.0177, -0.0094, -0.0233, -0.0311,  0.0118, -0.0280,  0.0237,\n",
       "         -0.0237,  0.0221, -0.0222, -0.0060, -0.0250,  0.0338,  0.0333, -0.0126,\n",
       "         -0.0224,  0.0260,  0.0090, -0.0062,  0.0017,  0.0112,  0.0223, -0.0037,\n",
       "          0.0066, -0.0222,  0.0098, -0.0045, -0.0072,  0.0038, -0.0307,  0.0102,\n",
       "         -0.0017, -0.0264, -0.0242, -0.0195, -0.0051,  0.0152, -0.0136, -0.0038,\n",
       "         -0.0027, -0.0060,  0.0130,  0.0284,  0.0113, -0.0090,  0.0244,  0.0252,\n",
       "         -0.0293, -0.0326,  0.0334,  0.0164, -0.0209, -0.0246,  0.0010, -0.0045,\n",
       "         -0.0123,  0.0314,  0.0348,  0.0193,  0.0294,  0.0245,  0.0189,  0.0004,\n",
       "          0.0036,  0.0203, -0.0296, -0.0035,  0.0141,  0.0284,  0.0119, -0.0324,\n",
       "         -0.0014,  0.0145, -0.0336, -0.0257, -0.0140,  0.0286, -0.0037,  0.0278,\n",
       "          0.0174, -0.0210,  0.0198, -0.0078, -0.0339,  0.0025,  0.0076, -0.0246,\n",
       "          0.0018,  0.0188,  0.0193,  0.0024, -0.0117, -0.0305,  0.0008, -0.0053,\n",
       "         -0.0103,  0.0330,  0.0110,  0.0094, -0.0160, -0.0296,  0.0352,  0.0226,\n",
       "         -0.0297,  0.0356, -0.0044, -0.0158,  0.0040, -0.0158, -0.0119, -0.0342,\n",
       "         -0.0356, -0.0190,  0.0034, -0.0295,  0.0127,  0.0047,  0.0124, -0.0337,\n",
       "          0.0009,  0.0147, -0.0187,  0.0185,  0.0217,  0.0334,  0.0144, -0.0182,\n",
       "          0.0252,  0.0275, -0.0235, -0.0006,  0.0242,  0.0116, -0.0187, -0.0127,\n",
       "         -0.0121,  0.0150,  0.0072, -0.0212, -0.0231, -0.0024,  0.0329, -0.0028,\n",
       "          0.0333, -0.0025, -0.0014, -0.0029,  0.0342,  0.0234, -0.0140, -0.0350,\n",
       "         -0.0325, -0.0147,  0.0025, -0.0294, -0.0161,  0.0045, -0.0254,  0.0185,\n",
       "         -0.0194,  0.0065,  0.0154,  0.0109, -0.0088, -0.0307,  0.0128, -0.0149],\n",
       "        requires_grad=True),\n",
       " Parameter containing:\n",
       " tensor([[-0.0221,  0.0063, -0.0003,  ..., -0.0424,  0.0245, -0.0306],\n",
       "         [-0.0206,  0.0026, -0.0250,  ...,  0.0372,  0.0440, -0.0353],\n",
       "         [ 0.0364, -0.0154, -0.0441,  ...,  0.0260, -0.0033, -0.0231],\n",
       "         ...,\n",
       "         [-0.0166,  0.0124, -0.0177,  ...,  0.0286, -0.0317, -0.0010],\n",
       "         [ 0.0425, -0.0179, -0.0093,  ...,  0.0384, -0.0144,  0.0260],\n",
       "         [-0.0101,  0.0283,  0.0275,  ..., -0.0145,  0.0184,  0.0229]],\n",
       "        requires_grad=True),\n",
       " Parameter containing:\n",
       " tensor([-1.6586e-02, -3.3277e-02, -2.5612e-02, -1.5368e-02,  1.3532e-02,\n",
       "          3.3861e-02, -2.2959e-02, -3.3006e-02, -4.2860e-02, -2.9945e-03,\n",
       "          2.0836e-02, -1.7022e-02, -4.2710e-02, -3.3158e-02,  3.1532e-02,\n",
       "         -2.0241e-02, -2.3005e-02,  4.1096e-02,  3.7389e-02, -2.7678e-02,\n",
       "          4.3562e-02,  7.0108e-04,  2.2298e-02,  9.1011e-04, -2.0818e-02,\n",
       "         -4.0330e-02, -3.9048e-02,  3.3068e-02,  1.1675e-02, -3.2415e-02,\n",
       "          2.6414e-03,  3.6847e-02,  4.0181e-03, -2.1743e-02, -3.3890e-02,\n",
       "          1.1089e-02,  1.9066e-02,  4.7451e-03,  1.6399e-03,  3.2277e-02,\n",
       "          2.6550e-02,  2.9129e-02,  3.1440e-02, -4.1195e-02, -1.4892e-02,\n",
       "          2.1687e-02, -4.2686e-02,  1.8699e-03, -1.9664e-02, -1.9013e-02,\n",
       "          3.1514e-02,  1.4584e-02, -2.5255e-02,  3.9900e-02, -3.4820e-02,\n",
       "          8.8682e-03,  1.1860e-02,  2.5668e-02,  2.8269e-02,  3.0035e-02,\n",
       "          3.3378e-02, -4.0243e-02,  1.3914e-02, -1.5569e-02,  2.6558e-02,\n",
       "          2.3031e-02,  1.6651e-02,  1.4362e-02,  4.3549e-02,  1.0639e-02,\n",
       "         -1.1957e-02, -1.4401e-02, -1.8208e-02,  4.1844e-03, -1.1367e-02,\n",
       "         -2.4580e-02, -1.0838e-02, -3.6839e-02,  1.3629e-02, -3.9797e-02,\n",
       "          3.7531e-02,  3.9430e-02,  1.8574e-03, -5.7200e-03,  4.1698e-02,\n",
       "          1.7849e-02,  2.9939e-02, -1.2219e-02,  1.6123e-02,  1.9576e-03,\n",
       "         -9.6562e-03,  3.6613e-02, -3.8449e-02, -3.4514e-02, -3.6499e-03,\n",
       "         -4.2050e-02, -2.8097e-02,  4.1823e-02, -8.5871e-03, -2.4112e-02,\n",
       "         -3.8564e-02,  2.0363e-02,  2.0633e-03, -3.2890e-02,  8.7726e-03,\n",
       "          3.7311e-02, -3.4254e-03,  3.2561e-02, -8.3288e-03, -3.6330e-02,\n",
       "         -1.6192e-03, -5.5260e-03, -3.1990e-03,  1.7890e-02, -3.9574e-03,\n",
       "         -1.7734e-02, -2.8006e-02, -2.3068e-02,  1.4041e-02, -3.0910e-03,\n",
       "         -6.7570e-03, -4.1046e-02, -7.4958e-03, -3.8373e-03, -2.2104e-02,\n",
       "          3.7835e-02, -3.4872e-02,  4.0569e-02, -3.2854e-02, -2.8437e-02,\n",
       "          4.0241e-02, -4.8744e-03,  1.8881e-02, -4.2143e-02, -1.4465e-02,\n",
       "          2.7924e-02,  6.5776e-03,  1.3771e-02,  1.1130e-02, -3.3044e-02,\n",
       "          7.2730e-03, -3.8196e-02,  3.8280e-03, -1.1080e-02, -8.0447e-03,\n",
       "          9.2753e-03, -2.4235e-02, -3.1273e-02, -2.3524e-02, -2.4973e-03,\n",
       "         -7.7113e-04, -2.0221e-02,  2.9310e-02,  2.0016e-03, -3.8315e-02,\n",
       "         -4.0492e-02, -7.4810e-03, -2.7493e-03, -1.6694e-02,  4.2047e-02,\n",
       "         -3.7571e-02,  1.9623e-02, -3.0329e-03, -2.8636e-02,  1.2168e-02,\n",
       "          2.1541e-02, -4.2619e-02,  2.2504e-02, -9.6841e-03, -1.4412e-02,\n",
       "          3.2145e-02,  4.3093e-02,  1.9699e-02, -1.2969e-02,  2.3141e-02,\n",
       "          4.3772e-02,  4.1563e-02, -3.7346e-02,  9.6243e-03,  3.0749e-03,\n",
       "         -3.2480e-02,  7.1991e-03,  2.4799e-02, -6.3550e-03,  3.9811e-03,\n",
       "          9.7670e-03,  3.7867e-02, -3.0393e-03, -1.9973e-02, -2.1523e-02,\n",
       "         -2.6716e-02,  2.0613e-02,  3.5322e-02,  1.7831e-02,  4.0280e-02,\n",
       "         -2.9514e-02,  3.6925e-02,  5.8989e-03,  1.3564e-02, -3.6350e-02,\n",
       "         -1.4387e-02, -1.5361e-02, -1.3163e-02,  3.1795e-02,  1.5053e-03,\n",
       "          2.5751e-02,  6.3424e-03, -2.5857e-02, -1.7547e-02, -1.3919e-02,\n",
       "          3.3223e-02, -2.7938e-02,  5.8509e-03,  5.5344e-03, -2.0827e-02,\n",
       "          3.2969e-02, -1.2289e-03, -1.0447e-02, -1.6169e-02, -5.6389e-03,\n",
       "         -2.5014e-05, -4.3199e-02, -1.3906e-02, -1.5690e-02, -2.4013e-02,\n",
       "          6.0929e-03,  8.3243e-03, -2.1347e-02,  3.8748e-02, -3.4300e-02,\n",
       "          4.1503e-02,  4.0046e-02, -3.3937e-02,  3.1275e-02,  1.4178e-02,\n",
       "          2.5226e-02,  7.5316e-03,  2.9805e-02,  1.7048e-02, -1.6796e-02,\n",
       "          4.2147e-02, -3.3740e-02,  4.4724e-03,  3.6412e-03,  1.9227e-02,\n",
       "          2.5522e-02, -5.1251e-03, -2.2133e-02, -7.0815e-03, -3.4164e-02,\n",
       "          1.1267e-02,  3.4922e-02,  1.3248e-02,  6.9163e-03, -1.0522e-03,\n",
       "          1.7553e-02, -4.0138e-02, -3.6970e-02, -3.7128e-03, -3.6713e-02,\n",
       "         -3.3337e-02,  2.3888e-02,  2.8277e-02, -1.0753e-02, -1.1656e-02,\n",
       "          2.9296e-03, -1.7948e-02,  2.1222e-03,  4.3564e-02, -1.3645e-02,\n",
       "         -1.1518e-03,  3.9848e-02, -8.5553e-03,  1.0814e-02,  1.3492e-02,\n",
       "         -2.5501e-02, -1.8990e-02,  1.9050e-02,  4.0291e-02, -4.2172e-02,\n",
       "          3.1191e-02,  2.5260e-02, -3.9573e-03,  3.1168e-02, -3.2036e-02,\n",
       "          1.1327e-03,  1.4378e-02,  6.8055e-04, -3.3035e-02,  8.5057e-03,\n",
       "         -4.0703e-02, -9.9781e-03, -1.8394e-02, -1.5516e-02,  2.3081e-02,\n",
       "          3.9654e-03,  3.7388e-02, -3.5223e-02, -2.8668e-02, -3.0341e-02,\n",
       "         -1.1205e-02,  6.2923e-03,  3.2725e-02, -2.6746e-02,  7.8628e-03,\n",
       "         -1.2879e-02, -8.9259e-03,  3.4992e-02, -2.9394e-02,  1.4736e-02,\n",
       "         -1.9857e-02,  3.6964e-02, -8.1689e-04, -1.0596e-02,  4.0784e-02,\n",
       "         -2.7051e-02,  2.2703e-02, -3.1954e-02, -2.0583e-02,  6.6427e-03,\n",
       "          8.6964e-03, -2.3033e-02,  2.2253e-02,  3.8032e-03,  3.4408e-02,\n",
       "          1.9452e-02, -3.2483e-02,  3.3034e-02,  1.5717e-02,  2.7757e-02,\n",
       "          3.1273e-02,  1.9906e-02,  1.1265e-02,  2.3981e-02,  2.0767e-02,\n",
       "          4.2827e-02,  3.3322e-02, -6.6283e-03,  5.3013e-03,  3.2709e-02,\n",
       "         -1.6430e-02,  8.4066e-03,  2.0505e-02,  3.7759e-02, -2.6221e-02,\n",
       "         -1.0232e-03,  8.6822e-03,  3.9709e-03, -2.0044e-02, -1.1326e-02,\n",
       "         -4.0139e-02,  3.2984e-02, -2.8744e-02,  1.6126e-02, -6.1667e-03,\n",
       "          1.2760e-02, -3.1244e-02,  3.9206e-02, -2.1659e-02,  4.1573e-02,\n",
       "         -2.0691e-02, -3.9433e-02,  8.1513e-03,  3.4033e-02, -3.3886e-02,\n",
       "         -1.5202e-02, -4.2884e-02, -2.9488e-02, -3.7369e-02,  8.7551e-03,\n",
       "          4.0195e-02, -6.6033e-03, -4.0734e-02,  3.9499e-03,  1.7195e-02,\n",
       "          3.0027e-02,  4.0173e-03,  3.1834e-02, -4.0973e-03, -2.4603e-02,\n",
       "          4.3378e-03,  3.9424e-02,  4.3150e-02,  3.6120e-02,  2.4158e-02,\n",
       "          1.8891e-02,  9.8816e-03, -3.2403e-02, -3.9389e-02, -1.1820e-02,\n",
       "         -3.2332e-02, -3.8216e-02, -2.7918e-02, -2.5424e-02,  7.8556e-03,\n",
       "          4.3726e-02,  3.0960e-02, -3.4887e-02, -4.2823e-02,  2.5196e-02,\n",
       "         -3.1408e-02, -3.5950e-02, -2.3952e-02, -1.6260e-02, -4.1031e-02,\n",
       "         -3.2128e-02, -3.1057e-03, -2.9850e-03,  3.4563e-02, -3.4936e-02,\n",
       "          3.6940e-02,  2.9455e-02,  3.8602e-02,  3.7198e-02, -2.3068e-02,\n",
       "          9.2201e-03,  4.3169e-02, -4.1766e-02,  4.2485e-02, -2.2052e-03,\n",
       "         -1.1169e-02,  2.6066e-02, -3.8393e-03,  1.0679e-02, -1.4851e-02,\n",
       "         -9.2184e-03, -4.2634e-02, -3.3140e-03, -2.3616e-02,  2.7227e-02,\n",
       "         -2.1534e-03,  2.5105e-02,  3.3185e-02,  1.6526e-02,  6.0146e-03,\n",
       "          1.3752e-02,  1.5954e-02, -1.2012e-02,  8.8181e-03,  2.5317e-02,\n",
       "          1.7525e-02, -6.2348e-03,  3.1527e-02,  5.9172e-03,  4.1688e-02,\n",
       "          4.0600e-02, -2.6441e-02, -2.5820e-02, -2.6142e-02,  3.9444e-02,\n",
       "         -2.5620e-02, -1.0712e-02, -3.8463e-02, -2.3626e-02, -4.3856e-02,\n",
       "         -1.8042e-02, -4.4266e-03, -6.0230e-03, -2.9905e-02, -6.4852e-04,\n",
       "         -7.5443e-03,  3.5854e-02, -1.6236e-02, -3.1539e-02,  1.4571e-02,\n",
       "          1.6019e-02,  2.6140e-02, -1.6043e-02, -1.0039e-02,  4.3572e-02,\n",
       "          1.6952e-03, -2.7567e-03, -2.1719e-02,  7.5661e-03,  3.5631e-02,\n",
       "          3.9874e-02, -1.4937e-02, -1.4994e-02, -1.8966e-02,  1.9551e-02,\n",
       "         -2.0133e-02, -6.2526e-03, -1.2299e-02, -1.0633e-03, -5.9896e-03,\n",
       "          3.7066e-02, -3.6279e-02, -1.5843e-02,  9.7658e-03,  3.2200e-02,\n",
       "          5.9371e-03, -8.7772e-03, -3.3533e-02, -1.0534e-02, -3.6141e-02,\n",
       "         -4.1622e-02, -3.3149e-02, -6.8618e-03,  3.1165e-02, -2.1868e-02,\n",
       "          2.1717e-02, -1.4834e-02, -2.2956e-02,  1.8344e-02, -2.1475e-02,\n",
       "          3.9328e-02, -2.1509e-02,  2.8667e-02, -1.1718e-02,  4.2529e-02,\n",
       "          1.4012e-02,  3.4320e-02], requires_grad=True),\n",
       " Parameter containing:\n",
       " tensor([[ 0.0179,  0.0368,  0.0237,  ..., -0.0316, -0.0416,  0.0183],\n",
       "         [ 0.0103, -0.0004, -0.0013,  ..., -0.0320,  0.0211, -0.0222],\n",
       "         [-0.0229, -0.0144,  0.0317,  ...,  0.0055,  0.0094,  0.0190],\n",
       "         ...,\n",
       "         [ 0.0234, -0.0292, -0.0224,  ...,  0.0080, -0.0117,  0.0260],\n",
       "         [-0.0240, -0.0251, -0.0061,  ...,  0.0411, -0.0224, -0.0396],\n",
       "         [ 0.0024,  0.0298,  0.0015,  ..., -0.0161,  0.0174,  0.0269]],\n",
       "        requires_grad=True),\n",
       " Parameter containing:\n",
       " tensor([-0.0093, -0.0252, -0.0290,  0.0131, -0.0312, -0.0148, -0.0283,  0.0359,\n",
       "         -0.0389, -0.0112], requires_grad=True)]"
      ]
     },
     "execution_count": 16,
     "metadata": {},
     "output_type": "execute_result"
    }
   ],
   "source": [
    "list(model.parameters()) # At the moment, the model state (set of parameters) is random since the model has not been trained"
   ]
  },
  {
   "cell_type": "code",
   "execution_count": 17,
   "id": "989799c7-ab64-4364-9207-3cc3927b971b",
   "metadata": {},
   "outputs": [
    {
     "data": {
      "text/plain": [
       "tensor([[ 0.0139, -0.0943, -0.0889,  0.0154,  0.0115, -0.0701, -0.0614,  0.1164,\n",
       "         -0.0310,  0.0173]], grad_fn=<AddmmBackward0>)"
      ]
     },
     "execution_count": 17,
     "metadata": {},
     "output_type": "execute_result"
    }
   ],
   "source": [
    "to_tensor = torchvision.transforms.ToTensor()\n",
    "input = to_tensor(image)\n",
    "output = model(input)\n",
    "output"
   ]
  },
  {
   "cell_type": "code",
   "execution_count": 18,
   "id": "a04ed00e-a735-4af5-86b6-ab01c35d7dd0",
   "metadata": {},
   "outputs": [
    {
     "data": {
      "text/plain": [
       "tensor([0.1030, 0.0924, 0.0929, 0.1031, 0.1027, 0.0947, 0.0955, 0.1141, 0.0984,\n",
       "        0.1033])"
      ]
     },
     "execution_count": 18,
     "metadata": {},
     "output_type": "execute_result"
    }
   ],
   "source": [
    "logits = output.data.squeeze()\n",
    "probas = torch.nn.functional.softmax(logits, dim=-1)\n",
    "probas"
   ]
  },
  {
   "cell_type": "code",
   "execution_count": 19,
   "id": "a9890cb8-a0ba-4859-a3c9-86dc21652f49",
   "metadata": {},
   "outputs": [
    {
     "data": {
      "image/png": "[encoded data removed]",
      "text/plain": [
       "<Figure size 1600x480 with 1 Axes>"
      ]
     },
     "metadata": {},
     "output_type": "display_data"
    }
   ],
   "source": [
    "import seaborn as sns; sns.set_theme()\n",
    "data = {training_data.classes[i]: p.item() for i, p in enumerate(probas)}\n",
    "sns.barplot(data)\n",
    "plt.gcf().set_figwidth(16)\n",
    "plt.gca().set_ylabel(\"Probability\")\n",
    "None"
   ]
  },
  {
   "cell_type": "code",
   "execution_count": 20,
   "id": "1bfa49f3-2493-465f-8757-94a4af0f188d",
   "metadata": {},
   "outputs": [
    {
     "data": {
      "text/plain": [
       "7"
      ]
     },
     "execution_count": 20,
     "metadata": {},
     "output_type": "execute_result"
    }
   ],
   "source": [
    "index = probas.argmax().item()\n",
    "index"
   ]
  },
  {
   "cell_type": "code",
   "execution_count": 53,
   "id": "2fff0a3e-3536-4235-8b72-eb1987353ee0",
   "metadata": {},
   "outputs": [
    {
     "data": {
      "text/plain": [
       "'Sneaker'"
      ]
     },
     "execution_count": 53,
     "metadata": {},
     "output_type": "execute_result"
    }
   ],
   "source": [
    "training_data.classes[index] # The choice of the untrained model for image; probably False!"
   ]
  },
  {
   "cell_type": "markdown",
   "id": "f81e5757-0ecf-4e55-8cc5-3c177928ea41",
   "metadata": {},
   "source": [
    "### Under the Hood"
   ]
  },
  {
   "cell_type": "code",
   "execution_count": 22,
   "id": "89a01b45-d85b-4789-bc3d-c72b49c5950a",
   "metadata": {},
   "outputs": [
    {
     "data": {
      "text/plain": [
       "Flatten(start_dim=1, end_dim=-1)"
      ]
     },
     "execution_count": 22,
     "metadata": {},
     "output_type": "execute_result"
    }
   ],
   "source": [
    "model.flatten"
   ]
  },
  {
   "cell_type": "code",
   "execution_count": 23,
   "id": "c8a39cf1-aa35-45b8-ad37-15db36f4de6e",
   "metadata": {},
   "outputs": [
    {
     "data": {
      "image/jpeg": "[encoded data removed]",
      "image/png": "[encoded data removed]",
      "text/plain": [
       "<PIL.Image.Image image mode=L size=28x28>"
      ]
     },
     "execution_count": 23,
     "metadata": {},
     "output_type": "execute_result"
    }
   ],
   "source": [
    "image"
   ]
  },
  {
   "cell_type": "code",
   "execution_count": 24,
   "id": "d8fdafdc-c5d2-4e4f-9bfe-7162bb04e282",
   "metadata": {},
   "outputs": [
    {
     "data": {
      "text/plain": [
       "tensor([[[0.0000, 0.0000, 0.0000, 0.0000, 0.0000, 0.0000, 0.0000, 0.0000,\n",
       "          0.0000, 0.0000, 0.0000, 0.0000, 0.0000, 0.0000, 0.0000, 0.0000,\n",
       "          0.0000, 0.0000, 0.0000, 0.0000, 0.0000, 0.0000, 0.0000, 0.0000,\n",
       "          0.0000, 0.0000, 0.0000, 0.0000],\n",
       "         [0.0000, 0.0000, 0.0000, 0.0000, 0.0000, 0.0000, 0.0000, 0.0000,\n",
       "          0.0000, 0.0000, 0.0000, 0.0000, 0.0000, 0.0000, 0.0000, 0.0000,\n",
       "          0.0000, 0.0000, 0.0000, 0.0000, 0.0000, 0.0000, 0.0000, 0.0000,\n",
       "          0.0000, 0.0000, 0.0000, 0.0000],\n",
       "         [0.0000, 0.0000, 0.0000, 0.0000, 0.0000, 0.0000, 0.0000, 0.0000,\n",
       "          0.0000, 0.0000, 0.0000, 0.0000, 0.0000, 0.0000, 0.0000, 0.0000,\n",
       "          0.0000, 0.0000, 0.0000, 0.0000, 0.0000, 0.0000, 0.0000, 0.0000,\n",
       "          0.0000, 0.0000, 0.0000, 0.0000],\n",
       "         [0.0000, 0.0000, 0.0000, 0.0000, 0.0000, 0.0000, 0.0000, 0.0000,\n",
       "          0.0000, 0.0000, 0.0000, 0.0000, 0.0039, 0.0000, 0.0000, 0.0510,\n",
       "          0.2863, 0.0000, 0.0000, 0.0039, 0.0157, 0.0000, 0.0000, 0.0000,\n",
       "          0.0000, 0.0039, 0.0039, 0.0000],\n",
       "         [0.0000, 0.0000, 0.0000, 0.0000, 0.0000, 0.0000, 0.0000, 0.0000,\n",
       "          0.0000, 0.0000, 0.0000, 0.0000, 0.0118, 0.0000, 0.1412, 0.5333,\n",
       "          0.4980, 0.2431, 0.2118, 0.0000, 0.0000, 0.0000, 0.0039, 0.0118,\n",
       "          0.0157, 0.0000, 0.0000, 0.0118],\n",
       "         [0.0000, 0.0000, 0.0000, 0.0000, 0.0000, 0.0000, 0.0000, 0.0000,\n",
       "          0.0000, 0.0000, 0.0000, 0.0000, 0.0235, 0.0000, 0.4000, 0.8000,\n",
       "          0.6902, 0.5255, 0.5647, 0.4824, 0.0902, 0.0000, 0.0000, 0.0000,\n",
       "          0.0000, 0.0471, 0.0392, 0.0000],\n",
       "         [0.0000, 0.0000, 0.0000, 0.0000, 0.0000, 0.0000, 0.0000, 0.0000,\n",
       "          0.0000, 0.0000, 0.0000, 0.0000, 0.0000, 0.0000, 0.6078, 0.9255,\n",
       "          0.8118, 0.6980, 0.4196, 0.6118, 0.6314, 0.4275, 0.2510, 0.0902,\n",
       "          0.3020, 0.5098, 0.2824, 0.0588],\n",
       "         [0.0000, 0.0000, 0.0000, 0.0000, 0.0000, 0.0000, 0.0000, 0.0000,\n",
       "          0.0000, 0.0000, 0.0000, 0.0039, 0.0000, 0.2706, 0.8118, 0.8745,\n",
       "          0.8549, 0.8471, 0.8471, 0.6392, 0.4980, 0.4745, 0.4784, 0.5725,\n",
       "          0.5529, 0.3451, 0.6745, 0.2588],\n",
       "         [0.0000, 0.0000, 0.0000, 0.0000, 0.0000, 0.0000, 0.0000, 0.0000,\n",
       "          0.0000, 0.0039, 0.0039, 0.0039, 0.0000, 0.7843, 0.9098, 0.9098,\n",
       "          0.9137, 0.8980, 0.8745, 0.8745, 0.8431, 0.8353, 0.6431, 0.4980,\n",
       "          0.4824, 0.7686, 0.8980, 0.0000],\n",
       "         [0.0000, 0.0000, 0.0000, 0.0000, 0.0000, 0.0000, 0.0000, 0.0000,\n",
       "          0.0000, 0.0000, 0.0000, 0.0000, 0.0000, 0.7176, 0.8824, 0.8471,\n",
       "          0.8745, 0.8941, 0.9216, 0.8902, 0.8784, 0.8706, 0.8784, 0.8667,\n",
       "          0.8745, 0.9608, 0.6784, 0.0000],\n",
       "         [0.0000, 0.0000, 0.0000, 0.0000, 0.0000, 0.0000, 0.0000, 0.0000,\n",
       "          0.0000, 0.0000, 0.0000, 0.0000, 0.0000, 0.7569, 0.8941, 0.8549,\n",
       "          0.8353, 0.7765, 0.7059, 0.8314, 0.8235, 0.8275, 0.8353, 0.8745,\n",
       "          0.8627, 0.9529, 0.7922, 0.0000],\n",
       "         [0.0000, 0.0000, 0.0000, 0.0000, 0.0000, 0.0000, 0.0000, 0.0000,\n",
       "          0.0000, 0.0039, 0.0118, 0.0000, 0.0471, 0.8588, 0.8627, 0.8314,\n",
       "          0.8549, 0.7529, 0.6627, 0.8902, 0.8157, 0.8549, 0.8784, 0.8314,\n",
       "          0.8863, 0.7725, 0.8196, 0.2039],\n",
       "         [0.0000, 0.0000, 0.0000, 0.0000, 0.0000, 0.0000, 0.0000, 0.0000,\n",
       "          0.0000, 0.0000, 0.0235, 0.0000, 0.3882, 0.9569, 0.8706, 0.8627,\n",
       "          0.8549, 0.7961, 0.7765, 0.8667, 0.8431, 0.8353, 0.8706, 0.8627,\n",
       "          0.9608, 0.4667, 0.6549, 0.2196],\n",
       "         [0.0000, 0.0000, 0.0000, 0.0000, 0.0000, 0.0000, 0.0000, 0.0000,\n",
       "          0.0000, 0.0157, 0.0000, 0.0000, 0.2157, 0.9255, 0.8941, 0.9020,\n",
       "          0.8941, 0.9412, 0.9098, 0.8353, 0.8549, 0.8745, 0.9176, 0.8510,\n",
       "          0.8510, 0.8196, 0.3608, 0.0000],\n",
       "         [0.0000, 0.0000, 0.0039, 0.0157, 0.0235, 0.0275, 0.0078, 0.0000,\n",
       "          0.0000, 0.0000, 0.0000, 0.0000, 0.9294, 0.8863, 0.8510, 0.8745,\n",
       "          0.8706, 0.8588, 0.8706, 0.8667, 0.8471, 0.8745, 0.8980, 0.8431,\n",
       "          0.8549, 1.0000, 0.3020, 0.0000],\n",
       "         [0.0000, 0.0118, 0.0000, 0.0000, 0.0000, 0.0000, 0.0000, 0.0000,\n",
       "          0.0000, 0.2431, 0.5686, 0.8000, 0.8941, 0.8118, 0.8353, 0.8667,\n",
       "          0.8549, 0.8157, 0.8275, 0.8549, 0.8784, 0.8745, 0.8588, 0.8431,\n",
       "          0.8784, 0.9569, 0.6235, 0.0000],\n",
       "         [0.0000, 0.0000, 0.0000, 0.0000, 0.0706, 0.1725, 0.3216, 0.4196,\n",
       "          0.7412, 0.8941, 0.8627, 0.8706, 0.8510, 0.8863, 0.7843, 0.8039,\n",
       "          0.8275, 0.9020, 0.8784, 0.9176, 0.6902, 0.7373, 0.9804, 0.9725,\n",
       "          0.9137, 0.9333, 0.8431, 0.0000],\n",
       "         [0.0000, 0.2235, 0.7333, 0.8157, 0.8784, 0.8667, 0.8784, 0.8157,\n",
       "          0.8000, 0.8392, 0.8157, 0.8196, 0.7843, 0.6235, 0.9608, 0.7569,\n",
       "          0.8078, 0.8745, 1.0000, 1.0000, 0.8667, 0.9176, 0.8667, 0.8275,\n",
       "          0.8627, 0.9098, 0.9647, 0.0000],\n",
       "         [0.0118, 0.7922, 0.8941, 0.8784, 0.8667, 0.8275, 0.8275, 0.8392,\n",
       "          0.8039, 0.8039, 0.8039, 0.8627, 0.9412, 0.3137, 0.5882, 1.0000,\n",
       "          0.8980, 0.8667, 0.7373, 0.6039, 0.7490, 0.8235, 0.8000, 0.8196,\n",
       "          0.8706, 0.8941, 0.8824, 0.0000],\n",
       "         [0.3843, 0.9137, 0.7765, 0.8235, 0.8706, 0.8980, 0.8980, 0.9176,\n",
       "          0.9765, 0.8627, 0.7608, 0.8431, 0.8510, 0.9451, 0.2549, 0.2863,\n",
       "          0.4157, 0.4588, 0.6588, 0.8588, 0.8667, 0.8431, 0.8510, 0.8745,\n",
       "          0.8745, 0.8784, 0.8980, 0.1137],\n",
       "         [0.2941, 0.8000, 0.8314, 0.8000, 0.7569, 0.8039, 0.8275, 0.8824,\n",
       "          0.8471, 0.7255, 0.7725, 0.8078, 0.7765, 0.8353, 0.9412, 0.7647,\n",
       "          0.8902, 0.9608, 0.9373, 0.8745, 0.8549, 0.8314, 0.8196, 0.8706,\n",
       "          0.8627, 0.8667, 0.9020, 0.2627],\n",
       "         [0.1882, 0.7961, 0.7176, 0.7608, 0.8353, 0.7725, 0.7255, 0.7451,\n",
       "          0.7608, 0.7529, 0.7922, 0.8392, 0.8588, 0.8667, 0.8627, 0.9255,\n",
       "          0.8824, 0.8471, 0.7804, 0.8078, 0.7294, 0.7098, 0.6941, 0.6745,\n",
       "          0.7098, 0.8039, 0.8078, 0.4510],\n",
       "         [0.0000, 0.4784, 0.8588, 0.7569, 0.7020, 0.6706, 0.7176, 0.7686,\n",
       "          0.8000, 0.8235, 0.8353, 0.8118, 0.8275, 0.8235, 0.7843, 0.7686,\n",
       "          0.7608, 0.7490, 0.7647, 0.7490, 0.7765, 0.7529, 0.6902, 0.6118,\n",
       "          0.6549, 0.6941, 0.8235, 0.3608],\n",
       "         [0.0000, 0.0000, 0.2902, 0.7412, 0.8314, 0.7490, 0.6863, 0.6745,\n",
       "          0.6863, 0.7098, 0.7255, 0.7373, 0.7412, 0.7373, 0.7569, 0.7765,\n",
       "          0.8000, 0.8196, 0.8235, 0.8235, 0.8275, 0.7373, 0.7373, 0.7608,\n",
       "          0.7529, 0.8471, 0.6667, 0.0000],\n",
       "         [0.0078, 0.0000, 0.0000, 0.0000, 0.2588, 0.7843, 0.8706, 0.9294,\n",
       "          0.9373, 0.9490, 0.9647, 0.9529, 0.9569, 0.8667, 0.8627, 0.7569,\n",
       "          0.7490, 0.7020, 0.7137, 0.7137, 0.7098, 0.6902, 0.6510, 0.6588,\n",
       "          0.3882, 0.2275, 0.0000, 0.0000],\n",
       "         [0.0000, 0.0000, 0.0000, 0.0000, 0.0000, 0.0000, 0.0000, 0.1569,\n",
       "          0.2392, 0.1725, 0.2824, 0.1608, 0.1373, 0.0000, 0.0000, 0.0000,\n",
       "          0.0000, 0.0000, 0.0000, 0.0000, 0.0000, 0.0000, 0.0000, 0.0000,\n",
       "          0.0000, 0.0000, 0.0000, 0.0000],\n",
       "         [0.0000, 0.0000, 0.0000, 0.0000, 0.0000, 0.0000, 0.0000, 0.0000,\n",
       "          0.0000, 0.0000, 0.0000, 0.0000, 0.0000, 0.0000, 0.0000, 0.0000,\n",
       "          0.0000, 0.0000, 0.0000, 0.0000, 0.0000, 0.0000, 0.0000, 0.0000,\n",
       "          0.0000, 0.0000, 0.0000, 0.0000],\n",
       "         [0.0000, 0.0000, 0.0000, 0.0000, 0.0000, 0.0000, 0.0000, 0.0000,\n",
       "          0.0000, 0.0000, 0.0000, 0.0000, 0.0000, 0.0000, 0.0000, 0.0000,\n",
       "          0.0000, 0.0000, 0.0000, 0.0000, 0.0000, 0.0000, 0.0000, 0.0000,\n",
       "          0.0000, 0.0000, 0.0000, 0.0000]]])"
      ]
     },
     "execution_count": 24,
     "metadata": {},
     "output_type": "execute_result"
    }
   ],
   "source": [
    "t = torchvision.transforms.ToTensor()(image)\n",
    "t"
   ]
  },
  {
   "cell_type": "code",
   "execution_count": 25,
   "id": "8ff5bc9d-a6a8-4b3b-b7a9-c5f3e7b790c5",
   "metadata": {},
   "outputs": [
    {
     "data": {
      "text/plain": [
       "tensor([[0.0000, 0.0000, 0.0000, 0.0000, 0.0000, 0.0000, 0.0000, 0.0000, 0.0000,\n",
       "         0.0000, 0.0000, 0.0000, 0.0000, 0.0000, 0.0000, 0.0000, 0.0000, 0.0000,\n",
       "         0.0000, 0.0000, 0.0000, 0.0000, 0.0000, 0.0000, 0.0000, 0.0000, 0.0000,\n",
       "         0.0000, 0.0000, 0.0000, 0.0000, 0.0000, 0.0000, 0.0000, 0.0000, 0.0000,\n",
       "         0.0000, 0.0000, 0.0000, 0.0000, 0.0000, 0.0000, 0.0000, 0.0000, 0.0000,\n",
       "         0.0000, 0.0000, 0.0000, 0.0000, 0.0000, 0.0000, 0.0000, 0.0000, 0.0000,\n",
       "         0.0000, 0.0000, 0.0000, 0.0000, 0.0000, 0.0000, 0.0000, 0.0000, 0.0000,\n",
       "         0.0000, 0.0000, 0.0000, 0.0000, 0.0000, 0.0000, 0.0000, 0.0000, 0.0000,\n",
       "         0.0000, 0.0000, 0.0000, 0.0000, 0.0000, 0.0000, 0.0000, 0.0000, 0.0000,\n",
       "         0.0000, 0.0000, 0.0000, 0.0000, 0.0000, 0.0000, 0.0000, 0.0000, 0.0000,\n",
       "         0.0000, 0.0000, 0.0000, 0.0000, 0.0000, 0.0000, 0.0039, 0.0000, 0.0000,\n",
       "         0.0510, 0.2863, 0.0000, 0.0000, 0.0039, 0.0157, 0.0000, 0.0000, 0.0000,\n",
       "         0.0000, 0.0039, 0.0039, 0.0000, 0.0000, 0.0000, 0.0000, 0.0000, 0.0000,\n",
       "         0.0000, 0.0000, 0.0000, 0.0000, 0.0000, 0.0000, 0.0000, 0.0118, 0.0000,\n",
       "         0.1412, 0.5333, 0.4980, 0.2431, 0.2118, 0.0000, 0.0000, 0.0000, 0.0039,\n",
       "         0.0118, 0.0157, 0.0000, 0.0000, 0.0118, 0.0000, 0.0000, 0.0000, 0.0000,\n",
       "         0.0000, 0.0000, 0.0000, 0.0000, 0.0000, 0.0000, 0.0000, 0.0000, 0.0235,\n",
       "         0.0000, 0.4000, 0.8000, 0.6902, 0.5255, 0.5647, 0.4824, 0.0902, 0.0000,\n",
       "         0.0000, 0.0000, 0.0000, 0.0471, 0.0392, 0.0000, 0.0000, 0.0000, 0.0000,\n",
       "         0.0000, 0.0000, 0.0000, 0.0000, 0.0000, 0.0000, 0.0000, 0.0000, 0.0000,\n",
       "         0.0000, 0.0000, 0.6078, 0.9255, 0.8118, 0.6980, 0.4196, 0.6118, 0.6314,\n",
       "         0.4275, 0.2510, 0.0902, 0.3020, 0.5098, 0.2824, 0.0588, 0.0000, 0.0000,\n",
       "         0.0000, 0.0000, 0.0000, 0.0000, 0.0000, 0.0000, 0.0000, 0.0000, 0.0000,\n",
       "         0.0039, 0.0000, 0.2706, 0.8118, 0.8745, 0.8549, 0.8471, 0.8471, 0.6392,\n",
       "         0.4980, 0.4745, 0.4784, 0.5725, 0.5529, 0.3451, 0.6745, 0.2588, 0.0000,\n",
       "         0.0000, 0.0000, 0.0000, 0.0000, 0.0000, 0.0000, 0.0000, 0.0000, 0.0039,\n",
       "         0.0039, 0.0039, 0.0000, 0.7843, 0.9098, 0.9098, 0.9137, 0.8980, 0.8745,\n",
       "         0.8745, 0.8431, 0.8353, 0.6431, 0.4980, 0.4824, 0.7686, 0.8980, 0.0000,\n",
       "         0.0000, 0.0000, 0.0000, 0.0000, 0.0000, 0.0000, 0.0000, 0.0000, 0.0000,\n",
       "         0.0000, 0.0000, 0.0000, 0.0000, 0.7176, 0.8824, 0.8471, 0.8745, 0.8941,\n",
       "         0.9216, 0.8902, 0.8784, 0.8706, 0.8784, 0.8667, 0.8745, 0.9608, 0.6784,\n",
       "         0.0000, 0.0000, 0.0000, 0.0000, 0.0000, 0.0000, 0.0000, 0.0000, 0.0000,\n",
       "         0.0000, 0.0000, 0.0000, 0.0000, 0.0000, 0.7569, 0.8941, 0.8549, 0.8353,\n",
       "         0.7765, 0.7059, 0.8314, 0.8235, 0.8275, 0.8353, 0.8745, 0.8627, 0.9529,\n",
       "         0.7922, 0.0000, 0.0000, 0.0000, 0.0000, 0.0000, 0.0000, 0.0000, 0.0000,\n",
       "         0.0000, 0.0000, 0.0039, 0.0118, 0.0000, 0.0471, 0.8588, 0.8627, 0.8314,\n",
       "         0.8549, 0.7529, 0.6627, 0.8902, 0.8157, 0.8549, 0.8784, 0.8314, 0.8863,\n",
       "         0.7725, 0.8196, 0.2039, 0.0000, 0.0000, 0.0000, 0.0000, 0.0000, 0.0000,\n",
       "         0.0000, 0.0000, 0.0000, 0.0000, 0.0235, 0.0000, 0.3882, 0.9569, 0.8706,\n",
       "         0.8627, 0.8549, 0.7961, 0.7765, 0.8667, 0.8431, 0.8353, 0.8706, 0.8627,\n",
       "         0.9608, 0.4667, 0.6549, 0.2196, 0.0000, 0.0000, 0.0000, 0.0000, 0.0000,\n",
       "         0.0000, 0.0000, 0.0000, 0.0000, 0.0157, 0.0000, 0.0000, 0.2157, 0.9255,\n",
       "         0.8941, 0.9020, 0.8941, 0.9412, 0.9098, 0.8353, 0.8549, 0.8745, 0.9176,\n",
       "         0.8510, 0.8510, 0.8196, 0.3608, 0.0000, 0.0000, 0.0000, 0.0039, 0.0157,\n",
       "         0.0235, 0.0275, 0.0078, 0.0000, 0.0000, 0.0000, 0.0000, 0.0000, 0.9294,\n",
       "         0.8863, 0.8510, 0.8745, 0.8706, 0.8588, 0.8706, 0.8667, 0.8471, 0.8745,\n",
       "         0.8980, 0.8431, 0.8549, 1.0000, 0.3020, 0.0000, 0.0000, 0.0118, 0.0000,\n",
       "         0.0000, 0.0000, 0.0000, 0.0000, 0.0000, 0.0000, 0.2431, 0.5686, 0.8000,\n",
       "         0.8941, 0.8118, 0.8353, 0.8667, 0.8549, 0.8157, 0.8275, 0.8549, 0.8784,\n",
       "         0.8745, 0.8588, 0.8431, 0.8784, 0.9569, 0.6235, 0.0000, 0.0000, 0.0000,\n",
       "         0.0000, 0.0000, 0.0706, 0.1725, 0.3216, 0.4196, 0.7412, 0.8941, 0.8627,\n",
       "         0.8706, 0.8510, 0.8863, 0.7843, 0.8039, 0.8275, 0.9020, 0.8784, 0.9176,\n",
       "         0.6902, 0.7373, 0.9804, 0.9725, 0.9137, 0.9333, 0.8431, 0.0000, 0.0000,\n",
       "         0.2235, 0.7333, 0.8157, 0.8784, 0.8667, 0.8784, 0.8157, 0.8000, 0.8392,\n",
       "         0.8157, 0.8196, 0.7843, 0.6235, 0.9608, 0.7569, 0.8078, 0.8745, 1.0000,\n",
       "         1.0000, 0.8667, 0.9176, 0.8667, 0.8275, 0.8627, 0.9098, 0.9647, 0.0000,\n",
       "         0.0118, 0.7922, 0.8941, 0.8784, 0.8667, 0.8275, 0.8275, 0.8392, 0.8039,\n",
       "         0.8039, 0.8039, 0.8627, 0.9412, 0.3137, 0.5882, 1.0000, 0.8980, 0.8667,\n",
       "         0.7373, 0.6039, 0.7490, 0.8235, 0.8000, 0.8196, 0.8706, 0.8941, 0.8824,\n",
       "         0.0000, 0.3843, 0.9137, 0.7765, 0.8235, 0.8706, 0.8980, 0.8980, 0.9176,\n",
       "         0.9765, 0.8627, 0.7608, 0.8431, 0.8510, 0.9451, 0.2549, 0.2863, 0.4157,\n",
       "         0.4588, 0.6588, 0.8588, 0.8667, 0.8431, 0.8510, 0.8745, 0.8745, 0.8784,\n",
       "         0.8980, 0.1137, 0.2941, 0.8000, 0.8314, 0.8000, 0.7569, 0.8039, 0.8275,\n",
       "         0.8824, 0.8471, 0.7255, 0.7725, 0.8078, 0.7765, 0.8353, 0.9412, 0.7647,\n",
       "         0.8902, 0.9608, 0.9373, 0.8745, 0.8549, 0.8314, 0.8196, 0.8706, 0.8627,\n",
       "         0.8667, 0.9020, 0.2627, 0.1882, 0.7961, 0.7176, 0.7608, 0.8353, 0.7725,\n",
       "         0.7255, 0.7451, 0.7608, 0.7529, 0.7922, 0.8392, 0.8588, 0.8667, 0.8627,\n",
       "         0.9255, 0.8824, 0.8471, 0.7804, 0.8078, 0.7294, 0.7098, 0.6941, 0.6745,\n",
       "         0.7098, 0.8039, 0.8078, 0.4510, 0.0000, 0.4784, 0.8588, 0.7569, 0.7020,\n",
       "         0.6706, 0.7176, 0.7686, 0.8000, 0.8235, 0.8353, 0.8118, 0.8275, 0.8235,\n",
       "         0.7843, 0.7686, 0.7608, 0.7490, 0.7647, 0.7490, 0.7765, 0.7529, 0.6902,\n",
       "         0.6118, 0.6549, 0.6941, 0.8235, 0.3608, 0.0000, 0.0000, 0.2902, 0.7412,\n",
       "         0.8314, 0.7490, 0.6863, 0.6745, 0.6863, 0.7098, 0.7255, 0.7373, 0.7412,\n",
       "         0.7373, 0.7569, 0.7765, 0.8000, 0.8196, 0.8235, 0.8235, 0.8275, 0.7373,\n",
       "         0.7373, 0.7608, 0.7529, 0.8471, 0.6667, 0.0000, 0.0078, 0.0000, 0.0000,\n",
       "         0.0000, 0.2588, 0.7843, 0.8706, 0.9294, 0.9373, 0.9490, 0.9647, 0.9529,\n",
       "         0.9569, 0.8667, 0.8627, 0.7569, 0.7490, 0.7020, 0.7137, 0.7137, 0.7098,\n",
       "         0.6902, 0.6510, 0.6588, 0.3882, 0.2275, 0.0000, 0.0000, 0.0000, 0.0000,\n",
       "         0.0000, 0.0000, 0.0000, 0.0000, 0.0000, 0.1569, 0.2392, 0.1725, 0.2824,\n",
       "         0.1608, 0.1373, 0.0000, 0.0000, 0.0000, 0.0000, 0.0000, 0.0000, 0.0000,\n",
       "         0.0000, 0.0000, 0.0000, 0.0000, 0.0000, 0.0000, 0.0000, 0.0000, 0.0000,\n",
       "         0.0000, 0.0000, 0.0000, 0.0000, 0.0000, 0.0000, 0.0000, 0.0000, 0.0000,\n",
       "         0.0000, 0.0000, 0.0000, 0.0000, 0.0000, 0.0000, 0.0000, 0.0000, 0.0000,\n",
       "         0.0000, 0.0000, 0.0000, 0.0000, 0.0000, 0.0000, 0.0000, 0.0000, 0.0000,\n",
       "         0.0000, 0.0000, 0.0000, 0.0000, 0.0000, 0.0000, 0.0000, 0.0000, 0.0000,\n",
       "         0.0000, 0.0000, 0.0000, 0.0000, 0.0000, 0.0000, 0.0000, 0.0000, 0.0000,\n",
       "         0.0000, 0.0000, 0.0000, 0.0000, 0.0000, 0.0000, 0.0000, 0.0000, 0.0000,\n",
       "         0.0000]])"
      ]
     },
     "execution_count": 25,
     "metadata": {},
     "output_type": "execute_result"
    }
   ],
   "source": [
    "model.flatten(t)"
   ]
  },
  {
   "cell_type": "code",
   "execution_count": 26,
   "id": "39e3448a-2d6c-4b98-9bfe-8621ae5ed6e8",
   "metadata": {},
   "outputs": [
    {
     "data": {
      "text/plain": [
       "Sequential(\n",
       "  (0): Linear(in_features=784, out_features=512, bias=True)\n",
       "  (1): ReLU()\n",
       "  (2): Linear(in_features=512, out_features=512, bias=True)\n",
       "  (3): ReLU()\n",
       "  (4): Linear(in_features=512, out_features=10, bias=True)\n",
       ")"
      ]
     },
     "execution_count": 26,
     "metadata": {},
     "output_type": "execute_result"
    }
   ],
   "source": [
    "model.linear_relu_stack"
   ]
  },
  {
   "cell_type": "code",
   "execution_count": 27,
   "id": "ee934035-f1e7-48f9-a739-9afb00f7f1f6",
   "metadata": {},
   "outputs": [
    {
     "data": {
      "text/plain": [
       "Linear(in_features=784, out_features=512, bias=True)"
      ]
     },
     "execution_count": 27,
     "metadata": {},
     "output_type": "execute_result"
    }
   ],
   "source": [
    "L1 = model.linear_relu_stack[0]\n",
    "L1"
   ]
  },
  {
   "cell_type": "code",
   "execution_count": 28,
   "id": "00595861-b73c-4fa4-be4b-8f064a41847c",
   "metadata": {},
   "outputs": [
    {
     "data": {
      "text/plain": [
       "True"
      ]
     },
     "execution_count": 28,
     "metadata": {},
     "output_type": "execute_result"
    }
   ],
   "source": [
    "L1.in_features == 28 * 28"
   ]
  },
  {
   "cell_type": "code",
   "execution_count": 29,
   "id": "2979cd1d-6e33-46b8-b377-a31d9985c734",
   "metadata": {},
   "outputs": [
    {
     "name": "stdout",
     "output_type": "stream",
     "text": [
      "{'weight': tensor([[ 0.0230, -0.0045,  0.0263,  ...,  0.0356, -0.0111, -0.0057],\n",
      "        [-0.0183, -0.0146,  0.0041,  ..., -0.0002, -0.0155,  0.0008],\n",
      "        [-0.0131,  0.0150, -0.0250,  ..., -0.0039, -0.0221, -0.0019],\n",
      "        ...,\n",
      "        [-0.0298, -0.0247, -0.0011,  ..., -0.0224,  0.0046, -0.0083],\n",
      "        [ 0.0278,  0.0268, -0.0158,  ..., -0.0219,  0.0096,  0.0248],\n",
      "        [ 0.0269,  0.0055, -0.0336,  ..., -0.0210, -0.0175,  0.0267]]), 'bias': tensor([-0.0108, -0.0301,  0.0014, -0.0018, -0.0046,  0.0179,  0.0126, -0.0315,\n",
      "         0.0142,  0.0313,  0.0137,  0.0255, -0.0289, -0.0190, -0.0036, -0.0230,\n",
      "         0.0309,  0.0215, -0.0083, -0.0277, -0.0172, -0.0317,  0.0117, -0.0075,\n",
      "        -0.0357, -0.0323,  0.0151, -0.0009,  0.0280,  0.0302,  0.0274,  0.0101,\n",
      "        -0.0124, -0.0153, -0.0020, -0.0006,  0.0111,  0.0306,  0.0322, -0.0354,\n",
      "        -0.0039,  0.0196,  0.0198, -0.0320, -0.0192,  0.0105,  0.0230,  0.0002,\n",
      "        -0.0120, -0.0254,  0.0017, -0.0205, -0.0108,  0.0261, -0.0100,  0.0271,\n",
      "        -0.0055, -0.0237,  0.0098,  0.0063, -0.0297,  0.0264,  0.0172, -0.0303,\n",
      "        -0.0210, -0.0070, -0.0145, -0.0253,  0.0194,  0.0329,  0.0274, -0.0202,\n",
      "        -0.0219,  0.0157,  0.0163, -0.0198,  0.0163, -0.0120, -0.0247, -0.0342,\n",
      "         0.0301, -0.0006, -0.0174,  0.0055, -0.0165,  0.0136, -0.0221, -0.0282,\n",
      "        -0.0178, -0.0240, -0.0052, -0.0294, -0.0159,  0.0050,  0.0353,  0.0230,\n",
      "        -0.0130, -0.0200, -0.0174,  0.0091,  0.0163, -0.0117, -0.0326,  0.0006,\n",
      "         0.0058, -0.0337,  0.0116, -0.0162,  0.0333,  0.0126,  0.0054, -0.0163,\n",
      "         0.0059, -0.0043, -0.0206, -0.0190, -0.0271,  0.0013, -0.0158, -0.0057,\n",
      "        -0.0041, -0.0119, -0.0172, -0.0324, -0.0354, -0.0040,  0.0301,  0.0066,\n",
      "         0.0287,  0.0149, -0.0295, -0.0270, -0.0278, -0.0253,  0.0061,  0.0246,\n",
      "        -0.0288,  0.0016,  0.0335, -0.0024,  0.0241,  0.0270, -0.0230, -0.0174,\n",
      "         0.0060, -0.0236, -0.0334, -0.0224, -0.0263, -0.0296, -0.0074,  0.0153,\n",
      "         0.0090,  0.0187, -0.0037, -0.0005,  0.0306,  0.0218,  0.0026, -0.0339,\n",
      "         0.0313, -0.0071,  0.0354,  0.0079,  0.0024, -0.0342,  0.0293,  0.0011,\n",
      "        -0.0310, -0.0292,  0.0070,  0.0297,  0.0038,  0.0193, -0.0073, -0.0014,\n",
      "        -0.0095, -0.0164,  0.0045,  0.0279, -0.0339,  0.0277, -0.0341,  0.0071,\n",
      "        -0.0314,  0.0338,  0.0202, -0.0323, -0.0008, -0.0128,  0.0174,  0.0170,\n",
      "        -0.0303, -0.0093,  0.0212,  0.0207, -0.0216,  0.0260, -0.0251,  0.0192,\n",
      "        -0.0204,  0.0103,  0.0250, -0.0296, -0.0081,  0.0309, -0.0197,  0.0342,\n",
      "        -0.0006,  0.0159,  0.0106,  0.0232,  0.0021, -0.0297,  0.0081,  0.0070,\n",
      "         0.0343,  0.0141, -0.0173,  0.0307,  0.0146, -0.0139,  0.0211,  0.0105,\n",
      "        -0.0330,  0.0324,  0.0163,  0.0276, -0.0282,  0.0084,  0.0108, -0.0288,\n",
      "         0.0105,  0.0035,  0.0073,  0.0081, -0.0130,  0.0193, -0.0275, -0.0286,\n",
      "        -0.0095, -0.0322,  0.0293, -0.0185, -0.0218, -0.0171, -0.0027,  0.0245,\n",
      "         0.0105,  0.0225,  0.0163, -0.0048,  0.0265,  0.0008, -0.0123, -0.0061,\n",
      "         0.0315, -0.0061, -0.0177, -0.0117, -0.0272, -0.0233,  0.0155, -0.0208,\n",
      "         0.0261,  0.0080,  0.0301, -0.0007,  0.0088,  0.0003, -0.0288, -0.0214,\n",
      "         0.0170, -0.0090, -0.0229, -0.0136,  0.0248,  0.0144, -0.0279, -0.0206,\n",
      "         0.0205, -0.0250, -0.0092,  0.0108, -0.0338,  0.0246,  0.0150,  0.0003,\n",
      "        -0.0224,  0.0297, -0.0129, -0.0144, -0.0082,  0.0205,  0.0028, -0.0350,\n",
      "         0.0140,  0.0091,  0.0323, -0.0023, -0.0161, -0.0012, -0.0352, -0.0019,\n",
      "        -0.0148,  0.0018,  0.0050,  0.0040, -0.0065, -0.0077,  0.0012, -0.0259,\n",
      "        -0.0164, -0.0198,  0.0318, -0.0220, -0.0203,  0.0085,  0.0298, -0.0191,\n",
      "         0.0301, -0.0133,  0.0230, -0.0268, -0.0268, -0.0240, -0.0260, -0.0161,\n",
      "        -0.0109, -0.0294, -0.0296,  0.0042,  0.0094,  0.0309, -0.0162, -0.0183,\n",
      "        -0.0215, -0.0227, -0.0309, -0.0160,  0.0264, -0.0300, -0.0145, -0.0346,\n",
      "         0.0271,  0.0177, -0.0094, -0.0233, -0.0311,  0.0118, -0.0280,  0.0237,\n",
      "        -0.0237,  0.0221, -0.0222, -0.0060, -0.0250,  0.0338,  0.0333, -0.0126,\n",
      "        -0.0224,  0.0260,  0.0090, -0.0062,  0.0017,  0.0112,  0.0223, -0.0037,\n",
      "         0.0066, -0.0222,  0.0098, -0.0045, -0.0072,  0.0038, -0.0307,  0.0102,\n",
      "        -0.0017, -0.0264, -0.0242, -0.0195, -0.0051,  0.0152, -0.0136, -0.0038,\n",
      "        -0.0027, -0.0060,  0.0130,  0.0284,  0.0113, -0.0090,  0.0244,  0.0252,\n",
      "        -0.0293, -0.0326,  0.0334,  0.0164, -0.0209, -0.0246,  0.0010, -0.0045,\n",
      "        -0.0123,  0.0314,  0.0348,  0.0193,  0.0294,  0.0245,  0.0189,  0.0004,\n",
      "         0.0036,  0.0203, -0.0296, -0.0035,  0.0141,  0.0284,  0.0119, -0.0324,\n",
      "        -0.0014,  0.0145, -0.0336, -0.0257, -0.0140,  0.0286, -0.0037,  0.0278,\n",
      "         0.0174, -0.0210,  0.0198, -0.0078, -0.0339,  0.0025,  0.0076, -0.0246,\n",
      "         0.0018,  0.0188,  0.0193,  0.0024, -0.0117, -0.0305,  0.0008, -0.0053,\n",
      "        -0.0103,  0.0330,  0.0110,  0.0094, -0.0160, -0.0296,  0.0352,  0.0226,\n",
      "        -0.0297,  0.0356, -0.0044, -0.0158,  0.0040, -0.0158, -0.0119, -0.0342,\n",
      "        -0.0356, -0.0190,  0.0034, -0.0295,  0.0127,  0.0047,  0.0124, -0.0337,\n",
      "         0.0009,  0.0147, -0.0187,  0.0185,  0.0217,  0.0334,  0.0144, -0.0182,\n",
      "         0.0252,  0.0275, -0.0235, -0.0006,  0.0242,  0.0116, -0.0187, -0.0127,\n",
      "        -0.0121,  0.0150,  0.0072, -0.0212, -0.0231, -0.0024,  0.0329, -0.0028,\n",
      "         0.0333, -0.0025, -0.0014, -0.0029,  0.0342,  0.0234, -0.0140, -0.0350,\n",
      "        -0.0325, -0.0147,  0.0025, -0.0294, -0.0161,  0.0045, -0.0254,  0.0185,\n",
      "        -0.0194,  0.0065,  0.0154,  0.0109, -0.0088, -0.0307,  0.0128, -0.0149])}\n"
     ]
    }
   ],
   "source": [
    "L1_params = {name: param.data for name, param in L1.named_parameters()}\n",
    "print(L1_params)"
   ]
  },
  {
   "cell_type": "code",
   "execution_count": 30,
   "id": "ee77d92a-bba8-4333-8e1b-45077702a60f",
   "metadata": {},
   "outputs": [
    {
     "data": {
      "text/plain": [
       "torch.Size([512])"
      ]
     },
     "execution_count": 30,
     "metadata": {},
     "output_type": "execute_result"
    }
   ],
   "source": [
    "b1 = L1_params[\"bias\"]\n",
    "b1.shape"
   ]
  },
  {
   "cell_type": "code",
   "execution_count": 31,
   "id": "ef506f6e-9bb6-4d46-b392-96657feec93a",
   "metadata": {},
   "outputs": [
    {
     "data": {
      "text/plain": [
       "torch.Size([512, 784])"
      ]
     },
     "execution_count": 31,
     "metadata": {},
     "output_type": "execute_result"
    }
   ],
   "source": [
    "A1 = L1_params[\"weight\"]\n",
    "A1.shape"
   ]
  },
  {
   "cell_type": "code",
   "execution_count": 32,
   "id": "05e03e0a-2832-4e12-9cf8-2aa92a52dc8b",
   "metadata": {},
   "outputs": [
    {
     "name": "stdout",
     "output_type": "stream",
     "text": [
      "torch.Size([1, 28, 28])\n",
      "torch.Size([784])\n"
     ]
    },
    {
     "data": {
      "text/plain": [
       "tensor([-4.4293e-02,  1.3939e-01,  4.7380e-01, -2.0820e-01, -4.6275e-01,\n",
       "         3.3047e-01,  5.5749e-01,  3.0371e-01,  2.0104e-01,  5.0843e-01,\n",
       "         2.6124e-01, -2.9305e-01,  1.7364e-01, -2.7984e-01,  7.7666e-01,\n",
       "        -6.4427e-01, -1.3859e-01, -5.4380e-01,  1.3325e-01,  6.0847e-02,\n",
       "         4.7861e-01, -2.4476e-01,  5.0218e-02,  9.4682e-02,  5.6835e-02,\n",
       "         4.8401e-01, -1.6502e-01,  7.7241e-02, -3.0294e-01,  4.9954e-02,\n",
       "         3.5371e-01,  3.5922e-01,  3.2098e-02, -3.6836e-01,  1.6131e-01,\n",
       "         7.4548e-02,  5.4979e-01, -2.1269e-01,  4.7757e-01, -4.9138e-01,\n",
       "        -3.3936e-01,  4.7829e-01, -4.0035e-02,  1.3953e-01, -4.6600e-01,\n",
       "         1.5693e-01,  2.1964e-01,  3.5211e-01,  2.4685e-02, -1.0430e-01,\n",
       "         5.1048e-01, -1.4405e-01, -3.2486e-01,  2.4939e-01,  3.0718e-01,\n",
       "         1.2619e-01, -1.0841e-01,  2.3229e-01,  8.5358e-02, -2.6793e-01,\n",
       "        -2.1276e-01,  2.0563e-01, -1.7556e-01, -4.6214e-01, -4.1338e-01,\n",
       "        -7.2169e-02,  2.5929e-01,  2.0364e-02, -2.3253e-01, -7.3130e-01,\n",
       "         4.3262e-01,  1.5360e-01, -2.6938e-01, -2.5541e-01, -5.4945e-02,\n",
       "         2.1889e-01, -1.2595e-01, -3.3117e-03, -1.4720e-01,  1.7849e-01,\n",
       "        -3.8936e-01,  6.6929e-01, -4.8057e-02, -6.7321e-01, -1.0791e-01,\n",
       "        -2.2675e-01,  3.9052e-01, -5.6831e-01, -8.2468e-02,  7.4730e-02,\n",
       "         6.6469e-01,  1.6604e-01, -8.5054e-02, -3.9072e-01,  1.6068e-01,\n",
       "         4.3249e-01, -5.4071e-02,  8.6180e-02, -2.3890e-01, -2.5871e-02,\n",
       "        -3.9520e-02, -2.7189e-01,  1.3733e-01, -2.0363e-01, -5.5173e-01,\n",
       "         3.4993e-01, -5.2861e-01, -5.9125e-01, -2.6419e-01,  2.8512e-01,\n",
       "        -4.3462e-01, -5.9211e-01,  1.7703e-01,  4.5417e-01, -2.1889e-01,\n",
       "        -3.1476e-01,  2.0697e-01, -2.8658e-01,  6.0203e-01, -5.4924e-01,\n",
       "         3.5955e-01, -1.0859e-01,  1.4013e-01,  1.4660e-02, -1.7663e-01,\n",
       "        -1.4706e-01, -8.7482e-02,  2.6868e-01,  3.6904e-02,  5.9853e-01,\n",
       "         8.0616e-02,  3.6734e-01,  3.9338e-01, -3.8788e-01,  3.2160e-01,\n",
       "        -6.1198e-03, -3.6158e-01,  4.1969e-02, -4.3855e-02,  2.7521e-02,\n",
       "        -1.9617e-01,  3.2365e-01,  1.7743e-01,  2.9139e-01, -2.5256e-01,\n",
       "        -1.1583e-01, -1.4462e-01, -4.0308e-02, -2.5315e-01, -7.2589e-02,\n",
       "         1.0445e-01, -3.6842e-02,  6.2633e-01,  5.9971e-01, -2.4632e-01,\n",
       "         9.1688e-01,  2.7350e-01,  8.1551e-01, -7.1424e-01, -3.6568e-02,\n",
       "        -1.3766e-01,  1.0341e-01,  7.7941e-01,  1.0291e-01, -1.7450e-01,\n",
       "         2.2943e-01,  4.0285e-01, -2.7755e-01,  6.9519e-01, -1.1921e-01,\n",
       "        -9.8370e-02, -3.0855e-04, -2.5779e-01, -1.5114e-01, -5.2786e-01,\n",
       "         2.6122e-01, -3.2622e-01,  6.5058e-02,  1.2023e-01, -5.3944e-01,\n",
       "        -3.2930e-02, -6.3069e-02,  1.4262e-01,  2.0244e-01, -6.6385e-01,\n",
       "         8.6891e-02,  3.4233e-01, -2.5552e-01,  1.5330e-01, -4.2509e-01,\n",
       "        -5.6920e-01, -4.9472e-02, -6.5527e-02, -4.8048e-01,  1.0671e-01,\n",
       "         1.0054e-01,  1.8674e-01, -3.4387e-01,  1.8354e-01,  3.3696e-02,\n",
       "        -4.2183e-02, -1.9949e-01, -2.2502e-01, -3.1742e-01,  6.7597e-02,\n",
       "         3.8920e-01,  1.4037e-01, -2.3692e-01,  2.3025e-03,  4.3045e-01,\n",
       "        -5.4453e-01,  9.4380e-02,  2.9099e-01, -2.4828e-01,  1.5308e-01,\n",
       "         2.5996e-01,  3.5298e-01, -3.2897e-02, -1.3470e-01,  1.6624e-01,\n",
       "        -4.1216e-01, -2.9122e-01, -5.1812e-02, -4.2605e-01, -3.9141e-01,\n",
       "        -2.2809e-01,  8.0664e-02, -2.8368e-02,  1.4254e-01,  1.8891e-01,\n",
       "        -4.2727e-02, -1.8260e-01,  1.6868e-01,  2.3512e-01, -6.7000e-02,\n",
       "        -2.0855e-01, -6.9502e-02,  2.7687e-01, -2.8868e-01,  1.7944e-01,\n",
       "        -2.9901e-01, -7.2421e-03,  1.8865e-01,  1.2004e-01,  4.1823e-01,\n",
       "         2.2856e-01,  1.4097e-01, -6.8208e-01,  4.7555e-01, -5.5493e-01,\n",
       "        -1.4501e-01,  3.3718e-01, -5.8937e-02, -8.9612e-02, -2.6691e-01,\n",
       "        -1.6426e-01,  2.4304e-01,  1.7046e-01, -1.1649e-01,  1.8261e-01,\n",
       "        -6.2256e-01, -1.9917e-02, -1.3490e-01,  2.5612e-02,  5.7466e-02,\n",
       "        -1.3245e-01,  5.3659e-01, -3.0128e-01,  5.3739e-01, -1.3032e-01,\n",
       "        -2.3919e-01, -2.3668e-01, -8.6602e-02, -1.4321e-01, -6.3911e-01,\n",
       "         1.0754e-01, -5.9192e-02, -1.4523e-01, -2.1675e-01, -6.0709e-01,\n",
       "        -3.5645e-02, -1.8114e-01, -1.9729e-03,  6.1505e-01, -2.7459e-01,\n",
       "        -6.5170e-02,  8.4366e-02, -1.9091e-01, -7.7083e-02, -3.2756e-01,\n",
       "        -1.1752e-01,  5.0629e-02,  1.1062e-01, -1.3578e-01, -2.7156e-02,\n",
       "         1.1366e-02,  5.8810e-02,  3.1231e-02, -3.6728e-01, -3.9037e-01,\n",
       "        -1.9696e-01, -3.4211e-01, -4.4112e-01,  4.9987e-01, -9.7426e-02,\n",
       "         2.9729e-02, -2.5564e-01, -9.1797e-02, -8.9560e-02, -2.7411e-01,\n",
       "        -4.3738e-01, -1.7656e-01,  7.5379e-02, -1.4580e-01,  5.6387e-02,\n",
       "        -1.4273e-01,  4.6746e-01,  2.1675e-01, -6.7364e-01,  2.0296e-01,\n",
       "        -2.0021e-01, -2.6889e-02, -4.0145e-01,  3.3409e-01,  2.3073e-03,\n",
       "        -1.2900e-01, -4.2388e-01,  7.8923e-01,  4.6300e-01, -7.5925e-01,\n",
       "        -2.0600e-01,  3.2271e-02, -4.5692e-01, -2.2245e-01, -3.4302e-01,\n",
       "         3.0715e-02, -9.0541e-02, -6.4720e-01, -1.1988e-02, -2.2037e-01,\n",
       "        -3.1235e-01,  8.5531e-02, -1.9648e-01, -1.1032e-01, -6.3586e-02,\n",
       "         1.6934e-01,  4.5370e-01,  1.5072e-02,  1.1520e-01, -7.0843e-02,\n",
       "         2.2906e-01,  7.6842e-01,  2.2779e-02,  3.3351e-02, -1.6838e-01,\n",
       "         1.1776e-01, -8.4300e-03,  2.7623e-01, -1.4556e-01, -1.1458e-02,\n",
       "         2.3708e-02, -2.6836e-01,  7.6824e-01, -4.4173e-01,  3.5582e-01,\n",
       "         5.3289e-01,  1.7707e-01, -2.3392e-01, -3.0920e-01, -5.4179e-01,\n",
       "        -4.1293e-02, -3.3290e-01, -3.1190e-01, -1.8401e-02,  2.8028e-01,\n",
       "        -1.0818e-01,  2.0389e-01, -1.3910e-01,  1.9567e-01, -1.3751e-01,\n",
       "         1.4819e-01, -3.7722e-01, -3.7875e-01,  1.7915e-01, -4.6038e-01,\n",
       "        -2.6478e-01,  2.2621e-01, -2.6836e-01, -1.1498e-01, -5.3627e-02,\n",
       "         4.3131e-01,  4.2407e-01,  2.6183e-02, -8.5598e-02, -1.9305e-01,\n",
       "         7.9790e-02,  2.5891e-01, -5.6736e-02, -9.3291e-01, -2.4236e-01,\n",
       "        -8.7065e-01, -2.3762e-01, -3.7270e-01, -1.7143e-01,  1.4877e-01,\n",
       "         4.4683e-03,  2.7208e-01,  3.6960e-01, -4.4664e-01,  1.7822e-01,\n",
       "         6.4318e-02, -1.9567e-01, -2.4920e-01, -1.5278e-01, -2.0988e-01,\n",
       "        -6.7998e-02, -4.2931e-01,  4.7664e-02,  4.1799e-01,  2.0229e-02,\n",
       "        -1.2219e-01, -1.4710e-01,  4.9444e-01,  5.0244e-01,  6.7514e-02,\n",
       "         3.0551e-02,  4.2022e-01, -1.3494e-01, -6.7761e-02,  3.9847e-01,\n",
       "         2.4402e-01,  1.8048e-01, -7.2142e-02, -2.7864e-01,  1.0151e-01,\n",
       "         5.4116e-01, -3.5666e-03, -5.4895e-01, -3.2225e-01,  8.6588e-02,\n",
       "        -6.7725e-01, -9.0264e-02, -1.4326e-01, -1.3768e-01,  9.0416e-02,\n",
       "         1.9865e-01,  2.2061e-01,  3.4527e-02, -7.2760e-02,  1.4854e-01,\n",
       "        -1.4483e-01, -4.8913e-01, -7.6242e-02,  2.6505e-01,  1.5844e-01,\n",
       "         9.2112e-03,  4.1417e-01, -5.3451e-01,  3.0141e-01,  9.2319e-02,\n",
       "         1.4869e-01,  2.3798e-01, -8.2526e-01, -1.1445e-03,  4.0309e-01,\n",
       "        -2.2613e-01,  7.6964e-03,  2.3549e-01, -1.2475e-01,  3.8149e-01,\n",
       "         1.8968e-01,  3.9409e-01,  3.6123e-01,  4.3714e-01,  2.4264e-01,\n",
       "        -8.7767e-01, -4.3597e-01,  1.3243e-01,  9.0600e-02, -1.2080e-01,\n",
       "         7.5741e-03,  3.0328e-01, -2.1630e-01,  9.8589e-02, -4.4296e-01,\n",
       "         2.3940e-01,  5.7569e-02,  8.0635e-02,  5.7107e-01, -3.1817e-01,\n",
       "        -2.0137e-01,  1.9656e-02,  7.0571e-01,  1.4261e-01, -5.7221e-02,\n",
       "        -1.0108e-02,  2.0630e-01,  1.1881e-01,  7.6313e-02,  2.3539e-01,\n",
       "         1.6725e-01,  1.7843e-01,  3.0666e-02,  3.2512e-02, -9.9453e-02,\n",
       "        -4.6233e-01,  4.8334e-01, -1.1773e-01,  1.5994e-01,  2.1022e-01,\n",
       "        -6.7159e-02, -1.0213e-01])"
      ]
     },
     "execution_count": 32,
     "metadata": {},
     "output_type": "execute_result"
    }
   ],
   "source": [
    "to_tensor = torchvision.transforms.ToTensor() \n",
    "t = to_tensor(image)\n",
    "print(t.shape)\n",
    "tf = torch.flatten(t)\n",
    "print(tf.shape)\n",
    "x1 = A1 @ tf + b1\n",
    "x1"
   ]
  },
  {
   "cell_type": "code",
   "execution_count": 33,
   "id": "63cb057b-6815-46c0-928b-4bcdd9771fbf",
   "metadata": {},
   "outputs": [
    {
     "data": {
      "text/plain": [
       "tensor([0.0000, 0.1394, 0.4738, 0.0000, 0.0000, 0.3305, 0.5575, 0.3037, 0.2010,\n",
       "        0.5084, 0.2612, 0.0000, 0.1736, 0.0000, 0.7767, 0.0000, 0.0000, 0.0000,\n",
       "        0.1333, 0.0608, 0.4786, 0.0000, 0.0502, 0.0947, 0.0568, 0.4840, 0.0000,\n",
       "        0.0772, 0.0000, 0.0500, 0.3537, 0.3592, 0.0321, 0.0000, 0.1613, 0.0745,\n",
       "        0.5498, 0.0000, 0.4776, 0.0000, 0.0000, 0.4783, 0.0000, 0.1395, 0.0000,\n",
       "        0.1569, 0.2196, 0.3521, 0.0247, 0.0000, 0.5105, 0.0000, 0.0000, 0.2494,\n",
       "        0.3072, 0.1262, 0.0000, 0.2323, 0.0854, 0.0000, 0.0000, 0.2056, 0.0000,\n",
       "        0.0000, 0.0000, 0.0000, 0.2593, 0.0204, 0.0000, 0.0000, 0.4326, 0.1536,\n",
       "        0.0000, 0.0000, 0.0000, 0.2189, 0.0000, 0.0000, 0.0000, 0.1785, 0.0000,\n",
       "        0.6693, 0.0000, 0.0000, 0.0000, 0.0000, 0.3905, 0.0000, 0.0000, 0.0747,\n",
       "        0.6647, 0.1660, 0.0000, 0.0000, 0.1607, 0.4325, 0.0000, 0.0862, 0.0000,\n",
       "        0.0000, 0.0000, 0.0000, 0.1373, 0.0000, 0.0000, 0.3499, 0.0000, 0.0000,\n",
       "        0.0000, 0.2851, 0.0000, 0.0000, 0.1770, 0.4542, 0.0000, 0.0000, 0.2070,\n",
       "        0.0000, 0.6020, 0.0000, 0.3595, 0.0000, 0.1401, 0.0147, 0.0000, 0.0000,\n",
       "        0.0000, 0.2687, 0.0369, 0.5985, 0.0806, 0.3673, 0.3934, 0.0000, 0.3216,\n",
       "        0.0000, 0.0000, 0.0420, 0.0000, 0.0275, 0.0000, 0.3237, 0.1774, 0.2914,\n",
       "        0.0000, 0.0000, 0.0000, 0.0000, 0.0000, 0.0000, 0.1044, 0.0000, 0.6263,\n",
       "        0.5997, 0.0000, 0.9169, 0.2735, 0.8155, 0.0000, 0.0000, 0.0000, 0.1034,\n",
       "        0.7794, 0.1029, 0.0000, 0.2294, 0.4029, 0.0000, 0.6952, 0.0000, 0.0000,\n",
       "        0.0000, 0.0000, 0.0000, 0.0000, 0.2612, 0.0000, 0.0651, 0.1202, 0.0000,\n",
       "        0.0000, 0.0000, 0.1426, 0.2024, 0.0000, 0.0869, 0.3423, 0.0000, 0.1533,\n",
       "        0.0000, 0.0000, 0.0000, 0.0000, 0.0000, 0.1067, 0.1005, 0.1867, 0.0000,\n",
       "        0.1835, 0.0337, 0.0000, 0.0000, 0.0000, 0.0000, 0.0676, 0.3892, 0.1404,\n",
       "        0.0000, 0.0023, 0.4305, 0.0000, 0.0944, 0.2910, 0.0000, 0.1531, 0.2600,\n",
       "        0.3530, 0.0000, 0.0000, 0.1662, 0.0000, 0.0000, 0.0000, 0.0000, 0.0000,\n",
       "        0.0000, 0.0807, 0.0000, 0.1425, 0.1889, 0.0000, 0.0000, 0.1687, 0.2351,\n",
       "        0.0000, 0.0000, 0.0000, 0.2769, 0.0000, 0.1794, 0.0000, 0.0000, 0.1887,\n",
       "        0.1200, 0.4182, 0.2286, 0.1410, 0.0000, 0.4755, 0.0000, 0.0000, 0.3372,\n",
       "        0.0000, 0.0000, 0.0000, 0.0000, 0.2430, 0.1705, 0.0000, 0.1826, 0.0000,\n",
       "        0.0000, 0.0000, 0.0256, 0.0575, 0.0000, 0.5366, 0.0000, 0.5374, 0.0000,\n",
       "        0.0000, 0.0000, 0.0000, 0.0000, 0.0000, 0.1075, 0.0000, 0.0000, 0.0000,\n",
       "        0.0000, 0.0000, 0.0000, 0.0000, 0.6150, 0.0000, 0.0000, 0.0844, 0.0000,\n",
       "        0.0000, 0.0000, 0.0000, 0.0506, 0.1106, 0.0000, 0.0000, 0.0114, 0.0588,\n",
       "        0.0312, 0.0000, 0.0000, 0.0000, 0.0000, 0.0000, 0.4999, 0.0000, 0.0297,\n",
       "        0.0000, 0.0000, 0.0000, 0.0000, 0.0000, 0.0000, 0.0754, 0.0000, 0.0564,\n",
       "        0.0000, 0.4675, 0.2167, 0.0000, 0.2030, 0.0000, 0.0000, 0.0000, 0.3341,\n",
       "        0.0023, 0.0000, 0.0000, 0.7892, 0.4630, 0.0000, 0.0000, 0.0323, 0.0000,\n",
       "        0.0000, 0.0000, 0.0307, 0.0000, 0.0000, 0.0000, 0.0000, 0.0000, 0.0855,\n",
       "        0.0000, 0.0000, 0.0000, 0.1693, 0.4537, 0.0151, 0.1152, 0.0000, 0.2291,\n",
       "        0.7684, 0.0228, 0.0334, 0.0000, 0.1178, 0.0000, 0.2762, 0.0000, 0.0000,\n",
       "        0.0237, 0.0000, 0.7682, 0.0000, 0.3558, 0.5329, 0.1771, 0.0000, 0.0000,\n",
       "        0.0000, 0.0000, 0.0000, 0.0000, 0.0000, 0.2803, 0.0000, 0.2039, 0.0000,\n",
       "        0.1957, 0.0000, 0.1482, 0.0000, 0.0000, 0.1791, 0.0000, 0.0000, 0.2262,\n",
       "        0.0000, 0.0000, 0.0000, 0.4313, 0.4241, 0.0262, 0.0000, 0.0000, 0.0798,\n",
       "        0.2589, 0.0000, 0.0000, 0.0000, 0.0000, 0.0000, 0.0000, 0.0000, 0.1488,\n",
       "        0.0045, 0.2721, 0.3696, 0.0000, 0.1782, 0.0643, 0.0000, 0.0000, 0.0000,\n",
       "        0.0000, 0.0000, 0.0000, 0.0477, 0.4180, 0.0202, 0.0000, 0.0000, 0.4944,\n",
       "        0.5024, 0.0675, 0.0306, 0.4202, 0.0000, 0.0000, 0.3985, 0.2440, 0.1805,\n",
       "        0.0000, 0.0000, 0.1015, 0.5412, 0.0000, 0.0000, 0.0000, 0.0866, 0.0000,\n",
       "        0.0000, 0.0000, 0.0000, 0.0904, 0.1987, 0.2206, 0.0345, 0.0000, 0.1485,\n",
       "        0.0000, 0.0000, 0.0000, 0.2650, 0.1584, 0.0092, 0.4142, 0.0000, 0.3014,\n",
       "        0.0923, 0.1487, 0.2380, 0.0000, 0.0000, 0.4031, 0.0000, 0.0077, 0.2355,\n",
       "        0.0000, 0.3815, 0.1897, 0.3941, 0.3612, 0.4371, 0.2426, 0.0000, 0.0000,\n",
       "        0.1324, 0.0906, 0.0000, 0.0076, 0.3033, 0.0000, 0.0986, 0.0000, 0.2394,\n",
       "        0.0576, 0.0806, 0.5711, 0.0000, 0.0000, 0.0197, 0.7057, 0.1426, 0.0000,\n",
       "        0.0000, 0.2063, 0.1188, 0.0763, 0.2354, 0.1673, 0.1784, 0.0307, 0.0325,\n",
       "        0.0000, 0.0000, 0.4833, 0.0000, 0.1599, 0.2102, 0.0000, 0.0000])"
      ]
     },
     "execution_count": 33,
     "metadata": {},
     "output_type": "execute_result"
    }
   ],
   "source": [
    "first_relu = model.linear_relu_stack[1]\n",
    "x2 = first_relu(x1)\n",
    "x2"
   ]
  },
  {
   "cell_type": "code",
   "execution_count": 34,
   "id": "3e1e5c46-52a8-4fe5-a451-999dfe396a68",
   "metadata": {},
   "outputs": [
    {
     "data": {
      "text/plain": [
       "[]"
      ]
     },
     "execution_count": 34,
     "metadata": {},
     "output_type": "execute_result"
    }
   ],
   "source": [
    "list(first_relu.named_parameters())"
   ]
  },
  {
   "cell_type": "code",
   "execution_count": 35,
   "id": "02e1c3ad-6fe8-423d-8c18-16d97188cf5c",
   "metadata": {},
   "outputs": [
    {
     "data": {
      "text/plain": [
       "tensor([-7.2385e-03, -2.3129e-02, -4.1123e-02,  5.0461e-02, -1.4418e-01,\n",
       "         1.9569e-02,  3.6898e-02, -8.6066e-02, -1.9259e-01, -9.3374e-03,\n",
       "        -4.9300e-02,  1.1201e-01,  8.9127e-02, -5.4551e-02,  1.7949e-01,\n",
       "         9.1794e-02, -3.3607e-02,  2.0735e-01,  1.3224e-01,  1.1452e-01,\n",
       "        -1.2490e-01,  6.7868e-02, -9.4296e-02, -1.5082e-01, -2.3773e-03,\n",
       "         1.1493e-02, -1.2468e-01, -4.9620e-02, -6.8363e-02,  2.1301e-01,\n",
       "        -1.4942e-01,  1.9173e-01,  9.9925e-02, -8.2657e-02, -9.6540e-02,\n",
       "         1.9780e-02, -4.3814e-02, -3.5346e-01, -1.7261e-01, -5.5351e-02,\n",
       "         3.3522e-02,  1.5838e-01,  1.7500e-01,  2.2884e-01, -2.5583e-02,\n",
       "         1.2535e-01, -1.9156e-01, -1.7659e-01, -1.7264e-01, -1.2669e-02,\n",
       "        -6.7571e-03, -5.0718e-02, -1.4418e-01,  1.3661e-01, -1.4262e-01,\n",
       "         1.4171e-01,  3.1860e-02, -7.5391e-02, -2.5933e-01,  1.1251e-01,\n",
       "        -2.1731e-02, -1.4927e-01,  9.1277e-02,  6.4649e-02, -1.3537e-01,\n",
       "        -9.5621e-02,  2.3903e-01, -2.7972e-02,  1.6708e-01,  7.3380e-02,\n",
       "        -2.0827e-02,  7.4416e-02,  9.5757e-02, -2.4612e-01, -6.0554e-02,\n",
       "         3.5842e-02, -4.4510e-02,  8.0246e-02, -2.6453e-01,  5.1261e-03,\n",
       "         5.3414e-02,  2.4903e-03,  5.8462e-02,  4.0593e-02,  2.0406e-01,\n",
       "         1.5086e-01, -1.9023e-01,  5.7120e-03, -2.2050e-01,  4.0097e-02,\n",
       "        -4.3066e-02, -5.5225e-02, -1.9707e-01,  1.0681e-01,  2.6040e-02,\n",
       "        -1.1792e-01, -7.8271e-02,  6.4384e-02, -4.3901e-02,  1.7186e-01,\n",
       "        -1.3299e-01, -2.3022e-01,  1.1511e-01, -1.1366e-01,  7.1772e-02,\n",
       "         3.0388e-02, -5.3820e-02,  4.0576e-02, -1.3498e-01,  2.2977e-02,\n",
       "        -6.6291e-02,  9.4576e-02,  9.6605e-02,  1.1068e-01, -9.1359e-02,\n",
       "        -2.5559e-01, -1.8208e-01, -7.0808e-02,  1.9346e-01, -1.3737e-02,\n",
       "         1.3220e-01,  9.0473e-03, -1.3419e-01,  5.6259e-02, -6.6106e-02,\n",
       "         1.9350e-02, -8.7351e-02,  2.4528e-01, -1.1564e-01, -2.6240e-01,\n",
       "        -1.7627e-02, -1.7093e-02, -1.7466e-03,  3.7335e-02, -5.0901e-02,\n",
       "         1.1846e-02,  1.4965e-01, -6.8340e-02, -4.2153e-02, -2.9708e-02,\n",
       "        -8.6951e-02,  7.0804e-02, -4.8099e-02, -1.0185e-01,  7.7714e-03,\n",
       "        -1.0015e-01, -1.0376e-01,  6.8865e-02,  2.1542e-01,  4.7661e-02,\n",
       "         7.9896e-02, -6.5113e-02, -8.9699e-02,  4.1985e-02,  5.4143e-02,\n",
       "        -1.4977e-01,  1.6239e-01,  2.0973e-01,  9.5330e-02, -7.7779e-02,\n",
       "        -1.6807e-01, -1.3377e-01, -1.1616e-01, -7.2806e-02,  1.0621e-01,\n",
       "        -1.3560e-01,  1.5267e-01,  4.0525e-03, -1.1506e-01,  3.7625e-02,\n",
       "         9.5057e-02,  3.4732e-01,  2.2770e-01, -8.8677e-02,  2.2700e-02,\n",
       "         9.9168e-02,  1.6942e-01, -9.1050e-02, -7.0903e-02, -3.8018e-02,\n",
       "         9.8645e-02,  1.8366e-01,  1.5431e-01,  2.2061e-02,  9.4161e-02,\n",
       "         1.6621e-01,  1.1066e-01, -2.0047e-02,  7.7617e-02,  1.9713e-01,\n",
       "         1.4800e-01, -3.0559e-02, -3.7904e-03,  1.2581e-01,  9.3178e-02,\n",
       "         5.3025e-03, -1.3768e-01, -1.9615e-01,  4.6538e-03, -8.4519e-02,\n",
       "         6.7768e-02, -1.4125e-01, -5.3596e-02,  2.4670e-02,  7.6706e-02,\n",
       "         1.5041e-01, -1.3356e-02, -4.2397e-02, -5.6906e-02, -8.4602e-02,\n",
       "         1.0950e-01,  1.1171e-01, -1.7340e-01, -2.6127e-01, -1.1711e-01,\n",
       "        -7.6594e-03,  1.1916e-01,  1.0186e-01,  6.5568e-02, -8.6377e-02,\n",
       "         4.5331e-03, -1.1603e-01,  1.5259e-02,  1.2651e-01,  2.4583e-02,\n",
       "        -3.2248e-02,  1.7638e-01,  1.6913e-01, -7.1800e-02,  8.8959e-02,\n",
       "         1.2216e-01, -2.5807e-02, -5.9633e-02, -2.8073e-02, -3.3804e-02,\n",
       "        -1.6030e-01, -9.9062e-02, -1.3312e-02,  1.6888e-02, -1.1405e-01,\n",
       "        -1.1408e-01,  2.6519e-02,  2.9028e-01, -3.6908e-02,  6.4033e-03,\n",
       "        -9.5415e-02,  4.5915e-02,  1.4928e-01,  7.5234e-02, -3.4544e-02,\n",
       "         1.6111e-02,  1.3777e-01,  2.2206e-01, -1.3220e-02, -1.7291e-01,\n",
       "         2.4544e-02,  6.6033e-02,  1.5012e-02,  4.1812e-02,  2.2334e-01,\n",
       "         2.0044e-01,  5.6304e-02, -3.3418e-02, -3.0946e-02, -4.7655e-02,\n",
       "         1.7283e-01, -2.2451e-01,  3.5382e-03, -1.2949e-01,  1.5276e-01,\n",
       "         1.2570e-01,  1.0581e-01,  2.3278e-02, -1.4441e-01,  7.6915e-02,\n",
       "        -5.5658e-02, -1.3117e-01, -1.4851e-01,  3.0855e-02, -2.0482e-01,\n",
       "        -1.2363e-01,  6.4936e-02,  1.0137e-02, -5.2424e-03, -1.0278e-01,\n",
       "         5.6773e-02, -8.0971e-02,  2.3981e-01,  5.8717e-02,  2.9636e-03,\n",
       "        -8.8522e-02, -1.8194e-01, -1.1947e-01, -1.5572e-01,  2.0567e-01,\n",
       "        -3.9420e-02, -3.7937e-02, -5.1469e-02,  8.0964e-02, -8.5979e-02,\n",
       "        -1.2168e-01,  1.8171e-01, -1.3262e-02, -7.8118e-02, -1.7151e-01,\n",
       "         2.1582e-01, -7.4788e-02, -8.6003e-02, -1.4729e-01,  1.3005e-01,\n",
       "        -1.3141e-01,  5.3386e-02,  5.6149e-02, -3.1881e-01,  8.6863e-02,\n",
       "        -1.4127e-02,  8.0812e-02,  2.1684e-03,  7.4794e-02, -1.2902e-02,\n",
       "         6.5644e-03,  6.6212e-02,  6.2390e-02, -5.4337e-02,  1.0486e-01,\n",
       "         1.6125e-01,  2.9666e-02,  4.9043e-03,  2.6128e-02, -6.2164e-02,\n",
       "        -2.2304e-02,  8.5056e-02,  5.3650e-02,  1.5426e-01, -1.2722e-01,\n",
       "         2.0184e-02, -5.5405e-02,  9.1089e-02,  1.4631e-01,  1.4343e-01,\n",
       "        -1.1772e-01,  1.7288e-01, -1.4758e-01,  4.6810e-02,  1.3354e-01,\n",
       "        -1.2169e-01,  4.1474e-02, -7.7209e-02,  2.0159e-04, -1.3599e-01,\n",
       "         5.0491e-02,  1.4679e-02, -1.6309e-01, -4.9485e-02, -3.7182e-01,\n",
       "        -6.8570e-02,  6.0054e-02, -8.8291e-04, -2.0141e-02,  2.1498e-02,\n",
       "        -2.8403e-02, -2.9892e-01, -1.2833e-01,  8.9206e-03,  6.1154e-02,\n",
       "         9.8095e-02, -4.7626e-02, -3.6810e-03,  7.7050e-02,  1.8141e-02,\n",
       "         3.9315e-02, -3.7279e-03,  1.6670e-01,  1.9276e-01, -2.8551e-01,\n",
       "         1.4486e-02, -2.7520e-02,  3.1068e-02, -9.5884e-02, -1.0267e-01,\n",
       "         1.0723e-01,  4.8124e-02, -4.4282e-02,  2.3325e-02,  1.4661e-01,\n",
       "         3.8993e-03,  5.3819e-02,  2.5225e-01, -1.5375e-01,  5.5150e-02,\n",
       "         8.4707e-02, -1.9600e-02,  8.7310e-02, -4.2887e-02,  5.3862e-02,\n",
       "         1.1362e-01, -8.4151e-02, -1.0548e-01,  1.6616e-01,  1.5044e-01,\n",
       "         1.7448e-01, -1.2014e-01,  6.7663e-02, -1.9253e-01, -1.8652e-01,\n",
       "        -1.1912e-02,  1.6840e-02,  5.5425e-02, -6.6799e-02, -3.0244e-01,\n",
       "        -1.7595e-01, -6.6988e-02, -2.6289e-02,  1.1406e-01, -1.2649e-01,\n",
       "         1.0296e-01,  2.2146e-01, -1.8387e-01, -9.2396e-02,  4.2919e-02,\n",
       "        -1.2472e-01,  1.0836e-01, -2.7552e-02, -5.0769e-02, -4.5427e-02,\n",
       "        -1.4508e-01,  1.4306e-02, -5.3880e-02,  9.7967e-03, -2.5351e-01,\n",
       "         3.0777e-03,  2.5533e-02, -2.6336e-02, -1.9405e-01,  2.4829e-02,\n",
       "         1.7629e-01, -2.2554e-02,  7.8514e-02, -1.3082e-02, -3.4239e-03,\n",
       "         7.2215e-02, -2.8770e-02, -1.6699e-02, -1.1703e-01,  1.0720e-01,\n",
       "        -5.1166e-02,  2.7154e-01,  2.3892e-01, -1.3984e-02, -1.2829e-01,\n",
       "         5.6713e-02, -1.5056e-01, -3.9129e-02,  1.0637e-02, -8.2369e-02,\n",
       "         2.8946e-02, -2.1884e-01, -1.1539e-01, -7.6418e-02, -4.6503e-02,\n",
       "        -1.2101e-01, -6.2767e-02,  2.7363e-01, -1.3499e-01, -1.5232e-02,\n",
       "        -4.2489e-01, -1.0780e-03,  6.8473e-02,  9.5398e-02,  1.8549e-01,\n",
       "        -3.0159e-02, -1.6930e-01,  9.2827e-02,  6.5872e-02, -1.9099e-02,\n",
       "         1.5497e-01, -1.8380e-01, -1.2640e-01, -4.9632e-02, -5.3780e-02,\n",
       "        -1.0413e-01, -4.8536e-02,  4.1940e-02, -1.9227e-01, -1.5979e-02,\n",
       "         9.3623e-02, -1.6832e-01, -1.1210e-01,  1.5927e-02,  2.0700e-01,\n",
       "        -2.2159e-01, -1.7122e-01, -3.3975e-02, -1.8840e-02, -9.1123e-02,\n",
       "         1.9341e-02, -1.7261e-01,  9.6628e-02,  1.1824e-03, -1.3767e-01,\n",
       "        -1.2455e-01, -1.9784e-01, -1.4188e-01,  1.6685e-01,  5.8967e-02,\n",
       "         5.4205e-02, -1.5019e-01,  2.3788e-02,  4.1422e-02,  1.9217e-01,\n",
       "        -5.0484e-02,  4.4062e-02])"
      ]
     },
     "execution_count": 35,
     "metadata": {},
     "output_type": "execute_result"
    }
   ],
   "source": [
    "L2 = model.linear_relu_stack[2]\n",
    "L2_params = {name: param.data for name, param in L2.named_parameters()}\n",
    "A2 = L2_params[\"weight\"]\n",
    "b2 = L2_params[\"bias\"]\n",
    "x3 = A2 @ x2 + b2\n",
    "x3"
   ]
  },
  {
   "cell_type": "code",
   "execution_count": 36,
   "id": "9afeee39-f92c-430e-8fab-75f9da4ab7a5",
   "metadata": {},
   "outputs": [
    {
     "data": {
      "text/plain": [
       "tensor([0.0000e+00, 0.0000e+00, 0.0000e+00, 5.0461e-02, 0.0000e+00, 1.9569e-02,\n",
       "        3.6898e-02, 0.0000e+00, 0.0000e+00, 0.0000e+00, 0.0000e+00, 1.1201e-01,\n",
       "        8.9127e-02, 0.0000e+00, 1.7949e-01, 9.1794e-02, 0.0000e+00, 2.0735e-01,\n",
       "        1.3224e-01, 1.1452e-01, 0.0000e+00, 6.7868e-02, 0.0000e+00, 0.0000e+00,\n",
       "        0.0000e+00, 1.1493e-02, 0.0000e+00, 0.0000e+00, 0.0000e+00, 2.1301e-01,\n",
       "        0.0000e+00, 1.9173e-01, 9.9925e-02, 0.0000e+00, 0.0000e+00, 1.9780e-02,\n",
       "        0.0000e+00, 0.0000e+00, 0.0000e+00, 0.0000e+00, 3.3522e-02, 1.5838e-01,\n",
       "        1.7500e-01, 2.2884e-01, 0.0000e+00, 1.2535e-01, 0.0000e+00, 0.0000e+00,\n",
       "        0.0000e+00, 0.0000e+00, 0.0000e+00, 0.0000e+00, 0.0000e+00, 1.3661e-01,\n",
       "        0.0000e+00, 1.4171e-01, 3.1860e-02, 0.0000e+00, 0.0000e+00, 1.1251e-01,\n",
       "        0.0000e+00, 0.0000e+00, 9.1277e-02, 6.4649e-02, 0.0000e+00, 0.0000e+00,\n",
       "        2.3903e-01, 0.0000e+00, 1.6708e-01, 7.3380e-02, 0.0000e+00, 7.4416e-02,\n",
       "        9.5757e-02, 0.0000e+00, 0.0000e+00, 3.5842e-02, 0.0000e+00, 8.0246e-02,\n",
       "        0.0000e+00, 5.1261e-03, 5.3414e-02, 2.4903e-03, 5.8462e-02, 4.0593e-02,\n",
       "        2.0406e-01, 1.5086e-01, 0.0000e+00, 5.7120e-03, 0.0000e+00, 4.0097e-02,\n",
       "        0.0000e+00, 0.0000e+00, 0.0000e+00, 1.0681e-01, 2.6040e-02, 0.0000e+00,\n",
       "        0.0000e+00, 6.4384e-02, 0.0000e+00, 1.7186e-01, 0.0000e+00, 0.0000e+00,\n",
       "        1.1511e-01, 0.0000e+00, 7.1772e-02, 3.0388e-02, 0.0000e+00, 4.0576e-02,\n",
       "        0.0000e+00, 2.2977e-02, 0.0000e+00, 9.4576e-02, 9.6605e-02, 1.1068e-01,\n",
       "        0.0000e+00, 0.0000e+00, 0.0000e+00, 0.0000e+00, 1.9346e-01, 0.0000e+00,\n",
       "        1.3220e-01, 9.0473e-03, 0.0000e+00, 5.6259e-02, 0.0000e+00, 1.9350e-02,\n",
       "        0.0000e+00, 2.4528e-01, 0.0000e+00, 0.0000e+00, 0.0000e+00, 0.0000e+00,\n",
       "        0.0000e+00, 3.7335e-02, 0.0000e+00, 1.1846e-02, 1.4965e-01, 0.0000e+00,\n",
       "        0.0000e+00, 0.0000e+00, 0.0000e+00, 7.0804e-02, 0.0000e+00, 0.0000e+00,\n",
       "        7.7714e-03, 0.0000e+00, 0.0000e+00, 6.8865e-02, 2.1542e-01, 4.7661e-02,\n",
       "        7.9896e-02, 0.0000e+00, 0.0000e+00, 4.1985e-02, 5.4143e-02, 0.0000e+00,\n",
       "        1.6239e-01, 2.0973e-01, 9.5330e-02, 0.0000e+00, 0.0000e+00, 0.0000e+00,\n",
       "        0.0000e+00, 0.0000e+00, 1.0621e-01, 0.0000e+00, 1.5267e-01, 4.0525e-03,\n",
       "        0.0000e+00, 3.7625e-02, 9.5057e-02, 3.4732e-01, 2.2770e-01, 0.0000e+00,\n",
       "        2.2700e-02, 9.9168e-02, 1.6942e-01, 0.0000e+00, 0.0000e+00, 0.0000e+00,\n",
       "        9.8645e-02, 1.8366e-01, 1.5431e-01, 2.2061e-02, 9.4161e-02, 1.6621e-01,\n",
       "        1.1066e-01, 0.0000e+00, 7.7617e-02, 1.9713e-01, 1.4800e-01, 0.0000e+00,\n",
       "        0.0000e+00, 1.2581e-01, 9.3178e-02, 5.3025e-03, 0.0000e+00, 0.0000e+00,\n",
       "        4.6538e-03, 0.0000e+00, 6.7768e-02, 0.0000e+00, 0.0000e+00, 2.4670e-02,\n",
       "        7.6706e-02, 1.5041e-01, 0.0000e+00, 0.0000e+00, 0.0000e+00, 0.0000e+00,\n",
       "        1.0950e-01, 1.1171e-01, 0.0000e+00, 0.0000e+00, 0.0000e+00, 0.0000e+00,\n",
       "        1.1916e-01, 1.0186e-01, 6.5568e-02, 0.0000e+00, 4.5331e-03, 0.0000e+00,\n",
       "        1.5259e-02, 1.2651e-01, 2.4583e-02, 0.0000e+00, 1.7638e-01, 1.6913e-01,\n",
       "        0.0000e+00, 8.8959e-02, 1.2216e-01, 0.0000e+00, 0.0000e+00, 0.0000e+00,\n",
       "        0.0000e+00, 0.0000e+00, 0.0000e+00, 0.0000e+00, 1.6888e-02, 0.0000e+00,\n",
       "        0.0000e+00, 2.6519e-02, 2.9028e-01, 0.0000e+00, 6.4033e-03, 0.0000e+00,\n",
       "        4.5915e-02, 1.4928e-01, 7.5234e-02, 0.0000e+00, 1.6111e-02, 1.3777e-01,\n",
       "        2.2206e-01, 0.0000e+00, 0.0000e+00, 2.4544e-02, 6.6033e-02, 1.5012e-02,\n",
       "        4.1812e-02, 2.2334e-01, 2.0044e-01, 5.6304e-02, 0.0000e+00, 0.0000e+00,\n",
       "        0.0000e+00, 1.7283e-01, 0.0000e+00, 3.5382e-03, 0.0000e+00, 1.5276e-01,\n",
       "        1.2570e-01, 1.0581e-01, 2.3278e-02, 0.0000e+00, 7.6915e-02, 0.0000e+00,\n",
       "        0.0000e+00, 0.0000e+00, 3.0855e-02, 0.0000e+00, 0.0000e+00, 6.4936e-02,\n",
       "        1.0137e-02, 0.0000e+00, 0.0000e+00, 5.6773e-02, 0.0000e+00, 2.3981e-01,\n",
       "        5.8717e-02, 2.9636e-03, 0.0000e+00, 0.0000e+00, 0.0000e+00, 0.0000e+00,\n",
       "        2.0567e-01, 0.0000e+00, 0.0000e+00, 0.0000e+00, 8.0964e-02, 0.0000e+00,\n",
       "        0.0000e+00, 1.8171e-01, 0.0000e+00, 0.0000e+00, 0.0000e+00, 2.1582e-01,\n",
       "        0.0000e+00, 0.0000e+00, 0.0000e+00, 1.3005e-01, 0.0000e+00, 5.3386e-02,\n",
       "        5.6149e-02, 0.0000e+00, 8.6863e-02, 0.0000e+00, 8.0812e-02, 2.1684e-03,\n",
       "        7.4794e-02, 0.0000e+00, 6.5644e-03, 6.6212e-02, 6.2390e-02, 0.0000e+00,\n",
       "        1.0486e-01, 1.6125e-01, 2.9666e-02, 4.9043e-03, 2.6128e-02, 0.0000e+00,\n",
       "        0.0000e+00, 8.5056e-02, 5.3650e-02, 1.5426e-01, 0.0000e+00, 2.0184e-02,\n",
       "        0.0000e+00, 9.1089e-02, 1.4631e-01, 1.4343e-01, 0.0000e+00, 1.7288e-01,\n",
       "        0.0000e+00, 4.6810e-02, 1.3354e-01, 0.0000e+00, 4.1474e-02, 0.0000e+00,\n",
       "        2.0159e-04, 0.0000e+00, 5.0491e-02, 1.4679e-02, 0.0000e+00, 0.0000e+00,\n",
       "        0.0000e+00, 0.0000e+00, 6.0054e-02, 0.0000e+00, 0.0000e+00, 2.1498e-02,\n",
       "        0.0000e+00, 0.0000e+00, 0.0000e+00, 8.9206e-03, 6.1154e-02, 9.8095e-02,\n",
       "        0.0000e+00, 0.0000e+00, 7.7050e-02, 1.8141e-02, 3.9315e-02, 0.0000e+00,\n",
       "        1.6670e-01, 1.9276e-01, 0.0000e+00, 1.4486e-02, 0.0000e+00, 3.1068e-02,\n",
       "        0.0000e+00, 0.0000e+00, 1.0723e-01, 4.8124e-02, 0.0000e+00, 2.3325e-02,\n",
       "        1.4661e-01, 3.8993e-03, 5.3819e-02, 2.5225e-01, 0.0000e+00, 5.5150e-02,\n",
       "        8.4707e-02, 0.0000e+00, 8.7310e-02, 0.0000e+00, 5.3862e-02, 1.1362e-01,\n",
       "        0.0000e+00, 0.0000e+00, 1.6616e-01, 1.5044e-01, 1.7448e-01, 0.0000e+00,\n",
       "        6.7663e-02, 0.0000e+00, 0.0000e+00, 0.0000e+00, 1.6840e-02, 5.5425e-02,\n",
       "        0.0000e+00, 0.0000e+00, 0.0000e+00, 0.0000e+00, 0.0000e+00, 1.1406e-01,\n",
       "        0.0000e+00, 1.0296e-01, 2.2146e-01, 0.0000e+00, 0.0000e+00, 4.2919e-02,\n",
       "        0.0000e+00, 1.0836e-01, 0.0000e+00, 0.0000e+00, 0.0000e+00, 0.0000e+00,\n",
       "        1.4306e-02, 0.0000e+00, 9.7967e-03, 0.0000e+00, 3.0777e-03, 2.5533e-02,\n",
       "        0.0000e+00, 0.0000e+00, 2.4829e-02, 1.7629e-01, 0.0000e+00, 7.8514e-02,\n",
       "        0.0000e+00, 0.0000e+00, 7.2215e-02, 0.0000e+00, 0.0000e+00, 0.0000e+00,\n",
       "        1.0720e-01, 0.0000e+00, 2.7154e-01, 2.3892e-01, 0.0000e+00, 0.0000e+00,\n",
       "        5.6713e-02, 0.0000e+00, 0.0000e+00, 1.0637e-02, 0.0000e+00, 2.8946e-02,\n",
       "        0.0000e+00, 0.0000e+00, 0.0000e+00, 0.0000e+00, 0.0000e+00, 0.0000e+00,\n",
       "        2.7363e-01, 0.0000e+00, 0.0000e+00, 0.0000e+00, 0.0000e+00, 6.8473e-02,\n",
       "        9.5398e-02, 1.8549e-01, 0.0000e+00, 0.0000e+00, 9.2827e-02, 6.5872e-02,\n",
       "        0.0000e+00, 1.5497e-01, 0.0000e+00, 0.0000e+00, 0.0000e+00, 0.0000e+00,\n",
       "        0.0000e+00, 0.0000e+00, 4.1940e-02, 0.0000e+00, 0.0000e+00, 9.3623e-02,\n",
       "        0.0000e+00, 0.0000e+00, 1.5927e-02, 2.0700e-01, 0.0000e+00, 0.0000e+00,\n",
       "        0.0000e+00, 0.0000e+00, 0.0000e+00, 1.9341e-02, 0.0000e+00, 9.6628e-02,\n",
       "        1.1824e-03, 0.0000e+00, 0.0000e+00, 0.0000e+00, 0.0000e+00, 1.6685e-01,\n",
       "        5.8967e-02, 5.4205e-02, 0.0000e+00, 2.3788e-02, 4.1422e-02, 1.9217e-01,\n",
       "        0.0000e+00, 4.4062e-02])"
      ]
     },
     "execution_count": 36,
     "metadata": {},
     "output_type": "execute_result"
    }
   ],
   "source": [
    "second_relu = model.linear_relu_stack[3]\n",
    "x4 = second_relu(x3)\n",
    "x4"
   ]
  },
  {
   "cell_type": "code",
   "execution_count": 37,
   "id": "e359b5a0-670c-49fc-99d7-79cdb586d0e1",
   "metadata": {},
   "outputs": [
    {
     "data": {
      "text/plain": [
       "tensor([ 0.0139, -0.0943, -0.0889,  0.0154,  0.0115, -0.0701, -0.0614,  0.1164,\n",
       "        -0.0310,  0.0173])"
      ]
     },
     "execution_count": 37,
     "metadata": {},
     "output_type": "execute_result"
    }
   ],
   "source": [
    "L3 = model.linear_relu_stack[4]\n",
    "L3_params = {name: param.data for name, param in L3.named_parameters()}\n",
    "A3 = L3_params[\"weight\"]\n",
    "b3 = L3_params[\"bias\"]\n",
    "x5 = A3 @ x4 + b3\n",
    "x5"
   ]
  },
  {
   "cell_type": "code",
   "execution_count": 38,
   "id": "6574bed7-4755-4847-9268-ec1bccdff204",
   "metadata": {},
   "outputs": [
    {
     "data": {
      "text/plain": [
       "tensor([0.1030, 0.0924, 0.0929, 0.1031, 0.1027, 0.0947, 0.0955, 0.1141, 0.0984,\n",
       "        0.1033])"
      ]
     },
     "execution_count": 38,
     "metadata": {},
     "output_type": "execute_result"
    }
   ],
   "source": [
    "def softmax(x):\n",
    "    return torch.nn.functional.softmax(x, dim=0)\n",
    "\n",
    "ps = softmax(x5)\n",
    "ps"
   ]
  },
  {
   "cell_type": "code",
   "execution_count": 39,
   "id": "e711f687-e2c7-4349-9155-c17d559898f5",
   "metadata": {},
   "outputs": [
    {
     "data": {
      "text/plain": [
       "{'T-shirt/top': 0.10295285284519196,\n",
       " 'Trouser': 0.09239115566015244,\n",
       " 'Pullover': 0.0928964912891388,\n",
       " 'Dress': 0.1031104251742363,\n",
       " 'Coat': 0.10270444303750992,\n",
       " 'Sandal': 0.0946599543094635,\n",
       " 'Shirt': 0.09548187255859375,\n",
       " 'Sneaker': 0.11406859010457993,\n",
       " 'Bag': 0.09842811524868011,\n",
       " 'Ankle boot': 0.10330613702535629}"
      ]
     },
     "execution_count": 39,
     "metadata": {},
     "output_type": "execute_result"
    }
   ],
   "source": [
    "data = {training_data.classes[i]: p.item() for i, p in enumerate(ps)}\n",
    "data"
   ]
  },
  {
   "cell_type": "code",
   "execution_count": 40,
   "id": "48934c97-27f8-4d11-a2d1-af19e0cc5810",
   "metadata": {},
   "outputs": [
    {
     "data": {
      "image/png": "[encoded data removed]",
      "text/plain": [
       "<Figure size 1600x480 with 1 Axes>"
      ]
     },
     "metadata": {},
     "output_type": "display_data"
    }
   ],
   "source": [
    "import seaborn as sns; sns.set_theme()\n",
    "sns.barplot(data)\n",
    "plt.gcf().set_figwidth(16)\n",
    "plt.gca().set_ylabel(\"Probability\")\n",
    "None"
   ]
  },
  {
   "cell_type": "code",
   "execution_count": 41,
   "id": "5a5b94a0-b39a-4637-b5de-3090438183d4",
   "metadata": {},
   "outputs": [],
   "source": [
    "out = model(t).data.squeeze()"
   ]
  },
  {
   "cell_type": "code",
   "execution_count": 42,
   "id": "7979dd2d-f699-4074-9c81-5c6988b8332d",
   "metadata": {},
   "outputs": [],
   "source": [
    "ps = torch.nn.functional.softmax(out, dim=-1)"
   ]
  },
  {
   "cell_type": "code",
   "execution_count": 43,
   "id": "cebb45c1-34cd-4e47-be96-18b58d90eb09",
   "metadata": {},
   "outputs": [
    {
     "data": {
      "image/png": "[encoded data removed]",
      "text/plain": [
       "<Figure size 1600x480 with 1 Axes>"
      ]
     },
     "metadata": {},
     "output_type": "display_data"
    }
   ],
   "source": [
    "data = {training_data.classes[i]: p.item() for i, p in enumerate(ps)}\n",
    "sns.barplot(data)\n",
    "plt.gcf().set_figwidth(16)\n",
    "plt.gca().set_ylabel(\"Probability\")\n",
    "None"
   ]
  },
  {
   "cell_type": "markdown",
   "id": "f61f1b95-6b16-4504-85e9-53521e1c1737",
   "metadata": {},
   "source": [
    "## Training"
   ]
  },
  {
   "cell_type": "code",
   "execution_count": 44,
   "id": "a0b9ba81-fcc2-488b-b697-2f7ae3ad1055",
   "metadata": {},
   "outputs": [
    {
     "name": "stdout",
     "output_type": "stream",
     "text": [
      "Shape of X [N, C, H, W]: torch.Size([64, 1, 28, 28])\n",
      "Shape of y: torch.Size([64]) torch.int64\n"
     ]
    }
   ],
   "source": [
    "batch_size = 64\n",
    "\n",
    "# Create data loaders.\n",
    "train_dataloader = torch.utils.data.DataLoader(training_data, batch_size=batch_size)\n",
    "test_dataloader = torch.utils.data.DataLoader(test_data, batch_size=batch_size)\n",
    "\n",
    "for X, y in test_dataloader:\n",
    "    print(f\"Shape of X [N, C, H, W]: {X.shape}\")\n",
    "    print(f\"Shape of y: {y.shape} {y.dtype}\")\n",
    "    break"
   ]
  },
  {
   "cell_type": "code",
   "execution_count": 45,
   "id": "c5071344-eebb-43aa-a2e6-abe371cea7c3",
   "metadata": {},
   "outputs": [],
   "source": [
    "loss_fn = torch.nn.CrossEntropyLoss()\n",
    "optimizer = torch.optim.SGD(model.parameters(), lr=1e-3)"
   ]
  },
  {
   "cell_type": "code",
   "execution_count": 46,
   "id": "67c4b9d5-428a-4497-9325-224537999527",
   "metadata": {},
   "outputs": [],
   "source": [
    "X, y = next(iter(train_dataloader)) # first dataloader input/ouput batch"
   ]
  },
  {
   "cell_type": "code",
   "execution_count": 47,
   "id": "b40c6413-f34f-4060-a4ab-71fc1dd26137",
   "metadata": {},
   "outputs": [],
   "source": [
    "def train(dataloader, model, loss_fn, optimizer):\n",
    "    size = len(dataloader.dataset)\n",
    "    model.train()\n",
    "    for batch, (X, y) in enumerate(dataloader):\n",
    "        # Compute prediction error\n",
    "        pred = model(X)\n",
    "        loss = loss_fn(pred, y)\n",
    "\n",
    "        # Backpropagation\n",
    "        loss.backward()\n",
    "        optimizer.step()\n",
    "        optimizer.zero_grad()\n",
    "\n",
    "        if batch % 100 == 0:\n",
    "            loss, current = loss.item(), (batch + 1) * len(X)\n",
    "            print(f\"loss: {loss:>7f}  [{current:>5d}/{size:>5d}]\")"
   ]
  },
  {
   "cell_type": "code",
   "execution_count": 48,
   "id": "05342f5e-b04b-4698-b192-a13d9015e5d6",
   "metadata": {},
   "outputs": [],
   "source": [
    "def test(dataloader, model, loss_fn):\n",
    "    size = len(dataloader.dataset)\n",
    "    num_batches = len(dataloader)\n",
    "    model.eval()\n",
    "    test_loss, correct = 0, 0\n",
    "    with torch.no_grad():\n",
    "        for X, y in dataloader:\n",
    "            pred = model(X)\n",
    "            test_loss += loss_fn(pred, y).item()\n",
    "            correct += (pred.argmax(1) == y).type(torch.float).sum().item()\n",
    "    test_loss /= num_batches\n",
    "    correct /= size\n",
    "    print(f\"Test Error: \\n Accuracy: {(100*correct):>0.1f}%, Avg loss: {test_loss:>8f} \\n\")"
   ]
  },
  {
   "cell_type": "code",
   "execution_count": 49,
   "id": "d7e912bc-4e8a-4dbb-824f-d62ae9f2ae2d",
   "metadata": {},
   "outputs": [
    {
     "name": "stdout",
     "output_type": "stream",
     "text": [
      "Test Error: \n",
      " Accuracy: 10.0%, Avg loss: 2.300703 \n",
      "\n",
      "Epoch 1\n",
      "-------------------------------\n",
      "loss: 2.297727  [   64/60000]\n",
      "loss: 2.285681  [ 6464/60000]\n",
      "loss: 2.269073  [12864/60000]\n",
      "loss: 2.263202  [19264/60000]\n",
      "loss: 2.246423  [25664/60000]\n",
      "loss: 2.223307  [32064/60000]\n",
      "loss: 2.215047  [38464/60000]\n",
      "loss: 2.189490  [44864/60000]\n",
      "loss: 2.188131  [51264/60000]\n",
      "loss: 2.148561  [57664/60000]\n",
      "Test Error: \n",
      " Accuracy: 57.4%, Avg loss: 2.151824 \n",
      "\n",
      "Epoch 2\n",
      "-------------------------------\n",
      "loss: 2.158888  [   64/60000]\n",
      "loss: 2.153066  [ 6464/60000]\n",
      "loss: 2.097754  [12864/60000]\n",
      "loss: 2.115173  [19264/60000]\n",
      "loss: 2.068567  [25664/60000]\n",
      "loss: 2.014776  [32064/60000]\n",
      "loss: 2.022986  [38464/60000]\n",
      "loss: 1.953969  [44864/60000]\n",
      "loss: 1.960876  [51264/60000]\n",
      "loss: 1.883715  [57664/60000]\n",
      "Test Error: \n",
      " Accuracy: 60.8%, Avg loss: 1.890137 \n",
      "\n",
      "Epoch 3\n",
      "-------------------------------\n",
      "loss: 1.916416  [   64/60000]\n",
      "loss: 1.899186  [ 6464/60000]\n",
      "loss: 1.778378  [12864/60000]\n",
      "loss: 1.821047  [19264/60000]\n",
      "loss: 1.720449  [25664/60000]\n",
      "loss: 1.666975  [32064/60000]\n",
      "loss: 1.675999  [38464/60000]\n",
      "loss: 1.578555  [44864/60000]\n",
      "loss: 1.606965  [51264/60000]\n",
      "loss: 1.494410  [57664/60000]\n",
      "Test Error: \n",
      " Accuracy: 62.3%, Avg loss: 1.517352 \n",
      "\n",
      "Epoch 4\n",
      "-------------------------------\n",
      "loss: 1.579708  [   64/60000]\n",
      "loss: 1.553982  [ 6464/60000]\n",
      "loss: 1.393646  [12864/60000]\n",
      "loss: 1.470298  [19264/60000]\n",
      "loss: 1.353159  [25664/60000]\n",
      "loss: 1.347040  [32064/60000]\n",
      "loss: 1.356589  [38464/60000]\n",
      "loss: 1.274584  [44864/60000]\n",
      "loss: 1.318397  [51264/60000]\n",
      "loss: 1.213671  [57664/60000]\n",
      "Test Error: \n",
      " Accuracy: 64.0%, Avg loss: 1.240872 \n",
      "\n",
      "Epoch 5\n",
      "-------------------------------\n",
      "loss: 1.314519  [   64/60000]\n",
      "loss: 1.304226  [ 6464/60000]\n",
      "loss: 1.130227  [12864/60000]\n",
      "loss: 1.240092  [19264/60000]\n",
      "loss: 1.115569  [25664/60000]\n",
      "loss: 1.141746  [32064/60000]\n",
      "loss: 1.163349  [38464/60000]\n",
      "loss: 1.090470  [44864/60000]\n",
      "loss: 1.138579  [51264/60000]\n",
      "loss: 1.052334  [57664/60000]\n",
      "Test Error: \n",
      " Accuracy: 64.9%, Avg loss: 1.072808 \n",
      "\n",
      "Done!\n"
     ]
    }
   ],
   "source": [
    "test(test_dataloader, model, loss_fn)\n",
    "\n",
    "epochs = 5\n",
    "for t in range(epochs):\n",
    "    print(f\"Epoch {t+1}\\n-------------------------------\")\n",
    "    train(train_dataloader, model, loss_fn, optimizer)\n",
    "    test(test_dataloader, model, loss_fn)\n",
    "print(\"Done!\")"
   ]
  },
  {
   "cell_type": "code",
   "execution_count": 50,
   "id": "e69ce9ce-c190-4653-8c52-2ae96989779a",
   "metadata": {},
   "outputs": [
    {
     "name": "stdout",
     "output_type": "stream",
     "text": [
      "Saved PyTorch Model State to model.pth\n"
     ]
    }
   ],
   "source": [
    "torch.save(model.state_dict(), \"model.pth\")\n",
    "print(\"Saved PyTorch Model State to model.pth\")"
   ]
  },
  {
   "cell_type": "markdown",
   "id": "9a25d704-be52-414f-a3c5-b6273237ad14",
   "metadata": {},
   "source": [
    "## Use the Model"
   ]
  },
  {
   "cell_type": "code",
   "execution_count": 51,
   "id": "bcb319a0-3703-44a9-bbbb-8503012ffe1e",
   "metadata": {},
   "outputs": [
    {
     "data": {
      "text/plain": [
       "<All keys matched successfully>"
      ]
     },
     "execution_count": 51,
     "metadata": {},
     "output_type": "execute_result"
    }
   ],
   "source": [
    "model = NeuralNetwork()\n",
    "model.load_state_dict(torch.load(\"model.pth\"))"
   ]
  },
  {
   "cell_type": "code",
   "execution_count": 52,
   "id": "87081abf-1fb9-4ac6-9067-7490581dbd66",
   "metadata": {},
   "outputs": [
    {
     "name": "stdout",
     "output_type": "stream",
     "text": [
      "Predicted: \"Ankle boot\", Actual: \"Ankle boot\"\n"
     ]
    }
   ],
   "source": [
    "classes = test_data.classes\n",
    "\n",
    "model.eval()\n",
    "x, y = test_data[0][0], test_data[0][1]\n",
    "with torch.no_grad():\n",
    "    pred = model(x)\n",
    "    predicted, actual = classes[pred[0].argmax(0)], classes[y]\n",
    "    print(f'Predicted: \"{predicted}\", Actual: \"{actual}\"')"
   ]
  },
  {
   "cell_type": "code",
   "execution_count": 58,
   "id": "df22c8ef-7eb5-4639-ad72-0c72e5616673",
   "metadata": {},
   "outputs": [
    {
     "name": "stdout",
     "output_type": "stream",
     "text": [
      "Known category: Ankle boot\n",
      "Predicted category: Ankle boot\n"
     ]
    },
    {
     "data": {
      "image/png": "[encoded data removed]",
      "text/plain": [
       "<Figure size 1600x480 with 1 Axes>"
      ]
     },
     "metadata": {},
     "output_type": "display_data"
    }
   ],
   "source": [
    "model.eval()\n",
    "input, output = test_data[0][0], test_data[0][1]\n",
    "print(f\"Known category: {test_data.classes[output]}\")\n",
    "logits = model(input)\n",
    "logits = logits.data.squeeze()\n",
    "probas = torch.nn.functional.softmax(logits, dim=-1)\n",
    "print(f\"Predicted category: {test_data.classes[probas.argmax().item()]}\")\n",
    "data = {training_data.classes[i]: p.item() for i, p in enumerate(probas)}\n",
    "sns.barplot(data)\n",
    "plt.gcf().set_figwidth(16)\n",
    "plt.gca().set_ylabel(\"Probability\")\n",
    "None"
   ]
  }
 ],
 "metadata": {
  "kernelspec": {
   "display_name": "Python 3 (ipykernel)",
   "language": "python",
   "name": "python3"
  },
  "language_info": {
   "codemirror_mode": {
    "name": "ipython",
    "version": 3
   },
   "file_extension": ".py",
   "mimetype": "text/x-python",
   "name": "python",
   "nbconvert_exporter": "python",
   "pygments_lexer": "ipython3",
   "version": "3.12.2"
  }
 },
 "nbformat": 4,
 "nbformat_minor": 5
}

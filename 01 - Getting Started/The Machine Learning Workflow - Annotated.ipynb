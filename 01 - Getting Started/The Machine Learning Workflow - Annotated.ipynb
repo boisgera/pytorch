{
 "cells": [
  {
   "cell_type": "markdown",
   "id": "be92d45c-9125-497e-9aa4-048ec0d82e54",
   "metadata": {},
   "source": [
    "# The Machine Learning Workflow Annotated\n",
    "\n",
    "Source: [Pytorch / Learn the Basics](https://pytorch.org/tutorials/beginner/basics/intro.html)"
   ]
  },
  {
   "cell_type": "markdown",
   "id": "64b29526-5b77-4e9a-b277-704cdea8459e",
   "metadata": {},
   "source": [
    "```{attention} TODO\n",
    "\n",
    "- [ ] Understand the structure of the dataset\n",
    "- [ ] Represent its contents appropriately\n",
    "- [ ] Understand the dataset loading options\n",
    "- [ ] Load an existing neural network model\n",
    "- [ ] Use it for classification\n",
    "- [ ] Use it in batched mode\n",
    "- [ ] Evaluate the confidence in its answers\n",
    "- [ ] Understand the components it uses\n",
    "- [ ] Get the model parameters\n",
    "- [ ] Replicate manually its computation\n",
    "- [ ] Understand the loss function concept\n",
    "- [ ] Understand what cross-entropy computes\n",
    "- [ ] Understand what data loader does (at a high-level)\n",
    "- [ ] Understand what the training loop does (at a high-level)\n",
    "- [ ] Estimate model accuracy\n",
    "- [ ] Save a model\n",
    "```"
   ]
  },
  {
   "cell_type": "code",
   "execution_count": 1,
   "id": "6c1d361c-5e1b-46c5-b607-fd25566a8428",
   "metadata": {},
   "outputs": [],
   "source": [
    "import torch\n",
    "import torchvision"
   ]
  },
  {
   "cell_type": "markdown",
   "id": "e681cd9d-c913-440a-92b1-731956c5313b",
   "metadata": {},
   "source": [
    "## The FashionMNIST Dataset "
   ]
  },
  {
   "cell_type": "code",
   "execution_count": 2,
   "id": "f93d4548-fd7b-45c3-9a39-61e34a0e3335",
   "metadata": {},
   "outputs": [],
   "source": [
    "# Download training data from open datasets.\n",
    "training_data = torchvision.datasets.FashionMNIST(\n",
    "    root=\"data\",\n",
    "    train=True,\n",
    "    download=True,\n",
    "    transform=torchvision.transforms.ToTensor(),\n",
    ")\n",
    "\n",
    "# Download test data from open datasets.\n",
    "test_data = torchvision.datasets.FashionMNIST(\n",
    "    root=\"data\",\n",
    "    train=False,\n",
    "    download=True,\n",
    "    transform=torchvision.transforms.ToTensor(),\n",
    ")"
   ]
  },
  {
   "cell_type": "code",
   "execution_count": 3,
   "id": "63c617ba-f065-4430-807c-128e42c3a126",
   "metadata": {},
   "outputs": [
    {
     "data": {
      "text/plain": [
       "Dataset FashionMNIST\n",
       "    Number of datapoints: 60000\n",
       "    Root location: data\n",
       "    Split: Train"
      ]
     },
     "execution_count": 3,
     "metadata": {},
     "output_type": "execute_result"
    }
   ],
   "source": [
    "# by default: training data set, no input/output transform, no download\n",
    "data = torchvision.datasets.FashionMNIST(root=\"data\") \n",
    "data"
   ]
  },
  {
   "cell_type": "code",
   "execution_count": 4,
   "id": "3af20871-ef0d-4ac8-8524-036f5866bf85",
   "metadata": {},
   "outputs": [
    {
     "data": {
      "text/plain": [
       "(<PIL.Image.Image image mode=L size=28x28>, 9)"
      ]
     },
     "execution_count": 4,
     "metadata": {},
     "output_type": "execute_result"
    }
   ],
   "source": [
    "# data is list-like ; each item in an input-output pair\n",
    "datum = data[0]\n",
    "datum"
   ]
  },
  {
   "cell_type": "code",
   "execution_count": 5,
   "id": "3cdbe9ef-04ed-4d4e-b169-4f22f72853a2",
   "metadata": {},
   "outputs": [],
   "source": [
    "image, index = datum"
   ]
  },
  {
   "cell_type": "code",
   "execution_count": 6,
   "id": "c90e7b4c-3398-4518-8455-f8f9ab3cb3a0",
   "metadata": {},
   "outputs": [
    {
     "data": {
      "image/jpeg": "[encoded data removed]",
      "image/png": "[encoded data removed]",
      "text/plain": [
       "<PIL.Image.Image image mode=L size=28x28>"
      ]
     },
     "execution_count": 6,
     "metadata": {},
     "output_type": "execute_result"
    }
   ],
   "source": [
    "image"
   ]
  },
  {
   "cell_type": "code",
   "execution_count": 7,
   "id": "0eabdbce-3d62-4ad8-a784-474a2521073f",
   "metadata": {
    "user_expressions": [
     {
      "expression": "data.classes",
      "result": {
       "data": {
        "text/plain": "['T-shirt/top',\n 'Trouser',\n 'Pullover',\n 'Dress',\n 'Coat',\n 'Sandal',\n 'Shirt',\n 'Sneaker',\n 'Bag',\n 'Ankle boot']"
       },
       "metadata": {},
       "status": "ok"
      }
     }
    ]
   },
   "outputs": [
    {
     "name": "stdout",
     "output_type": "stream",
     "text": [
      "['T-shirt/top', 'Trouser', 'Pullover', 'Dress', 'Coat', 'Sandal', 'Shirt', 'Sneaker', 'Bag', 'Ankle boot']\n"
     ]
    }
   ],
   "source": [
    "# The output is a number that denotes the class of the pictured object. \n",
    "# The list of classes is:\n",
    "print(data.classes)"
   ]
  },
  {
   "cell_type": "code",
   "execution_count": 8,
   "id": "126c1ec3-7059-4203-b699-d17de1e0b12e",
   "metadata": {},
   "outputs": [
    {
     "data": {
      "text/plain": [
       "'Ankle boot'"
      ]
     },
     "execution_count": 8,
     "metadata": {},
     "output_type": "execute_result"
    }
   ],
   "source": [
    "# Get the category name from the index:\n",
    "data.classes[index] # that checks out!"
   ]
  },
  {
   "cell_type": "code",
   "execution_count": 9,
   "id": "d8399b61-8763-4851-9273-fc82e89aa09c",
   "metadata": {},
   "outputs": [
    {
     "data": {
      "text/html": [
       "<div>\n",
       "<style scoped>\n",
       "    .dataframe tbody tr th:only-of-type {\n",
       "        vertical-align: middle;\n",
       "    }\n",
       "\n",
       "    .dataframe tbody tr th {\n",
       "        vertical-align: top;\n",
       "    }\n",
       "\n",
       "    .dataframe thead th {\n",
       "        text-align: right;\n",
       "    }\n",
       "</style>\n",
       "<table border=\"1\" class=\"dataframe\">\n",
       "  <thead>\n",
       "    <tr style=\"text-align: right;\">\n",
       "      <th></th>\n",
       "      <th>image</th>\n",
       "      <th>class</th>\n",
       "    </tr>\n",
       "  </thead>\n",
       "  <tbody>\n",
       "    <tr>\n",
       "      <th>0</th>\n",
       "      <td>&lt;PIL.Image.Image image mode=L size=28x28 at 0x...</td>\n",
       "      <td>Ankle boot</td>\n",
       "    </tr>\n",
       "    <tr>\n",
       "      <th>1</th>\n",
       "      <td>&lt;PIL.Image.Image image mode=L size=28x28 at 0x...</td>\n",
       "      <td>T-shirt/top</td>\n",
       "    </tr>\n",
       "    <tr>\n",
       "      <th>2</th>\n",
       "      <td>&lt;PIL.Image.Image image mode=L size=28x28 at 0x...</td>\n",
       "      <td>T-shirt/top</td>\n",
       "    </tr>\n",
       "    <tr>\n",
       "      <th>3</th>\n",
       "      <td>&lt;PIL.Image.Image image mode=L size=28x28 at 0x...</td>\n",
       "      <td>Dress</td>\n",
       "    </tr>\n",
       "    <tr>\n",
       "      <th>4</th>\n",
       "      <td>&lt;PIL.Image.Image image mode=L size=28x28 at 0x...</td>\n",
       "      <td>T-shirt/top</td>\n",
       "    </tr>\n",
       "    <tr>\n",
       "      <th>...</th>\n",
       "      <td>...</td>\n",
       "      <td>...</td>\n",
       "    </tr>\n",
       "    <tr>\n",
       "      <th>59995</th>\n",
       "      <td>&lt;PIL.Image.Image image mode=L size=28x28 at 0x...</td>\n",
       "      <td>Sandal</td>\n",
       "    </tr>\n",
       "    <tr>\n",
       "      <th>59996</th>\n",
       "      <td>&lt;PIL.Image.Image image mode=L size=28x28 at 0x...</td>\n",
       "      <td>Trouser</td>\n",
       "    </tr>\n",
       "    <tr>\n",
       "      <th>59997</th>\n",
       "      <td>&lt;PIL.Image.Image image mode=L size=28x28 at 0x...</td>\n",
       "      <td>Dress</td>\n",
       "    </tr>\n",
       "    <tr>\n",
       "      <th>59998</th>\n",
       "      <td>&lt;PIL.Image.Image image mode=L size=28x28 at 0x...</td>\n",
       "      <td>T-shirt/top</td>\n",
       "    </tr>\n",
       "    <tr>\n",
       "      <th>59999</th>\n",
       "      <td>&lt;PIL.Image.Image image mode=L size=28x28 at 0x...</td>\n",
       "      <td>Sandal</td>\n",
       "    </tr>\n",
       "  </tbody>\n",
       "</table>\n",
       "<p>60000 rows × 2 columns</p>\n",
       "</div>"
      ],
      "text/plain": [
       "                                                   image        class\n",
       "0      <PIL.Image.Image image mode=L size=28x28 at 0x...   Ankle boot\n",
       "1      <PIL.Image.Image image mode=L size=28x28 at 0x...  T-shirt/top\n",
       "2      <PIL.Image.Image image mode=L size=28x28 at 0x...  T-shirt/top\n",
       "3      <PIL.Image.Image image mode=L size=28x28 at 0x...        Dress\n",
       "4      <PIL.Image.Image image mode=L size=28x28 at 0x...  T-shirt/top\n",
       "...                                                  ...          ...\n",
       "59995  <PIL.Image.Image image mode=L size=28x28 at 0x...       Sandal\n",
       "59996  <PIL.Image.Image image mode=L size=28x28 at 0x...      Trouser\n",
       "59997  <PIL.Image.Image image mode=L size=28x28 at 0x...        Dress\n",
       "59998  <PIL.Image.Image image mode=L size=28x28 at 0x...  T-shirt/top\n",
       "59999  <PIL.Image.Image image mode=L size=28x28 at 0x...       Sandal\n",
       "\n",
       "[60000 rows x 2 columns]"
      ]
     },
     "execution_count": 9,
     "metadata": {},
     "output_type": "execute_result"
    }
   ],
   "source": [
    "import pandas as pd\n",
    "df = [{\"image\": image, \"class\": data.classes[index]} for image, index in data]\n",
    "df = pd.DataFrame(df)\n",
    "df"
   ]
  },
  {
   "cell_type": "code",
   "execution_count": 10,
   "id": "b8a2b0bb-87eb-4d70-ba9a-7e74b37ebee9",
   "metadata": {},
   "outputs": [
    {
     "data": {
      "text/html": [
       "<div>\n",
       "<style scoped>\n",
       "    .dataframe tbody tr th:only-of-type {\n",
       "        vertical-align: middle;\n",
       "    }\n",
       "\n",
       "    .dataframe tbody tr th {\n",
       "        vertical-align: top;\n",
       "    }\n",
       "\n",
       "    .dataframe thead th {\n",
       "        text-align: right;\n",
       "    }\n",
       "</style>\n",
       "<table border=\"1\" class=\"dataframe\">\n",
       "  <thead>\n",
       "    <tr style=\"text-align: right;\">\n",
       "      <th></th>\n",
       "      <th>image</th>\n",
       "      <th>class</th>\n",
       "    </tr>\n",
       "  </thead>\n",
       "  <tbody>\n",
       "    <tr>\n",
       "      <th>0</th>\n",
       "      <td>&lt;PIL.Image.Image image mode=L size=28x28 at 0x...</td>\n",
       "      <td>Ankle boot</td>\n",
       "    </tr>\n",
       "    <tr>\n",
       "      <th>1</th>\n",
       "      <td>&lt;PIL.Image.Image image mode=L size=28x28 at 0x...</td>\n",
       "      <td>T-shirt/top</td>\n",
       "    </tr>\n",
       "    <tr>\n",
       "      <th>2</th>\n",
       "      <td>&lt;PIL.Image.Image image mode=L size=28x28 at 0x...</td>\n",
       "      <td>T-shirt/top</td>\n",
       "    </tr>\n",
       "    <tr>\n",
       "      <th>3</th>\n",
       "      <td>&lt;PIL.Image.Image image mode=L size=28x28 at 0x...</td>\n",
       "      <td>Dress</td>\n",
       "    </tr>\n",
       "    <tr>\n",
       "      <th>4</th>\n",
       "      <td>&lt;PIL.Image.Image image mode=L size=28x28 at 0x...</td>\n",
       "      <td>T-shirt/top</td>\n",
       "    </tr>\n",
       "  </tbody>\n",
       "</table>\n",
       "</div>"
      ],
      "text/plain": [
       "                                               image        class\n",
       "0  <PIL.Image.Image image mode=L size=28x28 at 0x...   Ankle boot\n",
       "1  <PIL.Image.Image image mode=L size=28x28 at 0x...  T-shirt/top\n",
       "2  <PIL.Image.Image image mode=L size=28x28 at 0x...  T-shirt/top\n",
       "3  <PIL.Image.Image image mode=L size=28x28 at 0x...        Dress\n",
       "4  <PIL.Image.Image image mode=L size=28x28 at 0x...  T-shirt/top"
      ]
     },
     "execution_count": 10,
     "metadata": {},
     "output_type": "execute_result"
    }
   ],
   "source": [
    "df.head()"
   ]
  },
  {
   "cell_type": "code",
   "execution_count": 11,
   "id": "11a39240-12b5-4062-ae4e-a860d1bc09c5",
   "metadata": {},
   "outputs": [
    {
     "data": {
      "text/html": [
       "<table border=\"1\" class=\"dataframe\">\n",
       "  <thead>\n",
       "    <tr style=\"text-align: right;\">\n",
       "      <th></th>\n",
       "      <th>image</th>\n",
       "      <th>class</th>\n",
       "    </tr>\n",
       "  </thead>\n",
       "  <tbody>\n",
       "    <tr>\n",
       "      <th>0</th>\n",
       "      <td><img src=\"data:image/jpeg;base64, /9j/4AAQSkZJRgABAQAAAQABAAD/2wBDAAgGBgcGBQgHBwcJCQgKDBQNDAsLDBkSEw8UHRofHh0aHBwgJC4nICIsIxwcKDcpLDAxNDQ0Hyc5PTgyPC4zNDL/wAALCAAcABwBAREA/8QAHwAAAQUBAQEBAQEAAAAAAAAAAAECAwQFBgcICQoL/8QAtRAAAgEDAwIEAwUFBAQAAAF9AQIDAAQRBRIhMUEGE1FhByJxFDKBkaEII0KxwRVS0fAkM2JyggkKFhcYGRolJicoKSo0NTY3ODk6Q0RFRkdISUpTVFVWV1hZWmNkZWZnaGlqc3R1dnd4eXqDhIWGh4iJipKTlJWWl5iZmqKjpKWmp6ipqrKztLW2t7i5usLDxMXGx8jJytLT1NXW19jZ2uHi4+Tl5ufo6erx8vP09fb3+Pn6/9oACAEBAAA/APn+tbw1oNx4m8QWmkWx2yXD4LkZCADJJ+gFbviL4a63oc7COE3MW4hdn38duD976jNc9daDqllIsc9lKrMu4YGeMkdR7gj8KzcV7H8BtEvV16+1iWCeG1Wz8mOV02pIzupwCeuAp6Z98cZ90aIzLIlw0c0ZJ4KgjHoeOa+evjS9n/wnMcNxBPCYLKONFhA2FNzMpGenDcgd816V4K03wefC+m3NlpVhP+5QSXBiR5fMx825iMg5zwce3FdbOzTwgW90lu6uCm8eYrL02soIyCPQgggEdMGQ3cluiPNK0rJwrRQBNueuMkt+teNfGKxsdY8WWdxNqcNo66eieXMwVsb5DnH415Hp2rajpE5n02/urOUjBe3laMkehIPIrVm8eeLrhNknibVivoLtx/I1UPinxC3XXtUP1vJP8ay5JZJpGkldnduSzHJP41//2Q==\"></td>\n",
       "      <td>Ankle boot</td>\n",
       "    </tr>\n",
       "    <tr>\n",
       "      <th>1</th>\n",
       "      <td><img src=\"data:image/jpeg;base64, /9j/4AAQSkZJRgABAQAAAQABAAD/2wBDAAgGBgcGBQgHBwcJCQgKDBQNDAsLDBkSEw8UHRofHh0aHBwgJC4nICIsIxwcKDcpLDAxNDQ0Hyc5PTgyPC4zNDL/wAALCAAcABwBAREA/8QAHwAAAQUBAQEBAQEAAAAAAAAAAAECAwQFBgcICQoL/8QAtRAAAgEDAwIEAwUFBAQAAAF9AQIDAAQRBRIhMUEGE1FhByJxFDKBkaEII0KxwRVS0fAkM2JyggkKFhcYGRolJicoKSo0NTY3ODk6Q0RFRkdISUpTVFVWV1hZWmNkZWZnaGlqc3R1dnd4eXqDhIWGh4iJipKTlJWWl5iZmqKjpKWmp6ipqrKztLW2t7i5usLDxMXGx8jJytLT1NXW19jZ2uHi4+Tl5ufo6erx8vP09fb3+Pn6/9oACAEBAAA/AOB+E3gyz8V6xez6lE01jYRqWiDFQ8jk7QSOcYVjxjoK9hlufDultLpcPhSa5itZdjra6NFNCshiEh5Yj5tmCTTjpvhnxg9zYX/huSCe3SMyLeWC20yI+7aUZTnb8jcA446V81a7pcmh69qGlytue0uHh3f3gpIB/Ec/jXSeBfiJf+CvMt7ezsp7a4lV5vORg/HHDKR2z1z1NfQF94U8Oapez3l7o9vczzkGSSR5MvjAGcMB0C9B2rC8Uz2Xw28LXGp+HdIsoJ5JIoCr+YyNyx5y2eMtjBHJr5517WrrxFrdzq16sS3FwwLiJdqjAAGB9AKzq+zkXjAAGcnivP8A4zLu8ATf7N1C/wCrD+tfONFfUf8AwlV5AmBbWrbQACwf0Ho1cV8S/Edzqfg66t5be2RTLFzGHzw2e7GvEa//2Q==\"></td>\n",
       "      <td>T-shirt/top</td>\n",
       "    </tr>\n",
       "    <tr>\n",
       "      <th>2</th>\n",
       "      <td><img src=\"data:image/jpeg;base64, /9j/4AAQSkZJRgABAQAAAQABAAD/2wBDAAgGBgcGBQgHBwcJCQgKDBQNDAsLDBkSEw8UHRofHh0aHBwgJC4nICIsIxwcKDcpLDAxNDQ0Hyc5PTgyPC4zNDL/wAALCAAcABwBAREA/8QAHwAAAQUBAQEBAQEAAAAAAAAAAAECAwQFBgcICQoL/8QAtRAAAgEDAwIEAwUFBAQAAAF9AQIDAAQRBRIhMUEGE1FhByJxFDKBkaEII0KxwRVS0fAkM2JyggkKFhcYGRolJicoKSo0NTY3ODk6Q0RFRkdISUpTVFVWV1hZWmNkZWZnaGlqc3R1dnd4eXqDhIWGh4iJipKTlJWWl5iZmqKjpKWmp6ipqrKztLW2t7i5usLDxMXGx8jJytLT1NXW19jZ2uHi4+Tl5ufo6erx8vP09fb3+Pn6/9oACAEBAAA/APn+vX/DGqaVa6HZw6r4X07VQIFMLyxqrpkZIJ2/MM5P4nrXH+PZUuLu0njs7a0VlcLDbRBERQRhRgc49fc1yFFenaeANMsx6QRj/wAdFc/41H7uwOOcyc+3yf8A165GivUbVSlnAh6rEgP/AHyKwPGa7rK0fH3JGHX1A/wrjaK6zRPEN5Ni2mWKQImA7Kdxx6kGsfWdXudSmEc2xY4idqRjAz6nPJNZdf/Z\"></td>\n",
       "      <td>T-shirt/top</td>\n",
       "    </tr>\n",
       "    <tr>\n",
       "      <th>3</th>\n",
       "      <td><img src=\"data:image/jpeg;base64, /9j/4AAQSkZJRgABAQAAAQABAAD/2wBDAAgGBgcGBQgHBwcJCQgKDBQNDAsLDBkSEw8UHRofHh0aHBwgJC4nICIsIxwcKDcpLDAxNDQ0Hyc5PTgyPC4zNDL/wAALCAAcABwBAREA/8QAHwAAAQUBAQEBAQEAAAAAAAAAAAECAwQFBgcICQoL/8QAtRAAAgEDAwIEAwUFBAQAAAF9AQIDAAQRBRIhMUEGE1FhByJxFDKBkaEII0KxwRVS0fAkM2JyggkKFhcYGRolJicoKSo0NTY3ODk6Q0RFRkdISUpTVFVWV1hZWmNkZWZnaGlqc3R1dnd4eXqDhIWGh4iJipKTlJWWl5iZmqKjpKWmp6ipqrKztLW2t7i5usLDxMXGx8jJytLT1NXW19jZ2uHi4+Tl5ufo6erx8vP09fb3+Pn6/9oACAEBAAA/APHfBp0z/hKLRdWSNrd22KZseWrnhS4PG3PXPHc8A17c95bWoiiawsW8n/VK9oj+Uf8AZ4+X8K434kXmnXOjGe9t4n1CZgttKiBZMjqS2MlQD0Oeo6da8lor3OZzeQWsqFGZ7dCwEijB2D34rg/iIXM2nbiCPLfowIByCeh9MVxFaGh2iX+uWVtIu6N5V3r6qOSPyBr1eS1iklWZoIWdoppM+WOQFBB6fWs7xzpUUnhiSWKFFNrLn5VA29PTsVZPyFeU1c0vUZdJ1GK9gSN5It20SAleVI7EetdHJ441P7NbuILMGOLygAjYKkMv970qvqPjrVdTsLi0mitEW4wJHjjIY4VV9cdFHauYr//Z\"></td>\n",
       "      <td>Dress</td>\n",
       "    </tr>\n",
       "    <tr>\n",
       "      <th>4</th>\n",
       "      <td><img src=\"data:image/jpeg;base64, /9j/4AAQSkZJRgABAQAAAQABAAD/2wBDAAgGBgcGBQgHBwcJCQgKDBQNDAsLDBkSEw8UHRofHh0aHBwgJC4nICIsIxwcKDcpLDAxNDQ0Hyc5PTgyPC4zNDL/wAALCAAcABwBAREA/8QAHwAAAQUBAQEBAQEAAAAAAAAAAAECAwQFBgcICQoL/8QAtRAAAgEDAwIEAwUFBAQAAAF9AQIDAAQRBRIhMUEGE1FhByJxFDKBkaEII0KxwRVS0fAkM2JyggkKFhcYGRolJicoKSo0NTY3ODk6Q0RFRkdISUpTVFVWV1hZWmNkZWZnaGlqc3R1dnd4eXqDhIWGh4iJipKTlJWWl5iZmqKjpKWmp6ipqrKztLW2t7i5usLDxMXGx8jJytLT1NXW19jZ2uHi4+Tl5ufo6erx8vP09fb3+Pn6/9oACAEBAAA/APn+vp6f4feFNcg0LUIfDdlsleJrrypGgAt2iZtwVGUFg5TsSRn8PJ/jTYWGm+NbeDTrK2tIfsEbGO2iWNSxZ+cDvjAz7V5zRX2F4WVv+EL0DcDuGlWmcjn/AFKV4P8AHGN08dwM/wB17CIp9Azj+YNea1NZ2sl9ewWkIzLPIsSD1Zjgfzr7QYWmmQpbtLFbxB0toBIwTcxO1EXPUnHA7145+0BpjfY9F1PytpSWW2Zj1YEK6j2wfM4968MpyO0bq6MVdTlWU4IPqK9oPxD1jxL4b0O41CGzM0OuWTb442XeyM3JG7GTjnAA54xXKfFXxpqviTX3027EEVnp8rCKKBSAxPVmySScceg9OTngK//Z\"></td>\n",
       "      <td>T-shirt/top</td>\n",
       "    </tr>\n",
       "  </tbody>\n",
       "</table>"
      ],
      "text/plain": [
       "<IPython.core.display.HTML object>"
      ]
     },
     "execution_count": 11,
     "metadata": {},
     "output_type": "execute_result"
    }
   ],
   "source": [
    "import base64\n",
    "import io\n",
    "from IPython.display import HTML\n",
    "\n",
    "def image_formatter(image):\n",
    "    with io.BytesIO() as buffer:\n",
    "        image.save(buffer, \"jpeg\")\n",
    "        _bytes = buffer.getvalue()\n",
    "    _base64 = base64.b64encode(_bytes).decode(\"ascii\")\n",
    "    return f'<img src=\"data:image/jpeg;base64, {_base64}\">'\n",
    "\n",
    "HTML(df.head().to_html(formatters={'image': image_formatter}, escape=False))"
   ]
  },
  {
   "cell_type": "code",
   "execution_count": 12,
   "id": "f754275e-191b-4517-b4a7-df009dc475ef",
   "metadata": {},
   "outputs": [
    {
     "data": {
      "text/plain": [
       "tensor([[[0.0000, 0.0000, 0.0000, 0.0000, 0.0000, 0.0000, 0.0000, 0.0000,\n",
       "          0.0000, 0.0000, 0.0000, 0.0000, 0.0000, 0.0000, 0.0000, 0.0000,\n",
       "          0.0000, 0.0000, 0.0000, 0.0000, 0.0000, 0.0000, 0.0000, 0.0000,\n",
       "          0.0000, 0.0000, 0.0000, 0.0000],\n",
       "         [0.0000, 0.0000, 0.0000, 0.0000, 0.0000, 0.0000, 0.0000, 0.0000,\n",
       "          0.0000, 0.0000, 0.0000, 0.0000, 0.0000, 0.0000, 0.0000, 0.0000,\n",
       "          0.0000, 0.0000, 0.0000, 0.0000, 0.0000, 0.0000, 0.0000, 0.0000,\n",
       "          0.0000, 0.0000, 0.0000, 0.0000],\n",
       "         [0.0000, 0.0000, 0.0000, 0.0000, 0.0000, 0.0000, 0.0000, 0.0000,\n",
       "          0.0000, 0.0000, 0.0000, 0.0000, 0.0000, 0.0000, 0.0000, 0.0000,\n",
       "          0.0000, 0.0000, 0.0000, 0.0000, 0.0000, 0.0000, 0.0000, 0.0000,\n",
       "          0.0000, 0.0000, 0.0000, 0.0000],\n",
       "         [0.0000, 0.0000, 0.0000, 0.0000, 0.0000, 0.0000, 0.0000, 0.0000,\n",
       "          0.0000, 0.0000, 0.0000, 0.0000, 0.0039, 0.0000, 0.0000, 0.0510,\n",
       "          0.2863, 0.0000, 0.0000, 0.0039, 0.0157, 0.0000, 0.0000, 0.0000,\n",
       "          0.0000, 0.0039, 0.0039, 0.0000],\n",
       "         [0.0000, 0.0000, 0.0000, 0.0000, 0.0000, 0.0000, 0.0000, 0.0000,\n",
       "          0.0000, 0.0000, 0.0000, 0.0000, 0.0118, 0.0000, 0.1412, 0.5333,\n",
       "          0.4980, 0.2431, 0.2118, 0.0000, 0.0000, 0.0000, 0.0039, 0.0118,\n",
       "          0.0157, 0.0000, 0.0000, 0.0118],\n",
       "         [0.0000, 0.0000, 0.0000, 0.0000, 0.0000, 0.0000, 0.0000, 0.0000,\n",
       "          0.0000, 0.0000, 0.0000, 0.0000, 0.0235, 0.0000, 0.4000, 0.8000,\n",
       "          0.6902, 0.5255, 0.5647, 0.4824, 0.0902, 0.0000, 0.0000, 0.0000,\n",
       "          0.0000, 0.0471, 0.0392, 0.0000],\n",
       "         [0.0000, 0.0000, 0.0000, 0.0000, 0.0000, 0.0000, 0.0000, 0.0000,\n",
       "          0.0000, 0.0000, 0.0000, 0.0000, 0.0000, 0.0000, 0.6078, 0.9255,\n",
       "          0.8118, 0.6980, 0.4196, 0.6118, 0.6314, 0.4275, 0.2510, 0.0902,\n",
       "          0.3020, 0.5098, 0.2824, 0.0588],\n",
       "         [0.0000, 0.0000, 0.0000, 0.0000, 0.0000, 0.0000, 0.0000, 0.0000,\n",
       "          0.0000, 0.0000, 0.0000, 0.0039, 0.0000, 0.2706, 0.8118, 0.8745,\n",
       "          0.8549, 0.8471, 0.8471, 0.6392, 0.4980, 0.4745, 0.4784, 0.5725,\n",
       "          0.5529, 0.3451, 0.6745, 0.2588],\n",
       "         [0.0000, 0.0000, 0.0000, 0.0000, 0.0000, 0.0000, 0.0000, 0.0000,\n",
       "          0.0000, 0.0039, 0.0039, 0.0039, 0.0000, 0.7843, 0.9098, 0.9098,\n",
       "          0.9137, 0.8980, 0.8745, 0.8745, 0.8431, 0.8353, 0.6431, 0.4980,\n",
       "          0.4824, 0.7686, 0.8980, 0.0000],\n",
       "         [0.0000, 0.0000, 0.0000, 0.0000, 0.0000, 0.0000, 0.0000, 0.0000,\n",
       "          0.0000, 0.0000, 0.0000, 0.0000, 0.0000, 0.7176, 0.8824, 0.8471,\n",
       "          0.8745, 0.8941, 0.9216, 0.8902, 0.8784, 0.8706, 0.8784, 0.8667,\n",
       "          0.8745, 0.9608, 0.6784, 0.0000],\n",
       "         [0.0000, 0.0000, 0.0000, 0.0000, 0.0000, 0.0000, 0.0000, 0.0000,\n",
       "          0.0000, 0.0000, 0.0000, 0.0000, 0.0000, 0.7569, 0.8941, 0.8549,\n",
       "          0.8353, 0.7765, 0.7059, 0.8314, 0.8235, 0.8275, 0.8353, 0.8745,\n",
       "          0.8627, 0.9529, 0.7922, 0.0000],\n",
       "         [0.0000, 0.0000, 0.0000, 0.0000, 0.0000, 0.0000, 0.0000, 0.0000,\n",
       "          0.0000, 0.0039, 0.0118, 0.0000, 0.0471, 0.8588, 0.8627, 0.8314,\n",
       "          0.8549, 0.7529, 0.6627, 0.8902, 0.8157, 0.8549, 0.8784, 0.8314,\n",
       "          0.8863, 0.7725, 0.8196, 0.2039],\n",
       "         [0.0000, 0.0000, 0.0000, 0.0000, 0.0000, 0.0000, 0.0000, 0.0000,\n",
       "          0.0000, 0.0000, 0.0235, 0.0000, 0.3882, 0.9569, 0.8706, 0.8627,\n",
       "          0.8549, 0.7961, 0.7765, 0.8667, 0.8431, 0.8353, 0.8706, 0.8627,\n",
       "          0.9608, 0.4667, 0.6549, 0.2196],\n",
       "         [0.0000, 0.0000, 0.0000, 0.0000, 0.0000, 0.0000, 0.0000, 0.0000,\n",
       "          0.0000, 0.0157, 0.0000, 0.0000, 0.2157, 0.9255, 0.8941, 0.9020,\n",
       "          0.8941, 0.9412, 0.9098, 0.8353, 0.8549, 0.8745, 0.9176, 0.8510,\n",
       "          0.8510, 0.8196, 0.3608, 0.0000],\n",
       "         [0.0000, 0.0000, 0.0039, 0.0157, 0.0235, 0.0275, 0.0078, 0.0000,\n",
       "          0.0000, 0.0000, 0.0000, 0.0000, 0.9294, 0.8863, 0.8510, 0.8745,\n",
       "          0.8706, 0.8588, 0.8706, 0.8667, 0.8471, 0.8745, 0.8980, 0.8431,\n",
       "          0.8549, 1.0000, 0.3020, 0.0000],\n",
       "         [0.0000, 0.0118, 0.0000, 0.0000, 0.0000, 0.0000, 0.0000, 0.0000,\n",
       "          0.0000, 0.2431, 0.5686, 0.8000, 0.8941, 0.8118, 0.8353, 0.8667,\n",
       "          0.8549, 0.8157, 0.8275, 0.8549, 0.8784, 0.8745, 0.8588, 0.8431,\n",
       "          0.8784, 0.9569, 0.6235, 0.0000],\n",
       "         [0.0000, 0.0000, 0.0000, 0.0000, 0.0706, 0.1725, 0.3216, 0.4196,\n",
       "          0.7412, 0.8941, 0.8627, 0.8706, 0.8510, 0.8863, 0.7843, 0.8039,\n",
       "          0.8275, 0.9020, 0.8784, 0.9176, 0.6902, 0.7373, 0.9804, 0.9725,\n",
       "          0.9137, 0.9333, 0.8431, 0.0000],\n",
       "         [0.0000, 0.2235, 0.7333, 0.8157, 0.8784, 0.8667, 0.8784, 0.8157,\n",
       "          0.8000, 0.8392, 0.8157, 0.8196, 0.7843, 0.6235, 0.9608, 0.7569,\n",
       "          0.8078, 0.8745, 1.0000, 1.0000, 0.8667, 0.9176, 0.8667, 0.8275,\n",
       "          0.8627, 0.9098, 0.9647, 0.0000],\n",
       "         [0.0118, 0.7922, 0.8941, 0.8784, 0.8667, 0.8275, 0.8275, 0.8392,\n",
       "          0.8039, 0.8039, 0.8039, 0.8627, 0.9412, 0.3137, 0.5882, 1.0000,\n",
       "          0.8980, 0.8667, 0.7373, 0.6039, 0.7490, 0.8235, 0.8000, 0.8196,\n",
       "          0.8706, 0.8941, 0.8824, 0.0000],\n",
       "         [0.3843, 0.9137, 0.7765, 0.8235, 0.8706, 0.8980, 0.8980, 0.9176,\n",
       "          0.9765, 0.8627, 0.7608, 0.8431, 0.8510, 0.9451, 0.2549, 0.2863,\n",
       "          0.4157, 0.4588, 0.6588, 0.8588, 0.8667, 0.8431, 0.8510, 0.8745,\n",
       "          0.8745, 0.8784, 0.8980, 0.1137],\n",
       "         [0.2941, 0.8000, 0.8314, 0.8000, 0.7569, 0.8039, 0.8275, 0.8824,\n",
       "          0.8471, 0.7255, 0.7725, 0.8078, 0.7765, 0.8353, 0.9412, 0.7647,\n",
       "          0.8902, 0.9608, 0.9373, 0.8745, 0.8549, 0.8314, 0.8196, 0.8706,\n",
       "          0.8627, 0.8667, 0.9020, 0.2627],\n",
       "         [0.1882, 0.7961, 0.7176, 0.7608, 0.8353, 0.7725, 0.7255, 0.7451,\n",
       "          0.7608, 0.7529, 0.7922, 0.8392, 0.8588, 0.8667, 0.8627, 0.9255,\n",
       "          0.8824, 0.8471, 0.7804, 0.8078, 0.7294, 0.7098, 0.6941, 0.6745,\n",
       "          0.7098, 0.8039, 0.8078, 0.4510],\n",
       "         [0.0000, 0.4784, 0.8588, 0.7569, 0.7020, 0.6706, 0.7176, 0.7686,\n",
       "          0.8000, 0.8235, 0.8353, 0.8118, 0.8275, 0.8235, 0.7843, 0.7686,\n",
       "          0.7608, 0.7490, 0.7647, 0.7490, 0.7765, 0.7529, 0.6902, 0.6118,\n",
       "          0.6549, 0.6941, 0.8235, 0.3608],\n",
       "         [0.0000, 0.0000, 0.2902, 0.7412, 0.8314, 0.7490, 0.6863, 0.6745,\n",
       "          0.6863, 0.7098, 0.7255, 0.7373, 0.7412, 0.7373, 0.7569, 0.7765,\n",
       "          0.8000, 0.8196, 0.8235, 0.8235, 0.8275, 0.7373, 0.7373, 0.7608,\n",
       "          0.7529, 0.8471, 0.6667, 0.0000],\n",
       "         [0.0078, 0.0000, 0.0000, 0.0000, 0.2588, 0.7843, 0.8706, 0.9294,\n",
       "          0.9373, 0.9490, 0.9647, 0.9529, 0.9569, 0.8667, 0.8627, 0.7569,\n",
       "          0.7490, 0.7020, 0.7137, 0.7137, 0.7098, 0.6902, 0.6510, 0.6588,\n",
       "          0.3882, 0.2275, 0.0000, 0.0000],\n",
       "         [0.0000, 0.0000, 0.0000, 0.0000, 0.0000, 0.0000, 0.0000, 0.1569,\n",
       "          0.2392, 0.1725, 0.2824, 0.1608, 0.1373, 0.0000, 0.0000, 0.0000,\n",
       "          0.0000, 0.0000, 0.0000, 0.0000, 0.0000, 0.0000, 0.0000, 0.0000,\n",
       "          0.0000, 0.0000, 0.0000, 0.0000],\n",
       "         [0.0000, 0.0000, 0.0000, 0.0000, 0.0000, 0.0000, 0.0000, 0.0000,\n",
       "          0.0000, 0.0000, 0.0000, 0.0000, 0.0000, 0.0000, 0.0000, 0.0000,\n",
       "          0.0000, 0.0000, 0.0000, 0.0000, 0.0000, 0.0000, 0.0000, 0.0000,\n",
       "          0.0000, 0.0000, 0.0000, 0.0000],\n",
       "         [0.0000, 0.0000, 0.0000, 0.0000, 0.0000, 0.0000, 0.0000, 0.0000,\n",
       "          0.0000, 0.0000, 0.0000, 0.0000, 0.0000, 0.0000, 0.0000, 0.0000,\n",
       "          0.0000, 0.0000, 0.0000, 0.0000, 0.0000, 0.0000, 0.0000, 0.0000,\n",
       "          0.0000, 0.0000, 0.0000, 0.0000]]])"
      ]
     },
     "execution_count": 12,
     "metadata": {},
     "output_type": "execute_result"
    }
   ],
   "source": [
    "# Pytorch only want to deal with numeric array called \"tensors\", not images.\n",
    "# So, we need to transform the input\n",
    "image_to_tensor = torchvision.transforms.ToTensor()\n",
    "t = image_to_tensor(image)\n",
    "t"
   ]
  },
  {
   "cell_type": "code",
   "execution_count": 13,
   "id": "199069a5-2fe5-4ee9-bc6a-40332db52cbe",
   "metadata": {},
   "outputs": [
    {
     "data": {
      "text/plain": [
       "(torch.Size([1, 28, 28]), torch.float32)"
      ]
     },
     "execution_count": 13,
     "metadata": {},
     "output_type": "execute_result"
    }
   ],
   "source": [
    "t.shape, t.dtype"
   ]
  },
  {
   "cell_type": "code",
   "execution_count": 14,
   "id": "63bc73a5-dd37-45b9-89ab-34e3f10506e0",
   "metadata": {},
   "outputs": [
    {
     "data": {
      "image/png": "[encoded data removed]",
      "text/plain": [
       "<Figure size 640x480 with 2 Axes>"
      ]
     },
     "metadata": {},
     "output_type": "display_data"
    }
   ],
   "source": [
    "# No information has been lost in the conversion process!\n",
    "import matplotlib.pyplot as plt\n",
    "plt.imshow(t.squeeze(), cmap=\"grey\")\n",
    "plt.colorbar()\n",
    "None"
   ]
  },
  {
   "cell_type": "markdown",
   "id": "420ce320-c734-4ab8-a377-c4b9c235c54a",
   "metadata": {},
   "source": [
    "## Neural Network Model"
   ]
  },
  {
   "cell_type": "markdown",
   "id": "8fd85254-4940-4b62-8fee-56f4480ba11f",
   "metadata": {},
   "source": [
    "The model architecture is going to assign to each image input the vector of probability $p_i$ that the item belongs to the $i$th class.\n",
    "The class prediction is simply the class with the highest probability, but the fact that all $p_i$ are known allows us to evaluate the trust that we should have in the prediction.\n",
    "\n",
    "The nitty-gritty details: the model does actually not output the probabilities $p_i \\in [0, 1]$ directly but the corresponding unnormalized log probabilities\n",
    "    $$\n",
    "    \\ell_i := \\log p_i + c\n",
    "    $$\n",
    "because any value in $\\mathbb{R}^{10}$ can be interpreted as vector of unnormalized log probabilies, this parameter is \"free\", devoid of constraints, in $\\mathbb{R}^{10}$, so every possible output of or neural network is a valid value,\n",
    "while the vector of probabilities is constrained.\n",
    "\n",
    "If needed, compute $p_i$ with:\n",
    "    $$\n",
    "    p_i = \\frac{\\exp \\ell_i}{\\sum_{j=0}^{9} \\exp \\ell_j}.\n",
    "    $$\n",
    "The pytorch [`softmax`](https://pytorch.org/docs/stable/generated/torch.nn.functional.softmax.html) function implements this operation."
   ]
  },
  {
   "cell_type": "code",
   "execution_count": 15,
   "id": "543ed589-c9b9-4376-8ff5-ded427307b2e",
   "metadata": {},
   "outputs": [],
   "source": [
    "class NeuralNetwork(torch.nn.Module):\n",
    "    def __init__(self):\n",
    "        super().__init__()\n",
    "        self.flatten = torch.nn.Flatten()\n",
    "        self.linear_1 = torch.nn.Linear(28*28, 512)\n",
    "        self.relu_1 = torch.nn.ReLU()\n",
    "        self.linear_2 = torch.nn.Linear(512, 512)\n",
    "        self.relu_2 = torch.nn.ReLU()\n",
    "        self.linear_3 = torch.nn.Linear(512, 10)\n",
    "\n",
    "    def forward(self, image_tensor):\n",
    "        image_flat = self.flatten(image_tensor)\n",
    "        x_0 = image_flat\n",
    "        x_1 = self.linear_1(x_0)\n",
    "        x_1 = self.relu_1(x_1)\n",
    "        x_2 = self.linear_2(x_1)\n",
    "        x_2 = self.relu_2(x_2)\n",
    "        x_3 = self.linear_3(x_2)\n",
    "        logits = x_3\n",
    "        return logits"
   ]
  },
  {
   "cell_type": "code",
   "execution_count": 16,
   "id": "165d4e2f-41a4-4ee7-8d36-a5cb59275934",
   "metadata": {},
   "outputs": [
    {
     "data": {
      "text/plain": [
       "NeuralNetwork(\n",
       "  (flatten): Flatten(start_dim=1, end_dim=-1)\n",
       "  (linear_1): Linear(in_features=784, out_features=512, bias=True)\n",
       "  (relu_1): ReLU()\n",
       "  (linear_2): Linear(in_features=512, out_features=512, bias=True)\n",
       "  (relu_2): ReLU()\n",
       "  (linear_3): Linear(in_features=512, out_features=10, bias=True)\n",
       ")"
      ]
     },
     "execution_count": 16,
     "metadata": {},
     "output_type": "execute_result"
    }
   ],
   "source": [
    "model = NeuralNetwork()\n",
    "model"
   ]
  },
  {
   "cell_type": "code",
   "execution_count": 17,
   "id": "5b400bc3-b2c2-4dd2-96cc-0d0a157ee420",
   "metadata": {},
   "outputs": [
    {
     "data": {
      "text/plain": [
       "<All keys matched successfully>"
      ]
     },
     "execution_count": 17,
     "metadata": {},
     "output_type": "execute_result"
    }
   ],
   "source": [
    "# Load the (trained) model state for this architecture\n",
    "model.load_state_dict(torch.load(\"models/base-model.pth\"))"
   ]
  },
  {
   "cell_type": "code",
   "execution_count": 18,
   "id": "e5e0051c-f13d-41f9-a835-9fd2bcf92722",
   "metadata": {},
   "outputs": [
    {
     "data": {
      "image/png": "[encoded data removed]",
      "text/plain": [
       "<Figure size 640x480 with 1 Axes>"
      ]
     },
     "metadata": {},
     "output_type": "display_data"
    }
   ],
   "source": [
    "image_tensor, cls = training_data[0]\n",
    "plt.imshow(image_tensor.squeeze(), cmap=\"grey\")\n",
    "plt.grid(False)\n",
    "None"
   ]
  },
  {
   "cell_type": "code",
   "execution_count": 86,
   "id": "fb14044f-fbe2-4375-8890-66d9d8099e00",
   "metadata": {},
   "outputs": [
    {
     "data": {
      "text/plain": [
       "tensor([-5.0098, -6.9045, -5.7581, -6.5555, -3.8095,  8.2592, -4.7232,  8.2387,\n",
       "         4.5910, 13.0613])"
      ]
     },
     "execution_count": 86,
     "metadata": {},
     "output_type": "execute_result"
    }
   ],
   "source": [
    "with torch.no_grad():\n",
    "    logits = model(image_tensor)\n",
    "logits = logits.squeeze()\n",
    "logits"
   ]
  },
  {
   "cell_type": "code",
   "execution_count": 20,
   "id": "e8d92d7a-14dc-4b32-bd97-3e0a35e6fd06",
   "metadata": {},
   "outputs": [
    {
     "data": {
      "text/plain": [
       "tensor([8.0939e-07, 4.3064e-09, 1.0153e-05, 2.6920e-06, 3.0927e-05, 1.0618e-01,\n",
       "        2.1777e-05, 1.0155e-02, 2.1407e-02, 8.6219e-01])"
      ]
     },
     "execution_count": 20,
     "metadata": {},
     "output_type": "execute_result"
    }
   ],
   "source": [
    "probas = torch.nn.functional.softmax(logits, dim=-1)\n",
    "probas"
   ]
  },
  {
   "cell_type": "code",
   "execution_count": 21,
   "id": "21e172fc-3bec-4385-86af-3d405d795484",
   "metadata": {},
   "outputs": [
    {
     "data": {
      "text/plain": [
       "{'T-shirt/top': 8.093874157566461e-07,\n",
       " 'Trouser': 4.306432099809854e-09,\n",
       " 'Pullover': 1.0152617505809758e-05,\n",
       " 'Dress': 2.691969712032005e-06,\n",
       " 'Coat': 3.0927330954000354e-05,\n",
       " 'Sandal': 0.10618074238300323,\n",
       " 'Shirt': 2.177722126361914e-05,\n",
       " 'Sneaker': 0.010154898278415203,\n",
       " 'Bag': 0.021406900137662888,\n",
       " 'Ankle boot': 0.8621910810470581}"
      ]
     },
     "execution_count": 21,
     "metadata": {},
     "output_type": "execute_result"
    }
   ],
   "source": [
    "probas_dict = {training_data.classes[i]: p.item() for i, p in enumerate(probas)}\n",
    "probas_dict"
   ]
  },
  {
   "cell_type": "code",
   "execution_count": 22,
   "id": "a92df69a-2a54-492d-9aee-dc31ec768d99",
   "metadata": {},
   "outputs": [
    {
     "data": {
      "image/png": "[encoded data removed]",
      "text/plain": [
       "<Figure size 1200x480 with 1 Axes>"
      ]
     },
     "metadata": {},
     "output_type": "display_data"
    }
   ],
   "source": [
    "import seaborn as sns; sns.set_theme()\n",
    "sns.barplot(probas_dict)\n",
    "plt.gcf().set_figwidth(12)\n",
    "plt.gca().set_ylabel(\"Probability\")\n",
    "None"
   ]
  },
  {
   "cell_type": "markdown",
   "id": "ef30b003-bc99-4d05-bd2d-b8be8c6fc425",
   "metadata": {},
   "source": [
    "### Batched Prediction"
   ]
  },
  {
   "cell_type": "code",
   "execution_count": 81,
   "id": "c595081a-d6f4-4e60-918b-67cb6c1f1b0f",
   "metadata": {},
   "outputs": [
    {
     "data": {
      "text/plain": [
       "tensor([[[0.0000, 0.0000, 0.0000,  ..., 0.0000, 0.0000, 0.0000],\n",
       "         [0.0000, 0.0000, 0.0000,  ..., 0.0000, 0.0000, 0.0000],\n",
       "         [0.0000, 0.0000, 0.0000,  ..., 0.0000, 0.0000, 0.0000],\n",
       "         ...,\n",
       "         [0.0000, 0.0000, 0.0000,  ..., 0.0000, 0.0000, 0.0000],\n",
       "         [0.0000, 0.0000, 0.0000,  ..., 0.0000, 0.0000, 0.0000],\n",
       "         [0.0000, 0.0000, 0.0000,  ..., 0.0000, 0.0000, 0.0000]],\n",
       "\n",
       "        [[0.0000, 0.0000, 0.0000,  ..., 0.0000, 0.0000, 0.0000],\n",
       "         [0.0000, 0.0000, 0.0000,  ..., 0.0000, 0.0000, 0.0000],\n",
       "         [0.0000, 0.0000, 0.0000,  ..., 0.0000, 0.0000, 0.0000],\n",
       "         ...,\n",
       "         [0.0000, 0.0000, 0.0000,  ..., 0.0000, 0.0000, 0.0000],\n",
       "         [0.0000, 0.0000, 0.0000,  ..., 0.0000, 0.0000, 0.0000],\n",
       "         [0.0000, 0.0000, 0.0000,  ..., 0.0000, 0.0000, 0.0000]],\n",
       "\n",
       "        [[0.0000, 0.0000, 0.0000,  ..., 0.0000, 0.0000, 0.0000],\n",
       "         [0.0000, 0.0000, 0.0000,  ..., 0.0000, 0.0000, 0.0000],\n",
       "         [0.0000, 0.0000, 0.0000,  ..., 0.0000, 0.0000, 0.0000],\n",
       "         ...,\n",
       "         [0.0000, 0.0000, 0.0000,  ..., 0.0000, 0.0000, 0.0000],\n",
       "         [0.0000, 0.0000, 0.0000,  ..., 0.0000, 0.0000, 0.0000],\n",
       "         [0.0000, 0.0000, 0.0000,  ..., 0.0000, 0.0000, 0.0000]],\n",
       "\n",
       "        ...,\n",
       "\n",
       "        [[0.0000, 0.0000, 0.0000,  ..., 0.0000, 0.0000, 0.0000],\n",
       "         [0.0000, 0.0000, 0.0000,  ..., 0.0000, 0.0000, 0.0000],\n",
       "         [0.0000, 0.0000, 0.0000,  ..., 0.0000, 0.0000, 0.0000],\n",
       "         ...,\n",
       "         [0.0000, 0.0000, 0.0000,  ..., 0.7059, 0.0000, 0.0000],\n",
       "         [0.0000, 0.0000, 0.0000,  ..., 0.2824, 0.0000, 0.0000],\n",
       "         [0.0000, 0.0000, 0.0000,  ..., 0.2745, 0.0000, 0.0000]],\n",
       "\n",
       "        [[0.0000, 0.0000, 0.0000,  ..., 0.0000, 0.0000, 0.0000],\n",
       "         [0.0000, 0.0000, 0.0000,  ..., 0.0000, 0.0000, 0.0000],\n",
       "         [0.0000, 0.0000, 0.0000,  ..., 0.1529, 0.0039, 0.0000],\n",
       "         ...,\n",
       "         [0.0000, 0.0000, 0.0000,  ..., 0.9333, 0.0000, 0.0000],\n",
       "         [0.0000, 0.0000, 0.0000,  ..., 0.5137, 0.0000, 0.0000],\n",
       "         [0.0000, 0.0000, 0.0000,  ..., 0.0000, 0.0000, 0.0000]],\n",
       "\n",
       "        [[0.0000, 0.0000, 0.0000,  ..., 0.0000, 0.0000, 0.0000],\n",
       "         [0.0000, 0.0000, 0.0000,  ..., 0.0000, 0.0000, 0.0000],\n",
       "         [0.0000, 0.0000, 0.0000,  ..., 0.0275, 0.0000, 0.0000],\n",
       "         ...,\n",
       "         [0.0000, 0.0000, 0.0000,  ..., 0.0000, 0.0353, 0.0000],\n",
       "         [0.0000, 0.0000, 0.0000,  ..., 0.0000, 0.0118, 0.0000],\n",
       "         [0.0000, 0.0000, 0.0000,  ..., 0.0000, 0.0000, 0.0000]]])"
      ]
     },
     "execution_count": 81,
     "metadata": {},
     "output_type": "execute_result"
    }
   ],
   "source": [
    "images = []\n",
    "for i, (image, _) in enumerate(training_data):\n",
    "    if i >= 10:\n",
    "        break\n",
    "    images.append(image)\n",
    "images_tensor = torch.cat(images)\n",
    "images_tensor"
   ]
  },
  {
   "cell_type": "code",
   "execution_count": 85,
   "id": "2dfa857d-286b-43fa-a845-5d587a0f6783",
   "metadata": {},
   "outputs": [
    {
     "data": {
      "text/plain": [
       "tensor([[ -5.0098,  -6.9045,  -5.7581,  -6.5555,  -3.8095,   8.2592,  -4.7232,\n",
       "           8.2387,   4.5910,  13.0613],\n",
       "        [ 13.2679,  -0.2590,   6.0235,   6.0931,  -0.6164,  -8.7820,   9.4116,\n",
       "         -15.4555,   1.4393,  -7.7494],\n",
       "        [  2.3625,   2.8809,   1.3259,   3.0747,   1.6546,  -3.2200,   1.5435,\n",
       "          -3.7435,  -1.3179,  -3.1827],\n",
       "        [  5.3274,   3.7790,   3.8660,   4.4635,   1.9559,  -5.5573,   3.9970,\n",
       "          -8.0819,  -1.3923,  -6.1908],\n",
       "        [  4.6780,   5.4077,   1.4708,   7.3867,   2.5110,  -7.7163,   1.7578,\n",
       "          -6.4822,  -0.6809,  -5.6036],\n",
       "        [  3.6292,   2.9155,   9.8322,   2.3858,   5.9549,  -4.4987,   6.1688,\n",
       "         -13.5867,   1.1669,  -9.9658],\n",
       "        [ -4.4626,  -2.6850,  -4.0493,  -3.8174,  -2.2163,   7.0781,  -4.3375,\n",
       "           9.3105,   1.9777,   4.0626],\n",
       "        [  2.2398,   1.9593,   9.5340,  -0.2489,   9.1338,  -4.6909,   7.2406,\n",
       "         -13.9914,   3.4920,  -9.4693],\n",
       "        [ -0.5928,  -2.7863,  -1.7774,  -1.5365,  -2.5420,   5.8538,  -0.5930,\n",
       "           0.7785,   1.2340,   1.8614],\n",
       "        [ -1.9596,  -5.2132,  -1.9861,  -3.5518,  -2.6965,   9.3391,  -0.4377,\n",
       "           0.5055,   3.6858,   2.3940]])"
      ]
     },
     "execution_count": 85,
     "metadata": {},
     "output_type": "execute_result"
    }
   ],
   "source": [
    "with torch.no_grad():\n",
    "    output = model(images_tensor)\n",
    "output"
   ]
  },
  {
   "cell_type": "markdown",
   "id": "87a4f282-7864-4344-ab7b-0e9a6046e41b",
   "metadata": {},
   "source": [
    "### Parameters"
   ]
  },
  {
   "cell_type": "code",
   "execution_count": 69,
   "id": "4cf4e731-a71b-4956-aecd-83ba9e2a2e38",
   "metadata": {},
   "outputs": [
    {
     "name": "stdout",
     "output_type": "stream",
     "text": [
      "type: Tensor, shape: (512, 784), data type: torch.float32\n",
      "type: Tensor, shape: (512,)    , data type: torch.float32\n",
      "type: Tensor, shape: (512, 512), data type: torch.float32\n",
      "type: Tensor, shape: (512,)    , data type: torch.float32\n",
      "type: Tensor, shape: (10, 512) , data type: torch.float32\n",
      "type: Tensor, shape: (10,)     , data type: torch.float32\n"
     ]
    }
   ],
   "source": [
    "for p in model.parameters():\n",
    "    print(f\"type: {type(p.data).__name__}, shape: {tuple(p.shape)!s:<10}, data type: {p.dtype}\")"
   ]
  },
  {
   "cell_type": "markdown",
   "id": "2476ad61-4fe6-4ea0-913e-ec9edde2f0be",
   "metadata": {},
   "source": [
    "```{tip} Model Size\n",
    "How many scalar parameters describe the model? What is the corresponding model size in MB?\n",
    "```"
   ]
  },
  {
   "cell_type": "code",
   "execution_count": 70,
   "id": "d7577531-3619-44b2-8447-2b7b57f1b9b0",
   "metadata": {},
   "outputs": [],
   "source": [
    "num_params = 0\n",
    "for p in model.parameters():\n",
    "    num_params += torch.prod(torch.tensor(p.shape)).item()"
   ]
  },
  {
   "cell_type": "markdown",
   "id": "0ad32eff-2569-4977-b77f-5e60c3f60a09",
   "metadata": {
    "user_expressions": [
     {
      "expression": "num_params",
      "result": {
       "data": {
        "text/plain": "669706"
       },
       "metadata": {},
       "status": "ok"
      }
     },
     {
      "expression": "num_params // 1_000",
      "result": {
       "data": {
        "text/plain": "669"
       },
       "metadata": {},
       "status": "ok"
      }
     },
     {
      "expression": "round(num_params * 4 / 1_000_000, 1)",
      "result": {
       "data": {
        "text/plain": "2.7"
       },
       "metadata": {},
       "status": "ok"
      }
     }
    ]
   },
   "source": [
    "There are {eval}`num_params` ($\\approx$ {eval}`num_params // 1_000`K) parameters in the model. The size of each parameter is 4B, hence the total size is {eval}`round(num_params * 4 / 1_000_000, 1)`MB."
   ]
  },
  {
   "cell_type": "markdown",
   "id": "c682f9e5-5e11-4f7e-82c5-8b2de119b63f",
   "metadata": {},
   "source": [
    "### Predictor"
   ]
  },
  {
   "cell_type": "code",
   "execution_count": 25,
   "id": "73a764e4-ead4-469e-8f4f-ea3824bbfe60",
   "metadata": {},
   "outputs": [
    {
     "data": {
      "text/plain": [
       "tensor([[ -5.0635, -10.2997,  -2.5343,  -3.8617,  -1.4204,   6.7209,  -1.7712,\n",
       "           4.3737,   5.1194,   8.8152]])"
      ]
     },
     "execution_count": 25,
     "metadata": {},
     "output_type": "execute_result"
    }
   ],
   "source": [
    "with torch.no_grad():\n",
    "    to_tensor = torchvision.transforms.ToTensor()\n",
    "    input = to_tensor(image)\n",
    "    output = model(input)\n",
    "output"
   ]
  },
  {
   "cell_type": "code",
   "execution_count": 26,
   "id": "a04ed00e-a735-4af5-86b6-ab01c35d7dd0",
   "metadata": {},
   "outputs": [
    {
     "data": {
      "text/plain": [
       "tensor([8.0939e-07, 4.3064e-09, 1.0153e-05, 2.6920e-06, 3.0927e-05, 1.0618e-01,\n",
       "        2.1777e-05, 1.0155e-02, 2.1407e-02, 8.6219e-01])"
      ]
     },
     "execution_count": 26,
     "metadata": {},
     "output_type": "execute_result"
    }
   ],
   "source": [
    "logits = output.data\n",
    "probas = torch.nn.functional.softmax(logits, dim=-1)\n",
    "probas = probas.squeeze()\n",
    "probas"
   ]
  },
  {
   "cell_type": "code",
   "execution_count": 27,
   "id": "a9890cb8-a0ba-4859-a3c9-86dc21652f49",
   "metadata": {},
   "outputs": [
    {
     "data": {
      "image/png": "[encoded data removed]",
      "text/plain": [
       "<Figure size 1200x480 with 1 Axes>"
      ]
     },
     "metadata": {},
     "output_type": "display_data"
    }
   ],
   "source": [
    "import seaborn as sns; sns.set_theme()\n",
    "probas_dict = {training_data.classes[i]: p.item() for i, p in enumerate(probas)}\n",
    "sns.barplot(probas_dict)\n",
    "plt.gcf().set_figwidth(12)\n",
    "plt.gca().set_ylabel(\"Probability\")\n",
    "None"
   ]
  },
  {
   "cell_type": "code",
   "execution_count": 28,
   "id": "377fd95f-2ab6-4bb5-a7ca-7caa1e8f078f",
   "metadata": {},
   "outputs": [],
   "source": [
    "def prediction(image):\n",
    "    to_tensor = torchvision.transforms.ToTensor()\n",
    "    model.eval()\n",
    "    with torch.no_grad():\n",
    "        input = to_tensor(image)\n",
    "        output = model(input)\n",
    "    logits = output.data.squeeze()\n",
    "    probas = torch.nn.functional.softmax(logits, dim=-1)\n",
    "    class_proba = {training_data.classes[i]: p.item() for i, p in enumerate(probas)}\n",
    "    key = max(class_proba, key=class_proba.get)\n",
    "    return key"
   ]
  },
  {
   "cell_type": "code",
   "execution_count": 29,
   "id": "1b44433c-5d26-407a-a64b-883c06ee6a59",
   "metadata": {},
   "outputs": [
    {
     "data": {
      "text/plain": [
       "('Ankle boot',\n",
       " {'T-shirt/top': 8.093874157566461e-07,\n",
       "  'Trouser': 4.306432099809854e-09,\n",
       "  'Pullover': 1.0152617505809758e-05,\n",
       "  'Dress': 2.691969712032005e-06,\n",
       "  'Coat': 3.0927330954000354e-05,\n",
       "  'Sandal': 0.10618074238300323,\n",
       "  'Shirt': 2.177722126361914e-05,\n",
       "  'Sneaker': 0.010154898278415203,\n",
       "  'Bag': 0.021406900137662888,\n",
       "  'Ankle boot': 0.8621910810470581})"
      ]
     },
     "execution_count": 29,
     "metadata": {},
     "output_type": "execute_result"
    }
   ],
   "source": [
    "prediction(image)"
   ]
  },
  {
   "cell_type": "markdown",
   "id": "f81e5757-0ecf-4e55-8cc5-3c177928ea41",
   "metadata": {},
   "source": [
    "### Under the Hood"
   ]
  },
  {
   "cell_type": "markdown",
   "id": "62116792-d3af-4ee5-8fbe-39e0e33b6334",
   "metadata": {},
   "source": [
    "#### Flatten"
   ]
  },
  {
   "cell_type": "code",
   "execution_count": 30,
   "id": "89a01b45-d85b-4789-bc3d-c72b49c5950a",
   "metadata": {},
   "outputs": [
    {
     "data": {
      "text/plain": [
       "Flatten(start_dim=1, end_dim=-1)"
      ]
     },
     "execution_count": 30,
     "metadata": {},
     "output_type": "execute_result"
    }
   ],
   "source": [
    "model.flatten"
   ]
  },
  {
   "cell_type": "code",
   "execution_count": 31,
   "id": "c8a39cf1-aa35-45b8-ad37-15db36f4de6e",
   "metadata": {},
   "outputs": [
    {
     "data": {
      "image/jpeg": "[encoded data removed]",
      "image/png": "[encoded data removed]",
      "text/plain": [
       "<PIL.Image.Image image mode=L size=28x28>"
      ]
     },
     "execution_count": 31,
     "metadata": {},
     "output_type": "execute_result"
    }
   ],
   "source": [
    "image"
   ]
  },
  {
   "cell_type": "code",
   "execution_count": 32,
   "id": "d8fdafdc-c5d2-4e4f-9bfe-7162bb04e282",
   "metadata": {},
   "outputs": [
    {
     "data": {
      "text/plain": [
       "tensor([[[0.0000, 0.0000, 0.0000, 0.0000, 0.0000, 0.0000, 0.0000, 0.0000,\n",
       "          0.0000, 0.0000, 0.0000, 0.0000, 0.0000, 0.0000, 0.0000, 0.0000,\n",
       "          0.0000, 0.0000, 0.0000, 0.0000, 0.0000, 0.0000, 0.0000, 0.0000,\n",
       "          0.0000, 0.0000, 0.0000, 0.0000],\n",
       "         [0.0000, 0.0000, 0.0000, 0.0000, 0.0000, 0.0000, 0.0000, 0.0000,\n",
       "          0.0000, 0.0000, 0.0000, 0.0000, 0.0000, 0.0000, 0.0000, 0.0000,\n",
       "          0.0000, 0.0000, 0.0000, 0.0000, 0.0000, 0.0000, 0.0000, 0.0000,\n",
       "          0.0000, 0.0000, 0.0000, 0.0000],\n",
       "         [0.0000, 0.0000, 0.0000, 0.0000, 0.0000, 0.0000, 0.0000, 0.0000,\n",
       "          0.0000, 0.0000, 0.0000, 0.0000, 0.0000, 0.0000, 0.0000, 0.0000,\n",
       "          0.0000, 0.0000, 0.0000, 0.0000, 0.0000, 0.0000, 0.0000, 0.0000,\n",
       "          0.0000, 0.0000, 0.0000, 0.0000],\n",
       "         [0.0000, 0.0000, 0.0000, 0.0000, 0.0000, 0.0000, 0.0000, 0.0000,\n",
       "          0.0000, 0.0000, 0.0000, 0.0000, 0.0039, 0.0000, 0.0000, 0.0510,\n",
       "          0.2863, 0.0000, 0.0000, 0.0039, 0.0157, 0.0000, 0.0000, 0.0000,\n",
       "          0.0000, 0.0039, 0.0039, 0.0000],\n",
       "         [0.0000, 0.0000, 0.0000, 0.0000, 0.0000, 0.0000, 0.0000, 0.0000,\n",
       "          0.0000, 0.0000, 0.0000, 0.0000, 0.0118, 0.0000, 0.1412, 0.5333,\n",
       "          0.4980, 0.2431, 0.2118, 0.0000, 0.0000, 0.0000, 0.0039, 0.0118,\n",
       "          0.0157, 0.0000, 0.0000, 0.0118],\n",
       "         [0.0000, 0.0000, 0.0000, 0.0000, 0.0000, 0.0000, 0.0000, 0.0000,\n",
       "          0.0000, 0.0000, 0.0000, 0.0000, 0.0235, 0.0000, 0.4000, 0.8000,\n",
       "          0.6902, 0.5255, 0.5647, 0.4824, 0.0902, 0.0000, 0.0000, 0.0000,\n",
       "          0.0000, 0.0471, 0.0392, 0.0000],\n",
       "         [0.0000, 0.0000, 0.0000, 0.0000, 0.0000, 0.0000, 0.0000, 0.0000,\n",
       "          0.0000, 0.0000, 0.0000, 0.0000, 0.0000, 0.0000, 0.6078, 0.9255,\n",
       "          0.8118, 0.6980, 0.4196, 0.6118, 0.6314, 0.4275, 0.2510, 0.0902,\n",
       "          0.3020, 0.5098, 0.2824, 0.0588],\n",
       "         [0.0000, 0.0000, 0.0000, 0.0000, 0.0000, 0.0000, 0.0000, 0.0000,\n",
       "          0.0000, 0.0000, 0.0000, 0.0039, 0.0000, 0.2706, 0.8118, 0.8745,\n",
       "          0.8549, 0.8471, 0.8471, 0.6392, 0.4980, 0.4745, 0.4784, 0.5725,\n",
       "          0.5529, 0.3451, 0.6745, 0.2588],\n",
       "         [0.0000, 0.0000, 0.0000, 0.0000, 0.0000, 0.0000, 0.0000, 0.0000,\n",
       "          0.0000, 0.0039, 0.0039, 0.0039, 0.0000, 0.7843, 0.9098, 0.9098,\n",
       "          0.9137, 0.8980, 0.8745, 0.8745, 0.8431, 0.8353, 0.6431, 0.4980,\n",
       "          0.4824, 0.7686, 0.8980, 0.0000],\n",
       "         [0.0000, 0.0000, 0.0000, 0.0000, 0.0000, 0.0000, 0.0000, 0.0000,\n",
       "          0.0000, 0.0000, 0.0000, 0.0000, 0.0000, 0.7176, 0.8824, 0.8471,\n",
       "          0.8745, 0.8941, 0.9216, 0.8902, 0.8784, 0.8706, 0.8784, 0.8667,\n",
       "          0.8745, 0.9608, 0.6784, 0.0000],\n",
       "         [0.0000, 0.0000, 0.0000, 0.0000, 0.0000, 0.0000, 0.0000, 0.0000,\n",
       "          0.0000, 0.0000, 0.0000, 0.0000, 0.0000, 0.7569, 0.8941, 0.8549,\n",
       "          0.8353, 0.7765, 0.7059, 0.8314, 0.8235, 0.8275, 0.8353, 0.8745,\n",
       "          0.8627, 0.9529, 0.7922, 0.0000],\n",
       "         [0.0000, 0.0000, 0.0000, 0.0000, 0.0000, 0.0000, 0.0000, 0.0000,\n",
       "          0.0000, 0.0039, 0.0118, 0.0000, 0.0471, 0.8588, 0.8627, 0.8314,\n",
       "          0.8549, 0.7529, 0.6627, 0.8902, 0.8157, 0.8549, 0.8784, 0.8314,\n",
       "          0.8863, 0.7725, 0.8196, 0.2039],\n",
       "         [0.0000, 0.0000, 0.0000, 0.0000, 0.0000, 0.0000, 0.0000, 0.0000,\n",
       "          0.0000, 0.0000, 0.0235, 0.0000, 0.3882, 0.9569, 0.8706, 0.8627,\n",
       "          0.8549, 0.7961, 0.7765, 0.8667, 0.8431, 0.8353, 0.8706, 0.8627,\n",
       "          0.9608, 0.4667, 0.6549, 0.2196],\n",
       "         [0.0000, 0.0000, 0.0000, 0.0000, 0.0000, 0.0000, 0.0000, 0.0000,\n",
       "          0.0000, 0.0157, 0.0000, 0.0000, 0.2157, 0.9255, 0.8941, 0.9020,\n",
       "          0.8941, 0.9412, 0.9098, 0.8353, 0.8549, 0.8745, 0.9176, 0.8510,\n",
       "          0.8510, 0.8196, 0.3608, 0.0000],\n",
       "         [0.0000, 0.0000, 0.0039, 0.0157, 0.0235, 0.0275, 0.0078, 0.0000,\n",
       "          0.0000, 0.0000, 0.0000, 0.0000, 0.9294, 0.8863, 0.8510, 0.8745,\n",
       "          0.8706, 0.8588, 0.8706, 0.8667, 0.8471, 0.8745, 0.8980, 0.8431,\n",
       "          0.8549, 1.0000, 0.3020, 0.0000],\n",
       "         [0.0000, 0.0118, 0.0000, 0.0000, 0.0000, 0.0000, 0.0000, 0.0000,\n",
       "          0.0000, 0.2431, 0.5686, 0.8000, 0.8941, 0.8118, 0.8353, 0.8667,\n",
       "          0.8549, 0.8157, 0.8275, 0.8549, 0.8784, 0.8745, 0.8588, 0.8431,\n",
       "          0.8784, 0.9569, 0.6235, 0.0000],\n",
       "         [0.0000, 0.0000, 0.0000, 0.0000, 0.0706, 0.1725, 0.3216, 0.4196,\n",
       "          0.7412, 0.8941, 0.8627, 0.8706, 0.8510, 0.8863, 0.7843, 0.8039,\n",
       "          0.8275, 0.9020, 0.8784, 0.9176, 0.6902, 0.7373, 0.9804, 0.9725,\n",
       "          0.9137, 0.9333, 0.8431, 0.0000],\n",
       "         [0.0000, 0.2235, 0.7333, 0.8157, 0.8784, 0.8667, 0.8784, 0.8157,\n",
       "          0.8000, 0.8392, 0.8157, 0.8196, 0.7843, 0.6235, 0.9608, 0.7569,\n",
       "          0.8078, 0.8745, 1.0000, 1.0000, 0.8667, 0.9176, 0.8667, 0.8275,\n",
       "          0.8627, 0.9098, 0.9647, 0.0000],\n",
       "         [0.0118, 0.7922, 0.8941, 0.8784, 0.8667, 0.8275, 0.8275, 0.8392,\n",
       "          0.8039, 0.8039, 0.8039, 0.8627, 0.9412, 0.3137, 0.5882, 1.0000,\n",
       "          0.8980, 0.8667, 0.7373, 0.6039, 0.7490, 0.8235, 0.8000, 0.8196,\n",
       "          0.8706, 0.8941, 0.8824, 0.0000],\n",
       "         [0.3843, 0.9137, 0.7765, 0.8235, 0.8706, 0.8980, 0.8980, 0.9176,\n",
       "          0.9765, 0.8627, 0.7608, 0.8431, 0.8510, 0.9451, 0.2549, 0.2863,\n",
       "          0.4157, 0.4588, 0.6588, 0.8588, 0.8667, 0.8431, 0.8510, 0.8745,\n",
       "          0.8745, 0.8784, 0.8980, 0.1137],\n",
       "         [0.2941, 0.8000, 0.8314, 0.8000, 0.7569, 0.8039, 0.8275, 0.8824,\n",
       "          0.8471, 0.7255, 0.7725, 0.8078, 0.7765, 0.8353, 0.9412, 0.7647,\n",
       "          0.8902, 0.9608, 0.9373, 0.8745, 0.8549, 0.8314, 0.8196, 0.8706,\n",
       "          0.8627, 0.8667, 0.9020, 0.2627],\n",
       "         [0.1882, 0.7961, 0.7176, 0.7608, 0.8353, 0.7725, 0.7255, 0.7451,\n",
       "          0.7608, 0.7529, 0.7922, 0.8392, 0.8588, 0.8667, 0.8627, 0.9255,\n",
       "          0.8824, 0.8471, 0.7804, 0.8078, 0.7294, 0.7098, 0.6941, 0.6745,\n",
       "          0.7098, 0.8039, 0.8078, 0.4510],\n",
       "         [0.0000, 0.4784, 0.8588, 0.7569, 0.7020, 0.6706, 0.7176, 0.7686,\n",
       "          0.8000, 0.8235, 0.8353, 0.8118, 0.8275, 0.8235, 0.7843, 0.7686,\n",
       "          0.7608, 0.7490, 0.7647, 0.7490, 0.7765, 0.7529, 0.6902, 0.6118,\n",
       "          0.6549, 0.6941, 0.8235, 0.3608],\n",
       "         [0.0000, 0.0000, 0.2902, 0.7412, 0.8314, 0.7490, 0.6863, 0.6745,\n",
       "          0.6863, 0.7098, 0.7255, 0.7373, 0.7412, 0.7373, 0.7569, 0.7765,\n",
       "          0.8000, 0.8196, 0.8235, 0.8235, 0.8275, 0.7373, 0.7373, 0.7608,\n",
       "          0.7529, 0.8471, 0.6667, 0.0000],\n",
       "         [0.0078, 0.0000, 0.0000, 0.0000, 0.2588, 0.7843, 0.8706, 0.9294,\n",
       "          0.9373, 0.9490, 0.9647, 0.9529, 0.9569, 0.8667, 0.8627, 0.7569,\n",
       "          0.7490, 0.7020, 0.7137, 0.7137, 0.7098, 0.6902, 0.6510, 0.6588,\n",
       "          0.3882, 0.2275, 0.0000, 0.0000],\n",
       "         [0.0000, 0.0000, 0.0000, 0.0000, 0.0000, 0.0000, 0.0000, 0.1569,\n",
       "          0.2392, 0.1725, 0.2824, 0.1608, 0.1373, 0.0000, 0.0000, 0.0000,\n",
       "          0.0000, 0.0000, 0.0000, 0.0000, 0.0000, 0.0000, 0.0000, 0.0000,\n",
       "          0.0000, 0.0000, 0.0000, 0.0000],\n",
       "         [0.0000, 0.0000, 0.0000, 0.0000, 0.0000, 0.0000, 0.0000, 0.0000,\n",
       "          0.0000, 0.0000, 0.0000, 0.0000, 0.0000, 0.0000, 0.0000, 0.0000,\n",
       "          0.0000, 0.0000, 0.0000, 0.0000, 0.0000, 0.0000, 0.0000, 0.0000,\n",
       "          0.0000, 0.0000, 0.0000, 0.0000],\n",
       "         [0.0000, 0.0000, 0.0000, 0.0000, 0.0000, 0.0000, 0.0000, 0.0000,\n",
       "          0.0000, 0.0000, 0.0000, 0.0000, 0.0000, 0.0000, 0.0000, 0.0000,\n",
       "          0.0000, 0.0000, 0.0000, 0.0000, 0.0000, 0.0000, 0.0000, 0.0000,\n",
       "          0.0000, 0.0000, 0.0000, 0.0000]]])"
      ]
     },
     "execution_count": 32,
     "metadata": {},
     "output_type": "execute_result"
    }
   ],
   "source": [
    "t = torchvision.transforms.ToTensor()(image)\n",
    "t"
   ]
  },
  {
   "cell_type": "code",
   "execution_count": 33,
   "id": "8ff5bc9d-a6a8-4b3b-b7a9-c5f3e7b790c5",
   "metadata": {},
   "outputs": [
    {
     "data": {
      "text/plain": [
       "tensor([[0.0000, 0.0000, 0.0000, 0.0000, 0.0000, 0.0000, 0.0000, 0.0000, 0.0000,\n",
       "         0.0000, 0.0000, 0.0000, 0.0000, 0.0000, 0.0000, 0.0000, 0.0000, 0.0000,\n",
       "         0.0000, 0.0000, 0.0000, 0.0000, 0.0000, 0.0000, 0.0000, 0.0000, 0.0000,\n",
       "         0.0000, 0.0000, 0.0000, 0.0000, 0.0000, 0.0000, 0.0000, 0.0000, 0.0000,\n",
       "         0.0000, 0.0000, 0.0000, 0.0000, 0.0000, 0.0000, 0.0000, 0.0000, 0.0000,\n",
       "         0.0000, 0.0000, 0.0000, 0.0000, 0.0000, 0.0000, 0.0000, 0.0000, 0.0000,\n",
       "         0.0000, 0.0000, 0.0000, 0.0000, 0.0000, 0.0000, 0.0000, 0.0000, 0.0000,\n",
       "         0.0000, 0.0000, 0.0000, 0.0000, 0.0000, 0.0000, 0.0000, 0.0000, 0.0000,\n",
       "         0.0000, 0.0000, 0.0000, 0.0000, 0.0000, 0.0000, 0.0000, 0.0000, 0.0000,\n",
       "         0.0000, 0.0000, 0.0000, 0.0000, 0.0000, 0.0000, 0.0000, 0.0000, 0.0000,\n",
       "         0.0000, 0.0000, 0.0000, 0.0000, 0.0000, 0.0000, 0.0039, 0.0000, 0.0000,\n",
       "         0.0510, 0.2863, 0.0000, 0.0000, 0.0039, 0.0157, 0.0000, 0.0000, 0.0000,\n",
       "         0.0000, 0.0039, 0.0039, 0.0000, 0.0000, 0.0000, 0.0000, 0.0000, 0.0000,\n",
       "         0.0000, 0.0000, 0.0000, 0.0000, 0.0000, 0.0000, 0.0000, 0.0118, 0.0000,\n",
       "         0.1412, 0.5333, 0.4980, 0.2431, 0.2118, 0.0000, 0.0000, 0.0000, 0.0039,\n",
       "         0.0118, 0.0157, 0.0000, 0.0000, 0.0118, 0.0000, 0.0000, 0.0000, 0.0000,\n",
       "         0.0000, 0.0000, 0.0000, 0.0000, 0.0000, 0.0000, 0.0000, 0.0000, 0.0235,\n",
       "         0.0000, 0.4000, 0.8000, 0.6902, 0.5255, 0.5647, 0.4824, 0.0902, 0.0000,\n",
       "         0.0000, 0.0000, 0.0000, 0.0471, 0.0392, 0.0000, 0.0000, 0.0000, 0.0000,\n",
       "         0.0000, 0.0000, 0.0000, 0.0000, 0.0000, 0.0000, 0.0000, 0.0000, 0.0000,\n",
       "         0.0000, 0.0000, 0.6078, 0.9255, 0.8118, 0.6980, 0.4196, 0.6118, 0.6314,\n",
       "         0.4275, 0.2510, 0.0902, 0.3020, 0.5098, 0.2824, 0.0588, 0.0000, 0.0000,\n",
       "         0.0000, 0.0000, 0.0000, 0.0000, 0.0000, 0.0000, 0.0000, 0.0000, 0.0000,\n",
       "         0.0039, 0.0000, 0.2706, 0.8118, 0.8745, 0.8549, 0.8471, 0.8471, 0.6392,\n",
       "         0.4980, 0.4745, 0.4784, 0.5725, 0.5529, 0.3451, 0.6745, 0.2588, 0.0000,\n",
       "         0.0000, 0.0000, 0.0000, 0.0000, 0.0000, 0.0000, 0.0000, 0.0000, 0.0039,\n",
       "         0.0039, 0.0039, 0.0000, 0.7843, 0.9098, 0.9098, 0.9137, 0.8980, 0.8745,\n",
       "         0.8745, 0.8431, 0.8353, 0.6431, 0.4980, 0.4824, 0.7686, 0.8980, 0.0000,\n",
       "         0.0000, 0.0000, 0.0000, 0.0000, 0.0000, 0.0000, 0.0000, 0.0000, 0.0000,\n",
       "         0.0000, 0.0000, 0.0000, 0.0000, 0.7176, 0.8824, 0.8471, 0.8745, 0.8941,\n",
       "         0.9216, 0.8902, 0.8784, 0.8706, 0.8784, 0.8667, 0.8745, 0.9608, 0.6784,\n",
       "         0.0000, 0.0000, 0.0000, 0.0000, 0.0000, 0.0000, 0.0000, 0.0000, 0.0000,\n",
       "         0.0000, 0.0000, 0.0000, 0.0000, 0.0000, 0.7569, 0.8941, 0.8549, 0.8353,\n",
       "         0.7765, 0.7059, 0.8314, 0.8235, 0.8275, 0.8353, 0.8745, 0.8627, 0.9529,\n",
       "         0.7922, 0.0000, 0.0000, 0.0000, 0.0000, 0.0000, 0.0000, 0.0000, 0.0000,\n",
       "         0.0000, 0.0000, 0.0039, 0.0118, 0.0000, 0.0471, 0.8588, 0.8627, 0.8314,\n",
       "         0.8549, 0.7529, 0.6627, 0.8902, 0.8157, 0.8549, 0.8784, 0.8314, 0.8863,\n",
       "         0.7725, 0.8196, 0.2039, 0.0000, 0.0000, 0.0000, 0.0000, 0.0000, 0.0000,\n",
       "         0.0000, 0.0000, 0.0000, 0.0000, 0.0235, 0.0000, 0.3882, 0.9569, 0.8706,\n",
       "         0.8627, 0.8549, 0.7961, 0.7765, 0.8667, 0.8431, 0.8353, 0.8706, 0.8627,\n",
       "         0.9608, 0.4667, 0.6549, 0.2196, 0.0000, 0.0000, 0.0000, 0.0000, 0.0000,\n",
       "         0.0000, 0.0000, 0.0000, 0.0000, 0.0157, 0.0000, 0.0000, 0.2157, 0.9255,\n",
       "         0.8941, 0.9020, 0.8941, 0.9412, 0.9098, 0.8353, 0.8549, 0.8745, 0.9176,\n",
       "         0.8510, 0.8510, 0.8196, 0.3608, 0.0000, 0.0000, 0.0000, 0.0039, 0.0157,\n",
       "         0.0235, 0.0275, 0.0078, 0.0000, 0.0000, 0.0000, 0.0000, 0.0000, 0.9294,\n",
       "         0.8863, 0.8510, 0.8745, 0.8706, 0.8588, 0.8706, 0.8667, 0.8471, 0.8745,\n",
       "         0.8980, 0.8431, 0.8549, 1.0000, 0.3020, 0.0000, 0.0000, 0.0118, 0.0000,\n",
       "         0.0000, 0.0000, 0.0000, 0.0000, 0.0000, 0.0000, 0.2431, 0.5686, 0.8000,\n",
       "         0.8941, 0.8118, 0.8353, 0.8667, 0.8549, 0.8157, 0.8275, 0.8549, 0.8784,\n",
       "         0.8745, 0.8588, 0.8431, 0.8784, 0.9569, 0.6235, 0.0000, 0.0000, 0.0000,\n",
       "         0.0000, 0.0000, 0.0706, 0.1725, 0.3216, 0.4196, 0.7412, 0.8941, 0.8627,\n",
       "         0.8706, 0.8510, 0.8863, 0.7843, 0.8039, 0.8275, 0.9020, 0.8784, 0.9176,\n",
       "         0.6902, 0.7373, 0.9804, 0.9725, 0.9137, 0.9333, 0.8431, 0.0000, 0.0000,\n",
       "         0.2235, 0.7333, 0.8157, 0.8784, 0.8667, 0.8784, 0.8157, 0.8000, 0.8392,\n",
       "         0.8157, 0.8196, 0.7843, 0.6235, 0.9608, 0.7569, 0.8078, 0.8745, 1.0000,\n",
       "         1.0000, 0.8667, 0.9176, 0.8667, 0.8275, 0.8627, 0.9098, 0.9647, 0.0000,\n",
       "         0.0118, 0.7922, 0.8941, 0.8784, 0.8667, 0.8275, 0.8275, 0.8392, 0.8039,\n",
       "         0.8039, 0.8039, 0.8627, 0.9412, 0.3137, 0.5882, 1.0000, 0.8980, 0.8667,\n",
       "         0.7373, 0.6039, 0.7490, 0.8235, 0.8000, 0.8196, 0.8706, 0.8941, 0.8824,\n",
       "         0.0000, 0.3843, 0.9137, 0.7765, 0.8235, 0.8706, 0.8980, 0.8980, 0.9176,\n",
       "         0.9765, 0.8627, 0.7608, 0.8431, 0.8510, 0.9451, 0.2549, 0.2863, 0.4157,\n",
       "         0.4588, 0.6588, 0.8588, 0.8667, 0.8431, 0.8510, 0.8745, 0.8745, 0.8784,\n",
       "         0.8980, 0.1137, 0.2941, 0.8000, 0.8314, 0.8000, 0.7569, 0.8039, 0.8275,\n",
       "         0.8824, 0.8471, 0.7255, 0.7725, 0.8078, 0.7765, 0.8353, 0.9412, 0.7647,\n",
       "         0.8902, 0.9608, 0.9373, 0.8745, 0.8549, 0.8314, 0.8196, 0.8706, 0.8627,\n",
       "         0.8667, 0.9020, 0.2627, 0.1882, 0.7961, 0.7176, 0.7608, 0.8353, 0.7725,\n",
       "         0.7255, 0.7451, 0.7608, 0.7529, 0.7922, 0.8392, 0.8588, 0.8667, 0.8627,\n",
       "         0.9255, 0.8824, 0.8471, 0.7804, 0.8078, 0.7294, 0.7098, 0.6941, 0.6745,\n",
       "         0.7098, 0.8039, 0.8078, 0.4510, 0.0000, 0.4784, 0.8588, 0.7569, 0.7020,\n",
       "         0.6706, 0.7176, 0.7686, 0.8000, 0.8235, 0.8353, 0.8118, 0.8275, 0.8235,\n",
       "         0.7843, 0.7686, 0.7608, 0.7490, 0.7647, 0.7490, 0.7765, 0.7529, 0.6902,\n",
       "         0.6118, 0.6549, 0.6941, 0.8235, 0.3608, 0.0000, 0.0000, 0.2902, 0.7412,\n",
       "         0.8314, 0.7490, 0.6863, 0.6745, 0.6863, 0.7098, 0.7255, 0.7373, 0.7412,\n",
       "         0.7373, 0.7569, 0.7765, 0.8000, 0.8196, 0.8235, 0.8235, 0.8275, 0.7373,\n",
       "         0.7373, 0.7608, 0.7529, 0.8471, 0.6667, 0.0000, 0.0078, 0.0000, 0.0000,\n",
       "         0.0000, 0.2588, 0.7843, 0.8706, 0.9294, 0.9373, 0.9490, 0.9647, 0.9529,\n",
       "         0.9569, 0.8667, 0.8627, 0.7569, 0.7490, 0.7020, 0.7137, 0.7137, 0.7098,\n",
       "         0.6902, 0.6510, 0.6588, 0.3882, 0.2275, 0.0000, 0.0000, 0.0000, 0.0000,\n",
       "         0.0000, 0.0000, 0.0000, 0.0000, 0.0000, 0.1569, 0.2392, 0.1725, 0.2824,\n",
       "         0.1608, 0.1373, 0.0000, 0.0000, 0.0000, 0.0000, 0.0000, 0.0000, 0.0000,\n",
       "         0.0000, 0.0000, 0.0000, 0.0000, 0.0000, 0.0000, 0.0000, 0.0000, 0.0000,\n",
       "         0.0000, 0.0000, 0.0000, 0.0000, 0.0000, 0.0000, 0.0000, 0.0000, 0.0000,\n",
       "         0.0000, 0.0000, 0.0000, 0.0000, 0.0000, 0.0000, 0.0000, 0.0000, 0.0000,\n",
       "         0.0000, 0.0000, 0.0000, 0.0000, 0.0000, 0.0000, 0.0000, 0.0000, 0.0000,\n",
       "         0.0000, 0.0000, 0.0000, 0.0000, 0.0000, 0.0000, 0.0000, 0.0000, 0.0000,\n",
       "         0.0000, 0.0000, 0.0000, 0.0000, 0.0000, 0.0000, 0.0000, 0.0000, 0.0000,\n",
       "         0.0000, 0.0000, 0.0000, 0.0000, 0.0000, 0.0000, 0.0000, 0.0000, 0.0000,\n",
       "         0.0000]])"
      ]
     },
     "execution_count": 33,
     "metadata": {},
     "output_type": "execute_result"
    }
   ],
   "source": [
    "model.flatten(t)"
   ]
  },
  {
   "cell_type": "markdown",
   "id": "88bc33b3-05bd-468a-ae99-cb43addabec3",
   "metadata": {},
   "source": [
    "#### Linear (Affine) Operator"
   ]
  },
  {
   "cell_type": "code",
   "execution_count": 34,
   "id": "ee934035-f1e7-48f9-a739-9afb00f7f1f6",
   "metadata": {},
   "outputs": [
    {
     "data": {
      "text/plain": [
       "Linear(in_features=784, out_features=512, bias=True)"
      ]
     },
     "execution_count": 34,
     "metadata": {},
     "output_type": "execute_result"
    }
   ],
   "source": [
    "model.linear_1"
   ]
  },
  {
   "cell_type": "code",
   "execution_count": 111,
   "id": "ae024a55-01ee-4f98-8f62-0bbb3b4a3e24",
   "metadata": {},
   "outputs": [
    {
     "data": {
      "text/plain": [
       "(Parameter containing:\n",
       " tensor([[0.1496],\n",
       "         [0.4472]], requires_grad=True),\n",
       " Parameter containing:\n",
       " tensor([-0.8151,  0.7930], requires_grad=True))"
      ]
     },
     "execution_count": 111,
     "metadata": {},
     "output_type": "execute_result"
    }
   ],
   "source": [
    "linop = torch.nn.Linear(1, 2)\n",
    "linop.weight, linop.bias"
   ]
  },
  {
   "cell_type": "code",
   "execution_count": 137,
   "id": "11db755d-f37c-4e7b-bf1f-17683bb27fdb",
   "metadata": {},
   "outputs": [
    {
     "data": {
      "text/plain": [
       "[Parameter containing:\n",
       " tensor([[0.1496],\n",
       "         [0.4472]], requires_grad=True),\n",
       " Parameter containing:\n",
       " tensor([-0.8151,  0.7930], requires_grad=True)]"
      ]
     },
     "execution_count": 137,
     "metadata": {},
     "output_type": "execute_result"
    }
   ],
   "source": [
    "list(linop.parameters())"
   ]
  },
  {
   "cell_type": "code",
   "execution_count": 134,
   "id": "91e93b82-3007-4db9-9c3a-7e97ae6dd477",
   "metadata": {},
   "outputs": [
    {
     "data": {
      "text/plain": [
       "tensor([0., 1., 2., 3., 4., 5.])"
      ]
     },
     "execution_count": 134,
     "metadata": {},
     "output_type": "execute_result"
    }
   ],
   "source": [
    "input = torch.linspace(0.0, 5.0, 6)\n",
    "input"
   ]
  },
  {
   "cell_type": "code",
   "execution_count": 135,
   "id": "bd0c93ff-e8a5-4544-a089-279c2e3c3b7e",
   "metadata": {},
   "outputs": [],
   "source": [
    "with torch.no_grad():\n",
    "    input_t = input.reshape(1, -1, 1)\n",
    "    output_t = linop(input_t)\n",
    "output = output_t.squeeze()"
   ]
  },
  {
   "cell_type": "code",
   "execution_count": 136,
   "id": "ef6e6ca4-8a66-47cc-81f4-6e7a9d49e15b",
   "metadata": {},
   "outputs": [
    {
     "data": {
      "image/png": "[encoded data removed]",
      "text/plain": [
       "<Figure size 640x480 with 1 Axes>"
      ]
     },
     "metadata": {},
     "output_type": "display_data"
    }
   ],
   "source": [
    "plt.plot(input, output)\n",
    "None"
   ]
  },
  {
   "cell_type": "code",
   "execution_count": 35,
   "id": "00595861-b73c-4fa4-be4b-8f064a41847c",
   "metadata": {},
   "outputs": [
    {
     "data": {
      "text/plain": [
       "True"
      ]
     },
     "execution_count": 35,
     "metadata": {},
     "output_type": "execute_result"
    }
   ],
   "source": [
    "model.linear_1.in_features == 28 * 28"
   ]
  },
  {
   "cell_type": "code",
   "execution_count": 36,
   "id": "2979cd1d-6e33-46b8-b377-a31d9985c734",
   "metadata": {},
   "outputs": [
    {
     "data": {
      "text/plain": [
       "{'weight': tensor([[ 0.0210, -0.0154,  0.0339,  ...,  0.0224, -0.0339, -0.0155],\n",
       "         [ 0.0280,  0.0130, -0.0151,  ..., -0.0192, -0.0073,  0.0151],\n",
       "         [-0.0329, -0.0160,  0.0025,  ...,  0.0269, -0.0198, -0.0071],\n",
       "         ...,\n",
       "         [-0.0168,  0.0145,  0.0017,  ...,  0.0345,  0.0356,  0.0282],\n",
       "         [-0.0032, -0.0066,  0.0123,  ...,  0.0290, -0.0179,  0.0212],\n",
       "         [ 0.0287,  0.0198, -0.0294,  ..., -0.0113, -0.0313, -0.0064]]),\n",
       " 'bias': tensor([ 5.1996e-03, -1.2248e-02,  4.4100e-03,  1.1871e-02, -3.1891e-03,\n",
       "          4.9179e-02,  3.2756e-02,  2.3313e-02, -5.2828e-03, -5.9944e-03,\n",
       "          4.9043e-03,  2.8898e-02, -5.3561e-03,  4.2246e-04, -1.4582e-02,\n",
       "          9.8977e-03, -1.4168e-02, -3.5468e-02,  6.6746e-03, -2.8466e-02,\n",
       "         -3.5134e-02, -3.5082e-02, -1.8402e-03,  1.4411e-02, -9.7980e-03,\n",
       "         -2.7347e-02,  6.5316e-04, -9.9767e-03, -2.4916e-02, -1.1855e-02,\n",
       "          4.0395e-02,  2.6589e-02,  3.7311e-02, -5.5242e-03,  1.0600e-02,\n",
       "          2.8209e-02, -1.9884e-02,  3.6881e-02, -2.1666e-03,  2.9274e-02,\n",
       "         -1.9016e-02,  2.3993e-02, -3.6911e-03,  2.8989e-02, -1.6872e-02,\n",
       "          2.3742e-04, -2.7912e-02,  2.3152e-02,  1.6258e-02, -2.0108e-02,\n",
       "         -2.5470e-02,  4.1311e-02,  5.6850e-03, -5.7859e-03, -5.9786e-03,\n",
       "          3.6803e-03, -7.8120e-03, -3.1662e-02, -2.9370e-02, -9.2392e-03,\n",
       "         -1.3342e-02,  6.2087e-03, -3.0206e-02, -1.2081e-02, -2.3311e-02,\n",
       "         -1.9294e-03, -1.6507e-04, -6.7014e-04, -1.0522e-02, -9.6138e-03,\n",
       "          1.8357e-02,  1.1370e-02,  2.8943e-02,  1.7667e-02,  3.3912e-02,\n",
       "          7.2449e-03, -1.4206e-02,  3.0131e-02,  2.0565e-02, -1.8946e-02,\n",
       "         -1.3087e-02, -2.7674e-02, -4.8146e-04,  1.1699e-02,  2.9786e-03,\n",
       "          2.9530e-02, -1.1748e-02,  2.9065e-03,  4.0171e-02,  2.0694e-02,\n",
       "         -6.0136e-03,  2.9590e-03, -3.5775e-02, -3.2712e-02,  1.4552e-02,\n",
       "          1.1627e-02,  9.8935e-03, -2.8604e-02, -2.0682e-03, -2.7354e-02,\n",
       "          1.9660e-02,  2.5866e-03, -1.4528e-02, -2.1151e-02,  3.9303e-02,\n",
       "          3.5230e-02, -1.8191e-03,  2.7577e-02,  1.7809e-02,  3.2168e-04,\n",
       "          1.9862e-02,  1.0306e-02,  2.8416e-02,  3.1880e-02,  4.6636e-02,\n",
       "          2.5837e-02,  6.5421e-03,  1.3153e-02, -1.1528e-02,  4.3492e-03,\n",
       "         -3.4279e-02, -7.0002e-03,  5.2857e-03,  1.7400e-04, -1.6634e-03,\n",
       "         -2.6108e-02, -3.2901e-02, -1.0067e-02,  2.6677e-02, -1.8601e-04,\n",
       "          1.8809e-02,  1.9188e-02, -1.7417e-02, -1.7206e-02,  5.6551e-03,\n",
       "          2.1870e-02, -2.7132e-02, -2.0710e-03, -1.0882e-02,  1.4119e-02,\n",
       "          2.1131e-02, -1.4852e-02,  5.5591e-03, -1.6403e-02, -2.3760e-02,\n",
       "         -2.1843e-02, -3.1571e-02,  1.1736e-02,  5.6313e-03, -2.6339e-02,\n",
       "          2.3846e-02,  4.1823e-02,  1.7470e-02,  1.5367e-02, -3.1117e-02,\n",
       "         -1.6428e-02,  1.5483e-02,  1.2773e-02,  1.5684e-02,  2.4073e-02,\n",
       "          2.4926e-02, -1.6627e-02,  2.5911e-02,  5.1119e-03, -2.8012e-02,\n",
       "         -2.8490e-02, -4.6556e-03,  7.0854e-03,  1.5770e-02, -1.9362e-02,\n",
       "          2.7200e-02, -2.9216e-02,  3.9772e-02,  1.2068e-02, -3.2281e-02,\n",
       "         -2.5992e-02,  5.2582e-03, -8.4505e-03, -2.4675e-02, -2.3439e-02,\n",
       "         -1.5014e-04,  4.4733e-03,  1.0422e-02,  5.0830e-02, -1.3879e-02,\n",
       "         -2.8433e-03,  2.2452e-02,  1.7761e-02, -3.3638e-03,  1.9108e-02,\n",
       "          1.9612e-02,  1.6586e-02, -2.9887e-02, -7.4290e-03,  3.3011e-02,\n",
       "         -9.3157e-03, -3.7647e-02,  3.7562e-02,  8.1232e-03, -1.4048e-03,\n",
       "         -1.6182e-02,  2.3442e-04, -4.2168e-03,  1.2234e-02, -1.6393e-02,\n",
       "          2.1951e-03, -4.8695e-03,  8.9473e-03,  9.9069e-03, -2.6066e-02,\n",
       "          2.0196e-02,  3.9156e-02,  1.3794e-02,  3.6058e-02, -2.6906e-02,\n",
       "         -2.8435e-03, -3.2006e-02, -3.0946e-02,  1.8483e-02, -1.8555e-02,\n",
       "          3.0227e-02,  2.1356e-02,  2.2778e-02, -6.3075e-03, -1.5698e-02,\n",
       "          4.1606e-03,  3.3261e-02, -1.8970e-02,  2.5446e-02, -1.4441e-02,\n",
       "         -3.3427e-02, -1.5350e-03, -2.0415e-02, -6.4218e-03,  3.9271e-02,\n",
       "          1.4117e-02,  1.5613e-02, -5.5651e-03, -4.2714e-03,  2.5582e-02,\n",
       "          1.1065e-02,  4.2322e-02,  8.0404e-03, -3.5706e-02, -2.3039e-02,\n",
       "          1.6542e-02,  2.8538e-02,  2.9107e-03, -2.2444e-02, -3.0439e-02,\n",
       "         -1.7496e-02,  9.8090e-03, -8.3700e-03, -2.3973e-02, -1.2916e-02,\n",
       "          2.1166e-02,  1.6863e-03, -1.2486e-02,  1.1738e-02,  1.9366e-02,\n",
       "         -1.4543e-02,  5.2350e-02, -2.3832e-02,  2.3151e-02,  5.8131e-04,\n",
       "         -2.6932e-02, -1.4854e-02,  2.0054e-03, -2.3951e-02,  3.7465e-02,\n",
       "          2.2432e-02,  1.5086e-02,  2.9996e-02, -2.4735e-04,  1.0561e-02,\n",
       "          1.6394e-03,  1.6966e-02,  1.5241e-02,  6.2306e-03, -1.5143e-02,\n",
       "         -1.0317e-03, -2.2883e-02,  3.2455e-02, -2.0294e-02,  2.9956e-02,\n",
       "         -2.4377e-02, -4.2123e-03, -6.0031e-03,  2.5635e-02,  2.9418e-02,\n",
       "          2.6821e-02,  2.1135e-02, -3.2527e-02,  2.2121e-02,  2.0624e-02,\n",
       "         -1.3800e-02,  2.5687e-02,  2.3434e-02,  1.4334e-02,  4.7747e-02,\n",
       "          2.3070e-02,  2.6612e-02,  1.4934e-02, -1.7785e-02, -3.0095e-02,\n",
       "          3.7325e-03, -9.6349e-03,  1.3876e-02,  1.1686e-02, -2.3348e-03,\n",
       "         -2.0125e-02,  7.1479e-03,  3.1920e-03,  3.4536e-02, -3.3340e-02,\n",
       "          2.5131e-02,  1.2030e-02, -2.4476e-02, -2.0246e-02, -2.8208e-02,\n",
       "          3.8259e-02,  3.4246e-03,  3.1065e-02, -3.4363e-02,  2.1969e-02,\n",
       "          3.2623e-02,  4.0301e-03, -2.9798e-02, -1.0625e-02,  4.1450e-02,\n",
       "          2.4146e-02, -8.7858e-03,  3.0018e-02,  1.9609e-02,  2.6565e-02,\n",
       "          1.2907e-03,  3.7770e-02, -1.0647e-02, -1.3644e-03,  2.5652e-02,\n",
       "          2.1088e-02,  3.6410e-02,  4.1781e-03,  2.0582e-02,  3.1033e-03,\n",
       "         -4.2809e-03, -3.7645e-02,  1.2104e-02,  1.5173e-02,  1.9766e-02,\n",
       "          2.2536e-02,  1.1153e-02,  2.9245e-02,  3.1503e-02, -3.7245e-03,\n",
       "         -5.8222e-03, -1.2864e-03,  2.5761e-03, -7.3480e-03,  4.0142e-02,\n",
       "         -1.0161e-02,  5.6027e-03,  1.4945e-02, -1.8371e-02,  1.9202e-02,\n",
       "          3.2426e-02,  2.5368e-02,  2.5378e-02,  1.5851e-02,  2.9188e-02,\n",
       "          2.6401e-02, -2.9739e-02, -2.4226e-02,  1.6314e-02, -9.6601e-04,\n",
       "          1.7475e-02,  2.0729e-02,  1.6298e-02, -9.6999e-03,  3.7639e-02,\n",
       "          3.5139e-02, -3.1615e-02,  2.3650e-02, -2.9803e-02, -2.8709e-02,\n",
       "         -2.0390e-02,  2.4727e-02, -2.0335e-02,  6.3035e-03, -3.7138e-03,\n",
       "          1.1662e-02,  3.5312e-02, -4.3487e-03, -3.3111e-02, -3.5544e-03,\n",
       "          1.7066e-02,  1.0198e-02,  3.2979e-02,  1.4835e-03, -2.6728e-02,\n",
       "          5.4352e-03,  3.6634e-03, -1.6951e-02, -2.6967e-02, -2.3826e-02,\n",
       "          3.4140e-02,  4.2221e-02,  2.0627e-02,  3.4727e-03, -6.7145e-03,\n",
       "         -2.8350e-02,  9.4258e-03,  3.0749e-02,  2.1333e-02,  9.4543e-04,\n",
       "         -2.2074e-02, -1.5425e-02,  3.5366e-03,  1.9334e-02,  3.9650e-02,\n",
       "         -1.2050e-02, -2.5897e-02,  8.9794e-03,  1.4370e-02,  4.3260e-02,\n",
       "         -1.9869e-02,  2.3218e-02, -3.1356e-02, -3.7859e-02, -1.9858e-02,\n",
       "          1.6638e-02,  2.9427e-02,  3.5412e-02, -1.0609e-02,  3.1528e-02,\n",
       "         -1.3327e-02, -2.2071e-02,  5.6120e-03, -1.9961e-02,  1.9989e-02,\n",
       "          2.4382e-02, -2.8854e-02, -1.6319e-02,  3.9182e-02,  1.0773e-02,\n",
       "         -7.9656e-03, -1.7369e-02, -3.6042e-02, -5.7796e-03, -1.9752e-02,\n",
       "         -4.9186e-03,  1.6576e-02, -1.4954e-02,  9.7477e-03,  1.3331e-02,\n",
       "         -9.5227e-03, -3.1258e-02,  1.3949e-02,  3.1552e-02,  4.7041e-02,\n",
       "         -1.0713e-02,  3.5737e-02,  2.6843e-02,  6.0541e-03,  1.1864e-02,\n",
       "          3.0006e-02,  4.9070e-02,  2.3250e-02,  3.5849e-02, -3.8514e-03,\n",
       "          2.9318e-02,  2.3661e-02,  1.8500e-02, -1.0601e-02,  2.8194e-02,\n",
       "          1.3762e-02, -1.4331e-02, -2.6029e-02,  3.6547e-03,  3.3701e-02,\n",
       "         -2.5494e-02,  2.2604e-02,  4.3074e-02,  4.1346e-02, -8.0111e-03,\n",
       "          2.7471e-02,  1.0827e-02, -1.1497e-02, -2.5690e-02,  1.8147e-02,\n",
       "          2.2300e-02,  3.0846e-02, -5.0201e-05,  1.9268e-02, -1.6960e-02,\n",
       "          8.8946e-03, -2.3278e-02,  1.6071e-02, -1.9934e-02,  3.7182e-02,\n",
       "          1.6051e-02,  2.5872e-02,  1.5817e-03, -7.5347e-03,  3.8396e-02,\n",
       "          3.5316e-02, -6.6430e-03, -2.1133e-02, -1.5145e-02,  3.1527e-02,\n",
       "          2.6337e-02,  2.2130e-03])}"
      ]
     },
     "execution_count": 36,
     "metadata": {},
     "output_type": "execute_result"
    }
   ],
   "source": [
    "linear_1_params = {name: param.data for name, param in model.linear_1.named_parameters()}\n",
    "linear_1_params"
   ]
  },
  {
   "cell_type": "code",
   "execution_count": 37,
   "id": "ee77d92a-bba8-4333-8e1b-45077702a60f",
   "metadata": {},
   "outputs": [
    {
     "data": {
      "text/plain": [
       "torch.Size([512])"
      ]
     },
     "execution_count": 37,
     "metadata": {},
     "output_type": "execute_result"
    }
   ],
   "source": [
    "b1 = linear_1_params[\"bias\"]\n",
    "b1.shape"
   ]
  },
  {
   "cell_type": "code",
   "execution_count": 38,
   "id": "ef506f6e-9bb6-4d46-b392-96657feec93a",
   "metadata": {},
   "outputs": [
    {
     "data": {
      "text/plain": [
       "torch.Size([512, 784])"
      ]
     },
     "execution_count": 38,
     "metadata": {},
     "output_type": "execute_result"
    }
   ],
   "source": [
    "A1 = linear_1_params[\"weight\"]\n",
    "A1.shape"
   ]
  },
  {
   "cell_type": "code",
   "execution_count": 39,
   "id": "05e03e0a-2832-4e12-9cf8-2aa92a52dc8b",
   "metadata": {},
   "outputs": [
    {
     "name": "stdout",
     "output_type": "stream",
     "text": [
      "torch.Size([1, 28, 28])\n",
      "torch.Size([784])\n"
     ]
    },
    {
     "data": {
      "text/plain": [
       "tensor([ 8.8665e-01,  1.0730e-01,  7.7226e-01,  2.7048e-02,  4.3016e-01,\n",
       "         1.5970e-01,  1.4650e+00,  1.1446e-01,  7.1368e-01, -3.4731e-01,\n",
       "        -2.5061e-01,  4.1906e-01,  5.0979e-01, -1.0190e-01,  6.1584e-01,\n",
       "        -3.1647e-02,  2.9027e-01,  8.0485e-01,  1.0404e+00,  1.4717e+00,\n",
       "        -2.0144e-01, -4.9204e-01,  4.3049e-01,  8.1608e-01,  5.7509e-01,\n",
       "         4.1380e-01, -1.3215e-01,  1.3625e+00,  7.0342e-01, -3.6172e-01,\n",
       "         1.5684e-01,  1.1166e-01, -2.5141e-02,  1.6572e-02,  1.2301e+00,\n",
       "         4.6730e-02,  3.5725e-01,  1.6392e+00, -1.2866e-01,  5.1656e-02,\n",
       "        -1.2716e-01,  1.1330e+00,  4.8189e-01,  4.6777e-01,  1.0565e-01,\n",
       "         7.0828e-02, -1.3844e-01,  5.4397e-01,  7.3986e-01,  1.1406e+00,\n",
       "         4.2778e-01, -1.0022e-02,  1.7495e+00,  5.9266e-01, -3.2583e-01,\n",
       "         1.5128e+00,  1.6304e-01,  1.4116e-02,  7.0362e-01, -6.4304e-02,\n",
       "        -6.7409e-01,  4.8112e-01,  6.2921e-01,  4.6251e-01,  1.0056e+00,\n",
       "        -2.5652e-01,  9.0090e-01, -4.2083e-01,  6.5264e-01, -4.8452e-01,\n",
       "        -5.9300e-02, -2.7625e-01,  1.1133e+00, -2.0112e-01,  1.3664e+00,\n",
       "         8.4714e-02,  5.1374e-01,  3.5653e-01,  3.7105e-01,  1.5014e-01,\n",
       "        -3.7283e-01,  2.3462e-01, -2.0007e-01,  2.6802e-01, -1.6220e-02,\n",
       "         2.6353e+00, -5.7546e-01,  5.0776e-01,  7.2470e-01, -1.5700e-01,\n",
       "         9.3719e-01, -3.8078e-01, -4.3371e-01, -3.8855e-01, -6.5989e-01,\n",
       "         7.3575e-01,  2.5657e-01, -4.4897e-01,  2.7079e-01, -7.0371e-03,\n",
       "        -4.4383e-02,  1.4256e+00,  8.7160e-01,  5.1362e-01,  4.7590e-01,\n",
       "         1.3020e-02,  9.1193e-01, -2.1780e-02,  2.6103e-01,  1.4812e+00,\n",
       "         1.5403e+00,  3.4083e-01, -3.0684e-01,  3.8423e-01,  1.0496e+00,\n",
       "         9.4564e-01, -9.9841e-02, -3.9024e-01,  6.8282e-01,  4.5890e-01,\n",
       "        -3.3508e-01,  1.7388e+00,  1.1355e+00,  1.9028e+00,  1.3844e+00,\n",
       "         2.3615e-01,  5.8286e-03,  6.7660e-02, -6.8341e-02,  7.3923e-01,\n",
       "         1.8868e-01,  3.5614e-01,  6.4721e-01,  1.5375e-01,  1.7277e+00,\n",
       "        -4.6788e-01, -4.9348e-01,  4.2549e-01,  5.3805e-01, -2.3196e-01,\n",
       "        -3.8832e-01,  4.1588e-01,  1.3794e-01,  5.9449e-01,  1.1186e+00,\n",
       "         5.6376e-01,  7.9264e-01, -1.2066e-01, -7.8587e-02, -1.9675e-01,\n",
       "         1.3381e+00,  4.8563e-01, -7.0780e-01,  5.8107e-01,  2.9615e-01,\n",
       "        -3.3075e-01,  7.5314e-01,  1.6806e+00,  6.2797e-01,  2.3951e-01,\n",
       "         1.1770e+00,  1.5559e+00,  9.0963e-01,  3.5479e-02,  5.7094e-01,\n",
       "         9.7930e-01, -1.1544e-01,  1.3378e+00,  4.3664e-01,  8.8365e-01,\n",
       "         1.3510e+00,  2.0699e+00,  1.7971e+00,  2.2234e+00, -4.8748e-01,\n",
       "         5.6564e-01,  1.9664e-01,  4.2835e-01,  4.5590e-01,  1.8800e-01,\n",
       "         6.8671e-01, -4.7216e-01,  7.8458e-01,  2.5768e+00,  1.8605e+00,\n",
       "        -2.7940e-01,  8.1340e-01,  3.0831e-01,  5.1400e-04, -6.5845e-02,\n",
       "        -8.3308e-02, -4.7968e-01, -5.3998e-01,  1.0136e+00, -3.6755e-01,\n",
       "        -4.5613e-01, -3.8967e-01, -1.7538e-01, -8.8240e-01, -2.7064e-02,\n",
       "         5.9615e-01,  1.8280e+00,  1.0588e+00,  4.0320e-01,  4.8513e-01,\n",
       "        -9.7175e-02, -5.5665e-01, -2.3178e-01,  5.1417e-01, -9.4478e-01,\n",
       "         1.0644e+00,  1.7159e+00,  1.2279e-03, -1.2136e-01,  4.8076e-02,\n",
       "         1.8014e-01, -1.7672e-01, -2.4418e-01,  3.9905e-01, -4.1762e-01,\n",
       "        -1.7488e-01, -1.8025e-01,  1.2262e+00, -2.4402e-01,  1.3629e+00,\n",
       "         5.9940e-01,  7.0918e-01, -4.0983e-01, -2.9261e-01,  5.4205e-01,\n",
       "        -3.0106e-01,  7.6227e-01, -2.5634e-01, -3.7383e-01,  9.5546e-01,\n",
       "         1.1139e-01, -6.4266e-02,  6.8143e-01, -1.2280e-02,  4.1418e-01,\n",
       "         5.2263e-01,  1.4916e-02, -5.3801e-01,  7.2527e-01,  4.1897e-01,\n",
       "        -4.0892e-01,  3.3300e-01,  7.9065e-01,  9.9926e-01,  1.1713e+00,\n",
       "         8.0169e-01,  3.8307e-01,  4.9144e-01, -3.9713e-01, -7.5291e-01,\n",
       "         1.4024e+00,  2.0884e-01,  7.7077e-02,  8.4786e-01,  7.2278e-01,\n",
       "         3.3636e-01,  3.5283e+00,  7.0617e-01,  3.4532e-01,  4.5858e-01,\n",
       "        -5.9223e-01, -1.8599e-01,  1.3680e+00,  1.3766e+00,  3.7820e-01,\n",
       "         1.1988e+00, -4.0091e-01,  1.2179e-01,  1.8051e+00,  1.5278e-01,\n",
       "         1.2286e+00,  1.0110e-01,  1.1485e+00,  2.3176e-01,  3.6236e-01,\n",
       "         2.6338e-01, -3.1759e-01,  1.6299e-02,  3.6013e-03,  1.3891e-01,\n",
       "         7.2103e-01,  5.5756e-01,  1.5184e+00,  2.3216e+00,  4.5258e-01,\n",
       "        -4.3493e-01, -2.1288e-01, -5.7347e-01, -4.1599e-01, -8.3457e-03,\n",
       "        -1.6688e-01,  8.6207e-01, -4.7982e-01,  5.8876e-01,  5.8603e-01,\n",
       "        -2.4727e-01, -6.5080e-02,  2.5457e-01,  1.5977e+00,  5.2560e-02,\n",
       "         4.8263e-01,  6.3092e-01,  1.0892e-01, -9.7100e-02,  1.3968e+00,\n",
       "         5.9309e-01,  6.9680e-01, -1.4650e-01,  1.1540e-02,  1.6702e-02,\n",
       "         5.6684e-01,  2.9249e-02,  4.7423e-01,  1.2576e+00, -2.5021e-01,\n",
       "         3.1744e-01, -5.3487e-01,  8.0646e-01,  6.8636e-01, -5.8236e-01,\n",
       "         1.0929e+00, -3.0828e-02,  5.1559e-01,  8.4227e-01,  5.2579e-01,\n",
       "        -1.0270e-01,  1.0809e+00, -1.6938e-01,  5.5850e-01, -3.0412e-01,\n",
       "        -2.8967e-03, -7.9824e-02, -2.7856e-01, -3.3263e-02,  1.0130e-01,\n",
       "         7.3753e-02,  2.9387e-01,  6.0728e-01,  1.4615e+00, -3.6657e-02,\n",
       "         1.5899e+00,  9.8140e-01, -2.0340e-01,  9.7784e-01,  2.0347e-03,\n",
       "         7.4764e-01,  1.0918e-01, -3.4015e-01, -3.7504e-01,  1.4909e+00,\n",
       "         8.2964e-01,  7.1444e-01,  1.4247e+00,  4.4655e-01, -3.7544e-02,\n",
       "        -3.3927e-01, -4.7161e-02, -2.9295e-01,  7.2333e-01,  6.2557e-01,\n",
       "         4.1430e-01,  6.3726e-01,  3.8725e-01, -1.6216e-01,  8.4578e-01,\n",
       "         8.9038e-01,  1.6785e+00, -4.2248e-01,  1.0391e+00,  3.8204e-01,\n",
       "         6.3989e-02, -2.4536e-01, -3.5861e-01, -7.1361e-01,  8.1415e-02,\n",
       "         8.7369e-01, -2.4853e-01,  1.6601e+00,  1.3653e-01, -3.9579e-01,\n",
       "         2.9808e+00,  8.8386e-01,  8.0723e-01,  8.1548e-01,  1.2523e+00,\n",
       "        -2.0703e-02,  1.1085e+00,  7.9446e-01, -5.9328e-01,  7.8213e-01,\n",
       "        -8.7274e-02,  2.0587e+00,  8.9165e-01, -1.3352e-01,  4.9648e-01,\n",
       "         1.2757e+00,  9.5375e-02,  4.5464e-01, -3.2647e-02,  9.6200e-01,\n",
       "        -6.4364e-01,  2.2622e+00,  5.4402e-01,  4.1823e-01,  4.0954e-01,\n",
       "         3.2410e-01,  1.0004e+00,  7.7067e-01,  1.5020e+00,  1.8387e-01,\n",
       "        -4.3160e-01,  1.6224e+00,  1.3013e+00, -4.0673e-01,  5.2496e-01,\n",
       "         2.4345e+00,  1.9253e+00,  1.2460e-01,  2.6354e-01,  6.6390e-01,\n",
       "         9.3442e-01,  1.0961e-01, -4.9478e-01,  1.0904e+00, -5.8287e-01,\n",
       "         1.3610e+00,  9.0804e-01,  4.1209e-01, -4.2862e-01,  4.7959e-01,\n",
       "         3.9193e-01,  1.2685e+00,  6.7923e-01,  7.4531e-01,  1.0359e+00,\n",
       "         1.3466e+00,  7.5121e-02,  8.4706e-01,  1.0698e-01, -4.6006e-01,\n",
       "         5.3619e-01,  1.1069e+00, -1.8137e-01,  1.0268e+00,  7.9058e-01,\n",
       "         4.9228e-01,  1.1831e+00, -8.2601e-02,  6.3469e-03,  3.3349e-01,\n",
       "         4.3659e-01,  4.8734e-01, -1.5055e-01,  3.3731e-01, -3.9038e-02,\n",
       "         3.8477e-01,  1.0700e+00,  2.3294e-01, -2.6343e-01,  2.0814e-02,\n",
       "         2.3358e+00,  1.7836e+00,  8.1640e-01,  5.5899e-01,  8.8570e-01,\n",
       "         1.1027e+00,  6.7290e-01, -2.0236e-02,  1.1806e+00,  3.9419e-01,\n",
       "        -1.5515e-01, -1.4777e-01,  3.1772e-01, -3.1511e-01,  4.2640e-01,\n",
       "         4.9318e-01,  9.2465e-01,  4.1475e-02,  9.3117e-01,  4.2850e-01,\n",
       "         6.0092e-01,  2.4344e+00,  1.4600e-01,  1.7802e-02,  9.7247e-01,\n",
       "        -1.5728e-01,  3.5910e-01, -4.2878e-05, -2.4696e-01, -3.7037e-01,\n",
       "        -5.4168e-01,  5.7457e-01, -1.8398e-01, -1.2769e-01,  1.2257e+00,\n",
       "         1.4090e-01, -1.2697e-01, -1.4883e-01,  5.7792e-01,  1.9091e-01,\n",
       "        -6.0234e-01,  3.1707e+00,  6.3082e-01,  8.7062e-01,  1.9638e+00,\n",
       "         1.3134e+00,  7.3949e-01])"
      ]
     },
     "execution_count": 39,
     "metadata": {},
     "output_type": "execute_result"
    }
   ],
   "source": [
    "to_tensor = torchvision.transforms.ToTensor() \n",
    "t = to_tensor(image)\n",
    "print(t.shape)\n",
    "tf = torch.flatten(t)\n",
    "print(tf.shape)\n",
    "x1 = A1 @ tf + b1\n",
    "x1"
   ]
  },
  {
   "cell_type": "code",
   "execution_count": 40,
   "id": "eef79420-20fe-4b46-852b-b636ab66d32a",
   "metadata": {},
   "outputs": [
    {
     "data": {
      "image/png": "[encoded data removed]",
      "text/plain": [
       "<Figure size 640x480 with 2 Axes>"
      ]
     },
     "metadata": {},
     "output_type": "display_data"
    }
   ],
   "source": [
    "plt.imshow(x1.reshape((2**5, 2**4)))\n",
    "plt.grid(False)\n",
    "plt.colorbar()\n",
    "None"
   ]
  },
  {
   "cell_type": "markdown",
   "id": "f62c9b26-943d-4ca4-ac43-4b8b12653cca",
   "metadata": {},
   "source": [
    "### Rectified Linear Unit"
   ]
  },
  {
   "cell_type": "code",
   "execution_count": 41,
   "id": "63cb057b-6815-46c0-928b-4bcdd9771fbf",
   "metadata": {},
   "outputs": [
    {
     "data": {
      "text/plain": [
       "tensor([8.8665e-01, 1.0730e-01, 7.7226e-01, 2.7048e-02, 4.3016e-01, 1.5970e-01,\n",
       "        1.4650e+00, 1.1446e-01, 7.1368e-01, 0.0000e+00, 0.0000e+00, 4.1906e-01,\n",
       "        5.0979e-01, 0.0000e+00, 6.1584e-01, 0.0000e+00, 2.9027e-01, 8.0485e-01,\n",
       "        1.0404e+00, 1.4717e+00, 0.0000e+00, 0.0000e+00, 4.3049e-01, 8.1608e-01,\n",
       "        5.7509e-01, 4.1380e-01, 0.0000e+00, 1.3625e+00, 7.0342e-01, 0.0000e+00,\n",
       "        1.5684e-01, 1.1166e-01, 0.0000e+00, 1.6572e-02, 1.2301e+00, 4.6730e-02,\n",
       "        3.5725e-01, 1.6392e+00, 0.0000e+00, 5.1656e-02, 0.0000e+00, 1.1330e+00,\n",
       "        4.8189e-01, 4.6777e-01, 1.0565e-01, 7.0828e-02, 0.0000e+00, 5.4397e-01,\n",
       "        7.3986e-01, 1.1406e+00, 4.2778e-01, 0.0000e+00, 1.7495e+00, 5.9266e-01,\n",
       "        0.0000e+00, 1.5128e+00, 1.6304e-01, 1.4116e-02, 7.0362e-01, 0.0000e+00,\n",
       "        0.0000e+00, 4.8112e-01, 6.2921e-01, 4.6251e-01, 1.0056e+00, 0.0000e+00,\n",
       "        9.0090e-01, 0.0000e+00, 6.5264e-01, 0.0000e+00, 0.0000e+00, 0.0000e+00,\n",
       "        1.1133e+00, 0.0000e+00, 1.3664e+00, 8.4714e-02, 5.1374e-01, 3.5653e-01,\n",
       "        3.7105e-01, 1.5014e-01, 0.0000e+00, 2.3462e-01, 0.0000e+00, 2.6802e-01,\n",
       "        0.0000e+00, 2.6353e+00, 0.0000e+00, 5.0776e-01, 7.2470e-01, 0.0000e+00,\n",
       "        9.3719e-01, 0.0000e+00, 0.0000e+00, 0.0000e+00, 0.0000e+00, 7.3575e-01,\n",
       "        2.5657e-01, 0.0000e+00, 2.7079e-01, 0.0000e+00, 0.0000e+00, 1.4256e+00,\n",
       "        8.7160e-01, 5.1362e-01, 4.7590e-01, 1.3020e-02, 9.1193e-01, 0.0000e+00,\n",
       "        2.6103e-01, 1.4812e+00, 1.5403e+00, 3.4083e-01, 0.0000e+00, 3.8423e-01,\n",
       "        1.0496e+00, 9.4564e-01, 0.0000e+00, 0.0000e+00, 6.8282e-01, 4.5890e-01,\n",
       "        0.0000e+00, 1.7388e+00, 1.1355e+00, 1.9028e+00, 1.3844e+00, 2.3615e-01,\n",
       "        5.8286e-03, 6.7660e-02, 0.0000e+00, 7.3923e-01, 1.8868e-01, 3.5614e-01,\n",
       "        6.4721e-01, 1.5375e-01, 1.7277e+00, 0.0000e+00, 0.0000e+00, 4.2549e-01,\n",
       "        5.3805e-01, 0.0000e+00, 0.0000e+00, 4.1588e-01, 1.3794e-01, 5.9449e-01,\n",
       "        1.1186e+00, 5.6376e-01, 7.9264e-01, 0.0000e+00, 0.0000e+00, 0.0000e+00,\n",
       "        1.3381e+00, 4.8563e-01, 0.0000e+00, 5.8107e-01, 2.9615e-01, 0.0000e+00,\n",
       "        7.5314e-01, 1.6806e+00, 6.2797e-01, 2.3951e-01, 1.1770e+00, 1.5559e+00,\n",
       "        9.0963e-01, 3.5479e-02, 5.7094e-01, 9.7930e-01, 0.0000e+00, 1.3378e+00,\n",
       "        4.3664e-01, 8.8365e-01, 1.3510e+00, 2.0699e+00, 1.7971e+00, 2.2234e+00,\n",
       "        0.0000e+00, 5.6564e-01, 1.9664e-01, 4.2835e-01, 4.5590e-01, 1.8800e-01,\n",
       "        6.8671e-01, 0.0000e+00, 7.8458e-01, 2.5768e+00, 1.8605e+00, 0.0000e+00,\n",
       "        8.1340e-01, 3.0831e-01, 5.1400e-04, 0.0000e+00, 0.0000e+00, 0.0000e+00,\n",
       "        0.0000e+00, 1.0136e+00, 0.0000e+00, 0.0000e+00, 0.0000e+00, 0.0000e+00,\n",
       "        0.0000e+00, 0.0000e+00, 5.9615e-01, 1.8280e+00, 1.0588e+00, 4.0320e-01,\n",
       "        4.8513e-01, 0.0000e+00, 0.0000e+00, 0.0000e+00, 5.1417e-01, 0.0000e+00,\n",
       "        1.0644e+00, 1.7159e+00, 1.2279e-03, 0.0000e+00, 4.8076e-02, 1.8014e-01,\n",
       "        0.0000e+00, 0.0000e+00, 3.9905e-01, 0.0000e+00, 0.0000e+00, 0.0000e+00,\n",
       "        1.2262e+00, 0.0000e+00, 1.3629e+00, 5.9940e-01, 7.0918e-01, 0.0000e+00,\n",
       "        0.0000e+00, 5.4205e-01, 0.0000e+00, 7.6227e-01, 0.0000e+00, 0.0000e+00,\n",
       "        9.5546e-01, 1.1139e-01, 0.0000e+00, 6.8143e-01, 0.0000e+00, 4.1418e-01,\n",
       "        5.2263e-01, 1.4916e-02, 0.0000e+00, 7.2527e-01, 4.1897e-01, 0.0000e+00,\n",
       "        3.3300e-01, 7.9065e-01, 9.9926e-01, 1.1713e+00, 8.0169e-01, 3.8307e-01,\n",
       "        4.9144e-01, 0.0000e+00, 0.0000e+00, 1.4024e+00, 2.0884e-01, 7.7077e-02,\n",
       "        8.4786e-01, 7.2278e-01, 3.3636e-01, 3.5283e+00, 7.0617e-01, 3.4532e-01,\n",
       "        4.5858e-01, 0.0000e+00, 0.0000e+00, 1.3680e+00, 1.3766e+00, 3.7820e-01,\n",
       "        1.1988e+00, 0.0000e+00, 1.2179e-01, 1.8051e+00, 1.5278e-01, 1.2286e+00,\n",
       "        1.0110e-01, 1.1485e+00, 2.3176e-01, 3.6236e-01, 2.6338e-01, 0.0000e+00,\n",
       "        1.6299e-02, 3.6013e-03, 1.3891e-01, 7.2103e-01, 5.5756e-01, 1.5184e+00,\n",
       "        2.3216e+00, 4.5258e-01, 0.0000e+00, 0.0000e+00, 0.0000e+00, 0.0000e+00,\n",
       "        0.0000e+00, 0.0000e+00, 8.6207e-01, 0.0000e+00, 5.8876e-01, 5.8603e-01,\n",
       "        0.0000e+00, 0.0000e+00, 2.5457e-01, 1.5977e+00, 5.2560e-02, 4.8263e-01,\n",
       "        6.3092e-01, 1.0892e-01, 0.0000e+00, 1.3968e+00, 5.9309e-01, 6.9680e-01,\n",
       "        0.0000e+00, 1.1540e-02, 1.6702e-02, 5.6684e-01, 2.9249e-02, 4.7423e-01,\n",
       "        1.2576e+00, 0.0000e+00, 3.1744e-01, 0.0000e+00, 8.0646e-01, 6.8636e-01,\n",
       "        0.0000e+00, 1.0929e+00, 0.0000e+00, 5.1559e-01, 8.4227e-01, 5.2579e-01,\n",
       "        0.0000e+00, 1.0809e+00, 0.0000e+00, 5.5850e-01, 0.0000e+00, 0.0000e+00,\n",
       "        0.0000e+00, 0.0000e+00, 0.0000e+00, 1.0130e-01, 7.3753e-02, 2.9387e-01,\n",
       "        6.0728e-01, 1.4615e+00, 0.0000e+00, 1.5899e+00, 9.8140e-01, 0.0000e+00,\n",
       "        9.7784e-01, 2.0347e-03, 7.4764e-01, 1.0918e-01, 0.0000e+00, 0.0000e+00,\n",
       "        1.4909e+00, 8.2964e-01, 7.1444e-01, 1.4247e+00, 4.4655e-01, 0.0000e+00,\n",
       "        0.0000e+00, 0.0000e+00, 0.0000e+00, 7.2333e-01, 6.2557e-01, 4.1430e-01,\n",
       "        6.3726e-01, 3.8725e-01, 0.0000e+00, 8.4578e-01, 8.9038e-01, 1.6785e+00,\n",
       "        0.0000e+00, 1.0391e+00, 3.8204e-01, 6.3989e-02, 0.0000e+00, 0.0000e+00,\n",
       "        0.0000e+00, 8.1415e-02, 8.7369e-01, 0.0000e+00, 1.6601e+00, 1.3653e-01,\n",
       "        0.0000e+00, 2.9808e+00, 8.8386e-01, 8.0723e-01, 8.1548e-01, 1.2523e+00,\n",
       "        0.0000e+00, 1.1085e+00, 7.9446e-01, 0.0000e+00, 7.8213e-01, 0.0000e+00,\n",
       "        2.0587e+00, 8.9165e-01, 0.0000e+00, 4.9648e-01, 1.2757e+00, 9.5375e-02,\n",
       "        4.5464e-01, 0.0000e+00, 9.6200e-01, 0.0000e+00, 2.2622e+00, 5.4402e-01,\n",
       "        4.1823e-01, 4.0954e-01, 3.2410e-01, 1.0004e+00, 7.7067e-01, 1.5020e+00,\n",
       "        1.8387e-01, 0.0000e+00, 1.6224e+00, 1.3013e+00, 0.0000e+00, 5.2496e-01,\n",
       "        2.4345e+00, 1.9253e+00, 1.2460e-01, 2.6354e-01, 6.6390e-01, 9.3442e-01,\n",
       "        1.0961e-01, 0.0000e+00, 1.0904e+00, 0.0000e+00, 1.3610e+00, 9.0804e-01,\n",
       "        4.1209e-01, 0.0000e+00, 4.7959e-01, 3.9193e-01, 1.2685e+00, 6.7923e-01,\n",
       "        7.4531e-01, 1.0359e+00, 1.3466e+00, 7.5121e-02, 8.4706e-01, 1.0698e-01,\n",
       "        0.0000e+00, 5.3619e-01, 1.1069e+00, 0.0000e+00, 1.0268e+00, 7.9058e-01,\n",
       "        4.9228e-01, 1.1831e+00, 0.0000e+00, 6.3469e-03, 3.3349e-01, 4.3659e-01,\n",
       "        4.8734e-01, 0.0000e+00, 3.3731e-01, 0.0000e+00, 3.8477e-01, 1.0700e+00,\n",
       "        2.3294e-01, 0.0000e+00, 2.0814e-02, 2.3358e+00, 1.7836e+00, 8.1640e-01,\n",
       "        5.5899e-01, 8.8570e-01, 1.1027e+00, 6.7290e-01, 0.0000e+00, 1.1806e+00,\n",
       "        3.9419e-01, 0.0000e+00, 0.0000e+00, 3.1772e-01, 0.0000e+00, 4.2640e-01,\n",
       "        4.9318e-01, 9.2465e-01, 4.1475e-02, 9.3117e-01, 4.2850e-01, 6.0092e-01,\n",
       "        2.4344e+00, 1.4600e-01, 1.7802e-02, 9.7247e-01, 0.0000e+00, 3.5910e-01,\n",
       "        0.0000e+00, 0.0000e+00, 0.0000e+00, 0.0000e+00, 5.7457e-01, 0.0000e+00,\n",
       "        0.0000e+00, 1.2257e+00, 1.4090e-01, 0.0000e+00, 0.0000e+00, 5.7792e-01,\n",
       "        1.9091e-01, 0.0000e+00, 3.1707e+00, 6.3082e-01, 8.7062e-01, 1.9638e+00,\n",
       "        1.3134e+00, 7.3949e-01])"
      ]
     },
     "execution_count": 41,
     "metadata": {},
     "output_type": "execute_result"
    }
   ],
   "source": [
    "x1 = model.relu_1(x1)\n",
    "x1"
   ]
  },
  {
   "cell_type": "code",
   "execution_count": 142,
   "id": "56d928fa-75ce-4301-a797-29bacfdb30bd",
   "metadata": {},
   "outputs": [
    {
     "data": {
      "image/png": "[encoded data removed]",
      "text/plain": [
       "<Figure size 640x480 with 1 Axes>"
      ]
     },
     "metadata": {},
     "output_type": "display_data"
    }
   ],
   "source": [
    "relu = torch.nn.ReLU()\n",
    "input = torch.linspace(-3.0, 3.0, 7)\n",
    "relu(input)\n",
    "plt.plot(input, relu(input))\n",
    "plt.axis(\"equal\")\n",
    "None"
   ]
  },
  {
   "cell_type": "code",
   "execution_count": 42,
   "id": "5c5a11e1-f5a2-463d-a7e3-4285718e2275",
   "metadata": {},
   "outputs": [
    {
     "data": {
      "image/png": "[encoded data removed]",
      "text/plain": [
       "<Figure size 640x480 with 2 Axes>"
      ]
     },
     "metadata": {},
     "output_type": "display_data"
    }
   ],
   "source": [
    "plt.imshow(x1.reshape((2**5, 2**4)))\n",
    "plt.grid(False)\n",
    "plt.colorbar()\n",
    "None"
   ]
  },
  {
   "cell_type": "code",
   "execution_count": 43,
   "id": "3e1e5c46-52a8-4fe5-a451-999dfe396a68",
   "metadata": {},
   "outputs": [
    {
     "data": {
      "text/plain": [
       "[]"
      ]
     },
     "execution_count": 43,
     "metadata": {},
     "output_type": "execute_result"
    }
   ],
   "source": [
    "list(model.relu_1.named_parameters())"
   ]
  },
  {
   "cell_type": "code",
   "execution_count": 44,
   "id": "02e1c3ad-6fe8-423d-8c18-16d97188cf5c",
   "metadata": {},
   "outputs": [
    {
     "data": {
      "text/plain": [
       "tensor([ 4.5193e-02,  2.4715e-01, -5.3508e-02, -3.3197e-02, -5.5402e-01,\n",
       "         1.7423e-01, -3.8955e-01, -8.8696e-02, -4.0643e-01,  1.6696e+00,\n",
       "        -2.0191e-01,  3.8550e-01,  4.1091e-01,  2.0389e-01,  1.1615e+00,\n",
       "         5.0936e-01,  1.5187e+00,  1.8550e+00,  3.9364e-01, -6.1430e-01,\n",
       "        -3.1030e-01, -3.7026e-01, -9.3385e-02, -5.0093e-01,  1.4686e-01,\n",
       "        -3.8066e-01,  2.9109e-01,  2.4518e-01,  1.2068e-01,  9.7248e-02,\n",
       "         1.9590e-01,  8.9326e-01, -4.4031e-01,  1.1948e+00,  2.0032e+00,\n",
       "        -1.4473e+00,  1.7262e-04, -2.6927e-01, -2.4689e-01,  1.2692e+00,\n",
       "        -6.7922e-01,  7.6290e-01,  3.2575e-01,  8.8438e-01,  7.4264e-01,\n",
       "         4.0632e-02,  4.1165e-01,  4.3593e-01,  4.3277e-01, -2.4731e-01,\n",
       "         1.1617e+00,  1.5220e+00,  1.3802e-01,  1.2317e+00,  7.9711e-01,\n",
       "         1.2756e+00, -6.2532e-01,  2.8061e-01,  4.1382e-01,  3.8979e-01,\n",
       "         1.1157e-01,  1.3655e+00,  5.7564e-01, -1.8827e-01,  1.4302e+00,\n",
       "         4.6465e-01,  1.3133e-01,  9.5735e-01,  1.5263e-01, -3.4578e-01,\n",
       "         2.2079e+00, -7.8090e-01,  5.6939e-01,  1.7802e+00,  4.4257e-01,\n",
       "         1.5249e+00,  1.3907e+00, -2.5527e-01,  1.1139e+00,  3.9438e-01,\n",
       "         7.2787e-01, -5.2807e-01,  1.5010e+00,  2.6552e-01,  1.5923e-01,\n",
       "        -3.7150e-01,  2.6019e-01,  1.1113e-01,  9.5692e-02, -7.6780e-01,\n",
       "         2.9346e-01, -1.0994e-01,  1.2158e+00,  2.1180e+00,  1.4868e+00,\n",
       "        -4.0337e-01,  8.1843e-01, -4.2922e-01,  8.9410e-02, -9.2592e-01,\n",
       "        -7.8599e-01,  1.6128e-01,  2.6386e-01,  5.7188e-01,  5.7564e-01,\n",
       "         7.1962e-01,  6.7238e-01, -3.2660e-02, -5.1333e-02, -4.3805e-01,\n",
       "        -3.5175e-01, -3.5865e-01, -1.6619e-01,  1.8293e+00,  1.1022e-01,\n",
       "         3.1649e+00, -5.2159e-01, -3.1256e-01, -8.8908e-01,  1.7949e-01,\n",
       "         5.4258e-01, -4.2285e-01, -9.1103e-01, -3.2255e-01,  1.1948e+00,\n",
       "         1.2667e+00,  1.3125e+00,  3.0337e-01,  1.3656e+00,  1.3741e+00,\n",
       "         8.5278e-01,  1.4552e+00,  2.3442e+00,  3.6996e-01, -1.0484e-01,\n",
       "        -4.9677e-01, -2.7048e-01,  1.3608e+00,  2.9897e-01,  1.1116e+00,\n",
       "        -2.3451e-01, -2.1728e-01,  1.7083e-01,  2.5692e-02, -1.8474e-01,\n",
       "        -1.8856e-01,  4.1548e+00,  1.1172e-01,  5.7852e-01,  1.3372e-01,\n",
       "         2.0628e-01,  8.7267e-01,  1.4949e+00,  1.7851e+00, -5.3533e-01,\n",
       "         4.1995e-01, -1.9968e-01,  1.0015e+00,  2.5824e-02,  8.1962e-02,\n",
       "         6.1435e-01,  5.8323e-01, -7.0024e-01,  4.1712e-01,  2.8332e-01,\n",
       "         4.8702e-02, -2.4976e-01,  1.2830e-01, -3.5995e-01,  1.3308e-01,\n",
       "         3.5303e-01, -3.4207e-01,  3.6906e-01, -2.4382e-01,  7.0501e-02,\n",
       "        -2.7124e-01,  2.5717e-01,  3.4275e-01,  3.0890e-01,  1.2036e+00,\n",
       "        -2.3043e-01, -6.6991e-01, -2.5261e-01,  9.7348e-01,  2.4659e-01,\n",
       "        -2.5084e-01, -4.1790e-01,  7.0372e-01, -1.0311e-01,  3.2835e-01,\n",
       "         1.0536e+00,  3.4144e-01,  1.1520e+00, -4.8308e-01, -2.9999e-02,\n",
       "        -5.3124e-01,  1.4375e+00, -1.0098e-01, -9.1172e-01,  2.0171e+00,\n",
       "         5.2005e-01,  1.0359e+00,  5.1497e-01, -3.3359e-01, -4.2394e-02,\n",
       "         1.1789e+00, -2.7984e-01, -8.5537e-01, -5.7612e-01,  1.3238e+00,\n",
       "         7.5038e-01,  2.3823e+00,  2.6795e+00, -4.2170e-01,  1.2563e+00,\n",
       "         7.6657e-01,  6.9557e-01,  8.4356e-03,  7.4236e-01,  3.6229e-01,\n",
       "         2.0205e+00,  1.0819e+00, -4.1000e-01,  1.9522e+00,  1.6024e-01,\n",
       "         2.5572e+00, -8.6713e-01, -5.3965e-01, -4.0729e-01, -1.3652e-01,\n",
       "        -1.8551e-01, -4.1244e-01, -3.5977e-01,  1.4273e-02,  3.8370e-02,\n",
       "         9.0733e-01, -6.1917e-01,  2.0617e+00,  6.9186e-01,  2.2704e+00,\n",
       "         2.8515e-01,  5.8793e-01,  6.6721e-01,  9.8536e-01, -2.0505e-01,\n",
       "         8.9627e-01, -4.2800e-01,  1.1022e+00, -3.8885e-01,  4.0628e-01,\n",
       "         2.5808e+00,  2.6267e-01, -1.6349e-01,  9.0144e-01,  2.7185e+00,\n",
       "         1.4141e+00, -1.2531e-01,  5.9371e-01,  9.6275e-02,  1.7310e+00,\n",
       "         5.6149e-01,  1.2700e+00, -4.5797e-01,  1.0641e+00,  2.3600e+00,\n",
       "         6.1291e-01,  1.6177e-01,  4.6663e-01,  3.2453e+00, -5.1317e-01,\n",
       "         2.6186e+00, -6.1690e-03,  2.5749e-02,  4.5664e-01,  1.5754e-01,\n",
       "         2.1984e+00, -7.4132e-01, -2.7759e-01,  1.4480e+00, -1.2626e-01,\n",
       "         1.1828e+00,  6.1802e-01,  2.0326e-01, -6.0767e-02, -1.0707e-01,\n",
       "         4.9364e-01,  6.0938e-01,  1.0229e+00,  5.1923e-01,  1.9716e-01,\n",
       "         1.4437e-01,  4.6493e-02,  2.5906e-01,  1.2265e+00, -6.0171e-01,\n",
       "        -1.4729e-01,  1.1270e+00, -6.2143e-01,  3.6709e-01,  2.0422e+00,\n",
       "         2.2771e+00,  5.5999e-01,  9.1514e-02,  1.7548e-01,  4.8508e-01,\n",
       "         2.2613e+00,  3.0450e+00, -5.8123e-01, -7.1318e-01, -7.6550e-02,\n",
       "         1.8063e+00,  1.1901e-01,  2.9092e-01,  2.7320e-01,  7.2402e-01,\n",
       "         7.1957e-01, -7.8219e-01, -8.1563e-01,  6.8685e-02,  5.6633e-02,\n",
       "        -4.3140e-01,  6.6412e-01, -2.2207e-01, -4.4193e-01,  4.7916e-01,\n",
       "        -4.9107e-01,  6.2690e-02, -1.5395e-01,  1.8131e+00, -4.2201e-01,\n",
       "         3.2798e-01,  8.7030e-02,  4.1148e-01,  1.3448e+00, -5.6829e-01,\n",
       "         9.7344e-01,  2.1964e+00, -2.8614e-01, -1.0725e+00,  1.8885e-01,\n",
       "         2.0403e-01, -3.0002e-01, -3.9439e-01, -4.6249e-01,  1.1993e+00,\n",
       "        -7.9450e-02,  1.3373e-01, -4.1380e-01,  4.0998e-01,  4.7078e-01,\n",
       "         2.2053e+00, -1.5448e-01,  7.3059e-01,  3.1994e-01,  7.0877e-01,\n",
       "         1.5397e-01, -1.7829e-01,  6.3901e-02, -1.3517e-01,  1.1993e-01,\n",
       "        -1.7298e-02, -8.7352e-02,  1.6592e-01, -3.6103e-01,  1.3575e+00,\n",
       "         8.8937e-01,  1.3723e+00, -9.5423e-01, -4.8870e-01,  6.2781e-01,\n",
       "        -6.2608e-01,  1.6513e+00,  1.1001e+00,  1.1172e+00,  8.9194e-01,\n",
       "         9.5510e-01, -3.0860e-01,  1.4095e-01,  2.7500e+00,  4.4554e-01,\n",
       "        -7.4316e-01,  2.8159e-01,  5.9777e-01, -1.0302e-01, -4.4095e-01,\n",
       "         5.2211e-01, -6.0400e-02, -3.5599e-01,  4.7389e-01,  6.4507e-03,\n",
       "        -8.1327e-01,  3.7715e-01,  1.3386e+00,  1.2860e-01, -8.5290e-01,\n",
       "         8.6252e-02,  7.3896e-01,  1.4722e+00, -9.2515e-01,  1.0050e+00,\n",
       "         3.0809e-01,  4.6998e-01,  6.7553e-01, -4.9989e-01,  1.5255e+00,\n",
       "         7.4274e-02, -2.3918e-01,  1.6022e-01,  9.2735e-01,  2.9476e+00,\n",
       "         1.5048e-01,  6.6157e-01, -8.3289e-01,  1.4028e-01,  1.6096e+00,\n",
       "         1.6459e-01,  1.2975e+00, -8.2206e-01,  6.9064e-01, -8.4233e-01,\n",
       "        -3.3755e-01,  3.2583e-01,  1.4729e+00, -2.7501e-02,  4.2352e-01,\n",
       "         1.4377e+00,  1.3767e-01,  4.4151e-02,  3.4738e-01,  1.7059e+00,\n",
       "        -1.9792e-01,  8.7563e-01,  1.1115e-01,  7.2746e-01, -7.1625e-01,\n",
       "         5.4525e-01, -6.9995e-01,  4.0561e-01, -2.7326e-01,  1.0256e+00,\n",
       "        -6.2105e-01,  2.1764e-01,  2.7842e+00,  2.2044e+00,  7.6385e-01,\n",
       "        -4.1595e-01,  2.8785e+00,  3.0834e-02, -6.6569e-01, -3.8515e-01,\n",
       "         8.1141e-01, -4.3112e-01, -3.7660e-01,  6.1633e-01, -7.4563e-01,\n",
       "         1.8176e+00,  5.6290e-01,  9.5788e-01,  8.8907e-02, -5.2831e-01,\n",
       "         9.5139e-01, -6.3901e-01,  2.0706e-01,  9.8350e-01, -6.9614e-01,\n",
       "         1.8423e-01,  6.3031e-01,  1.0785e+00, -2.1677e-01,  1.5583e-01,\n",
       "        -2.7637e-01,  3.1238e-01,  1.0270e+00,  1.0550e+00,  1.6280e-01,\n",
       "        -5.4751e-01, -9.0016e-01,  2.2212e+00, -7.3364e-01,  3.2582e-01,\n",
       "         1.4346e+00,  6.2275e-01, -3.1750e-01,  5.6661e-01, -5.8397e-01,\n",
       "         4.0062e-01,  6.5973e-01, -2.8442e-01,  7.8241e-01,  4.9095e-01,\n",
       "        -6.4508e-01, -7.7407e-01,  1.1148e+00,  1.1463e+00,  3.4221e-01,\n",
       "         1.2596e+00,  1.3741e+00,  4.3466e-01,  1.8649e+00,  1.1321e+00,\n",
       "         1.1810e-01, -3.7782e-01,  1.1366e+00, -6.0398e-01,  1.4745e+00,\n",
       "         1.7850e+00, -1.6084e-01, -5.7374e-01,  1.2949e+00,  3.2887e-01,\n",
       "        -5.4134e-01,  5.9158e-01])"
      ]
     },
     "execution_count": 44,
     "metadata": {},
     "output_type": "execute_result"
    }
   ],
   "source": [
    "linear_2_params = {name: param.data for name, param in model.linear_2.named_parameters()}\n",
    "A2 = linear_2_params[\"weight\"]\n",
    "b2 = linear_2_params[\"bias\"]\n",
    "x2 = A2 @ x1 + b2\n",
    "x2"
   ]
  },
  {
   "cell_type": "code",
   "execution_count": 45,
   "id": "65c75cb3-d78c-447b-a995-9633a3284b1c",
   "metadata": {},
   "outputs": [
    {
     "data": {
      "image/png": "[encoded data removed]",
      "text/plain": [
       "<Figure size 640x480 with 2 Axes>"
      ]
     },
     "metadata": {},
     "output_type": "display_data"
    }
   ],
   "source": [
    "plt.imshow(x2.reshape((2**5, 2**4)))\n",
    "plt.grid(False)\n",
    "plt.colorbar()\n",
    "None"
   ]
  },
  {
   "cell_type": "code",
   "execution_count": 46,
   "id": "9afeee39-f92c-430e-8fab-75f9da4ab7a5",
   "metadata": {},
   "outputs": [
    {
     "data": {
      "text/plain": [
       "tensor([4.5193e-02, 2.4715e-01, 0.0000e+00, 0.0000e+00, 0.0000e+00, 1.7423e-01,\n",
       "        0.0000e+00, 0.0000e+00, 0.0000e+00, 1.6696e+00, 0.0000e+00, 3.8550e-01,\n",
       "        4.1091e-01, 2.0389e-01, 1.1615e+00, 5.0936e-01, 1.5187e+00, 1.8550e+00,\n",
       "        3.9364e-01, 0.0000e+00, 0.0000e+00, 0.0000e+00, 0.0000e+00, 0.0000e+00,\n",
       "        1.4686e-01, 0.0000e+00, 2.9109e-01, 2.4518e-01, 1.2068e-01, 9.7248e-02,\n",
       "        1.9590e-01, 8.9326e-01, 0.0000e+00, 1.1948e+00, 2.0032e+00, 0.0000e+00,\n",
       "        1.7262e-04, 0.0000e+00, 0.0000e+00, 1.2692e+00, 0.0000e+00, 7.6290e-01,\n",
       "        3.2575e-01, 8.8438e-01, 7.4264e-01, 4.0632e-02, 4.1165e-01, 4.3593e-01,\n",
       "        4.3277e-01, 0.0000e+00, 1.1617e+00, 1.5220e+00, 1.3802e-01, 1.2317e+00,\n",
       "        7.9711e-01, 1.2756e+00, 0.0000e+00, 2.8061e-01, 4.1382e-01, 3.8979e-01,\n",
       "        1.1157e-01, 1.3655e+00, 5.7564e-01, 0.0000e+00, 1.4302e+00, 4.6465e-01,\n",
       "        1.3133e-01, 9.5735e-01, 1.5263e-01, 0.0000e+00, 2.2079e+00, 0.0000e+00,\n",
       "        5.6939e-01, 1.7802e+00, 4.4257e-01, 1.5249e+00, 1.3907e+00, 0.0000e+00,\n",
       "        1.1139e+00, 3.9438e-01, 7.2787e-01, 0.0000e+00, 1.5010e+00, 2.6552e-01,\n",
       "        1.5923e-01, 0.0000e+00, 2.6019e-01, 1.1113e-01, 9.5692e-02, 0.0000e+00,\n",
       "        2.9346e-01, 0.0000e+00, 1.2158e+00, 2.1180e+00, 1.4868e+00, 0.0000e+00,\n",
       "        8.1843e-01, 0.0000e+00, 8.9410e-02, 0.0000e+00, 0.0000e+00, 1.6128e-01,\n",
       "        2.6386e-01, 5.7188e-01, 5.7564e-01, 7.1962e-01, 6.7238e-01, 0.0000e+00,\n",
       "        0.0000e+00, 0.0000e+00, 0.0000e+00, 0.0000e+00, 0.0000e+00, 1.8293e+00,\n",
       "        1.1022e-01, 3.1649e+00, 0.0000e+00, 0.0000e+00, 0.0000e+00, 1.7949e-01,\n",
       "        5.4258e-01, 0.0000e+00, 0.0000e+00, 0.0000e+00, 1.1948e+00, 1.2667e+00,\n",
       "        1.3125e+00, 3.0337e-01, 1.3656e+00, 1.3741e+00, 8.5278e-01, 1.4552e+00,\n",
       "        2.3442e+00, 3.6996e-01, 0.0000e+00, 0.0000e+00, 0.0000e+00, 1.3608e+00,\n",
       "        2.9897e-01, 1.1116e+00, 0.0000e+00, 0.0000e+00, 1.7083e-01, 2.5692e-02,\n",
       "        0.0000e+00, 0.0000e+00, 4.1548e+00, 1.1172e-01, 5.7852e-01, 1.3372e-01,\n",
       "        2.0628e-01, 8.7267e-01, 1.4949e+00, 1.7851e+00, 0.0000e+00, 4.1995e-01,\n",
       "        0.0000e+00, 1.0015e+00, 2.5824e-02, 8.1962e-02, 6.1435e-01, 5.8323e-01,\n",
       "        0.0000e+00, 4.1712e-01, 2.8332e-01, 4.8702e-02, 0.0000e+00, 1.2830e-01,\n",
       "        0.0000e+00, 1.3308e-01, 3.5303e-01, 0.0000e+00, 3.6906e-01, 0.0000e+00,\n",
       "        7.0501e-02, 0.0000e+00, 2.5717e-01, 3.4275e-01, 3.0890e-01, 1.2036e+00,\n",
       "        0.0000e+00, 0.0000e+00, 0.0000e+00, 9.7348e-01, 2.4659e-01, 0.0000e+00,\n",
       "        0.0000e+00, 7.0372e-01, 0.0000e+00, 3.2835e-01, 1.0536e+00, 3.4144e-01,\n",
       "        1.1520e+00, 0.0000e+00, 0.0000e+00, 0.0000e+00, 1.4375e+00, 0.0000e+00,\n",
       "        0.0000e+00, 2.0171e+00, 5.2005e-01, 1.0359e+00, 5.1497e-01, 0.0000e+00,\n",
       "        0.0000e+00, 1.1789e+00, 0.0000e+00, 0.0000e+00, 0.0000e+00, 1.3238e+00,\n",
       "        7.5038e-01, 2.3823e+00, 2.6795e+00, 0.0000e+00, 1.2563e+00, 7.6657e-01,\n",
       "        6.9557e-01, 8.4356e-03, 7.4236e-01, 3.6229e-01, 2.0205e+00, 1.0819e+00,\n",
       "        0.0000e+00, 1.9522e+00, 1.6024e-01, 2.5572e+00, 0.0000e+00, 0.0000e+00,\n",
       "        0.0000e+00, 0.0000e+00, 0.0000e+00, 0.0000e+00, 0.0000e+00, 1.4273e-02,\n",
       "        3.8370e-02, 9.0733e-01, 0.0000e+00, 2.0617e+00, 6.9186e-01, 2.2704e+00,\n",
       "        2.8515e-01, 5.8793e-01, 6.6721e-01, 9.8536e-01, 0.0000e+00, 8.9627e-01,\n",
       "        0.0000e+00, 1.1022e+00, 0.0000e+00, 4.0628e-01, 2.5808e+00, 2.6267e-01,\n",
       "        0.0000e+00, 9.0144e-01, 2.7185e+00, 1.4141e+00, 0.0000e+00, 5.9371e-01,\n",
       "        9.6275e-02, 1.7310e+00, 5.6149e-01, 1.2700e+00, 0.0000e+00, 1.0641e+00,\n",
       "        2.3600e+00, 6.1291e-01, 1.6177e-01, 4.6663e-01, 3.2453e+00, 0.0000e+00,\n",
       "        2.6186e+00, 0.0000e+00, 2.5749e-02, 4.5664e-01, 1.5754e-01, 2.1984e+00,\n",
       "        0.0000e+00, 0.0000e+00, 1.4480e+00, 0.0000e+00, 1.1828e+00, 6.1802e-01,\n",
       "        2.0326e-01, 0.0000e+00, 0.0000e+00, 4.9364e-01, 6.0938e-01, 1.0229e+00,\n",
       "        5.1923e-01, 1.9716e-01, 1.4437e-01, 4.6493e-02, 2.5906e-01, 1.2265e+00,\n",
       "        0.0000e+00, 0.0000e+00, 1.1270e+00, 0.0000e+00, 3.6709e-01, 2.0422e+00,\n",
       "        2.2771e+00, 5.5999e-01, 9.1514e-02, 1.7548e-01, 4.8508e-01, 2.2613e+00,\n",
       "        3.0450e+00, 0.0000e+00, 0.0000e+00, 0.0000e+00, 1.8063e+00, 1.1901e-01,\n",
       "        2.9092e-01, 2.7320e-01, 7.2402e-01, 7.1957e-01, 0.0000e+00, 0.0000e+00,\n",
       "        6.8685e-02, 5.6633e-02, 0.0000e+00, 6.6412e-01, 0.0000e+00, 0.0000e+00,\n",
       "        4.7916e-01, 0.0000e+00, 6.2690e-02, 0.0000e+00, 1.8131e+00, 0.0000e+00,\n",
       "        3.2798e-01, 8.7030e-02, 4.1148e-01, 1.3448e+00, 0.0000e+00, 9.7344e-01,\n",
       "        2.1964e+00, 0.0000e+00, 0.0000e+00, 1.8885e-01, 2.0403e-01, 0.0000e+00,\n",
       "        0.0000e+00, 0.0000e+00, 1.1993e+00, 0.0000e+00, 1.3373e-01, 0.0000e+00,\n",
       "        4.0998e-01, 4.7078e-01, 2.2053e+00, 0.0000e+00, 7.3059e-01, 3.1994e-01,\n",
       "        7.0877e-01, 1.5397e-01, 0.0000e+00, 6.3901e-02, 0.0000e+00, 1.1993e-01,\n",
       "        0.0000e+00, 0.0000e+00, 1.6592e-01, 0.0000e+00, 1.3575e+00, 8.8937e-01,\n",
       "        1.3723e+00, 0.0000e+00, 0.0000e+00, 6.2781e-01, 0.0000e+00, 1.6513e+00,\n",
       "        1.1001e+00, 1.1172e+00, 8.9194e-01, 9.5510e-01, 0.0000e+00, 1.4095e-01,\n",
       "        2.7500e+00, 4.4554e-01, 0.0000e+00, 2.8159e-01, 5.9777e-01, 0.0000e+00,\n",
       "        0.0000e+00, 5.2211e-01, 0.0000e+00, 0.0000e+00, 4.7389e-01, 6.4507e-03,\n",
       "        0.0000e+00, 3.7715e-01, 1.3386e+00, 1.2860e-01, 0.0000e+00, 8.6252e-02,\n",
       "        7.3896e-01, 1.4722e+00, 0.0000e+00, 1.0050e+00, 3.0809e-01, 4.6998e-01,\n",
       "        6.7553e-01, 0.0000e+00, 1.5255e+00, 7.4274e-02, 0.0000e+00, 1.6022e-01,\n",
       "        9.2735e-01, 2.9476e+00, 1.5048e-01, 6.6157e-01, 0.0000e+00, 1.4028e-01,\n",
       "        1.6096e+00, 1.6459e-01, 1.2975e+00, 0.0000e+00, 6.9064e-01, 0.0000e+00,\n",
       "        0.0000e+00, 3.2583e-01, 1.4729e+00, 0.0000e+00, 4.2352e-01, 1.4377e+00,\n",
       "        1.3767e-01, 4.4151e-02, 3.4738e-01, 1.7059e+00, 0.0000e+00, 8.7563e-01,\n",
       "        1.1115e-01, 7.2746e-01, 0.0000e+00, 5.4525e-01, 0.0000e+00, 4.0561e-01,\n",
       "        0.0000e+00, 1.0256e+00, 0.0000e+00, 2.1764e-01, 2.7842e+00, 2.2044e+00,\n",
       "        7.6385e-01, 0.0000e+00, 2.8785e+00, 3.0834e-02, 0.0000e+00, 0.0000e+00,\n",
       "        8.1141e-01, 0.0000e+00, 0.0000e+00, 6.1633e-01, 0.0000e+00, 1.8176e+00,\n",
       "        5.6290e-01, 9.5788e-01, 8.8907e-02, 0.0000e+00, 9.5139e-01, 0.0000e+00,\n",
       "        2.0706e-01, 9.8350e-01, 0.0000e+00, 1.8423e-01, 6.3031e-01, 1.0785e+00,\n",
       "        0.0000e+00, 1.5583e-01, 0.0000e+00, 3.1238e-01, 1.0270e+00, 1.0550e+00,\n",
       "        1.6280e-01, 0.0000e+00, 0.0000e+00, 2.2212e+00, 0.0000e+00, 3.2582e-01,\n",
       "        1.4346e+00, 6.2275e-01, 0.0000e+00, 5.6661e-01, 0.0000e+00, 4.0062e-01,\n",
       "        6.5973e-01, 0.0000e+00, 7.8241e-01, 4.9095e-01, 0.0000e+00, 0.0000e+00,\n",
       "        1.1148e+00, 1.1463e+00, 3.4221e-01, 1.2596e+00, 1.3741e+00, 4.3466e-01,\n",
       "        1.8649e+00, 1.1321e+00, 1.1810e-01, 0.0000e+00, 1.1366e+00, 0.0000e+00,\n",
       "        1.4745e+00, 1.7850e+00, 0.0000e+00, 0.0000e+00, 1.2949e+00, 3.2887e-01,\n",
       "        0.0000e+00, 5.9158e-01])"
      ]
     },
     "execution_count": 46,
     "metadata": {},
     "output_type": "execute_result"
    }
   ],
   "source": [
    "x2 = model.relu_2(x2)\n",
    "x2"
   ]
  },
  {
   "cell_type": "code",
   "execution_count": 47,
   "id": "8e21edf2-ce29-4037-bed2-9274672655d1",
   "metadata": {},
   "outputs": [
    {
     "data": {
      "image/png": "[encoded data removed]",
      "text/plain": [
       "<Figure size 640x480 with 2 Axes>"
      ]
     },
     "metadata": {},
     "output_type": "display_data"
    }
   ],
   "source": [
    "plt.imshow(x2.reshape((2**5, 2**4)))\n",
    "plt.grid(False)\n",
    "plt.colorbar()\n",
    "None"
   ]
  },
  {
   "cell_type": "code",
   "execution_count": 48,
   "id": "e359b5a0-670c-49fc-99d7-79cdb586d0e1",
   "metadata": {},
   "outputs": [
    {
     "data": {
      "text/plain": [
       "tensor([ -5.0635, -10.2997,  -2.5343,  -3.8617,  -1.4204,   6.7209,  -1.7712,\n",
       "          4.3737,   5.1194,   8.8152])"
      ]
     },
     "execution_count": 48,
     "metadata": {},
     "output_type": "execute_result"
    }
   ],
   "source": [
    "linear_3_params = {name: param.data for name, param in model.linear_3.named_parameters()}\n",
    "A3 = linear_3_params[\"weight\"]\n",
    "b3 = linear_3_params[\"bias\"]\n",
    "x3 = A3 @ x2 + b3\n",
    "x3"
   ]
  },
  {
   "cell_type": "code",
   "execution_count": 49,
   "id": "6574bed7-4755-4847-9268-ec1bccdff204",
   "metadata": {},
   "outputs": [
    {
     "data": {
      "text/plain": [
       "tensor([8.0939e-07, 4.3064e-09, 1.0153e-05, 2.6920e-06, 3.0927e-05, 1.0618e-01,\n",
       "        2.1777e-05, 1.0155e-02, 2.1407e-02, 8.6219e-01])"
      ]
     },
     "execution_count": 49,
     "metadata": {},
     "output_type": "execute_result"
    }
   ],
   "source": [
    "def softmax(x):\n",
    "    return torch.nn.functional.softmax(x, dim=0)\n",
    "\n",
    "probas = softmax(x3)\n",
    "probas"
   ]
  },
  {
   "cell_type": "code",
   "execution_count": 50,
   "id": "e711f687-e2c7-4349-9155-c17d559898f5",
   "metadata": {},
   "outputs": [
    {
     "data": {
      "text/plain": [
       "{'T-shirt/top': 8.093874157566461e-07,\n",
       " 'Trouser': 4.306432099809854e-09,\n",
       " 'Pullover': 1.0152617505809758e-05,\n",
       " 'Dress': 2.691969712032005e-06,\n",
       " 'Coat': 3.0927330954000354e-05,\n",
       " 'Sandal': 0.10618074238300323,\n",
       " 'Shirt': 2.177722126361914e-05,\n",
       " 'Sneaker': 0.010154898278415203,\n",
       " 'Bag': 0.021406900137662888,\n",
       " 'Ankle boot': 0.8621910810470581}"
      ]
     },
     "execution_count": 50,
     "metadata": {},
     "output_type": "execute_result"
    }
   ],
   "source": [
    "data = {training_data.classes[i]: p.item() for i, p in enumerate(probas)}\n",
    "data"
   ]
  },
  {
   "cell_type": "code",
   "execution_count": 51,
   "id": "48934c97-27f8-4d11-a2d1-af19e0cc5810",
   "metadata": {},
   "outputs": [
    {
     "data": {
      "image/png": "[encoded data removed]",
      "text/plain": [
       "<Figure size 1200x480 with 1 Axes>"
      ]
     },
     "metadata": {},
     "output_type": "display_data"
    }
   ],
   "source": [
    "import seaborn as sns; sns.set_theme()\n",
    "sns.barplot(data)\n",
    "plt.gcf().set_figwidth(12)\n",
    "plt.gca().set_ylabel(\"Probability\")\n",
    "None"
   ]
  },
  {
   "cell_type": "code",
   "execution_count": 52,
   "id": "5a5b94a0-b39a-4637-b5de-3090438183d4",
   "metadata": {},
   "outputs": [],
   "source": [
    "out = model(t).data.squeeze()"
   ]
  },
  {
   "cell_type": "code",
   "execution_count": 53,
   "id": "7979dd2d-f699-4074-9c81-5c6988b8332d",
   "metadata": {},
   "outputs": [],
   "source": [
    "ps = torch.nn.functional.softmax(out, dim=-1)"
   ]
  },
  {
   "cell_type": "code",
   "execution_count": 54,
   "id": "cebb45c1-34cd-4e47-be96-18b58d90eb09",
   "metadata": {},
   "outputs": [
    {
     "data": {
      "image/png": "[encoded data removed]",
      "text/plain": [
       "<Figure size 1200x480 with 1 Axes>"
      ]
     },
     "metadata": {},
     "output_type": "display_data"
    }
   ],
   "source": [
    "data = {training_data.classes[i]: p.item() for i, p in enumerate(ps)}\n",
    "sns.barplot(data)\n",
    "plt.gcf().set_figwidth(12)\n",
    "plt.gca().set_ylabel(\"Probability\")\n",
    "None"
   ]
  },
  {
   "cell_type": "markdown",
   "id": "f61f1b95-6b16-4504-85e9-53521e1c1737",
   "metadata": {},
   "source": [
    "## Training"
   ]
  },
  {
   "cell_type": "markdown",
   "id": "69b12003-c8b8-4aa1-8636-2fd71eba47ee",
   "metadata": {},
   "source": [
    "### Loss Function"
   ]
  },
  {
   "cell_type": "markdown",
   "id": "01fbc792-5d57-4dac-82b5-4e2720faa1d7",
   "metadata": {},
   "source": [
    "The loss function is a measure of the model prediction error: the mismatch between the output predicted by the model and the \"real\" output. Here, in the context of category identification, we use the cross-entropy loss function."
   ]
  },
  {
   "cell_type": "code",
   "execution_count": 55,
   "id": "7cc958b3-06de-42d3-b474-d050064e2664",
   "metadata": {},
   "outputs": [],
   "source": [
    "loss_function = torch.nn.CrossEntropyLoss()"
   ]
  },
  {
   "cell_type": "markdown",
   "id": "9829fa6f-7bd3-4543-af3d-ff1787adc15f",
   "metadata": {},
   "source": [
    "It measures the differences between two probability distributions: here a computed probability distribution $p=(p_0, \\dots, p_{n-1})$ and a \"deterministic\" distribution $q=e_i$ with\n",
    "$$\n",
    "e_i=(0, \\dots, 0, 1, 0, \\dots, 0) \\;\\;\\; \\mbox{($1$ in position $i$)}\n",
    "$$\n",
    "with:\n",
    "$$\n",
    "\\mathrm{loss}(p, e_i) = - \\log p_i. \n",
    "$$\n",
    "The loss is zero when $p_i = 1$ (perfect match) and $-\\infty$ when $p_i = 0$. It does not depend on the distribution of the $p_j$ for $j \\neq i$."
   ]
  },
  {
   "cell_type": "markdown",
   "id": "9594209a-b512-4e6e-93f9-2b71ff10523d",
   "metadata": {},
   "source": [
    "```{warning}\n",
    "The pytorch cross entropy function works directly with unnormalized log probabilities \n",
    "$$\n",
    "\\ell_i := \\log p_i + c\n",
    "$$\n",
    "(the log probabilities up to a shared constant $c$) instead of the probabilites $p$. \n",
    "The deterministic distribution is also specified by the index $i$ instead of the vector $q=e_i$.\n",
    "Hence, it actually computes\n",
    "$$\n",
    "\\mathrm{loss}(\\ell, i) := -\\ell_i  + \\log \\left( \\sum_je^{\\ell_j} \\right). \n",
    "$$\n",
    "```\n"
   ]
  },
  {
   "cell_type": "code",
   "execution_count": 56,
   "id": "91d4e5b5-ed42-40b7-87d1-3bac24922523",
   "metadata": {},
   "outputs": [],
   "source": [
    "cross_entropy = torch.nn.CrossEntropyLoss()"
   ]
  },
  {
   "cell_type": "code",
   "execution_count": 57,
   "id": "d92e0aa6-5996-434c-9dd8-39efe834f759",
   "metadata": {},
   "outputs": [
    {
     "data": {
      "text/plain": [
       "tensor(0.)"
      ]
     },
     "execution_count": 57,
     "metadata": {},
     "output_type": "execute_result"
    }
   ],
   "source": [
    "cross_entropy(\n",
    "    input=torch.tensor([1.0, 0.0]).log(), \n",
    "    target=torch.tensor(0)\n",
    ")"
   ]
  },
  {
   "cell_type": "code",
   "execution_count": 58,
   "id": "180327b1-3359-4f73-8732-00a88ed1d56b",
   "metadata": {},
   "outputs": [
    {
     "data": {
      "text/plain": [
       "tensor(inf)"
      ]
     },
     "execution_count": 58,
     "metadata": {},
     "output_type": "execute_result"
    }
   ],
   "source": [
    "cross_entropy(\n",
    "    input=torch.tensor([0.0, 1.0]).log(), \n",
    "    target=torch.tensor(0)\n",
    ")"
   ]
  },
  {
   "cell_type": "code",
   "execution_count": 59,
   "id": "f7166f6d-2ab0-43d9-8a6f-d3a63360cc82",
   "metadata": {},
   "outputs": [
    {
     "data": {
      "text/plain": [
       "tensor(0.6931)"
      ]
     },
     "execution_count": 59,
     "metadata": {},
     "output_type": "execute_result"
    }
   ],
   "source": [
    "cross_entropy(\n",
    "    input=torch.tensor([0.5, 0.5]).log(), \n",
    "    target=torch.tensor(0)\n",
    ")"
   ]
  },
  {
   "cell_type": "code",
   "execution_count": 60,
   "id": "6015f27e-cf7f-49d6-a87b-5450eb3767ec",
   "metadata": {},
   "outputs": [
    {
     "data": {
      "text/plain": [
       "tensor(0.6931)"
      ]
     },
     "execution_count": 60,
     "metadata": {},
     "output_type": "execute_result"
    }
   ],
   "source": [
    "- torch.tensor(0.5).log()"
   ]
  },
  {
   "cell_type": "code",
   "execution_count": 61,
   "id": "bee1b949-21a5-4bdf-a87a-b1d31017a60f",
   "metadata": {},
   "outputs": [
    {
     "data": {
      "text/plain": [
       "tensor(0.4055)"
      ]
     },
     "execution_count": 61,
     "metadata": {},
     "output_type": "execute_result"
    }
   ],
   "source": [
    "cross_entropy(\n",
    "    input=torch.tensor([2/3, 1/3]).log(), \n",
    "    target=torch.tensor(0)\n",
    ")"
   ]
  },
  {
   "cell_type": "code",
   "execution_count": 62,
   "id": "b88c2bec-2ffa-4e33-83bc-70e4ecf7e64e",
   "metadata": {},
   "outputs": [
    {
     "data": {
      "text/plain": [
       "tensor(0.4055)"
      ]
     },
     "execution_count": 62,
     "metadata": {},
     "output_type": "execute_result"
    }
   ],
   "source": [
    "cross_entropy(\n",
    "    input=torch.tensor([200.0, 100.0]).log(), \n",
    "    target=torch.tensor(0)\n",
    ")"
   ]
  },
  {
   "cell_type": "markdown",
   "id": "76498a78-0ccb-415e-a7e2-130e4040d35e",
   "metadata": {},
   "source": [
    "### Data Loader"
   ]
  },
  {
   "cell_type": "code",
   "execution_count": 63,
   "id": "a0b9ba81-fcc2-488b-b697-2f7ae3ad1055",
   "metadata": {},
   "outputs": [
    {
     "name": "stdout",
     "output_type": "stream",
     "text": [
      "X = [N, C, H, W]: torch.Size([64, 1, 28, 28])\n",
      "y: torch.Size([64]) torch.int64\n"
     ]
    }
   ],
   "source": [
    "batch_size = 64\n",
    "\n",
    "# Create data loaders.\n",
    "train_dataloader = torch.utils.data.DataLoader(training_data, batch_size=batch_size)\n",
    "test_dataloader = torch.utils.data.DataLoader(test_data, batch_size=batch_size)\n",
    "\n",
    "for X, y in test_dataloader:\n",
    "    print(f\"X = [N, C, H, W]: {X.shape}\")\n",
    "    print(f\"y: {y.shape} {y.dtype}\")\n",
    "    break"
   ]
  },
  {
   "cell_type": "markdown",
   "id": "402984b7-449a-4418-8587-d40495519216",
   "metadata": {},
   "source": [
    "### Training"
   ]
  },
  {
   "cell_type": "code",
   "execution_count": 64,
   "id": "b40c6413-f34f-4060-a4ab-71fc1dd26137",
   "metadata": {},
   "outputs": [],
   "source": [
    "def train(dataloader, model, loss_fn, optimizer):\n",
    "    size = len(dataloader.dataset)\n",
    "    model.train()\n",
    "    for batch, (X, y) in enumerate(dataloader):\n",
    "        # Compute prediction error\n",
    "        pred = model(X)\n",
    "        loss = loss_fn(pred, y)\n",
    "\n",
    "        # Backpropagation\n",
    "        loss.backward()\n",
    "        optimizer.step()\n",
    "        optimizer.zero_grad()\n",
    "\n",
    "        if batch % 100 == 0:\n",
    "            loss, current = loss.item(), (batch + 1) * len(X)\n",
    "            print(f\"loss: {loss:>7f}  [{current:>5d}/{size:>5d}]\")"
   ]
  },
  {
   "cell_type": "code",
   "execution_count": 65,
   "id": "05342f5e-b04b-4698-b192-a13d9015e5d6",
   "metadata": {},
   "outputs": [],
   "source": [
    "def test(dataloader, model, loss_fn):\n",
    "    \"\"\"\n",
    "    Returns:\n",
    "      - score, the probability of a correct inference on the test dataset\n",
    "    \"\"\"\n",
    "    size = len(dataloader.dataset)\n",
    "    num_batches = len(dataloader)\n",
    "    model.eval()\n",
    "    test_loss, correct = 0, 0\n",
    "    with torch.no_grad():\n",
    "        for X, y in dataloader:\n",
    "            pred = model(X)\n",
    "            test_loss += loss_fn(pred, y).item()\n",
    "            correct += (pred.argmax(1) == y).type(torch.float).sum().item()\n",
    "    test_loss /= num_batches\n",
    "    correct /= size\n",
    "    print(f\"Test Error: \\n Accuracy: {(100*correct):>0.2f}%, Avg loss: {test_loss:>8f} \\n\")\n",
    "    return correct"
   ]
  },
  {
   "cell_type": "code",
   "execution_count": 66,
   "id": "d7e912bc-4e8a-4dbb-824f-d62ae9f2ae2d",
   "metadata": {},
   "outputs": [
    {
     "name": "stdout",
     "output_type": "stream",
     "text": [
      "Test Error: \n",
      " Accuracy: 9.95%, Avg loss: 2.303694 \n",
      "\n",
      "Epoch 2\n",
      "-------------------------------\n",
      "loss: 2.304295  [   64/60000]\n",
      "loss: 2.291619  [ 6464/60000]\n",
      "loss: 2.275531  [12864/60000]\n",
      "loss: 2.260639  [19264/60000]\n",
      "loss: 2.244066  [25664/60000]\n",
      "loss: 2.209937  [32064/60000]\n",
      "loss: 2.210268  [38464/60000]\n",
      "loss: 2.186495  [44864/60000]\n",
      "loss: 2.178486  [51264/60000]\n",
      "loss: 2.139348  [57664/60000]\n",
      "Test Error: \n",
      " Accuracy: 52.78%, Avg loss: 2.137757 \n",
      "\n",
      "Epoch 3\n",
      "-------------------------------\n",
      "loss: 2.151297  [   64/60000]\n",
      "loss: 2.140881  [ 6464/60000]\n",
      "loss: 2.084896  [12864/60000]\n",
      "loss: 2.093015  [19264/60000]\n",
      "loss: 2.033889  [25664/60000]\n",
      "loss: 1.974120  [32064/60000]\n",
      "loss: 1.995442  [38464/60000]\n",
      "loss: 1.926260  [44864/60000]\n",
      "loss: 1.932283  [51264/60000]\n",
      "loss: 1.841078  [57664/60000]\n",
      "Test Error: \n",
      " Accuracy: 60.60%, Avg loss: 1.846590 \n",
      "\n",
      "Epoch 4\n",
      "-------------------------------\n",
      "loss: 1.885732  [   64/60000]\n",
      "loss: 1.852837  [ 6464/60000]\n",
      "loss: 1.736268  [12864/60000]\n",
      "loss: 1.770142  [19264/60000]\n",
      "loss: 1.656217  [25664/60000]\n",
      "loss: 1.609590  [32064/60000]\n",
      "loss: 1.624837  [38464/60000]\n",
      "loss: 1.542782  [44864/60000]\n",
      "loss: 1.567383  [51264/60000]\n",
      "loss: 1.448842  [57664/60000]\n",
      "Test Error: \n",
      " Accuracy: 61.85%, Avg loss: 1.475268 \n",
      "\n",
      "Epoch 5\n",
      "-------------------------------\n",
      "loss: 1.544374  [   64/60000]\n",
      "loss: 1.513057  [ 6464/60000]\n",
      "loss: 1.365250  [12864/60000]\n",
      "loss: 1.433633  [19264/60000]\n",
      "loss: 1.308984  [25664/60000]\n",
      "loss: 1.309215  [32064/60000]\n",
      "loss: 1.318293  [38464/60000]\n",
      "loss: 1.263974  [44864/60000]\n",
      "loss: 1.296090  [51264/60000]\n",
      "loss: 1.192620  [57664/60000]\n",
      "Test Error: \n",
      " Accuracy: 63.16%, Avg loss: 1.220373 \n",
      "\n",
      "Epoch 6\n",
      "-------------------------------\n",
      "loss: 1.296550  [   64/60000]\n",
      "loss: 1.284655  [ 6464/60000]\n",
      "loss: 1.119520  [12864/60000]\n",
      "loss: 1.224517  [19264/60000]\n",
      "loss: 1.087677  [25664/60000]\n",
      "loss: 1.119869  [32064/60000]\n",
      "loss: 1.137897  [38464/60000]\n",
      "loss: 1.096742  [44864/60000]\n",
      "loss: 1.130996  [51264/60000]\n",
      "loss: 1.048850  [57664/60000]\n",
      "Test Error: \n",
      " Accuracy: 64.58%, Avg loss: 1.066606 \n",
      "\n",
      "Epoch 7\n",
      "-------------------------------\n",
      "loss: 1.135667  [   64/60000]\n",
      "loss: 1.144899  [ 6464/60000]\n",
      "loss: 0.961497  [12864/60000]\n",
      "loss: 1.096154  [19264/60000]\n",
      "loss: 0.955086  [25664/60000]\n",
      "loss: 0.994776  [32064/60000]\n",
      "loss: 1.029124  [38464/60000]\n",
      "loss: 0.991432  [44864/60000]\n",
      "loss: 1.024763  [51264/60000]\n",
      "loss: 0.960265  [57664/60000]\n",
      "Test Error: \n",
      " Accuracy: 65.90%, Avg loss: 0.968346 \n",
      "\n",
      "Epoch 8\n",
      "-------------------------------\n",
      "loss: 1.025015  [   64/60000]\n",
      "loss: 1.054564  [ 6464/60000]\n",
      "loss: 0.853597  [12864/60000]\n",
      "loss: 1.010944  [19264/60000]\n",
      "loss: 0.872312  [25664/60000]\n",
      "loss: 0.906340  [32064/60000]\n",
      "loss: 0.957867  [38464/60000]\n",
      "loss: 0.922152  [44864/60000]\n",
      "loss: 0.951300  [51264/60000]\n",
      "loss: 0.900250  [57664/60000]\n",
      "Test Error: \n",
      " Accuracy: 67.24%, Avg loss: 0.900724 \n",
      "\n",
      "Epoch 9\n",
      "-------------------------------\n",
      "loss: 0.943266  [   64/60000]\n",
      "loss: 0.990687  [ 6464/60000]\n",
      "loss: 0.775303  [12864/60000]\n",
      "loss: 0.950055  [19264/60000]\n",
      "loss: 0.816508  [25664/60000]\n",
      "loss: 0.840774  [32064/60000]\n",
      "loss: 0.906731  [38464/60000]\n",
      "loss: 0.874480  [44864/60000]\n",
      "loss: 0.897816  [51264/60000]\n",
      "loss: 0.855542  [57664/60000]\n",
      "Test Error: \n",
      " Accuracy: 68.46%, Avg loss: 0.851185 \n",
      "\n",
      "Epoch 10\n",
      "-------------------------------\n",
      "loss: 0.879706  [   64/60000]\n",
      "loss: 0.941919  [ 6464/60000]\n",
      "loss: 0.715799  [12864/60000]\n",
      "loss: 0.903939  [19264/60000]\n",
      "loss: 0.775989  [25664/60000]\n",
      "loss: 0.790777  [32064/60000]\n",
      "loss: 0.867207  [38464/60000]\n",
      "loss: 0.840128  [44864/60000]\n",
      "loss: 0.857459  [51264/60000]\n",
      "loss: 0.820306  [57664/60000]\n",
      "Test Error: \n",
      " Accuracy: 69.77%, Avg loss: 0.813012 \n",
      "\n",
      "Epoch 11\n",
      "-------------------------------\n",
      "loss: 0.828301  [   64/60000]\n",
      "loss: 0.902088  [ 6464/60000]\n",
      "loss: 0.668974  [12864/60000]\n",
      "loss: 0.867875  [19264/60000]\n",
      "loss: 0.744637  [25664/60000]\n",
      "loss: 0.751854  [32064/60000]\n",
      "loss: 0.834554  [38464/60000]\n",
      "loss: 0.813897  [44864/60000]\n",
      "loss: 0.825826  [51264/60000]\n",
      "loss: 0.791275  [57664/60000]\n",
      "Test Error: \n",
      " Accuracy: 70.94%, Avg loss: 0.782275 \n",
      "\n",
      "Epoch 12\n",
      "-------------------------------\n",
      "loss: 0.785352  [   64/60000]\n",
      "loss: 0.867848  [ 6464/60000]\n",
      "loss: 0.630867  [12864/60000]\n",
      "loss: 0.838776  [19264/60000]\n",
      "loss: 0.719200  [25664/60000]\n",
      "loss: 0.720820  [32064/60000]\n",
      "loss: 0.806447  [38464/60000]\n",
      "loss: 0.792897  [44864/60000]\n",
      "loss: 0.800040  [51264/60000]\n",
      "loss: 0.766482  [57664/60000]\n",
      "Test Error: \n",
      " Accuracy: 72.13%, Avg loss: 0.756569 \n",
      "\n",
      "Epoch 13\n",
      "-------------------------------\n",
      "loss: 0.748561  [   64/60000]\n",
      "loss: 0.837526  [ 6464/60000]\n",
      "loss: 0.599207  [12864/60000]\n",
      "loss: 0.814826  [19264/60000]\n",
      "loss: 0.697800  [25664/60000]\n",
      "loss: 0.695690  [32064/60000]\n",
      "loss: 0.781488  [38464/60000]\n",
      "loss: 0.775175  [44864/60000]\n",
      "loss: 0.778555  [51264/60000]\n",
      "loss: 0.744661  [57664/60000]\n",
      "Test Error: \n",
      " Accuracy: 73.25%, Avg loss: 0.734369 \n",
      "\n",
      "Epoch 14\n",
      "-------------------------------\n",
      "loss: 0.716507  [   64/60000]\n",
      "loss: 0.810150  [ 6464/60000]\n",
      "loss: 0.572251  [12864/60000]\n",
      "loss: 0.794507  [19264/60000]\n",
      "loss: 0.679286  [25664/60000]\n",
      "loss: 0.675024  [32064/60000]\n",
      "loss: 0.758638  [38464/60000]\n",
      "loss: 0.759584  [44864/60000]\n",
      "loss: 0.760051  [51264/60000]\n",
      "loss: 0.725001  [57664/60000]\n",
      "Test Error: \n",
      " Accuracy: 74.27%, Avg loss: 0.714731 \n",
      "\n",
      "Epoch 15\n",
      "-------------------------------\n",
      "loss: 0.688227  [   64/60000]\n",
      "loss: 0.785092  [ 6464/60000]\n",
      "loss: 0.548752  [12864/60000]\n",
      "loss: 0.776803  [19264/60000]\n",
      "loss: 0.663056  [25664/60000]\n",
      "loss: 0.657614  [32064/60000]\n",
      "loss: 0.737493  [38464/60000]\n",
      "loss: 0.745548  [44864/60000]\n",
      "loss: 0.743976  [51264/60000]\n",
      "loss: 0.707129  [57664/60000]\n",
      "Test Error: \n",
      " Accuracy: 75.14%, Avg loss: 0.697050 \n",
      "\n",
      "Epoch 16\n",
      "-------------------------------\n",
      "loss: 0.662984  [   64/60000]\n",
      "loss: 0.762066  [ 6464/60000]\n",
      "loss: 0.528162  [12864/60000]\n",
      "loss: 0.761057  [19264/60000]\n",
      "loss: 0.648712  [25664/60000]\n",
      "loss: 0.642827  [32064/60000]\n",
      "loss: 0.717799  [38464/60000]\n",
      "loss: 0.732788  [44864/60000]\n",
      "loss: 0.729810  [51264/60000]\n",
      "loss: 0.690743  [57664/60000]\n",
      "Test Error: \n",
      " Accuracy: 75.87%, Avg loss: 0.680972 \n",
      "\n",
      "Epoch 17\n",
      "-------------------------------\n",
      "loss: 0.640240  [   64/60000]\n",
      "loss: 0.740921  [ 6464/60000]\n",
      "loss: 0.509844  [12864/60000]\n",
      "loss: 0.746871  [19264/60000]\n",
      "loss: 0.636073  [25664/60000]\n",
      "loss: 0.630040  [32064/60000]\n",
      "loss: 0.699334  [38464/60000]\n",
      "loss: 0.721125  [44864/60000]\n",
      "loss: 0.717201  [51264/60000]\n",
      "loss: 0.675640  [57664/60000]\n",
      "Test Error: \n",
      " Accuracy: 76.58%, Avg loss: 0.666249 \n",
      "\n",
      "Epoch 18\n",
      "-------------------------------\n",
      "loss: 0.619647  [   64/60000]\n",
      "loss: 0.721487  [ 6464/60000]\n",
      "loss: 0.493446  [12864/60000]\n",
      "loss: 0.733753  [19264/60000]\n",
      "loss: 0.624868  [25664/60000]\n",
      "loss: 0.618877  [32064/60000]\n",
      "loss: 0.682080  [38464/60000]\n",
      "loss: 0.710571  [44864/60000]\n",
      "loss: 0.705912  [51264/60000]\n",
      "loss: 0.661540  [57664/60000]\n",
      "Test Error: \n",
      " Accuracy: 77.20%, Avg loss: 0.652706 \n",
      "\n",
      "Epoch 19\n",
      "-------------------------------\n",
      "loss: 0.600983  [   64/60000]\n",
      "loss: 0.703610  [ 6464/60000]\n",
      "loss: 0.478690  [12864/60000]\n",
      "loss: 0.721574  [19264/60000]\n",
      "loss: 0.614800  [25664/60000]\n",
      "loss: 0.609040  [32064/60000]\n",
      "loss: 0.666098  [38464/60000]\n",
      "loss: 0.701120  [44864/60000]\n",
      "loss: 0.695899  [51264/60000]\n",
      "loss: 0.648295  [57664/60000]\n",
      "Test Error: \n",
      " Accuracy: 77.71%, Avg loss: 0.640230 \n",
      "\n",
      "Epoch 20\n",
      "-------------------------------\n",
      "loss: 0.584028  [   64/60000]\n",
      "loss: 0.687135  [ 6464/60000]\n",
      "loss: 0.465346  [12864/60000]\n",
      "loss: 0.710238  [19264/60000]\n",
      "loss: 0.605871  [25664/60000]\n",
      "loss: 0.600412  [32064/60000]\n",
      "loss: 0.651253  [38464/60000]\n",
      "loss: 0.692841  [44864/60000]\n",
      "loss: 0.687041  [51264/60000]\n",
      "loss: 0.635793  [57664/60000]\n",
      "Test Error: \n",
      " Accuracy: 78.13%, Avg loss: 0.628720 \n",
      "\n",
      "Epoch 21\n",
      "-------------------------------\n",
      "loss: 0.568500  [   64/60000]\n",
      "loss: 0.671921  [ 6464/60000]\n",
      "loss: 0.453192  [12864/60000]\n",
      "loss: 0.699595  [19264/60000]\n",
      "loss: 0.597753  [25664/60000]\n",
      "loss: 0.592842  [32064/60000]\n",
      "loss: 0.637573  [38464/60000]\n",
      "loss: 0.685662  [44864/60000]\n",
      "loss: 0.679330  [51264/60000]\n",
      "loss: 0.624060  [57664/60000]\n",
      "Test Error: \n",
      " Accuracy: 78.70%, Avg loss: 0.618116 \n",
      "\n",
      "Epoch 22\n",
      "-------------------------------\n",
      "loss: 0.554245  [   64/60000]\n",
      "loss: 0.657890  [ 6464/60000]\n",
      "loss: 0.442080  [12864/60000]\n",
      "loss: 0.689554  [19264/60000]\n",
      "loss: 0.590377  [25664/60000]\n",
      "loss: 0.585991  [32064/60000]\n",
      "loss: 0.624899  [38464/60000]\n",
      "loss: 0.679408  [44864/60000]\n",
      "loss: 0.672584  [51264/60000]\n",
      "loss: 0.612980  [57664/60000]\n",
      "Test Error: \n",
      " Accuracy: 79.02%, Avg loss: 0.608344 \n",
      "\n",
      "Epoch 23\n",
      "-------------------------------\n",
      "loss: 0.541170  [   64/60000]\n",
      "loss: 0.644967  [ 6464/60000]\n",
      "loss: 0.431974  [12864/60000]\n",
      "loss: 0.680020  [19264/60000]\n",
      "loss: 0.583624  [25664/60000]\n",
      "loss: 0.579793  [32064/60000]\n",
      "loss: 0.613166  [38464/60000]\n",
      "loss: 0.674153  [44864/60000]\n",
      "loss: 0.666728  [51264/60000]\n",
      "loss: 0.602463  [57664/60000]\n",
      "Test Error: \n",
      " Accuracy: 79.37%, Avg loss: 0.599321 \n",
      "\n",
      "Epoch 24\n",
      "-------------------------------\n",
      "loss: 0.529082  [   64/60000]\n",
      "loss: 0.633109  [ 6464/60000]\n",
      "loss: 0.422623  [12864/60000]\n",
      "loss: 0.670957  [19264/60000]\n",
      "loss: 0.577416  [25664/60000]\n",
      "loss: 0.574137  [32064/60000]\n",
      "loss: 0.602352  [38464/60000]\n",
      "loss: 0.669862  [44864/60000]\n",
      "loss: 0.661626  [51264/60000]\n",
      "loss: 0.592396  [57664/60000]\n",
      "Test Error: \n",
      " Accuracy: 79.68%, Avg loss: 0.590979 \n",
      "\n",
      "Epoch 25\n",
      "-------------------------------\n",
      "loss: 0.517861  [   64/60000]\n",
      "loss: 0.622168  [ 6464/60000]\n",
      "loss: 0.413971  [12864/60000]\n",
      "loss: 0.662356  [19264/60000]\n",
      "loss: 0.571609  [25664/60000]\n",
      "loss: 0.568905  [32064/60000]\n",
      "loss: 0.592393  [38464/60000]\n",
      "loss: 0.666364  [44864/60000]\n",
      "loss: 0.657151  [51264/60000]\n",
      "loss: 0.582679  [57664/60000]\n",
      "Test Error: \n",
      " Accuracy: 79.90%, Avg loss: 0.583253 \n",
      "\n",
      "Epoch 26\n",
      "-------------------------------\n",
      "loss: 0.507423  [   64/60000]\n",
      "loss: 0.612070  [ 6464/60000]\n",
      "loss: 0.405979  [12864/60000]\n",
      "loss: 0.654138  [19264/60000]\n",
      "loss: 0.566062  [25664/60000]\n",
      "loss: 0.564003  [32064/60000]\n",
      "loss: 0.583223  [38464/60000]\n",
      "loss: 0.663566  [44864/60000]\n",
      "loss: 0.653272  [51264/60000]\n",
      "loss: 0.573311  [57664/60000]\n",
      "Test Error: \n",
      " Accuracy: 80.22%, Avg loss: 0.576091 \n",
      "\n",
      "Epoch 27\n",
      "-------------------------------\n",
      "loss: 0.497678  [   64/60000]\n",
      "loss: 0.602755  [ 6464/60000]\n",
      "loss: 0.398562  [12864/60000]\n",
      "loss: 0.646297  [19264/60000]\n",
      "loss: 0.560712  [25664/60000]\n",
      "loss: 0.559358  [32064/60000]\n",
      "loss: 0.574753  [38464/60000]\n",
      "loss: 0.661413  [44864/60000]\n",
      "loss: 0.649834  [51264/60000]\n",
      "loss: 0.564169  [57664/60000]\n",
      "Test Error: \n",
      " Accuracy: 80.47%, Avg loss: 0.569437 \n",
      "\n",
      "Epoch 28\n",
      "-------------------------------\n",
      "loss: 0.488622  [   64/60000]\n",
      "loss: 0.594095  [ 6464/60000]\n",
      "loss: 0.391594  [12864/60000]\n",
      "loss: 0.638761  [19264/60000]\n",
      "loss: 0.555523  [25664/60000]\n",
      "loss: 0.554881  [32064/60000]\n",
      "loss: 0.566939  [38464/60000]\n",
      "loss: 0.659856  [44864/60000]\n",
      "loss: 0.646765  [51264/60000]\n",
      "loss: 0.555347  [57664/60000]\n",
      "Test Error: \n",
      " Accuracy: 80.62%, Avg loss: 0.563244 \n",
      "\n",
      "Epoch 29\n",
      "-------------------------------\n",
      "loss: 0.480137  [   64/60000]\n",
      "loss: 0.586035  [ 6464/60000]\n",
      "loss: 0.385065  [12864/60000]\n",
      "loss: 0.631554  [19264/60000]\n",
      "loss: 0.550591  [25664/60000]\n",
      "loss: 0.550520  [32064/60000]\n",
      "loss: 0.559807  [38464/60000]\n",
      "loss: 0.658674  [44864/60000]\n",
      "loss: 0.643952  [51264/60000]\n",
      "loss: 0.546816  [57664/60000]\n",
      "Test Error: \n",
      " Accuracy: 80.78%, Avg loss: 0.557460 \n",
      "\n",
      "Epoch 30\n",
      "-------------------------------\n",
      "loss: 0.471921  [   64/60000]\n",
      "loss: 0.578567  [ 6464/60000]\n",
      "loss: 0.379086  [12864/60000]\n",
      "loss: 0.624745  [19264/60000]\n",
      "loss: 0.545867  [25664/60000]\n",
      "loss: 0.546263  [32064/60000]\n",
      "loss: 0.553216  [38464/60000]\n",
      "loss: 0.657876  [44864/60000]\n",
      "loss: 0.641293  [51264/60000]\n",
      "loss: 0.538614  [57664/60000]\n",
      "Test Error: \n",
      " Accuracy: 80.88%, Avg loss: 0.552040 \n",
      "\n",
      "Epoch 31\n",
      "-------------------------------\n",
      "loss: 0.464260  [   64/60000]\n",
      "loss: 0.571635  [ 6464/60000]\n",
      "loss: 0.373476  [12864/60000]\n",
      "loss: 0.617953  [19264/60000]\n",
      "loss: 0.540967  [25664/60000]\n",
      "loss: 0.542258  [32064/60000]\n",
      "loss: 0.546918  [38464/60000]\n",
      "loss: 0.657422  [44864/60000]\n",
      "loss: 0.638930  [51264/60000]\n",
      "loss: 0.530753  [57664/60000]\n",
      "Test Error: \n",
      " Accuracy: 80.98%, Avg loss: 0.546963 \n",
      "\n",
      "Epoch 32\n",
      "-------------------------------\n",
      "loss: 0.457123  [   64/60000]\n",
      "loss: 0.565106  [ 6464/60000]\n",
      "loss: 0.368100  [12864/60000]\n",
      "loss: 0.611476  [19264/60000]\n",
      "loss: 0.536018  [25664/60000]\n",
      "loss: 0.538193  [32064/60000]\n",
      "loss: 0.541167  [38464/60000]\n",
      "loss: 0.656982  [44864/60000]\n",
      "loss: 0.636917  [51264/60000]\n",
      "loss: 0.523093  [57664/60000]\n",
      "Test Error: \n",
      " Accuracy: 81.13%, Avg loss: 0.542224 \n",
      "\n",
      "Epoch 33\n",
      "-------------------------------\n",
      "loss: 0.450344  [   64/60000]\n",
      "loss: 0.558941  [ 6464/60000]\n",
      "loss: 0.362954  [12864/60000]\n",
      "loss: 0.605341  [19264/60000]\n",
      "loss: 0.531180  [25664/60000]\n",
      "loss: 0.534090  [32064/60000]\n",
      "loss: 0.535863  [38464/60000]\n",
      "loss: 0.656792  [44864/60000]\n",
      "loss: 0.634957  [51264/60000]\n",
      "loss: 0.515781  [57664/60000]\n",
      "Test Error: \n",
      " Accuracy: 81.30%, Avg loss: 0.537805 \n",
      "\n",
      "Epoch 34\n",
      "-------------------------------\n",
      "loss: 0.443910  [   64/60000]\n",
      "loss: 0.553259  [ 6464/60000]\n",
      "loss: 0.358077  [12864/60000]\n",
      "loss: 0.599470  [19264/60000]\n",
      "loss: 0.526452  [25664/60000]\n",
      "loss: 0.530077  [32064/60000]\n",
      "loss: 0.530861  [38464/60000]\n",
      "loss: 0.656714  [44864/60000]\n",
      "loss: 0.633051  [51264/60000]\n",
      "loss: 0.508789  [57664/60000]\n",
      "Test Error: \n",
      " Accuracy: 81.42%, Avg loss: 0.533674 \n",
      "\n",
      "Epoch 35\n",
      "-------------------------------\n",
      "loss: 0.437779  [   64/60000]\n",
      "loss: 0.547961  [ 6464/60000]\n",
      "loss: 0.353490  [12864/60000]\n",
      "loss: 0.593828  [19264/60000]\n",
      "loss: 0.521802  [25664/60000]\n",
      "loss: 0.526153  [32064/60000]\n",
      "loss: 0.526223  [38464/60000]\n",
      "loss: 0.656801  [44864/60000]\n",
      "loss: 0.631180  [51264/60000]\n",
      "loss: 0.502096  [57664/60000]\n",
      "Test Error: \n",
      " Accuracy: 81.57%, Avg loss: 0.529801 \n",
      "\n",
      "Epoch 36\n",
      "-------------------------------\n",
      "loss: 0.431874  [   64/60000]\n",
      "loss: 0.543006  [ 6464/60000]\n",
      "loss: 0.349185  [12864/60000]\n",
      "loss: 0.588360  [19264/60000]\n",
      "loss: 0.517235  [25664/60000]\n",
      "loss: 0.522247  [32064/60000]\n",
      "loss: 0.521883  [38464/60000]\n",
      "loss: 0.656924  [44864/60000]\n",
      "loss: 0.629337  [51264/60000]\n",
      "loss: 0.495689  [57664/60000]\n",
      "Test Error: \n",
      " Accuracy: 81.69%, Avg loss: 0.526154 \n",
      "\n",
      "Epoch 37\n",
      "-------------------------------\n",
      "loss: 0.426219  [   64/60000]\n",
      "loss: 0.538392  [ 6464/60000]\n",
      "loss: 0.345121  [12864/60000]\n",
      "loss: 0.583095  [19264/60000]\n",
      "loss: 0.512775  [25664/60000]\n",
      "loss: 0.518378  [32064/60000]\n",
      "loss: 0.517803  [38464/60000]\n",
      "loss: 0.657055  [44864/60000]\n",
      "loss: 0.627496  [51264/60000]\n",
      "loss: 0.489553  [57664/60000]\n",
      "Test Error: \n",
      " Accuracy: 81.80%, Avg loss: 0.522711 \n",
      "\n",
      "Epoch 38\n",
      "-------------------------------\n",
      "loss: 0.420785  [   64/60000]\n",
      "loss: 0.534055  [ 6464/60000]\n",
      "loss: 0.341307  [12864/60000]\n",
      "loss: 0.577985  [19264/60000]\n",
      "loss: 0.508374  [25664/60000]\n",
      "loss: 0.514574  [32064/60000]\n",
      "loss: 0.513959  [38464/60000]\n",
      "loss: 0.657081  [44864/60000]\n",
      "loss: 0.625641  [51264/60000]\n",
      "loss: 0.483718  [57664/60000]\n",
      "Test Error: \n",
      " Accuracy: 81.78%, Avg loss: 0.519455 \n",
      "\n",
      "Done!\n"
     ]
    }
   ],
   "source": [
    "model = NeuralNetwork()\n",
    "model.train()\n",
    "optimizer = torch.optim.SGD(model.parameters(), lr=1e-3)\n",
    "loss_function = torch.nn.CrossEntropyLoss()\n",
    "\n",
    "score = 0.0\n",
    "new_score = test(test_dataloader, model, loss_function)\n",
    "epoch = 0\n",
    "keep_learning = True\n",
    "while keep_learning:\n",
    "    epoch += 1\n",
    "    score = new_score\n",
    "    print(f\"Epoch {epoch+1}\\n-------------------------------\")\n",
    "    train(train_dataloader, model, loss_function, optimizer)\n",
    "    new_score = test(test_dataloader, model, loss_function)\n",
    "    keep_learning = new_score > score\n",
    "\n",
    "print(\"Done!\")\n"
   ]
  },
  {
   "cell_type": "code",
   "execution_count": 67,
   "id": "e69ce9ce-c190-4653-8c52-2ae96989779a",
   "metadata": {},
   "outputs": [
    {
     "name": "stdout",
     "output_type": "stream",
     "text": [
      "Saved PyTorch Model State to model.pth\n"
     ]
    }
   ],
   "source": [
    "torch.save(model.state_dict(), \"models/model.pth\")\n",
    "print(\"Saved PyTorch Model State to model.pth\")"
   ]
  }
 ],
 "metadata": {
  "kernelspec": {
   "display_name": "Python 3 (ipykernel)",
   "language": "python",
   "name": "python3"
  },
  "language_info": {
   "codemirror_mode": {
    "name": "ipython",
    "version": 3
   },
   "file_extension": ".py",
   "mimetype": "text/x-python",
   "name": "python",
   "nbconvert_exporter": "python",
   "pygments_lexer": "ipython3",
   "version": "3.12.2"
  }
 },
 "nbformat": 4,
 "nbformat_minor": 5
}

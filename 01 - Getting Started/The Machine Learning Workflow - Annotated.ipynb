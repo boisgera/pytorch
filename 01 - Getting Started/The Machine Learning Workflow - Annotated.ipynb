{
 "cells": [
  {
   "cell_type": "markdown",
   "id": "be92d45c-9125-497e-9aa4-048ec0d82e54",
   "metadata": {},
   "source": [
    "# The Machine Learning Workflow Annotated\n",
    "\n",
    "Source: [Pytorch / Learn the Basics](https://pytorch.org/tutorials/beginner/basics/intro.html)"
   ]
  },
  {
   "cell_type": "markdown",
   "id": "273a2e4b-0f67-433f-a8e0-787bd05d0c84",
   "metadata": {},
   "source": [
    "```{attention} TODO\n",
    "\n",
    "- Store a properly parametrized model in the repo and USE it (inference) before creating your own.\n",
    "- Simplify model archi, get rid of sequential\n",
    "- Explain logit stuff & give math formulas\n",
    "- Explain & test cross-entropy\n",
    "- Show that the neural network accepts batched data\n",
    "- Implement the \"PIL image to category -> proba sorted mapping\" as task.\n",
    "- Plot ReLU graph\n",
    "- Clean up the use of logits; here it actually refers to log-probabilites\n",
    "- Annotate & tweak learning\n",
    "```"
   ]
  },
  {
   "cell_type": "code",
   "execution_count": 1,
   "id": "6c1d361c-5e1b-46c5-b607-fd25566a8428",
   "metadata": {},
   "outputs": [],
   "source": [
    "import torch\n",
    "import torchvision"
   ]
  },
  {
   "cell_type": "markdown",
   "id": "e681cd9d-c913-440a-92b1-731956c5313b",
   "metadata": {},
   "source": [
    "## The FashionMNIST Dataset "
   ]
  },
  {
   "cell_type": "code",
   "execution_count": 2,
   "id": "f93d4548-fd7b-45c3-9a39-61e34a0e3335",
   "metadata": {},
   "outputs": [],
   "source": [
    "# Download training data from open datasets.\n",
    "training_data = torchvision.datasets.FashionMNIST(\n",
    "    root=\"data\",\n",
    "    train=True,\n",
    "    download=True,\n",
    "    transform=torchvision.transforms.ToTensor(),\n",
    ")\n",
    "\n",
    "# Download test data from open datasets.\n",
    "test_data = torchvision.datasets.FashionMNIST(\n",
    "    root=\"data\",\n",
    "    train=False,\n",
    "    download=True,\n",
    "    transform=torchvision.transforms.ToTensor(),\n",
    ")"
   ]
  },
  {
   "cell_type": "code",
   "execution_count": 3,
   "id": "63c617ba-f065-4430-807c-128e42c3a126",
   "metadata": {},
   "outputs": [
    {
     "data": {
      "text/plain": [
       "Dataset FashionMNIST\n",
       "    Number of datapoints: 60000\n",
       "    Root location: data\n",
       "    Split: Train"
      ]
     },
     "execution_count": 3,
     "metadata": {},
     "output_type": "execute_result"
    }
   ],
   "source": [
    "data = torchvision.datasets.FashionMNIST(root=\"data\") # by default: training data set, no input/output transform, no download\n",
    "data"
   ]
  },
  {
   "cell_type": "code",
   "execution_count": 4,
   "id": "3af20871-ef0d-4ac8-8524-036f5866bf85",
   "metadata": {},
   "outputs": [
    {
     "data": {
      "text/plain": [
       "(<PIL.Image.Image image mode=L size=28x28>, 9)"
      ]
     },
     "execution_count": 4,
     "metadata": {},
     "output_type": "execute_result"
    }
   ],
   "source": [
    "# data is list-like ; each item in an input-output pair\n",
    "datum = data[0]\n",
    "datum"
   ]
  },
  {
   "cell_type": "code",
   "execution_count": 5,
   "id": "3cdbe9ef-04ed-4d4e-b169-4f22f72853a2",
   "metadata": {},
   "outputs": [],
   "source": [
    "image, index = datum"
   ]
  },
  {
   "cell_type": "code",
   "execution_count": 6,
   "id": "c90e7b4c-3398-4518-8455-f8f9ab3cb3a0",
   "metadata": {},
   "outputs": [
    {
     "data": {
      "image/jpeg": "[encoded data removed]",
      "image/png": "[encoded data removed]",
      "text/plain": [
       "<PIL.Image.Image image mode=L size=28x28>"
      ]
     },
     "execution_count": 6,
     "metadata": {},
     "output_type": "execute_result"
    }
   ],
   "source": [
    "image"
   ]
  },
  {
   "cell_type": "code",
   "execution_count": 7,
   "id": "0eabdbce-3d62-4ad8-a784-474a2521073f",
   "metadata": {
    "user_expressions": [
     {
      "expression": "data.classes",
      "result": {
       "data": {
        "text/plain": "['T-shirt/top',\n 'Trouser',\n 'Pullover',\n 'Dress',\n 'Coat',\n 'Sandal',\n 'Shirt',\n 'Sneaker',\n 'Bag',\n 'Ankle boot']"
       },
       "metadata": {},
       "status": "ok"
      }
     }
    ]
   },
   "outputs": [
    {
     "name": "stdout",
     "output_type": "stream",
     "text": [
      "['T-shirt/top', 'Trouser', 'Pullover', 'Dress', 'Coat', 'Sandal', 'Shirt', 'Sneaker', 'Bag', 'Ankle boot']\n"
     ]
    }
   ],
   "source": [
    "# The output is a number that denotes the class of the pictured object. The list of categories is:\n",
    "print(data.classes)"
   ]
  },
  {
   "cell_type": "code",
   "execution_count": 8,
   "id": "126c1ec3-7059-4203-b699-d17de1e0b12e",
   "metadata": {},
   "outputs": [
    {
     "data": {
      "text/plain": [
       "'Ankle boot'"
      ]
     },
     "execution_count": 8,
     "metadata": {},
     "output_type": "execute_result"
    }
   ],
   "source": [
    "# Get the category name from the index:\n",
    "data.classes[index] # that checks out!"
   ]
  },
  {
   "cell_type": "code",
   "execution_count": 9,
   "id": "d8399b61-8763-4851-9273-fc82e89aa09c",
   "metadata": {},
   "outputs": [
    {
     "data": {
      "text/html": [
       "<div>\n",
       "<style scoped>\n",
       "    .dataframe tbody tr th:only-of-type {\n",
       "        vertical-align: middle;\n",
       "    }\n",
       "\n",
       "    .dataframe tbody tr th {\n",
       "        vertical-align: top;\n",
       "    }\n",
       "\n",
       "    .dataframe thead th {\n",
       "        text-align: right;\n",
       "    }\n",
       "</style>\n",
       "<table border=\"1\" class=\"dataframe\">\n",
       "  <thead>\n",
       "    <tr style=\"text-align: right;\">\n",
       "      <th></th>\n",
       "      <th>image</th>\n",
       "      <th>category</th>\n",
       "    </tr>\n",
       "  </thead>\n",
       "  <tbody>\n",
       "    <tr>\n",
       "      <th>0</th>\n",
       "      <td>&lt;PIL.Image.Image image mode=L size=28x28 at 0x...</td>\n",
       "      <td>Ankle boot</td>\n",
       "    </tr>\n",
       "    <tr>\n",
       "      <th>1</th>\n",
       "      <td>&lt;PIL.Image.Image image mode=L size=28x28 at 0x...</td>\n",
       "      <td>T-shirt/top</td>\n",
       "    </tr>\n",
       "    <tr>\n",
       "      <th>2</th>\n",
       "      <td>&lt;PIL.Image.Image image mode=L size=28x28 at 0x...</td>\n",
       "      <td>T-shirt/top</td>\n",
       "    </tr>\n",
       "    <tr>\n",
       "      <th>3</th>\n",
       "      <td>&lt;PIL.Image.Image image mode=L size=28x28 at 0x...</td>\n",
       "      <td>Dress</td>\n",
       "    </tr>\n",
       "    <tr>\n",
       "      <th>4</th>\n",
       "      <td>&lt;PIL.Image.Image image mode=L size=28x28 at 0x...</td>\n",
       "      <td>T-shirt/top</td>\n",
       "    </tr>\n",
       "    <tr>\n",
       "      <th>...</th>\n",
       "      <td>...</td>\n",
       "      <td>...</td>\n",
       "    </tr>\n",
       "    <tr>\n",
       "      <th>59995</th>\n",
       "      <td>&lt;PIL.Image.Image image mode=L size=28x28 at 0x...</td>\n",
       "      <td>Sandal</td>\n",
       "    </tr>\n",
       "    <tr>\n",
       "      <th>59996</th>\n",
       "      <td>&lt;PIL.Image.Image image mode=L size=28x28 at 0x...</td>\n",
       "      <td>Trouser</td>\n",
       "    </tr>\n",
       "    <tr>\n",
       "      <th>59997</th>\n",
       "      <td>&lt;PIL.Image.Image image mode=L size=28x28 at 0x...</td>\n",
       "      <td>Dress</td>\n",
       "    </tr>\n",
       "    <tr>\n",
       "      <th>59998</th>\n",
       "      <td>&lt;PIL.Image.Image image mode=L size=28x28 at 0x...</td>\n",
       "      <td>T-shirt/top</td>\n",
       "    </tr>\n",
       "    <tr>\n",
       "      <th>59999</th>\n",
       "      <td>&lt;PIL.Image.Image image mode=L size=28x28 at 0x...</td>\n",
       "      <td>Sandal</td>\n",
       "    </tr>\n",
       "  </tbody>\n",
       "</table>\n",
       "<p>60000 rows × 2 columns</p>\n",
       "</div>"
      ],
      "text/plain": [
       "                                                   image     category\n",
       "0      <PIL.Image.Image image mode=L size=28x28 at 0x...   Ankle boot\n",
       "1      <PIL.Image.Image image mode=L size=28x28 at 0x...  T-shirt/top\n",
       "2      <PIL.Image.Image image mode=L size=28x28 at 0x...  T-shirt/top\n",
       "3      <PIL.Image.Image image mode=L size=28x28 at 0x...        Dress\n",
       "4      <PIL.Image.Image image mode=L size=28x28 at 0x...  T-shirt/top\n",
       "...                                                  ...          ...\n",
       "59995  <PIL.Image.Image image mode=L size=28x28 at 0x...       Sandal\n",
       "59996  <PIL.Image.Image image mode=L size=28x28 at 0x...      Trouser\n",
       "59997  <PIL.Image.Image image mode=L size=28x28 at 0x...        Dress\n",
       "59998  <PIL.Image.Image image mode=L size=28x28 at 0x...  T-shirt/top\n",
       "59999  <PIL.Image.Image image mode=L size=28x28 at 0x...       Sandal\n",
       "\n",
       "[60000 rows x 2 columns]"
      ]
     },
     "execution_count": 9,
     "metadata": {},
     "output_type": "execute_result"
    }
   ],
   "source": [
    "import pandas as pd\n",
    "df = [{\"image\": image, \"category\": data.classes[index]} for image, index in data]\n",
    "df = pd.DataFrame(df)\n",
    "df"
   ]
  },
  {
   "cell_type": "code",
   "execution_count": 10,
   "id": "11a39240-12b5-4062-ae4e-a860d1bc09c5",
   "metadata": {},
   "outputs": [
    {
     "data": {
      "text/html": [
       "<table border=\"1\" class=\"dataframe\">\n",
       "  <thead>\n",
       "    <tr style=\"text-align: right;\">\n",
       "      <th></th>\n",
       "      <th>image</th>\n",
       "      <th>category</th>\n",
       "    </tr>\n",
       "  </thead>\n",
       "  <tbody>\n",
       "    <tr>\n",
       "      <th>0</th>\n",
       "      <td><img src=\"data:image/jpeg;base64, /9j/4AAQSkZJRgABAQAAAQABAAD/2wBDAAgGBgcGBQgHBwcJCQgKDBQNDAsLDBkSEw8UHRofHh0aHBwgJC4nICIsIxwcKDcpLDAxNDQ0Hyc5PTgyPC4zNDL/wAALCAAcABwBAREA/8QAHwAAAQUBAQEBAQEAAAAAAAAAAAECAwQFBgcICQoL/8QAtRAAAgEDAwIEAwUFBAQAAAF9AQIDAAQRBRIhMUEGE1FhByJxFDKBkaEII0KxwRVS0fAkM2JyggkKFhcYGRolJicoKSo0NTY3ODk6Q0RFRkdISUpTVFVWV1hZWmNkZWZnaGlqc3R1dnd4eXqDhIWGh4iJipKTlJWWl5iZmqKjpKWmp6ipqrKztLW2t7i5usLDxMXGx8jJytLT1NXW19jZ2uHi4+Tl5ufo6erx8vP09fb3+Pn6/9oACAEBAAA/APn+tbw1oNx4m8QWmkWx2yXD4LkZCADJJ+gFbviL4a63oc7COE3MW4hdn38duD976jNc9daDqllIsc9lKrMu4YGeMkdR7gj8KzcV7H8BtEvV16+1iWCeG1Wz8mOV02pIzupwCeuAp6Z98cZ90aIzLIlw0c0ZJ4KgjHoeOa+evjS9n/wnMcNxBPCYLKONFhA2FNzMpGenDcgd816V4K03wefC+m3NlpVhP+5QSXBiR5fMx825iMg5zwce3FdbOzTwgW90lu6uCm8eYrL02soIyCPQgggEdMGQ3cluiPNK0rJwrRQBNueuMkt+teNfGKxsdY8WWdxNqcNo66eieXMwVsb5DnH415Hp2rajpE5n02/urOUjBe3laMkehIPIrVm8eeLrhNknibVivoLtx/I1UPinxC3XXtUP1vJP8ay5JZJpGkldnduSzHJP41//2Q==\"></td>\n",
       "      <td>Ankle boot</td>\n",
       "    </tr>\n",
       "    <tr>\n",
       "      <th>1</th>\n",
       "      <td><img src=\"data:image/jpeg;base64, /9j/4AAQSkZJRgABAQAAAQABAAD/2wBDAAgGBgcGBQgHBwcJCQgKDBQNDAsLDBkSEw8UHRofHh0aHBwgJC4nICIsIxwcKDcpLDAxNDQ0Hyc5PTgyPC4zNDL/wAALCAAcABwBAREA/8QAHwAAAQUBAQEBAQEAAAAAAAAAAAECAwQFBgcICQoL/8QAtRAAAgEDAwIEAwUFBAQAAAF9AQIDAAQRBRIhMUEGE1FhByJxFDKBkaEII0KxwRVS0fAkM2JyggkKFhcYGRolJicoKSo0NTY3ODk6Q0RFRkdISUpTVFVWV1hZWmNkZWZnaGlqc3R1dnd4eXqDhIWGh4iJipKTlJWWl5iZmqKjpKWmp6ipqrKztLW2t7i5usLDxMXGx8jJytLT1NXW19jZ2uHi4+Tl5ufo6erx8vP09fb3+Pn6/9oACAEBAAA/AOB+E3gyz8V6xez6lE01jYRqWiDFQ8jk7QSOcYVjxjoK9hlufDultLpcPhSa5itZdjra6NFNCshiEh5Yj5tmCTTjpvhnxg9zYX/huSCe3SMyLeWC20yI+7aUZTnb8jcA446V81a7pcmh69qGlytue0uHh3f3gpIB/Ec/jXSeBfiJf+CvMt7ezsp7a4lV5vORg/HHDKR2z1z1NfQF94U8Oapez3l7o9vczzkGSSR5MvjAGcMB0C9B2rC8Uz2Xw28LXGp+HdIsoJ5JIoCr+YyNyx5y2eMtjBHJr5517WrrxFrdzq16sS3FwwLiJdqjAAGB9AKzq+zkXjAAGcnivP8A4zLu8ATf7N1C/wCrD+tfONFfUf8AwlV5AmBbWrbQACwf0Ho1cV8S/Edzqfg66t5be2RTLFzGHzw2e7GvEa//2Q==\"></td>\n",
       "      <td>T-shirt/top</td>\n",
       "    </tr>\n",
       "    <tr>\n",
       "      <th>2</th>\n",
       "      <td><img src=\"data:image/jpeg;base64, /9j/4AAQSkZJRgABAQAAAQABAAD/2wBDAAgGBgcGBQgHBwcJCQgKDBQNDAsLDBkSEw8UHRofHh0aHBwgJC4nICIsIxwcKDcpLDAxNDQ0Hyc5PTgyPC4zNDL/wAALCAAcABwBAREA/8QAHwAAAQUBAQEBAQEAAAAAAAAAAAECAwQFBgcICQoL/8QAtRAAAgEDAwIEAwUFBAQAAAF9AQIDAAQRBRIhMUEGE1FhByJxFDKBkaEII0KxwRVS0fAkM2JyggkKFhcYGRolJicoKSo0NTY3ODk6Q0RFRkdISUpTVFVWV1hZWmNkZWZnaGlqc3R1dnd4eXqDhIWGh4iJipKTlJWWl5iZmqKjpKWmp6ipqrKztLW2t7i5usLDxMXGx8jJytLT1NXW19jZ2uHi4+Tl5ufo6erx8vP09fb3+Pn6/9oACAEBAAA/APn+vX/DGqaVa6HZw6r4X07VQIFMLyxqrpkZIJ2/MM5P4nrXH+PZUuLu0njs7a0VlcLDbRBERQRhRgc49fc1yFFenaeANMsx6QRj/wAdFc/41H7uwOOcyc+3yf8A165GivUbVSlnAh6rEgP/AHyKwPGa7rK0fH3JGHX1A/wrjaK6zRPEN5Ni2mWKQImA7Kdxx6kGsfWdXudSmEc2xY4idqRjAz6nPJNZdf/Z\"></td>\n",
       "      <td>T-shirt/top</td>\n",
       "    </tr>\n",
       "    <tr>\n",
       "      <th>3</th>\n",
       "      <td><img src=\"data:image/jpeg;base64, /9j/4AAQSkZJRgABAQAAAQABAAD/2wBDAAgGBgcGBQgHBwcJCQgKDBQNDAsLDBkSEw8UHRofHh0aHBwgJC4nICIsIxwcKDcpLDAxNDQ0Hyc5PTgyPC4zNDL/wAALCAAcABwBAREA/8QAHwAAAQUBAQEBAQEAAAAAAAAAAAECAwQFBgcICQoL/8QAtRAAAgEDAwIEAwUFBAQAAAF9AQIDAAQRBRIhMUEGE1FhByJxFDKBkaEII0KxwRVS0fAkM2JyggkKFhcYGRolJicoKSo0NTY3ODk6Q0RFRkdISUpTVFVWV1hZWmNkZWZnaGlqc3R1dnd4eXqDhIWGh4iJipKTlJWWl5iZmqKjpKWmp6ipqrKztLW2t7i5usLDxMXGx8jJytLT1NXW19jZ2uHi4+Tl5ufo6erx8vP09fb3+Pn6/9oACAEBAAA/APHfBp0z/hKLRdWSNrd22KZseWrnhS4PG3PXPHc8A17c95bWoiiawsW8n/VK9oj+Uf8AZ4+X8K434kXmnXOjGe9t4n1CZgttKiBZMjqS2MlQD0Oeo6da8lor3OZzeQWsqFGZ7dCwEijB2D34rg/iIXM2nbiCPLfowIByCeh9MVxFaGh2iX+uWVtIu6N5V3r6qOSPyBr1eS1iklWZoIWdoppM+WOQFBB6fWs7xzpUUnhiSWKFFNrLn5VA29PTsVZPyFeU1c0vUZdJ1GK9gSN5It20SAleVI7EetdHJ441P7NbuILMGOLygAjYKkMv970qvqPjrVdTsLi0mitEW4wJHjjIY4VV9cdFHauYr//Z\"></td>\n",
       "      <td>Dress</td>\n",
       "    </tr>\n",
       "    <tr>\n",
       "      <th>4</th>\n",
       "      <td><img src=\"data:image/jpeg;base64, /9j/4AAQSkZJRgABAQAAAQABAAD/2wBDAAgGBgcGBQgHBwcJCQgKDBQNDAsLDBkSEw8UHRofHh0aHBwgJC4nICIsIxwcKDcpLDAxNDQ0Hyc5PTgyPC4zNDL/wAALCAAcABwBAREA/8QAHwAAAQUBAQEBAQEAAAAAAAAAAAECAwQFBgcICQoL/8QAtRAAAgEDAwIEAwUFBAQAAAF9AQIDAAQRBRIhMUEGE1FhByJxFDKBkaEII0KxwRVS0fAkM2JyggkKFhcYGRolJicoKSo0NTY3ODk6Q0RFRkdISUpTVFVWV1hZWmNkZWZnaGlqc3R1dnd4eXqDhIWGh4iJipKTlJWWl5iZmqKjpKWmp6ipqrKztLW2t7i5usLDxMXGx8jJytLT1NXW19jZ2uHi4+Tl5ufo6erx8vP09fb3+Pn6/9oACAEBAAA/APn+vp6f4feFNcg0LUIfDdlsleJrrypGgAt2iZtwVGUFg5TsSRn8PJ/jTYWGm+NbeDTrK2tIfsEbGO2iWNSxZ+cDvjAz7V5zRX2F4WVv+EL0DcDuGlWmcjn/AFKV4P8AHGN08dwM/wB17CIp9Azj+YNea1NZ2sl9ewWkIzLPIsSD1Zjgfzr7QYWmmQpbtLFbxB0toBIwTcxO1EXPUnHA7145+0BpjfY9F1PytpSWW2Zj1YEK6j2wfM4968MpyO0bq6MVdTlWU4IPqK9oPxD1jxL4b0O41CGzM0OuWTb442XeyM3JG7GTjnAA54xXKfFXxpqviTX3027EEVnp8rCKKBSAxPVmySScceg9OTngK//Z\"></td>\n",
       "      <td>T-shirt/top</td>\n",
       "    </tr>\n",
       "  </tbody>\n",
       "</table>"
      ],
      "text/plain": [
       "<IPython.core.display.HTML object>"
      ]
     },
     "execution_count": 10,
     "metadata": {},
     "output_type": "execute_result"
    }
   ],
   "source": [
    "import base64\n",
    "import io\n",
    "from IPython.display import HTML\n",
    "\n",
    "def image_formatter(image):\n",
    "    with io.BytesIO() as buffer:\n",
    "        image.save(buffer, \"jpeg\")\n",
    "        _bytes = buffer.getvalue()\n",
    "    _base64 = base64.b64encode(_bytes).decode(\"ascii\")\n",
    "    return f'<img src=\"data:image/jpeg;base64, {_base64}\">'\n",
    "\n",
    "HTML(df.head().to_html(formatters={'image': image_formatter}, escape=False))"
   ]
  },
  {
   "cell_type": "code",
   "execution_count": 11,
   "id": "f754275e-191b-4517-b4a7-df009dc475ef",
   "metadata": {},
   "outputs": [
    {
     "data": {
      "text/plain": [
       "tensor([[[0.0000, 0.0000, 0.0000, 0.0000, 0.0000, 0.0000, 0.0000, 0.0000,\n",
       "          0.0000, 0.0000, 0.0000, 0.0000, 0.0000, 0.0000, 0.0000, 0.0000,\n",
       "          0.0000, 0.0000, 0.0000, 0.0000, 0.0000, 0.0000, 0.0000, 0.0000,\n",
       "          0.0000, 0.0000, 0.0000, 0.0000],\n",
       "         [0.0000, 0.0000, 0.0000, 0.0000, 0.0000, 0.0000, 0.0000, 0.0000,\n",
       "          0.0000, 0.0000, 0.0000, 0.0000, 0.0000, 0.0000, 0.0000, 0.0000,\n",
       "          0.0000, 0.0000, 0.0000, 0.0000, 0.0000, 0.0000, 0.0000, 0.0000,\n",
       "          0.0000, 0.0000, 0.0000, 0.0000],\n",
       "         [0.0000, 0.0000, 0.0000, 0.0000, 0.0000, 0.0000, 0.0000, 0.0000,\n",
       "          0.0000, 0.0000, 0.0000, 0.0000, 0.0000, 0.0000, 0.0000, 0.0000,\n",
       "          0.0000, 0.0000, 0.0000, 0.0000, 0.0000, 0.0000, 0.0000, 0.0000,\n",
       "          0.0000, 0.0000, 0.0000, 0.0000],\n",
       "         [0.0000, 0.0000, 0.0000, 0.0000, 0.0000, 0.0000, 0.0000, 0.0000,\n",
       "          0.0000, 0.0000, 0.0000, 0.0000, 0.0039, 0.0000, 0.0000, 0.0510,\n",
       "          0.2863, 0.0000, 0.0000, 0.0039, 0.0157, 0.0000, 0.0000, 0.0000,\n",
       "          0.0000, 0.0039, 0.0039, 0.0000],\n",
       "         [0.0000, 0.0000, 0.0000, 0.0000, 0.0000, 0.0000, 0.0000, 0.0000,\n",
       "          0.0000, 0.0000, 0.0000, 0.0000, 0.0118, 0.0000, 0.1412, 0.5333,\n",
       "          0.4980, 0.2431, 0.2118, 0.0000, 0.0000, 0.0000, 0.0039, 0.0118,\n",
       "          0.0157, 0.0000, 0.0000, 0.0118],\n",
       "         [0.0000, 0.0000, 0.0000, 0.0000, 0.0000, 0.0000, 0.0000, 0.0000,\n",
       "          0.0000, 0.0000, 0.0000, 0.0000, 0.0235, 0.0000, 0.4000, 0.8000,\n",
       "          0.6902, 0.5255, 0.5647, 0.4824, 0.0902, 0.0000, 0.0000, 0.0000,\n",
       "          0.0000, 0.0471, 0.0392, 0.0000],\n",
       "         [0.0000, 0.0000, 0.0000, 0.0000, 0.0000, 0.0000, 0.0000, 0.0000,\n",
       "          0.0000, 0.0000, 0.0000, 0.0000, 0.0000, 0.0000, 0.6078, 0.9255,\n",
       "          0.8118, 0.6980, 0.4196, 0.6118, 0.6314, 0.4275, 0.2510, 0.0902,\n",
       "          0.3020, 0.5098, 0.2824, 0.0588],\n",
       "         [0.0000, 0.0000, 0.0000, 0.0000, 0.0000, 0.0000, 0.0000, 0.0000,\n",
       "          0.0000, 0.0000, 0.0000, 0.0039, 0.0000, 0.2706, 0.8118, 0.8745,\n",
       "          0.8549, 0.8471, 0.8471, 0.6392, 0.4980, 0.4745, 0.4784, 0.5725,\n",
       "          0.5529, 0.3451, 0.6745, 0.2588],\n",
       "         [0.0000, 0.0000, 0.0000, 0.0000, 0.0000, 0.0000, 0.0000, 0.0000,\n",
       "          0.0000, 0.0039, 0.0039, 0.0039, 0.0000, 0.7843, 0.9098, 0.9098,\n",
       "          0.9137, 0.8980, 0.8745, 0.8745, 0.8431, 0.8353, 0.6431, 0.4980,\n",
       "          0.4824, 0.7686, 0.8980, 0.0000],\n",
       "         [0.0000, 0.0000, 0.0000, 0.0000, 0.0000, 0.0000, 0.0000, 0.0000,\n",
       "          0.0000, 0.0000, 0.0000, 0.0000, 0.0000, 0.7176, 0.8824, 0.8471,\n",
       "          0.8745, 0.8941, 0.9216, 0.8902, 0.8784, 0.8706, 0.8784, 0.8667,\n",
       "          0.8745, 0.9608, 0.6784, 0.0000],\n",
       "         [0.0000, 0.0000, 0.0000, 0.0000, 0.0000, 0.0000, 0.0000, 0.0000,\n",
       "          0.0000, 0.0000, 0.0000, 0.0000, 0.0000, 0.7569, 0.8941, 0.8549,\n",
       "          0.8353, 0.7765, 0.7059, 0.8314, 0.8235, 0.8275, 0.8353, 0.8745,\n",
       "          0.8627, 0.9529, 0.7922, 0.0000],\n",
       "         [0.0000, 0.0000, 0.0000, 0.0000, 0.0000, 0.0000, 0.0000, 0.0000,\n",
       "          0.0000, 0.0039, 0.0118, 0.0000, 0.0471, 0.8588, 0.8627, 0.8314,\n",
       "          0.8549, 0.7529, 0.6627, 0.8902, 0.8157, 0.8549, 0.8784, 0.8314,\n",
       "          0.8863, 0.7725, 0.8196, 0.2039],\n",
       "         [0.0000, 0.0000, 0.0000, 0.0000, 0.0000, 0.0000, 0.0000, 0.0000,\n",
       "          0.0000, 0.0000, 0.0235, 0.0000, 0.3882, 0.9569, 0.8706, 0.8627,\n",
       "          0.8549, 0.7961, 0.7765, 0.8667, 0.8431, 0.8353, 0.8706, 0.8627,\n",
       "          0.9608, 0.4667, 0.6549, 0.2196],\n",
       "         [0.0000, 0.0000, 0.0000, 0.0000, 0.0000, 0.0000, 0.0000, 0.0000,\n",
       "          0.0000, 0.0157, 0.0000, 0.0000, 0.2157, 0.9255, 0.8941, 0.9020,\n",
       "          0.8941, 0.9412, 0.9098, 0.8353, 0.8549, 0.8745, 0.9176, 0.8510,\n",
       "          0.8510, 0.8196, 0.3608, 0.0000],\n",
       "         [0.0000, 0.0000, 0.0039, 0.0157, 0.0235, 0.0275, 0.0078, 0.0000,\n",
       "          0.0000, 0.0000, 0.0000, 0.0000, 0.9294, 0.8863, 0.8510, 0.8745,\n",
       "          0.8706, 0.8588, 0.8706, 0.8667, 0.8471, 0.8745, 0.8980, 0.8431,\n",
       "          0.8549, 1.0000, 0.3020, 0.0000],\n",
       "         [0.0000, 0.0118, 0.0000, 0.0000, 0.0000, 0.0000, 0.0000, 0.0000,\n",
       "          0.0000, 0.2431, 0.5686, 0.8000, 0.8941, 0.8118, 0.8353, 0.8667,\n",
       "          0.8549, 0.8157, 0.8275, 0.8549, 0.8784, 0.8745, 0.8588, 0.8431,\n",
       "          0.8784, 0.9569, 0.6235, 0.0000],\n",
       "         [0.0000, 0.0000, 0.0000, 0.0000, 0.0706, 0.1725, 0.3216, 0.4196,\n",
       "          0.7412, 0.8941, 0.8627, 0.8706, 0.8510, 0.8863, 0.7843, 0.8039,\n",
       "          0.8275, 0.9020, 0.8784, 0.9176, 0.6902, 0.7373, 0.9804, 0.9725,\n",
       "          0.9137, 0.9333, 0.8431, 0.0000],\n",
       "         [0.0000, 0.2235, 0.7333, 0.8157, 0.8784, 0.8667, 0.8784, 0.8157,\n",
       "          0.8000, 0.8392, 0.8157, 0.8196, 0.7843, 0.6235, 0.9608, 0.7569,\n",
       "          0.8078, 0.8745, 1.0000, 1.0000, 0.8667, 0.9176, 0.8667, 0.8275,\n",
       "          0.8627, 0.9098, 0.9647, 0.0000],\n",
       "         [0.0118, 0.7922, 0.8941, 0.8784, 0.8667, 0.8275, 0.8275, 0.8392,\n",
       "          0.8039, 0.8039, 0.8039, 0.8627, 0.9412, 0.3137, 0.5882, 1.0000,\n",
       "          0.8980, 0.8667, 0.7373, 0.6039, 0.7490, 0.8235, 0.8000, 0.8196,\n",
       "          0.8706, 0.8941, 0.8824, 0.0000],\n",
       "         [0.3843, 0.9137, 0.7765, 0.8235, 0.8706, 0.8980, 0.8980, 0.9176,\n",
       "          0.9765, 0.8627, 0.7608, 0.8431, 0.8510, 0.9451, 0.2549, 0.2863,\n",
       "          0.4157, 0.4588, 0.6588, 0.8588, 0.8667, 0.8431, 0.8510, 0.8745,\n",
       "          0.8745, 0.8784, 0.8980, 0.1137],\n",
       "         [0.2941, 0.8000, 0.8314, 0.8000, 0.7569, 0.8039, 0.8275, 0.8824,\n",
       "          0.8471, 0.7255, 0.7725, 0.8078, 0.7765, 0.8353, 0.9412, 0.7647,\n",
       "          0.8902, 0.9608, 0.9373, 0.8745, 0.8549, 0.8314, 0.8196, 0.8706,\n",
       "          0.8627, 0.8667, 0.9020, 0.2627],\n",
       "         [0.1882, 0.7961, 0.7176, 0.7608, 0.8353, 0.7725, 0.7255, 0.7451,\n",
       "          0.7608, 0.7529, 0.7922, 0.8392, 0.8588, 0.8667, 0.8627, 0.9255,\n",
       "          0.8824, 0.8471, 0.7804, 0.8078, 0.7294, 0.7098, 0.6941, 0.6745,\n",
       "          0.7098, 0.8039, 0.8078, 0.4510],\n",
       "         [0.0000, 0.4784, 0.8588, 0.7569, 0.7020, 0.6706, 0.7176, 0.7686,\n",
       "          0.8000, 0.8235, 0.8353, 0.8118, 0.8275, 0.8235, 0.7843, 0.7686,\n",
       "          0.7608, 0.7490, 0.7647, 0.7490, 0.7765, 0.7529, 0.6902, 0.6118,\n",
       "          0.6549, 0.6941, 0.8235, 0.3608],\n",
       "         [0.0000, 0.0000, 0.2902, 0.7412, 0.8314, 0.7490, 0.6863, 0.6745,\n",
       "          0.6863, 0.7098, 0.7255, 0.7373, 0.7412, 0.7373, 0.7569, 0.7765,\n",
       "          0.8000, 0.8196, 0.8235, 0.8235, 0.8275, 0.7373, 0.7373, 0.7608,\n",
       "          0.7529, 0.8471, 0.6667, 0.0000],\n",
       "         [0.0078, 0.0000, 0.0000, 0.0000, 0.2588, 0.7843, 0.8706, 0.9294,\n",
       "          0.9373, 0.9490, 0.9647, 0.9529, 0.9569, 0.8667, 0.8627, 0.7569,\n",
       "          0.7490, 0.7020, 0.7137, 0.7137, 0.7098, 0.6902, 0.6510, 0.6588,\n",
       "          0.3882, 0.2275, 0.0000, 0.0000],\n",
       "         [0.0000, 0.0000, 0.0000, 0.0000, 0.0000, 0.0000, 0.0000, 0.1569,\n",
       "          0.2392, 0.1725, 0.2824, 0.1608, 0.1373, 0.0000, 0.0000, 0.0000,\n",
       "          0.0000, 0.0000, 0.0000, 0.0000, 0.0000, 0.0000, 0.0000, 0.0000,\n",
       "          0.0000, 0.0000, 0.0000, 0.0000],\n",
       "         [0.0000, 0.0000, 0.0000, 0.0000, 0.0000, 0.0000, 0.0000, 0.0000,\n",
       "          0.0000, 0.0000, 0.0000, 0.0000, 0.0000, 0.0000, 0.0000, 0.0000,\n",
       "          0.0000, 0.0000, 0.0000, 0.0000, 0.0000, 0.0000, 0.0000, 0.0000,\n",
       "          0.0000, 0.0000, 0.0000, 0.0000],\n",
       "         [0.0000, 0.0000, 0.0000, 0.0000, 0.0000, 0.0000, 0.0000, 0.0000,\n",
       "          0.0000, 0.0000, 0.0000, 0.0000, 0.0000, 0.0000, 0.0000, 0.0000,\n",
       "          0.0000, 0.0000, 0.0000, 0.0000, 0.0000, 0.0000, 0.0000, 0.0000,\n",
       "          0.0000, 0.0000, 0.0000, 0.0000]]])"
      ]
     },
     "execution_count": 11,
     "metadata": {},
     "output_type": "execute_result"
    }
   ],
   "source": [
    "# Torch only want to deal with numeric array called \"tensors\", not images.\n",
    "# So, it is perfectly happy with the output as a numeric value, but we need to transform the input\n",
    "image_to_tensor = torchvision.transforms.ToTensor()\n",
    "t = image_to_tensor(image)\n",
    "t"
   ]
  },
  {
   "cell_type": "code",
   "execution_count": 12,
   "id": "199069a5-2fe5-4ee9-bc6a-40332db52cbe",
   "metadata": {},
   "outputs": [
    {
     "data": {
      "text/plain": [
       "(torch.Size([1, 28, 28]), torch.float32)"
      ]
     },
     "execution_count": 12,
     "metadata": {},
     "output_type": "execute_result"
    }
   ],
   "source": [
    "t.shape, t.dtype"
   ]
  },
  {
   "cell_type": "code",
   "execution_count": 13,
   "id": "63bc73a5-dd37-45b9-89ab-34e3f10506e0",
   "metadata": {},
   "outputs": [
    {
     "data": {
      "image/png": "[encoded data removed]",
      "text/plain": [
       "<Figure size 640x480 with 2 Axes>"
      ]
     },
     "metadata": {},
     "output_type": "display_data"
    }
   ],
   "source": [
    "# No information has been lost in the conversion process!\n",
    "import matplotlib.pyplot as plt\n",
    "plt.imshow(t.squeeze(), cmap=\"grey\")\n",
    "plt.colorbar()\n",
    "None"
   ]
  },
  {
   "cell_type": "markdown",
   "id": "420ce320-c734-4ab8-a377-c4b9c235c54a",
   "metadata": {},
   "source": [
    "## Neural Network Model"
   ]
  },
  {
   "cell_type": "markdown",
   "id": "8fd85254-4940-4b62-8fee-56f4480ba11f",
   "metadata": {},
   "source": [
    "The model architecture is going to assign to each image input the vector of probability $p_i$ that the item belongs to the $i$th class.\n",
    "The class prediction is simply the class with the highest probability, but the fact that all $p_i$ are know allows us to evaluate the trust that we should have in the prediction.\n",
    "\n",
    "The nitty-gritty details:\n",
    "\n",
    "  - The image should be given as a 28x28 tensor (instead of say a PIL image),\n",
    "\n",
    "  - The model does actually not output the probabilities $p_i \\in [0, 1]$ directly but the corresponding unnormalized log probabilities\n",
    "    $$\n",
    "    \\ell_i := \\log p_i + c\n",
    "    $$\n",
    "    Compute $p_i$ with:\n",
    "    $$\n",
    "    p_i = \\frac{\\exp \\ell_i}{\\sum_{j=0}^{9} \\exp \\ell_j}.\n",
    "    $$\n",
    "\n",
    "    The pytorch [`softmax`](https://pytorch.org/docs/stable/generated/torch.nn.functional.softmax.html) function implements this operation."
   ]
  },
  {
   "cell_type": "code",
   "execution_count": 14,
   "id": "543ed589-c9b9-4376-8ff5-ded427307b2e",
   "metadata": {},
   "outputs": [],
   "source": [
    "class NeuralNetwork(torch.nn.Module):\n",
    "    def __init__(self):\n",
    "        super().__init__()\n",
    "        self.flatten = torch.nn.Flatten()\n",
    "        self.linear_1 = torch.nn.Linear(28*28, 512)\n",
    "        self.relu_1 = torch.nn.ReLU()\n",
    "        self.linear_2 = torch.nn.Linear(512, 512)\n",
    "        self.relu_2 = torch.nn.ReLU()\n",
    "        self.linear_3 = torch.nn.Linear(512, 10)\n",
    "\n",
    "    def forward(self, image_tensor):\n",
    "        image_flat = self.flatten(image_tensor)\n",
    "        x_0 = image_flat\n",
    "        x_1 = self.linear_1(x_0)\n",
    "        x_1 = self.relu_1(x_1)\n",
    "        x_2 = self.linear_2(x_1)\n",
    "        x_2 = self.relu_2(x_2)\n",
    "        x_3 = self.linear_3(x_2)\n",
    "        logits = x_3\n",
    "        return logits"
   ]
  },
  {
   "cell_type": "code",
   "execution_count": 15,
   "id": "165d4e2f-41a4-4ee7-8d36-a5cb59275934",
   "metadata": {},
   "outputs": [
    {
     "data": {
      "text/plain": [
       "NeuralNetwork(\n",
       "  (flatten): Flatten(start_dim=1, end_dim=-1)\n",
       "  (linear_1): Linear(in_features=784, out_features=512, bias=True)\n",
       "  (relu_1): ReLU()\n",
       "  (linear_2): Linear(in_features=512, out_features=512, bias=True)\n",
       "  (relu_2): ReLU()\n",
       "  (linear_3): Linear(in_features=512, out_features=10, bias=True)\n",
       ")"
      ]
     },
     "execution_count": 15,
     "metadata": {},
     "output_type": "execute_result"
    }
   ],
   "source": [
    "model = NeuralNetwork()\n",
    "model"
   ]
  },
  {
   "cell_type": "code",
   "execution_count": 16,
   "id": "5b400bc3-b2c2-4dd2-96cc-0d0a157ee420",
   "metadata": {},
   "outputs": [
    {
     "data": {
      "text/plain": [
       "<All keys matched successfully>"
      ]
     },
     "execution_count": 16,
     "metadata": {},
     "output_type": "execute_result"
    }
   ],
   "source": [
    "# Load the (trained) model state for this architecture\n",
    "model.load_state_dict(torch.load(\"models/base-model.pth\"))"
   ]
  },
  {
   "cell_type": "code",
   "execution_count": 17,
   "id": "e5e0051c-f13d-41f9-a835-9fd2bcf92722",
   "metadata": {},
   "outputs": [
    {
     "data": {
      "image/png": "[encoded data removed]",
      "text/plain": [
       "<Figure size 640x480 with 1 Axes>"
      ]
     },
     "metadata": {},
     "output_type": "display_data"
    }
   ],
   "source": [
    "image_tensor, cls = training_data[0]\n",
    "plt.imshow(image_tensor.squeeze(), cmap=\"grey\")\n",
    "plt.grid(False)\n",
    "None"
   ]
  },
  {
   "cell_type": "code",
   "execution_count": 18,
   "id": "fb14044f-fbe2-4375-8890-66d9d8099e00",
   "metadata": {},
   "outputs": [],
   "source": [
    "with torch.no_grad():\n",
    "    logits = model(image_tensor)\n",
    "logits = logits.squeeze()"
   ]
  },
  {
   "cell_type": "code",
   "execution_count": 19,
   "id": "e8d92d7a-14dc-4b32-bd97-3e0a35e6fd06",
   "metadata": {},
   "outputs": [
    {
     "data": {
      "text/plain": [
       "tensor([1.3868e-06, 1.3274e-07, 1.3592e-05, 4.8298e-06, 3.0793e-05, 1.2058e-01,\n",
       "        2.0529e-05, 1.3026e-02, 1.7592e-02, 8.4873e-01])"
      ]
     },
     "execution_count": 19,
     "metadata": {},
     "output_type": "execute_result"
    }
   ],
   "source": [
    "probas = torch.nn.functional.softmax(logits, dim=-1)\n",
    "probas"
   ]
  },
  {
   "cell_type": "code",
   "execution_count": 20,
   "id": "21e172fc-3bec-4385-86af-3d405d795484",
   "metadata": {},
   "outputs": [
    {
     "data": {
      "text/plain": [
       "{'Ankle boot': 0.8487336039543152,\n",
       " 'Sandal': 0.12057656794786453,\n",
       " 'Bag': 0.017592474818229675,\n",
       " 'Sneaker': 0.013026069849729538,\n",
       " 'Coat': 3.079334055655636e-05,\n",
       " 'Shirt': 2.0528990717139095e-05,\n",
       " 'Pullover': 1.3592329196399078e-05,\n",
       " 'Dress': 4.8297911234840285e-06,\n",
       " 'T-shirt/top': 1.3868141195416683e-06,\n",
       " 'Trouser': 1.327381653482007e-07}"
      ]
     },
     "execution_count": 20,
     "metadata": {},
     "output_type": "execute_result"
    }
   ],
   "source": [
    "probas_dict = {training_data.classes[i]: p.item() for i, p in enumerate(probas)}\n",
    "probas_dict = dict(sorted(list(probas_dict.items()), key=lambda pair: -pair[1]))\n",
    "probas_dict"
   ]
  },
  {
   "cell_type": "code",
   "execution_count": 21,
   "id": "a92df69a-2a54-492d-9aee-dc31ec768d99",
   "metadata": {},
   "outputs": [
    {
     "data": {
      "image/png": "[encoded data removed]",
      "text/plain": [
       "<Figure size 1200x480 with 1 Axes>"
      ]
     },
     "metadata": {},
     "output_type": "display_data"
    }
   ],
   "source": [
    "import seaborn as sns; sns.set_theme()\n",
    "sns.barplot(probas_dict)\n",
    "plt.gcf().set_figwidth(12)\n",
    "plt.gca().set_ylabel(\"Probability\")\n",
    "None"
   ]
  },
  {
   "cell_type": "markdown",
   "id": "87a4f282-7864-4344-ab7b-0e9a6046e41b",
   "metadata": {},
   "source": [
    "### Parameters"
   ]
  },
  {
   "cell_type": "code",
   "execution_count": 22,
   "id": "4cf4e731-a71b-4956-aecd-83ba9e2a2e38",
   "metadata": {},
   "outputs": [
    {
     "name": "stdout",
     "output_type": "stream",
     "text": [
      "type: Tensor, shape: (512, 784), data type: torch.float32\n",
      "type: Tensor, shape: (512,)    , data type: torch.float32\n",
      "type: Tensor, shape: (512, 512), data type: torch.float32\n",
      "type: Tensor, shape: (512,)    , data type: torch.float32\n",
      "type: Tensor, shape: (10, 512) , data type: torch.float32\n",
      "type: Tensor, shape: (10,)     , data type: torch.float32\n"
     ]
    }
   ],
   "source": [
    "for p in model.parameters():\n",
    "    print(f\"type: {type(p.data).__name__}, shape: {tuple(p.shape)!s:<10}, data type: {p.dtype}\")"
   ]
  },
  {
   "cell_type": "markdown",
   "id": "2476ad61-4fe6-4ea0-913e-ec9edde2f0be",
   "metadata": {},
   "source": [
    "```{tip} Model Size\n",
    "How many scalar parameters describe the model? What is the corresponding model size in MB?\n",
    "```"
   ]
  },
  {
   "cell_type": "code",
   "execution_count": 23,
   "id": "d7577531-3619-44b2-8447-2b7b57f1b9b0",
   "metadata": {},
   "outputs": [],
   "source": [
    "num_params = 0\n",
    "for p in model.parameters():\n",
    "    num_params += torch.prod(torch.tensor(p.shape)).item()"
   ]
  },
  {
   "cell_type": "markdown",
   "id": "0ad32eff-2569-4977-b77f-5e60c3f60a09",
   "metadata": {
    "user_expressions": [
     {
      "expression": "num_params",
      "result": {
       "data": {
        "text/plain": "669706"
       },
       "metadata": {},
       "status": "ok"
      }
     },
     {
      "expression": "num_params // 1_000",
      "result": {
       "data": {
        "text/plain": "669"
       },
       "metadata": {},
       "status": "ok"
      }
     },
     {
      "expression": "round(num_params * 4 / 1_000_000, 1)",
      "result": {
       "data": {
        "text/plain": "2.7"
       },
       "metadata": {},
       "status": "ok"
      }
     }
    ]
   },
   "source": [
    "There are {eval}`num_params` ($\\approx$ {eval}`num_params // 1_000`K) parameters in the model. The size of each parameter is 4B, hence the total size is {eval}`round(num_params * 4 / 1_000_000, 1)`MB."
   ]
  },
  {
   "cell_type": "code",
   "execution_count": 24,
   "id": "73a764e4-ead4-469e-8f4f-ea3824bbfe60",
   "metadata": {},
   "outputs": [
    {
     "data": {
      "text/plain": [
       "tensor([[-5.1486, -7.4950, -2.8661, -3.9008, -2.0483,  6.2244, -2.4538,  3.9991,\n",
       "          4.2996,  8.1759]])"
      ]
     },
     "execution_count": 24,
     "metadata": {},
     "output_type": "execute_result"
    }
   ],
   "source": [
    "with torch.no_grad():\n",
    "    to_tensor = torchvision.transforms.ToTensor()\n",
    "    input = to_tensor(image)\n",
    "    output = model(input)\n",
    "output"
   ]
  },
  {
   "cell_type": "code",
   "execution_count": 25,
   "id": "a04ed00e-a735-4af5-86b6-ab01c35d7dd0",
   "metadata": {},
   "outputs": [
    {
     "data": {
      "text/plain": [
       "tensor([1.3868e-06, 1.3274e-07, 1.3592e-05, 4.8298e-06, 3.0793e-05, 1.2058e-01,\n",
       "        2.0529e-05, 1.3026e-02, 1.7592e-02, 8.4873e-01])"
      ]
     },
     "execution_count": 25,
     "metadata": {},
     "output_type": "execute_result"
    }
   ],
   "source": [
    "logits = output.data\n",
    "probas = torch.nn.functional.softmax(logits, dim=-1)\n",
    "probas = probas.squeeze()\n",
    "probas"
   ]
  },
  {
   "cell_type": "code",
   "execution_count": 26,
   "id": "a9890cb8-a0ba-4859-a3c9-86dc21652f49",
   "metadata": {},
   "outputs": [
    {
     "data": {
      "image/png": "[encoded data removed]",
      "text/plain": [
       "<Figure size 1200x480 with 1 Axes>"
      ]
     },
     "metadata": {},
     "output_type": "display_data"
    }
   ],
   "source": [
    "import seaborn as sns; sns.set_theme()\n",
    "probas_dict = {training_data.classes[i]: p.item() for i, p in enumerate(probas)}\n",
    "probas_dict = dict(sorted(list(probas_dict.items()), key=lambda pair: -pair[1]))\n",
    "sns.barplot(probas_dict)\n",
    "plt.gcf().set_figwidth(12)\n",
    "plt.gca().set_ylabel(\"Probability\")\n",
    "None"
   ]
  },
  {
   "cell_type": "code",
   "execution_count": 27,
   "id": "1bfa49f3-2493-465f-8757-94a4af0f188d",
   "metadata": {},
   "outputs": [
    {
     "data": {
      "text/plain": [
       "'Ankle boot'"
      ]
     },
     "execution_count": 27,
     "metadata": {},
     "output_type": "execute_result"
    }
   ],
   "source": [
    "for key in probas_dict:\n",
    "    most_likely_category = key\n",
    "    break\n",
    "most_likely_category"
   ]
  },
  {
   "cell_type": "code",
   "execution_count": 28,
   "id": "377fd95f-2ab6-4bb5-a7ca-7caa1e8f078f",
   "metadata": {},
   "outputs": [],
   "source": [
    "def prediction(image):\n",
    "    to_tensor = torchvision.transforms.ToTensor()\n",
    "    model.eval()\n",
    "    with torch.no_grad():\n",
    "        input = to_tensor(image)\n",
    "        output = model(input)\n",
    "    logits = output.data.squeeze()\n",
    "    probas = torch.nn.functional.softmax(logits, dim=-1)\n",
    "    category_proba = [(training_data.classes[i], p.item()) for i, p in enumerate(probas)]\n",
    "    category_proba = sorted(category_proba, key=lambda pair: -pair[1])\n",
    "    return dict(category_proba)"
   ]
  },
  {
   "cell_type": "code",
   "execution_count": 29,
   "id": "1b44433c-5d26-407a-a64b-883c06ee6a59",
   "metadata": {},
   "outputs": [
    {
     "data": {
      "text/plain": [
       "{'Ankle boot': 0.8487336039543152,\n",
       " 'Sandal': 0.12057656794786453,\n",
       " 'Bag': 0.017592474818229675,\n",
       " 'Sneaker': 0.013026069849729538,\n",
       " 'Coat': 3.079334055655636e-05,\n",
       " 'Shirt': 2.0528990717139095e-05,\n",
       " 'Pullover': 1.3592329196399078e-05,\n",
       " 'Dress': 4.8297911234840285e-06,\n",
       " 'T-shirt/top': 1.3868141195416683e-06,\n",
       " 'Trouser': 1.327381653482007e-07}"
      ]
     },
     "execution_count": 29,
     "metadata": {},
     "output_type": "execute_result"
    }
   ],
   "source": [
    "prediction(image)"
   ]
  },
  {
   "cell_type": "code",
   "execution_count": 30,
   "id": "b5b3482e-affa-4b2e-a34b-264a73b3b492",
   "metadata": {},
   "outputs": [
    {
     "data": {
      "image/png": "[encoded data removed]",
      "text/plain": [
       "<Figure size 1200x480 with 1 Axes>"
      ]
     },
     "metadata": {},
     "output_type": "display_data"
    }
   ],
   "source": [
    "sns.barplot(prediction(image))\n",
    "plt.gcf().set_figwidth(12)\n",
    "plt.gca().set_ylabel(\"Probability\")\n",
    "None"
   ]
  },
  {
   "cell_type": "markdown",
   "id": "f81e5757-0ecf-4e55-8cc5-3c177928ea41",
   "metadata": {},
   "source": [
    "### Under the Hood"
   ]
  },
  {
   "cell_type": "code",
   "execution_count": 31,
   "id": "89a01b45-d85b-4789-bc3d-c72b49c5950a",
   "metadata": {},
   "outputs": [
    {
     "data": {
      "text/plain": [
       "Flatten(start_dim=1, end_dim=-1)"
      ]
     },
     "execution_count": 31,
     "metadata": {},
     "output_type": "execute_result"
    }
   ],
   "source": [
    "model.flatten"
   ]
  },
  {
   "cell_type": "code",
   "execution_count": 32,
   "id": "c8a39cf1-aa35-45b8-ad37-15db36f4de6e",
   "metadata": {},
   "outputs": [
    {
     "data": {
      "image/jpeg": "[encoded data removed]",
      "image/png": "[encoded data removed]",
      "text/plain": [
       "<PIL.Image.Image image mode=L size=28x28>"
      ]
     },
     "execution_count": 32,
     "metadata": {},
     "output_type": "execute_result"
    }
   ],
   "source": [
    "image"
   ]
  },
  {
   "cell_type": "code",
   "execution_count": 33,
   "id": "d8fdafdc-c5d2-4e4f-9bfe-7162bb04e282",
   "metadata": {},
   "outputs": [
    {
     "data": {
      "text/plain": [
       "tensor([[[0.0000, 0.0000, 0.0000, 0.0000, 0.0000, 0.0000, 0.0000, 0.0000,\n",
       "          0.0000, 0.0000, 0.0000, 0.0000, 0.0000, 0.0000, 0.0000, 0.0000,\n",
       "          0.0000, 0.0000, 0.0000, 0.0000, 0.0000, 0.0000, 0.0000, 0.0000,\n",
       "          0.0000, 0.0000, 0.0000, 0.0000],\n",
       "         [0.0000, 0.0000, 0.0000, 0.0000, 0.0000, 0.0000, 0.0000, 0.0000,\n",
       "          0.0000, 0.0000, 0.0000, 0.0000, 0.0000, 0.0000, 0.0000, 0.0000,\n",
       "          0.0000, 0.0000, 0.0000, 0.0000, 0.0000, 0.0000, 0.0000, 0.0000,\n",
       "          0.0000, 0.0000, 0.0000, 0.0000],\n",
       "         [0.0000, 0.0000, 0.0000, 0.0000, 0.0000, 0.0000, 0.0000, 0.0000,\n",
       "          0.0000, 0.0000, 0.0000, 0.0000, 0.0000, 0.0000, 0.0000, 0.0000,\n",
       "          0.0000, 0.0000, 0.0000, 0.0000, 0.0000, 0.0000, 0.0000, 0.0000,\n",
       "          0.0000, 0.0000, 0.0000, 0.0000],\n",
       "         [0.0000, 0.0000, 0.0000, 0.0000, 0.0000, 0.0000, 0.0000, 0.0000,\n",
       "          0.0000, 0.0000, 0.0000, 0.0000, 0.0039, 0.0000, 0.0000, 0.0510,\n",
       "          0.2863, 0.0000, 0.0000, 0.0039, 0.0157, 0.0000, 0.0000, 0.0000,\n",
       "          0.0000, 0.0039, 0.0039, 0.0000],\n",
       "         [0.0000, 0.0000, 0.0000, 0.0000, 0.0000, 0.0000, 0.0000, 0.0000,\n",
       "          0.0000, 0.0000, 0.0000, 0.0000, 0.0118, 0.0000, 0.1412, 0.5333,\n",
       "          0.4980, 0.2431, 0.2118, 0.0000, 0.0000, 0.0000, 0.0039, 0.0118,\n",
       "          0.0157, 0.0000, 0.0000, 0.0118],\n",
       "         [0.0000, 0.0000, 0.0000, 0.0000, 0.0000, 0.0000, 0.0000, 0.0000,\n",
       "          0.0000, 0.0000, 0.0000, 0.0000, 0.0235, 0.0000, 0.4000, 0.8000,\n",
       "          0.6902, 0.5255, 0.5647, 0.4824, 0.0902, 0.0000, 0.0000, 0.0000,\n",
       "          0.0000, 0.0471, 0.0392, 0.0000],\n",
       "         [0.0000, 0.0000, 0.0000, 0.0000, 0.0000, 0.0000, 0.0000, 0.0000,\n",
       "          0.0000, 0.0000, 0.0000, 0.0000, 0.0000, 0.0000, 0.6078, 0.9255,\n",
       "          0.8118, 0.6980, 0.4196, 0.6118, 0.6314, 0.4275, 0.2510, 0.0902,\n",
       "          0.3020, 0.5098, 0.2824, 0.0588],\n",
       "         [0.0000, 0.0000, 0.0000, 0.0000, 0.0000, 0.0000, 0.0000, 0.0000,\n",
       "          0.0000, 0.0000, 0.0000, 0.0039, 0.0000, 0.2706, 0.8118, 0.8745,\n",
       "          0.8549, 0.8471, 0.8471, 0.6392, 0.4980, 0.4745, 0.4784, 0.5725,\n",
       "          0.5529, 0.3451, 0.6745, 0.2588],\n",
       "         [0.0000, 0.0000, 0.0000, 0.0000, 0.0000, 0.0000, 0.0000, 0.0000,\n",
       "          0.0000, 0.0039, 0.0039, 0.0039, 0.0000, 0.7843, 0.9098, 0.9098,\n",
       "          0.9137, 0.8980, 0.8745, 0.8745, 0.8431, 0.8353, 0.6431, 0.4980,\n",
       "          0.4824, 0.7686, 0.8980, 0.0000],\n",
       "         [0.0000, 0.0000, 0.0000, 0.0000, 0.0000, 0.0000, 0.0000, 0.0000,\n",
       "          0.0000, 0.0000, 0.0000, 0.0000, 0.0000, 0.7176, 0.8824, 0.8471,\n",
       "          0.8745, 0.8941, 0.9216, 0.8902, 0.8784, 0.8706, 0.8784, 0.8667,\n",
       "          0.8745, 0.9608, 0.6784, 0.0000],\n",
       "         [0.0000, 0.0000, 0.0000, 0.0000, 0.0000, 0.0000, 0.0000, 0.0000,\n",
       "          0.0000, 0.0000, 0.0000, 0.0000, 0.0000, 0.7569, 0.8941, 0.8549,\n",
       "          0.8353, 0.7765, 0.7059, 0.8314, 0.8235, 0.8275, 0.8353, 0.8745,\n",
       "          0.8627, 0.9529, 0.7922, 0.0000],\n",
       "         [0.0000, 0.0000, 0.0000, 0.0000, 0.0000, 0.0000, 0.0000, 0.0000,\n",
       "          0.0000, 0.0039, 0.0118, 0.0000, 0.0471, 0.8588, 0.8627, 0.8314,\n",
       "          0.8549, 0.7529, 0.6627, 0.8902, 0.8157, 0.8549, 0.8784, 0.8314,\n",
       "          0.8863, 0.7725, 0.8196, 0.2039],\n",
       "         [0.0000, 0.0000, 0.0000, 0.0000, 0.0000, 0.0000, 0.0000, 0.0000,\n",
       "          0.0000, 0.0000, 0.0235, 0.0000, 0.3882, 0.9569, 0.8706, 0.8627,\n",
       "          0.8549, 0.7961, 0.7765, 0.8667, 0.8431, 0.8353, 0.8706, 0.8627,\n",
       "          0.9608, 0.4667, 0.6549, 0.2196],\n",
       "         [0.0000, 0.0000, 0.0000, 0.0000, 0.0000, 0.0000, 0.0000, 0.0000,\n",
       "          0.0000, 0.0157, 0.0000, 0.0000, 0.2157, 0.9255, 0.8941, 0.9020,\n",
       "          0.8941, 0.9412, 0.9098, 0.8353, 0.8549, 0.8745, 0.9176, 0.8510,\n",
       "          0.8510, 0.8196, 0.3608, 0.0000],\n",
       "         [0.0000, 0.0000, 0.0039, 0.0157, 0.0235, 0.0275, 0.0078, 0.0000,\n",
       "          0.0000, 0.0000, 0.0000, 0.0000, 0.9294, 0.8863, 0.8510, 0.8745,\n",
       "          0.8706, 0.8588, 0.8706, 0.8667, 0.8471, 0.8745, 0.8980, 0.8431,\n",
       "          0.8549, 1.0000, 0.3020, 0.0000],\n",
       "         [0.0000, 0.0118, 0.0000, 0.0000, 0.0000, 0.0000, 0.0000, 0.0000,\n",
       "          0.0000, 0.2431, 0.5686, 0.8000, 0.8941, 0.8118, 0.8353, 0.8667,\n",
       "          0.8549, 0.8157, 0.8275, 0.8549, 0.8784, 0.8745, 0.8588, 0.8431,\n",
       "          0.8784, 0.9569, 0.6235, 0.0000],\n",
       "         [0.0000, 0.0000, 0.0000, 0.0000, 0.0706, 0.1725, 0.3216, 0.4196,\n",
       "          0.7412, 0.8941, 0.8627, 0.8706, 0.8510, 0.8863, 0.7843, 0.8039,\n",
       "          0.8275, 0.9020, 0.8784, 0.9176, 0.6902, 0.7373, 0.9804, 0.9725,\n",
       "          0.9137, 0.9333, 0.8431, 0.0000],\n",
       "         [0.0000, 0.2235, 0.7333, 0.8157, 0.8784, 0.8667, 0.8784, 0.8157,\n",
       "          0.8000, 0.8392, 0.8157, 0.8196, 0.7843, 0.6235, 0.9608, 0.7569,\n",
       "          0.8078, 0.8745, 1.0000, 1.0000, 0.8667, 0.9176, 0.8667, 0.8275,\n",
       "          0.8627, 0.9098, 0.9647, 0.0000],\n",
       "         [0.0118, 0.7922, 0.8941, 0.8784, 0.8667, 0.8275, 0.8275, 0.8392,\n",
       "          0.8039, 0.8039, 0.8039, 0.8627, 0.9412, 0.3137, 0.5882, 1.0000,\n",
       "          0.8980, 0.8667, 0.7373, 0.6039, 0.7490, 0.8235, 0.8000, 0.8196,\n",
       "          0.8706, 0.8941, 0.8824, 0.0000],\n",
       "         [0.3843, 0.9137, 0.7765, 0.8235, 0.8706, 0.8980, 0.8980, 0.9176,\n",
       "          0.9765, 0.8627, 0.7608, 0.8431, 0.8510, 0.9451, 0.2549, 0.2863,\n",
       "          0.4157, 0.4588, 0.6588, 0.8588, 0.8667, 0.8431, 0.8510, 0.8745,\n",
       "          0.8745, 0.8784, 0.8980, 0.1137],\n",
       "         [0.2941, 0.8000, 0.8314, 0.8000, 0.7569, 0.8039, 0.8275, 0.8824,\n",
       "          0.8471, 0.7255, 0.7725, 0.8078, 0.7765, 0.8353, 0.9412, 0.7647,\n",
       "          0.8902, 0.9608, 0.9373, 0.8745, 0.8549, 0.8314, 0.8196, 0.8706,\n",
       "          0.8627, 0.8667, 0.9020, 0.2627],\n",
       "         [0.1882, 0.7961, 0.7176, 0.7608, 0.8353, 0.7725, 0.7255, 0.7451,\n",
       "          0.7608, 0.7529, 0.7922, 0.8392, 0.8588, 0.8667, 0.8627, 0.9255,\n",
       "          0.8824, 0.8471, 0.7804, 0.8078, 0.7294, 0.7098, 0.6941, 0.6745,\n",
       "          0.7098, 0.8039, 0.8078, 0.4510],\n",
       "         [0.0000, 0.4784, 0.8588, 0.7569, 0.7020, 0.6706, 0.7176, 0.7686,\n",
       "          0.8000, 0.8235, 0.8353, 0.8118, 0.8275, 0.8235, 0.7843, 0.7686,\n",
       "          0.7608, 0.7490, 0.7647, 0.7490, 0.7765, 0.7529, 0.6902, 0.6118,\n",
       "          0.6549, 0.6941, 0.8235, 0.3608],\n",
       "         [0.0000, 0.0000, 0.2902, 0.7412, 0.8314, 0.7490, 0.6863, 0.6745,\n",
       "          0.6863, 0.7098, 0.7255, 0.7373, 0.7412, 0.7373, 0.7569, 0.7765,\n",
       "          0.8000, 0.8196, 0.8235, 0.8235, 0.8275, 0.7373, 0.7373, 0.7608,\n",
       "          0.7529, 0.8471, 0.6667, 0.0000],\n",
       "         [0.0078, 0.0000, 0.0000, 0.0000, 0.2588, 0.7843, 0.8706, 0.9294,\n",
       "          0.9373, 0.9490, 0.9647, 0.9529, 0.9569, 0.8667, 0.8627, 0.7569,\n",
       "          0.7490, 0.7020, 0.7137, 0.7137, 0.7098, 0.6902, 0.6510, 0.6588,\n",
       "          0.3882, 0.2275, 0.0000, 0.0000],\n",
       "         [0.0000, 0.0000, 0.0000, 0.0000, 0.0000, 0.0000, 0.0000, 0.1569,\n",
       "          0.2392, 0.1725, 0.2824, 0.1608, 0.1373, 0.0000, 0.0000, 0.0000,\n",
       "          0.0000, 0.0000, 0.0000, 0.0000, 0.0000, 0.0000, 0.0000, 0.0000,\n",
       "          0.0000, 0.0000, 0.0000, 0.0000],\n",
       "         [0.0000, 0.0000, 0.0000, 0.0000, 0.0000, 0.0000, 0.0000, 0.0000,\n",
       "          0.0000, 0.0000, 0.0000, 0.0000, 0.0000, 0.0000, 0.0000, 0.0000,\n",
       "          0.0000, 0.0000, 0.0000, 0.0000, 0.0000, 0.0000, 0.0000, 0.0000,\n",
       "          0.0000, 0.0000, 0.0000, 0.0000],\n",
       "         [0.0000, 0.0000, 0.0000, 0.0000, 0.0000, 0.0000, 0.0000, 0.0000,\n",
       "          0.0000, 0.0000, 0.0000, 0.0000, 0.0000, 0.0000, 0.0000, 0.0000,\n",
       "          0.0000, 0.0000, 0.0000, 0.0000, 0.0000, 0.0000, 0.0000, 0.0000,\n",
       "          0.0000, 0.0000, 0.0000, 0.0000]]])"
      ]
     },
     "execution_count": 33,
     "metadata": {},
     "output_type": "execute_result"
    }
   ],
   "source": [
    "t = torchvision.transforms.ToTensor()(image)\n",
    "t"
   ]
  },
  {
   "cell_type": "code",
   "execution_count": 34,
   "id": "8ff5bc9d-a6a8-4b3b-b7a9-c5f3e7b790c5",
   "metadata": {},
   "outputs": [
    {
     "data": {
      "text/plain": [
       "tensor([[0.0000, 0.0000, 0.0000, 0.0000, 0.0000, 0.0000, 0.0000, 0.0000, 0.0000,\n",
       "         0.0000, 0.0000, 0.0000, 0.0000, 0.0000, 0.0000, 0.0000, 0.0000, 0.0000,\n",
       "         0.0000, 0.0000, 0.0000, 0.0000, 0.0000, 0.0000, 0.0000, 0.0000, 0.0000,\n",
       "         0.0000, 0.0000, 0.0000, 0.0000, 0.0000, 0.0000, 0.0000, 0.0000, 0.0000,\n",
       "         0.0000, 0.0000, 0.0000, 0.0000, 0.0000, 0.0000, 0.0000, 0.0000, 0.0000,\n",
       "         0.0000, 0.0000, 0.0000, 0.0000, 0.0000, 0.0000, 0.0000, 0.0000, 0.0000,\n",
       "         0.0000, 0.0000, 0.0000, 0.0000, 0.0000, 0.0000, 0.0000, 0.0000, 0.0000,\n",
       "         0.0000, 0.0000, 0.0000, 0.0000, 0.0000, 0.0000, 0.0000, 0.0000, 0.0000,\n",
       "         0.0000, 0.0000, 0.0000, 0.0000, 0.0000, 0.0000, 0.0000, 0.0000, 0.0000,\n",
       "         0.0000, 0.0000, 0.0000, 0.0000, 0.0000, 0.0000, 0.0000, 0.0000, 0.0000,\n",
       "         0.0000, 0.0000, 0.0000, 0.0000, 0.0000, 0.0000, 0.0039, 0.0000, 0.0000,\n",
       "         0.0510, 0.2863, 0.0000, 0.0000, 0.0039, 0.0157, 0.0000, 0.0000, 0.0000,\n",
       "         0.0000, 0.0039, 0.0039, 0.0000, 0.0000, 0.0000, 0.0000, 0.0000, 0.0000,\n",
       "         0.0000, 0.0000, 0.0000, 0.0000, 0.0000, 0.0000, 0.0000, 0.0118, 0.0000,\n",
       "         0.1412, 0.5333, 0.4980, 0.2431, 0.2118, 0.0000, 0.0000, 0.0000, 0.0039,\n",
       "         0.0118, 0.0157, 0.0000, 0.0000, 0.0118, 0.0000, 0.0000, 0.0000, 0.0000,\n",
       "         0.0000, 0.0000, 0.0000, 0.0000, 0.0000, 0.0000, 0.0000, 0.0000, 0.0235,\n",
       "         0.0000, 0.4000, 0.8000, 0.6902, 0.5255, 0.5647, 0.4824, 0.0902, 0.0000,\n",
       "         0.0000, 0.0000, 0.0000, 0.0471, 0.0392, 0.0000, 0.0000, 0.0000, 0.0000,\n",
       "         0.0000, 0.0000, 0.0000, 0.0000, 0.0000, 0.0000, 0.0000, 0.0000, 0.0000,\n",
       "         0.0000, 0.0000, 0.6078, 0.9255, 0.8118, 0.6980, 0.4196, 0.6118, 0.6314,\n",
       "         0.4275, 0.2510, 0.0902, 0.3020, 0.5098, 0.2824, 0.0588, 0.0000, 0.0000,\n",
       "         0.0000, 0.0000, 0.0000, 0.0000, 0.0000, 0.0000, 0.0000, 0.0000, 0.0000,\n",
       "         0.0039, 0.0000, 0.2706, 0.8118, 0.8745, 0.8549, 0.8471, 0.8471, 0.6392,\n",
       "         0.4980, 0.4745, 0.4784, 0.5725, 0.5529, 0.3451, 0.6745, 0.2588, 0.0000,\n",
       "         0.0000, 0.0000, 0.0000, 0.0000, 0.0000, 0.0000, 0.0000, 0.0000, 0.0039,\n",
       "         0.0039, 0.0039, 0.0000, 0.7843, 0.9098, 0.9098, 0.9137, 0.8980, 0.8745,\n",
       "         0.8745, 0.8431, 0.8353, 0.6431, 0.4980, 0.4824, 0.7686, 0.8980, 0.0000,\n",
       "         0.0000, 0.0000, 0.0000, 0.0000, 0.0000, 0.0000, 0.0000, 0.0000, 0.0000,\n",
       "         0.0000, 0.0000, 0.0000, 0.0000, 0.7176, 0.8824, 0.8471, 0.8745, 0.8941,\n",
       "         0.9216, 0.8902, 0.8784, 0.8706, 0.8784, 0.8667, 0.8745, 0.9608, 0.6784,\n",
       "         0.0000, 0.0000, 0.0000, 0.0000, 0.0000, 0.0000, 0.0000, 0.0000, 0.0000,\n",
       "         0.0000, 0.0000, 0.0000, 0.0000, 0.0000, 0.7569, 0.8941, 0.8549, 0.8353,\n",
       "         0.7765, 0.7059, 0.8314, 0.8235, 0.8275, 0.8353, 0.8745, 0.8627, 0.9529,\n",
       "         0.7922, 0.0000, 0.0000, 0.0000, 0.0000, 0.0000, 0.0000, 0.0000, 0.0000,\n",
       "         0.0000, 0.0000, 0.0039, 0.0118, 0.0000, 0.0471, 0.8588, 0.8627, 0.8314,\n",
       "         0.8549, 0.7529, 0.6627, 0.8902, 0.8157, 0.8549, 0.8784, 0.8314, 0.8863,\n",
       "         0.7725, 0.8196, 0.2039, 0.0000, 0.0000, 0.0000, 0.0000, 0.0000, 0.0000,\n",
       "         0.0000, 0.0000, 0.0000, 0.0000, 0.0235, 0.0000, 0.3882, 0.9569, 0.8706,\n",
       "         0.8627, 0.8549, 0.7961, 0.7765, 0.8667, 0.8431, 0.8353, 0.8706, 0.8627,\n",
       "         0.9608, 0.4667, 0.6549, 0.2196, 0.0000, 0.0000, 0.0000, 0.0000, 0.0000,\n",
       "         0.0000, 0.0000, 0.0000, 0.0000, 0.0157, 0.0000, 0.0000, 0.2157, 0.9255,\n",
       "         0.8941, 0.9020, 0.8941, 0.9412, 0.9098, 0.8353, 0.8549, 0.8745, 0.9176,\n",
       "         0.8510, 0.8510, 0.8196, 0.3608, 0.0000, 0.0000, 0.0000, 0.0039, 0.0157,\n",
       "         0.0235, 0.0275, 0.0078, 0.0000, 0.0000, 0.0000, 0.0000, 0.0000, 0.9294,\n",
       "         0.8863, 0.8510, 0.8745, 0.8706, 0.8588, 0.8706, 0.8667, 0.8471, 0.8745,\n",
       "         0.8980, 0.8431, 0.8549, 1.0000, 0.3020, 0.0000, 0.0000, 0.0118, 0.0000,\n",
       "         0.0000, 0.0000, 0.0000, 0.0000, 0.0000, 0.0000, 0.2431, 0.5686, 0.8000,\n",
       "         0.8941, 0.8118, 0.8353, 0.8667, 0.8549, 0.8157, 0.8275, 0.8549, 0.8784,\n",
       "         0.8745, 0.8588, 0.8431, 0.8784, 0.9569, 0.6235, 0.0000, 0.0000, 0.0000,\n",
       "         0.0000, 0.0000, 0.0706, 0.1725, 0.3216, 0.4196, 0.7412, 0.8941, 0.8627,\n",
       "         0.8706, 0.8510, 0.8863, 0.7843, 0.8039, 0.8275, 0.9020, 0.8784, 0.9176,\n",
       "         0.6902, 0.7373, 0.9804, 0.9725, 0.9137, 0.9333, 0.8431, 0.0000, 0.0000,\n",
       "         0.2235, 0.7333, 0.8157, 0.8784, 0.8667, 0.8784, 0.8157, 0.8000, 0.8392,\n",
       "         0.8157, 0.8196, 0.7843, 0.6235, 0.9608, 0.7569, 0.8078, 0.8745, 1.0000,\n",
       "         1.0000, 0.8667, 0.9176, 0.8667, 0.8275, 0.8627, 0.9098, 0.9647, 0.0000,\n",
       "         0.0118, 0.7922, 0.8941, 0.8784, 0.8667, 0.8275, 0.8275, 0.8392, 0.8039,\n",
       "         0.8039, 0.8039, 0.8627, 0.9412, 0.3137, 0.5882, 1.0000, 0.8980, 0.8667,\n",
       "         0.7373, 0.6039, 0.7490, 0.8235, 0.8000, 0.8196, 0.8706, 0.8941, 0.8824,\n",
       "         0.0000, 0.3843, 0.9137, 0.7765, 0.8235, 0.8706, 0.8980, 0.8980, 0.9176,\n",
       "         0.9765, 0.8627, 0.7608, 0.8431, 0.8510, 0.9451, 0.2549, 0.2863, 0.4157,\n",
       "         0.4588, 0.6588, 0.8588, 0.8667, 0.8431, 0.8510, 0.8745, 0.8745, 0.8784,\n",
       "         0.8980, 0.1137, 0.2941, 0.8000, 0.8314, 0.8000, 0.7569, 0.8039, 0.8275,\n",
       "         0.8824, 0.8471, 0.7255, 0.7725, 0.8078, 0.7765, 0.8353, 0.9412, 0.7647,\n",
       "         0.8902, 0.9608, 0.9373, 0.8745, 0.8549, 0.8314, 0.8196, 0.8706, 0.8627,\n",
       "         0.8667, 0.9020, 0.2627, 0.1882, 0.7961, 0.7176, 0.7608, 0.8353, 0.7725,\n",
       "         0.7255, 0.7451, 0.7608, 0.7529, 0.7922, 0.8392, 0.8588, 0.8667, 0.8627,\n",
       "         0.9255, 0.8824, 0.8471, 0.7804, 0.8078, 0.7294, 0.7098, 0.6941, 0.6745,\n",
       "         0.7098, 0.8039, 0.8078, 0.4510, 0.0000, 0.4784, 0.8588, 0.7569, 0.7020,\n",
       "         0.6706, 0.7176, 0.7686, 0.8000, 0.8235, 0.8353, 0.8118, 0.8275, 0.8235,\n",
       "         0.7843, 0.7686, 0.7608, 0.7490, 0.7647, 0.7490, 0.7765, 0.7529, 0.6902,\n",
       "         0.6118, 0.6549, 0.6941, 0.8235, 0.3608, 0.0000, 0.0000, 0.2902, 0.7412,\n",
       "         0.8314, 0.7490, 0.6863, 0.6745, 0.6863, 0.7098, 0.7255, 0.7373, 0.7412,\n",
       "         0.7373, 0.7569, 0.7765, 0.8000, 0.8196, 0.8235, 0.8235, 0.8275, 0.7373,\n",
       "         0.7373, 0.7608, 0.7529, 0.8471, 0.6667, 0.0000, 0.0078, 0.0000, 0.0000,\n",
       "         0.0000, 0.2588, 0.7843, 0.8706, 0.9294, 0.9373, 0.9490, 0.9647, 0.9529,\n",
       "         0.9569, 0.8667, 0.8627, 0.7569, 0.7490, 0.7020, 0.7137, 0.7137, 0.7098,\n",
       "         0.6902, 0.6510, 0.6588, 0.3882, 0.2275, 0.0000, 0.0000, 0.0000, 0.0000,\n",
       "         0.0000, 0.0000, 0.0000, 0.0000, 0.0000, 0.1569, 0.2392, 0.1725, 0.2824,\n",
       "         0.1608, 0.1373, 0.0000, 0.0000, 0.0000, 0.0000, 0.0000, 0.0000, 0.0000,\n",
       "         0.0000, 0.0000, 0.0000, 0.0000, 0.0000, 0.0000, 0.0000, 0.0000, 0.0000,\n",
       "         0.0000, 0.0000, 0.0000, 0.0000, 0.0000, 0.0000, 0.0000, 0.0000, 0.0000,\n",
       "         0.0000, 0.0000, 0.0000, 0.0000, 0.0000, 0.0000, 0.0000, 0.0000, 0.0000,\n",
       "         0.0000, 0.0000, 0.0000, 0.0000, 0.0000, 0.0000, 0.0000, 0.0000, 0.0000,\n",
       "         0.0000, 0.0000, 0.0000, 0.0000, 0.0000, 0.0000, 0.0000, 0.0000, 0.0000,\n",
       "         0.0000, 0.0000, 0.0000, 0.0000, 0.0000, 0.0000, 0.0000, 0.0000, 0.0000,\n",
       "         0.0000, 0.0000, 0.0000, 0.0000, 0.0000, 0.0000, 0.0000, 0.0000, 0.0000,\n",
       "         0.0000]])"
      ]
     },
     "execution_count": 34,
     "metadata": {},
     "output_type": "execute_result"
    }
   ],
   "source": [
    "model.flatten(t)"
   ]
  },
  {
   "cell_type": "code",
   "execution_count": 35,
   "id": "ee934035-f1e7-48f9-a739-9afb00f7f1f6",
   "metadata": {},
   "outputs": [
    {
     "data": {
      "text/plain": [
       "Linear(in_features=784, out_features=512, bias=True)"
      ]
     },
     "execution_count": 35,
     "metadata": {},
     "output_type": "execute_result"
    }
   ],
   "source": [
    "model.linear_1"
   ]
  },
  {
   "cell_type": "code",
   "execution_count": 36,
   "id": "00595861-b73c-4fa4-be4b-8f064a41847c",
   "metadata": {},
   "outputs": [
    {
     "data": {
      "text/plain": [
       "True"
      ]
     },
     "execution_count": 36,
     "metadata": {},
     "output_type": "execute_result"
    }
   ],
   "source": [
    "model.linear_1.in_features == 28 * 28"
   ]
  },
  {
   "cell_type": "code",
   "execution_count": 37,
   "id": "2979cd1d-6e33-46b8-b377-a31d9985c734",
   "metadata": {},
   "outputs": [
    {
     "data": {
      "text/plain": [
       "{'weight': tensor([[-0.0123, -0.0082, -0.0086,  ...,  0.0301,  0.0236, -0.0208],\n",
       "         [ 0.0049,  0.0232,  0.0108,  ...,  0.0240,  0.0129, -0.0146],\n",
       "         [-0.0266, -0.0273, -0.0029,  ..., -0.0252, -0.0186,  0.0080],\n",
       "         ...,\n",
       "         [-0.0275, -0.0354,  0.0144,  ..., -0.0323, -0.0247, -0.0268],\n",
       "         [-0.0043,  0.0089, -0.0103,  ..., -0.0298, -0.0332, -0.0309],\n",
       "         [ 0.0331, -0.0038,  0.0259,  ...,  0.0354, -0.0015, -0.0210]]),\n",
       " 'bias': tensor([ 0.0160, -0.0126,  0.0421, -0.0055, -0.0019,  0.0235,  0.0053, -0.0126,\n",
       "         -0.0015, -0.0334, -0.0011, -0.0298, -0.0034,  0.0076, -0.0143, -0.0093,\n",
       "          0.0281,  0.0441, -0.0117,  0.0280, -0.0020, -0.0067, -0.0007,  0.0081,\n",
       "          0.0175,  0.0317,  0.0302,  0.0026,  0.0322, -0.0153, -0.0006, -0.0155,\n",
       "         -0.0193,  0.0149,  0.0405, -0.0009, -0.0017,  0.0070,  0.0282, -0.0231,\n",
       "          0.0218,  0.0226,  0.0414,  0.0194,  0.0083, -0.0121,  0.0023,  0.0035,\n",
       "          0.0056,  0.0430,  0.0312,  0.0286, -0.0175, -0.0176,  0.0291,  0.0259,\n",
       "          0.0189,  0.0094, -0.0237, -0.0123,  0.0137,  0.0404, -0.0293,  0.0499,\n",
       "          0.0025,  0.0242,  0.0077, -0.0152,  0.0217,  0.0116, -0.0334, -0.0022,\n",
       "         -0.0099, -0.0134, -0.0042,  0.0355,  0.0104, -0.0246,  0.0396, -0.0064,\n",
       "         -0.0225,  0.0291,  0.0183, -0.0299, -0.0044, -0.0085,  0.0328, -0.0202,\n",
       "          0.0326, -0.0264,  0.0138, -0.0077,  0.0202, -0.0204, -0.0303,  0.0099,\n",
       "         -0.0055, -0.0048, -0.0064,  0.0236, -0.0059,  0.0212, -0.0030,  0.0180,\n",
       "         -0.0153, -0.0075, -0.0003,  0.0260,  0.0399,  0.0237,  0.0270,  0.0415,\n",
       "          0.0089, -0.0164,  0.0059,  0.0092, -0.0279, -0.0058,  0.0215,  0.0302,\n",
       "          0.0273,  0.0143,  0.0160,  0.0152,  0.0393, -0.0078,  0.0195,  0.0440,\n",
       "          0.0303, -0.0204, -0.0385,  0.0275,  0.0047,  0.0118,  0.0237,  0.0293,\n",
       "         -0.0032,  0.0286, -0.0037, -0.0113,  0.0028, -0.0343,  0.0122,  0.0303,\n",
       "         -0.0141, -0.0073, -0.0213,  0.0267, -0.0308,  0.0260,  0.0156, -0.0201,\n",
       "          0.0164,  0.0146,  0.0385, -0.0316, -0.0106,  0.0097, -0.0059, -0.0253,\n",
       "          0.0365,  0.0345,  0.0121, -0.0324, -0.0276,  0.0115,  0.0157, -0.0158,\n",
       "          0.0184, -0.0200,  0.0467,  0.0427,  0.0347,  0.0144, -0.0313, -0.0225,\n",
       "          0.0235, -0.0087,  0.0332,  0.0240,  0.0123,  0.0236, -0.0164, -0.0286,\n",
       "          0.0252,  0.0067,  0.0321, -0.0254, -0.0309,  0.0263,  0.0045,  0.0167,\n",
       "         -0.0144, -0.0123,  0.0048, -0.0118,  0.0069,  0.0339,  0.0130,  0.0224,\n",
       "          0.0156,  0.0454, -0.0159,  0.0089,  0.0085, -0.0156,  0.0334,  0.0019,\n",
       "          0.0084,  0.0173,  0.0483,  0.0145, -0.0059,  0.0375,  0.0316, -0.0387,\n",
       "         -0.0004,  0.0259,  0.0282, -0.0152, -0.0006, -0.0095, -0.0244, -0.0080,\n",
       "          0.0270, -0.0112,  0.0165,  0.0118, -0.0291, -0.0068, -0.0007, -0.0010,\n",
       "          0.0075, -0.0055, -0.0045, -0.0093,  0.0117,  0.0213, -0.0193, -0.0100,\n",
       "          0.0012,  0.0485,  0.0058,  0.0299, -0.0259,  0.0155,  0.0047,  0.0337,\n",
       "         -0.0047, -0.0182,  0.0102,  0.0199, -0.0184, -0.0253, -0.0062,  0.0203,\n",
       "          0.0229, -0.0074,  0.0250, -0.0263, -0.0041, -0.0254,  0.0269, -0.0190,\n",
       "         -0.0228,  0.0217, -0.0061, -0.0047,  0.0369,  0.0259, -0.0039,  0.0252,\n",
       "         -0.0148,  0.0205, -0.0315,  0.0102,  0.0052,  0.0427, -0.0288,  0.0138,\n",
       "         -0.0321, -0.0024,  0.0171, -0.0201, -0.0045,  0.0241, -0.0265,  0.0159,\n",
       "         -0.0250,  0.0060,  0.0415,  0.0317, -0.0159, -0.0160, -0.0319, -0.0020,\n",
       "         -0.0060, -0.0097,  0.0378, -0.0361, -0.0299, -0.0060,  0.0164, -0.0175,\n",
       "         -0.0023, -0.0098, -0.0011, -0.0169,  0.0381, -0.0217, -0.0236,  0.0387,\n",
       "         -0.0313,  0.0290, -0.0269, -0.0200,  0.0111,  0.0177,  0.0046, -0.0024,\n",
       "         -0.0244, -0.0042,  0.0287, -0.0002, -0.0178,  0.0157, -0.0232,  0.0119,\n",
       "          0.0318,  0.0250, -0.0002,  0.0179,  0.0197, -0.0184,  0.0109, -0.0237,\n",
       "          0.0028,  0.0039,  0.0297,  0.0236,  0.0060, -0.0027, -0.0303, -0.0210,\n",
       "          0.0218,  0.0008, -0.0303, -0.0182,  0.0195,  0.0333,  0.0342, -0.0237,\n",
       "         -0.0188, -0.0273,  0.0290, -0.0234,  0.0360,  0.0081, -0.0025, -0.0110,\n",
       "          0.0054, -0.0020,  0.0156,  0.0197,  0.0156, -0.0070, -0.0077,  0.0023,\n",
       "          0.0282, -0.0285,  0.0203,  0.0108, -0.0006, -0.0184, -0.0107, -0.0171,\n",
       "          0.0195, -0.0055, -0.0158,  0.0241,  0.0322,  0.0225,  0.0450,  0.0103,\n",
       "          0.0136,  0.0116, -0.0119,  0.0004,  0.0216,  0.0216, -0.0357, -0.0079,\n",
       "          0.0183,  0.0170,  0.0360,  0.0133, -0.0203, -0.0341, -0.0187, -0.0133,\n",
       "         -0.0332,  0.0106,  0.0229, -0.0284,  0.0072, -0.0121, -0.0214, -0.0100,\n",
       "         -0.0295,  0.0340, -0.0015,  0.0173, -0.0120, -0.0152, -0.0292,  0.0075,\n",
       "         -0.0248,  0.0046,  0.0277, -0.0075, -0.0241,  0.0341,  0.0361,  0.0273,\n",
       "         -0.0058, -0.0096, -0.0013, -0.0089,  0.0002, -0.0248,  0.0208, -0.0244,\n",
       "          0.0162, -0.0059, -0.0282,  0.0414, -0.0109, -0.0172,  0.0377,  0.0100,\n",
       "          0.0500, -0.0193, -0.0169, -0.0227,  0.0127,  0.0264, -0.0084,  0.0379,\n",
       "          0.0348, -0.0318, -0.0187,  0.0347,  0.0223,  0.0287,  0.0258,  0.0250,\n",
       "         -0.0006,  0.0113, -0.0053, -0.0104,  0.0125, -0.0307, -0.0229,  0.0118,\n",
       "         -0.0080,  0.0465, -0.0083, -0.0322, -0.0078, -0.0126,  0.0230, -0.0236,\n",
       "          0.0043,  0.0082, -0.0153,  0.0386,  0.0397,  0.0130, -0.0104,  0.0283,\n",
       "          0.0200,  0.0252,  0.0058,  0.0007,  0.0252,  0.0042,  0.0160,  0.0074,\n",
       "          0.0354,  0.0226, -0.0203,  0.0185, -0.0182, -0.0015, -0.0151,  0.0116,\n",
       "          0.0024,  0.0047,  0.0173,  0.0331, -0.0141,  0.0094,  0.0334, -0.0282,\n",
       "         -0.0263,  0.0017,  0.0277,  0.0004,  0.0381,  0.0293, -0.0028,  0.0140])}"
      ]
     },
     "execution_count": 37,
     "metadata": {},
     "output_type": "execute_result"
    }
   ],
   "source": [
    "linear_1_params = {name: param.data for name, param in model.linear_1.named_parameters()}\n",
    "linear_1_params"
   ]
  },
  {
   "cell_type": "code",
   "execution_count": 38,
   "id": "ee77d92a-bba8-4333-8e1b-45077702a60f",
   "metadata": {},
   "outputs": [
    {
     "data": {
      "text/plain": [
       "torch.Size([512])"
      ]
     },
     "execution_count": 38,
     "metadata": {},
     "output_type": "execute_result"
    }
   ],
   "source": [
    "b1 = linear_1_params[\"bias\"]\n",
    "b1.shape"
   ]
  },
  {
   "cell_type": "code",
   "execution_count": 39,
   "id": "ef506f6e-9bb6-4d46-b392-96657feec93a",
   "metadata": {},
   "outputs": [
    {
     "data": {
      "text/plain": [
       "torch.Size([512, 784])"
      ]
     },
     "execution_count": 39,
     "metadata": {},
     "output_type": "execute_result"
    }
   ],
   "source": [
    "A1 = linear_1_params[\"weight\"]\n",
    "A1.shape"
   ]
  },
  {
   "cell_type": "code",
   "execution_count": 40,
   "id": "05e03e0a-2832-4e12-9cf8-2aa92a52dc8b",
   "metadata": {},
   "outputs": [
    {
     "name": "stdout",
     "output_type": "stream",
     "text": [
      "torch.Size([1, 28, 28])\n",
      "torch.Size([784])\n"
     ]
    },
    {
     "data": {
      "text/plain": [
       "tensor([ 7.5358e-01,  8.9999e-01,  6.3111e-01,  4.8355e-01, -1.6905e-01,\n",
       "         1.1264e+00,  6.5133e-01,  5.2523e-01,  5.5239e-01,  1.0992e+00,\n",
       "         6.2707e-02,  1.5292e-01,  7.6799e-02,  1.0851e+00,  1.6657e+00,\n",
       "        -3.7752e-01,  6.8299e-01,  3.3577e-01,  3.9864e-01,  2.0098e+00,\n",
       "        -1.5357e-01,  3.1391e-01,  4.7617e-01,  1.7695e+00,  8.6723e-01,\n",
       "        -3.0988e-01, -4.2693e-01,  1.6203e+00,  2.8783e-01,  7.4779e-01,\n",
       "         1.6758e-01,  7.0957e-01,  8.9572e-01, -9.4786e-02,  1.6565e+00,\n",
       "         7.9910e-01,  5.3396e-01, -2.4884e-01,  1.1917e-01,  1.0711e+00,\n",
       "         6.1352e-01, -3.0341e-01,  3.1174e-01,  4.6290e-01,  7.8370e-02,\n",
       "        -1.2013e-01,  8.1092e-01,  1.1918e+00, -1.3662e-02,  2.4217e-01,\n",
       "        -4.3629e-01, -8.0450e-02,  1.9760e-01, -4.1577e-01,  1.6994e+00,\n",
       "         1.1339e+00,  3.8225e-01,  9.0396e-01,  3.4370e-01, -4.2708e-01,\n",
       "        -1.2095e-01,  2.6794e-01,  8.0385e-01,  1.0088e+00,  2.2295e-01,\n",
       "        -1.5955e-01,  1.1572e-01,  7.0667e-01,  2.7335e-02,  2.5705e-01,\n",
       "        -6.7988e-01, -4.2994e-01,  1.4680e+00, -5.5066e-01,  1.9417e+00,\n",
       "        -1.0999e-02,  1.2696e-01, -4.4244e-01,  1.0063e+00,  1.3047e+00,\n",
       "         6.6282e-01,  1.6620e+00,  2.2911e+00,  7.3274e-01, -9.4183e-02,\n",
       "         7.4452e-01,  1.3399e+00,  1.7263e+00, -6.6058e-02,  1.2650e+00,\n",
       "         2.3481e-01,  7.9262e-02,  2.4726e-01, -2.0355e-01,  1.0934e+00,\n",
       "         1.1623e-01, -1.9715e-01, -1.4679e-01,  1.0622e-01,  2.3569e-01,\n",
       "         4.5212e-01,  1.6747e+00,  5.0108e-01,  7.5431e-01, -4.6577e-02,\n",
       "         1.0524e+00, -2.1961e-01,  1.0635e+00,  6.3261e-01,  4.6667e-01,\n",
       "         4.2874e-01,  1.1052e+00,  4.6928e-01, -1.4656e-01,  4.5573e-01,\n",
       "        -1.3561e-01,  5.2900e-01, -1.5464e-01,  2.2939e-02,  5.5382e-01,\n",
       "         2.5134e-01, -1.3185e-01,  5.2397e-02,  4.7879e-02, -5.4217e-02,\n",
       "         7.4688e-04,  1.3521e+00,  1.5143e+00,  2.2332e+00, -1.9565e-01,\n",
       "         2.3754e-01,  3.8475e-01,  1.1205e+00,  5.8382e-01,  1.5245e+00,\n",
       "         5.8796e-01, -9.2639e-01,  5.0378e-01,  3.2892e-01,  8.9818e-01,\n",
       "         7.5650e-01,  6.9858e-01, -4.6153e-01,  3.9129e-01,  1.6503e+00,\n",
       "         8.7770e-01,  1.2089e+00,  2.7187e-02,  3.4442e-01, -3.1775e-01,\n",
       "         5.2205e-01,  1.3394e-01, -5.9513e-02,  1.6302e+00,  1.1093e+00,\n",
       "         2.2394e-01,  3.5781e-01,  1.1026e-01,  2.6512e-01,  5.2991e-01,\n",
       "        -1.7142e-02,  6.9201e-01,  1.3362e+00, -4.2744e-01,  9.8711e-01,\n",
       "        -2.6485e-01,  2.6415e-01,  6.1764e-01, -2.9544e-01, -1.2798e-01,\n",
       "         5.0229e-01,  1.3589e+00,  5.0984e-01,  7.1861e-01,  7.1944e-01,\n",
       "         1.6001e-01, -3.1754e-01,  1.0922e+00,  1.1967e+00,  1.1089e+00,\n",
       "         5.3584e-02,  5.0080e-01,  1.4137e+00,  1.4547e+00,  8.5310e-01,\n",
       "         8.8914e-01,  1.6667e-01,  3.1689e-01, -7.1958e-02,  9.6115e-01,\n",
       "         5.1538e-01,  2.6523e-01, -6.4545e-02,  3.1729e-01,  2.8990e-01,\n",
       "        -9.0581e-01,  1.2387e+00, -4.4495e-02,  3.3246e-01,  3.8011e-01,\n",
       "        -3.4540e-01,  1.7588e+00, -7.8378e-01,  6.2040e-01,  1.5128e+00,\n",
       "         3.0755e-01,  8.7184e-01, -4.2725e-02,  6.4487e-01, -6.0617e-01,\n",
       "         5.3040e-02,  3.0079e-01, -4.1973e-01,  2.2201e+00, -3.1356e-01,\n",
       "         1.8067e+00,  1.4053e+00,  1.2579e+00,  1.6975e-01,  4.0823e-01,\n",
       "        -1.4108e-01,  4.8088e-01, -6.0460e-01, -2.4486e-01,  4.7190e-01,\n",
       "        -4.8216e-01,  5.8915e-01, -1.6296e-01, -3.0334e-01,  3.0065e-01,\n",
       "         1.4152e-01,  5.1875e-01,  6.8065e-01,  6.5573e-01, -4.1579e-02,\n",
       "         1.3580e+00, -3.1602e-01,  1.0624e+00,  7.4558e-01,  1.2552e+00,\n",
       "        -3.3761e-01,  7.0813e-01,  6.1774e-01,  1.1930e+00, -1.6458e-01,\n",
       "        -8.4699e-02, -5.6311e-01, -4.8320e-01,  1.2374e+00,  9.6585e-01,\n",
       "         1.8385e-01, -2.8850e-01,  1.3251e+00, -1.2386e-01, -4.2850e-01,\n",
       "        -4.9473e-01,  1.3418e+00,  3.1075e+00,  1.4818e-01,  3.6276e-01,\n",
       "        -2.0599e-01, -3.5953e-01,  9.3925e-01,  1.0392e+00,  1.0753e+00,\n",
       "         7.0178e-01,  1.0733e+00,  1.0037e-01,  3.2859e-01, -4.5402e-01,\n",
       "         4.2527e-01,  1.1427e+00,  9.2068e-01,  1.9725e-01,  6.9388e-01,\n",
       "         1.6026e-01, -5.2200e-01,  5.2823e-01,  2.0796e-01, -2.1749e-02,\n",
       "         6.5654e-01,  5.0986e-01,  4.0035e-01,  2.9797e-01,  2.6174e-01,\n",
       "         5.3728e-01,  4.8157e-01,  1.8733e-01,  7.5859e-01, -1.1823e-01,\n",
       "         2.2686e+00,  2.0604e-03, -5.8955e-01,  4.7643e-02,  1.0901e-01,\n",
       "        -2.3795e-01, -3.4820e-01,  4.6448e-01,  1.0827e+00, -2.2856e-01,\n",
       "        -1.7631e-01,  8.1909e-01,  1.0670e+00, -5.6690e-01, -2.1401e-01,\n",
       "         1.1130e+00, -5.8985e-01,  3.4977e-01,  6.3857e-01,  2.0867e+00,\n",
       "         4.3005e-01,  1.9243e-01,  2.9173e-01,  4.1315e-02,  1.2572e+00,\n",
       "         9.0083e-01, -6.9187e-02,  1.1214e+00,  1.1991e-01,  1.3897e+00,\n",
       "         7.8357e-01,  1.0038e+00,  1.3169e+00,  2.7629e-02, -8.5402e-01,\n",
       "         9.0936e-01, -4.3324e-01, -1.9264e-01,  4.6067e-01,  1.1409e+00,\n",
       "         2.8207e-01,  5.0454e-01, -4.5925e-01,  6.0584e-02,  1.3584e-01,\n",
       "        -2.7660e-01,  3.6009e-01, -6.2130e-01,  5.2433e-01, -1.9263e-01,\n",
       "        -1.1101e-01,  1.2082e+00, -3.1667e-01,  1.3204e-02, -5.1815e-01,\n",
       "         3.1099e-01,  5.0096e-01,  4.6546e-02,  1.9316e+00,  1.8409e-01,\n",
       "         4.2650e-02,  3.6911e-01, -4.7497e-01, -4.0974e-02,  7.8437e-01,\n",
       "        -2.8367e-01,  2.4152e-01,  7.7284e-01, -4.6360e-01,  3.6906e-01,\n",
       "         8.5860e-01, -1.1017e-01,  7.5690e-01,  5.3784e-01,  8.1131e-01,\n",
       "         1.1753e+00,  1.7988e+00,  6.4501e-01, -4.6978e-01,  2.5890e-01,\n",
       "        -1.1794e-01, -7.2345e-01,  3.4111e-01,  3.9868e-01,  7.6471e-01,\n",
       "         4.3928e-01,  2.0724e-01, -6.3888e-01, -4.7720e-02,  2.2175e+00,\n",
       "         4.6912e-01,  6.7617e-02,  2.4296e+00, -2.5720e-01, -7.9226e-02,\n",
       "         7.7791e-01,  6.4896e-01,  9.6567e-02,  8.7632e-01, -1.1637e-01,\n",
       "         8.7670e-01,  7.8715e-01,  1.1815e+00, -3.3372e-01,  4.0300e-01,\n",
       "         1.4084e+00,  2.6310e-01, -4.5612e-01,  6.4286e-01, -9.9367e-02,\n",
       "         4.9793e-01, -6.9918e-01, -4.9813e-01, -1.2618e-01,  4.7473e-01,\n",
       "         4.2729e-01, -7.9330e-02,  3.8051e-01,  1.1186e+00,  1.4472e+00,\n",
       "         1.1206e-01,  3.4912e-01, -1.8167e-01, -1.0058e-01,  2.4866e-01,\n",
       "        -3.9268e-01,  6.5806e-01,  2.9670e-02, -7.0060e-01,  6.1725e-01,\n",
       "         1.1477e+00,  5.0755e-01,  2.5299e-01,  4.0111e-02,  2.0761e-01,\n",
       "         8.7902e-03,  1.0676e+00,  1.2676e+00,  1.2365e+00,  5.1332e-01,\n",
       "        -3.8592e-01, -2.0877e-01, -4.3960e-01,  2.3411e+00, -3.0810e-01,\n",
       "         1.1291e-01,  2.2568e-01, -1.5888e-02,  8.9672e-01,  1.6742e+00,\n",
       "         1.3568e+00,  1.3269e-01,  6.5256e-01,  9.7239e-01,  3.4664e-01,\n",
       "        -3.5208e-01,  3.8804e-01,  3.2865e-01,  1.6079e+00,  1.7323e+00,\n",
       "         4.5054e-02, -5.1044e-01,  5.5874e-01, -1.1404e-01,  5.8218e-01,\n",
       "        -5.3740e-02,  5.5859e-01,  1.2362e+00,  2.1393e+00, -6.6931e-02,\n",
       "         9.5457e-01, -5.6840e-02,  6.0099e-01, -2.3046e-01,  1.3775e+00,\n",
       "         2.6490e-01, -2.0537e-01,  3.8629e-01,  3.3941e-01,  7.3889e-01,\n",
       "        -5.8912e-01, -1.6419e-02, -1.6925e-01,  4.8166e-01,  3.8105e-01,\n",
       "         6.5064e-01,  1.0589e+00,  4.5419e-02,  1.6856e+00,  1.5776e+00,\n",
       "         1.8949e+00,  1.7487e-01,  6.2510e-01, -3.8713e-02, -2.1716e-01,\n",
       "         4.9665e-01, -2.2442e-01,  7.1131e-02,  1.7472e+00, -1.2734e-01,\n",
       "         4.3644e-01,  8.8264e-01,  7.2069e-01, -4.3331e-02, -1.5855e-01,\n",
       "         2.3740e-01,  9.0242e-01,  1.0578e+00, -5.7040e-03,  4.0816e-01,\n",
       "        -9.9872e-02, -2.1911e-01, -6.9484e-02,  3.6902e-01, -1.9297e-01,\n",
       "        -1.5071e-01, -1.2984e-01,  1.7925e-01,  2.5510e-01,  6.5420e-02,\n",
       "         1.0814e-01,  1.5058e+00])"
      ]
     },
     "execution_count": 40,
     "metadata": {},
     "output_type": "execute_result"
    }
   ],
   "source": [
    "to_tensor = torchvision.transforms.ToTensor() \n",
    "t = to_tensor(image)\n",
    "print(t.shape)\n",
    "tf = torch.flatten(t)\n",
    "print(tf.shape)\n",
    "x1 = A1 @ tf + b1\n",
    "x1"
   ]
  },
  {
   "cell_type": "code",
   "execution_count": 41,
   "id": "63cb057b-6815-46c0-928b-4bcdd9771fbf",
   "metadata": {},
   "outputs": [
    {
     "data": {
      "text/plain": [
       "tensor([7.5358e-01, 8.9999e-01, 6.3111e-01, 4.8355e-01, 0.0000e+00, 1.1264e+00,\n",
       "        6.5133e-01, 5.2523e-01, 5.5239e-01, 1.0992e+00, 6.2707e-02, 1.5292e-01,\n",
       "        7.6799e-02, 1.0851e+00, 1.6657e+00, 0.0000e+00, 6.8299e-01, 3.3577e-01,\n",
       "        3.9864e-01, 2.0098e+00, 0.0000e+00, 3.1391e-01, 4.7617e-01, 1.7695e+00,\n",
       "        8.6723e-01, 0.0000e+00, 0.0000e+00, 1.6203e+00, 2.8783e-01, 7.4779e-01,\n",
       "        1.6758e-01, 7.0957e-01, 8.9572e-01, 0.0000e+00, 1.6565e+00, 7.9910e-01,\n",
       "        5.3396e-01, 0.0000e+00, 1.1917e-01, 1.0711e+00, 6.1352e-01, 0.0000e+00,\n",
       "        3.1174e-01, 4.6290e-01, 7.8370e-02, 0.0000e+00, 8.1092e-01, 1.1918e+00,\n",
       "        0.0000e+00, 2.4217e-01, 0.0000e+00, 0.0000e+00, 1.9760e-01, 0.0000e+00,\n",
       "        1.6994e+00, 1.1339e+00, 3.8225e-01, 9.0396e-01, 3.4370e-01, 0.0000e+00,\n",
       "        0.0000e+00, 2.6794e-01, 8.0385e-01, 1.0088e+00, 2.2295e-01, 0.0000e+00,\n",
       "        1.1572e-01, 7.0667e-01, 2.7335e-02, 2.5705e-01, 0.0000e+00, 0.0000e+00,\n",
       "        1.4680e+00, 0.0000e+00, 1.9417e+00, 0.0000e+00, 1.2696e-01, 0.0000e+00,\n",
       "        1.0063e+00, 1.3047e+00, 6.6282e-01, 1.6620e+00, 2.2911e+00, 7.3274e-01,\n",
       "        0.0000e+00, 7.4452e-01, 1.3399e+00, 1.7263e+00, 0.0000e+00, 1.2650e+00,\n",
       "        2.3481e-01, 7.9262e-02, 2.4726e-01, 0.0000e+00, 1.0934e+00, 1.1623e-01,\n",
       "        0.0000e+00, 0.0000e+00, 1.0622e-01, 2.3569e-01, 4.5212e-01, 1.6747e+00,\n",
       "        5.0108e-01, 7.5431e-01, 0.0000e+00, 1.0524e+00, 0.0000e+00, 1.0635e+00,\n",
       "        6.3261e-01, 4.6667e-01, 4.2874e-01, 1.1052e+00, 4.6928e-01, 0.0000e+00,\n",
       "        4.5573e-01, 0.0000e+00, 5.2900e-01, 0.0000e+00, 2.2939e-02, 5.5382e-01,\n",
       "        2.5134e-01, 0.0000e+00, 5.2397e-02, 4.7879e-02, 0.0000e+00, 7.4688e-04,\n",
       "        1.3521e+00, 1.5143e+00, 2.2332e+00, 0.0000e+00, 2.3754e-01, 3.8475e-01,\n",
       "        1.1205e+00, 5.8382e-01, 1.5245e+00, 5.8796e-01, 0.0000e+00, 5.0378e-01,\n",
       "        3.2892e-01, 8.9818e-01, 7.5650e-01, 6.9858e-01, 0.0000e+00, 3.9129e-01,\n",
       "        1.6503e+00, 8.7770e-01, 1.2089e+00, 2.7187e-02, 3.4442e-01, 0.0000e+00,\n",
       "        5.2205e-01, 1.3394e-01, 0.0000e+00, 1.6302e+00, 1.1093e+00, 2.2394e-01,\n",
       "        3.5781e-01, 1.1026e-01, 2.6512e-01, 5.2991e-01, 0.0000e+00, 6.9201e-01,\n",
       "        1.3362e+00, 0.0000e+00, 9.8711e-01, 0.0000e+00, 2.6415e-01, 6.1764e-01,\n",
       "        0.0000e+00, 0.0000e+00, 5.0229e-01, 1.3589e+00, 5.0984e-01, 7.1861e-01,\n",
       "        7.1944e-01, 1.6001e-01, 0.0000e+00, 1.0922e+00, 1.1967e+00, 1.1089e+00,\n",
       "        5.3584e-02, 5.0080e-01, 1.4137e+00, 1.4547e+00, 8.5310e-01, 8.8914e-01,\n",
       "        1.6667e-01, 3.1689e-01, 0.0000e+00, 9.6115e-01, 5.1538e-01, 2.6523e-01,\n",
       "        0.0000e+00, 3.1729e-01, 2.8990e-01, 0.0000e+00, 1.2387e+00, 0.0000e+00,\n",
       "        3.3246e-01, 3.8011e-01, 0.0000e+00, 1.7588e+00, 0.0000e+00, 6.2040e-01,\n",
       "        1.5128e+00, 3.0755e-01, 8.7184e-01, 0.0000e+00, 6.4487e-01, 0.0000e+00,\n",
       "        5.3040e-02, 3.0079e-01, 0.0000e+00, 2.2201e+00, 0.0000e+00, 1.8067e+00,\n",
       "        1.4053e+00, 1.2579e+00, 1.6975e-01, 4.0823e-01, 0.0000e+00, 4.8088e-01,\n",
       "        0.0000e+00, 0.0000e+00, 4.7190e-01, 0.0000e+00, 5.8915e-01, 0.0000e+00,\n",
       "        0.0000e+00, 3.0065e-01, 1.4152e-01, 5.1875e-01, 6.8065e-01, 6.5573e-01,\n",
       "        0.0000e+00, 1.3580e+00, 0.0000e+00, 1.0624e+00, 7.4558e-01, 1.2552e+00,\n",
       "        0.0000e+00, 7.0813e-01, 6.1774e-01, 1.1930e+00, 0.0000e+00, 0.0000e+00,\n",
       "        0.0000e+00, 0.0000e+00, 1.2374e+00, 9.6585e-01, 1.8385e-01, 0.0000e+00,\n",
       "        1.3251e+00, 0.0000e+00, 0.0000e+00, 0.0000e+00, 1.3418e+00, 3.1075e+00,\n",
       "        1.4818e-01, 3.6276e-01, 0.0000e+00, 0.0000e+00, 9.3925e-01, 1.0392e+00,\n",
       "        1.0753e+00, 7.0178e-01, 1.0733e+00, 1.0037e-01, 3.2859e-01, 0.0000e+00,\n",
       "        4.2527e-01, 1.1427e+00, 9.2068e-01, 1.9725e-01, 6.9388e-01, 1.6026e-01,\n",
       "        0.0000e+00, 5.2823e-01, 2.0796e-01, 0.0000e+00, 6.5654e-01, 5.0986e-01,\n",
       "        4.0035e-01, 2.9797e-01, 2.6174e-01, 5.3728e-01, 4.8157e-01, 1.8733e-01,\n",
       "        7.5859e-01, 0.0000e+00, 2.2686e+00, 2.0604e-03, 0.0000e+00, 4.7643e-02,\n",
       "        1.0901e-01, 0.0000e+00, 0.0000e+00, 4.6448e-01, 1.0827e+00, 0.0000e+00,\n",
       "        0.0000e+00, 8.1909e-01, 1.0670e+00, 0.0000e+00, 0.0000e+00, 1.1130e+00,\n",
       "        0.0000e+00, 3.4977e-01, 6.3857e-01, 2.0867e+00, 4.3005e-01, 1.9243e-01,\n",
       "        2.9173e-01, 4.1315e-02, 1.2572e+00, 9.0083e-01, 0.0000e+00, 1.1214e+00,\n",
       "        1.1991e-01, 1.3897e+00, 7.8357e-01, 1.0038e+00, 1.3169e+00, 2.7629e-02,\n",
       "        0.0000e+00, 9.0936e-01, 0.0000e+00, 0.0000e+00, 4.6067e-01, 1.1409e+00,\n",
       "        2.8207e-01, 5.0454e-01, 0.0000e+00, 6.0584e-02, 1.3584e-01, 0.0000e+00,\n",
       "        3.6009e-01, 0.0000e+00, 5.2433e-01, 0.0000e+00, 0.0000e+00, 1.2082e+00,\n",
       "        0.0000e+00, 1.3204e-02, 0.0000e+00, 3.1099e-01, 5.0096e-01, 4.6546e-02,\n",
       "        1.9316e+00, 1.8409e-01, 4.2650e-02, 3.6911e-01, 0.0000e+00, 0.0000e+00,\n",
       "        7.8437e-01, 0.0000e+00, 2.4152e-01, 7.7284e-01, 0.0000e+00, 3.6906e-01,\n",
       "        8.5860e-01, 0.0000e+00, 7.5690e-01, 5.3784e-01, 8.1131e-01, 1.1753e+00,\n",
       "        1.7988e+00, 6.4501e-01, 0.0000e+00, 2.5890e-01, 0.0000e+00, 0.0000e+00,\n",
       "        3.4111e-01, 3.9868e-01, 7.6471e-01, 4.3928e-01, 2.0724e-01, 0.0000e+00,\n",
       "        0.0000e+00, 2.2175e+00, 4.6912e-01, 6.7617e-02, 2.4296e+00, 0.0000e+00,\n",
       "        0.0000e+00, 7.7791e-01, 6.4896e-01, 9.6567e-02, 8.7632e-01, 0.0000e+00,\n",
       "        8.7670e-01, 7.8715e-01, 1.1815e+00, 0.0000e+00, 4.0300e-01, 1.4084e+00,\n",
       "        2.6310e-01, 0.0000e+00, 6.4286e-01, 0.0000e+00, 4.9793e-01, 0.0000e+00,\n",
       "        0.0000e+00, 0.0000e+00, 4.7473e-01, 4.2729e-01, 0.0000e+00, 3.8051e-01,\n",
       "        1.1186e+00, 1.4472e+00, 1.1206e-01, 3.4912e-01, 0.0000e+00, 0.0000e+00,\n",
       "        2.4866e-01, 0.0000e+00, 6.5806e-01, 2.9670e-02, 0.0000e+00, 6.1725e-01,\n",
       "        1.1477e+00, 5.0755e-01, 2.5299e-01, 4.0111e-02, 2.0761e-01, 8.7902e-03,\n",
       "        1.0676e+00, 1.2676e+00, 1.2365e+00, 5.1332e-01, 0.0000e+00, 0.0000e+00,\n",
       "        0.0000e+00, 2.3411e+00, 0.0000e+00, 1.1291e-01, 2.2568e-01, 0.0000e+00,\n",
       "        8.9672e-01, 1.6742e+00, 1.3568e+00, 1.3269e-01, 6.5256e-01, 9.7239e-01,\n",
       "        3.4664e-01, 0.0000e+00, 3.8804e-01, 3.2865e-01, 1.6079e+00, 1.7323e+00,\n",
       "        4.5054e-02, 0.0000e+00, 5.5874e-01, 0.0000e+00, 5.8218e-01, 0.0000e+00,\n",
       "        5.5859e-01, 1.2362e+00, 2.1393e+00, 0.0000e+00, 9.5457e-01, 0.0000e+00,\n",
       "        6.0099e-01, 0.0000e+00, 1.3775e+00, 2.6490e-01, 0.0000e+00, 3.8629e-01,\n",
       "        3.3941e-01, 7.3889e-01, 0.0000e+00, 0.0000e+00, 0.0000e+00, 4.8166e-01,\n",
       "        3.8105e-01, 6.5064e-01, 1.0589e+00, 4.5419e-02, 1.6856e+00, 1.5776e+00,\n",
       "        1.8949e+00, 1.7487e-01, 6.2510e-01, 0.0000e+00, 0.0000e+00, 4.9665e-01,\n",
       "        0.0000e+00, 7.1131e-02, 1.7472e+00, 0.0000e+00, 4.3644e-01, 8.8264e-01,\n",
       "        7.2069e-01, 0.0000e+00, 0.0000e+00, 2.3740e-01, 9.0242e-01, 1.0578e+00,\n",
       "        0.0000e+00, 4.0816e-01, 0.0000e+00, 0.0000e+00, 0.0000e+00, 3.6902e-01,\n",
       "        0.0000e+00, 0.0000e+00, 0.0000e+00, 1.7925e-01, 2.5510e-01, 6.5420e-02,\n",
       "        1.0814e-01, 1.5058e+00])"
      ]
     },
     "execution_count": 41,
     "metadata": {},
     "output_type": "execute_result"
    }
   ],
   "source": [
    "x1 = model.relu_1(x1)\n",
    "x1"
   ]
  },
  {
   "cell_type": "code",
   "execution_count": 42,
   "id": "3e1e5c46-52a8-4fe5-a451-999dfe396a68",
   "metadata": {},
   "outputs": [
    {
     "data": {
      "text/plain": [
       "[]"
      ]
     },
     "execution_count": 42,
     "metadata": {},
     "output_type": "execute_result"
    }
   ],
   "source": [
    "list(model.relu_1.named_parameters())"
   ]
  },
  {
   "cell_type": "code",
   "execution_count": 43,
   "id": "02e1c3ad-6fe8-423d-8c18-16d97188cf5c",
   "metadata": {},
   "outputs": [
    {
     "data": {
      "text/plain": [
       "tensor([-5.5644e-01,  2.1868e-01,  1.6277e+00, -1.5260e-01,  3.8835e-01,\n",
       "        -3.7647e-01,  8.3318e-01,  1.1665e+00,  9.5122e-01, -9.9249e-01,\n",
       "         6.9296e-01,  4.0299e-01, -5.1219e-01,  4.8513e-01,  1.4259e+00,\n",
       "        -3.3189e-01,  1.7373e-01,  2.0816e-02,  3.4914e-02, -7.9225e-01,\n",
       "         9.9839e-01, -3.4624e-01, -3.6851e-01, -3.0848e-01,  1.3827e+00,\n",
       "        -8.3870e-01,  2.7892e-02, -1.4339e-01,  3.9146e-01, -1.2390e+00,\n",
       "        -1.4864e-01,  6.1803e-01, -7.4386e-02, -2.3930e-02,  2.8753e+00,\n",
       "        -1.3853e-01,  1.7234e-01, -4.1123e-02,  2.3155e-01, -1.2290e-01,\n",
       "        -6.5625e-01,  2.0292e-01,  3.8625e-01,  1.6413e+00, -6.4289e-01,\n",
       "         2.5722e+00,  3.1687e-01, -8.5471e-01, -1.6177e-01, -7.8311e-01,\n",
       "        -5.3492e-01, -5.9756e-01,  2.0177e-01,  1.5403e+00,  9.6946e-01,\n",
       "         1.8036e+00,  2.7096e-01, -2.9942e-01,  7.8801e-01,  1.6924e+00,\n",
       "        -4.9962e-01, -5.6837e-01,  9.6208e-01,  5.8110e-01,  6.4326e-01,\n",
       "        -3.0944e-01,  2.7237e+00,  2.7676e-01,  3.7707e-01,  2.2630e+00,\n",
       "         7.8509e-01, -8.4489e-03,  1.8902e+00,  8.5285e-01, -7.9147e-01,\n",
       "        -8.0482e-01,  1.4802e+00,  5.3007e-01, -4.2339e-01, -7.7181e-01,\n",
       "        -3.5183e-01,  1.0766e+00, -4.6424e-01, -3.2450e-01,  1.2252e+00,\n",
       "         2.2093e-01,  8.1159e-01, -5.0501e-01,  1.6753e+00,  1.5932e+00,\n",
       "         7.7021e-01, -3.7729e-01, -1.0277e+00,  6.7672e-01,  1.6485e+00,\n",
       "         1.3182e-01,  7.1586e-01, -3.8004e-01, -4.5615e-01, -3.9077e-01,\n",
       "         1.5736e-01,  3.6688e-01,  1.1764e+00, -4.7650e-01, -1.0988e+00,\n",
       "         7.8773e-01, -4.0897e-01,  1.5430e+00, -6.1635e-01,  3.1450e-01,\n",
       "         5.1876e-01, -1.0356e+00, -1.6102e-01,  4.4761e-01,  9.7871e-01,\n",
       "        -5.6719e-01,  1.6971e+00,  1.7098e+00, -1.9273e-01, -3.9128e-01,\n",
       "        -2.9970e-01,  5.7851e-01, -9.2102e-01, -2.8439e-01,  7.7530e-01,\n",
       "         5.4648e-01,  5.2526e-01, -5.0510e-01,  1.5149e-01,  1.2940e+00,\n",
       "         1.2519e+00, -1.5079e-01,  9.6346e-01,  2.1908e+00, -3.7901e-01,\n",
       "         6.9553e-01, -5.5360e-01,  1.1041e+00, -2.3349e-01,  1.9280e+00,\n",
       "        -2.7382e-01,  1.1199e+00,  1.9669e-01,  3.3560e-01,  2.0349e-01,\n",
       "        -3.1574e-02, -3.7577e-01,  1.3159e-01, -5.8400e-02,  8.0675e-01,\n",
       "        -3.7759e-01,  1.0165e+00, -5.0713e-01,  5.9941e-01, -7.3167e-01,\n",
       "         1.5425e+00,  4.4572e-01, -2.5343e-01,  6.0047e-01,  2.4963e+00,\n",
       "         8.6350e-01,  1.6743e-01, -2.4679e-01, -1.6366e-01, -5.7038e-01,\n",
       "         1.0672e+00,  1.8040e+00,  6.2506e-01,  2.6624e-01,  1.8071e+00,\n",
       "         1.9193e+00, -1.6156e+00, -2.0027e-02,  9.4252e-01,  1.2730e+00,\n",
       "         6.9218e-01,  1.4696e-01,  1.2449e-01,  1.6865e+00,  1.8962e-01,\n",
       "         9.2388e-01,  3.4790e-01, -6.4290e-02,  8.5982e-01,  1.5526e-01,\n",
       "        -4.9601e-01,  1.1281e-01,  1.5640e-01, -1.4036e-01,  1.2489e+00,\n",
       "         1.9036e+00, -1.3829e-01, -3.0555e-01, -5.4153e-01, -1.2681e+00,\n",
       "         4.1834e-01,  3.9192e-01,  1.5411e-01, -5.5116e-01,  4.9921e-01,\n",
       "        -3.3965e-01,  6.1259e-01, -1.2215e+00,  1.3382e+00,  3.0708e-01,\n",
       "         5.1532e-02, -2.0280e-01,  2.2551e-01,  9.1602e-02,  1.3451e-01,\n",
       "         2.6179e+00,  1.7693e-01,  2.5201e-01, -2.2009e-01,  4.4970e-02,\n",
       "         8.5647e-01, -4.7693e-01,  1.9648e+00, -7.6976e-01,  4.1170e-01,\n",
       "        -7.1921e-01,  1.5689e-02,  2.1155e+00,  7.9713e-01, -4.1564e-01,\n",
       "        -3.5628e-01,  3.4011e-01, -6.0250e-01,  3.1989e-01,  4.0359e-01,\n",
       "        -7.1669e-01, -1.3861e-01,  4.2012e-01,  6.2491e-01,  2.6639e-01,\n",
       "         4.1084e-01,  3.5388e-01,  1.5096e-01, -2.7684e-01,  1.2530e+00,\n",
       "        -2.6915e-02,  6.7438e-01,  4.5920e-01,  1.2656e+00,  3.4440e-01,\n",
       "         9.9812e-01,  1.9248e-01, -5.0756e-01,  1.2072e+00, -5.3263e-01,\n",
       "         1.1173e-01,  6.9413e-01, -6.9842e-01, -9.6286e-02,  6.5224e-01,\n",
       "         1.7105e-02,  5.1270e-02, -7.0798e-01,  4.2522e-01,  1.4280e+00,\n",
       "         3.3962e-01,  1.0080e+00,  2.6499e-01,  2.0495e-01,  4.2531e-01,\n",
       "         5.7046e-01, -4.9341e-02,  3.1229e-01,  4.2966e-01, -2.5921e-01,\n",
       "         3.2090e-01,  1.0186e+00, -9.6895e-01,  1.3401e+00,  9.3582e-01,\n",
       "         1.9805e-01,  6.0398e-01,  1.6299e+00, -6.8824e-02, -5.6636e-02,\n",
       "         5.8212e-01,  1.2002e+00,  3.9505e-01,  1.2984e+00,  1.8536e+00,\n",
       "         1.1523e+00,  1.0341e+00,  2.1116e-01, -6.4113e-02, -9.8546e-01,\n",
       "         4.9855e-01,  1.1307e+00,  4.0714e-02,  1.5976e+00,  1.2767e+00,\n",
       "         1.4078e-01,  3.6976e-01,  9.7969e-01,  1.1930e+00,  1.5318e-01,\n",
       "        -8.0905e-01,  1.5893e+00,  4.0536e-01, -7.4755e-01, -4.2216e-01,\n",
       "         8.9997e-02,  2.0485e-01,  8.3907e-01,  1.9509e+00,  9.2022e-01,\n",
       "         4.6747e-01,  9.4802e-01,  5.7671e-01,  1.2043e+00,  7.6686e-01,\n",
       "         3.2194e-01,  9.6372e-01,  6.8974e-01, -6.8686e-01,  7.8864e-01,\n",
       "        -9.6754e-01, -1.2394e-01, -2.1665e-01,  6.4252e-01,  1.4446e+00,\n",
       "         7.0584e-01, -4.1577e-01,  6.4438e-01,  1.9657e-01, -9.4225e-02,\n",
       "        -3.1577e-01,  8.8056e-01, -6.0188e-03,  3.8036e-01, -3.0168e-02,\n",
       "        -4.6189e-01,  3.8113e-01, -2.7735e-01, -2.1959e-01, -3.9753e-01,\n",
       "         7.2726e-01,  5.7084e-01,  2.0222e-03,  3.1260e+00, -4.4257e-01,\n",
       "         3.1251e-01, -7.9095e-01, -3.0652e-01, -8.5036e-01,  2.0135e-01,\n",
       "         4.6042e-02,  9.4578e-01,  2.6431e-01, -3.2037e-01, -4.6024e-01,\n",
       "         7.7869e-02,  9.7652e-01,  4.3916e-01, -4.4251e-01,  9.8085e-02,\n",
       "         1.1212e+00, -1.0073e-01, -5.7632e-01,  8.1592e-01,  7.9263e-01,\n",
       "        -6.8507e-01,  1.6032e-01, -8.8839e-01, -1.3175e-02,  8.1387e-01,\n",
       "         7.4770e-01, -4.1091e-01, -6.1106e-01,  1.4029e-01, -6.4333e-02,\n",
       "         1.6642e-01,  7.7842e-01,  1.9525e-01,  4.1135e-01,  2.7084e+00,\n",
       "        -6.6014e-01,  1.3566e-01,  2.0247e+00, -3.5080e-01, -3.2692e-01,\n",
       "         6.3798e-01,  5.0409e-01, -3.2550e-02,  1.0427e+00,  1.5701e+00,\n",
       "        -1.0465e+00, -1.0208e+00,  1.7117e-01,  3.6759e-01,  4.5422e-01,\n",
       "        -4.3250e-01,  1.2939e+00,  1.5951e+00, -3.0375e-01, -5.9439e-01,\n",
       "         1.0010e+00,  2.0300e+00,  4.6483e-01,  6.6382e-01,  3.7054e-01,\n",
       "         1.5057e+00,  2.2582e+00, -4.4051e-01,  1.4574e-01,  1.8136e-01,\n",
       "         5.8241e-01,  8.3937e-01,  1.3793e-01, -7.9772e-01,  1.5760e+00,\n",
       "         4.7844e-01,  6.3798e-01,  6.9230e-01, -6.1369e-01,  1.9022e+00,\n",
       "        -2.5677e-01,  2.0974e-01, -2.2779e-01, -3.6164e-01,  9.4324e-01,\n",
       "         8.6043e-01, -5.3988e-01, -2.8543e-02,  2.2979e-01,  9.4154e-02,\n",
       "        -1.9346e-01,  4.0336e-01, -4.0367e-01, -4.0419e-01, -1.3864e-01,\n",
       "         6.0572e-01,  7.3324e-01,  2.0244e+00,  1.8909e+00,  3.0557e-02,\n",
       "        -7.2459e-02, -2.6775e-01,  1.1677e+00,  1.6848e-01, -2.9379e-01,\n",
       "         1.6550e-01,  5.7686e-01, -1.7499e-01, -1.5061e-03, -3.5558e-01,\n",
       "         7.3728e-01, -8.2883e-01,  2.9706e-01,  3.0251e-01, -3.8883e-01,\n",
       "        -5.4403e-03,  7.1448e-03,  3.3393e-01,  2.5292e-01, -5.3214e-01,\n",
       "        -2.4195e-01,  3.0519e-01,  1.5176e+00,  1.8610e+00,  1.9252e+00,\n",
       "        -1.1184e+00,  6.5412e-01,  6.7261e-01,  7.1609e-01,  9.5131e-01,\n",
       "        -1.2749e-01, -1.0122e+00, -1.3050e+00,  1.9957e+00, -1.0212e+00,\n",
       "         3.9494e-01, -3.5804e-01,  1.1616e+00, -2.0121e-02,  1.5625e+00,\n",
       "         3.7166e-01,  1.2003e+00,  3.5916e-01, -4.7335e-01,  1.6664e+00,\n",
       "         1.6301e+00, -1.6760e-01,  9.5291e-01,  1.5028e+00,  8.0637e-01,\n",
       "         2.1290e+00,  1.2094e+00,  1.8140e-01,  4.0917e-01,  1.3600e+00,\n",
       "         1.4449e+00,  6.8365e-01,  1.8668e+00,  2.5221e-01,  5.4335e-01,\n",
       "         2.7437e+00,  4.1035e-01,  3.3399e-01,  1.7081e+00, -4.2888e-03,\n",
       "         5.1284e-01, -8.7014e-04,  1.2295e+00, -3.9821e-01, -2.4019e-01,\n",
       "         7.4451e-01,  6.0404e-01])"
      ]
     },
     "execution_count": 43,
     "metadata": {},
     "output_type": "execute_result"
    }
   ],
   "source": [
    "linear_2_params = {name: param.data for name, param in model.linear_2.named_parameters()}\n",
    "A2 = linear_2_params[\"weight\"]\n",
    "b2 = linear_2_params[\"bias\"]\n",
    "x2 = A2 @ x1 + b2\n",
    "x2"
   ]
  },
  {
   "cell_type": "code",
   "execution_count": 44,
   "id": "9afeee39-f92c-430e-8fab-75f9da4ab7a5",
   "metadata": {},
   "outputs": [
    {
     "data": {
      "text/plain": [
       "tensor([0.0000e+00, 2.1868e-01, 1.6277e+00, 0.0000e+00, 3.8835e-01, 0.0000e+00,\n",
       "        8.3318e-01, 1.1665e+00, 9.5122e-01, 0.0000e+00, 6.9296e-01, 4.0299e-01,\n",
       "        0.0000e+00, 4.8513e-01, 1.4259e+00, 0.0000e+00, 1.7373e-01, 2.0816e-02,\n",
       "        3.4914e-02, 0.0000e+00, 9.9839e-01, 0.0000e+00, 0.0000e+00, 0.0000e+00,\n",
       "        1.3827e+00, 0.0000e+00, 2.7892e-02, 0.0000e+00, 3.9146e-01, 0.0000e+00,\n",
       "        0.0000e+00, 6.1803e-01, 0.0000e+00, 0.0000e+00, 2.8753e+00, 0.0000e+00,\n",
       "        1.7234e-01, 0.0000e+00, 2.3155e-01, 0.0000e+00, 0.0000e+00, 2.0292e-01,\n",
       "        3.8625e-01, 1.6413e+00, 0.0000e+00, 2.5722e+00, 3.1687e-01, 0.0000e+00,\n",
       "        0.0000e+00, 0.0000e+00, 0.0000e+00, 0.0000e+00, 2.0177e-01, 1.5403e+00,\n",
       "        9.6946e-01, 1.8036e+00, 2.7096e-01, 0.0000e+00, 7.8801e-01, 1.6924e+00,\n",
       "        0.0000e+00, 0.0000e+00, 9.6208e-01, 5.8110e-01, 6.4326e-01, 0.0000e+00,\n",
       "        2.7237e+00, 2.7676e-01, 3.7707e-01, 2.2630e+00, 7.8509e-01, 0.0000e+00,\n",
       "        1.8902e+00, 8.5285e-01, 0.0000e+00, 0.0000e+00, 1.4802e+00, 5.3007e-01,\n",
       "        0.0000e+00, 0.0000e+00, 0.0000e+00, 1.0766e+00, 0.0000e+00, 0.0000e+00,\n",
       "        1.2252e+00, 2.2093e-01, 8.1159e-01, 0.0000e+00, 1.6753e+00, 1.5932e+00,\n",
       "        7.7021e-01, 0.0000e+00, 0.0000e+00, 6.7672e-01, 1.6485e+00, 1.3182e-01,\n",
       "        7.1586e-01, 0.0000e+00, 0.0000e+00, 0.0000e+00, 1.5736e-01, 3.6688e-01,\n",
       "        1.1764e+00, 0.0000e+00, 0.0000e+00, 7.8773e-01, 0.0000e+00, 1.5430e+00,\n",
       "        0.0000e+00, 3.1450e-01, 5.1876e-01, 0.0000e+00, 0.0000e+00, 4.4761e-01,\n",
       "        9.7871e-01, 0.0000e+00, 1.6971e+00, 1.7098e+00, 0.0000e+00, 0.0000e+00,\n",
       "        0.0000e+00, 5.7851e-01, 0.0000e+00, 0.0000e+00, 7.7530e-01, 5.4648e-01,\n",
       "        5.2526e-01, 0.0000e+00, 1.5149e-01, 1.2940e+00, 1.2519e+00, 0.0000e+00,\n",
       "        9.6346e-01, 2.1908e+00, 0.0000e+00, 6.9553e-01, 0.0000e+00, 1.1041e+00,\n",
       "        0.0000e+00, 1.9280e+00, 0.0000e+00, 1.1199e+00, 1.9669e-01, 3.3560e-01,\n",
       "        2.0349e-01, 0.0000e+00, 0.0000e+00, 1.3159e-01, 0.0000e+00, 8.0675e-01,\n",
       "        0.0000e+00, 1.0165e+00, 0.0000e+00, 5.9941e-01, 0.0000e+00, 1.5425e+00,\n",
       "        4.4572e-01, 0.0000e+00, 6.0047e-01, 2.4963e+00, 8.6350e-01, 1.6743e-01,\n",
       "        0.0000e+00, 0.0000e+00, 0.0000e+00, 1.0672e+00, 1.8040e+00, 6.2506e-01,\n",
       "        2.6624e-01, 1.8071e+00, 1.9193e+00, 0.0000e+00, 0.0000e+00, 9.4252e-01,\n",
       "        1.2730e+00, 6.9218e-01, 1.4696e-01, 1.2449e-01, 1.6865e+00, 1.8962e-01,\n",
       "        9.2388e-01, 3.4790e-01, 0.0000e+00, 8.5982e-01, 1.5526e-01, 0.0000e+00,\n",
       "        1.1281e-01, 1.5640e-01, 0.0000e+00, 1.2489e+00, 1.9036e+00, 0.0000e+00,\n",
       "        0.0000e+00, 0.0000e+00, 0.0000e+00, 4.1834e-01, 3.9192e-01, 1.5411e-01,\n",
       "        0.0000e+00, 4.9921e-01, 0.0000e+00, 6.1259e-01, 0.0000e+00, 1.3382e+00,\n",
       "        3.0708e-01, 5.1532e-02, 0.0000e+00, 2.2551e-01, 9.1602e-02, 1.3451e-01,\n",
       "        2.6179e+00, 1.7693e-01, 2.5201e-01, 0.0000e+00, 4.4970e-02, 8.5647e-01,\n",
       "        0.0000e+00, 1.9648e+00, 0.0000e+00, 4.1170e-01, 0.0000e+00, 1.5689e-02,\n",
       "        2.1155e+00, 7.9713e-01, 0.0000e+00, 0.0000e+00, 3.4011e-01, 0.0000e+00,\n",
       "        3.1989e-01, 4.0359e-01, 0.0000e+00, 0.0000e+00, 4.2012e-01, 6.2491e-01,\n",
       "        2.6639e-01, 4.1084e-01, 3.5388e-01, 1.5096e-01, 0.0000e+00, 1.2530e+00,\n",
       "        0.0000e+00, 6.7438e-01, 4.5920e-01, 1.2656e+00, 3.4440e-01, 9.9812e-01,\n",
       "        1.9248e-01, 0.0000e+00, 1.2072e+00, 0.0000e+00, 1.1173e-01, 6.9413e-01,\n",
       "        0.0000e+00, 0.0000e+00, 6.5224e-01, 1.7105e-02, 5.1270e-02, 0.0000e+00,\n",
       "        4.2522e-01, 1.4280e+00, 3.3962e-01, 1.0080e+00, 2.6499e-01, 2.0495e-01,\n",
       "        4.2531e-01, 5.7046e-01, 0.0000e+00, 3.1229e-01, 4.2966e-01, 0.0000e+00,\n",
       "        3.2090e-01, 1.0186e+00, 0.0000e+00, 1.3401e+00, 9.3582e-01, 1.9805e-01,\n",
       "        6.0398e-01, 1.6299e+00, 0.0000e+00, 0.0000e+00, 5.8212e-01, 1.2002e+00,\n",
       "        3.9505e-01, 1.2984e+00, 1.8536e+00, 1.1523e+00, 1.0341e+00, 2.1116e-01,\n",
       "        0.0000e+00, 0.0000e+00, 4.9855e-01, 1.1307e+00, 4.0714e-02, 1.5976e+00,\n",
       "        1.2767e+00, 1.4078e-01, 3.6976e-01, 9.7969e-01, 1.1930e+00, 1.5318e-01,\n",
       "        0.0000e+00, 1.5893e+00, 4.0536e-01, 0.0000e+00, 0.0000e+00, 8.9997e-02,\n",
       "        2.0485e-01, 8.3907e-01, 1.9509e+00, 9.2022e-01, 4.6747e-01, 9.4802e-01,\n",
       "        5.7671e-01, 1.2043e+00, 7.6686e-01, 3.2194e-01, 9.6372e-01, 6.8974e-01,\n",
       "        0.0000e+00, 7.8864e-01, 0.0000e+00, 0.0000e+00, 0.0000e+00, 6.4252e-01,\n",
       "        1.4446e+00, 7.0584e-01, 0.0000e+00, 6.4438e-01, 1.9657e-01, 0.0000e+00,\n",
       "        0.0000e+00, 8.8056e-01, 0.0000e+00, 3.8036e-01, 0.0000e+00, 0.0000e+00,\n",
       "        3.8113e-01, 0.0000e+00, 0.0000e+00, 0.0000e+00, 7.2726e-01, 5.7084e-01,\n",
       "        2.0222e-03, 3.1260e+00, 0.0000e+00, 3.1251e-01, 0.0000e+00, 0.0000e+00,\n",
       "        0.0000e+00, 2.0135e-01, 4.6042e-02, 9.4578e-01, 2.6431e-01, 0.0000e+00,\n",
       "        0.0000e+00, 7.7869e-02, 9.7652e-01, 4.3916e-01, 0.0000e+00, 9.8085e-02,\n",
       "        1.1212e+00, 0.0000e+00, 0.0000e+00, 8.1592e-01, 7.9263e-01, 0.0000e+00,\n",
       "        1.6032e-01, 0.0000e+00, 0.0000e+00, 8.1387e-01, 7.4770e-01, 0.0000e+00,\n",
       "        0.0000e+00, 1.4029e-01, 0.0000e+00, 1.6642e-01, 7.7842e-01, 1.9525e-01,\n",
       "        4.1135e-01, 2.7084e+00, 0.0000e+00, 1.3566e-01, 2.0247e+00, 0.0000e+00,\n",
       "        0.0000e+00, 6.3798e-01, 5.0409e-01, 0.0000e+00, 1.0427e+00, 1.5701e+00,\n",
       "        0.0000e+00, 0.0000e+00, 1.7117e-01, 3.6759e-01, 4.5422e-01, 0.0000e+00,\n",
       "        1.2939e+00, 1.5951e+00, 0.0000e+00, 0.0000e+00, 1.0010e+00, 2.0300e+00,\n",
       "        4.6483e-01, 6.6382e-01, 3.7054e-01, 1.5057e+00, 2.2582e+00, 0.0000e+00,\n",
       "        1.4574e-01, 1.8136e-01, 5.8241e-01, 8.3937e-01, 1.3793e-01, 0.0000e+00,\n",
       "        1.5760e+00, 4.7844e-01, 6.3798e-01, 6.9230e-01, 0.0000e+00, 1.9022e+00,\n",
       "        0.0000e+00, 2.0974e-01, 0.0000e+00, 0.0000e+00, 9.4324e-01, 8.6043e-01,\n",
       "        0.0000e+00, 0.0000e+00, 2.2979e-01, 9.4154e-02, 0.0000e+00, 4.0336e-01,\n",
       "        0.0000e+00, 0.0000e+00, 0.0000e+00, 6.0572e-01, 7.3324e-01, 2.0244e+00,\n",
       "        1.8909e+00, 3.0557e-02, 0.0000e+00, 0.0000e+00, 1.1677e+00, 1.6848e-01,\n",
       "        0.0000e+00, 1.6550e-01, 5.7686e-01, 0.0000e+00, 0.0000e+00, 0.0000e+00,\n",
       "        7.3728e-01, 0.0000e+00, 2.9706e-01, 3.0251e-01, 0.0000e+00, 0.0000e+00,\n",
       "        7.1448e-03, 3.3393e-01, 2.5292e-01, 0.0000e+00, 0.0000e+00, 3.0519e-01,\n",
       "        1.5176e+00, 1.8610e+00, 1.9252e+00, 0.0000e+00, 6.5412e-01, 6.7261e-01,\n",
       "        7.1609e-01, 9.5131e-01, 0.0000e+00, 0.0000e+00, 0.0000e+00, 1.9957e+00,\n",
       "        0.0000e+00, 3.9494e-01, 0.0000e+00, 1.1616e+00, 0.0000e+00, 1.5625e+00,\n",
       "        3.7166e-01, 1.2003e+00, 3.5916e-01, 0.0000e+00, 1.6664e+00, 1.6301e+00,\n",
       "        0.0000e+00, 9.5291e-01, 1.5028e+00, 8.0637e-01, 2.1290e+00, 1.2094e+00,\n",
       "        1.8140e-01, 4.0917e-01, 1.3600e+00, 1.4449e+00, 6.8365e-01, 1.8668e+00,\n",
       "        2.5221e-01, 5.4335e-01, 2.7437e+00, 4.1035e-01, 3.3399e-01, 1.7081e+00,\n",
       "        0.0000e+00, 5.1284e-01, 0.0000e+00, 1.2295e+00, 0.0000e+00, 0.0000e+00,\n",
       "        7.4451e-01, 6.0404e-01])"
      ]
     },
     "execution_count": 44,
     "metadata": {},
     "output_type": "execute_result"
    }
   ],
   "source": [
    "x2 = model.relu_2(x2)\n",
    "x2"
   ]
  },
  {
   "cell_type": "code",
   "execution_count": 45,
   "id": "e359b5a0-670c-49fc-99d7-79cdb586d0e1",
   "metadata": {},
   "outputs": [
    {
     "data": {
      "text/plain": [
       "tensor([-5.1486, -7.4950, -2.8661, -3.9008, -2.0483,  6.2244, -2.4538,  3.9991,\n",
       "         4.2996,  8.1759])"
      ]
     },
     "execution_count": 45,
     "metadata": {},
     "output_type": "execute_result"
    }
   ],
   "source": [
    "linear_3_params = {name: param.data for name, param in model.linear_3.named_parameters()}\n",
    "A3 = linear_3_params[\"weight\"]\n",
    "b3 = linear_3_params[\"bias\"]\n",
    "x3 = A3 @ x2 + b3\n",
    "x3"
   ]
  },
  {
   "cell_type": "code",
   "execution_count": 46,
   "id": "6574bed7-4755-4847-9268-ec1bccdff204",
   "metadata": {},
   "outputs": [
    {
     "data": {
      "text/plain": [
       "tensor([1.3868e-06, 1.3274e-07, 1.3592e-05, 4.8298e-06, 3.0793e-05, 1.2058e-01,\n",
       "        2.0529e-05, 1.3026e-02, 1.7592e-02, 8.4873e-01])"
      ]
     },
     "execution_count": 46,
     "metadata": {},
     "output_type": "execute_result"
    }
   ],
   "source": [
    "def softmax(x):\n",
    "    return torch.nn.functional.softmax(x, dim=0)\n",
    "\n",
    "probas = softmax(x3)\n",
    "probas"
   ]
  },
  {
   "cell_type": "code",
   "execution_count": 47,
   "id": "e711f687-e2c7-4349-9155-c17d559898f5",
   "metadata": {},
   "outputs": [
    {
     "data": {
      "text/plain": [
       "{'T-shirt/top': 1.3868141195416683e-06,\n",
       " 'Trouser': 1.327381653482007e-07,\n",
       " 'Pullover': 1.3592329196399078e-05,\n",
       " 'Dress': 4.8297911234840285e-06,\n",
       " 'Coat': 3.079334055655636e-05,\n",
       " 'Sandal': 0.12057656794786453,\n",
       " 'Shirt': 2.0528990717139095e-05,\n",
       " 'Sneaker': 0.013026069849729538,\n",
       " 'Bag': 0.017592474818229675,\n",
       " 'Ankle boot': 0.8487336039543152}"
      ]
     },
     "execution_count": 47,
     "metadata": {},
     "output_type": "execute_result"
    }
   ],
   "source": [
    "data = {training_data.classes[i]: p.item() for i, p in enumerate(probas)}\n",
    "data"
   ]
  },
  {
   "cell_type": "code",
   "execution_count": 48,
   "id": "48934c97-27f8-4d11-a2d1-af19e0cc5810",
   "metadata": {},
   "outputs": [
    {
     "data": {
      "image/png": "[encoded data removed]",
      "text/plain": [
       "<Figure size 1200x480 with 1 Axes>"
      ]
     },
     "metadata": {},
     "output_type": "display_data"
    }
   ],
   "source": [
    "import seaborn as sns; sns.set_theme()\n",
    "sns.barplot(data)\n",
    "plt.gcf().set_figwidth(12)\n",
    "plt.gca().set_ylabel(\"Probability\")\n",
    "None"
   ]
  },
  {
   "cell_type": "code",
   "execution_count": 49,
   "id": "5a5b94a0-b39a-4637-b5de-3090438183d4",
   "metadata": {},
   "outputs": [],
   "source": [
    "out = model(t).data.squeeze()"
   ]
  },
  {
   "cell_type": "code",
   "execution_count": 50,
   "id": "7979dd2d-f699-4074-9c81-5c6988b8332d",
   "metadata": {},
   "outputs": [],
   "source": [
    "ps = torch.nn.functional.softmax(out, dim=-1)"
   ]
  },
  {
   "cell_type": "code",
   "execution_count": 51,
   "id": "cebb45c1-34cd-4e47-be96-18b58d90eb09",
   "metadata": {},
   "outputs": [
    {
     "data": {
      "image/png": "[encoded data removed]",
      "text/plain": [
       "<Figure size 1600x480 with 1 Axes>"
      ]
     },
     "metadata": {},
     "output_type": "display_data"
    }
   ],
   "source": [
    "data = {training_data.classes[i]: p.item() for i, p in enumerate(ps)}\n",
    "sns.barplot(data)\n",
    "plt.gcf().set_figwidth(16)\n",
    "plt.gca().set_ylabel(\"Probability\")\n",
    "None"
   ]
  },
  {
   "cell_type": "markdown",
   "id": "f61f1b95-6b16-4504-85e9-53521e1c1737",
   "metadata": {},
   "source": [
    "## Training"
   ]
  },
  {
   "cell_type": "markdown",
   "id": "69b12003-c8b8-4aa1-8636-2fd71eba47ee",
   "metadata": {},
   "source": [
    "### Loss Function"
   ]
  },
  {
   "cell_type": "markdown",
   "id": "01fbc792-5d57-4dac-82b5-4e2720faa1d7",
   "metadata": {},
   "source": [
    "The loss function is a measure of the model prediction error: the mismatch between the output predicted by the model and the \"real\" output. Here, in the context of category identification, we use the cross-entropy loss function."
   ]
  },
  {
   "cell_type": "code",
   "execution_count": 52,
   "id": "7cc958b3-06de-42d3-b474-d050064e2664",
   "metadata": {},
   "outputs": [],
   "source": [
    "loss_function = torch.nn.CrossEntropyLoss()"
   ]
  },
  {
   "cell_type": "markdown",
   "id": "9829fa6f-7bd3-4543-af3d-ff1787adc15f",
   "metadata": {},
   "source": [
    "It measures the differences between two probability distributions: here a computed probability distribution $p=(p_0, \\dots, p_{n-1})$ and a \"deterministic\" distribution $q=e_i$ with\n",
    "$$\n",
    "e_i=(0, \\dots, 0, 1, 0, \\dots, 0) \\;\\;\\; \\mbox{($1$ in position $i$)}\n",
    "$$\n",
    "with:\n",
    "$$\n",
    "\\mathrm{loss}(p, e_i) = - \\log p_i. \n",
    "$$\n",
    "The loss is zero when $p_i = 1$ (perfect match) and $-\\infty$ when $p_i = 0$. It does not depend on the distribution of the $p_j$ for $j \\neq i$."
   ]
  },
  {
   "cell_type": "markdown",
   "id": "9594209a-b512-4e6e-93f9-2b71ff10523d",
   "metadata": {},
   "source": [
    "```{warning}\n",
    "The pytorch cross entropy function works directly with unnormalized log probabilities \n",
    "$$\n",
    "\\ell_i := \\log p_i + c\n",
    "$$\n",
    "(the log probabilities up to a shared constant $c$) instead of the probabilites $p$. \n",
    "The deterministic distribution is also specified by the index $i$ instead of the vector $q=e_i$.\n",
    "Hence, it actually computes\n",
    "$$\n",
    "\\mathrm{loss}(\\ell, i) := -\\ell_i  + \\log \\left( \\sum_je^{\\ell_j} \\right). \n",
    "$$\n",
    "```\n"
   ]
  },
  {
   "cell_type": "code",
   "execution_count": 53,
   "id": "91d4e5b5-ed42-40b7-87d1-3bac24922523",
   "metadata": {},
   "outputs": [],
   "source": [
    "cross_entropy = torch.nn.CrossEntropyLoss()"
   ]
  },
  {
   "cell_type": "code",
   "execution_count": 54,
   "id": "d92e0aa6-5996-434c-9dd8-39efe834f759",
   "metadata": {},
   "outputs": [
    {
     "data": {
      "text/plain": [
       "tensor(0.)"
      ]
     },
     "execution_count": 54,
     "metadata": {},
     "output_type": "execute_result"
    }
   ],
   "source": [
    "cross_entropy(\n",
    "    input=torch.tensor([1.0, 0.0]).log(), \n",
    "    target=torch.tensor(0)\n",
    ")"
   ]
  },
  {
   "cell_type": "code",
   "execution_count": 55,
   "id": "180327b1-3359-4f73-8732-00a88ed1d56b",
   "metadata": {},
   "outputs": [
    {
     "data": {
      "text/plain": [
       "tensor(inf)"
      ]
     },
     "execution_count": 55,
     "metadata": {},
     "output_type": "execute_result"
    }
   ],
   "source": [
    "cross_entropy(\n",
    "    input=torch.tensor([0.0, 1.0]).log(), \n",
    "    target=torch.tensor(0)\n",
    ")"
   ]
  },
  {
   "cell_type": "code",
   "execution_count": 56,
   "id": "f7166f6d-2ab0-43d9-8a6f-d3a63360cc82",
   "metadata": {},
   "outputs": [
    {
     "data": {
      "text/plain": [
       "tensor(0.6931)"
      ]
     },
     "execution_count": 56,
     "metadata": {},
     "output_type": "execute_result"
    }
   ],
   "source": [
    "cross_entropy(\n",
    "    input=torch.tensor([0.5, 0.5]).log(), \n",
    "    target=torch.tensor(0)\n",
    ")"
   ]
  },
  {
   "cell_type": "code",
   "execution_count": 57,
   "id": "6015f27e-cf7f-49d6-a87b-5450eb3767ec",
   "metadata": {},
   "outputs": [
    {
     "data": {
      "text/plain": [
       "tensor(0.6931)"
      ]
     },
     "execution_count": 57,
     "metadata": {},
     "output_type": "execute_result"
    }
   ],
   "source": [
    "- torch.tensor(0.5).log()"
   ]
  },
  {
   "cell_type": "code",
   "execution_count": 58,
   "id": "bee1b949-21a5-4bdf-a87a-b1d31017a60f",
   "metadata": {},
   "outputs": [
    {
     "data": {
      "text/plain": [
       "tensor(0.4055)"
      ]
     },
     "execution_count": 58,
     "metadata": {},
     "output_type": "execute_result"
    }
   ],
   "source": [
    "cross_entropy(\n",
    "    input=torch.tensor([2/3, 1/3]).log(), \n",
    "    target=torch.tensor(0)\n",
    ")"
   ]
  },
  {
   "cell_type": "code",
   "execution_count": 59,
   "id": "b88c2bec-2ffa-4e33-83bc-70e4ecf7e64e",
   "metadata": {},
   "outputs": [
    {
     "data": {
      "text/plain": [
       "tensor(0.4055)"
      ]
     },
     "execution_count": 59,
     "metadata": {},
     "output_type": "execute_result"
    }
   ],
   "source": [
    "cross_entropy(\n",
    "    input=torch.tensor([200.0, 100.0]).log(), \n",
    "    target=torch.tensor(0)\n",
    ")"
   ]
  },
  {
   "cell_type": "markdown",
   "id": "76498a78-0ccb-415e-a7e2-130e4040d35e",
   "metadata": {},
   "source": [
    "### Data Loader"
   ]
  },
  {
   "cell_type": "code",
   "execution_count": 60,
   "id": "a0b9ba81-fcc2-488b-b697-2f7ae3ad1055",
   "metadata": {},
   "outputs": [
    {
     "name": "stdout",
     "output_type": "stream",
     "text": [
      "X = [N, C, H, W]: torch.Size([64, 1, 28, 28])\n",
      "y: torch.Size([64]) torch.int64\n"
     ]
    }
   ],
   "source": [
    "batch_size = 64\n",
    "\n",
    "# Create data loaders.\n",
    "train_dataloader = torch.utils.data.DataLoader(training_data, batch_size=batch_size)\n",
    "test_dataloader = torch.utils.data.DataLoader(test_data, batch_size=batch_size)\n",
    "\n",
    "for X, y in test_dataloader:\n",
    "    print(f\"X = [N, C, H, W]: {X.shape}\")\n",
    "    print(f\"y: {y.shape} {y.dtype}\")\n",
    "    break"
   ]
  },
  {
   "cell_type": "code",
   "execution_count": 61,
   "id": "3ba8127d-ee91-4fe8-a6c7-5c774e98080c",
   "metadata": {},
   "outputs": [],
   "source": [
    "train_dataloader = torch.utils.data.DataLoader(training_data, batch_size=batch_size)\n",
    "test_dataloader = torch.utils.data.DataLoader(test_data, batch_size=batch_size)"
   ]
  },
  {
   "cell_type": "markdown",
   "id": "402984b7-449a-4418-8587-d40495519216",
   "metadata": {},
   "source": [
    "### Training"
   ]
  },
  {
   "cell_type": "code",
   "execution_count": 62,
   "id": "810de635-29fa-42d3-ad2f-272d72e0cf23",
   "metadata": {},
   "outputs": [],
   "source": [
    "optimizer = torch.optim.SGD(model.parameters(), lr=1e-3)"
   ]
  },
  {
   "cell_type": "code",
   "execution_count": 63,
   "id": "b40c6413-f34f-4060-a4ab-71fc1dd26137",
   "metadata": {},
   "outputs": [],
   "source": [
    "def train(dataloader, model, loss_fn, optimizer):\n",
    "    size = len(dataloader.dataset)\n",
    "    model.train()\n",
    "    for batch, (X, y) in enumerate(dataloader):\n",
    "        # Compute prediction error\n",
    "        pred = model(X)\n",
    "        loss = loss_fn(pred, y)\n",
    "\n",
    "        # Backpropagation\n",
    "        loss.backward()\n",
    "        optimizer.step()\n",
    "        optimizer.zero_grad()\n",
    "\n",
    "        if batch % 100 == 0:\n",
    "            loss, current = loss.item(), (batch + 1) * len(X)\n",
    "            print(f\"loss: {loss:>7f}  [{current:>5d}/{size:>5d}]\")"
   ]
  },
  {
   "cell_type": "code",
   "execution_count": 64,
   "id": "05342f5e-b04b-4698-b192-a13d9015e5d6",
   "metadata": {},
   "outputs": [],
   "source": [
    "def test(dataloader, model, loss_fn):\n",
    "    \"\"\"\n",
    "    Returns:\n",
    "      - score, the probability of a correct inference on the test dataset\n",
    "    \"\"\"\n",
    "    size = len(dataloader.dataset)\n",
    "    num_batches = len(dataloader)\n",
    "    model.eval()\n",
    "    test_loss, correct = 0, 0\n",
    "    with torch.no_grad():\n",
    "        for X, y in dataloader:\n",
    "            pred = model(X)\n",
    "            test_loss += loss_fn(pred, y).item()\n",
    "            correct += (pred.argmax(1) == y).type(torch.float).sum().item()\n",
    "    test_loss /= num_batches\n",
    "    correct /= size\n",
    "    print(f\"Test Error: \\n Accuracy: {(100*correct):>0.2f}%, Avg loss: {test_loss:>8f} \\n\")\n",
    "    return correct"
   ]
  },
  {
   "cell_type": "markdown",
   "id": "5a439a60-c54a-405d-87e9-611e580f3fc0",
   "metadata": {},
   "source": [
    "```{error}\n",
    "Training buggy ATM! Recent changes (in cross-entropy section) have caused that?\n",
    "```"
   ]
  },
  {
   "cell_type": "code",
   "execution_count": 65,
   "id": "d7e912bc-4e8a-4dbb-824f-d62ae9f2ae2d",
   "metadata": {},
   "outputs": [
    {
     "name": "stdout",
     "output_type": "stream",
     "text": [
      "Test Error: \n",
      " Accuracy: 10.03%, Avg loss: 2.307566 \n",
      "\n",
      "Epoch 2\n",
      "-------------------------------\n",
      "loss: 2.305667  [   64/60000]\n",
      "loss: 2.309455  [ 6464/60000]\n",
      "loss: 2.311952  [12864/60000]\n",
      "loss: 2.308064  [19264/60000]\n",
      "loss: 2.311566  [25664/60000]\n",
      "loss: 2.302675  [32064/60000]\n",
      "loss: 2.313544  [38464/60000]\n",
      "loss: 2.308548  [44864/60000]\n",
      "loss: 2.299366  [51264/60000]\n",
      "loss: 2.305454  [57664/60000]\n",
      "Test Error: \n",
      " Accuracy: 10.03%, Avg loss: 2.307566 \n",
      "\n",
      "Done!\n"
     ]
    }
   ],
   "source": [
    "model = NeuralNetwork()\n",
    "\n",
    "loss_function = torch.nn.CrossEntropyLoss()\n",
    "\n",
    "score = 0.0\n",
    "new_score = test(test_dataloader, model, loss_function)\n",
    "epoch = 0\n",
    "keep_learning = True\n",
    "while keep_learning:\n",
    "    epoch += 1\n",
    "    score = new_score\n",
    "    print(f\"Epoch {epoch+1}\\n-------------------------------\")\n",
    "    train(train_dataloader, model, loss_function, optimizer)\n",
    "    new_score = test(test_dataloader, model, loss_function)\n",
    "    keep_learning = new_score > score\n",
    "\n",
    "print(\"Done!\")\n"
   ]
  },
  {
   "cell_type": "code",
   "execution_count": 66,
   "id": "e69ce9ce-c190-4653-8c52-2ae96989779a",
   "metadata": {},
   "outputs": [
    {
     "name": "stdout",
     "output_type": "stream",
     "text": [
      "Saved PyTorch Model State to model.pth\n"
     ]
    }
   ],
   "source": [
    "torch.save(model.state_dict(), \"models/model.pth\")\n",
    "print(\"Saved PyTorch Model State to model.pth\")"
   ]
  },
  {
   "cell_type": "markdown",
   "id": "9a25d704-be52-414f-a3c5-b6273237ad14",
   "metadata": {},
   "source": [
    "## Use the Model"
   ]
  },
  {
   "cell_type": "code",
   "execution_count": 67,
   "id": "bcb319a0-3703-44a9-bbbb-8503012ffe1e",
   "metadata": {},
   "outputs": [
    {
     "data": {
      "text/plain": [
       "<All keys matched successfully>"
      ]
     },
     "execution_count": 67,
     "metadata": {},
     "output_type": "execute_result"
    }
   ],
   "source": [
    "model = NeuralNetwork()\n",
    "model.load_state_dict(torch.load(\"models/model.pth\"))"
   ]
  },
  {
   "cell_type": "code",
   "execution_count": 68,
   "id": "87081abf-1fb9-4ac6-9067-7490581dbd66",
   "metadata": {},
   "outputs": [
    {
     "name": "stdout",
     "output_type": "stream",
     "text": [
      "Predicted: \"Coat\", Actual: \"Ankle boot\"\n"
     ]
    }
   ],
   "source": [
    "classes = test_data.classes\n",
    "\n",
    "model.eval()\n",
    "x, y = test_data[0][0], test_data[0][1]\n",
    "with torch.no_grad():\n",
    "    pred = model(x)\n",
    "    predicted, actual = classes[pred[0].argmax(0)], classes[y]\n",
    "    print(f'Predicted: \"{predicted}\", Actual: \"{actual}\"')"
   ]
  },
  {
   "cell_type": "code",
   "execution_count": 69,
   "id": "df22c8ef-7eb5-4639-ad72-0c72e5616673",
   "metadata": {},
   "outputs": [
    {
     "name": "stdout",
     "output_type": "stream",
     "text": [
      "Known category: Ankle boot\n",
      "Predicted category: Coat\n"
     ]
    },
    {
     "data": {
      "image/png": "[encoded data removed]",
      "text/plain": [
       "<Figure size 1600x480 with 1 Axes>"
      ]
     },
     "metadata": {},
     "output_type": "display_data"
    }
   ],
   "source": [
    "model.eval()\n",
    "input, output = test_data[0][0], test_data[0][1]\n",
    "print(f\"Known category: {test_data.classes[output]}\")\n",
    "logits = model(input)\n",
    "logits = logits.data.squeeze()\n",
    "probas = torch.nn.functional.softmax(logits, dim=-1)\n",
    "print(f\"Predicted category: {test_data.classes[probas.argmax().item()]}\")\n",
    "data = {training_data.classes[i]: p.item() for i, p in enumerate(probas)}\n",
    "sns.barplot(data)\n",
    "plt.gcf().set_figwidth(16)\n",
    "plt.gca().set_ylabel(\"Probability\")\n",
    "None"
   ]
  }
 ],
 "metadata": {
  "kernelspec": {
   "display_name": "Python 3 (ipykernel)",
   "language": "python",
   "name": "python3"
  },
  "language_info": {
   "codemirror_mode": {
    "name": "ipython",
    "version": 3
   },
   "file_extension": ".py",
   "mimetype": "text/x-python",
   "name": "python",
   "nbconvert_exporter": "python",
   "pygments_lexer": "ipython3",
   "version": "3.12.2"
  }
 },
 "nbformat": 4,
 "nbformat_minor": 5
}

{
 "cells": [
  {
   "cell_type": "markdown",
   "id": "be92d45c-9125-497e-9aa4-048ec0d82e54",
   "metadata": {},
   "source": [
    "# The Machine Learning Workflow Annotated\n",
    "\n",
    "Source: [Pytorch / Learn the Basics](https://pytorch.org/tutorials/beginner/basics/intro.html)"
   ]
  },
  {
   "cell_type": "markdown",
   "id": "64b29526-5b77-4e9a-b277-704cdea8459e",
   "metadata": {},
   "source": [
    "```{attention} Dataset\n",
    "- [ ] Understand the structure of the FashionMNIST dataset\n",
    "- [ ] Represent its contents appropriately\n",
    "- [ ] Understand the purpose of the dataset loading options\n",
    "```\n",
    "\n",
    "```{attention} Inference\n",
    "- [ ] Load the pre-trained neural network model\n",
    "- [ ] Understand its output\n",
    "- [ ] Use it for classification\n",
    "- [ ] Use it in batched mode\n",
    "- [ ] Evaluate the confidence in its answers\n",
    "- [ ] Understand the components it uses\n",
    "- [ ] Get the model parameters\n",
    "- [ ] Replicate manually its computation\n",
    "```\n",
    "\n",
    "```{attention} Learning\n",
    "- [ ] Understand the loss function concept\n",
    "- [ ] Understand what cross-entropy computes\n",
    "- [ ] Understand what data loader does (at a high-level)\n",
    "- [ ] Understand what the training loop does (at a high-level)\n",
    "- [ ] Estimate model accuracy\n",
    "- [ ] Save a model\n",
    "```"
   ]
  },
  {
   "cell_type": "code",
   "execution_count": 1,
   "id": "6c1d361c-5e1b-46c5-b607-fd25566a8428",
   "metadata": {},
   "outputs": [],
   "source": [
    "import torch\n",
    "import torchvision"
   ]
  },
  {
   "cell_type": "markdown",
   "id": "e681cd9d-c913-440a-92b1-731956c5313b",
   "metadata": {},
   "source": [
    "## The FashionMNIST Dataset "
   ]
  },
  {
   "cell_type": "code",
   "execution_count": 2,
   "id": "f93d4548-fd7b-45c3-9a39-61e34a0e3335",
   "metadata": {},
   "outputs": [],
   "source": [
    "# Download training data from open datasets.\n",
    "training_data = torchvision.datasets.FashionMNIST(\n",
    "    root=\"data\",\n",
    "    train=True,\n",
    "    download=True,\n",
    "    transform=torchvision.transforms.ToTensor(),\n",
    ")\n",
    "\n",
    "# Download test data from open datasets.\n",
    "test_data = torchvision.datasets.FashionMNIST(\n",
    "    root=\"data\",\n",
    "    train=False,\n",
    "    download=True,\n",
    "    transform=torchvision.transforms.ToTensor(),\n",
    ")"
   ]
  },
  {
   "cell_type": "code",
   "execution_count": 3,
   "id": "63c617ba-f065-4430-807c-128e42c3a126",
   "metadata": {},
   "outputs": [
    {
     "data": {
      "text/plain": [
       "Dataset FashionMNIST\n",
       "    Number of datapoints: 60000\n",
       "    Root location: data\n",
       "    Split: Train"
      ]
     },
     "execution_count": 3,
     "metadata": {},
     "output_type": "execute_result"
    }
   ],
   "source": [
    "# by default: training data set, no input/output transform, no download\n",
    "data = torchvision.datasets.FashionMNIST(root=\"data\") \n",
    "data"
   ]
  },
  {
   "cell_type": "code",
   "execution_count": 4,
   "id": "3af20871-ef0d-4ac8-8524-036f5866bf85",
   "metadata": {},
   "outputs": [
    {
     "data": {
      "text/plain": [
       "(<PIL.Image.Image image mode=L size=28x28>, 9)"
      ]
     },
     "execution_count": 4,
     "metadata": {},
     "output_type": "execute_result"
    }
   ],
   "source": [
    "# data is list-like ; each item in an input-output pair\n",
    "datum = data[0]\n",
    "datum"
   ]
  },
  {
   "cell_type": "code",
   "execution_count": 5,
   "id": "3cdbe9ef-04ed-4d4e-b169-4f22f72853a2",
   "metadata": {},
   "outputs": [],
   "source": [
    "image, index = datum"
   ]
  },
  {
   "cell_type": "code",
   "execution_count": 6,
   "id": "c90e7b4c-3398-4518-8455-f8f9ab3cb3a0",
   "metadata": {},
   "outputs": [
    {
     "data": {
      "image/jpeg": "[encoded data removed]",
      "image/png": "[encoded data removed]",
      "text/plain": [
       "<PIL.Image.Image image mode=L size=28x28>"
      ]
     },
     "execution_count": 6,
     "metadata": {},
     "output_type": "execute_result"
    }
   ],
   "source": [
    "image"
   ]
  },
  {
   "cell_type": "code",
   "execution_count": 7,
   "id": "0eabdbce-3d62-4ad8-a784-474a2521073f",
   "metadata": {
    "user_expressions": [
     {
      "expression": "data.classes",
      "result": {
       "data": {
        "text/plain": "['T-shirt/top',\n 'Trouser',\n 'Pullover',\n 'Dress',\n 'Coat',\n 'Sandal',\n 'Shirt',\n 'Sneaker',\n 'Bag',\n 'Ankle boot']"
       },
       "metadata": {},
       "status": "ok"
      }
     }
    ]
   },
   "outputs": [
    {
     "name": "stdout",
     "output_type": "stream",
     "text": [
      "['T-shirt/top', 'Trouser', 'Pullover', 'Dress', 'Coat', 'Sandal', 'Shirt', 'Sneaker', 'Bag', 'Ankle boot']\n"
     ]
    }
   ],
   "source": [
    "# The output is a number that denotes the class of the pictured object. \n",
    "# The list of classes is:\n",
    "print(data.classes)"
   ]
  },
  {
   "cell_type": "code",
   "execution_count": 8,
   "id": "126c1ec3-7059-4203-b699-d17de1e0b12e",
   "metadata": {},
   "outputs": [
    {
     "data": {
      "text/plain": [
       "'Ankle boot'"
      ]
     },
     "execution_count": 8,
     "metadata": {},
     "output_type": "execute_result"
    }
   ],
   "source": [
    "# Get the category name from the index:\n",
    "data.classes[index] # that checks out!"
   ]
  },
  {
   "cell_type": "code",
   "execution_count": 9,
   "id": "d8399b61-8763-4851-9273-fc82e89aa09c",
   "metadata": {},
   "outputs": [
    {
     "data": {
      "text/html": [
       "<div>\n",
       "<style scoped>\n",
       "    .dataframe tbody tr th:only-of-type {\n",
       "        vertical-align: middle;\n",
       "    }\n",
       "\n",
       "    .dataframe tbody tr th {\n",
       "        vertical-align: top;\n",
       "    }\n",
       "\n",
       "    .dataframe thead th {\n",
       "        text-align: right;\n",
       "    }\n",
       "</style>\n",
       "<table border=\"1\" class=\"dataframe\">\n",
       "  <thead>\n",
       "    <tr style=\"text-align: right;\">\n",
       "      <th></th>\n",
       "      <th>image</th>\n",
       "      <th>class</th>\n",
       "    </tr>\n",
       "  </thead>\n",
       "  <tbody>\n",
       "    <tr>\n",
       "      <th>0</th>\n",
       "      <td>&lt;PIL.Image.Image image mode=L size=28x28 at 0x...</td>\n",
       "      <td>Ankle boot</td>\n",
       "    </tr>\n",
       "    <tr>\n",
       "      <th>1</th>\n",
       "      <td>&lt;PIL.Image.Image image mode=L size=28x28 at 0x...</td>\n",
       "      <td>T-shirt/top</td>\n",
       "    </tr>\n",
       "    <tr>\n",
       "      <th>2</th>\n",
       "      <td>&lt;PIL.Image.Image image mode=L size=28x28 at 0x...</td>\n",
       "      <td>T-shirt/top</td>\n",
       "    </tr>\n",
       "    <tr>\n",
       "      <th>3</th>\n",
       "      <td>&lt;PIL.Image.Image image mode=L size=28x28 at 0x...</td>\n",
       "      <td>Dress</td>\n",
       "    </tr>\n",
       "    <tr>\n",
       "      <th>4</th>\n",
       "      <td>&lt;PIL.Image.Image image mode=L size=28x28 at 0x...</td>\n",
       "      <td>T-shirt/top</td>\n",
       "    </tr>\n",
       "    <tr>\n",
       "      <th>...</th>\n",
       "      <td>...</td>\n",
       "      <td>...</td>\n",
       "    </tr>\n",
       "    <tr>\n",
       "      <th>59995</th>\n",
       "      <td>&lt;PIL.Image.Image image mode=L size=28x28 at 0x...</td>\n",
       "      <td>Sandal</td>\n",
       "    </tr>\n",
       "    <tr>\n",
       "      <th>59996</th>\n",
       "      <td>&lt;PIL.Image.Image image mode=L size=28x28 at 0x...</td>\n",
       "      <td>Trouser</td>\n",
       "    </tr>\n",
       "    <tr>\n",
       "      <th>59997</th>\n",
       "      <td>&lt;PIL.Image.Image image mode=L size=28x28 at 0x...</td>\n",
       "      <td>Dress</td>\n",
       "    </tr>\n",
       "    <tr>\n",
       "      <th>59998</th>\n",
       "      <td>&lt;PIL.Image.Image image mode=L size=28x28 at 0x...</td>\n",
       "      <td>T-shirt/top</td>\n",
       "    </tr>\n",
       "    <tr>\n",
       "      <th>59999</th>\n",
       "      <td>&lt;PIL.Image.Image image mode=L size=28x28 at 0x...</td>\n",
       "      <td>Sandal</td>\n",
       "    </tr>\n",
       "  </tbody>\n",
       "</table>\n",
       "<p>60000 rows × 2 columns</p>\n",
       "</div>"
      ],
      "text/plain": [
       "                                                   image        class\n",
       "0      <PIL.Image.Image image mode=L size=28x28 at 0x...   Ankle boot\n",
       "1      <PIL.Image.Image image mode=L size=28x28 at 0x...  T-shirt/top\n",
       "2      <PIL.Image.Image image mode=L size=28x28 at 0x...  T-shirt/top\n",
       "3      <PIL.Image.Image image mode=L size=28x28 at 0x...        Dress\n",
       "4      <PIL.Image.Image image mode=L size=28x28 at 0x...  T-shirt/top\n",
       "...                                                  ...          ...\n",
       "59995  <PIL.Image.Image image mode=L size=28x28 at 0x...       Sandal\n",
       "59996  <PIL.Image.Image image mode=L size=28x28 at 0x...      Trouser\n",
       "59997  <PIL.Image.Image image mode=L size=28x28 at 0x...        Dress\n",
       "59998  <PIL.Image.Image image mode=L size=28x28 at 0x...  T-shirt/top\n",
       "59999  <PIL.Image.Image image mode=L size=28x28 at 0x...       Sandal\n",
       "\n",
       "[60000 rows x 2 columns]"
      ]
     },
     "execution_count": 9,
     "metadata": {},
     "output_type": "execute_result"
    }
   ],
   "source": [
    "import pandas as pd\n",
    "df = [{\"image\": image, \"class\": data.classes[index]} for image, index in data]\n",
    "df = pd.DataFrame(df)\n",
    "df"
   ]
  },
  {
   "cell_type": "code",
   "execution_count": 10,
   "id": "b8a2b0bb-87eb-4d70-ba9a-7e74b37ebee9",
   "metadata": {},
   "outputs": [
    {
     "data": {
      "text/html": [
       "<div>\n",
       "<style scoped>\n",
       "    .dataframe tbody tr th:only-of-type {\n",
       "        vertical-align: middle;\n",
       "    }\n",
       "\n",
       "    .dataframe tbody tr th {\n",
       "        vertical-align: top;\n",
       "    }\n",
       "\n",
       "    .dataframe thead th {\n",
       "        text-align: right;\n",
       "    }\n",
       "</style>\n",
       "<table border=\"1\" class=\"dataframe\">\n",
       "  <thead>\n",
       "    <tr style=\"text-align: right;\">\n",
       "      <th></th>\n",
       "      <th>image</th>\n",
       "      <th>class</th>\n",
       "    </tr>\n",
       "  </thead>\n",
       "  <tbody>\n",
       "    <tr>\n",
       "      <th>0</th>\n",
       "      <td>&lt;PIL.Image.Image image mode=L size=28x28 at 0x...</td>\n",
       "      <td>Ankle boot</td>\n",
       "    </tr>\n",
       "    <tr>\n",
       "      <th>1</th>\n",
       "      <td>&lt;PIL.Image.Image image mode=L size=28x28 at 0x...</td>\n",
       "      <td>T-shirt/top</td>\n",
       "    </tr>\n",
       "    <tr>\n",
       "      <th>2</th>\n",
       "      <td>&lt;PIL.Image.Image image mode=L size=28x28 at 0x...</td>\n",
       "      <td>T-shirt/top</td>\n",
       "    </tr>\n",
       "    <tr>\n",
       "      <th>3</th>\n",
       "      <td>&lt;PIL.Image.Image image mode=L size=28x28 at 0x...</td>\n",
       "      <td>Dress</td>\n",
       "    </tr>\n",
       "    <tr>\n",
       "      <th>4</th>\n",
       "      <td>&lt;PIL.Image.Image image mode=L size=28x28 at 0x...</td>\n",
       "      <td>T-shirt/top</td>\n",
       "    </tr>\n",
       "  </tbody>\n",
       "</table>\n",
       "</div>"
      ],
      "text/plain": [
       "                                               image        class\n",
       "0  <PIL.Image.Image image mode=L size=28x28 at 0x...   Ankle boot\n",
       "1  <PIL.Image.Image image mode=L size=28x28 at 0x...  T-shirt/top\n",
       "2  <PIL.Image.Image image mode=L size=28x28 at 0x...  T-shirt/top\n",
       "3  <PIL.Image.Image image mode=L size=28x28 at 0x...        Dress\n",
       "4  <PIL.Image.Image image mode=L size=28x28 at 0x...  T-shirt/top"
      ]
     },
     "execution_count": 10,
     "metadata": {},
     "output_type": "execute_result"
    }
   ],
   "source": [
    "df.head()"
   ]
  },
  {
   "cell_type": "code",
   "execution_count": 11,
   "id": "11a39240-12b5-4062-ae4e-a860d1bc09c5",
   "metadata": {},
   "outputs": [
    {
     "data": {
      "text/html": [
       "<table border=\"1\" class=\"dataframe\">\n",
       "  <thead>\n",
       "    <tr style=\"text-align: right;\">\n",
       "      <th></th>\n",
       "      <th>image</th>\n",
       "      <th>class</th>\n",
       "    </tr>\n",
       "  </thead>\n",
       "  <tbody>\n",
       "    <tr>\n",
       "      <th>0</th>\n",
       "      <td><img src=\"data:image/jpeg;base64, /9j/4AAQSkZJRgABAQAAAQABAAD/2wBDAAgGBgcGBQgHBwcJCQgKDBQNDAsLDBkSEw8UHRofHh0aHBwgJC4nICIsIxwcKDcpLDAxNDQ0Hyc5PTgyPC4zNDL/wAALCAAcABwBAREA/8QAHwAAAQUBAQEBAQEAAAAAAAAAAAECAwQFBgcICQoL/8QAtRAAAgEDAwIEAwUFBAQAAAF9AQIDAAQRBRIhMUEGE1FhByJxFDKBkaEII0KxwRVS0fAkM2JyggkKFhcYGRolJicoKSo0NTY3ODk6Q0RFRkdISUpTVFVWV1hZWmNkZWZnaGlqc3R1dnd4eXqDhIWGh4iJipKTlJWWl5iZmqKjpKWmp6ipqrKztLW2t7i5usLDxMXGx8jJytLT1NXW19jZ2uHi4+Tl5ufo6erx8vP09fb3+Pn6/9oACAEBAAA/APn+tbw1oNx4m8QWmkWx2yXD4LkZCADJJ+gFbviL4a63oc7COE3MW4hdn38duD976jNc9daDqllIsc9lKrMu4YGeMkdR7gj8KzcV7H8BtEvV16+1iWCeG1Wz8mOV02pIzupwCeuAp6Z98cZ90aIzLIlw0c0ZJ4KgjHoeOa+evjS9n/wnMcNxBPCYLKONFhA2FNzMpGenDcgd816V4K03wefC+m3NlpVhP+5QSXBiR5fMx825iMg5zwce3FdbOzTwgW90lu6uCm8eYrL02soIyCPQgggEdMGQ3cluiPNK0rJwrRQBNueuMkt+teNfGKxsdY8WWdxNqcNo66eieXMwVsb5DnH415Hp2rajpE5n02/urOUjBe3laMkehIPIrVm8eeLrhNknibVivoLtx/I1UPinxC3XXtUP1vJP8ay5JZJpGkldnduSzHJP41//2Q==\"></td>\n",
       "      <td>Ankle boot</td>\n",
       "    </tr>\n",
       "    <tr>\n",
       "      <th>1</th>\n",
       "      <td><img src=\"data:image/jpeg;base64, /9j/4AAQSkZJRgABAQAAAQABAAD/2wBDAAgGBgcGBQgHBwcJCQgKDBQNDAsLDBkSEw8UHRofHh0aHBwgJC4nICIsIxwcKDcpLDAxNDQ0Hyc5PTgyPC4zNDL/wAALCAAcABwBAREA/8QAHwAAAQUBAQEBAQEAAAAAAAAAAAECAwQFBgcICQoL/8QAtRAAAgEDAwIEAwUFBAQAAAF9AQIDAAQRBRIhMUEGE1FhByJxFDKBkaEII0KxwRVS0fAkM2JyggkKFhcYGRolJicoKSo0NTY3ODk6Q0RFRkdISUpTVFVWV1hZWmNkZWZnaGlqc3R1dnd4eXqDhIWGh4iJipKTlJWWl5iZmqKjpKWmp6ipqrKztLW2t7i5usLDxMXGx8jJytLT1NXW19jZ2uHi4+Tl5ufo6erx8vP09fb3+Pn6/9oACAEBAAA/AOB+E3gyz8V6xez6lE01jYRqWiDFQ8jk7QSOcYVjxjoK9hlufDultLpcPhSa5itZdjra6NFNCshiEh5Yj5tmCTTjpvhnxg9zYX/huSCe3SMyLeWC20yI+7aUZTnb8jcA446V81a7pcmh69qGlytue0uHh3f3gpIB/Ec/jXSeBfiJf+CvMt7ezsp7a4lV5vORg/HHDKR2z1z1NfQF94U8Oapez3l7o9vczzkGSSR5MvjAGcMB0C9B2rC8Uz2Xw28LXGp+HdIsoJ5JIoCr+YyNyx5y2eMtjBHJr5517WrrxFrdzq16sS3FwwLiJdqjAAGB9AKzq+zkXjAAGcnivP8A4zLu8ATf7N1C/wCrD+tfONFfUf8AwlV5AmBbWrbQACwf0Ho1cV8S/Edzqfg66t5be2RTLFzGHzw2e7GvEa//2Q==\"></td>\n",
       "      <td>T-shirt/top</td>\n",
       "    </tr>\n",
       "    <tr>\n",
       "      <th>2</th>\n",
       "      <td><img src=\"data:image/jpeg;base64, /9j/4AAQSkZJRgABAQAAAQABAAD/2wBDAAgGBgcGBQgHBwcJCQgKDBQNDAsLDBkSEw8UHRofHh0aHBwgJC4nICIsIxwcKDcpLDAxNDQ0Hyc5PTgyPC4zNDL/wAALCAAcABwBAREA/8QAHwAAAQUBAQEBAQEAAAAAAAAAAAECAwQFBgcICQoL/8QAtRAAAgEDAwIEAwUFBAQAAAF9AQIDAAQRBRIhMUEGE1FhByJxFDKBkaEII0KxwRVS0fAkM2JyggkKFhcYGRolJicoKSo0NTY3ODk6Q0RFRkdISUpTVFVWV1hZWmNkZWZnaGlqc3R1dnd4eXqDhIWGh4iJipKTlJWWl5iZmqKjpKWmp6ipqrKztLW2t7i5usLDxMXGx8jJytLT1NXW19jZ2uHi4+Tl5ufo6erx8vP09fb3+Pn6/9oACAEBAAA/APn+vX/DGqaVa6HZw6r4X07VQIFMLyxqrpkZIJ2/MM5P4nrXH+PZUuLu0njs7a0VlcLDbRBERQRhRgc49fc1yFFenaeANMsx6QRj/wAdFc/41H7uwOOcyc+3yf8A165GivUbVSlnAh6rEgP/AHyKwPGa7rK0fH3JGHX1A/wrjaK6zRPEN5Ni2mWKQImA7Kdxx6kGsfWdXudSmEc2xY4idqRjAz6nPJNZdf/Z\"></td>\n",
       "      <td>T-shirt/top</td>\n",
       "    </tr>\n",
       "    <tr>\n",
       "      <th>3</th>\n",
       "      <td><img src=\"data:image/jpeg;base64, /9j/4AAQSkZJRgABAQAAAQABAAD/2wBDAAgGBgcGBQgHBwcJCQgKDBQNDAsLDBkSEw8UHRofHh0aHBwgJC4nICIsIxwcKDcpLDAxNDQ0Hyc5PTgyPC4zNDL/wAALCAAcABwBAREA/8QAHwAAAQUBAQEBAQEAAAAAAAAAAAECAwQFBgcICQoL/8QAtRAAAgEDAwIEAwUFBAQAAAF9AQIDAAQRBRIhMUEGE1FhByJxFDKBkaEII0KxwRVS0fAkM2JyggkKFhcYGRolJicoKSo0NTY3ODk6Q0RFRkdISUpTVFVWV1hZWmNkZWZnaGlqc3R1dnd4eXqDhIWGh4iJipKTlJWWl5iZmqKjpKWmp6ipqrKztLW2t7i5usLDxMXGx8jJytLT1NXW19jZ2uHi4+Tl5ufo6erx8vP09fb3+Pn6/9oACAEBAAA/APHfBp0z/hKLRdWSNrd22KZseWrnhS4PG3PXPHc8A17c95bWoiiawsW8n/VK9oj+Uf8AZ4+X8K434kXmnXOjGe9t4n1CZgttKiBZMjqS2MlQD0Oeo6da8lor3OZzeQWsqFGZ7dCwEijB2D34rg/iIXM2nbiCPLfowIByCeh9MVxFaGh2iX+uWVtIu6N5V3r6qOSPyBr1eS1iklWZoIWdoppM+WOQFBB6fWs7xzpUUnhiSWKFFNrLn5VA29PTsVZPyFeU1c0vUZdJ1GK9gSN5It20SAleVI7EetdHJ441P7NbuILMGOLygAjYKkMv970qvqPjrVdTsLi0mitEW4wJHjjIY4VV9cdFHauYr//Z\"></td>\n",
       "      <td>Dress</td>\n",
       "    </tr>\n",
       "    <tr>\n",
       "      <th>4</th>\n",
       "      <td><img src=\"data:image/jpeg;base64, /9j/4AAQSkZJRgABAQAAAQABAAD/2wBDAAgGBgcGBQgHBwcJCQgKDBQNDAsLDBkSEw8UHRofHh0aHBwgJC4nICIsIxwcKDcpLDAxNDQ0Hyc5PTgyPC4zNDL/wAALCAAcABwBAREA/8QAHwAAAQUBAQEBAQEAAAAAAAAAAAECAwQFBgcICQoL/8QAtRAAAgEDAwIEAwUFBAQAAAF9AQIDAAQRBRIhMUEGE1FhByJxFDKBkaEII0KxwRVS0fAkM2JyggkKFhcYGRolJicoKSo0NTY3ODk6Q0RFRkdISUpTVFVWV1hZWmNkZWZnaGlqc3R1dnd4eXqDhIWGh4iJipKTlJWWl5iZmqKjpKWmp6ipqrKztLW2t7i5usLDxMXGx8jJytLT1NXW19jZ2uHi4+Tl5ufo6erx8vP09fb3+Pn6/9oACAEBAAA/APn+vp6f4feFNcg0LUIfDdlsleJrrypGgAt2iZtwVGUFg5TsSRn8PJ/jTYWGm+NbeDTrK2tIfsEbGO2iWNSxZ+cDvjAz7V5zRX2F4WVv+EL0DcDuGlWmcjn/AFKV4P8AHGN08dwM/wB17CIp9Azj+YNea1NZ2sl9ewWkIzLPIsSD1Zjgfzr7QYWmmQpbtLFbxB0toBIwTcxO1EXPUnHA7145+0BpjfY9F1PytpSWW2Zj1YEK6j2wfM4968MpyO0bq6MVdTlWU4IPqK9oPxD1jxL4b0O41CGzM0OuWTb442XeyM3JG7GTjnAA54xXKfFXxpqviTX3027EEVnp8rCKKBSAxPVmySScceg9OTngK//Z\"></td>\n",
       "      <td>T-shirt/top</td>\n",
       "    </tr>\n",
       "  </tbody>\n",
       "</table>"
      ],
      "text/plain": [
       "<IPython.core.display.HTML object>"
      ]
     },
     "execution_count": 11,
     "metadata": {},
     "output_type": "execute_result"
    }
   ],
   "source": [
    "import base64\n",
    "import io\n",
    "from IPython.display import HTML\n",
    "\n",
    "def image_formatter(image):\n",
    "    with io.BytesIO() as buffer:\n",
    "        image.save(buffer, \"jpeg\")\n",
    "        _bytes = buffer.getvalue()\n",
    "    _base64 = base64.b64encode(_bytes).decode(\"ascii\")\n",
    "    return f'<img src=\"data:image/jpeg;base64, {_base64}\">'\n",
    "\n",
    "HTML(df.head().to_html(formatters={'image': image_formatter}, escape=False))"
   ]
  },
  {
   "cell_type": "code",
   "execution_count": 12,
   "id": "f754275e-191b-4517-b4a7-df009dc475ef",
   "metadata": {},
   "outputs": [
    {
     "data": {
      "text/plain": [
       "tensor([[[0.0000, 0.0000, 0.0000, 0.0000, 0.0000, 0.0000, 0.0000, 0.0000,\n",
       "          0.0000, 0.0000, 0.0000, 0.0000, 0.0000, 0.0000, 0.0000, 0.0000,\n",
       "          0.0000, 0.0000, 0.0000, 0.0000, 0.0000, 0.0000, 0.0000, 0.0000,\n",
       "          0.0000, 0.0000, 0.0000, 0.0000],\n",
       "         [0.0000, 0.0000, 0.0000, 0.0000, 0.0000, 0.0000, 0.0000, 0.0000,\n",
       "          0.0000, 0.0000, 0.0000, 0.0000, 0.0000, 0.0000, 0.0000, 0.0000,\n",
       "          0.0000, 0.0000, 0.0000, 0.0000, 0.0000, 0.0000, 0.0000, 0.0000,\n",
       "          0.0000, 0.0000, 0.0000, 0.0000],\n",
       "         [0.0000, 0.0000, 0.0000, 0.0000, 0.0000, 0.0000, 0.0000, 0.0000,\n",
       "          0.0000, 0.0000, 0.0000, 0.0000, 0.0000, 0.0000, 0.0000, 0.0000,\n",
       "          0.0000, 0.0000, 0.0000, 0.0000, 0.0000, 0.0000, 0.0000, 0.0000,\n",
       "          0.0000, 0.0000, 0.0000, 0.0000],\n",
       "         [0.0000, 0.0000, 0.0000, 0.0000, 0.0000, 0.0000, 0.0000, 0.0000,\n",
       "          0.0000, 0.0000, 0.0000, 0.0000, 0.0039, 0.0000, 0.0000, 0.0510,\n",
       "          0.2863, 0.0000, 0.0000, 0.0039, 0.0157, 0.0000, 0.0000, 0.0000,\n",
       "          0.0000, 0.0039, 0.0039, 0.0000],\n",
       "         [0.0000, 0.0000, 0.0000, 0.0000, 0.0000, 0.0000, 0.0000, 0.0000,\n",
       "          0.0000, 0.0000, 0.0000, 0.0000, 0.0118, 0.0000, 0.1412, 0.5333,\n",
       "          0.4980, 0.2431, 0.2118, 0.0000, 0.0000, 0.0000, 0.0039, 0.0118,\n",
       "          0.0157, 0.0000, 0.0000, 0.0118],\n",
       "         [0.0000, 0.0000, 0.0000, 0.0000, 0.0000, 0.0000, 0.0000, 0.0000,\n",
       "          0.0000, 0.0000, 0.0000, 0.0000, 0.0235, 0.0000, 0.4000, 0.8000,\n",
       "          0.6902, 0.5255, 0.5647, 0.4824, 0.0902, 0.0000, 0.0000, 0.0000,\n",
       "          0.0000, 0.0471, 0.0392, 0.0000],\n",
       "         [0.0000, 0.0000, 0.0000, 0.0000, 0.0000, 0.0000, 0.0000, 0.0000,\n",
       "          0.0000, 0.0000, 0.0000, 0.0000, 0.0000, 0.0000, 0.6078, 0.9255,\n",
       "          0.8118, 0.6980, 0.4196, 0.6118, 0.6314, 0.4275, 0.2510, 0.0902,\n",
       "          0.3020, 0.5098, 0.2824, 0.0588],\n",
       "         [0.0000, 0.0000, 0.0000, 0.0000, 0.0000, 0.0000, 0.0000, 0.0000,\n",
       "          0.0000, 0.0000, 0.0000, 0.0039, 0.0000, 0.2706, 0.8118, 0.8745,\n",
       "          0.8549, 0.8471, 0.8471, 0.6392, 0.4980, 0.4745, 0.4784, 0.5725,\n",
       "          0.5529, 0.3451, 0.6745, 0.2588],\n",
       "         [0.0000, 0.0000, 0.0000, 0.0000, 0.0000, 0.0000, 0.0000, 0.0000,\n",
       "          0.0000, 0.0039, 0.0039, 0.0039, 0.0000, 0.7843, 0.9098, 0.9098,\n",
       "          0.9137, 0.8980, 0.8745, 0.8745, 0.8431, 0.8353, 0.6431, 0.4980,\n",
       "          0.4824, 0.7686, 0.8980, 0.0000],\n",
       "         [0.0000, 0.0000, 0.0000, 0.0000, 0.0000, 0.0000, 0.0000, 0.0000,\n",
       "          0.0000, 0.0000, 0.0000, 0.0000, 0.0000, 0.7176, 0.8824, 0.8471,\n",
       "          0.8745, 0.8941, 0.9216, 0.8902, 0.8784, 0.8706, 0.8784, 0.8667,\n",
       "          0.8745, 0.9608, 0.6784, 0.0000],\n",
       "         [0.0000, 0.0000, 0.0000, 0.0000, 0.0000, 0.0000, 0.0000, 0.0000,\n",
       "          0.0000, 0.0000, 0.0000, 0.0000, 0.0000, 0.7569, 0.8941, 0.8549,\n",
       "          0.8353, 0.7765, 0.7059, 0.8314, 0.8235, 0.8275, 0.8353, 0.8745,\n",
       "          0.8627, 0.9529, 0.7922, 0.0000],\n",
       "         [0.0000, 0.0000, 0.0000, 0.0000, 0.0000, 0.0000, 0.0000, 0.0000,\n",
       "          0.0000, 0.0039, 0.0118, 0.0000, 0.0471, 0.8588, 0.8627, 0.8314,\n",
       "          0.8549, 0.7529, 0.6627, 0.8902, 0.8157, 0.8549, 0.8784, 0.8314,\n",
       "          0.8863, 0.7725, 0.8196, 0.2039],\n",
       "         [0.0000, 0.0000, 0.0000, 0.0000, 0.0000, 0.0000, 0.0000, 0.0000,\n",
       "          0.0000, 0.0000, 0.0235, 0.0000, 0.3882, 0.9569, 0.8706, 0.8627,\n",
       "          0.8549, 0.7961, 0.7765, 0.8667, 0.8431, 0.8353, 0.8706, 0.8627,\n",
       "          0.9608, 0.4667, 0.6549, 0.2196],\n",
       "         [0.0000, 0.0000, 0.0000, 0.0000, 0.0000, 0.0000, 0.0000, 0.0000,\n",
       "          0.0000, 0.0157, 0.0000, 0.0000, 0.2157, 0.9255, 0.8941, 0.9020,\n",
       "          0.8941, 0.9412, 0.9098, 0.8353, 0.8549, 0.8745, 0.9176, 0.8510,\n",
       "          0.8510, 0.8196, 0.3608, 0.0000],\n",
       "         [0.0000, 0.0000, 0.0039, 0.0157, 0.0235, 0.0275, 0.0078, 0.0000,\n",
       "          0.0000, 0.0000, 0.0000, 0.0000, 0.9294, 0.8863, 0.8510, 0.8745,\n",
       "          0.8706, 0.8588, 0.8706, 0.8667, 0.8471, 0.8745, 0.8980, 0.8431,\n",
       "          0.8549, 1.0000, 0.3020, 0.0000],\n",
       "         [0.0000, 0.0118, 0.0000, 0.0000, 0.0000, 0.0000, 0.0000, 0.0000,\n",
       "          0.0000, 0.2431, 0.5686, 0.8000, 0.8941, 0.8118, 0.8353, 0.8667,\n",
       "          0.8549, 0.8157, 0.8275, 0.8549, 0.8784, 0.8745, 0.8588, 0.8431,\n",
       "          0.8784, 0.9569, 0.6235, 0.0000],\n",
       "         [0.0000, 0.0000, 0.0000, 0.0000, 0.0706, 0.1725, 0.3216, 0.4196,\n",
       "          0.7412, 0.8941, 0.8627, 0.8706, 0.8510, 0.8863, 0.7843, 0.8039,\n",
       "          0.8275, 0.9020, 0.8784, 0.9176, 0.6902, 0.7373, 0.9804, 0.9725,\n",
       "          0.9137, 0.9333, 0.8431, 0.0000],\n",
       "         [0.0000, 0.2235, 0.7333, 0.8157, 0.8784, 0.8667, 0.8784, 0.8157,\n",
       "          0.8000, 0.8392, 0.8157, 0.8196, 0.7843, 0.6235, 0.9608, 0.7569,\n",
       "          0.8078, 0.8745, 1.0000, 1.0000, 0.8667, 0.9176, 0.8667, 0.8275,\n",
       "          0.8627, 0.9098, 0.9647, 0.0000],\n",
       "         [0.0118, 0.7922, 0.8941, 0.8784, 0.8667, 0.8275, 0.8275, 0.8392,\n",
       "          0.8039, 0.8039, 0.8039, 0.8627, 0.9412, 0.3137, 0.5882, 1.0000,\n",
       "          0.8980, 0.8667, 0.7373, 0.6039, 0.7490, 0.8235, 0.8000, 0.8196,\n",
       "          0.8706, 0.8941, 0.8824, 0.0000],\n",
       "         [0.3843, 0.9137, 0.7765, 0.8235, 0.8706, 0.8980, 0.8980, 0.9176,\n",
       "          0.9765, 0.8627, 0.7608, 0.8431, 0.8510, 0.9451, 0.2549, 0.2863,\n",
       "          0.4157, 0.4588, 0.6588, 0.8588, 0.8667, 0.8431, 0.8510, 0.8745,\n",
       "          0.8745, 0.8784, 0.8980, 0.1137],\n",
       "         [0.2941, 0.8000, 0.8314, 0.8000, 0.7569, 0.8039, 0.8275, 0.8824,\n",
       "          0.8471, 0.7255, 0.7725, 0.8078, 0.7765, 0.8353, 0.9412, 0.7647,\n",
       "          0.8902, 0.9608, 0.9373, 0.8745, 0.8549, 0.8314, 0.8196, 0.8706,\n",
       "          0.8627, 0.8667, 0.9020, 0.2627],\n",
       "         [0.1882, 0.7961, 0.7176, 0.7608, 0.8353, 0.7725, 0.7255, 0.7451,\n",
       "          0.7608, 0.7529, 0.7922, 0.8392, 0.8588, 0.8667, 0.8627, 0.9255,\n",
       "          0.8824, 0.8471, 0.7804, 0.8078, 0.7294, 0.7098, 0.6941, 0.6745,\n",
       "          0.7098, 0.8039, 0.8078, 0.4510],\n",
       "         [0.0000, 0.4784, 0.8588, 0.7569, 0.7020, 0.6706, 0.7176, 0.7686,\n",
       "          0.8000, 0.8235, 0.8353, 0.8118, 0.8275, 0.8235, 0.7843, 0.7686,\n",
       "          0.7608, 0.7490, 0.7647, 0.7490, 0.7765, 0.7529, 0.6902, 0.6118,\n",
       "          0.6549, 0.6941, 0.8235, 0.3608],\n",
       "         [0.0000, 0.0000, 0.2902, 0.7412, 0.8314, 0.7490, 0.6863, 0.6745,\n",
       "          0.6863, 0.7098, 0.7255, 0.7373, 0.7412, 0.7373, 0.7569, 0.7765,\n",
       "          0.8000, 0.8196, 0.8235, 0.8235, 0.8275, 0.7373, 0.7373, 0.7608,\n",
       "          0.7529, 0.8471, 0.6667, 0.0000],\n",
       "         [0.0078, 0.0000, 0.0000, 0.0000, 0.2588, 0.7843, 0.8706, 0.9294,\n",
       "          0.9373, 0.9490, 0.9647, 0.9529, 0.9569, 0.8667, 0.8627, 0.7569,\n",
       "          0.7490, 0.7020, 0.7137, 0.7137, 0.7098, 0.6902, 0.6510, 0.6588,\n",
       "          0.3882, 0.2275, 0.0000, 0.0000],\n",
       "         [0.0000, 0.0000, 0.0000, 0.0000, 0.0000, 0.0000, 0.0000, 0.1569,\n",
       "          0.2392, 0.1725, 0.2824, 0.1608, 0.1373, 0.0000, 0.0000, 0.0000,\n",
       "          0.0000, 0.0000, 0.0000, 0.0000, 0.0000, 0.0000, 0.0000, 0.0000,\n",
       "          0.0000, 0.0000, 0.0000, 0.0000],\n",
       "         [0.0000, 0.0000, 0.0000, 0.0000, 0.0000, 0.0000, 0.0000, 0.0000,\n",
       "          0.0000, 0.0000, 0.0000, 0.0000, 0.0000, 0.0000, 0.0000, 0.0000,\n",
       "          0.0000, 0.0000, 0.0000, 0.0000, 0.0000, 0.0000, 0.0000, 0.0000,\n",
       "          0.0000, 0.0000, 0.0000, 0.0000],\n",
       "         [0.0000, 0.0000, 0.0000, 0.0000, 0.0000, 0.0000, 0.0000, 0.0000,\n",
       "          0.0000, 0.0000, 0.0000, 0.0000, 0.0000, 0.0000, 0.0000, 0.0000,\n",
       "          0.0000, 0.0000, 0.0000, 0.0000, 0.0000, 0.0000, 0.0000, 0.0000,\n",
       "          0.0000, 0.0000, 0.0000, 0.0000]]])"
      ]
     },
     "execution_count": 12,
     "metadata": {},
     "output_type": "execute_result"
    }
   ],
   "source": [
    "# Pytorch only want to deal with numeric array called \"tensors\", not images.\n",
    "# So, we need to transform the input\n",
    "image_to_tensor = torchvision.transforms.ToTensor()\n",
    "t = image_to_tensor(image)\n",
    "t"
   ]
  },
  {
   "cell_type": "code",
   "execution_count": 13,
   "id": "199069a5-2fe5-4ee9-bc6a-40332db52cbe",
   "metadata": {},
   "outputs": [
    {
     "data": {
      "text/plain": [
       "(torch.Size([1, 28, 28]), torch.float32)"
      ]
     },
     "execution_count": 13,
     "metadata": {},
     "output_type": "execute_result"
    }
   ],
   "source": [
    "t.shape, t.dtype"
   ]
  },
  {
   "cell_type": "code",
   "execution_count": 14,
   "id": "63bc73a5-dd37-45b9-89ab-34e3f10506e0",
   "metadata": {},
   "outputs": [
    {
     "data": {
      "image/png": "[encoded data removed]",
      "text/plain": [
       "<Figure size 640x480 with 2 Axes>"
      ]
     },
     "metadata": {},
     "output_type": "display_data"
    }
   ],
   "source": [
    "# No information has been lost in the conversion process!\n",
    "import matplotlib.pyplot as plt\n",
    "plt.imshow(t.squeeze(), cmap=\"grey\")\n",
    "plt.colorbar()\n",
    "None"
   ]
  },
  {
   "cell_type": "markdown",
   "id": "420ce320-c734-4ab8-a377-c4b9c235c54a",
   "metadata": {},
   "source": [
    "## Neural Network Model"
   ]
  },
  {
   "cell_type": "markdown",
   "id": "8fd85254-4940-4b62-8fee-56f4480ba11f",
   "metadata": {},
   "source": [
    "The model architecture is going to assign to each image input the vector of probability $p_i$ that the item belongs to the $i$th class.\n",
    "The class prediction is simply the class with the highest probability, but the fact that all $p_i$ are known allows us to evaluate the trust that we should have in the prediction.\n",
    "\n",
    "The nitty-gritty details: the model does actually not output the probabilities $p_i \\in [0, 1]$ directly but the corresponding unnormalized log probabilities\n",
    "    $$\n",
    "    \\ell_i := \\log p_i + c\n",
    "    $$\n",
    "because any value in $\\mathbb{R}^{10}$ can be interpreted as vector of unnormalized log probabilies, this parameter is \"free\", devoid of constraints, in $\\mathbb{R}^{10}$, so every possible output of or neural network is a valid value,\n",
    "while the vector of probabilities is constrained.\n",
    "\n",
    "If needed, compute $p_i$ with:\n",
    "    $$\n",
    "    p_i = \\frac{\\exp \\ell_i}{\\sum_{j=0}^{9} \\exp \\ell_j}.\n",
    "    $$\n",
    "The pytorch [`softmax`](https://pytorch.org/docs/stable/generated/torch.nn.functional.softmax.html) function implements this operation."
   ]
  },
  {
   "cell_type": "code",
   "execution_count": 15,
   "id": "543ed589-c9b9-4376-8ff5-ded427307b2e",
   "metadata": {},
   "outputs": [],
   "source": [
    "class NeuralNetwork(torch.nn.Module):\n",
    "    def __init__(self):\n",
    "        super().__init__()\n",
    "        self.flatten = torch.nn.Flatten()\n",
    "        self.linear_1 = torch.nn.Linear(28*28, 512)\n",
    "        self.relu_1 = torch.nn.ReLU()\n",
    "        self.linear_2 = torch.nn.Linear(512, 512)\n",
    "        self.relu_2 = torch.nn.ReLU()\n",
    "        self.linear_3 = torch.nn.Linear(512, 10)\n",
    "\n",
    "    def forward(self, image_tensor):\n",
    "        image_flat = self.flatten(image_tensor)\n",
    "        x_0 = image_flat\n",
    "        x_1 = self.linear_1(x_0)\n",
    "        x_1 = self.relu_1(x_1)\n",
    "        x_2 = self.linear_2(x_1)\n",
    "        x_2 = self.relu_2(x_2)\n",
    "        x_3 = self.linear_3(x_2)\n",
    "        logits = x_3\n",
    "        return logits"
   ]
  },
  {
   "cell_type": "code",
   "execution_count": 16,
   "id": "165d4e2f-41a4-4ee7-8d36-a5cb59275934",
   "metadata": {},
   "outputs": [
    {
     "data": {
      "text/plain": [
       "NeuralNetwork(\n",
       "  (flatten): Flatten(start_dim=1, end_dim=-1)\n",
       "  (linear_1): Linear(in_features=784, out_features=512, bias=True)\n",
       "  (relu_1): ReLU()\n",
       "  (linear_2): Linear(in_features=512, out_features=512, bias=True)\n",
       "  (relu_2): ReLU()\n",
       "  (linear_3): Linear(in_features=512, out_features=10, bias=True)\n",
       ")"
      ]
     },
     "execution_count": 16,
     "metadata": {},
     "output_type": "execute_result"
    }
   ],
   "source": [
    "model = NeuralNetwork()\n",
    "model"
   ]
  },
  {
   "cell_type": "code",
   "execution_count": 17,
   "id": "5b400bc3-b2c2-4dd2-96cc-0d0a157ee420",
   "metadata": {},
   "outputs": [
    {
     "data": {
      "text/plain": [
       "<All keys matched successfully>"
      ]
     },
     "execution_count": 17,
     "metadata": {},
     "output_type": "execute_result"
    }
   ],
   "source": [
    "# Load the (trained) model state for this architecture\n",
    "model.load_state_dict(torch.load(\"models/base-model.pth\"))"
   ]
  },
  {
   "cell_type": "code",
   "execution_count": 18,
   "id": "e5e0051c-f13d-41f9-a835-9fd2bcf92722",
   "metadata": {},
   "outputs": [
    {
     "data": {
      "image/png": "[encoded data removed]",
      "text/plain": [
       "<Figure size 640x480 with 1 Axes>"
      ]
     },
     "metadata": {},
     "output_type": "display_data"
    }
   ],
   "source": [
    "image_tensor, cls = training_data[0]\n",
    "plt.imshow(image_tensor.squeeze(), cmap=\"grey\")\n",
    "plt.grid(False)\n",
    "None"
   ]
  },
  {
   "cell_type": "code",
   "execution_count": 19,
   "id": "fb14044f-fbe2-4375-8890-66d9d8099e00",
   "metadata": {},
   "outputs": [
    {
     "data": {
      "text/plain": [
       "tensor([ -5.0635, -10.2997,  -2.5343,  -3.8617,  -1.4204,   6.7209,  -1.7712,\n",
       "          4.3737,   5.1194,   8.8152])"
      ]
     },
     "execution_count": 19,
     "metadata": {},
     "output_type": "execute_result"
    }
   ],
   "source": [
    "with torch.no_grad():\n",
    "    logits = model(image_tensor)\n",
    "logits = logits.squeeze()\n",
    "logits"
   ]
  },
  {
   "cell_type": "code",
   "execution_count": 20,
   "id": "e8d92d7a-14dc-4b32-bd97-3e0a35e6fd06",
   "metadata": {},
   "outputs": [
    {
     "data": {
      "text/plain": [
       "tensor([8.0939e-07, 4.3064e-09, 1.0153e-05, 2.6920e-06, 3.0927e-05, 1.0618e-01,\n",
       "        2.1777e-05, 1.0155e-02, 2.1407e-02, 8.6219e-01])"
      ]
     },
     "execution_count": 20,
     "metadata": {},
     "output_type": "execute_result"
    }
   ],
   "source": [
    "probas = torch.nn.functional.softmax(logits, dim=-1)\n",
    "probas"
   ]
  },
  {
   "cell_type": "code",
   "execution_count": 21,
   "id": "21e172fc-3bec-4385-86af-3d405d795484",
   "metadata": {},
   "outputs": [
    {
     "data": {
      "text/plain": [
       "{'T-shirt/top': 8.093874157566461e-07,\n",
       " 'Trouser': 4.306432099809854e-09,\n",
       " 'Pullover': 1.0152617505809758e-05,\n",
       " 'Dress': 2.691969712032005e-06,\n",
       " 'Coat': 3.0927330954000354e-05,\n",
       " 'Sandal': 0.10618074238300323,\n",
       " 'Shirt': 2.177722126361914e-05,\n",
       " 'Sneaker': 0.010154898278415203,\n",
       " 'Bag': 0.021406900137662888,\n",
       " 'Ankle boot': 0.8621910810470581}"
      ]
     },
     "execution_count": 21,
     "metadata": {},
     "output_type": "execute_result"
    }
   ],
   "source": [
    "probas_dict = {training_data.classes[i]: p.item() for i, p in enumerate(probas)}\n",
    "probas_dict"
   ]
  },
  {
   "cell_type": "code",
   "execution_count": 22,
   "id": "a92df69a-2a54-492d-9aee-dc31ec768d99",
   "metadata": {},
   "outputs": [
    {
     "data": {
      "image/png": "[encoded data removed]",
      "text/plain": [
       "<Figure size 1200x480 with 1 Axes>"
      ]
     },
     "metadata": {},
     "output_type": "display_data"
    }
   ],
   "source": [
    "import seaborn as sns; sns.set_theme()\n",
    "sns.barplot(probas_dict)\n",
    "plt.gcf().set_figwidth(12)\n",
    "plt.gca().set_ylabel(\"Probability\")\n",
    "None"
   ]
  },
  {
   "cell_type": "markdown",
   "id": "ef30b003-bc99-4d05-bd2d-b8be8c6fc425",
   "metadata": {},
   "source": [
    "### Batched Prediction"
   ]
  },
  {
   "cell_type": "code",
   "execution_count": 23,
   "id": "c595081a-d6f4-4e60-918b-67cb6c1f1b0f",
   "metadata": {},
   "outputs": [
    {
     "data": {
      "text/plain": [
       "tensor([[[0.0000, 0.0000, 0.0000,  ..., 0.0000, 0.0000, 0.0000],\n",
       "         [0.0000, 0.0000, 0.0000,  ..., 0.0000, 0.0000, 0.0000],\n",
       "         [0.0000, 0.0000, 0.0000,  ..., 0.0000, 0.0000, 0.0000],\n",
       "         ...,\n",
       "         [0.0000, 0.0000, 0.0000,  ..., 0.0000, 0.0000, 0.0000],\n",
       "         [0.0000, 0.0000, 0.0000,  ..., 0.0000, 0.0000, 0.0000],\n",
       "         [0.0000, 0.0000, 0.0000,  ..., 0.0000, 0.0000, 0.0000]],\n",
       "\n",
       "        [[0.0000, 0.0000, 0.0000,  ..., 0.0000, 0.0000, 0.0000],\n",
       "         [0.0000, 0.0000, 0.0000,  ..., 0.0000, 0.0000, 0.0000],\n",
       "         [0.0000, 0.0000, 0.0000,  ..., 0.0000, 0.0000, 0.0000],\n",
       "         ...,\n",
       "         [0.0000, 0.0000, 0.0000,  ..., 0.0000, 0.0000, 0.0000],\n",
       "         [0.0000, 0.0000, 0.0000,  ..., 0.0000, 0.0000, 0.0000],\n",
       "         [0.0000, 0.0000, 0.0000,  ..., 0.0000, 0.0000, 0.0000]],\n",
       "\n",
       "        [[0.0000, 0.0000, 0.0000,  ..., 0.0000, 0.0000, 0.0000],\n",
       "         [0.0000, 0.0000, 0.0000,  ..., 0.0000, 0.0000, 0.0000],\n",
       "         [0.0000, 0.0000, 0.0000,  ..., 0.0000, 0.0000, 0.0000],\n",
       "         ...,\n",
       "         [0.0000, 0.0000, 0.0000,  ..., 0.0000, 0.0000, 0.0000],\n",
       "         [0.0000, 0.0000, 0.0000,  ..., 0.0000, 0.0000, 0.0000],\n",
       "         [0.0000, 0.0000, 0.0000,  ..., 0.0000, 0.0000, 0.0000]],\n",
       "\n",
       "        ...,\n",
       "\n",
       "        [[0.0000, 0.0000, 0.0000,  ..., 0.0000, 0.0000, 0.0000],\n",
       "         [0.0000, 0.0000, 0.0000,  ..., 0.0000, 0.0000, 0.0000],\n",
       "         [0.0000, 0.0000, 0.0000,  ..., 0.0000, 0.0000, 0.0000],\n",
       "         ...,\n",
       "         [0.0000, 0.0000, 0.0000,  ..., 0.7059, 0.0000, 0.0000],\n",
       "         [0.0000, 0.0000, 0.0000,  ..., 0.2824, 0.0000, 0.0000],\n",
       "         [0.0000, 0.0000, 0.0000,  ..., 0.2745, 0.0000, 0.0000]],\n",
       "\n",
       "        [[0.0000, 0.0000, 0.0000,  ..., 0.0000, 0.0000, 0.0000],\n",
       "         [0.0000, 0.0000, 0.0000,  ..., 0.0000, 0.0000, 0.0000],\n",
       "         [0.0000, 0.0000, 0.0000,  ..., 0.1529, 0.0039, 0.0000],\n",
       "         ...,\n",
       "         [0.0000, 0.0000, 0.0000,  ..., 0.9333, 0.0000, 0.0000],\n",
       "         [0.0000, 0.0000, 0.0000,  ..., 0.5137, 0.0000, 0.0000],\n",
       "         [0.0000, 0.0000, 0.0000,  ..., 0.0000, 0.0000, 0.0000]],\n",
       "\n",
       "        [[0.0000, 0.0000, 0.0000,  ..., 0.0000, 0.0000, 0.0000],\n",
       "         [0.0000, 0.0000, 0.0000,  ..., 0.0000, 0.0000, 0.0000],\n",
       "         [0.0000, 0.0000, 0.0000,  ..., 0.0275, 0.0000, 0.0000],\n",
       "         ...,\n",
       "         [0.0000, 0.0000, 0.0000,  ..., 0.0000, 0.0353, 0.0000],\n",
       "         [0.0000, 0.0000, 0.0000,  ..., 0.0000, 0.0118, 0.0000],\n",
       "         [0.0000, 0.0000, 0.0000,  ..., 0.0000, 0.0000, 0.0000]]])"
      ]
     },
     "execution_count": 23,
     "metadata": {},
     "output_type": "execute_result"
    }
   ],
   "source": [
    "images = []\n",
    "for i, (image, _) in enumerate(training_data):\n",
    "    if i >= 10:\n",
    "        break\n",
    "    images.append(image)\n",
    "images_tensor = torch.cat(images)\n",
    "images_tensor"
   ]
  },
  {
   "cell_type": "code",
   "execution_count": 24,
   "id": "2dfa857d-286b-43fa-a845-5d587a0f6783",
   "metadata": {},
   "outputs": [
    {
     "data": {
      "text/plain": [
       "tensor([[ -5.0635, -10.2997,  -2.5343,  -3.8617,  -1.4204,   6.7209,  -1.7712,\n",
       "           4.3737,   5.1195,   8.8152],\n",
       "        [  7.5105,  -0.8102,   2.5687,   2.8657,   0.7035,  -5.3199,   4.3796,\n",
       "          -8.6883,  -1.0414,  -4.6456],\n",
       "        [  1.5420,   2.6097,   0.2043,   2.5372,   0.9034,  -2.1826,   1.0051,\n",
       "          -2.8838,  -1.7813,  -2.7010],\n",
       "        [  3.4631,   2.3332,   1.6350,   2.6722,   1.4257,  -3.6585,   2.3974,\n",
       "          -5.5100,  -1.9757,  -4.1755],\n",
       "        [  3.0631,   3.7802,  -0.1755,   5.3393,   1.6590,  -4.6100,   1.9257,\n",
       "          -5.7356,  -1.9763,  -4.9247],\n",
       "        [  1.7434,  -2.6086,   5.3427,  -0.6650,   4.0233,  -3.1444,   4.2314,\n",
       "          -7.2025,   0.5431,  -4.2442],\n",
       "        [ -3.5351,  -4.3576,  -2.5228,  -1.9914,  -1.1599,   4.7374,  -1.8257,\n",
       "           6.3088,   2.1861,   2.9703],\n",
       "        [  0.4537,  -5.7180,   5.9191,  -2.8125,   4.6158,  -1.8757,   4.4393,\n",
       "          -6.9481,   2.4362,  -2.6177],\n",
       "        [ -0.6416,  -2.3333,  -0.7706,  -0.8070,  -0.8845,   2.1214,  -0.3714,\n",
       "           0.8941,   0.8039,   1.9266],\n",
       "        [ -1.7099,  -5.3223,  -0.3209,  -2.2517,  -0.6853,   3.4499,  -0.1782,\n",
       "           0.7765,   2.5103,   3.5490]])"
      ]
     },
     "execution_count": 24,
     "metadata": {},
     "output_type": "execute_result"
    }
   ],
   "source": [
    "with torch.no_grad():\n",
    "    output = model(images_tensor)\n",
    "output"
   ]
  },
  {
   "cell_type": "markdown",
   "id": "87a4f282-7864-4344-ab7b-0e9a6046e41b",
   "metadata": {},
   "source": [
    "### Parameters"
   ]
  },
  {
   "cell_type": "code",
   "execution_count": 25,
   "id": "4cf4e731-a71b-4956-aecd-83ba9e2a2e38",
   "metadata": {},
   "outputs": [
    {
     "name": "stdout",
     "output_type": "stream",
     "text": [
      "type: Tensor, shape: (512, 784), data type: torch.float32\n",
      "type: Tensor, shape: (512,)    , data type: torch.float32\n",
      "type: Tensor, shape: (512, 512), data type: torch.float32\n",
      "type: Tensor, shape: (512,)    , data type: torch.float32\n",
      "type: Tensor, shape: (10, 512) , data type: torch.float32\n",
      "type: Tensor, shape: (10,)     , data type: torch.float32\n"
     ]
    }
   ],
   "source": [
    "for p in model.parameters():\n",
    "    print(f\"type: {type(p.data).__name__}, shape: {tuple(p.shape)!s:<10}, data type: {p.dtype}\")"
   ]
  },
  {
   "cell_type": "markdown",
   "id": "2476ad61-4fe6-4ea0-913e-ec9edde2f0be",
   "metadata": {},
   "source": [
    "```{tip} Model Size\n",
    "How many scalar parameters describe the model? What is the corresponding model size in MB?\n",
    "```"
   ]
  },
  {
   "cell_type": "code",
   "execution_count": 26,
   "id": "d7577531-3619-44b2-8447-2b7b57f1b9b0",
   "metadata": {},
   "outputs": [],
   "source": [
    "num_params = 0\n",
    "for p in model.parameters():\n",
    "    num_params += torch.prod(torch.tensor(p.shape)).item()"
   ]
  },
  {
   "cell_type": "markdown",
   "id": "0ad32eff-2569-4977-b77f-5e60c3f60a09",
   "metadata": {
    "user_expressions": [
     {
      "expression": "num_params",
      "result": {
       "data": {
        "text/plain": "669706"
       },
       "metadata": {},
       "status": "ok"
      }
     },
     {
      "expression": "num_params // 1_000",
      "result": {
       "data": {
        "text/plain": "669"
       },
       "metadata": {},
       "status": "ok"
      }
     },
     {
      "expression": "round(num_params * 4 / 1_000_000, 1)",
      "result": {
       "data": {
        "text/plain": "2.7"
       },
       "metadata": {},
       "status": "ok"
      }
     }
    ]
   },
   "source": [
    "There are {eval}`num_params` ($\\approx$ {eval}`num_params // 1_000`K) parameters in the model. The size of each parameter is 4B, hence the total size is {eval}`round(num_params * 4 / 1_000_000, 1)`MB."
   ]
  },
  {
   "cell_type": "markdown",
   "id": "f81e5757-0ecf-4e55-8cc5-3c177928ea41",
   "metadata": {},
   "source": [
    "### Under the Hood"
   ]
  },
  {
   "cell_type": "markdown",
   "id": "62116792-d3af-4ee5-8fbe-39e0e33b6334",
   "metadata": {},
   "source": [
    "#### Flatten"
   ]
  },
  {
   "cell_type": "code",
   "execution_count": 27,
   "id": "89a01b45-d85b-4789-bc3d-c72b49c5950a",
   "metadata": {},
   "outputs": [
    {
     "data": {
      "text/plain": [
       "Flatten(start_dim=1, end_dim=-1)"
      ]
     },
     "execution_count": 27,
     "metadata": {},
     "output_type": "execute_result"
    }
   ],
   "source": [
    "model.flatten"
   ]
  },
  {
   "cell_type": "code",
   "execution_count": 28,
   "id": "c8a39cf1-aa35-45b8-ad37-15db36f4de6e",
   "metadata": {},
   "outputs": [
    {
     "data": {
      "text/plain": [
       "tensor([[[0.0000, 0.0000, 0.0000, 0.0000, 0.0000, 0.0000, 0.0000, 0.0431,\n",
       "          0.5569, 0.7843, 0.4157, 0.0000, 0.0000, 0.0000, 0.0000, 0.0000,\n",
       "          0.0000, 0.0000, 0.3333, 0.7255, 0.4392, 0.0000, 0.0000, 0.0000,\n",
       "          0.0000, 0.0000, 0.0000, 0.0000],\n",
       "         [0.0000, 0.0000, 0.0000, 0.0000, 0.0000, 0.0000, 0.5961, 0.8392,\n",
       "          0.8510, 0.7608, 0.9255, 0.8471, 0.7333, 0.5843, 0.5294, 0.6000,\n",
       "          0.8275, 0.8510, 0.9059, 0.8039, 0.8510, 0.7373, 0.1333, 0.0000,\n",
       "          0.0000, 0.0000, 0.0000, 0.0000],\n",
       "         [0.0000, 0.0000, 0.0000, 0.0000, 0.0000, 0.2588, 0.7255, 0.6510,\n",
       "          0.7059, 0.7098, 0.7451, 0.8275, 0.8667, 0.7725, 0.5725, 0.7765,\n",
       "          0.8078, 0.7490, 0.6588, 0.7451, 0.6745, 0.7373, 0.6863, 0.0000,\n",
       "          0.0000, 0.0000, 0.0000, 0.0000],\n",
       "         [0.0000, 0.0000, 0.0000, 0.0000, 0.0000, 0.5294, 0.6000, 0.6275,\n",
       "          0.6863, 0.7059, 0.6667, 0.7294, 0.7333, 0.7451, 0.7373, 0.7451,\n",
       "          0.7333, 0.6824, 0.7647, 0.7255, 0.6824, 0.6314, 0.6863, 0.2314,\n",
       "          0.0000, 0.0000, 0.0000, 0.0000],\n",
       "         [0.0000, 0.0000, 0.0000, 0.0000, 0.0000, 0.6314, 0.5765, 0.6275,\n",
       "          0.6667, 0.6980, 0.6941, 0.7059, 0.6588, 0.6784, 0.6824, 0.6706,\n",
       "          0.7255, 0.7216, 0.7255, 0.6745, 0.6706, 0.6431, 0.6824, 0.4706,\n",
       "          0.0000, 0.0000, 0.0000, 0.0000],\n",
       "         [0.0000, 0.0000, 0.0000, 0.0000, 0.0078, 0.6863, 0.5725, 0.5686,\n",
       "          0.6588, 0.6980, 0.7098, 0.7255, 0.7059, 0.7216, 0.6980, 0.7020,\n",
       "          0.7333, 0.7490, 0.7569, 0.7451, 0.7098, 0.6706, 0.6745, 0.6196,\n",
       "          0.0000, 0.0000, 0.0000, 0.0000],\n",
       "         [0.0000, 0.0000, 0.0000, 0.0000, 0.1373, 0.6941, 0.6078, 0.5490,\n",
       "          0.5922, 0.6745, 0.7490, 0.7333, 0.7294, 0.7333, 0.7294, 0.7333,\n",
       "          0.7137, 0.7490, 0.7608, 0.7373, 0.7059, 0.6314, 0.6314, 0.7255,\n",
       "          0.0000, 0.0000, 0.0000, 0.0000],\n",
       "         [0.0000, 0.0000, 0.0000, 0.0000, 0.2314, 0.6667, 0.6000, 0.5529,\n",
       "          0.4706, 0.6039, 0.6275, 0.6314, 0.6745, 0.6588, 0.6510, 0.6314,\n",
       "          0.6471, 0.6745, 0.6667, 0.6431, 0.5451, 0.5843, 0.6353, 0.6510,\n",
       "          0.0824, 0.0000, 0.0000, 0.0000],\n",
       "         [0.0000, 0.0000, 0.0000, 0.0000, 0.3098, 0.5686, 0.6275, 0.8392,\n",
       "          0.4824, 0.5020, 0.6000, 0.6275, 0.6431, 0.6196, 0.6157, 0.6039,\n",
       "          0.6078, 0.6667, 0.6471, 0.5529, 0.7647, 0.7569, 0.5961, 0.6510,\n",
       "          0.2392, 0.0000, 0.0000, 0.0000],\n",
       "         [0.0000, 0.0000, 0.0000, 0.0000, 0.3922, 0.6157, 0.8824, 0.9608,\n",
       "          0.6863, 0.4431, 0.6824, 0.6196, 0.6196, 0.6275, 0.6078, 0.6275,\n",
       "          0.6431, 0.6980, 0.7373, 0.5294, 0.7255, 0.9412, 0.7882, 0.6745,\n",
       "          0.4235, 0.0000, 0.0000, 0.0000],\n",
       "         [0.0000, 0.0000, 0.0000, 0.0000, 0.0000, 0.1216, 0.6824, 0.1098,\n",
       "          0.4941, 0.6000, 0.6510, 0.5961, 0.6196, 0.6196, 0.6275, 0.6314,\n",
       "          0.6157, 0.6588, 0.7490, 0.7373, 0.0706, 0.5176, 0.6235, 0.0275,\n",
       "          0.0000, 0.0000, 0.0000, 0.0000],\n",
       "         [0.0000, 0.0000, 0.0000, 0.0000, 0.0000, 0.0000, 0.0000, 0.0000,\n",
       "          0.3216, 0.7333, 0.6235, 0.6000, 0.6157, 0.6196, 0.6353, 0.6431,\n",
       "          0.6431, 0.6039, 0.7333, 0.7451, 0.0000, 0.0000, 0.0000, 0.0000,\n",
       "          0.0000, 0.0000, 0.0000, 0.0000],\n",
       "         [0.0000, 0.0000, 0.0000, 0.0000, 0.0039, 0.0118, 0.0196, 0.0000,\n",
       "          0.1451, 0.6863, 0.6196, 0.6078, 0.6353, 0.6196, 0.6275, 0.6353,\n",
       "          0.6471, 0.6000, 0.6941, 0.8039, 0.0000, 0.0000, 0.0118, 0.0118,\n",
       "          0.0000, 0.0000, 0.0000, 0.0000],\n",
       "         [0.0000, 0.0000, 0.0000, 0.0000, 0.0000, 0.0000, 0.0039, 0.0000,\n",
       "          0.0980, 0.6863, 0.5961, 0.6275, 0.6196, 0.6314, 0.6275, 0.6431,\n",
       "          0.6431, 0.6314, 0.6510, 0.7843, 0.0000, 0.0000, 0.0039, 0.0000,\n",
       "          0.0000, 0.0000, 0.0000, 0.0000],\n",
       "         [0.0000, 0.0000, 0.0000, 0.0000, 0.0000, 0.0000, 0.0157, 0.0000,\n",
       "          0.1176, 0.6706, 0.5765, 0.6431, 0.6078, 0.6471, 0.6314, 0.6471,\n",
       "          0.6353, 0.6667, 0.6431, 0.6353, 0.0000, 0.0000, 0.0078, 0.0000,\n",
       "          0.0000, 0.0000, 0.0000, 0.0000],\n",
       "         [0.0000, 0.0000, 0.0000, 0.0000, 0.0000, 0.0000, 0.0157, 0.0000,\n",
       "          0.2235, 0.6510, 0.6078, 0.6431, 0.6510, 0.6314, 0.6314, 0.6431,\n",
       "          0.6549, 0.6471, 0.6471, 0.6353, 0.1098, 0.0000, 0.0118, 0.0000,\n",
       "          0.0000, 0.0000, 0.0000, 0.0000],\n",
       "         [0.0000, 0.0000, 0.0000, 0.0000, 0.0000, 0.0000, 0.0118, 0.0000,\n",
       "          0.4471, 0.6314, 0.6314, 0.6510, 0.6235, 0.6588, 0.6314, 0.6314,\n",
       "          0.6745, 0.6353, 0.6471, 0.6706, 0.1961, 0.0000, 0.0196, 0.0000,\n",
       "          0.0000, 0.0000, 0.0000, 0.0000],\n",
       "         [0.0000, 0.0000, 0.0000, 0.0000, 0.0000, 0.0000, 0.0039, 0.0000,\n",
       "          0.5843, 0.6157, 0.6549, 0.6745, 0.6235, 0.6745, 0.6431, 0.6314,\n",
       "          0.6745, 0.6667, 0.6275, 0.6706, 0.3490, 0.0000, 0.0157, 0.0000,\n",
       "          0.0000, 0.0000, 0.0000, 0.0000],\n",
       "         [0.0000, 0.0000, 0.0000, 0.0000, 0.0000, 0.0078, 0.0000, 0.0157,\n",
       "          0.6706, 0.6431, 0.6510, 0.6784, 0.6235, 0.7020, 0.6510, 0.6275,\n",
       "          0.6824, 0.6549, 0.6353, 0.6510, 0.5020, 0.0000, 0.0078, 0.0000,\n",
       "          0.0000, 0.0000, 0.0000, 0.0000],\n",
       "         [0.0000, 0.0000, 0.0000, 0.0000, 0.0000, 0.0118, 0.0000, 0.0706,\n",
       "          0.5961, 0.6784, 0.6275, 0.7020, 0.6039, 0.7098, 0.6510, 0.6431,\n",
       "          0.6863, 0.6667, 0.6510, 0.6667, 0.6431, 0.0000, 0.0000, 0.0039,\n",
       "          0.0000, 0.0000, 0.0000, 0.0000],\n",
       "         [0.0000, 0.0000, 0.0000, 0.0000, 0.0000, 0.0157, 0.0000, 0.1843,\n",
       "          0.6471, 0.6745, 0.6549, 0.7255, 0.6000, 0.7333, 0.6784, 0.6471,\n",
       "          0.6824, 0.7020, 0.6510, 0.6510, 0.6196, 0.0196, 0.0000, 0.0118,\n",
       "          0.0000, 0.0000, 0.0000, 0.0000],\n",
       "         [0.0000, 0.0000, 0.0000, 0.0000, 0.0000, 0.0157, 0.0000, 0.3412,\n",
       "          0.7059, 0.6353, 0.7020, 0.7020, 0.6157, 0.7490, 0.7137, 0.6471,\n",
       "          0.6588, 0.7451, 0.6784, 0.6471, 0.6510, 0.0784, 0.0000, 0.0157,\n",
       "          0.0000, 0.0000, 0.0000, 0.0000],\n",
       "         [0.0000, 0.0000, 0.0000, 0.0000, 0.0000, 0.0157, 0.0000, 0.4118,\n",
       "          0.7333, 0.6157, 0.7608, 0.6863, 0.6314, 0.7451, 0.7216, 0.6667,\n",
       "          0.6196, 0.8039, 0.6941, 0.6588, 0.6706, 0.1725, 0.0000, 0.0157,\n",
       "          0.0000, 0.0000, 0.0000, 0.0000],\n",
       "         [0.0000, 0.0000, 0.0000, 0.0000, 0.0000, 0.0196, 0.0000, 0.5412,\n",
       "          0.7098, 0.6196, 0.8039, 0.6275, 0.6549, 0.7451, 0.7765, 0.6549,\n",
       "          0.5961, 0.8549, 0.7294, 0.6667, 0.6745, 0.2235, 0.0000, 0.0196,\n",
       "          0.0000, 0.0000, 0.0000, 0.0000],\n",
       "         [0.0000, 0.0000, 0.0000, 0.0000, 0.0000, 0.0196, 0.0000, 0.5294,\n",
       "          0.6824, 0.6549, 0.7804, 0.6078, 0.6510, 0.7882, 0.8588, 0.6471,\n",
       "          0.6196, 0.8549, 0.7373, 0.6549, 0.6863, 0.2196, 0.0000, 0.0275,\n",
       "          0.0000, 0.0000, 0.0000, 0.0000],\n",
       "         [0.0000, 0.0000, 0.0000, 0.0000, 0.0000, 0.0196, 0.0000, 0.5059,\n",
       "          0.6706, 0.6745, 0.6941, 0.6000, 0.6235, 0.8078, 0.8471, 0.5804,\n",
       "          0.6157, 0.8078, 0.7451, 0.6471, 0.6863, 0.1882, 0.0000, 0.0196,\n",
       "          0.0000, 0.0000, 0.0000, 0.0000],\n",
       "         [0.0000, 0.0000, 0.0000, 0.0000, 0.0000, 0.0196, 0.0000, 0.6549,\n",
       "          0.7333, 0.7137, 0.7765, 0.7608, 0.7843, 0.8863, 0.9412, 0.7216,\n",
       "          0.8078, 1.0000, 0.7725, 0.6980, 0.7020, 0.1647, 0.0000, 0.0196,\n",
       "          0.0000, 0.0000, 0.0000, 0.0000],\n",
       "         [0.0000, 0.0000, 0.0000, 0.0000, 0.0000, 0.0118, 0.0000, 0.4510,\n",
       "          0.5294, 0.4431, 0.4157, 0.3333, 0.3216, 0.4235, 0.5216, 0.3255,\n",
       "          0.3529, 0.4745, 0.4706, 0.4314, 0.6196, 0.0706, 0.0000, 0.0118,\n",
       "          0.0000, 0.0000, 0.0000, 0.0000]]])"
      ]
     },
     "execution_count": 28,
     "metadata": {},
     "output_type": "execute_result"
    }
   ],
   "source": [
    "t = image\n",
    "t"
   ]
  },
  {
   "cell_type": "code",
   "execution_count": 29,
   "id": "8ff5bc9d-a6a8-4b3b-b7a9-c5f3e7b790c5",
   "metadata": {},
   "outputs": [
    {
     "data": {
      "text/plain": [
       "tensor([[0.0000, 0.0000, 0.0000, 0.0000, 0.0000, 0.0000, 0.0000, 0.0431, 0.5569,\n",
       "         0.7843, 0.4157, 0.0000, 0.0000, 0.0000, 0.0000, 0.0000, 0.0000, 0.0000,\n",
       "         0.3333, 0.7255, 0.4392, 0.0000, 0.0000, 0.0000, 0.0000, 0.0000, 0.0000,\n",
       "         0.0000, 0.0000, 0.0000, 0.0000, 0.0000, 0.0000, 0.0000, 0.5961, 0.8392,\n",
       "         0.8510, 0.7608, 0.9255, 0.8471, 0.7333, 0.5843, 0.5294, 0.6000, 0.8275,\n",
       "         0.8510, 0.9059, 0.8039, 0.8510, 0.7373, 0.1333, 0.0000, 0.0000, 0.0000,\n",
       "         0.0000, 0.0000, 0.0000, 0.0000, 0.0000, 0.0000, 0.0000, 0.2588, 0.7255,\n",
       "         0.6510, 0.7059, 0.7098, 0.7451, 0.8275, 0.8667, 0.7725, 0.5725, 0.7765,\n",
       "         0.8078, 0.7490, 0.6588, 0.7451, 0.6745, 0.7373, 0.6863, 0.0000, 0.0000,\n",
       "         0.0000, 0.0000, 0.0000, 0.0000, 0.0000, 0.0000, 0.0000, 0.0000, 0.5294,\n",
       "         0.6000, 0.6275, 0.6863, 0.7059, 0.6667, 0.7294, 0.7333, 0.7451, 0.7373,\n",
       "         0.7451, 0.7333, 0.6824, 0.7647, 0.7255, 0.6824, 0.6314, 0.6863, 0.2314,\n",
       "         0.0000, 0.0000, 0.0000, 0.0000, 0.0000, 0.0000, 0.0000, 0.0000, 0.0000,\n",
       "         0.6314, 0.5765, 0.6275, 0.6667, 0.6980, 0.6941, 0.7059, 0.6588, 0.6784,\n",
       "         0.6824, 0.6706, 0.7255, 0.7216, 0.7255, 0.6745, 0.6706, 0.6431, 0.6824,\n",
       "         0.4706, 0.0000, 0.0000, 0.0000, 0.0000, 0.0000, 0.0000, 0.0000, 0.0000,\n",
       "         0.0078, 0.6863, 0.5725, 0.5686, 0.6588, 0.6980, 0.7098, 0.7255, 0.7059,\n",
       "         0.7216, 0.6980, 0.7020, 0.7333, 0.7490, 0.7569, 0.7451, 0.7098, 0.6706,\n",
       "         0.6745, 0.6196, 0.0000, 0.0000, 0.0000, 0.0000, 0.0000, 0.0000, 0.0000,\n",
       "         0.0000, 0.1373, 0.6941, 0.6078, 0.5490, 0.5922, 0.6745, 0.7490, 0.7333,\n",
       "         0.7294, 0.7333, 0.7294, 0.7333, 0.7137, 0.7490, 0.7608, 0.7373, 0.7059,\n",
       "         0.6314, 0.6314, 0.7255, 0.0000, 0.0000, 0.0000, 0.0000, 0.0000, 0.0000,\n",
       "         0.0000, 0.0000, 0.2314, 0.6667, 0.6000, 0.5529, 0.4706, 0.6039, 0.6275,\n",
       "         0.6314, 0.6745, 0.6588, 0.6510, 0.6314, 0.6471, 0.6745, 0.6667, 0.6431,\n",
       "         0.5451, 0.5843, 0.6353, 0.6510, 0.0824, 0.0000, 0.0000, 0.0000, 0.0000,\n",
       "         0.0000, 0.0000, 0.0000, 0.3098, 0.5686, 0.6275, 0.8392, 0.4824, 0.5020,\n",
       "         0.6000, 0.6275, 0.6431, 0.6196, 0.6157, 0.6039, 0.6078, 0.6667, 0.6471,\n",
       "         0.5529, 0.7647, 0.7569, 0.5961, 0.6510, 0.2392, 0.0000, 0.0000, 0.0000,\n",
       "         0.0000, 0.0000, 0.0000, 0.0000, 0.3922, 0.6157, 0.8824, 0.9608, 0.6863,\n",
       "         0.4431, 0.6824, 0.6196, 0.6196, 0.6275, 0.6078, 0.6275, 0.6431, 0.6980,\n",
       "         0.7373, 0.5294, 0.7255, 0.9412, 0.7882, 0.6745, 0.4235, 0.0000, 0.0000,\n",
       "         0.0000, 0.0000, 0.0000, 0.0000, 0.0000, 0.0000, 0.1216, 0.6824, 0.1098,\n",
       "         0.4941, 0.6000, 0.6510, 0.5961, 0.6196, 0.6196, 0.6275, 0.6314, 0.6157,\n",
       "         0.6588, 0.7490, 0.7373, 0.0706, 0.5176, 0.6235, 0.0275, 0.0000, 0.0000,\n",
       "         0.0000, 0.0000, 0.0000, 0.0000, 0.0000, 0.0000, 0.0000, 0.0000, 0.0000,\n",
       "         0.0000, 0.3216, 0.7333, 0.6235, 0.6000, 0.6157, 0.6196, 0.6353, 0.6431,\n",
       "         0.6431, 0.6039, 0.7333, 0.7451, 0.0000, 0.0000, 0.0000, 0.0000, 0.0000,\n",
       "         0.0000, 0.0000, 0.0000, 0.0000, 0.0000, 0.0000, 0.0000, 0.0039, 0.0118,\n",
       "         0.0196, 0.0000, 0.1451, 0.6863, 0.6196, 0.6078, 0.6353, 0.6196, 0.6275,\n",
       "         0.6353, 0.6471, 0.6000, 0.6941, 0.8039, 0.0000, 0.0000, 0.0118, 0.0118,\n",
       "         0.0000, 0.0000, 0.0000, 0.0000, 0.0000, 0.0000, 0.0000, 0.0000, 0.0000,\n",
       "         0.0000, 0.0039, 0.0000, 0.0980, 0.6863, 0.5961, 0.6275, 0.6196, 0.6314,\n",
       "         0.6275, 0.6431, 0.6431, 0.6314, 0.6510, 0.7843, 0.0000, 0.0000, 0.0039,\n",
       "         0.0000, 0.0000, 0.0000, 0.0000, 0.0000, 0.0000, 0.0000, 0.0000, 0.0000,\n",
       "         0.0000, 0.0000, 0.0157, 0.0000, 0.1176, 0.6706, 0.5765, 0.6431, 0.6078,\n",
       "         0.6471, 0.6314, 0.6471, 0.6353, 0.6667, 0.6431, 0.6353, 0.0000, 0.0000,\n",
       "         0.0078, 0.0000, 0.0000, 0.0000, 0.0000, 0.0000, 0.0000, 0.0000, 0.0000,\n",
       "         0.0000, 0.0000, 0.0000, 0.0157, 0.0000, 0.2235, 0.6510, 0.6078, 0.6431,\n",
       "         0.6510, 0.6314, 0.6314, 0.6431, 0.6549, 0.6471, 0.6471, 0.6353, 0.1098,\n",
       "         0.0000, 0.0118, 0.0000, 0.0000, 0.0000, 0.0000, 0.0000, 0.0000, 0.0000,\n",
       "         0.0000, 0.0000, 0.0000, 0.0000, 0.0118, 0.0000, 0.4471, 0.6314, 0.6314,\n",
       "         0.6510, 0.6235, 0.6588, 0.6314, 0.6314, 0.6745, 0.6353, 0.6471, 0.6706,\n",
       "         0.1961, 0.0000, 0.0196, 0.0000, 0.0000, 0.0000, 0.0000, 0.0000, 0.0000,\n",
       "         0.0000, 0.0000, 0.0000, 0.0000, 0.0000, 0.0039, 0.0000, 0.5843, 0.6157,\n",
       "         0.6549, 0.6745, 0.6235, 0.6745, 0.6431, 0.6314, 0.6745, 0.6667, 0.6275,\n",
       "         0.6706, 0.3490, 0.0000, 0.0157, 0.0000, 0.0000, 0.0000, 0.0000, 0.0000,\n",
       "         0.0000, 0.0000, 0.0000, 0.0000, 0.0000, 0.0078, 0.0000, 0.0157, 0.6706,\n",
       "         0.6431, 0.6510, 0.6784, 0.6235, 0.7020, 0.6510, 0.6275, 0.6824, 0.6549,\n",
       "         0.6353, 0.6510, 0.5020, 0.0000, 0.0078, 0.0000, 0.0000, 0.0000, 0.0000,\n",
       "         0.0000, 0.0000, 0.0000, 0.0000, 0.0000, 0.0000, 0.0118, 0.0000, 0.0706,\n",
       "         0.5961, 0.6784, 0.6275, 0.7020, 0.6039, 0.7098, 0.6510, 0.6431, 0.6863,\n",
       "         0.6667, 0.6510, 0.6667, 0.6431, 0.0000, 0.0000, 0.0039, 0.0000, 0.0000,\n",
       "         0.0000, 0.0000, 0.0000, 0.0000, 0.0000, 0.0000, 0.0000, 0.0157, 0.0000,\n",
       "         0.1843, 0.6471, 0.6745, 0.6549, 0.7255, 0.6000, 0.7333, 0.6784, 0.6471,\n",
       "         0.6824, 0.7020, 0.6510, 0.6510, 0.6196, 0.0196, 0.0000, 0.0118, 0.0000,\n",
       "         0.0000, 0.0000, 0.0000, 0.0000, 0.0000, 0.0000, 0.0000, 0.0000, 0.0157,\n",
       "         0.0000, 0.3412, 0.7059, 0.6353, 0.7020, 0.7020, 0.6157, 0.7490, 0.7137,\n",
       "         0.6471, 0.6588, 0.7451, 0.6784, 0.6471, 0.6510, 0.0784, 0.0000, 0.0157,\n",
       "         0.0000, 0.0000, 0.0000, 0.0000, 0.0000, 0.0000, 0.0000, 0.0000, 0.0000,\n",
       "         0.0157, 0.0000, 0.4118, 0.7333, 0.6157, 0.7608, 0.6863, 0.6314, 0.7451,\n",
       "         0.7216, 0.6667, 0.6196, 0.8039, 0.6941, 0.6588, 0.6706, 0.1725, 0.0000,\n",
       "         0.0157, 0.0000, 0.0000, 0.0000, 0.0000, 0.0000, 0.0000, 0.0000, 0.0000,\n",
       "         0.0000, 0.0196, 0.0000, 0.5412, 0.7098, 0.6196, 0.8039, 0.6275, 0.6549,\n",
       "         0.7451, 0.7765, 0.6549, 0.5961, 0.8549, 0.7294, 0.6667, 0.6745, 0.2235,\n",
       "         0.0000, 0.0196, 0.0000, 0.0000, 0.0000, 0.0000, 0.0000, 0.0000, 0.0000,\n",
       "         0.0000, 0.0000, 0.0196, 0.0000, 0.5294, 0.6824, 0.6549, 0.7804, 0.6078,\n",
       "         0.6510, 0.7882, 0.8588, 0.6471, 0.6196, 0.8549, 0.7373, 0.6549, 0.6863,\n",
       "         0.2196, 0.0000, 0.0275, 0.0000, 0.0000, 0.0000, 0.0000, 0.0000, 0.0000,\n",
       "         0.0000, 0.0000, 0.0000, 0.0196, 0.0000, 0.5059, 0.6706, 0.6745, 0.6941,\n",
       "         0.6000, 0.6235, 0.8078, 0.8471, 0.5804, 0.6157, 0.8078, 0.7451, 0.6471,\n",
       "         0.6863, 0.1882, 0.0000, 0.0196, 0.0000, 0.0000, 0.0000, 0.0000, 0.0000,\n",
       "         0.0000, 0.0000, 0.0000, 0.0000, 0.0196, 0.0000, 0.6549, 0.7333, 0.7137,\n",
       "         0.7765, 0.7608, 0.7843, 0.8863, 0.9412, 0.7216, 0.8078, 1.0000, 0.7725,\n",
       "         0.6980, 0.7020, 0.1647, 0.0000, 0.0196, 0.0000, 0.0000, 0.0000, 0.0000,\n",
       "         0.0000, 0.0000, 0.0000, 0.0000, 0.0000, 0.0118, 0.0000, 0.4510, 0.5294,\n",
       "         0.4431, 0.4157, 0.3333, 0.3216, 0.4235, 0.5216, 0.3255, 0.3529, 0.4745,\n",
       "         0.4706, 0.4314, 0.6196, 0.0706, 0.0000, 0.0118, 0.0000, 0.0000, 0.0000,\n",
       "         0.0000]])"
      ]
     },
     "execution_count": 29,
     "metadata": {},
     "output_type": "execute_result"
    }
   ],
   "source": [
    "model.flatten(t)"
   ]
  },
  {
   "cell_type": "markdown",
   "id": "88bc33b3-05bd-468a-ae99-cb43addabec3",
   "metadata": {},
   "source": [
    "#### Linear (Affine) Operator"
   ]
  },
  {
   "cell_type": "code",
   "execution_count": 30,
   "id": "ee934035-f1e7-48f9-a739-9afb00f7f1f6",
   "metadata": {},
   "outputs": [
    {
     "data": {
      "text/plain": [
       "Linear(in_features=784, out_features=512, bias=True)"
      ]
     },
     "execution_count": 30,
     "metadata": {},
     "output_type": "execute_result"
    }
   ],
   "source": [
    "model.linear_1"
   ]
  },
  {
   "cell_type": "code",
   "execution_count": 31,
   "id": "ae024a55-01ee-4f98-8f62-0bbb3b4a3e24",
   "metadata": {},
   "outputs": [
    {
     "data": {
      "text/plain": [
       "(Parameter containing:\n",
       " tensor([[-0.7706],\n",
       "         [ 0.3974]], requires_grad=True),\n",
       " Parameter containing:\n",
       " tensor([ 0.8518, -0.4143], requires_grad=True))"
      ]
     },
     "execution_count": 31,
     "metadata": {},
     "output_type": "execute_result"
    }
   ],
   "source": [
    "linop = torch.nn.Linear(1, 2)\n",
    "linop.weight, linop.bias"
   ]
  },
  {
   "cell_type": "code",
   "execution_count": 32,
   "id": "11db755d-f37c-4e7b-bf1f-17683bb27fdb",
   "metadata": {},
   "outputs": [
    {
     "data": {
      "text/plain": [
       "[Parameter containing:\n",
       " tensor([[-0.7706],\n",
       "         [ 0.3974]], requires_grad=True),\n",
       " Parameter containing:\n",
       " tensor([ 0.8518, -0.4143], requires_grad=True)]"
      ]
     },
     "execution_count": 32,
     "metadata": {},
     "output_type": "execute_result"
    }
   ],
   "source": [
    "list(linop.parameters())"
   ]
  },
  {
   "cell_type": "code",
   "execution_count": 33,
   "id": "91e93b82-3007-4db9-9c3a-7e97ae6dd477",
   "metadata": {},
   "outputs": [
    {
     "data": {
      "text/plain": [
       "tensor([0., 1., 2., 3., 4., 5.])"
      ]
     },
     "execution_count": 33,
     "metadata": {},
     "output_type": "execute_result"
    }
   ],
   "source": [
    "input = torch.linspace(0.0, 5.0, 6)\n",
    "input"
   ]
  },
  {
   "cell_type": "code",
   "execution_count": 34,
   "id": "bd0c93ff-e8a5-4544-a089-279c2e3c3b7e",
   "metadata": {},
   "outputs": [],
   "source": [
    "with torch.no_grad():\n",
    "    input_t = input.reshape(1, -1, 1)\n",
    "    output_t = linop(input_t)\n",
    "output = output_t.squeeze()"
   ]
  },
  {
   "cell_type": "code",
   "execution_count": 35,
   "id": "ef6e6ca4-8a66-47cc-81f4-6e7a9d49e15b",
   "metadata": {},
   "outputs": [
    {
     "data": {
      "image/png": "[encoded data removed]",
      "text/plain": [
       "<Figure size 640x480 with 1 Axes>"
      ]
     },
     "metadata": {},
     "output_type": "display_data"
    }
   ],
   "source": [
    "plt.plot(input, output)\n",
    "None"
   ]
  },
  {
   "cell_type": "code",
   "execution_count": 36,
   "id": "00595861-b73c-4fa4-be4b-8f064a41847c",
   "metadata": {},
   "outputs": [
    {
     "data": {
      "text/plain": [
       "True"
      ]
     },
     "execution_count": 36,
     "metadata": {},
     "output_type": "execute_result"
    }
   ],
   "source": [
    "model.linear_1.in_features == 28 * 28"
   ]
  },
  {
   "cell_type": "code",
   "execution_count": 37,
   "id": "2979cd1d-6e33-46b8-b377-a31d9985c734",
   "metadata": {},
   "outputs": [
    {
     "data": {
      "text/plain": [
       "{'weight': tensor([[ 0.0210, -0.0154,  0.0339,  ...,  0.0224, -0.0339, -0.0155],\n",
       "         [ 0.0280,  0.0130, -0.0151,  ..., -0.0192, -0.0073,  0.0151],\n",
       "         [-0.0329, -0.0160,  0.0025,  ...,  0.0269, -0.0198, -0.0071],\n",
       "         ...,\n",
       "         [-0.0168,  0.0145,  0.0017,  ...,  0.0345,  0.0356,  0.0282],\n",
       "         [-0.0032, -0.0066,  0.0123,  ...,  0.0290, -0.0179,  0.0212],\n",
       "         [ 0.0287,  0.0198, -0.0294,  ..., -0.0113, -0.0313, -0.0064]]),\n",
       " 'bias': tensor([ 5.1996e-03, -1.2248e-02,  4.4100e-03,  1.1871e-02, -3.1891e-03,\n",
       "          4.9179e-02,  3.2756e-02,  2.3313e-02, -5.2828e-03, -5.9944e-03,\n",
       "          4.9043e-03,  2.8898e-02, -5.3561e-03,  4.2246e-04, -1.4582e-02,\n",
       "          9.8977e-03, -1.4168e-02, -3.5468e-02,  6.6746e-03, -2.8466e-02,\n",
       "         -3.5134e-02, -3.5082e-02, -1.8402e-03,  1.4411e-02, -9.7980e-03,\n",
       "         -2.7347e-02,  6.5316e-04, -9.9767e-03, -2.4916e-02, -1.1855e-02,\n",
       "          4.0395e-02,  2.6589e-02,  3.7311e-02, -5.5242e-03,  1.0600e-02,\n",
       "          2.8209e-02, -1.9884e-02,  3.6881e-02, -2.1666e-03,  2.9274e-02,\n",
       "         -1.9016e-02,  2.3993e-02, -3.6911e-03,  2.8989e-02, -1.6872e-02,\n",
       "          2.3742e-04, -2.7912e-02,  2.3152e-02,  1.6258e-02, -2.0108e-02,\n",
       "         -2.5470e-02,  4.1311e-02,  5.6850e-03, -5.7859e-03, -5.9786e-03,\n",
       "          3.6803e-03, -7.8120e-03, -3.1662e-02, -2.9370e-02, -9.2392e-03,\n",
       "         -1.3342e-02,  6.2087e-03, -3.0206e-02, -1.2081e-02, -2.3311e-02,\n",
       "         -1.9294e-03, -1.6507e-04, -6.7014e-04, -1.0522e-02, -9.6138e-03,\n",
       "          1.8357e-02,  1.1370e-02,  2.8943e-02,  1.7667e-02,  3.3912e-02,\n",
       "          7.2449e-03, -1.4206e-02,  3.0131e-02,  2.0565e-02, -1.8946e-02,\n",
       "         -1.3087e-02, -2.7674e-02, -4.8146e-04,  1.1699e-02,  2.9786e-03,\n",
       "          2.9530e-02, -1.1748e-02,  2.9065e-03,  4.0171e-02,  2.0694e-02,\n",
       "         -6.0136e-03,  2.9590e-03, -3.5775e-02, -3.2712e-02,  1.4552e-02,\n",
       "          1.1627e-02,  9.8935e-03, -2.8604e-02, -2.0682e-03, -2.7354e-02,\n",
       "          1.9660e-02,  2.5866e-03, -1.4528e-02, -2.1151e-02,  3.9303e-02,\n",
       "          3.5230e-02, -1.8191e-03,  2.7577e-02,  1.7809e-02,  3.2168e-04,\n",
       "          1.9862e-02,  1.0306e-02,  2.8416e-02,  3.1880e-02,  4.6636e-02,\n",
       "          2.5837e-02,  6.5421e-03,  1.3153e-02, -1.1528e-02,  4.3492e-03,\n",
       "         -3.4279e-02, -7.0002e-03,  5.2857e-03,  1.7400e-04, -1.6634e-03,\n",
       "         -2.6108e-02, -3.2901e-02, -1.0067e-02,  2.6677e-02, -1.8601e-04,\n",
       "          1.8809e-02,  1.9188e-02, -1.7417e-02, -1.7206e-02,  5.6551e-03,\n",
       "          2.1870e-02, -2.7132e-02, -2.0710e-03, -1.0882e-02,  1.4119e-02,\n",
       "          2.1131e-02, -1.4852e-02,  5.5591e-03, -1.6403e-02, -2.3760e-02,\n",
       "         -2.1843e-02, -3.1571e-02,  1.1736e-02,  5.6313e-03, -2.6339e-02,\n",
       "          2.3846e-02,  4.1823e-02,  1.7470e-02,  1.5367e-02, -3.1117e-02,\n",
       "         -1.6428e-02,  1.5483e-02,  1.2773e-02,  1.5684e-02,  2.4073e-02,\n",
       "          2.4926e-02, -1.6627e-02,  2.5911e-02,  5.1119e-03, -2.8012e-02,\n",
       "         -2.8490e-02, -4.6556e-03,  7.0854e-03,  1.5770e-02, -1.9362e-02,\n",
       "          2.7200e-02, -2.9216e-02,  3.9772e-02,  1.2068e-02, -3.2281e-02,\n",
       "         -2.5992e-02,  5.2582e-03, -8.4505e-03, -2.4675e-02, -2.3439e-02,\n",
       "         -1.5014e-04,  4.4733e-03,  1.0422e-02,  5.0830e-02, -1.3879e-02,\n",
       "         -2.8433e-03,  2.2452e-02,  1.7761e-02, -3.3638e-03,  1.9108e-02,\n",
       "          1.9612e-02,  1.6586e-02, -2.9887e-02, -7.4290e-03,  3.3011e-02,\n",
       "         -9.3157e-03, -3.7647e-02,  3.7562e-02,  8.1232e-03, -1.4048e-03,\n",
       "         -1.6182e-02,  2.3442e-04, -4.2168e-03,  1.2234e-02, -1.6393e-02,\n",
       "          2.1951e-03, -4.8695e-03,  8.9473e-03,  9.9069e-03, -2.6066e-02,\n",
       "          2.0196e-02,  3.9156e-02,  1.3794e-02,  3.6058e-02, -2.6906e-02,\n",
       "         -2.8435e-03, -3.2006e-02, -3.0946e-02,  1.8483e-02, -1.8555e-02,\n",
       "          3.0227e-02,  2.1356e-02,  2.2778e-02, -6.3075e-03, -1.5698e-02,\n",
       "          4.1606e-03,  3.3261e-02, -1.8970e-02,  2.5446e-02, -1.4441e-02,\n",
       "         -3.3427e-02, -1.5350e-03, -2.0415e-02, -6.4218e-03,  3.9271e-02,\n",
       "          1.4117e-02,  1.5613e-02, -5.5651e-03, -4.2714e-03,  2.5582e-02,\n",
       "          1.1065e-02,  4.2322e-02,  8.0404e-03, -3.5706e-02, -2.3039e-02,\n",
       "          1.6542e-02,  2.8538e-02,  2.9107e-03, -2.2444e-02, -3.0439e-02,\n",
       "         -1.7496e-02,  9.8090e-03, -8.3700e-03, -2.3973e-02, -1.2916e-02,\n",
       "          2.1166e-02,  1.6863e-03, -1.2486e-02,  1.1738e-02,  1.9366e-02,\n",
       "         -1.4543e-02,  5.2350e-02, -2.3832e-02,  2.3151e-02,  5.8131e-04,\n",
       "         -2.6932e-02, -1.4854e-02,  2.0054e-03, -2.3951e-02,  3.7465e-02,\n",
       "          2.2432e-02,  1.5086e-02,  2.9996e-02, -2.4735e-04,  1.0561e-02,\n",
       "          1.6394e-03,  1.6966e-02,  1.5241e-02,  6.2306e-03, -1.5143e-02,\n",
       "         -1.0317e-03, -2.2883e-02,  3.2455e-02, -2.0294e-02,  2.9956e-02,\n",
       "         -2.4377e-02, -4.2123e-03, -6.0031e-03,  2.5635e-02,  2.9418e-02,\n",
       "          2.6821e-02,  2.1135e-02, -3.2527e-02,  2.2121e-02,  2.0624e-02,\n",
       "         -1.3800e-02,  2.5687e-02,  2.3434e-02,  1.4334e-02,  4.7747e-02,\n",
       "          2.3070e-02,  2.6612e-02,  1.4934e-02, -1.7785e-02, -3.0095e-02,\n",
       "          3.7325e-03, -9.6349e-03,  1.3876e-02,  1.1686e-02, -2.3348e-03,\n",
       "         -2.0125e-02,  7.1479e-03,  3.1920e-03,  3.4536e-02, -3.3340e-02,\n",
       "          2.5131e-02,  1.2030e-02, -2.4476e-02, -2.0246e-02, -2.8208e-02,\n",
       "          3.8259e-02,  3.4246e-03,  3.1065e-02, -3.4363e-02,  2.1969e-02,\n",
       "          3.2623e-02,  4.0301e-03, -2.9798e-02, -1.0625e-02,  4.1450e-02,\n",
       "          2.4146e-02, -8.7858e-03,  3.0018e-02,  1.9609e-02,  2.6565e-02,\n",
       "          1.2907e-03,  3.7770e-02, -1.0647e-02, -1.3644e-03,  2.5652e-02,\n",
       "          2.1088e-02,  3.6410e-02,  4.1781e-03,  2.0582e-02,  3.1033e-03,\n",
       "         -4.2809e-03, -3.7645e-02,  1.2104e-02,  1.5173e-02,  1.9766e-02,\n",
       "          2.2536e-02,  1.1153e-02,  2.9245e-02,  3.1503e-02, -3.7245e-03,\n",
       "         -5.8222e-03, -1.2864e-03,  2.5761e-03, -7.3480e-03,  4.0142e-02,\n",
       "         -1.0161e-02,  5.6027e-03,  1.4945e-02, -1.8371e-02,  1.9202e-02,\n",
       "          3.2426e-02,  2.5368e-02,  2.5378e-02,  1.5851e-02,  2.9188e-02,\n",
       "          2.6401e-02, -2.9739e-02, -2.4226e-02,  1.6314e-02, -9.6601e-04,\n",
       "          1.7475e-02,  2.0729e-02,  1.6298e-02, -9.6999e-03,  3.7639e-02,\n",
       "          3.5139e-02, -3.1615e-02,  2.3650e-02, -2.9803e-02, -2.8709e-02,\n",
       "         -2.0390e-02,  2.4727e-02, -2.0335e-02,  6.3035e-03, -3.7138e-03,\n",
       "          1.1662e-02,  3.5312e-02, -4.3487e-03, -3.3111e-02, -3.5544e-03,\n",
       "          1.7066e-02,  1.0198e-02,  3.2979e-02,  1.4835e-03, -2.6728e-02,\n",
       "          5.4352e-03,  3.6634e-03, -1.6951e-02, -2.6967e-02, -2.3826e-02,\n",
       "          3.4140e-02,  4.2221e-02,  2.0627e-02,  3.4727e-03, -6.7145e-03,\n",
       "         -2.8350e-02,  9.4258e-03,  3.0749e-02,  2.1333e-02,  9.4543e-04,\n",
       "         -2.2074e-02, -1.5425e-02,  3.5366e-03,  1.9334e-02,  3.9650e-02,\n",
       "         -1.2050e-02, -2.5897e-02,  8.9794e-03,  1.4370e-02,  4.3260e-02,\n",
       "         -1.9869e-02,  2.3218e-02, -3.1356e-02, -3.7859e-02, -1.9858e-02,\n",
       "          1.6638e-02,  2.9427e-02,  3.5412e-02, -1.0609e-02,  3.1528e-02,\n",
       "         -1.3327e-02, -2.2071e-02,  5.6120e-03, -1.9961e-02,  1.9989e-02,\n",
       "          2.4382e-02, -2.8854e-02, -1.6319e-02,  3.9182e-02,  1.0773e-02,\n",
       "         -7.9656e-03, -1.7369e-02, -3.6042e-02, -5.7796e-03, -1.9752e-02,\n",
       "         -4.9186e-03,  1.6576e-02, -1.4954e-02,  9.7477e-03,  1.3331e-02,\n",
       "         -9.5227e-03, -3.1258e-02,  1.3949e-02,  3.1552e-02,  4.7041e-02,\n",
       "         -1.0713e-02,  3.5737e-02,  2.6843e-02,  6.0541e-03,  1.1864e-02,\n",
       "          3.0006e-02,  4.9070e-02,  2.3250e-02,  3.5849e-02, -3.8514e-03,\n",
       "          2.9318e-02,  2.3661e-02,  1.8500e-02, -1.0601e-02,  2.8194e-02,\n",
       "          1.3762e-02, -1.4331e-02, -2.6029e-02,  3.6547e-03,  3.3701e-02,\n",
       "         -2.5494e-02,  2.2604e-02,  4.3074e-02,  4.1346e-02, -8.0111e-03,\n",
       "          2.7471e-02,  1.0827e-02, -1.1497e-02, -2.5690e-02,  1.8147e-02,\n",
       "          2.2300e-02,  3.0846e-02, -5.0201e-05,  1.9268e-02, -1.6960e-02,\n",
       "          8.8946e-03, -2.3278e-02,  1.6071e-02, -1.9934e-02,  3.7182e-02,\n",
       "          1.6051e-02,  2.5872e-02,  1.5817e-03, -7.5347e-03,  3.8396e-02,\n",
       "          3.5316e-02, -6.6430e-03, -2.1133e-02, -1.5145e-02,  3.1527e-02,\n",
       "          2.6337e-02,  2.2130e-03])}"
      ]
     },
     "execution_count": 37,
     "metadata": {},
     "output_type": "execute_result"
    }
   ],
   "source": [
    "linear_1_params = {name: param.data for name, param in model.linear_1.named_parameters()}\n",
    "linear_1_params"
   ]
  },
  {
   "cell_type": "code",
   "execution_count": 38,
   "id": "ee77d92a-bba8-4333-8e1b-45077702a60f",
   "metadata": {},
   "outputs": [
    {
     "data": {
      "text/plain": [
       "torch.Size([512])"
      ]
     },
     "execution_count": 38,
     "metadata": {},
     "output_type": "execute_result"
    }
   ],
   "source": [
    "b1 = linear_1_params[\"bias\"]\n",
    "b1.shape"
   ]
  },
  {
   "cell_type": "code",
   "execution_count": 39,
   "id": "ef506f6e-9bb6-4d46-b392-96657feec93a",
   "metadata": {},
   "outputs": [
    {
     "data": {
      "text/plain": [
       "torch.Size([512, 784])"
      ]
     },
     "execution_count": 39,
     "metadata": {},
     "output_type": "execute_result"
    }
   ],
   "source": [
    "A1 = linear_1_params[\"weight\"]\n",
    "A1.shape"
   ]
  },
  {
   "cell_type": "code",
   "execution_count": 40,
   "id": "05e03e0a-2832-4e12-9cf8-2aa92a52dc8b",
   "metadata": {},
   "outputs": [
    {
     "name": "stdout",
     "output_type": "stream",
     "text": [
      "torch.Size([1, 28, 28])\n",
      "torch.Size([784])\n"
     ]
    },
    {
     "data": {
      "text/plain": [
       "tensor([ 1.2753e+00,  1.7261e-01,  5.7750e-01, -1.8951e-01,  1.4259e-01,\n",
       "        -4.6056e-01,  1.5670e-01,  1.3942e+00,  2.3812e+00,  8.1123e-01,\n",
       "         7.0818e-02,  5.4133e-01,  1.0190e+00, -2.3497e-01,  1.1801e+00,\n",
       "         9.3983e-01,  1.4187e+00,  4.1639e-01,  5.0212e-03,  3.5274e-01,\n",
       "        -3.9269e-01, -1.6285e-02,  9.9271e-01,  5.3397e-01,  1.9273e-01,\n",
       "         8.9256e-01, -2.9343e-01,  6.2997e-01,  9.2869e-01, -1.9725e-01,\n",
       "         3.8994e-02,  9.6505e-01,  2.1893e-01, -2.0546e-01,  4.3654e-01,\n",
       "        -3.0981e-01,  6.9837e-02,  7.5683e-01, -2.6560e-01,  8.7648e-01,\n",
       "        -5.1410e-01, -2.0449e-01,  1.5443e-01, -7.3682e-03,  1.4203e+00,\n",
       "         1.4900e-01, -3.9682e-01,  3.9538e-01,  1.3069e+00,  3.3200e-01,\n",
       "         3.8335e-02,  4.5694e-01,  1.0959e-01,  4.9426e-02, -3.1034e-01,\n",
       "         1.6909e-01,  1.2426e+00, -5.4579e-01,  7.2437e-01, -1.4972e-01,\n",
       "        -3.2900e-01,  3.3249e-01,  1.1870e+00,  9.1934e-01,  2.6001e-01,\n",
       "        -2.5835e-02,  2.4629e-01, -9.7872e-02,  4.9803e-01, -3.3102e-01,\n",
       "        -6.6774e-01, -1.2771e-01,  8.0609e-02, -2.7599e-01,  2.5935e-01,\n",
       "         1.0485e+00,  6.5278e-01,  5.8382e-01,  9.2853e-01,  5.9899e-02,\n",
       "        -5.4309e-01, -2.1204e-03, -1.4127e-01,  1.0165e+00, -2.7954e-01,\n",
       "         1.1057e+00, -4.5328e-01,  7.8266e-01,  5.3942e-01, -7.6964e-01,\n",
       "         3.0916e-02, -1.3670e-01, -4.1907e-01, -1.0229e-01, -5.1592e-01,\n",
       "         1.5050e-01,  3.6916e-02, -5.4267e-01,  3.2808e-01,  8.4722e-01,\n",
       "        -8.5742e-03,  3.0703e-01,  2.6699e-02,  3.8212e-01,  3.2405e-01,\n",
       "         8.4829e-01,  3.9469e-01,  2.9151e-01,  7.3371e-01,  8.6757e-01,\n",
       "         9.1341e-01,  8.5819e-01, -5.5559e-01,  1.1661e+00, -4.1183e-02,\n",
       "         1.9282e+00, -3.0747e-01, -2.6978e-01,  1.3327e+00, -4.5580e-01,\n",
       "        -3.5404e-01, -1.5418e-02,  3.5056e-01,  9.9651e-01,  1.8965e-01,\n",
       "        -9.8731e-02, -3.6062e-01, -5.0012e-02, -2.1149e-01,  5.9670e-01,\n",
       "         1.5087e-01,  4.0009e-01,  1.2954e+00,  4.4739e-01,  3.6538e-01,\n",
       "        -2.9467e-01, -2.5348e-01,  5.1394e-01,  2.3272e-01,  5.8961e-01,\n",
       "        -2.0530e-01,  1.4089e+00,  6.4233e-01,  1.8260e+00,  8.1062e-02,\n",
       "         9.6998e-01,  2.1080e+00, -4.8300e-01, -1.5521e-01,  4.5860e-01,\n",
       "         4.0419e-01,  1.4384e-01,  2.5952e-01, -1.1649e-01,  4.6340e-01,\n",
       "        -4.9135e-04,  1.7458e-01,  5.3677e-01,  3.1595e-01, -3.4009e-01,\n",
       "         1.5963e-01,  1.1439e+00, -4.5556e-01,  1.2695e+00,  1.2765e-01,\n",
       "         1.1962e+00,  1.6676e-02,  4.6510e-01,  1.5620e-01,  3.9312e-01,\n",
       "         2.9986e-01,  3.2988e+00,  8.3294e-02,  1.4111e+00, -7.0600e-02,\n",
       "         3.5237e-01,  8.7025e-02,  7.4630e-01, -1.8480e-01,  7.0259e-01,\n",
       "         3.6964e-01, -2.5085e-01,  7.5797e-01,  1.2436e+00,  6.3301e-01,\n",
       "         3.3391e-01,  1.0153e-01,  8.7755e-01, -2.3038e-01,  8.0938e-01,\n",
       "         1.0274e-01, -3.0352e-01, -3.9877e-01,  4.3291e-01, -3.0966e-01,\n",
       "        -6.1638e-01, -1.9796e-01,  7.2486e-02, -7.0804e-01,  1.1288e+00,\n",
       "         1.1404e+00,  1.3411e+00,  7.1476e-01,  1.9169e-01,  4.3813e-01,\n",
       "         3.9641e-02, -4.7454e-01, -1.4031e-01,  5.4988e-01, -5.3627e-01,\n",
       "         8.4597e-01,  8.8501e-02, -7.8563e-02,  1.4393e-01,  1.0974e-01,\n",
       "         2.7413e-01, -2.5799e-01,  2.8050e-01, -2.0508e-01, -1.7903e-01,\n",
       "         1.4285e-01, -1.0490e-01,  8.5651e-01, -2.4668e-01,  6.4780e-01,\n",
       "         2.0661e-01,  6.9878e-01,  3.8683e-01,  1.0420e+00,  2.6164e-01,\n",
       "        -2.7034e-01,  1.1792e+00, -4.9944e-01, -2.5420e-01,  5.5632e-01,\n",
       "         9.6756e-02,  3.8953e-01,  2.6081e-01, -3.4860e-01, -3.0942e-02,\n",
       "         1.2973e-01,  2.4928e-01, -9.1545e-02,  1.9732e+00,  6.1716e-01,\n",
       "        -6.7348e-01,  2.6034e-01,  1.7595e-01,  4.4080e-01,  1.5545e+00,\n",
       "         1.6424e-01,  1.2799e+00, -1.7871e-01, -5.1517e-01, -3.8349e-01,\n",
       "         6.8709e-01,  1.4426e+00,  6.6271e-01,  3.2026e-01,  4.5338e-01,\n",
       "         1.1317e+00,  4.7565e-01,  2.5416e-01,  3.5624e-01,  2.5054e-01,\n",
       "        -3.0835e-01,  6.2359e-01,  9.2516e-02,  8.3851e-01,  3.2959e-01,\n",
       "         2.3642e-01,  2.5928e-01,  1.2577e+00,  3.1388e+00,  1.2354e+00,\n",
       "         1.4308e-01,  4.8827e-01,  5.2378e-01,  1.0240e-01, -2.3934e-01,\n",
       "         1.9628e-01, -1.3686e-01,  5.0952e-02, -6.2304e-02,  1.4884e+00,\n",
       "         3.1499e-01,  2.2050e+00,  2.2864e-01, -7.0286e-02,  4.8174e-01,\n",
       "        -3.0778e-01, -3.9683e-01, -4.6422e-01, -1.9800e-01,  8.2951e-01,\n",
       "        -4.3648e-01,  7.2849e-01, -2.8118e-01,  1.3426e+00, -2.3160e-01,\n",
       "         2.4385e-01,  1.9045e-01,  1.0717e+00,  7.2728e-01,  1.8344e-01,\n",
       "         1.4372e+00,  2.5297e-01,  4.8470e-01,  9.7531e-01,  7.8488e-01,\n",
       "         1.2257e-01,  1.6950e+00, -2.5534e-01,  1.3597e+00,  8.2702e-02,\n",
       "         8.5141e-01, -1.9435e-01,  6.1936e-02,  5.3253e-01,  1.8779e-01,\n",
       "         7.4619e-01, -4.0438e-01,  6.3557e-02,  1.9884e+00, -4.0685e-01,\n",
       "         5.4570e-02,  1.8968e-01,  5.4929e-01,  4.2520e-02,  5.5151e-01,\n",
       "         5.2769e-01,  8.3274e-01,  1.6271e-01, -2.6117e-01, -4.8887e-01,\n",
       "         7.4063e-01,  4.8094e-01, -2.3756e-01,  2.7821e-01, -2.1501e-01,\n",
       "         5.0654e-01,  2.3667e+00,  4.9475e-01,  1.1510e+00, -6.0736e-02,\n",
       "         1.8161e+00,  6.9872e-01,  2.2199e-01,  1.3804e+00, -3.9186e-01,\n",
       "         9.8698e-01, -3.3514e-01, -2.3335e-01, -3.1682e-01,  2.7081e-01,\n",
       "         7.4857e-01,  1.4136e-01,  1.3825e-01,  1.2556e+00,  1.5394e+00,\n",
       "        -7.5263e-01,  1.6137e+00, -3.3657e-01,  8.4952e-01,  6.7593e-01,\n",
       "         5.5774e-02,  4.9569e-02, -1.6607e-01, -4.8775e-01,  7.7125e-02,\n",
       "         6.4724e-01,  1.9873e+00, -4.1487e-01,  1.8421e+00,  9.1830e-02,\n",
       "         4.5328e-01, -5.6084e-02, -4.2625e-01, -5.2913e-01, -3.1232e-01,\n",
       "         4.9223e-01, -5.1071e-01,  4.0566e-01,  3.7728e-01, -5.3799e-01,\n",
       "         7.1876e-01,  5.7964e-01,  6.3757e-02, -1.3523e-01,  6.3101e-01,\n",
       "         6.5986e-01,  2.6181e-01,  6.1712e-01, -1.6277e-01,  1.4661e+00,\n",
       "         6.3015e-01,  2.2955e-01,  9.5471e-01,  8.7399e-02,  1.2493e+00,\n",
       "         1.1294e+00,  3.3583e-01,  8.5193e-01, -4.6405e-01,  1.2947e+00,\n",
       "        -1.8027e-01,  1.1019e+00,  5.4286e-01,  9.4874e-01,  1.1871e+00,\n",
       "         1.5735e-01,  1.3527e-01,  1.4533e-01,  1.0782e+00,  1.8073e-01,\n",
       "        -2.9675e-01,  9.8022e-01,  6.2189e-01, -2.3698e-03,  2.9703e-01,\n",
       "         7.0243e-01,  6.2412e-01,  6.1564e-02,  3.2181e-01,  2.3335e-01,\n",
       "         1.0087e+00,  7.8318e-02, -2.3212e-01,  8.5081e-01, -2.3047e-01,\n",
       "         1.7609e-01,  8.3208e-01,  1.2242e-01, -2.7825e-01,  1.4440e-01,\n",
       "         1.1374e+00,  1.1188e+00,  2.5891e-01,  5.1066e-01,  4.0259e-01,\n",
       "         5.7097e-02,  9.4139e-01,  1.0694e+00,  4.9597e-01, -3.2999e-01,\n",
       "         7.9562e-01,  1.0500e+00, -2.7755e-03,  7.5011e-01, -1.3076e-02,\n",
       "         3.8324e-01,  5.7912e-02,  1.1182e+00, -2.7850e-01,  5.5137e-02,\n",
       "         4.9985e-01,  9.8824e-01, -2.0725e-01, -3.2423e-01,  9.2793e-01,\n",
       "        -3.8485e-01,  1.4174e-01,  2.8486e-01, -7.2355e-02,  3.9469e-01,\n",
       "         5.2511e-01,  6.0446e-03,  1.0906e-01,  1.0904e-01,  7.8350e-01,\n",
       "         1.6095e-01,  2.1872e+00, -5.9998e-02,  1.2229e-01,  3.0714e-01,\n",
       "         9.9551e-02, -9.9950e-02,  4.0889e-01, -4.4395e-01,  7.0097e-01,\n",
       "         2.1438e+00,  1.0215e+00,  1.1730e+00,  4.3529e-01,  2.8234e-01,\n",
       "         9.0109e-01,  6.2156e-01,  1.0615e-01, -2.4645e-01,  2.6338e-01,\n",
       "        -6.6993e-01,  1.4874e-01,  3.0246e-01, -2.1385e-01,  2.5833e-02,\n",
       "        -2.8217e-01,  5.6689e-01, -3.6004e-01,  1.0773e+00,  3.8464e-01,\n",
       "         7.8140e-01,  1.0285e-01,  1.5008e+00,  1.2059e+00, -1.1656e-01,\n",
       "        -3.8528e-01,  7.8317e-01,  4.2207e-01,  5.8205e-01,  1.1938e+00,\n",
       "         1.0548e+00,  2.0832e-01])"
      ]
     },
     "execution_count": 40,
     "metadata": {},
     "output_type": "execute_result"
    }
   ],
   "source": [
    "t = image\n",
    "print(t.shape)\n",
    "tf = torch.flatten(t)\n",
    "print(tf.shape)\n",
    "x1 = A1 @ tf + b1\n",
    "x1"
   ]
  },
  {
   "cell_type": "code",
   "execution_count": 41,
   "id": "eef79420-20fe-4b46-852b-b636ab66d32a",
   "metadata": {},
   "outputs": [
    {
     "data": {
      "image/png": "[encoded data removed]",
      "text/plain": [
       "<Figure size 640x480 with 2 Axes>"
      ]
     },
     "metadata": {},
     "output_type": "display_data"
    }
   ],
   "source": [
    "plt.imshow(x1.reshape((2**5, 2**4)))\n",
    "plt.grid(False)\n",
    "plt.colorbar()\n",
    "None"
   ]
  },
  {
   "cell_type": "markdown",
   "id": "f62c9b26-943d-4ca4-ac43-4b8b12653cca",
   "metadata": {},
   "source": [
    "### Rectified Linear Unit"
   ]
  },
  {
   "cell_type": "code",
   "execution_count": 42,
   "id": "63cb057b-6815-46c0-928b-4bcdd9771fbf",
   "metadata": {},
   "outputs": [
    {
     "data": {
      "text/plain": [
       "tensor([1.2753, 0.1726, 0.5775, 0.0000, 0.1426, 0.0000, 0.1567, 1.3942, 2.3812,\n",
       "        0.8112, 0.0708, 0.5413, 1.0190, 0.0000, 1.1801, 0.9398, 1.4187, 0.4164,\n",
       "        0.0050, 0.3527, 0.0000, 0.0000, 0.9927, 0.5340, 0.1927, 0.8926, 0.0000,\n",
       "        0.6300, 0.9287, 0.0000, 0.0390, 0.9650, 0.2189, 0.0000, 0.4365, 0.0000,\n",
       "        0.0698, 0.7568, 0.0000, 0.8765, 0.0000, 0.0000, 0.1544, 0.0000, 1.4203,\n",
       "        0.1490, 0.0000, 0.3954, 1.3069, 0.3320, 0.0383, 0.4569, 0.1096, 0.0494,\n",
       "        0.0000, 0.1691, 1.2426, 0.0000, 0.7244, 0.0000, 0.0000, 0.3325, 1.1870,\n",
       "        0.9193, 0.2600, 0.0000, 0.2463, 0.0000, 0.4980, 0.0000, 0.0000, 0.0000,\n",
       "        0.0806, 0.0000, 0.2593, 1.0485, 0.6528, 0.5838, 0.9285, 0.0599, 0.0000,\n",
       "        0.0000, 0.0000, 1.0165, 0.0000, 1.1057, 0.0000, 0.7827, 0.5394, 0.0000,\n",
       "        0.0309, 0.0000, 0.0000, 0.0000, 0.0000, 0.1505, 0.0369, 0.0000, 0.3281,\n",
       "        0.8472, 0.0000, 0.3070, 0.0267, 0.3821, 0.3240, 0.8483, 0.3947, 0.2915,\n",
       "        0.7337, 0.8676, 0.9134, 0.8582, 0.0000, 1.1661, 0.0000, 1.9282, 0.0000,\n",
       "        0.0000, 1.3327, 0.0000, 0.0000, 0.0000, 0.3506, 0.9965, 0.1897, 0.0000,\n",
       "        0.0000, 0.0000, 0.0000, 0.5967, 0.1509, 0.4001, 1.2954, 0.4474, 0.3654,\n",
       "        0.0000, 0.0000, 0.5139, 0.2327, 0.5896, 0.0000, 1.4089, 0.6423, 1.8260,\n",
       "        0.0811, 0.9700, 2.1080, 0.0000, 0.0000, 0.4586, 0.4042, 0.1438, 0.2595,\n",
       "        0.0000, 0.4634, 0.0000, 0.1746, 0.5368, 0.3160, 0.0000, 0.1596, 1.1439,\n",
       "        0.0000, 1.2695, 0.1277, 1.1962, 0.0167, 0.4651, 0.1562, 0.3931, 0.2999,\n",
       "        3.2988, 0.0833, 1.4111, 0.0000, 0.3524, 0.0870, 0.7463, 0.0000, 0.7026,\n",
       "        0.3696, 0.0000, 0.7580, 1.2436, 0.6330, 0.3339, 0.1015, 0.8776, 0.0000,\n",
       "        0.8094, 0.1027, 0.0000, 0.0000, 0.4329, 0.0000, 0.0000, 0.0000, 0.0725,\n",
       "        0.0000, 1.1288, 1.1404, 1.3411, 0.7148, 0.1917, 0.4381, 0.0396, 0.0000,\n",
       "        0.0000, 0.5499, 0.0000, 0.8460, 0.0885, 0.0000, 0.1439, 0.1097, 0.2741,\n",
       "        0.0000, 0.2805, 0.0000, 0.0000, 0.1429, 0.0000, 0.8565, 0.0000, 0.6478,\n",
       "        0.2066, 0.6988, 0.3868, 1.0420, 0.2616, 0.0000, 1.1792, 0.0000, 0.0000,\n",
       "        0.5563, 0.0968, 0.3895, 0.2608, 0.0000, 0.0000, 0.1297, 0.2493, 0.0000,\n",
       "        1.9732, 0.6172, 0.0000, 0.2603, 0.1760, 0.4408, 1.5545, 0.1642, 1.2799,\n",
       "        0.0000, 0.0000, 0.0000, 0.6871, 1.4426, 0.6627, 0.3203, 0.4534, 1.1317,\n",
       "        0.4756, 0.2542, 0.3562, 0.2505, 0.0000, 0.6236, 0.0925, 0.8385, 0.3296,\n",
       "        0.2364, 0.2593, 1.2577, 3.1388, 1.2354, 0.1431, 0.4883, 0.5238, 0.1024,\n",
       "        0.0000, 0.1963, 0.0000, 0.0510, 0.0000, 1.4884, 0.3150, 2.2050, 0.2286,\n",
       "        0.0000, 0.4817, 0.0000, 0.0000, 0.0000, 0.0000, 0.8295, 0.0000, 0.7285,\n",
       "        0.0000, 1.3426, 0.0000, 0.2439, 0.1905, 1.0717, 0.7273, 0.1834, 1.4372,\n",
       "        0.2530, 0.4847, 0.9753, 0.7849, 0.1226, 1.6950, 0.0000, 1.3597, 0.0827,\n",
       "        0.8514, 0.0000, 0.0619, 0.5325, 0.1878, 0.7462, 0.0000, 0.0636, 1.9884,\n",
       "        0.0000, 0.0546, 0.1897, 0.5493, 0.0425, 0.5515, 0.5277, 0.8327, 0.1627,\n",
       "        0.0000, 0.0000, 0.7406, 0.4809, 0.0000, 0.2782, 0.0000, 0.5065, 2.3667,\n",
       "        0.4948, 1.1510, 0.0000, 1.8161, 0.6987, 0.2220, 1.3804, 0.0000, 0.9870,\n",
       "        0.0000, 0.0000, 0.0000, 0.2708, 0.7486, 0.1414, 0.1382, 1.2556, 1.5394,\n",
       "        0.0000, 1.6137, 0.0000, 0.8495, 0.6759, 0.0558, 0.0496, 0.0000, 0.0000,\n",
       "        0.0771, 0.6472, 1.9873, 0.0000, 1.8421, 0.0918, 0.4533, 0.0000, 0.0000,\n",
       "        0.0000, 0.0000, 0.4922, 0.0000, 0.4057, 0.3773, 0.0000, 0.7188, 0.5796,\n",
       "        0.0638, 0.0000, 0.6310, 0.6599, 0.2618, 0.6171, 0.0000, 1.4661, 0.6301,\n",
       "        0.2296, 0.9547, 0.0874, 1.2493, 1.1294, 0.3358, 0.8519, 0.0000, 1.2947,\n",
       "        0.0000, 1.1019, 0.5429, 0.9487, 1.1871, 0.1574, 0.1353, 0.1453, 1.0782,\n",
       "        0.1807, 0.0000, 0.9802, 0.6219, 0.0000, 0.2970, 0.7024, 0.6241, 0.0616,\n",
       "        0.3218, 0.2333, 1.0087, 0.0783, 0.0000, 0.8508, 0.0000, 0.1761, 0.8321,\n",
       "        0.1224, 0.0000, 0.1444, 1.1374, 1.1188, 0.2589, 0.5107, 0.4026, 0.0571,\n",
       "        0.9414, 1.0694, 0.4960, 0.0000, 0.7956, 1.0500, 0.0000, 0.7501, 0.0000,\n",
       "        0.3832, 0.0579, 1.1182, 0.0000, 0.0551, 0.4998, 0.9882, 0.0000, 0.0000,\n",
       "        0.9279, 0.0000, 0.1417, 0.2849, 0.0000, 0.3947, 0.5251, 0.0060, 0.1091,\n",
       "        0.1090, 0.7835, 0.1610, 2.1872, 0.0000, 0.1223, 0.3071, 0.0996, 0.0000,\n",
       "        0.4089, 0.0000, 0.7010, 2.1438, 1.0215, 1.1730, 0.4353, 0.2823, 0.9011,\n",
       "        0.6216, 0.1061, 0.0000, 0.2634, 0.0000, 0.1487, 0.3025, 0.0000, 0.0258,\n",
       "        0.0000, 0.5669, 0.0000, 1.0773, 0.3846, 0.7814, 0.1028, 1.5008, 1.2059,\n",
       "        0.0000, 0.0000, 0.7832, 0.4221, 0.5820, 1.1938, 1.0548, 0.2083])"
      ]
     },
     "execution_count": 42,
     "metadata": {},
     "output_type": "execute_result"
    }
   ],
   "source": [
    "x1 = model.relu_1(x1)\n",
    "x1"
   ]
  },
  {
   "cell_type": "code",
   "execution_count": 43,
   "id": "56d928fa-75ce-4301-a797-29bacfdb30bd",
   "metadata": {},
   "outputs": [
    {
     "data": {
      "image/png": "[encoded data removed]",
      "text/plain": [
       "<Figure size 640x480 with 1 Axes>"
      ]
     },
     "metadata": {},
     "output_type": "display_data"
    }
   ],
   "source": [
    "relu = torch.nn.ReLU()\n",
    "input = torch.linspace(-3.0, 3.0, 7)\n",
    "relu(input)\n",
    "plt.plot(input, relu(input))\n",
    "plt.axis(\"equal\")\n",
    "None"
   ]
  },
  {
   "cell_type": "code",
   "execution_count": 44,
   "id": "5c5a11e1-f5a2-463d-a7e3-4285718e2275",
   "metadata": {},
   "outputs": [
    {
     "data": {
      "image/png": "[encoded data removed]",
      "text/plain": [
       "<Figure size 640x480 with 2 Axes>"
      ]
     },
     "metadata": {},
     "output_type": "display_data"
    }
   ],
   "source": [
    "plt.imshow(x1.reshape((2**5, 2**4)))\n",
    "plt.grid(False)\n",
    "plt.colorbar()\n",
    "None"
   ]
  },
  {
   "cell_type": "code",
   "execution_count": 45,
   "id": "3e1e5c46-52a8-4fe5-a451-999dfe396a68",
   "metadata": {},
   "outputs": [
    {
     "data": {
      "text/plain": [
       "[]"
      ]
     },
     "execution_count": 45,
     "metadata": {},
     "output_type": "execute_result"
    }
   ],
   "source": [
    "list(model.relu_1.named_parameters())"
   ]
  },
  {
   "cell_type": "code",
   "execution_count": 46,
   "id": "02e1c3ad-6fe8-423d-8c18-16d97188cf5c",
   "metadata": {},
   "outputs": [
    {
     "data": {
      "text/plain": [
       "tensor([-7.9539e-01,  2.1546e-02,  1.9713e+00,  1.4763e+00, -3.5817e-01,\n",
       "         7.5895e-01,  9.7568e-01, -1.3362e-01,  1.4724e+00, -2.7975e-01,\n",
       "        -3.9144e-02,  2.3904e-02, -4.7476e-01,  9.1451e-01,  2.7878e-01,\n",
       "         9.3233e-01,  3.0977e-01, -1.1336e-01, -5.7394e-01, -1.6806e-01,\n",
       "         9.1612e-01,  1.6612e+00, -1.0209e-01, -6.0533e-01, -2.5323e-01,\n",
       "        -4.3909e-01,  8.4034e-01, -2.6580e-01, -1.1585e-02,  4.6715e-01,\n",
       "         1.7898e+00,  6.2534e-01,  1.8791e+00, -4.4379e-02,  1.1543e+00,\n",
       "        -1.1992e+00, -3.4764e-01, -3.4264e-01, -9.3844e-01,  3.0672e-01,\n",
       "        -2.6736e-01,  1.9736e+00, -2.7198e-01,  5.6534e-01,  2.4815e+00,\n",
       "        -7.3440e-01,  6.7933e-02,  2.8126e+00,  4.7092e-01, -4.5178e-03,\n",
       "         8.2325e-01,  8.3643e-02,  2.6344e-01,  6.7606e-01,  1.6848e+00,\n",
       "         1.0893e+00, -2.8713e-01,  5.5678e-01,  3.4855e-01,  1.9104e+00,\n",
       "        -2.1610e-01, -1.9732e-01,  5.7363e-01, -3.2604e-01,  2.7407e-01,\n",
       "         2.3188e+00,  8.0152e-01,  2.9947e-01,  4.8399e-01, -2.1192e-01,\n",
       "         1.1652e-01, -5.9434e-01,  9.2053e-01, -2.8118e-01,  2.0992e-01,\n",
       "         2.1000e-02,  4.2868e-01, -3.7987e-01,  6.7420e-01,  3.2934e-01,\n",
       "         6.1121e-02, -6.3081e-01,  4.1617e-01,  1.6129e+00,  3.3605e-01,\n",
       "        -2.9510e-01,  2.3655e-02, -4.6803e-01,  4.7410e-01, -3.5477e-01,\n",
       "        -3.8490e-01, -2.3781e-01,  2.7196e-02,  2.4760e-01,  5.8361e-01,\n",
       "        -4.7312e-02, -6.9279e-01, -5.6051e-01, -5.8370e-01, -5.8412e-01,\n",
       "         4.2944e-01,  9.8313e-01,  3.2633e-01, -1.5757e-01,  1.4701e+00,\n",
       "         7.2629e-01,  1.8821e+00,  1.3746e-01,  2.2799e+00, -5.1134e-01,\n",
       "         7.9059e-01, -2.4260e-01,  4.6018e-01,  5.8515e-01,  4.3882e-01,\n",
       "         1.3041e+00, -4.5024e-01, -5.5675e-01,  8.8737e-02,  7.9728e-02,\n",
       "        -1.0906e-01, -5.1453e-01, -4.8438e-01,  3.0978e-01, -1.9815e-01,\n",
       "         6.0852e-01, -3.6337e-02,  7.7870e-01,  3.6287e-01,  8.2698e-02,\n",
       "         4.0248e-01,  1.0831e+00,  5.9093e-01,  4.4867e-01,  7.2229e-01,\n",
       "        -4.0560e-01, -2.3094e-01,  2.3326e-01,  4.5096e-01,  5.3504e-01,\n",
       "         2.4667e-01,  6.7210e-01,  2.4387e-01, -1.0582e-01, -6.5944e-01,\n",
       "         1.2912e+00,  7.0181e-01,  1.1141e-01,  2.2442e-01,  6.1921e-01,\n",
       "         4.2267e-01,  6.9846e-01, -2.4258e-01,  2.3891e+00, -6.2643e-01,\n",
       "         1.3583e+00, -6.5797e-01,  2.1977e-01, -4.1443e-02,  1.0089e+00,\n",
       "         1.5272e-01, -1.6664e-01, -6.8074e-01,  1.9608e-01,  6.5837e-02,\n",
       "         9.7947e-01, -3.9363e-01,  1.4026e-01, -6.6454e-01,  1.3629e+00,\n",
       "         9.4928e-01, -4.9985e-01,  1.4799e-03, -9.4860e-01,  1.4607e-01,\n",
       "        -3.2015e-02,  5.9697e-01,  1.3381e+00,  1.5532e+00,  1.2277e-01,\n",
       "         3.7224e-01, -2.9305e-01, -1.7549e-01,  1.3764e+00,  5.2222e-01,\n",
       "        -6.0400e-01, -3.5248e-01,  5.8740e-01,  3.4820e-01, -1.2622e-01,\n",
       "         3.9502e-01,  2.0462e-01,  3.4189e-01, -1.7704e-01,  5.9490e-01,\n",
       "        -3.7691e-01, -8.1482e-02, -1.1755e-01,  1.9890e-01,  6.4314e-02,\n",
       "         2.2284e+00,  2.1098e-01,  9.2192e-01,  2.7987e-01,  8.9633e-02,\n",
       "        -4.4987e-01, -4.6949e-01, -1.0854e+00, -9.1711e-01,  1.2284e+00,\n",
       "         4.0920e-01,  6.9735e-01,  5.3829e-01, -5.1365e-01,  7.1777e-02,\n",
       "         1.4789e+00,  5.9076e-01,  8.7063e-01,  7.7220e-01,  9.6866e-01,\n",
       "         1.7539e+00,  4.1817e-01, -7.8002e-01,  1.3364e-01,  8.0804e-01,\n",
       "        -2.9428e-01, -9.1691e-01, -3.2249e-04, -4.3978e-01,  2.3037e+00,\n",
       "        -6.4465e-01, -3.1452e-01, -7.6154e-01, -7.0553e-01,  2.2284e+00,\n",
       "         1.7534e-01, -7.0741e-01,  1.4908e-01, -7.9486e-03,  9.3507e-01,\n",
       "         5.9473e-01,  2.9149e+00,  1.9803e-01,  1.4756e-01,  4.9669e-02,\n",
       "         6.6664e-01, -4.2451e-01,  6.1414e-01,  4.8547e-01,  1.3793e+00,\n",
       "        -8.8546e-02,  1.1748e+00, -3.9874e-01,  1.9057e-01,  5.7873e-01,\n",
       "        -1.6690e-01,  1.3059e+00, -1.1576e-01,  1.1848e+00,  5.3396e-01,\n",
       "         4.6462e-01, -1.7260e-01,  1.4375e+00,  6.9193e-01, -3.3170e-02,\n",
       "         1.7033e+00,  2.3354e+00,  7.0802e-01, -5.6614e-01,  4.1700e-02,\n",
       "         1.2370e-01,  6.2232e-01, -4.4437e-01, -6.5157e-01,  1.9067e-01,\n",
       "         4.0892e-01, -5.9311e-01, -2.1906e-01, -1.8700e-01, -2.4166e-01,\n",
       "        -2.7301e-01,  1.0335e-01,  1.3186e+00, -1.4262e-01,  3.7604e-01,\n",
       "         6.4090e-02,  1.4410e+00,  1.5979e-01, -4.9641e-02,  1.2771e+00,\n",
       "         1.2960e-01,  3.3110e-01,  4.8137e-01,  3.9116e-01, -1.5329e-01,\n",
       "        -5.0343e-01,  1.0626e+00, -1.1427e+00,  1.6242e-01,  4.0648e-01,\n",
       "         5.4297e-01,  1.6769e+00, -1.0998e-01,  1.8449e+00,  5.2753e-01,\n",
       "        -3.3250e-02,  2.6591e-01, -1.2347e-01, -3.8842e-01, -1.0383e-01,\n",
       "        -5.4485e-01,  2.2542e+00, -1.1078e-01, -8.7269e-01,  6.7473e-01,\n",
       "         3.0963e-01,  4.0519e-02, -3.4575e-01, -3.9729e-01,  3.5001e-01,\n",
       "        -4.1867e-01,  1.4559e+00, -3.6089e-01,  4.8279e-01,  1.3393e+00,\n",
       "        -2.8513e-01,  1.9393e+00, -7.4996e-01,  5.6245e-01,  1.5804e+00,\n",
       "         5.0049e-01, -5.9963e-02,  7.0399e-01,  4.2497e-02, -8.5692e-01,\n",
       "         6.8587e-01,  1.7680e-01, -8.5462e-02, -6.9181e-01,  8.1239e-01,\n",
       "         5.4888e-01,  1.1347e-01, -3.3190e-01, -2.7489e-01,  1.1050e+00,\n",
       "         3.7386e-01,  8.5203e-01, -4.4664e-01,  8.3482e-02,  1.7680e+00,\n",
       "         2.1948e-02,  1.0674e+00,  1.6400e+00,  1.2525e+00,  7.0492e-01,\n",
       "        -1.3148e-01,  2.3767e-02,  1.0674e+00, -4.6033e-01,  2.2410e-01,\n",
       "         3.3312e-01,  2.4120e-01,  8.2521e-01, -3.6464e-01,  1.7117e+00,\n",
       "         2.7434e+00,  4.6421e-01, -6.7084e-01, -2.9993e-01,  1.1580e+00,\n",
       "         1.6811e-01,  8.3863e-01,  4.1613e-01,  6.4607e-01,  4.5041e-01,\n",
       "        -2.9560e-01, -1.5128e-01,  4.2663e-01,  9.6257e-01,  2.7755e+00,\n",
       "        -4.6746e-01, -4.0543e-01,  7.3349e-01, -4.9692e-03, -1.7015e-01,\n",
       "         1.7164e-01, -7.1671e-02, -3.7579e-01, -4.1176e-01, -3.0603e-01,\n",
       "         1.3596e-02,  1.4573e+00,  7.6194e-01,  8.8549e-01, -7.3465e-01,\n",
       "        -1.0615e-01,  4.3326e-01,  5.4000e-01, -7.2194e-01,  7.4521e-01,\n",
       "         6.9785e-01,  2.9143e+00,  8.7819e-01, -4.5093e-01,  4.3826e-02,\n",
       "         1.0864e+00, -2.9809e-01,  1.1141e+00,  2.8290e-01,  8.8837e-01,\n",
       "         1.2103e-01,  1.3071e-02, -2.6571e-01,  6.6203e-01,  1.6551e-01,\n",
       "         1.3001e-01,  4.1911e-01,  9.1780e-01,  3.9244e-01, -5.8330e-01,\n",
       "         6.0443e-01,  2.2037e-01,  2.3946e-01,  6.2427e-01,  6.9092e-01,\n",
       "         2.4983e-01, -2.7026e-01, -3.5930e-01,  2.0396e+00,  1.1566e-01,\n",
       "         7.5849e-01,  1.3366e-01, -1.7545e-01,  4.5764e-01, -5.5677e-01,\n",
       "         6.2361e-01,  2.7534e-01,  8.3794e-01,  1.6056e+00,  6.5471e-02,\n",
       "        -7.3127e-01,  1.5501e+00, -3.1558e-01, -2.2957e-01,  1.7724e+00,\n",
       "         8.9769e-02,  4.6916e-01,  4.5813e-01, -8.7752e-01,  7.5347e-02,\n",
       "         6.2976e-01,  8.3951e-01, -5.7254e-01,  1.6417e-01, -4.9133e-01,\n",
       "         4.4064e-01, -2.9043e-02,  2.0689e-01, -6.1607e-01, -2.4147e-01,\n",
       "         8.6565e-01, -1.8930e-01,  1.5768e+00,  1.0014e-01, -4.7296e-01,\n",
       "         1.0395e+00,  6.3558e-02,  6.6304e-01,  1.0870e+00, -7.3891e-01,\n",
       "        -6.4084e-02,  4.4256e-01,  8.8349e-01,  1.3584e+00, -4.9138e-01,\n",
       "        -4.2080e-01, -4.8167e-01,  9.7633e-02, -7.0135e-01,  2.9444e-01,\n",
       "         1.0046e+00,  1.5724e+00,  1.1737e+00,  3.7330e-01, -7.0978e-01,\n",
       "         8.7860e-01,  2.7813e-01, -2.4451e-02, -1.6223e-01,  1.4366e+00,\n",
       "        -4.4467e-01, -2.3492e-01,  1.5859e+00,  1.7592e-03,  6.6251e-01,\n",
       "         3.5475e-01,  2.5037e-01,  8.0628e-01,  8.4923e-01,  2.7495e-01,\n",
       "         3.0686e-01, -3.4805e-01,  3.6837e-01, -4.3675e-01,  1.1737e+00,\n",
       "        -9.5573e-03, -2.9616e-01, -5.3196e-01,  1.2806e+00, -2.7640e-01,\n",
       "        -6.8042e-01,  7.9593e-01])"
      ]
     },
     "execution_count": 46,
     "metadata": {},
     "output_type": "execute_result"
    }
   ],
   "source": [
    "linear_2_params = {name: param.data for name, param in model.linear_2.named_parameters()}\n",
    "A2 = linear_2_params[\"weight\"]\n",
    "b2 = linear_2_params[\"bias\"]\n",
    "x2 = A2 @ x1 + b2\n",
    "x2"
   ]
  },
  {
   "cell_type": "code",
   "execution_count": 47,
   "id": "65c75cb3-d78c-447b-a995-9633a3284b1c",
   "metadata": {},
   "outputs": [
    {
     "data": {
      "image/png": "[encoded data removed]",
      "text/plain": [
       "<Figure size 640x480 with 2 Axes>"
      ]
     },
     "metadata": {},
     "output_type": "display_data"
    }
   ],
   "source": [
    "plt.imshow(x2.reshape((2**5, 2**4)))\n",
    "plt.grid(False)\n",
    "plt.colorbar()\n",
    "None"
   ]
  },
  {
   "cell_type": "code",
   "execution_count": 48,
   "id": "9afeee39-f92c-430e-8fab-75f9da4ab7a5",
   "metadata": {},
   "outputs": [
    {
     "data": {
      "text/plain": [
       "tensor([0.0000e+00, 2.1546e-02, 1.9713e+00, 1.4763e+00, 0.0000e+00, 7.5895e-01,\n",
       "        9.7568e-01, 0.0000e+00, 1.4724e+00, 0.0000e+00, 0.0000e+00, 2.3904e-02,\n",
       "        0.0000e+00, 9.1451e-01, 2.7878e-01, 9.3233e-01, 3.0977e-01, 0.0000e+00,\n",
       "        0.0000e+00, 0.0000e+00, 9.1612e-01, 1.6612e+00, 0.0000e+00, 0.0000e+00,\n",
       "        0.0000e+00, 0.0000e+00, 8.4034e-01, 0.0000e+00, 0.0000e+00, 4.6715e-01,\n",
       "        1.7898e+00, 6.2534e-01, 1.8791e+00, 0.0000e+00, 1.1543e+00, 0.0000e+00,\n",
       "        0.0000e+00, 0.0000e+00, 0.0000e+00, 3.0672e-01, 0.0000e+00, 1.9736e+00,\n",
       "        0.0000e+00, 5.6534e-01, 2.4815e+00, 0.0000e+00, 6.7933e-02, 2.8126e+00,\n",
       "        4.7092e-01, 0.0000e+00, 8.2325e-01, 8.3643e-02, 2.6344e-01, 6.7606e-01,\n",
       "        1.6848e+00, 1.0893e+00, 0.0000e+00, 5.5678e-01, 3.4855e-01, 1.9104e+00,\n",
       "        0.0000e+00, 0.0000e+00, 5.7363e-01, 0.0000e+00, 2.7407e-01, 2.3188e+00,\n",
       "        8.0152e-01, 2.9947e-01, 4.8399e-01, 0.0000e+00, 1.1652e-01, 0.0000e+00,\n",
       "        9.2053e-01, 0.0000e+00, 2.0992e-01, 2.1000e-02, 4.2868e-01, 0.0000e+00,\n",
       "        6.7420e-01, 3.2934e-01, 6.1121e-02, 0.0000e+00, 4.1617e-01, 1.6129e+00,\n",
       "        3.3605e-01, 0.0000e+00, 2.3655e-02, 0.0000e+00, 4.7410e-01, 0.0000e+00,\n",
       "        0.0000e+00, 0.0000e+00, 2.7196e-02, 2.4760e-01, 5.8361e-01, 0.0000e+00,\n",
       "        0.0000e+00, 0.0000e+00, 0.0000e+00, 0.0000e+00, 4.2944e-01, 9.8313e-01,\n",
       "        3.2633e-01, 0.0000e+00, 1.4701e+00, 7.2629e-01, 1.8821e+00, 1.3746e-01,\n",
       "        2.2799e+00, 0.0000e+00, 7.9059e-01, 0.0000e+00, 4.6018e-01, 5.8515e-01,\n",
       "        4.3882e-01, 1.3041e+00, 0.0000e+00, 0.0000e+00, 8.8737e-02, 7.9728e-02,\n",
       "        0.0000e+00, 0.0000e+00, 0.0000e+00, 3.0978e-01, 0.0000e+00, 6.0852e-01,\n",
       "        0.0000e+00, 7.7870e-01, 3.6287e-01, 8.2698e-02, 4.0248e-01, 1.0831e+00,\n",
       "        5.9093e-01, 4.4867e-01, 7.2229e-01, 0.0000e+00, 0.0000e+00, 2.3326e-01,\n",
       "        4.5096e-01, 5.3504e-01, 2.4667e-01, 6.7210e-01, 2.4387e-01, 0.0000e+00,\n",
       "        0.0000e+00, 1.2912e+00, 7.0181e-01, 1.1141e-01, 2.2442e-01, 6.1921e-01,\n",
       "        4.2267e-01, 6.9846e-01, 0.0000e+00, 2.3891e+00, 0.0000e+00, 1.3583e+00,\n",
       "        0.0000e+00, 2.1977e-01, 0.0000e+00, 1.0089e+00, 1.5272e-01, 0.0000e+00,\n",
       "        0.0000e+00, 1.9608e-01, 6.5837e-02, 9.7947e-01, 0.0000e+00, 1.4026e-01,\n",
       "        0.0000e+00, 1.3629e+00, 9.4928e-01, 0.0000e+00, 1.4799e-03, 0.0000e+00,\n",
       "        1.4607e-01, 0.0000e+00, 5.9697e-01, 1.3381e+00, 1.5532e+00, 1.2277e-01,\n",
       "        3.7224e-01, 0.0000e+00, 0.0000e+00, 1.3764e+00, 5.2222e-01, 0.0000e+00,\n",
       "        0.0000e+00, 5.8740e-01, 3.4820e-01, 0.0000e+00, 3.9502e-01, 2.0462e-01,\n",
       "        3.4189e-01, 0.0000e+00, 5.9490e-01, 0.0000e+00, 0.0000e+00, 0.0000e+00,\n",
       "        1.9890e-01, 6.4314e-02, 2.2284e+00, 2.1098e-01, 9.2192e-01, 2.7987e-01,\n",
       "        8.9633e-02, 0.0000e+00, 0.0000e+00, 0.0000e+00, 0.0000e+00, 1.2284e+00,\n",
       "        4.0920e-01, 6.9735e-01, 5.3829e-01, 0.0000e+00, 7.1777e-02, 1.4789e+00,\n",
       "        5.9076e-01, 8.7063e-01, 7.7220e-01, 9.6866e-01, 1.7539e+00, 4.1817e-01,\n",
       "        0.0000e+00, 1.3364e-01, 8.0804e-01, 0.0000e+00, 0.0000e+00, 0.0000e+00,\n",
       "        0.0000e+00, 2.3037e+00, 0.0000e+00, 0.0000e+00, 0.0000e+00, 0.0000e+00,\n",
       "        2.2284e+00, 1.7534e-01, 0.0000e+00, 1.4908e-01, 0.0000e+00, 9.3507e-01,\n",
       "        5.9473e-01, 2.9149e+00, 1.9803e-01, 1.4756e-01, 4.9669e-02, 6.6664e-01,\n",
       "        0.0000e+00, 6.1414e-01, 4.8547e-01, 1.3793e+00, 0.0000e+00, 1.1748e+00,\n",
       "        0.0000e+00, 1.9057e-01, 5.7873e-01, 0.0000e+00, 1.3059e+00, 0.0000e+00,\n",
       "        1.1848e+00, 5.3396e-01, 4.6462e-01, 0.0000e+00, 1.4375e+00, 6.9193e-01,\n",
       "        0.0000e+00, 1.7033e+00, 2.3354e+00, 7.0802e-01, 0.0000e+00, 4.1700e-02,\n",
       "        1.2370e-01, 6.2232e-01, 0.0000e+00, 0.0000e+00, 1.9067e-01, 4.0892e-01,\n",
       "        0.0000e+00, 0.0000e+00, 0.0000e+00, 0.0000e+00, 0.0000e+00, 1.0335e-01,\n",
       "        1.3186e+00, 0.0000e+00, 3.7604e-01, 6.4090e-02, 1.4410e+00, 1.5979e-01,\n",
       "        0.0000e+00, 1.2771e+00, 1.2960e-01, 3.3110e-01, 4.8137e-01, 3.9116e-01,\n",
       "        0.0000e+00, 0.0000e+00, 1.0626e+00, 0.0000e+00, 1.6242e-01, 4.0648e-01,\n",
       "        5.4297e-01, 1.6769e+00, 0.0000e+00, 1.8449e+00, 5.2753e-01, 0.0000e+00,\n",
       "        2.6591e-01, 0.0000e+00, 0.0000e+00, 0.0000e+00, 0.0000e+00, 2.2542e+00,\n",
       "        0.0000e+00, 0.0000e+00, 6.7473e-01, 3.0963e-01, 4.0519e-02, 0.0000e+00,\n",
       "        0.0000e+00, 3.5001e-01, 0.0000e+00, 1.4559e+00, 0.0000e+00, 4.8279e-01,\n",
       "        1.3393e+00, 0.0000e+00, 1.9393e+00, 0.0000e+00, 5.6245e-01, 1.5804e+00,\n",
       "        5.0049e-01, 0.0000e+00, 7.0399e-01, 4.2497e-02, 0.0000e+00, 6.8587e-01,\n",
       "        1.7680e-01, 0.0000e+00, 0.0000e+00, 8.1239e-01, 5.4888e-01, 1.1347e-01,\n",
       "        0.0000e+00, 0.0000e+00, 1.1050e+00, 3.7386e-01, 8.5203e-01, 0.0000e+00,\n",
       "        8.3482e-02, 1.7680e+00, 2.1948e-02, 1.0674e+00, 1.6400e+00, 1.2525e+00,\n",
       "        7.0492e-01, 0.0000e+00, 2.3767e-02, 1.0674e+00, 0.0000e+00, 2.2410e-01,\n",
       "        3.3312e-01, 2.4120e-01, 8.2521e-01, 0.0000e+00, 1.7117e+00, 2.7434e+00,\n",
       "        4.6421e-01, 0.0000e+00, 0.0000e+00, 1.1580e+00, 1.6811e-01, 8.3863e-01,\n",
       "        4.1613e-01, 6.4607e-01, 4.5041e-01, 0.0000e+00, 0.0000e+00, 4.2663e-01,\n",
       "        9.6257e-01, 2.7755e+00, 0.0000e+00, 0.0000e+00, 7.3349e-01, 0.0000e+00,\n",
       "        0.0000e+00, 1.7164e-01, 0.0000e+00, 0.0000e+00, 0.0000e+00, 0.0000e+00,\n",
       "        1.3596e-02, 1.4573e+00, 7.6194e-01, 8.8549e-01, 0.0000e+00, 0.0000e+00,\n",
       "        4.3326e-01, 5.4000e-01, 0.0000e+00, 7.4521e-01, 6.9785e-01, 2.9143e+00,\n",
       "        8.7819e-01, 0.0000e+00, 4.3826e-02, 1.0864e+00, 0.0000e+00, 1.1141e+00,\n",
       "        2.8290e-01, 8.8837e-01, 1.2103e-01, 1.3071e-02, 0.0000e+00, 6.6203e-01,\n",
       "        1.6551e-01, 1.3001e-01, 4.1911e-01, 9.1780e-01, 3.9244e-01, 0.0000e+00,\n",
       "        6.0443e-01, 2.2037e-01, 2.3946e-01, 6.2427e-01, 6.9092e-01, 2.4983e-01,\n",
       "        0.0000e+00, 0.0000e+00, 2.0396e+00, 1.1566e-01, 7.5849e-01, 1.3366e-01,\n",
       "        0.0000e+00, 4.5764e-01, 0.0000e+00, 6.2361e-01, 2.7534e-01, 8.3794e-01,\n",
       "        1.6056e+00, 6.5471e-02, 0.0000e+00, 1.5501e+00, 0.0000e+00, 0.0000e+00,\n",
       "        1.7724e+00, 8.9769e-02, 4.6916e-01, 4.5813e-01, 0.0000e+00, 7.5347e-02,\n",
       "        6.2976e-01, 8.3951e-01, 0.0000e+00, 1.6417e-01, 0.0000e+00, 4.4064e-01,\n",
       "        0.0000e+00, 2.0689e-01, 0.0000e+00, 0.0000e+00, 8.6565e-01, 0.0000e+00,\n",
       "        1.5768e+00, 1.0014e-01, 0.0000e+00, 1.0395e+00, 6.3558e-02, 6.6304e-01,\n",
       "        1.0870e+00, 0.0000e+00, 0.0000e+00, 4.4256e-01, 8.8349e-01, 1.3584e+00,\n",
       "        0.0000e+00, 0.0000e+00, 0.0000e+00, 9.7633e-02, 0.0000e+00, 2.9444e-01,\n",
       "        1.0046e+00, 1.5724e+00, 1.1737e+00, 3.7330e-01, 0.0000e+00, 8.7860e-01,\n",
       "        2.7813e-01, 0.0000e+00, 0.0000e+00, 1.4366e+00, 0.0000e+00, 0.0000e+00,\n",
       "        1.5859e+00, 1.7592e-03, 6.6251e-01, 3.5475e-01, 2.5037e-01, 8.0628e-01,\n",
       "        8.4923e-01, 2.7495e-01, 3.0686e-01, 0.0000e+00, 3.6837e-01, 0.0000e+00,\n",
       "        1.1737e+00, 0.0000e+00, 0.0000e+00, 0.0000e+00, 1.2806e+00, 0.0000e+00,\n",
       "        0.0000e+00, 7.9593e-01])"
      ]
     },
     "execution_count": 48,
     "metadata": {},
     "output_type": "execute_result"
    }
   ],
   "source": [
    "x2 = model.relu_2(x2)\n",
    "x2"
   ]
  },
  {
   "cell_type": "code",
   "execution_count": 49,
   "id": "8e21edf2-ce29-4037-bed2-9274672655d1",
   "metadata": {},
   "outputs": [
    {
     "data": {
      "image/png": "[encoded data removed]",
      "text/plain": [
       "<Figure size 640x480 with 2 Axes>"
      ]
     },
     "metadata": {},
     "output_type": "display_data"
    }
   ],
   "source": [
    "plt.imshow(x2.reshape((2**5, 2**4)))\n",
    "plt.grid(False)\n",
    "plt.colorbar()\n",
    "None"
   ]
  },
  {
   "cell_type": "code",
   "execution_count": 50,
   "id": "e359b5a0-670c-49fc-99d7-79cdb586d0e1",
   "metadata": {},
   "outputs": [
    {
     "data": {
      "text/plain": [
       "tensor([ 6.5440,  1.5370,  2.0279,  3.5015,  0.7567, -5.2023,  3.6553, -8.0095,\n",
       "        -2.2641, -4.6461])"
      ]
     },
     "execution_count": 50,
     "metadata": {},
     "output_type": "execute_result"
    }
   ],
   "source": [
    "linear_3_params = {name: param.data for name, param in model.linear_3.named_parameters()}\n",
    "A3 = linear_3_params[\"weight\"]\n",
    "b3 = linear_3_params[\"bias\"]\n",
    "x3 = A3 @ x2 + b3\n",
    "x3"
   ]
  },
  {
   "cell_type": "code",
   "execution_count": 51,
   "id": "6574bed7-4755-4847-9268-ec1bccdff204",
   "metadata": {},
   "outputs": [
    {
     "data": {
      "text/plain": [
       "tensor([8.8950e-01, 5.9516e-03, 9.7231e-03, 4.2443e-02, 2.7274e-03, 7.0437e-06,\n",
       "        4.9498e-02, 4.2525e-07, 1.3299e-04, 1.2284e-05])"
      ]
     },
     "execution_count": 51,
     "metadata": {},
     "output_type": "execute_result"
    }
   ],
   "source": [
    "def softmax(x):\n",
    "    return torch.nn.functional.softmax(x, dim=0)\n",
    "\n",
    "probas = softmax(x3)\n",
    "probas"
   ]
  },
  {
   "cell_type": "code",
   "execution_count": 52,
   "id": "e711f687-e2c7-4349-9155-c17d559898f5",
   "metadata": {},
   "outputs": [
    {
     "data": {
      "text/plain": [
       "{'T-shirt/top': 0.8895043730735779,\n",
       " 'Trouser': 0.005951642990112305,\n",
       " 'Pullover': 0.009723062627017498,\n",
       " 'Dress': 0.04244314134120941,\n",
       " 'Coat': 0.0027273576706647873,\n",
       " 'Sandal': 7.043737696221797e-06,\n",
       " 'Shirt': 0.04949767887592316,\n",
       " 'Sneaker': 4.2525141452642856e-07,\n",
       " 'Bag': 0.00013298862904775888,\n",
       " 'Ankle boot': 1.228408746101195e-05}"
      ]
     },
     "execution_count": 52,
     "metadata": {},
     "output_type": "execute_result"
    }
   ],
   "source": [
    "data = {training_data.classes[i]: p.item() for i, p in enumerate(probas)}\n",
    "data"
   ]
  },
  {
   "cell_type": "code",
   "execution_count": 53,
   "id": "48934c97-27f8-4d11-a2d1-af19e0cc5810",
   "metadata": {},
   "outputs": [
    {
     "data": {
      "image/png": "[encoded data removed]",
      "text/plain": [
       "<Figure size 1200x480 with 1 Axes>"
      ]
     },
     "metadata": {},
     "output_type": "display_data"
    }
   ],
   "source": [
    "import seaborn as sns; sns.set_theme()\n",
    "sns.barplot(data)\n",
    "plt.gcf().set_figwidth(12)\n",
    "plt.gca().set_ylabel(\"Probability\")\n",
    "None"
   ]
  },
  {
   "cell_type": "code",
   "execution_count": 54,
   "id": "5a5b94a0-b39a-4637-b5de-3090438183d4",
   "metadata": {},
   "outputs": [],
   "source": [
    "out = model(t).squeeze()"
   ]
  },
  {
   "cell_type": "code",
   "execution_count": 55,
   "id": "7979dd2d-f699-4074-9c81-5c6988b8332d",
   "metadata": {},
   "outputs": [],
   "source": [
    "ps = torch.nn.functional.softmax(out, dim=-1)"
   ]
  },
  {
   "cell_type": "code",
   "execution_count": 56,
   "id": "cebb45c1-34cd-4e47-be96-18b58d90eb09",
   "metadata": {},
   "outputs": [
    {
     "data": {
      "image/png": "[encoded data removed]",
      "text/plain": [
       "<Figure size 1200x480 with 1 Axes>"
      ]
     },
     "metadata": {},
     "output_type": "display_data"
    }
   ],
   "source": [
    "data = {training_data.classes[i]: p.item() for i, p in enumerate(ps)}\n",
    "sns.barplot(data)\n",
    "plt.gcf().set_figwidth(12)\n",
    "plt.gca().set_ylabel(\"Probability\")\n",
    "None"
   ]
  },
  {
   "cell_type": "markdown",
   "id": "f61f1b95-6b16-4504-85e9-53521e1c1737",
   "metadata": {},
   "source": [
    "## Training"
   ]
  },
  {
   "cell_type": "markdown",
   "id": "69b12003-c8b8-4aa1-8636-2fd71eba47ee",
   "metadata": {},
   "source": [
    "### Loss Function"
   ]
  },
  {
   "cell_type": "markdown",
   "id": "01fbc792-5d57-4dac-82b5-4e2720faa1d7",
   "metadata": {},
   "source": [
    "The loss function is a measure of the model prediction error: the mismatch between the output predicted by the model and the \"real\" output. Here, in the context of category identification, we use the cross-entropy loss function."
   ]
  },
  {
   "cell_type": "code",
   "execution_count": 57,
   "id": "7cc958b3-06de-42d3-b474-d050064e2664",
   "metadata": {},
   "outputs": [],
   "source": [
    "loss_function = torch.nn.CrossEntropyLoss()"
   ]
  },
  {
   "cell_type": "markdown",
   "id": "9829fa6f-7bd3-4543-af3d-ff1787adc15f",
   "metadata": {},
   "source": [
    "It measures the differences between two probability distributions: here a computed probability distribution $p=(p_0, \\dots, p_{n-1})$ and a \"deterministic\" distribution $q=e_i$ with\n",
    "$$\n",
    "e_i=(0, \\dots, 0, 1, 0, \\dots, 0) \\;\\;\\; \\mbox{($1$ in position $i$)}\n",
    "$$\n",
    "with:\n",
    "$$\n",
    "\\mathrm{loss}(p, e_i) = - \\log p_i. \n",
    "$$\n",
    "The loss is zero when $p_i = 1$ (perfect match) and $-\\infty$ when $p_i = 0$. It does not depend on the distribution of the $p_j$ for $j \\neq i$."
   ]
  },
  {
   "cell_type": "markdown",
   "id": "9594209a-b512-4e6e-93f9-2b71ff10523d",
   "metadata": {},
   "source": [
    "```{warning}\n",
    "The pytorch cross entropy function works directly with unnormalized log probabilities \n",
    "$$\n",
    "\\ell_i := \\log p_i + c\n",
    "$$\n",
    "(the log probabilities up to a shared constant $c$) instead of the probabilites $p$. \n",
    "The deterministic distribution is also specified by the index $i$ instead of the vector $q=e_i$.\n",
    "Hence, it actually computes\n",
    "$$\n",
    "\\mathrm{loss}(\\ell, i) := -\\ell_i  + \\log \\left( \\sum_je^{\\ell_j} \\right). \n",
    "$$\n",
    "```\n"
   ]
  },
  {
   "cell_type": "code",
   "execution_count": 58,
   "id": "91d4e5b5-ed42-40b7-87d1-3bac24922523",
   "metadata": {},
   "outputs": [],
   "source": [
    "cross_entropy = torch.nn.CrossEntropyLoss()"
   ]
  },
  {
   "cell_type": "code",
   "execution_count": 59,
   "id": "d92e0aa6-5996-434c-9dd8-39efe834f759",
   "metadata": {},
   "outputs": [
    {
     "data": {
      "text/plain": [
       "tensor(0.)"
      ]
     },
     "execution_count": 59,
     "metadata": {},
     "output_type": "execute_result"
    }
   ],
   "source": [
    "cross_entropy(\n",
    "    input=torch.tensor([1.0, 0.0]).log(), \n",
    "    target=torch.tensor(0)\n",
    ")"
   ]
  },
  {
   "cell_type": "code",
   "execution_count": 60,
   "id": "180327b1-3359-4f73-8732-00a88ed1d56b",
   "metadata": {},
   "outputs": [
    {
     "data": {
      "text/plain": [
       "tensor(inf)"
      ]
     },
     "execution_count": 60,
     "metadata": {},
     "output_type": "execute_result"
    }
   ],
   "source": [
    "cross_entropy(\n",
    "    input=torch.tensor([0.0, 1.0]).log(), \n",
    "    target=torch.tensor(0)\n",
    ")"
   ]
  },
  {
   "cell_type": "code",
   "execution_count": 61,
   "id": "f7166f6d-2ab0-43d9-8a6f-d3a63360cc82",
   "metadata": {},
   "outputs": [
    {
     "data": {
      "text/plain": [
       "tensor(0.6931)"
      ]
     },
     "execution_count": 61,
     "metadata": {},
     "output_type": "execute_result"
    }
   ],
   "source": [
    "cross_entropy(\n",
    "    input=torch.tensor([0.5, 0.5]).log(), \n",
    "    target=torch.tensor(0)\n",
    ")"
   ]
  },
  {
   "cell_type": "code",
   "execution_count": 62,
   "id": "6015f27e-cf7f-49d6-a87b-5450eb3767ec",
   "metadata": {},
   "outputs": [
    {
     "data": {
      "text/plain": [
       "tensor(0.6931)"
      ]
     },
     "execution_count": 62,
     "metadata": {},
     "output_type": "execute_result"
    }
   ],
   "source": [
    "- torch.tensor(0.5).log()"
   ]
  },
  {
   "cell_type": "code",
   "execution_count": 63,
   "id": "bee1b949-21a5-4bdf-a87a-b1d31017a60f",
   "metadata": {},
   "outputs": [
    {
     "data": {
      "text/plain": [
       "tensor(0.4055)"
      ]
     },
     "execution_count": 63,
     "metadata": {},
     "output_type": "execute_result"
    }
   ],
   "source": [
    "cross_entropy(\n",
    "    input=torch.tensor([2/3, 1/3]).log(), \n",
    "    target=torch.tensor(0)\n",
    ")"
   ]
  },
  {
   "cell_type": "code",
   "execution_count": 64,
   "id": "b88c2bec-2ffa-4e33-83bc-70e4ecf7e64e",
   "metadata": {},
   "outputs": [
    {
     "data": {
      "text/plain": [
       "tensor(0.4055)"
      ]
     },
     "execution_count": 64,
     "metadata": {},
     "output_type": "execute_result"
    }
   ],
   "source": [
    "cross_entropy(\n",
    "    input=torch.tensor([200.0, 100.0]).log(), \n",
    "    target=torch.tensor(0)\n",
    ")"
   ]
  },
  {
   "cell_type": "markdown",
   "id": "76498a78-0ccb-415e-a7e2-130e4040d35e",
   "metadata": {},
   "source": [
    "### Data Loader"
   ]
  },
  {
   "cell_type": "code",
   "execution_count": 65,
   "id": "a0b9ba81-fcc2-488b-b697-2f7ae3ad1055",
   "metadata": {},
   "outputs": [
    {
     "name": "stdout",
     "output_type": "stream",
     "text": [
      "X = [N, C, H, W]: torch.Size([64, 1, 28, 28])\n",
      "y: torch.Size([64]) torch.int64\n"
     ]
    }
   ],
   "source": [
    "batch_size = 64\n",
    "\n",
    "# Create data loaders.\n",
    "train_dataloader = torch.utils.data.DataLoader(training_data, batch_size=batch_size)\n",
    "test_dataloader = torch.utils.data.DataLoader(test_data, batch_size=batch_size)\n",
    "\n",
    "for X, y in test_dataloader:\n",
    "    print(f\"X = [N, C, H, W]: {X.shape}\")\n",
    "    print(f\"y: {y.shape} {y.dtype}\")\n",
    "    break"
   ]
  },
  {
   "cell_type": "markdown",
   "id": "402984b7-449a-4418-8587-d40495519216",
   "metadata": {},
   "source": [
    "### Training"
   ]
  },
  {
   "cell_type": "code",
   "execution_count": 66,
   "id": "b40c6413-f34f-4060-a4ab-71fc1dd26137",
   "metadata": {},
   "outputs": [],
   "source": [
    "def train(dataloader, model, loss_fn, optimizer):\n",
    "    size = len(dataloader.dataset)\n",
    "    model.train()\n",
    "    for batch, (X, y) in enumerate(dataloader):\n",
    "        # Compute prediction error\n",
    "        pred = model(X)\n",
    "        loss = loss_fn(pred, y)\n",
    "\n",
    "        # Backpropagation\n",
    "        loss.backward()\n",
    "        optimizer.step()\n",
    "        optimizer.zero_grad()\n",
    "\n",
    "        if batch % 100 == 0:\n",
    "            loss, current = loss.item(), (batch + 1) * len(X)\n",
    "            print(f\"loss: {loss:>7f}  [{current:>5d}/{size:>5d}]\")"
   ]
  },
  {
   "cell_type": "code",
   "execution_count": 67,
   "id": "05342f5e-b04b-4698-b192-a13d9015e5d6",
   "metadata": {},
   "outputs": [],
   "source": [
    "def test(dataloader, model, loss_fn):\n",
    "    \"\"\"\n",
    "    Returns:\n",
    "      - score, the probability of a correct inference on the test dataset\n",
    "    \"\"\"\n",
    "    size = len(dataloader.dataset)\n",
    "    num_batches = len(dataloader)\n",
    "    model.eval()\n",
    "    test_loss, correct = 0, 0\n",
    "    with torch.no_grad():\n",
    "        for X, y in dataloader:\n",
    "            pred = model(X)\n",
    "            test_loss += loss_fn(pred, y).item()\n",
    "            correct += (pred.argmax(1) == y).type(torch.float).sum().item()\n",
    "    test_loss /= num_batches\n",
    "    correct /= size\n",
    "    print(f\"Test Error: \\n Accuracy: {(100*correct):>0.2f}%, Avg loss: {test_loss:>8f} \\n\")\n",
    "    return correct"
   ]
  },
  {
   "cell_type": "code",
   "execution_count": 68,
   "id": "d7e912bc-4e8a-4dbb-824f-d62ae9f2ae2d",
   "metadata": {},
   "outputs": [
    {
     "name": "stdout",
     "output_type": "stream",
     "text": [
      "Test Error: \n",
      " Accuracy: 9.92%, Avg loss: 2.298352 \n",
      "\n",
      "Epoch 2\n",
      "-------------------------------\n",
      "loss: 2.286515  [   64/60000]\n",
      "loss: 2.277666  [ 6464/60000]\n",
      "loss: 2.259991  [12864/60000]\n",
      "loss: 2.263792  [19264/60000]\n",
      "loss: 2.235890  [25664/60000]\n",
      "loss: 2.208579  [32064/60000]\n",
      "loss: 2.218146  [38464/60000]\n",
      "loss: 2.180023  [44864/60000]\n",
      "loss: 2.179477  [51264/60000]\n",
      "loss: 2.144181  [57664/60000]\n",
      "Test Error: \n",
      " Accuracy: 41.63%, Avg loss: 2.140780 \n",
      "\n",
      "Epoch 3\n",
      "-------------------------------\n",
      "loss: 2.141437  [   64/60000]\n",
      "loss: 2.131345  [ 6464/60000]\n",
      "loss: 2.076352  [12864/60000]\n",
      "loss: 2.104254  [19264/60000]\n",
      "loss: 2.032564  [25664/60000]\n",
      "loss: 1.981573  [32064/60000]\n",
      "loss: 2.006859  [38464/60000]\n",
      "loss: 1.922766  [44864/60000]\n",
      "loss: 1.935960  [51264/60000]\n",
      "loss: 1.860100  [57664/60000]\n",
      "Test Error: \n",
      " Accuracy: 57.16%, Avg loss: 1.859253 \n",
      "\n",
      "Epoch 4\n",
      "-------------------------------\n",
      "loss: 1.882730  [   64/60000]\n",
      "loss: 1.852217  [ 6464/60000]\n",
      "loss: 1.739291  [12864/60000]\n",
      "loss: 1.794866  [19264/60000]\n",
      "loss: 1.666297  [25664/60000]\n",
      "loss: 1.628666  [32064/60000]\n",
      "loss: 1.643855  [38464/60000]\n",
      "loss: 1.548649  [44864/60000]\n",
      "loss: 1.578247  [51264/60000]\n",
      "loss: 1.467545  [57664/60000]\n",
      "Test Error: \n",
      " Accuracy: 61.57%, Avg loss: 1.494238 \n",
      "\n",
      "Epoch 5\n",
      "-------------------------------\n",
      "loss: 1.554287  [   64/60000]\n",
      "loss: 1.520058  [ 6464/60000]\n",
      "loss: 1.381169  [12864/60000]\n",
      "loss: 1.464043  [19264/60000]\n",
      "loss: 1.329463  [25664/60000]\n",
      "loss: 1.334507  [32064/60000]\n",
      "loss: 1.337316  [38464/60000]\n",
      "loss: 1.270236  [44864/60000]\n",
      "loss: 1.307931  [51264/60000]\n",
      "loss: 1.198382  [57664/60000]\n",
      "Test Error: \n",
      " Accuracy: 63.46%, Avg loss: 1.236821 \n",
      "\n",
      "Epoch 6\n",
      "-------------------------------\n",
      "loss: 1.311207  [   64/60000]\n",
      "loss: 1.288426  [ 6464/60000]\n",
      "loss: 1.135697  [12864/60000]\n",
      "loss: 1.250289  [19264/60000]\n",
      "loss: 1.111856  [25664/60000]\n",
      "loss: 1.143587  [32064/60000]\n",
      "loss: 1.152705  [38464/60000]\n",
      "loss: 1.097044  [44864/60000]\n",
      "loss: 1.139905  [51264/60000]\n",
      "loss: 1.044318  [57664/60000]\n",
      "Test Error: \n",
      " Accuracy: 64.91%, Avg loss: 1.077840 \n",
      "\n",
      "Epoch 7\n",
      "-------------------------------\n",
      "loss: 1.149868  [   64/60000]\n",
      "loss: 1.143413  [ 6464/60000]\n",
      "loss: 0.973347  [12864/60000]\n",
      "loss: 1.115906  [19264/60000]\n",
      "loss: 0.979570  [25664/60000]\n",
      "loss: 1.015422  [32064/60000]\n",
      "loss: 1.040104  [38464/60000]\n",
      "loss: 0.986207  [44864/60000]\n",
      "loss: 1.030112  [51264/60000]\n",
      "loss: 0.949075  [57664/60000]\n",
      "Test Error: \n",
      " Accuracy: 66.12%, Avg loss: 0.975345 \n",
      "\n",
      "Epoch 8\n",
      "-------------------------------\n",
      "loss: 1.036765  [   64/60000]\n",
      "loss: 1.049405  [ 6464/60000]\n",
      "loss: 0.861298  [12864/60000]\n",
      "loss: 1.025585  [19264/60000]\n",
      "loss: 0.896876  [25664/60000]\n",
      "loss: 0.924832  [32064/60000]\n",
      "loss: 0.966969  [38464/60000]\n",
      "loss: 0.913201  [44864/60000]\n",
      "loss: 0.953442  [51264/60000]\n",
      "loss: 0.884938  [57664/60000]\n",
      "Test Error: \n",
      " Accuracy: 67.23%, Avg loss: 0.905353 \n",
      "\n",
      "Epoch 9\n",
      "-------------------------------\n",
      "loss: 0.953271  [   64/60000]\n",
      "loss: 0.983896  [ 6464/60000]\n",
      "loss: 0.780851  [12864/60000]\n",
      "loss: 0.960956  [19264/60000]\n",
      "loss: 0.841761  [25664/60000]\n",
      "loss: 0.858565  [32064/60000]\n",
      "loss: 0.915503  [38464/60000]\n",
      "loss: 0.863702  [44864/60000]\n",
      "loss: 0.897875  [51264/60000]\n",
      "loss: 0.838255  [57664/60000]\n",
      "Test Error: \n",
      " Accuracy: 68.34%, Avg loss: 0.854762 \n",
      "\n",
      "Epoch 10\n",
      "-------------------------------\n",
      "loss: 0.888404  [   64/60000]\n",
      "loss: 0.934398  [ 6464/60000]\n",
      "loss: 0.720621  [12864/60000]\n",
      "loss: 0.912238  [19264/60000]\n",
      "loss: 0.802134  [25664/60000]\n",
      "loss: 0.808625  [32064/60000]\n",
      "loss: 0.876380  [38464/60000]\n",
      "loss: 0.828867  [44864/60000]\n",
      "loss: 0.856076  [51264/60000]\n",
      "loss: 0.802303  [57664/60000]\n",
      "Test Error: \n",
      " Accuracy: 69.36%, Avg loss: 0.816338 \n",
      "\n",
      "Epoch 11\n",
      "-------------------------------\n",
      "loss: 0.835945  [   64/60000]\n",
      "loss: 0.894652  [ 6464/60000]\n",
      "loss: 0.673714  [12864/60000]\n",
      "loss: 0.874342  [19264/60000]\n",
      "loss: 0.771975  [25664/60000]\n",
      "loss: 0.770464  [32064/60000]\n",
      "loss: 0.844834  [38464/60000]\n",
      "loss: 0.803098  [44864/60000]\n",
      "loss: 0.823628  [51264/60000]\n",
      "loss: 0.773592  [57664/60000]\n",
      "Test Error: \n",
      " Accuracy: 70.57%, Avg loss: 0.785808 \n",
      "\n",
      "Epoch 12\n",
      "-------------------------------\n",
      "loss: 0.792174  [   64/60000]\n",
      "loss: 0.861121  [ 6464/60000]\n",
      "loss: 0.635757  [12864/60000]\n",
      "loss: 0.843934  [19264/60000]\n",
      "loss: 0.747666  [25664/60000]\n",
      "loss: 0.740428  [32064/60000]\n",
      "loss: 0.817912  [38464/60000]\n",
      "loss: 0.782717  [44864/60000]\n",
      "loss: 0.797628  [51264/60000]\n",
      "loss: 0.749848  [57664/60000]\n",
      "Test Error: \n",
      " Accuracy: 71.86%, Avg loss: 0.760493 \n",
      "\n",
      "Epoch 13\n",
      "-------------------------------\n",
      "loss: 0.754743  [   64/60000]\n",
      "loss: 0.831742  [ 6464/60000]\n",
      "loss: 0.604122  [12864/60000]\n",
      "loss: 0.818863  [19264/60000]\n",
      "loss: 0.727188  [25664/60000]\n",
      "loss: 0.716280  [32064/60000]\n",
      "loss: 0.794027  [38464/60000]\n",
      "loss: 0.765819  [44864/60000]\n",
      "loss: 0.775996  [51264/60000]\n",
      "loss: 0.729466  [57664/60000]\n",
      "Test Error: \n",
      " Accuracy: 73.00%, Avg loss: 0.738692 \n",
      "\n",
      "Epoch 14\n",
      "-------------------------------\n",
      "loss: 0.721818  [   64/60000]\n",
      "loss: 0.805218  [ 6464/60000]\n",
      "loss: 0.577126  [12864/60000]\n",
      "loss: 0.797633  [19264/60000]\n",
      "loss: 0.709352  [25664/60000]\n",
      "loss: 0.696442  [32064/60000]\n",
      "loss: 0.772146  [38464/60000]\n",
      "loss: 0.751131  [44864/60000]\n",
      "loss: 0.757487  [51264/60000]\n",
      "loss: 0.711424  [57664/60000]\n",
      "Test Error: \n",
      " Accuracy: 74.02%, Avg loss: 0.719357 \n",
      "\n",
      "Epoch 15\n",
      "-------------------------------\n",
      "loss: 0.692659  [   64/60000]\n",
      "loss: 0.780991  [ 6464/60000]\n",
      "loss: 0.553636  [12864/60000]\n",
      "loss: 0.779204  [19264/60000]\n",
      "loss: 0.693490  [25664/60000]\n",
      "loss: 0.679714  [32064/60000]\n",
      "loss: 0.751844  [38464/60000]\n",
      "loss: 0.737978  [44864/60000]\n",
      "loss: 0.741288  [51264/60000]\n",
      "loss: 0.695082  [57664/60000]\n",
      "Test Error: \n",
      " Accuracy: 74.90%, Avg loss: 0.701822 \n",
      "\n",
      "Epoch 16\n",
      "-------------------------------\n",
      "loss: 0.666589  [   64/60000]\n",
      "loss: 0.758585  [ 6464/60000]\n",
      "loss: 0.532899  [12864/60000]\n",
      "loss: 0.762841  [19264/60000]\n",
      "loss: 0.679217  [25664/60000]\n",
      "loss: 0.665376  [32064/60000]\n",
      "loss: 0.732801  [38464/60000]\n",
      "loss: 0.725957  [44864/60000]\n",
      "loss: 0.726843  [51264/60000]\n",
      "loss: 0.680059  [57664/60000]\n",
      "Test Error: \n",
      " Accuracy: 75.75%, Avg loss: 0.685723 \n",
      "\n",
      "Epoch 17\n",
      "-------------------------------\n",
      "loss: 0.643061  [   64/60000]\n",
      "loss: 0.737834  [ 6464/60000]\n",
      "loss: 0.514369  [12864/60000]\n",
      "loss: 0.748195  [19264/60000]\n",
      "loss: 0.666372  [25664/60000]\n",
      "loss: 0.652660  [32064/60000]\n",
      "loss: 0.714981  [38464/60000]\n",
      "loss: 0.715048  [44864/60000]\n",
      "loss: 0.713839  [51264/60000]\n",
      "loss: 0.666290  [57664/60000]\n",
      "Test Error: \n",
      " Accuracy: 76.49%, Avg loss: 0.670872 \n",
      "\n",
      "Epoch 18\n",
      "-------------------------------\n",
      "loss: 0.621611  [   64/60000]\n",
      "loss: 0.718667  [ 6464/60000]\n",
      "loss: 0.497539  [12864/60000]\n",
      "loss: 0.734896  [19264/60000]\n",
      "loss: 0.654811  [25664/60000]\n",
      "loss: 0.641322  [32064/60000]\n",
      "loss: 0.698168  [38464/60000]\n",
      "loss: 0.705149  [44864/60000]\n",
      "loss: 0.702230  [51264/60000]\n",
      "loss: 0.653506  [57664/60000]\n",
      "Test Error: \n",
      " Accuracy: 77.06%, Avg loss: 0.657116 \n",
      "\n",
      "Epoch 19\n",
      "-------------------------------\n",
      "loss: 0.602185  [   64/60000]\n",
      "loss: 0.700961  [ 6464/60000]\n",
      "loss: 0.482329  [12864/60000]\n",
      "loss: 0.722714  [19264/60000]\n",
      "loss: 0.644308  [25664/60000]\n",
      "loss: 0.631186  [32064/60000]\n",
      "loss: 0.682406  [38464/60000]\n",
      "loss: 0.696335  [44864/60000]\n",
      "loss: 0.691836  [51264/60000]\n",
      "loss: 0.641504  [57664/60000]\n",
      "Test Error: \n",
      " Accuracy: 77.63%, Avg loss: 0.644377 \n",
      "\n",
      "Epoch 20\n",
      "-------------------------------\n",
      "loss: 0.584524  [   64/60000]\n",
      "loss: 0.684609  [ 6464/60000]\n",
      "loss: 0.468560  [12864/60000]\n",
      "loss: 0.711522  [19264/60000]\n",
      "loss: 0.634755  [25664/60000]\n",
      "loss: 0.622093  [32064/60000]\n",
      "loss: 0.667581  [38464/60000]\n",
      "loss: 0.688659  [44864/60000]\n",
      "loss: 0.682589  [51264/60000]\n",
      "loss: 0.630206  [57664/60000]\n",
      "Test Error: \n",
      " Accuracy: 78.06%, Avg loss: 0.632595 \n",
      "\n",
      "Epoch 21\n",
      "-------------------------------\n",
      "loss: 0.568537  [   64/60000]\n",
      "loss: 0.669523  [ 6464/60000]\n",
      "loss: 0.456081  [12864/60000]\n",
      "loss: 0.701188  [19264/60000]\n",
      "loss: 0.626008  [25664/60000]\n",
      "loss: 0.613770  [32064/60000]\n",
      "loss: 0.653678  [38464/60000]\n",
      "loss: 0.682062  [44864/60000]\n",
      "loss: 0.674551  [51264/60000]\n",
      "loss: 0.619589  [57664/60000]\n",
      "Test Error: \n",
      " Accuracy: 78.46%, Avg loss: 0.621698 \n",
      "\n",
      "Epoch 22\n",
      "-------------------------------\n",
      "loss: 0.553963  [   64/60000]\n",
      "loss: 0.655691  [ 6464/60000]\n",
      "loss: 0.444719  [12864/60000]\n",
      "loss: 0.691546  [19264/60000]\n",
      "loss: 0.617865  [25664/60000]\n",
      "loss: 0.606157  [32064/60000]\n",
      "loss: 0.640715  [38464/60000]\n",
      "loss: 0.676488  [44864/60000]\n",
      "loss: 0.667547  [51264/60000]\n",
      "loss: 0.609421  [57664/60000]\n",
      "Test Error: \n",
      " Accuracy: 78.77%, Avg loss: 0.611638 \n",
      "\n",
      "Epoch 23\n",
      "-------------------------------\n",
      "loss: 0.540629  [   64/60000]\n",
      "loss: 0.642962  [ 6464/60000]\n",
      "loss: 0.434478  [12864/60000]\n",
      "loss: 0.682568  [19264/60000]\n",
      "loss: 0.610370  [25664/60000]\n",
      "loss: 0.599073  [32064/60000]\n",
      "loss: 0.628716  [38464/60000]\n",
      "loss: 0.671868  [44864/60000]\n",
      "loss: 0.661661  [51264/60000]\n",
      "loss: 0.599593  [57664/60000]\n",
      "Test Error: \n",
      " Accuracy: 79.08%, Avg loss: 0.602378 \n",
      "\n",
      "Epoch 24\n",
      "-------------------------------\n",
      "loss: 0.528383  [   64/60000]\n",
      "loss: 0.631302  [ 6464/60000]\n",
      "loss: 0.425131  [12864/60000]\n",
      "loss: 0.674150  [19264/60000]\n",
      "loss: 0.603261  [25664/60000]\n",
      "loss: 0.592458  [32064/60000]\n",
      "loss: 0.617578  [38464/60000]\n",
      "loss: 0.668176  [44864/60000]\n",
      "loss: 0.656709  [51264/60000]\n",
      "loss: 0.590135  [57664/60000]\n",
      "Test Error: \n",
      " Accuracy: 79.34%, Avg loss: 0.593837 \n",
      "\n",
      "Epoch 25\n",
      "-------------------------------\n",
      "loss: 0.517038  [   64/60000]\n",
      "loss: 0.620632  [ 6464/60000]\n",
      "loss: 0.416544  [12864/60000]\n",
      "loss: 0.666244  [19264/60000]\n",
      "loss: 0.596406  [25664/60000]\n",
      "loss: 0.586176  [32064/60000]\n",
      "loss: 0.607240  [38464/60000]\n",
      "loss: 0.665276  [44864/60000]\n",
      "loss: 0.652528  [51264/60000]\n",
      "loss: 0.581007  [57664/60000]\n",
      "Test Error: \n",
      " Accuracy: 79.59%, Avg loss: 0.585942 \n",
      "\n",
      "Epoch 26\n",
      "-------------------------------\n",
      "loss: 0.506487  [   64/60000]\n",
      "loss: 0.610802  [ 6464/60000]\n",
      "loss: 0.408644  [12864/60000]\n",
      "loss: 0.658805  [19264/60000]\n",
      "loss: 0.589798  [25664/60000]\n",
      "loss: 0.580179  [32064/60000]\n",
      "loss: 0.597637  [38464/60000]\n",
      "loss: 0.663126  [44864/60000]\n",
      "loss: 0.648945  [51264/60000]\n",
      "loss: 0.572116  [57664/60000]\n",
      "Test Error: \n",
      " Accuracy: 79.92%, Avg loss: 0.578616 \n",
      "\n",
      "Epoch 27\n",
      "-------------------------------\n",
      "loss: 0.496689  [   64/60000]\n",
      "loss: 0.601622  [ 6464/60000]\n",
      "loss: 0.401388  [12864/60000]\n",
      "loss: 0.651789  [19264/60000]\n",
      "loss: 0.583369  [25664/60000]\n",
      "loss: 0.574454  [32064/60000]\n",
      "loss: 0.588753  [38464/60000]\n",
      "loss: 0.661617  [44864/60000]\n",
      "loss: 0.645920  [51264/60000]\n",
      "loss: 0.563459  [57664/60000]\n",
      "Test Error: \n",
      " Accuracy: 80.15%, Avg loss: 0.571827 \n",
      "\n",
      "Epoch 28\n",
      "-------------------------------\n",
      "loss: 0.487522  [   64/60000]\n",
      "loss: 0.593181  [ 6464/60000]\n",
      "loss: 0.394681  [12864/60000]\n",
      "loss: 0.645143  [19264/60000]\n",
      "loss: 0.577029  [25664/60000]\n",
      "loss: 0.568869  [32064/60000]\n",
      "loss: 0.580530  [38464/60000]\n",
      "loss: 0.660591  [44864/60000]\n",
      "loss: 0.643336  [51264/60000]\n",
      "loss: 0.555084  [57664/60000]\n",
      "Test Error: \n",
      " Accuracy: 80.25%, Avg loss: 0.565522 \n",
      "\n",
      "Epoch 29\n",
      "-------------------------------\n",
      "loss: 0.478908  [   64/60000]\n",
      "loss: 0.585396  [ 6464/60000]\n",
      "loss: 0.388401  [12864/60000]\n",
      "loss: 0.638793  [19264/60000]\n",
      "loss: 0.570791  [25664/60000]\n",
      "loss: 0.563395  [32064/60000]\n",
      "loss: 0.572869  [38464/60000]\n",
      "loss: 0.660066  [44864/60000]\n",
      "loss: 0.641114  [51264/60000]\n",
      "loss: 0.546942  [57664/60000]\n",
      "Test Error: \n",
      " Accuracy: 80.42%, Avg loss: 0.559653 \n",
      "\n",
      "Epoch 30\n",
      "-------------------------------\n",
      "loss: 0.470811  [   64/60000]\n",
      "loss: 0.578188  [ 6464/60000]\n",
      "loss: 0.382596  [12864/60000]\n",
      "loss: 0.632678  [19264/60000]\n",
      "loss: 0.564570  [25664/60000]\n",
      "loss: 0.558000  [32064/60000]\n",
      "loss: 0.565733  [38464/60000]\n",
      "loss: 0.659927  [44864/60000]\n",
      "loss: 0.639077  [51264/60000]\n",
      "loss: 0.538967  [57664/60000]\n",
      "Test Error: \n",
      " Accuracy: 80.69%, Avg loss: 0.554172 \n",
      "\n",
      "Epoch 31\n",
      "-------------------------------\n",
      "loss: 0.463198  [   64/60000]\n",
      "loss: 0.571540  [ 6464/60000]\n",
      "loss: 0.377231  [12864/60000]\n",
      "loss: 0.626776  [19264/60000]\n",
      "loss: 0.558450  [25664/60000]\n",
      "loss: 0.552595  [32064/60000]\n",
      "loss: 0.559061  [38464/60000]\n",
      "loss: 0.660002  [44864/60000]\n",
      "loss: 0.637204  [51264/60000]\n",
      "loss: 0.531227  [57664/60000]\n",
      "Test Error: \n",
      " Accuracy: 80.83%, Avg loss: 0.549051 \n",
      "\n",
      "Epoch 32\n",
      "-------------------------------\n",
      "loss: 0.455857  [   64/60000]\n",
      "loss: 0.565412  [ 6464/60000]\n",
      "loss: 0.372283  [12864/60000]\n",
      "loss: 0.621124  [19264/60000]\n",
      "loss: 0.552533  [25664/60000]\n",
      "loss: 0.547107  [32064/60000]\n",
      "loss: 0.552828  [38464/60000]\n",
      "loss: 0.660296  [44864/60000]\n",
      "loss: 0.635351  [51264/60000]\n",
      "loss: 0.523715  [57664/60000]\n",
      "Test Error: \n",
      " Accuracy: 81.07%, Avg loss: 0.544241 \n",
      "\n",
      "Epoch 33\n",
      "-------------------------------\n",
      "loss: 0.448870  [   64/60000]\n",
      "loss: 0.559858  [ 6464/60000]\n",
      "loss: 0.367656  [12864/60000]\n",
      "loss: 0.615608  [19264/60000]\n",
      "loss: 0.546744  [25664/60000]\n",
      "loss: 0.541590  [32064/60000]\n",
      "loss: 0.547006  [38464/60000]\n",
      "loss: 0.660644  [44864/60000]\n",
      "loss: 0.633631  [51264/60000]\n",
      "loss: 0.516480  [57664/60000]\n",
      "Test Error: \n",
      " Accuracy: 81.22%, Avg loss: 0.539713 \n",
      "\n",
      "Epoch 34\n",
      "-------------------------------\n",
      "loss: 0.442293  [   64/60000]\n",
      "loss: 0.554644  [ 6464/60000]\n",
      "loss: 0.363108  [12864/60000]\n",
      "loss: 0.610335  [19264/60000]\n",
      "loss: 0.541013  [25664/60000]\n",
      "loss: 0.536235  [32064/60000]\n",
      "loss: 0.541337  [38464/60000]\n",
      "loss: 0.661060  [44864/60000]\n",
      "loss: 0.632027  [51264/60000]\n",
      "loss: 0.509512  [57664/60000]\n",
      "Test Error: \n",
      " Accuracy: 81.34%, Avg loss: 0.535457 \n",
      "\n",
      "Epoch 35\n",
      "-------------------------------\n",
      "loss: 0.436080  [   64/60000]\n",
      "loss: 0.549775  [ 6464/60000]\n",
      "loss: 0.358804  [12864/60000]\n",
      "loss: 0.605187  [19264/60000]\n",
      "loss: 0.535179  [25664/60000]\n",
      "loss: 0.531190  [32064/60000]\n",
      "loss: 0.536030  [38464/60000]\n",
      "loss: 0.661521  [44864/60000]\n",
      "loss: 0.630693  [51264/60000]\n",
      "loss: 0.502815  [57664/60000]\n",
      "Test Error: \n",
      " Accuracy: 81.45%, Avg loss: 0.531471 \n",
      "\n",
      "Epoch 36\n",
      "-------------------------------\n",
      "loss: 0.430142  [   64/60000]\n",
      "loss: 0.545195  [ 6464/60000]\n",
      "loss: 0.354702  [12864/60000]\n",
      "loss: 0.600282  [19264/60000]\n",
      "loss: 0.529507  [25664/60000]\n",
      "loss: 0.526351  [32064/60000]\n",
      "loss: 0.530990  [38464/60000]\n",
      "loss: 0.662046  [44864/60000]\n",
      "loss: 0.629404  [51264/60000]\n",
      "loss: 0.496342  [57664/60000]\n",
      "Test Error: \n",
      " Accuracy: 81.65%, Avg loss: 0.527723 \n",
      "\n",
      "Epoch 37\n",
      "-------------------------------\n",
      "loss: 0.424381  [   64/60000]\n",
      "loss: 0.540884  [ 6464/60000]\n",
      "loss: 0.350874  [12864/60000]\n",
      "loss: 0.595589  [19264/60000]\n",
      "loss: 0.524031  [25664/60000]\n",
      "loss: 0.521683  [32064/60000]\n",
      "loss: 0.526223  [38464/60000]\n",
      "loss: 0.662599  [44864/60000]\n",
      "loss: 0.628186  [51264/60000]\n",
      "loss: 0.490340  [57664/60000]\n",
      "Test Error: \n",
      " Accuracy: 81.80%, Avg loss: 0.524190 \n",
      "\n",
      "Epoch 38\n",
      "-------------------------------\n",
      "loss: 0.418804  [   64/60000]\n",
      "loss: 0.536858  [ 6464/60000]\n",
      "loss: 0.347240  [12864/60000]\n",
      "loss: 0.591023  [19264/60000]\n",
      "loss: 0.518719  [25664/60000]\n",
      "loss: 0.517142  [32064/60000]\n",
      "loss: 0.521772  [38464/60000]\n",
      "loss: 0.663065  [44864/60000]\n",
      "loss: 0.626940  [51264/60000]\n",
      "loss: 0.484629  [57664/60000]\n",
      "Test Error: \n",
      " Accuracy: 81.96%, Avg loss: 0.520855 \n",
      "\n",
      "Epoch 39\n",
      "-------------------------------\n",
      "loss: 0.413423  [   64/60000]\n",
      "loss: 0.533078  [ 6464/60000]\n",
      "loss: 0.343793  [12864/60000]\n",
      "loss: 0.586628  [19264/60000]\n",
      "loss: 0.513570  [25664/60000]\n",
      "loss: 0.512771  [32064/60000]\n",
      "loss: 0.517590  [38464/60000]\n",
      "loss: 0.663475  [44864/60000]\n",
      "loss: 0.625704  [51264/60000]\n",
      "loss: 0.479225  [57664/60000]\n",
      "Test Error: \n",
      " Accuracy: 82.03%, Avg loss: 0.517700 \n",
      "\n",
      "Epoch 40\n",
      "-------------------------------\n",
      "loss: 0.408209  [   64/60000]\n",
      "loss: 0.529555  [ 6464/60000]\n",
      "loss: 0.340460  [12864/60000]\n",
      "loss: 0.582416  [19264/60000]\n",
      "loss: 0.508573  [25664/60000]\n",
      "loss: 0.508568  [32064/60000]\n",
      "loss: 0.513581  [38464/60000]\n",
      "loss: 0.663753  [44864/60000]\n",
      "loss: 0.624438  [51264/60000]\n",
      "loss: 0.474033  [57664/60000]\n",
      "Test Error: \n",
      " Accuracy: 82.12%, Avg loss: 0.514712 \n",
      "\n",
      "Epoch 41\n",
      "-------------------------------\n",
      "loss: 0.403199  [   64/60000]\n",
      "loss: 0.526295  [ 6464/60000]\n",
      "loss: 0.337307  [12864/60000]\n",
      "loss: 0.578356  [19264/60000]\n",
      "loss: 0.503714  [25664/60000]\n",
      "loss: 0.504488  [32064/60000]\n",
      "loss: 0.509790  [38464/60000]\n",
      "loss: 0.663894  [44864/60000]\n",
      "loss: 0.623131  [51264/60000]\n",
      "loss: 0.469064  [57664/60000]\n",
      "Test Error: \n",
      " Accuracy: 82.27%, Avg loss: 0.511879 \n",
      "\n",
      "Epoch 42\n",
      "-------------------------------\n",
      "loss: 0.398339  [   64/60000]\n",
      "loss: 0.523226  [ 6464/60000]\n",
      "loss: 0.334274  [12864/60000]\n",
      "loss: 0.574475  [19264/60000]\n",
      "loss: 0.499025  [25664/60000]\n",
      "loss: 0.500535  [32064/60000]\n",
      "loss: 0.506162  [38464/60000]\n",
      "loss: 0.663850  [44864/60000]\n",
      "loss: 0.621858  [51264/60000]\n",
      "loss: 0.464382  [57664/60000]\n",
      "Test Error: \n",
      " Accuracy: 82.26%, Avg loss: 0.509183 \n",
      "\n",
      "Done!\n"
     ]
    }
   ],
   "source": [
    "model = NeuralNetwork()\n",
    "model.train()\n",
    "optimizer = torch.optim.SGD(model.parameters(), lr=1e-3)\n",
    "loss_function = torch.nn.CrossEntropyLoss()\n",
    "\n",
    "score = 0.0\n",
    "new_score = test(test_dataloader, model, loss_function)\n",
    "epoch = 0\n",
    "keep_learning = True\n",
    "while keep_learning:\n",
    "    epoch += 1\n",
    "    score = new_score\n",
    "    print(f\"Epoch {epoch+1}\\n-------------------------------\")\n",
    "    train(train_dataloader, model, loss_function, optimizer)\n",
    "    new_score = test(test_dataloader, model, loss_function)\n",
    "    keep_learning = new_score > score\n",
    "\n",
    "print(\"Done!\")\n"
   ]
  },
  {
   "cell_type": "code",
   "execution_count": 69,
   "id": "e69ce9ce-c190-4653-8c52-2ae96989779a",
   "metadata": {},
   "outputs": [
    {
     "name": "stdout",
     "output_type": "stream",
     "text": [
      "Saved PyTorch Model State to model.pth\n"
     ]
    }
   ],
   "source": [
    "torch.save(model.state_dict(), \"models/model.pth\")\n",
    "print(\"Saved PyTorch Model State to model.pth\")"
   ]
  }
 ],
 "metadata": {
  "kernelspec": {
   "display_name": "Python 3 (ipykernel)",
   "language": "python",
   "name": "python3"
  },
  "language_info": {
   "codemirror_mode": {
    "name": "ipython",
    "version": 3
   },
   "file_extension": ".py",
   "mimetype": "text/x-python",
   "name": "python",
   "nbconvert_exporter": "python",
   "pygments_lexer": "ipython3",
   "version": "3.12.2"
  }
 },
 "nbformat": 4,
 "nbformat_minor": 5
}

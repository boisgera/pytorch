{
 "cells": [
  {
   "cell_type": "markdown",
   "id": "be92d45c-9125-497e-9aa4-048ec0d82e54",
   "metadata": {},
   "source": [
    "# The Machine Learning Workflow\n",
    "\n",
    "Source: [Pytorch / Learn the Basics](https://pytorch.org/tutorials/beginner/basics/intro.html)"
   ]
  },
  {
   "cell_type": "code",
   "execution_count": 1,
   "id": "6c1d361c-5e1b-46c5-b607-fd25566a8428",
   "metadata": {},
   "outputs": [],
   "source": [
    "import torch\n",
    "import torchvision"
   ]
  },
  {
   "cell_type": "markdown",
   "id": "e681cd9d-c913-440a-92b1-731956c5313b",
   "metadata": {},
   "source": [
    "## The FashionMNIST Dataset "
   ]
  },
  {
   "cell_type": "code",
   "execution_count": 2,
   "id": "f93d4548-fd7b-45c3-9a39-61e34a0e3335",
   "metadata": {},
   "outputs": [],
   "source": [
    "# Download training data from open datasets.\n",
    "training_data = torchvision.datasets.FashionMNIST(\n",
    "    root=\"data\",\n",
    "    train=True,\n",
    "    download=True,\n",
    "    transform=torchvision.transforms.ToTensor(),\n",
    ")\n",
    "\n",
    "# Download test data from open datasets.\n",
    "test_data = torchvision.datasets.FashionMNIST(\n",
    "    root=\"data\",\n",
    "    train=False,\n",
    "    download=True,\n",
    "    transform=torchvision.transforms.ToTensor(),\n",
    ")"
   ]
  },
  {
   "cell_type": "markdown",
   "id": "420ce320-c734-4ab8-a377-c4b9c235c54a",
   "metadata": {},
   "source": [
    "## Neural Network Model"
   ]
  },
  {
   "cell_type": "code",
   "execution_count": 3,
   "id": "543ed589-c9b9-4376-8ff5-ded427307b2e",
   "metadata": {},
   "outputs": [],
   "source": [
    "class NeuralNetwork(torch.nn.Module):\n",
    "    def __init__(self):\n",
    "        super().__init__()\n",
    "        self.flatten = torch.nn.Flatten()\n",
    "        self.linear_1 = torch.nn.Linear(28*28, 512)\n",
    "        self.relu_1 = torch.nn.ReLU()\n",
    "        self.linear_2 = torch.nn.Linear(512, 512)\n",
    "        self.relu_2 = torch.nn.ReLU()\n",
    "        self.linear_3 = torch.nn.Linear(512, 10)\n",
    "\n",
    "    def forward(self, image_tensor):\n",
    "        image_flat = self.flatten(image_tensor)\n",
    "        x_0 = image_flat\n",
    "        x_1 = self.linear_1(x_0)\n",
    "        x_1 = self.relu_1(x_1)\n",
    "        x_2 = self.linear_2(x_1)\n",
    "        x_2 = self.relu_2(x_2)\n",
    "        x_3 = self.linear_3(x_2)\n",
    "        logits = x_3\n",
    "        return logits"
   ]
  },
  {
   "cell_type": "code",
   "execution_count": 4,
   "id": "165d4e2f-41a4-4ee7-8d36-a5cb59275934",
   "metadata": {},
   "outputs": [
    {
     "name": "stdout",
     "output_type": "stream",
     "text": [
      "NeuralNetwork(\n",
      "  (flatten): Flatten(start_dim=1, end_dim=-1)\n",
      "  (linear_1): Linear(in_features=784, out_features=512, bias=True)\n",
      "  (relu_1): ReLU()\n",
      "  (linear_2): Linear(in_features=512, out_features=512, bias=True)\n",
      "  (relu_2): ReLU()\n",
      "  (linear_3): Linear(in_features=512, out_features=10, bias=True)\n",
      ")\n"
     ]
    }
   ],
   "source": [
    "model = NeuralNetwork()\n",
    "print(model)"
   ]
  },
  {
   "cell_type": "markdown",
   "id": "f61f1b95-6b16-4504-85e9-53521e1c1737",
   "metadata": {},
   "source": [
    "## Training"
   ]
  },
  {
   "cell_type": "code",
   "execution_count": 5,
   "id": "a0b9ba81-fcc2-488b-b697-2f7ae3ad1055",
   "metadata": {},
   "outputs": [
    {
     "name": "stdout",
     "output_type": "stream",
     "text": [
      "Shape of X [N, C, H, W]: torch.Size([64, 1, 28, 28])\n",
      "Shape of y: torch.Size([64]) torch.int64\n"
     ]
    }
   ],
   "source": [
    "batch_size = 64\n",
    "\n",
    "# Create data loaders.\n",
    "train_dataloader = torch.utils.data.DataLoader(training_data, batch_size=batch_size)\n",
    "test_dataloader = torch.utils.data.DataLoader(test_data, batch_size=batch_size)\n",
    "\n",
    "for X, y in test_dataloader:\n",
    "    print(f\"Shape of X [N, C, H, W]: {X.shape}\")\n",
    "    print(f\"Shape of y: {y.shape} {y.dtype}\")\n",
    "    break"
   ]
  },
  {
   "cell_type": "code",
   "execution_count": 6,
   "id": "c5071344-eebb-43aa-a2e6-abe371cea7c3",
   "metadata": {},
   "outputs": [],
   "source": [
    "loss_fn = torch.nn.CrossEntropyLoss()\n",
    "optimizer = torch.optim.SGD(model.parameters(), lr=1e-3)"
   ]
  },
  {
   "cell_type": "code",
   "execution_count": 7,
   "id": "b40c6413-f34f-4060-a4ab-71fc1dd26137",
   "metadata": {},
   "outputs": [],
   "source": [
    "def train(dataloader, model, loss_fn, optimizer):\n",
    "    size = len(dataloader.dataset)\n",
    "    model.train()\n",
    "    for batch, (X, y) in enumerate(dataloader):\n",
    "        # Compute prediction error\n",
    "        pred = model(X)\n",
    "        loss = loss_fn(pred, y)\n",
    "\n",
    "        # Backpropagation\n",
    "        loss.backward()\n",
    "        optimizer.step()\n",
    "        optimizer.zero_grad()\n",
    "\n",
    "        if batch % 100 == 0:\n",
    "            loss, current = loss.item(), (batch + 1) * len(X)\n",
    "            print(f\"loss: {loss:>7f}  [{current:>5d}/{size:>5d}]\")"
   ]
  },
  {
   "cell_type": "code",
   "execution_count": 8,
   "id": "05342f5e-b04b-4698-b192-a13d9015e5d6",
   "metadata": {},
   "outputs": [],
   "source": [
    "def test(dataloader, model, loss_fn):\n",
    "    size = len(dataloader.dataset)\n",
    "    num_batches = len(dataloader)\n",
    "    model.eval()\n",
    "    test_loss, correct = 0, 0\n",
    "    with torch.no_grad():\n",
    "        for X, y in dataloader:\n",
    "            pred = model(X)\n",
    "            test_loss += loss_fn(pred, y).item()\n",
    "            correct += (pred.argmax(1) == y).type(torch.float).sum().item()\n",
    "    test_loss /= num_batches\n",
    "    correct /= size\n",
    "    print(f\"Test Error: \\n Accuracy: {(100*correct):>0.1f}%, Avg loss: {test_loss:>8f} \\n\")"
   ]
  },
  {
   "cell_type": "code",
   "execution_count": 9,
   "id": "d7e912bc-4e8a-4dbb-824f-d62ae9f2ae2d",
   "metadata": {},
   "outputs": [
    {
     "name": "stdout",
     "output_type": "stream",
     "text": [
      "Test Error: \n",
      " Accuracy: 10.1%, Avg loss: 2.296261 \n",
      "\n",
      "Epoch 1\n",
      "-------------------------------\n",
      "loss: 2.292763  [   64/60000]\n",
      "loss: 2.289769  [ 6464/60000]\n",
      "loss: 2.270062  [12864/60000]\n",
      "loss: 2.262890  [19264/60000]\n",
      "loss: 2.245929  [25664/60000]\n",
      "loss: 2.207509  [32064/60000]\n",
      "loss: 2.215940  [38464/60000]\n",
      "loss: 2.178455  [44864/60000]\n",
      "loss: 2.175720  [51264/60000]\n",
      "loss: 2.144784  [57664/60000]\n",
      "Test Error: \n",
      " Accuracy: 45.9%, Avg loss: 2.136838 \n",
      "\n",
      "Epoch 2\n",
      "-------------------------------\n",
      "loss: 2.147223  [   64/60000]\n",
      "loss: 2.142260  [ 6464/60000]\n",
      "loss: 2.077764  [12864/60000]\n",
      "loss: 2.096853  [19264/60000]\n",
      "loss: 2.038099  [25664/60000]\n",
      "loss: 1.972077  [32064/60000]\n",
      "loss: 2.005098  [38464/60000]\n",
      "loss: 1.917624  [44864/60000]\n",
      "loss: 1.931202  [51264/60000]\n",
      "loss: 1.862826  [57664/60000]\n",
      "Test Error: \n",
      " Accuracy: 52.2%, Avg loss: 1.849584 \n",
      "\n",
      "Epoch 3\n",
      "-------------------------------\n",
      "loss: 1.887424  [   64/60000]\n",
      "loss: 1.858152  [ 6464/60000]\n",
      "loss: 1.731382  [12864/60000]\n",
      "loss: 1.782534  [19264/60000]\n",
      "loss: 1.664421  [25664/60000]\n",
      "loss: 1.615937  [32064/60000]\n",
      "loss: 1.647663  [38464/60000]\n",
      "loss: 1.545320  [44864/60000]\n",
      "loss: 1.579940  [51264/60000]\n",
      "loss: 1.483725  [57664/60000]\n",
      "Test Error: \n",
      " Accuracy: 60.2%, Avg loss: 1.489749 \n",
      "\n",
      "Epoch 4\n",
      "-------------------------------\n",
      "loss: 1.557664  [   64/60000]\n",
      "loss: 1.529535  [ 6464/60000]\n",
      "loss: 1.373513  [12864/60000]\n",
      "loss: 1.456507  [19264/60000]\n",
      "loss: 1.332910  [25664/60000]\n",
      "loss: 1.324701  [32064/60000]\n",
      "loss: 1.345590  [38464/60000]\n",
      "loss: 1.271217  [44864/60000]\n",
      "loss: 1.309962  [51264/60000]\n",
      "loss: 1.217286  [57664/60000]\n",
      "Test Error: \n",
      " Accuracy: 63.5%, Avg loss: 1.235756 \n",
      "\n",
      "Epoch 5\n",
      "-------------------------------\n",
      "loss: 1.311140  [   64/60000]\n",
      "loss: 1.302489  [ 6464/60000]\n",
      "loss: 1.130193  [12864/60000]\n",
      "loss: 1.243134  [19264/60000]\n",
      "loss: 1.116381  [25664/60000]\n",
      "loss: 1.132055  [32064/60000]\n",
      "loss: 1.159120  [38464/60000]\n",
      "loss: 1.097811  [44864/60000]\n",
      "loss: 1.138964  [51264/60000]\n",
      "loss: 1.059149  [57664/60000]\n",
      "Test Error: \n",
      " Accuracy: 65.1%, Avg loss: 1.075109 \n",
      "\n",
      "Epoch 6\n",
      "-------------------------------\n",
      "loss: 1.144701  [   64/60000]\n",
      "loss: 1.157256  [ 6464/60000]\n",
      "loss: 0.966381  [12864/60000]\n",
      "loss: 1.106335  [19264/60000]\n",
      "loss: 0.978313  [25664/60000]\n",
      "loss: 0.998914  [32064/60000]\n",
      "loss: 1.041662  [38464/60000]\n",
      "loss: 0.984841  [44864/60000]\n",
      "loss: 1.025641  [51264/60000]\n",
      "loss: 0.959364  [57664/60000]\n",
      "Test Error: \n",
      " Accuracy: 66.2%, Avg loss: 0.970054 \n",
      "\n",
      "Epoch 7\n",
      "-------------------------------\n",
      "loss: 1.027218  [   64/60000]\n",
      "loss: 1.061541  [ 6464/60000]\n",
      "loss: 0.853246  [12864/60000]\n",
      "loss: 1.014258  [19264/60000]\n",
      "loss: 0.888786  [25664/60000]\n",
      "loss: 0.903931  [32064/60000]\n",
      "loss: 0.963774  [38464/60000]\n",
      "loss: 0.910950  [44864/60000]\n",
      "loss: 0.947622  [51264/60000]\n",
      "loss: 0.892884  [57664/60000]\n",
      "Test Error: \n",
      " Accuracy: 67.6%, Avg loss: 0.898812 \n",
      "\n",
      "Epoch 8\n",
      "-------------------------------\n",
      "loss: 0.940987  [   64/60000]\n",
      "loss: 0.994954  [ 6464/60000]\n",
      "loss: 0.773114  [12864/60000]\n",
      "loss: 0.949763  [19264/60000]\n",
      "loss: 0.828441  [25664/60000]\n",
      "loss: 0.835352  [32064/60000]\n",
      "loss: 0.909536  [38464/60000]\n",
      "loss: 0.861848  [44864/60000]\n",
      "loss: 0.892531  [51264/60000]\n",
      "loss: 0.846028  [57664/60000]\n",
      "Test Error: \n",
      " Accuracy: 68.5%, Avg loss: 0.848539 \n",
      "\n",
      "Epoch 9\n",
      "-------------------------------\n",
      "loss: 0.875672  [   64/60000]\n",
      "loss: 0.945458  [ 6464/60000]\n",
      "loss: 0.714224  [12864/60000]\n",
      "loss: 0.902849  [19264/60000]\n",
      "loss: 0.785816  [25664/60000]\n",
      "loss: 0.784773  [32064/60000]\n",
      "loss: 0.869005  [38464/60000]\n",
      "loss: 0.827877  [44864/60000]\n",
      "loss: 0.852027  [51264/60000]\n",
      "loss: 0.810817  [57664/60000]\n",
      "Test Error: \n",
      " Accuracy: 69.8%, Avg loss: 0.811110 \n",
      "\n",
      "Epoch 10\n",
      "-------------------------------\n",
      "loss: 0.824327  [   64/60000]\n",
      "loss: 0.906122  [ 6464/60000]\n",
      "loss: 0.669050  [12864/60000]\n",
      "loss: 0.867320  [19264/60000]\n",
      "loss: 0.754113  [25664/60000]\n",
      "loss: 0.746646  [32064/60000]\n",
      "loss: 0.836737  [38464/60000]\n",
      "loss: 0.802936  [44864/60000]\n",
      "loss: 0.820949  [51264/60000]\n",
      "loss: 0.782993  [57664/60000]\n",
      "Test Error: \n",
      " Accuracy: 71.0%, Avg loss: 0.781729 \n",
      "\n",
      "Done!\n"
     ]
    }
   ],
   "source": [
    "test(test_dataloader, model, loss_fn)\n",
    "\n",
    "epochs = 10\n",
    "for t in range(epochs):\n",
    "    print(f\"Epoch {t+1}\\n-------------------------------\")\n",
    "    train(train_dataloader, model, loss_fn, optimizer)\n",
    "    test(test_dataloader, model, loss_fn)\n",
    "print(\"Done!\")"
   ]
  },
  {
   "cell_type": "code",
   "execution_count": 10,
   "id": "e69ce9ce-c190-4653-8c52-2ae96989779a",
   "metadata": {},
   "outputs": [
    {
     "name": "stdout",
     "output_type": "stream",
     "text": [
      "Saved PyTorch Model State to models/base-model.pth\n"
     ]
    }
   ],
   "source": [
    "torch.save(model.state_dict(), \"models/base-model.pth\")\n",
    "print(\"Saved PyTorch Model State to models/base-model.pth\")"
   ]
  },
  {
   "cell_type": "markdown",
   "id": "9a25d704-be52-414f-a3c5-b6273237ad14",
   "metadata": {},
   "source": [
    "## Use the Model"
   ]
  },
  {
   "cell_type": "code",
   "execution_count": 11,
   "id": "bcb319a0-3703-44a9-bbbb-8503012ffe1e",
   "metadata": {},
   "outputs": [
    {
     "data": {
      "text/plain": [
       "<All keys matched successfully>"
      ]
     },
     "execution_count": 11,
     "metadata": {},
     "output_type": "execute_result"
    }
   ],
   "source": [
    "model = NeuralNetwork()\n",
    "model.load_state_dict(torch.load(\"models/base-model.pth\"))"
   ]
  },
  {
   "cell_type": "code",
   "execution_count": 12,
   "id": "87081abf-1fb9-4ac6-9067-7490581dbd66",
   "metadata": {},
   "outputs": [
    {
     "name": "stdout",
     "output_type": "stream",
     "text": [
      "Predicted: \"Ankle boot\", Actual: \"Ankle boot\"\n"
     ]
    }
   ],
   "source": [
    "classes = test_data.classes\n",
    "\n",
    "model.eval()\n",
    "x, y = test_data[0][0], test_data[0][1]\n",
    "with torch.no_grad():\n",
    "    pred = model(x)\n",
    "    predicted, actual = classes[pred[0].argmax(0)], classes[y]\n",
    "    print(f'Predicted: \"{predicted}\", Actual: \"{actual}\"')"
   ]
  }
 ],
 "metadata": {
  "kernelspec": {
   "display_name": "Python 3 (ipykernel)",
   "language": "python",
   "name": "python3"
  },
  "language_info": {
   "codemirror_mode": {
    "name": "ipython",
    "version": 3
   },
   "file_extension": ".py",
   "mimetype": "text/x-python",
   "name": "python",
   "nbconvert_exporter": "python",
   "pygments_lexer": "ipython3",
   "version": "3.12.2"
  }
 },
 "nbformat": 4,
 "nbformat_minor": 5
}

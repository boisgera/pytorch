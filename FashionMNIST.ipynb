{
 "cells": [
  {
   "cell_type": "code",
   "execution_count": null,
   "id": "0618b638-63a6-4e9e-bd71-66214e7c84f4",
   "metadata": {},
   "outputs": [],
   "source": [
    "import numpy as np\n",
    "import matplotlib.pyplot as plt\n",
    "import PIL"
   ]
  },
  {
   "cell_type": "code",
   "execution_count": 68,
   "id": "c13fd66a-b2bf-4760-8c09-a8e9d2b39936",
   "metadata": {},
   "outputs": [],
   "source": [
    "import torch\n",
    "from torch.utils.data import DataLoader\n",
    "import torchvision"
   ]
  },
  {
   "cell_type": "markdown",
   "id": "58dee38c-2217-456c-aad3-a0540c80c9a4",
   "metadata": {},
   "source": [
    "Source: https://pytorch.org/tutorials/beginner/basics/quickstart_tutorial.html"
   ]
  },
  {
   "cell_type": "markdown",
   "id": "66a16d37-6d12-4d87-8f4e-018db045be69",
   "metadata": {},
   "source": [
    "## Image Data Set"
   ]
  },
  {
   "cell_type": "code",
   "execution_count": 69,
   "id": "a3a0e189-9919-4e2e-a7a8-6c0742c85ffd",
   "metadata": {},
   "outputs": [],
   "source": [
    "data = torchvision.datasets.FashionMNIST(root=\"data\", download=True)"
   ]
  },
  {
   "cell_type": "code",
   "execution_count": 70,
   "id": "6d1096eb-1cc4-4931-aac9-188381b7672c",
   "metadata": {},
   "outputs": [],
   "source": [
    "image, tag = data[0]"
   ]
  },
  {
   "cell_type": "code",
   "execution_count": 71,
   "id": "effc4e85-ad11-4942-b33b-c1469e94b80e",
   "metadata": {},
   "outputs": [
    {
     "data": {
      "image/jpeg": "[encoded data removed]",
      "image/png": "[encoded data removed]",
      "text/plain": [
       "<PIL.Image.Image image mode=L size=28x28>"
      ]
     },
     "execution_count": 71,
     "metadata": {},
     "output_type": "execute_result"
    }
   ],
   "source": [
    "image"
   ]
  },
  {
   "cell_type": "code",
   "execution_count": 72,
   "id": "1dabc31b-81e7-4635-a350-45e1becc51cb",
   "metadata": {},
   "outputs": [
    {
     "data": {
      "text/plain": [
       "9"
      ]
     },
     "execution_count": 72,
     "metadata": {},
     "output_type": "execute_result"
    }
   ],
   "source": [
    "tag"
   ]
  },
  {
   "cell_type": "code",
   "execution_count": 73,
   "id": "2d06cedc-760f-42db-8ff6-5b5d795dca03",
   "metadata": {},
   "outputs": [],
   "source": [
    "image, tag = data[1]"
   ]
  },
  {
   "cell_type": "code",
   "execution_count": 74,
   "id": "82b00f75-4f86-4a1d-af2e-6a1dd96d7867",
   "metadata": {},
   "outputs": [
    {
     "data": {
      "image/jpeg": "[encoded data removed]",
      "image/png": "[encoded data removed]",
      "text/plain": [
       "<PIL.Image.Image image mode=L size=28x28>"
      ]
     },
     "execution_count": 74,
     "metadata": {},
     "output_type": "execute_result"
    }
   ],
   "source": [
    "image"
   ]
  },
  {
   "cell_type": "code",
   "execution_count": 55,
   "id": "e9e25ef1-babd-47ac-89ac-6ad1f88983b1",
   "metadata": {},
   "outputs": [
    {
     "data": {
      "text/plain": [
       "0"
      ]
     },
     "execution_count": 55,
     "metadata": {},
     "output_type": "execute_result"
    }
   ],
   "source": [
    "tag"
   ]
  },
  {
   "cell_type": "code",
   "execution_count": 75,
   "id": "a241164e-9eed-4a1c-b463-5ec6729a3ee6",
   "metadata": {},
   "outputs": [
    {
     "data": {
      "text/plain": [
       "['T-shirt/top',\n",
       " 'Trouser',\n",
       " 'Pullover',\n",
       " 'Dress',\n",
       " 'Coat',\n",
       " 'Sandal',\n",
       " 'Shirt',\n",
       " 'Sneaker',\n",
       " 'Bag',\n",
       " 'Ankle boot']"
      ]
     },
     "execution_count": 75,
     "metadata": {},
     "output_type": "execute_result"
    }
   ],
   "source": [
    "data.classes # got this from help(data)"
   ]
  },
  {
   "cell_type": "code",
   "execution_count": 76,
   "id": "c1762384-cb75-46a8-92f0-3b3846a3917c",
   "metadata": {},
   "outputs": [],
   "source": [
    "data = torchvision.datasets.FashionMNIST(\n",
    "    root=\"data\",\n",
    "    download=True,\n",
    "    target_transform=lambda tag: data.classes[tag],\n",
    ")"
   ]
  },
  {
   "cell_type": "code",
   "execution_count": 58,
   "id": "628c31e1-9358-4619-bf35-f93fc39e4a3b",
   "metadata": {},
   "outputs": [
    {
     "data": {
      "text/plain": [
       "(<PIL.Image.Image image mode=L size=28x28>, 'Ankle boot')"
      ]
     },
     "execution_count": 58,
     "metadata": {},
     "output_type": "execute_result"
    }
   ],
   "source": [
    "data[0]"
   ]
  },
  {
   "cell_type": "code",
   "execution_count": 59,
   "id": "a573350a-bb9d-4ce6-8304-e90723afa01c",
   "metadata": {},
   "outputs": [
    {
     "data": {
      "text/plain": [
       "(<PIL.Image.Image image mode=L size=28x28>, 'T-shirt/top')"
      ]
     },
     "execution_count": 59,
     "metadata": {},
     "output_type": "execute_result"
    }
   ],
   "source": [
    "data[1]"
   ]
  },
  {
   "cell_type": "code",
   "execution_count": 60,
   "id": "5830a7b7-d8a3-498c-adf8-8670f360676e",
   "metadata": {},
   "outputs": [
    {
     "data": {
      "text/plain": [
       "(<PIL.Image.Image image mode=L size=28x28>, 'T-shirt/top')"
      ]
     },
     "execution_count": 60,
     "metadata": {},
     "output_type": "execute_result"
    }
   ],
   "source": [
    "data[2]"
   ]
  },
  {
   "cell_type": "code",
   "execution_count": 61,
   "id": "f0f8a7bf-4189-45fb-8fdb-d0227e70ef13",
   "metadata": {},
   "outputs": [],
   "source": [
    "image, cls = data[1]"
   ]
  },
  {
   "cell_type": "code",
   "execution_count": 91,
   "id": "7616268a-4508-4a70-befc-d2b53fb8e9aa",
   "metadata": {},
   "outputs": [
    {
     "data": {
      "image/jpeg": "[encoded data removed]",
      "image/png": "[encoded data removed]",
      "text/plain": [
       "<PIL.Image.Image image mode=L size=28x28>"
      ]
     },
     "execution_count": 91,
     "metadata": {},
     "output_type": "execute_result"
    }
   ],
   "source": [
    "image"
   ]
  },
  {
   "cell_type": "code",
   "execution_count": 93,
   "id": "ff728d16-89dc-4ede-b711-9750d3455034",
   "metadata": {},
   "outputs": [
    {
     "data": {
      "text/plain": [
       "('L', 28, 28, (28, 28))"
      ]
     },
     "execution_count": 93,
     "metadata": {},
     "output_type": "execute_result"
    }
   ],
   "source": [
    "image.mode, image.width, image.height, image.size # 8-bit grayscale, see https://pillow.readthedocs.io/en/stable/handbook/concepts.html#modes"
   ]
  },
  {
   "cell_type": "code",
   "execution_count": 63,
   "id": "8b27fc8e-fadd-40c8-86b4-2c0d2cb62a60",
   "metadata": {},
   "outputs": [],
   "source": [
    "# not required here, matplotlib can consume PIL images directly\n",
    "image_array = np.array(image)\n",
    "print(image_array.shape, image_array.dtype)\n",
    "print(image_array)"
   ]
  },
  {
   "cell_type": "code",
   "execution_count": 94,
   "id": "380c7d42-49f6-4ff0-9bea-e9fd9dcf22e0",
   "metadata": {},
   "outputs": [
    {
     "data": {
      "image/png": "[encoded data removed]",
      "text/plain": [
       "<Figure size 1000x1000 with 2 Axes>"
      ]
     },
     "metadata": {},
     "output_type": "display_data"
    }
   ],
   "source": [
    "plt.figure(figsize=(10, 10))\n",
    "plt.imshow(image)\n",
    "plt.colorbar()\n",
    "plt.set_cmap(\"grey\")\n",
    "plt.title(cls)\n",
    "None"
   ]
  },
  {
   "cell_type": "code",
   "execution_count": 99,
   "id": "31f61c9a-e2c6-499b-a0f7-cd0c1a883269",
   "metadata": {},
   "outputs": [],
   "source": [
    "tensor = torch.from_numpy(image_array)"
   ]
  },
  {
   "cell_type": "code",
   "execution_count": 100,
   "id": "605d2ccd-2fd2-4bfa-90bb-f2c7bad568a5",
   "metadata": {},
   "outputs": [
    {
     "data": {
      "text/plain": [
       "torch.Size([28, 28])"
      ]
     },
     "execution_count": 100,
     "metadata": {},
     "output_type": "execute_result"
    }
   ],
   "source": [
    "tensor.shape"
   ]
  },
  {
   "cell_type": "code",
   "execution_count": 103,
   "id": "b00ce6d1-26a1-4925-a417-7832778bc52a",
   "metadata": {},
   "outputs": [
    {
     "data": {
      "text/plain": [
       "(28, 28)"
      ]
     },
     "execution_count": 103,
     "metadata": {},
     "output_type": "execute_result"
    }
   ],
   "source": [
    "w, h = tensor.shape\n",
    "w, h"
   ]
  },
  {
   "cell_type": "code",
   "execution_count": 104,
   "id": "64a9cdd4-8938-4172-a4fe-9879b10ae61e",
   "metadata": {},
   "outputs": [
    {
     "data": {
      "text/plain": [
       "torch.uint8"
      ]
     },
     "execution_count": 104,
     "metadata": {},
     "output_type": "execute_result"
    }
   ],
   "source": [
    "tensor.dtype"
   ]
  },
  {
   "cell_type": "code",
   "execution_count": 107,
   "id": "01b83d85-2760-4790-9ecc-c280d5ddf2ee",
   "metadata": {},
   "outputs": [
    {
     "data": {
      "text/plain": [
       "tensor(207, dtype=torch.uint8)"
      ]
     },
     "execution_count": 107,
     "metadata": {},
     "output_type": "execute_result"
    }
   ],
   "source": [
    "tensor[5, 8]"
   ]
  },
  {
   "cell_type": "code",
   "execution_count": 118,
   "id": "4bd84f74-b515-4b29-8544-2912a3d668a0",
   "metadata": {},
   "outputs": [
    {
     "data": {
      "text/plain": [
       "tensor([[[0.0000, 0.0000, 0.0000, 0.0000, 0.0000, 0.0039, 0.0000, 0.0000,\n",
       "          0.0000, 0.0000, 0.1608, 0.7373, 0.4039, 0.2118, 0.1882, 0.1686,\n",
       "          0.3412, 0.6588, 0.5216, 0.0627, 0.0000, 0.0000, 0.0000, 0.0000,\n",
       "          0.0000, 0.0000, 0.0000, 0.0000],\n",
       "         [0.0000, 0.0000, 0.0000, 0.0039, 0.0000, 0.0000, 0.0000, 0.1922,\n",
       "          0.5333, 0.8588, 0.8471, 0.8941, 0.9255, 1.0000, 1.0000, 1.0000,\n",
       "          1.0000, 0.8510, 0.8431, 0.9961, 0.9059, 0.6275, 0.1765, 0.0000,\n",
       "          0.0000, 0.0000, 0.0000, 0.0000],\n",
       "         [0.0000, 0.0000, 0.0000, 0.0000, 0.0000, 0.0549, 0.6902, 0.8706,\n",
       "          0.8784, 0.8314, 0.7961, 0.7765, 0.7686, 0.7843, 0.8431, 0.8000,\n",
       "          0.7922, 0.7882, 0.7882, 0.7882, 0.8196, 0.8549, 0.8784, 0.6431,\n",
       "          0.0000, 0.0000, 0.0000, 0.0000],\n",
       "         [0.0000, 0.0000, 0.0000, 0.0000, 0.0000, 0.7373, 0.8588, 0.7843,\n",
       "          0.7765, 0.7922, 0.7765, 0.7804, 0.7804, 0.7882, 0.7686, 0.7765,\n",
       "          0.7765, 0.7843, 0.7843, 0.7843, 0.7843, 0.7882, 0.7843, 0.8824,\n",
       "          0.1608, 0.0000, 0.0000, 0.0000],\n",
       "         [0.0000, 0.0000, 0.0000, 0.0000, 0.2000, 0.8588, 0.7804, 0.7961,\n",
       "          0.7961, 0.8314, 0.9333, 0.9725, 0.9804, 0.9608, 0.9765, 0.9647,\n",
       "          0.9686, 0.9882, 0.9725, 0.9216, 0.8118, 0.7961, 0.7961, 0.8706,\n",
       "          0.5490, 0.0000, 0.0000, 0.0000],\n",
       "         [0.0000, 0.0000, 0.0000, 0.0000, 0.4549, 0.8863, 0.8078, 0.8000,\n",
       "          0.8118, 0.8000, 0.3961, 0.2941, 0.1843, 0.2863, 0.1882, 0.1961,\n",
       "          0.1765, 0.2000, 0.2471, 0.4431, 0.8706, 0.7922, 0.8078, 0.8627,\n",
       "          0.8784, 0.0000, 0.0000, 0.0000],\n",
       "         [0.0000, 0.0000, 0.0000, 0.0000, 0.7843, 0.8706, 0.8196, 0.7961,\n",
       "          0.8431, 0.7843, 0.0000, 0.2745, 0.3843, 0.0000, 0.4039, 0.2314,\n",
       "          0.2667, 0.2784, 0.1922, 0.0000, 0.8588, 0.8078, 0.8392, 0.8235,\n",
       "          0.9804, 0.1490, 0.0000, 0.0000],\n",
       "         [0.0000, 0.0000, 0.0000, 0.0000, 0.9686, 0.8549, 0.8314, 0.8235,\n",
       "          0.8431, 0.8392, 0.0000, 0.9961, 0.9529, 0.5451, 1.0000, 0.6824,\n",
       "          0.9843, 1.0000, 0.8039, 0.0000, 0.8431, 0.8510, 0.8392, 0.8157,\n",
       "          0.8627, 0.3725, 0.0000, 0.0000],\n",
       "         [0.0000, 0.0000, 0.0000, 0.1765, 0.8863, 0.8392, 0.8392, 0.8431,\n",
       "          0.8784, 0.8039, 0.0000, 0.1647, 0.1373, 0.2353, 0.0627, 0.0667,\n",
       "          0.0471, 0.0510, 0.2745, 0.0000, 0.7412, 0.8471, 0.8314, 0.8078,\n",
       "          0.8314, 0.6118, 0.0000, 0.0000],\n",
       "         [0.0000, 0.0000, 0.0000, 0.6431, 0.9216, 0.8392, 0.8275, 0.8627,\n",
       "          0.8471, 0.7882, 0.2039, 0.2784, 0.3490, 0.3686, 0.3255, 0.3059,\n",
       "          0.2745, 0.2980, 0.3608, 0.3412, 0.8078, 0.8118, 0.8706, 0.8353,\n",
       "          0.8588, 0.8157, 0.0000, 0.0000],\n",
       "         [0.0000, 0.0000, 0.0000, 0.4157, 0.7333, 0.8745, 0.9294, 0.9725,\n",
       "          0.8275, 0.7765, 0.9882, 0.9804, 0.9725, 0.9608, 0.9725, 0.9882,\n",
       "          0.9922, 0.9804, 0.9882, 0.9373, 0.7882, 0.8314, 0.8824, 0.8431,\n",
       "          0.7569, 0.4431, 0.0000, 0.0000],\n",
       "         [0.0000, 0.0000, 0.0000, 0.0000, 0.0000, 0.0667, 0.2118, 0.6235,\n",
       "          0.8706, 0.7569, 0.8157, 0.7529, 0.7725, 0.7843, 0.7843, 0.7843,\n",
       "          0.7843, 0.7882, 0.7961, 0.7647, 0.8235, 0.6471, 0.0000, 0.0000,\n",
       "          0.0000, 0.0000, 0.0000, 0.0000],\n",
       "         [0.0000, 0.0000, 0.0000, 0.0000, 0.0000, 0.0000, 0.0000, 0.1843,\n",
       "          0.8824, 0.7529, 0.8392, 0.7961, 0.8078, 0.8000, 0.8000, 0.8039,\n",
       "          0.8078, 0.8000, 0.8314, 0.7725, 0.8549, 0.4196, 0.0000, 0.0000,\n",
       "          0.0000, 0.0000, 0.0000, 0.0000],\n",
       "         [0.0000, 0.0000, 0.0000, 0.0000, 0.0039, 0.0235, 0.0000, 0.1804,\n",
       "          0.8314, 0.7647, 0.8314, 0.7922, 0.8078, 0.8039, 0.8000, 0.8039,\n",
       "          0.8078, 0.8000, 0.8314, 0.7843, 0.8549, 0.3569, 0.0000, 0.0118,\n",
       "          0.0039, 0.0000, 0.0000, 0.0000],\n",
       "         [0.0000, 0.0000, 0.0000, 0.0000, 0.0000, 0.0039, 0.0000, 0.0431,\n",
       "          0.7725, 0.7804, 0.8039, 0.7922, 0.8039, 0.8078, 0.8000, 0.8039,\n",
       "          0.8118, 0.8000, 0.8039, 0.8039, 0.8549, 0.3020, 0.0000, 0.0196,\n",
       "          0.0000, 0.0000, 0.0000, 0.0000],\n",
       "         [0.0000, 0.0000, 0.0000, 0.0000, 0.0000, 0.0118, 0.0000, 0.0078,\n",
       "          0.7490, 0.7765, 0.7882, 0.8039, 0.8078, 0.8039, 0.8039, 0.8078,\n",
       "          0.8196, 0.8078, 0.7804, 0.8196, 0.8588, 0.2902, 0.0000, 0.0196,\n",
       "          0.0000, 0.0000, 0.0000, 0.0000],\n",
       "         [0.0000, 0.0000, 0.0000, 0.0000, 0.0000, 0.0078, 0.0000, 0.0000,\n",
       "          0.7373, 0.7725, 0.7843, 0.8118, 0.8118, 0.8000, 0.8118, 0.8118,\n",
       "          0.8235, 0.8157, 0.7765, 0.8118, 0.8667, 0.2824, 0.0000, 0.0157,\n",
       "          0.0000, 0.0000, 0.0000, 0.0000],\n",
       "         [0.0000, 0.0000, 0.0000, 0.0000, 0.0000, 0.0078, 0.0000, 0.0000,\n",
       "          0.8431, 0.7765, 0.7961, 0.8078, 0.8157, 0.8039, 0.8118, 0.8118,\n",
       "          0.8235, 0.8157, 0.7843, 0.7922, 0.8706, 0.2941, 0.0000, 0.0157,\n",
       "          0.0000, 0.0000, 0.0000, 0.0000],\n",
       "         [0.0000, 0.0000, 0.0000, 0.0000, 0.0000, 0.0039, 0.0000, 0.0000,\n",
       "          0.8314, 0.7765, 0.8196, 0.8078, 0.8196, 0.8078, 0.8157, 0.8118,\n",
       "          0.8275, 0.8078, 0.8039, 0.7765, 0.8667, 0.3137, 0.0000, 0.0118,\n",
       "          0.0000, 0.0000, 0.0000, 0.0000],\n",
       "         [0.0000, 0.0000, 0.0000, 0.0000, 0.0000, 0.0039, 0.0000, 0.0000,\n",
       "          0.8000, 0.7882, 0.8039, 0.8157, 0.8118, 0.8039, 0.8275, 0.8039,\n",
       "          0.8235, 0.8235, 0.8196, 0.7647, 0.8667, 0.3765, 0.0000, 0.0118,\n",
       "          0.0000, 0.0000, 0.0000, 0.0000],\n",
       "         [0.0000, 0.0000, 0.0000, 0.0000, 0.0000, 0.0039, 0.0000, 0.0000,\n",
       "          0.7922, 0.7882, 0.8039, 0.8196, 0.8118, 0.8039, 0.8353, 0.8078,\n",
       "          0.8235, 0.8196, 0.8235, 0.7608, 0.8510, 0.4118, 0.0000, 0.0078,\n",
       "          0.0000, 0.0000, 0.0000, 0.0000],\n",
       "         [0.0000, 0.0000, 0.0000, 0.0000, 0.0000, 0.0039, 0.0000, 0.0000,\n",
       "          0.8000, 0.8000, 0.8039, 0.8157, 0.8118, 0.8039, 0.8431, 0.8118,\n",
       "          0.8235, 0.8157, 0.8275, 0.7569, 0.8353, 0.4510, 0.0000, 0.0078,\n",
       "          0.0000, 0.0000, 0.0000, 0.0000],\n",
       "         [0.0000, 0.0000, 0.0000, 0.0000, 0.0000, 0.0000, 0.0000, 0.0000,\n",
       "          0.8000, 0.8118, 0.8118, 0.8157, 0.8078, 0.8078, 0.8431, 0.8235,\n",
       "          0.8235, 0.8118, 0.8314, 0.7647, 0.8235, 0.4627, 0.0000, 0.0078,\n",
       "          0.0000, 0.0000, 0.0000, 0.0000],\n",
       "         [0.0000, 0.0000, 0.0000, 0.0000, 0.0000, 0.0039, 0.0000, 0.0000,\n",
       "          0.7765, 0.8157, 0.8157, 0.8157, 0.8000, 0.8118, 0.8314, 0.8314,\n",
       "          0.8235, 0.8118, 0.8275, 0.7686, 0.8118, 0.4745, 0.0000, 0.0039,\n",
       "          0.0000, 0.0000, 0.0000, 0.0000],\n",
       "         [0.0000, 0.0000, 0.0000, 0.0000, 0.0000, 0.0039, 0.0000, 0.0000,\n",
       "          0.7765, 0.8235, 0.8118, 0.8157, 0.8078, 0.8196, 0.8353, 0.8314,\n",
       "          0.8275, 0.8118, 0.8235, 0.7725, 0.8118, 0.4863, 0.0000, 0.0039,\n",
       "          0.0000, 0.0000, 0.0000, 0.0000],\n",
       "         [0.0000, 0.0000, 0.0000, 0.0000, 0.0000, 0.0000, 0.0000, 0.0000,\n",
       "          0.6745, 0.8235, 0.7961, 0.7882, 0.7804, 0.8000, 0.8118, 0.8039,\n",
       "          0.8000, 0.7882, 0.8039, 0.7725, 0.8078, 0.4980, 0.0000, 0.0000,\n",
       "          0.0000, 0.0000, 0.0000, 0.0000],\n",
       "         [0.0000, 0.0000, 0.0000, 0.0000, 0.0000, 0.0000, 0.0000, 0.0000,\n",
       "          0.7373, 0.8667, 0.8392, 0.9176, 0.9255, 0.9333, 0.9569, 0.9569,\n",
       "          0.9569, 0.9412, 0.9529, 0.8392, 0.8784, 0.6353, 0.0000, 0.0078,\n",
       "          0.0000, 0.0000, 0.0000, 0.0000],\n",
       "         [0.0000, 0.0000, 0.0000, 0.0000, 0.0000, 0.0039, 0.0000, 0.0000,\n",
       "          0.5451, 0.5725, 0.5098, 0.5294, 0.5294, 0.5373, 0.4902, 0.4863,\n",
       "          0.4902, 0.4745, 0.4667, 0.4471, 0.5098, 0.2980, 0.0000, 0.0000,\n",
       "          0.0000, 0.0000, 0.0000, 0.0000]]])"
      ]
     },
     "execution_count": 118,
     "metadata": {},
     "output_type": "execute_result"
    }
   ],
   "source": [
    "tensor = torchvision.transforms.ToTensor()(image) # Notice strange factory pattern.\n",
    "# How does this stuff flies when used in datasets transforms?\n",
    "tensor # Rescaled to [0, 1) (or [0, 1] ?)"
   ]
  },
  {
   "cell_type": "code",
   "execution_count": 120,
   "id": "01b74bc1-ebad-4bcc-944a-287d3b81a2e4",
   "metadata": {},
   "outputs": [
    {
     "data": {
      "text/plain": [
       "torch.float32"
      ]
     },
     "execution_count": 120,
     "metadata": {},
     "output_type": "execute_result"
    }
   ],
   "source": [
    "tensor.dtype # half-precision"
   ]
  },
  {
   "cell_type": "code",
   "execution_count": 126,
   "id": "17d2d539-cb63-4f0d-a557-13daf598b6c8",
   "metadata": {},
   "outputs": [
    {
     "data": {
      "text/plain": [
       "array([[0.        , 0.        , 0.        , 0.        , 0.        ,\n",
       "        0.00392157, 0.        , 0.        , 0.        , 0.        ,\n",
       "        0.16078431, 0.7372549 , 0.40392157, 0.21176471, 0.18823529,\n",
       "        0.16862745, 0.34117647, 0.65882353, 0.52156863, 0.0627451 ,\n",
       "        0.        , 0.        , 0.        , 0.        , 0.        ,\n",
       "        0.        , 0.        , 0.        ],\n",
       "       [0.        , 0.        , 0.        , 0.00392157, 0.        ,\n",
       "        0.        , 0.        , 0.19215686, 0.53333333, 0.85882353,\n",
       "        0.84705882, 0.89411765, 0.9254902 , 1.        , 1.        ,\n",
       "        1.        , 1.        , 0.85098039, 0.84313725, 0.99607843,\n",
       "        0.90588235, 0.62745098, 0.17647059, 0.        , 0.        ,\n",
       "        0.        , 0.        , 0.        ]])"
      ]
     },
     "execution_count": 126,
     "metadata": {},
     "output_type": "execute_result"
    }
   ],
   "source": [
    "(image_array / 255)[:2]  # Uhu?"
   ]
  },
  {
   "cell_type": "code",
   "execution_count": 144,
   "id": "3a6decff-8477-48ec-9f7e-7c1115bc0794",
   "metadata": {},
   "outputs": [
    {
     "data": {
      "text/plain": [
       "torch.Size([1, 28, 28])"
      ]
     },
     "execution_count": 144,
     "metadata": {},
     "output_type": "execute_result"
    }
   ],
   "source": [
    "tensor.shape # Arf, introduced a batch dimension here\n",
    "# So they rescale, half-prec and autobatch the stuff."
   ]
  },
  {
   "cell_type": "code",
   "execution_count": 137,
   "id": "42655ef8-e7ae-46c0-9282-79ade2a0ac50",
   "metadata": {},
   "outputs": [
    {
     "data": {
      "text/plain": [
       "0.003921568859368563"
      ]
     },
     "execution_count": 137,
     "metadata": {},
     "output_type": "execute_result"
    }
   ],
   "source": [
    "tensor[0, 0, 5].item()"
   ]
  },
  {
   "cell_type": "code",
   "execution_count": 142,
   "id": "9105c100-bb25-4e84-b071-7f83552c135c",
   "metadata": {},
   "outputs": [
    {
     "data": {
      "text/plain": [
       "0.00392156862745098"
      ]
     },
     "execution_count": 142,
     "metadata": {},
     "output_type": "execute_result"
    }
   ],
   "source": [
    "image_array[0, 5] / 255 # Shit, they map to [0, 1], not [0, 1)"
   ]
  },
  {
   "cell_type": "code",
   "execution_count": 143,
   "id": "9d5f5fda-497a-4660-ae9c-372e095898bc",
   "metadata": {},
   "outputs": [
    {
     "data": {
      "text/plain": [
       "0.00390625"
      ]
     },
     "execution_count": 143,
     "metadata": {},
     "output_type": "execute_result"
    }
   ],
   "source": [
    "image_array[0, 5] / 256"
   ]
  },
  {
   "cell_type": "code",
   "execution_count": 152,
   "id": "04b360df-f816-4561-b28f-dc5832c6e825",
   "metadata": {},
   "outputs": [],
   "source": [
    "data = torchvision.datasets.FashionMNIST(\n",
    "    root=\"data\",\n",
    "    download=True,\n",
    "    transform = lambda image: torch.from_numpy(np.array(image) / 256) ,\n",
    "    target_transform=lambda tag: data.classes[tag],\n",
    ")"
   ]
  },
  {
   "cell_type": "code",
   "execution_count": 159,
   "id": "9a80d61e-6cd7-4a4b-a497-cfcb8233ce3f",
   "metadata": {},
   "outputs": [],
   "source": [
    "tensor, cls = data[1]"
   ]
  },
  {
   "cell_type": "code",
   "execution_count": 160,
   "id": "3d8c4bac-1e00-44ff-ba93-277d8797e939",
   "metadata": {},
   "outputs": [
    {
     "data": {
      "text/plain": [
       "(torch.Size([28, 28]), torch.float64)"
      ]
     },
     "execution_count": 160,
     "metadata": {},
     "output_type": "execute_result"
    }
   ],
   "source": [
    "tensor.shape, tensor.dtype"
   ]
  },
  {
   "cell_type": "code",
   "execution_count": 162,
   "id": "1f33614b-1708-46a0-8562-83cb3bb7f317",
   "metadata": {},
   "outputs": [
    {
     "data": {
      "text/plain": [
       "0.00390625"
      ]
     },
     "execution_count": 162,
     "metadata": {},
     "output_type": "execute_result"
    }
   ],
   "source": [
    "tensor[0, 5].item() # better, baby!"
   ]
  },
  {
   "cell_type": "code",
   "execution_count": 158,
   "id": "2b3671bc-8fc1-4e07-b9d4-baa3a37b0abe",
   "metadata": {},
   "outputs": [
    {
     "data": {
      "text/plain": [
       "tensor([[0.0000, 0.0000, 0.0000, 0.0000, 0.0000, 0.0000, 0.0000, 0.0000, 0.0000,\n",
       "         0.0000, 0.0000, 0.0000, 0.0000, 0.0000, 0.0000, 0.0000, 0.0000, 0.0000,\n",
       "         0.0000, 0.0000, 0.0000, 0.0000, 0.0000, 0.0000, 0.0000, 0.0000, 0.0000,\n",
       "         0.0000],\n",
       "        [0.0000, 0.0000, 0.0000, 0.0000, 0.0000, 0.0000, 0.0000, 0.0000, 0.0000,\n",
       "         0.0000, 0.0000, 0.0000, 0.0000, 0.0000, 0.0000, 0.0000, 0.0000, 0.0000,\n",
       "         0.0000, 0.0000, 0.0000, 0.0000, 0.0000, 0.0000, 0.0000, 0.0000, 0.0000,\n",
       "         0.0000],\n",
       "        [0.0000, 0.0000, 0.0000, 0.0000, 0.0000, 0.0000, 0.0000, 0.0000, 0.0000,\n",
       "         0.0000, 0.0000, 0.0000, 0.0000, 0.0000, 0.0000, 0.0000, 0.0000, 0.0000,\n",
       "         0.0000, 0.0000, 0.0000, 0.0000, 0.0000, 0.0000, 0.0000, 0.0000, 0.0000,\n",
       "         0.0000],\n",
       "        [0.0000, 0.0000, 0.0000, 0.0000, 0.0000, 0.0000, 0.0000, 0.0000, 0.0000,\n",
       "         0.0000, 0.0000, 0.0000, 0.0039, 0.0000, 0.0000, 0.0508, 0.2852, 0.0000,\n",
       "         0.0000, 0.0039, 0.0156, 0.0000, 0.0000, 0.0000, 0.0000, 0.0039, 0.0039,\n",
       "         0.0000],\n",
       "        [0.0000, 0.0000, 0.0000, 0.0000, 0.0000, 0.0000, 0.0000, 0.0000, 0.0000,\n",
       "         0.0000, 0.0000, 0.0000, 0.0117, 0.0000, 0.1406, 0.5312, 0.4961, 0.2422,\n",
       "         0.2109, 0.0000, 0.0000, 0.0000, 0.0039, 0.0117, 0.0156, 0.0000, 0.0000,\n",
       "         0.0117],\n",
       "        [0.0000, 0.0000, 0.0000, 0.0000, 0.0000, 0.0000, 0.0000, 0.0000, 0.0000,\n",
       "         0.0000, 0.0000, 0.0000, 0.0234, 0.0000, 0.3984, 0.7969, 0.6875, 0.5234,\n",
       "         0.5625, 0.4805, 0.0898, 0.0000, 0.0000, 0.0000, 0.0000, 0.0469, 0.0391,\n",
       "         0.0000],\n",
       "        [0.0000, 0.0000, 0.0000, 0.0000, 0.0000, 0.0000, 0.0000, 0.0000, 0.0000,\n",
       "         0.0000, 0.0000, 0.0000, 0.0000, 0.0000, 0.6055, 0.9219, 0.8086, 0.6953,\n",
       "         0.4180, 0.6094, 0.6289, 0.4258, 0.2500, 0.0898, 0.3008, 0.5078, 0.2812,\n",
       "         0.0586],\n",
       "        [0.0000, 0.0000, 0.0000, 0.0000, 0.0000, 0.0000, 0.0000, 0.0000, 0.0000,\n",
       "         0.0000, 0.0000, 0.0039, 0.0000, 0.2695, 0.8086, 0.8711, 0.8516, 0.8438,\n",
       "         0.8438, 0.6367, 0.4961, 0.4727, 0.4766, 0.5703, 0.5508, 0.3438, 0.6719,\n",
       "         0.2578],\n",
       "        [0.0000, 0.0000, 0.0000, 0.0000, 0.0000, 0.0000, 0.0000, 0.0000, 0.0000,\n",
       "         0.0039, 0.0039, 0.0039, 0.0000, 0.7812, 0.9062, 0.9062, 0.9102, 0.8945,\n",
       "         0.8711, 0.8711, 0.8398, 0.8320, 0.6406, 0.4961, 0.4805, 0.7656, 0.8945,\n",
       "         0.0000],\n",
       "        [0.0000, 0.0000, 0.0000, 0.0000, 0.0000, 0.0000, 0.0000, 0.0000, 0.0000,\n",
       "         0.0000, 0.0000, 0.0000, 0.0000, 0.7148, 0.8789, 0.8438, 0.8711, 0.8906,\n",
       "         0.9180, 0.8867, 0.8750, 0.8672, 0.8750, 0.8633, 0.8711, 0.9570, 0.6758,\n",
       "         0.0000],\n",
       "        [0.0000, 0.0000, 0.0000, 0.0000, 0.0000, 0.0000, 0.0000, 0.0000, 0.0000,\n",
       "         0.0000, 0.0000, 0.0000, 0.0000, 0.7539, 0.8906, 0.8516, 0.8320, 0.7734,\n",
       "         0.7031, 0.8281, 0.8203, 0.8242, 0.8320, 0.8711, 0.8594, 0.9492, 0.7891,\n",
       "         0.0000],\n",
       "        [0.0000, 0.0000, 0.0000, 0.0000, 0.0000, 0.0000, 0.0000, 0.0000, 0.0000,\n",
       "         0.0039, 0.0117, 0.0000, 0.0469, 0.8555, 0.8594, 0.8281, 0.8516, 0.7500,\n",
       "         0.6602, 0.8867, 0.8125, 0.8516, 0.8750, 0.8281, 0.8828, 0.7695, 0.8164,\n",
       "         0.2031],\n",
       "        [0.0000, 0.0000, 0.0000, 0.0000, 0.0000, 0.0000, 0.0000, 0.0000, 0.0000,\n",
       "         0.0000, 0.0234, 0.0000, 0.3867, 0.9531, 0.8672, 0.8594, 0.8516, 0.7930,\n",
       "         0.7734, 0.8633, 0.8398, 0.8320, 0.8672, 0.8594, 0.9570, 0.4648, 0.6523,\n",
       "         0.2188],\n",
       "        [0.0000, 0.0000, 0.0000, 0.0000, 0.0000, 0.0000, 0.0000, 0.0000, 0.0000,\n",
       "         0.0156, 0.0000, 0.0000, 0.2148, 0.9219, 0.8906, 0.8984, 0.8906, 0.9375,\n",
       "         0.9062, 0.8320, 0.8516, 0.8711, 0.9141, 0.8477, 0.8477, 0.8164, 0.3594,\n",
       "         0.0000],\n",
       "        [0.0000, 0.0000, 0.0039, 0.0156, 0.0234, 0.0273, 0.0078, 0.0000, 0.0000,\n",
       "         0.0000, 0.0000, 0.0000, 0.9258, 0.8828, 0.8477, 0.8711, 0.8672, 0.8555,\n",
       "         0.8672, 0.8633, 0.8438, 0.8711, 0.8945, 0.8398, 0.8516, 0.9961, 0.3008,\n",
       "         0.0000],\n",
       "        [0.0000, 0.0117, 0.0000, 0.0000, 0.0000, 0.0000, 0.0000, 0.0000, 0.0000,\n",
       "         0.2422, 0.5664, 0.7969, 0.8906, 0.8086, 0.8320, 0.8633, 0.8516, 0.8125,\n",
       "         0.8242, 0.8516, 0.8750, 0.8711, 0.8555, 0.8398, 0.8750, 0.9531, 0.6211,\n",
       "         0.0000],\n",
       "        [0.0000, 0.0000, 0.0000, 0.0000, 0.0703, 0.1719, 0.3203, 0.4180, 0.7383,\n",
       "         0.8906, 0.8594, 0.8672, 0.8477, 0.8828, 0.7812, 0.8008, 0.8242, 0.8984,\n",
       "         0.8750, 0.9141, 0.6875, 0.7344, 0.9766, 0.9688, 0.9102, 0.9297, 0.8398,\n",
       "         0.0000],\n",
       "        [0.0000, 0.2227, 0.7305, 0.8125, 0.8750, 0.8633, 0.8750, 0.8125, 0.7969,\n",
       "         0.8359, 0.8125, 0.8164, 0.7812, 0.6211, 0.9570, 0.7539, 0.8047, 0.8711,\n",
       "         0.9961, 0.9961, 0.8633, 0.9141, 0.8633, 0.8242, 0.8594, 0.9062, 0.9609,\n",
       "         0.0000],\n",
       "        [0.0117, 0.7891, 0.8906, 0.8750, 0.8633, 0.8242, 0.8242, 0.8359, 0.8008,\n",
       "         0.8008, 0.8008, 0.8594, 0.9375, 0.3125, 0.5859, 0.9961, 0.8945, 0.8633,\n",
       "         0.7344, 0.6016, 0.7461, 0.8203, 0.7969, 0.8164, 0.8672, 0.8906, 0.8789,\n",
       "         0.0000],\n",
       "        [0.3828, 0.9102, 0.7734, 0.8203, 0.8672, 0.8945, 0.8945, 0.9141, 0.9727,\n",
       "         0.8594, 0.7578, 0.8398, 0.8477, 0.9414, 0.2539, 0.2852, 0.4141, 0.4570,\n",
       "         0.6562, 0.8555, 0.8633, 0.8398, 0.8477, 0.8711, 0.8711, 0.8750, 0.8945,\n",
       "         0.1133],\n",
       "        [0.2930, 0.7969, 0.8281, 0.7969, 0.7539, 0.8008, 0.8242, 0.8789, 0.8438,\n",
       "         0.7227, 0.7695, 0.8047, 0.7734, 0.8320, 0.9375, 0.7617, 0.8867, 0.9570,\n",
       "         0.9336, 0.8711, 0.8516, 0.8281, 0.8164, 0.8672, 0.8594, 0.8633, 0.8984,\n",
       "         0.2617],\n",
       "        [0.1875, 0.7930, 0.7148, 0.7578, 0.8320, 0.7695, 0.7227, 0.7422, 0.7578,\n",
       "         0.7500, 0.7891, 0.8359, 0.8555, 0.8633, 0.8594, 0.9219, 0.8789, 0.8438,\n",
       "         0.7773, 0.8047, 0.7266, 0.7070, 0.6914, 0.6719, 0.7070, 0.8008, 0.8047,\n",
       "         0.4492],\n",
       "        [0.0000, 0.4766, 0.8555, 0.7539, 0.6992, 0.6680, 0.7148, 0.7656, 0.7969,\n",
       "         0.8203, 0.8320, 0.8086, 0.8242, 0.8203, 0.7812, 0.7656, 0.7578, 0.7461,\n",
       "         0.7617, 0.7461, 0.7734, 0.7500, 0.6875, 0.6094, 0.6523, 0.6914, 0.8203,\n",
       "         0.3594],\n",
       "        [0.0000, 0.0000, 0.2891, 0.7383, 0.8281, 0.7461, 0.6836, 0.6719, 0.6836,\n",
       "         0.7070, 0.7227, 0.7344, 0.7383, 0.7344, 0.7539, 0.7734, 0.7969, 0.8164,\n",
       "         0.8203, 0.8203, 0.8242, 0.7344, 0.7344, 0.7578, 0.7500, 0.8438, 0.6641,\n",
       "         0.0000],\n",
       "        [0.0078, 0.0000, 0.0000, 0.0000, 0.2578, 0.7812, 0.8672, 0.9258, 0.9336,\n",
       "         0.9453, 0.9609, 0.9492, 0.9531, 0.8633, 0.8594, 0.7539, 0.7461, 0.6992,\n",
       "         0.7109, 0.7109, 0.7070, 0.6875, 0.6484, 0.6562, 0.3867, 0.2266, 0.0000,\n",
       "         0.0000],\n",
       "        [0.0000, 0.0000, 0.0000, 0.0000, 0.0000, 0.0000, 0.0000, 0.1562, 0.2383,\n",
       "         0.1719, 0.2812, 0.1602, 0.1367, 0.0000, 0.0000, 0.0000, 0.0000, 0.0000,\n",
       "         0.0000, 0.0000, 0.0000, 0.0000, 0.0000, 0.0000, 0.0000, 0.0000, 0.0000,\n",
       "         0.0000],\n",
       "        [0.0000, 0.0000, 0.0000, 0.0000, 0.0000, 0.0000, 0.0000, 0.0000, 0.0000,\n",
       "         0.0000, 0.0000, 0.0000, 0.0000, 0.0000, 0.0000, 0.0000, 0.0000, 0.0000,\n",
       "         0.0000, 0.0000, 0.0000, 0.0000, 0.0000, 0.0000, 0.0000, 0.0000, 0.0000,\n",
       "         0.0000],\n",
       "        [0.0000, 0.0000, 0.0000, 0.0000, 0.0000, 0.0000, 0.0000, 0.0000, 0.0000,\n",
       "         0.0000, 0.0000, 0.0000, 0.0000, 0.0000, 0.0000, 0.0000, 0.0000, 0.0000,\n",
       "         0.0000, 0.0000, 0.0000, 0.0000, 0.0000, 0.0000, 0.0000, 0.0000, 0.0000,\n",
       "         0.0000]], dtype=torch.float64)"
      ]
     },
     "execution_count": 158,
     "metadata": {},
     "output_type": "execute_result"
    }
   ],
   "source": [
    "tensor"
   ]
  },
  {
   "cell_type": "code",
   "execution_count": 164,
   "id": "c7c4068f-9fc4-4163-92a4-d5bdda721fdb",
   "metadata": {},
   "outputs": [],
   "source": [
    "data = torchvision.datasets.FashionMNIST(\n",
    "    root=\"data\",\n",
    "    download=True,\n",
    "    transform = torchvision.transforms.ToTensor(), # OK, fine, we instantiate, I get that now.\n",
    ")"
   ]
  },
  {
   "cell_type": "code",
   "execution_count": 169,
   "id": "f189558d-d2e7-41a5-8aad-750760db7a61",
   "metadata": {},
   "outputs": [
    {
     "data": {
      "text/plain": [
       "tensor([[[0.0000, 0.0000, 0.0000, 0.0000, 0.0000, 0.0039, 0.0000, 0.0000,\n",
       "          0.0000, 0.0000, 0.1608, 0.7373, 0.4039, 0.2118, 0.1882, 0.1686,\n",
       "          0.3412, 0.6588, 0.5216, 0.0627, 0.0000, 0.0000, 0.0000, 0.0000,\n",
       "          0.0000, 0.0000, 0.0000, 0.0000],\n",
       "         [0.0000, 0.0000, 0.0000, 0.0039, 0.0000, 0.0000, 0.0000, 0.1922,\n",
       "          0.5333, 0.8588, 0.8471, 0.8941, 0.9255, 1.0000, 1.0000, 1.0000,\n",
       "          1.0000, 0.8510, 0.8431, 0.9961, 0.9059, 0.6275, 0.1765, 0.0000,\n",
       "          0.0000, 0.0000, 0.0000, 0.0000],\n",
       "         [0.0000, 0.0000, 0.0000, 0.0000, 0.0000, 0.0549, 0.6902, 0.8706,\n",
       "          0.8784, 0.8314, 0.7961, 0.7765, 0.7686, 0.7843, 0.8431, 0.8000,\n",
       "          0.7922, 0.7882, 0.7882, 0.7882, 0.8196, 0.8549, 0.8784, 0.6431,\n",
       "          0.0000, 0.0000, 0.0000, 0.0000],\n",
       "         [0.0000, 0.0000, 0.0000, 0.0000, 0.0000, 0.7373, 0.8588, 0.7843,\n",
       "          0.7765, 0.7922, 0.7765, 0.7804, 0.7804, 0.7882, 0.7686, 0.7765,\n",
       "          0.7765, 0.7843, 0.7843, 0.7843, 0.7843, 0.7882, 0.7843, 0.8824,\n",
       "          0.1608, 0.0000, 0.0000, 0.0000],\n",
       "         [0.0000, 0.0000, 0.0000, 0.0000, 0.2000, 0.8588, 0.7804, 0.7961,\n",
       "          0.7961, 0.8314, 0.9333, 0.9725, 0.9804, 0.9608, 0.9765, 0.9647,\n",
       "          0.9686, 0.9882, 0.9725, 0.9216, 0.8118, 0.7961, 0.7961, 0.8706,\n",
       "          0.5490, 0.0000, 0.0000, 0.0000],\n",
       "         [0.0000, 0.0000, 0.0000, 0.0000, 0.4549, 0.8863, 0.8078, 0.8000,\n",
       "          0.8118, 0.8000, 0.3961, 0.2941, 0.1843, 0.2863, 0.1882, 0.1961,\n",
       "          0.1765, 0.2000, 0.2471, 0.4431, 0.8706, 0.7922, 0.8078, 0.8627,\n",
       "          0.8784, 0.0000, 0.0000, 0.0000],\n",
       "         [0.0000, 0.0000, 0.0000, 0.0000, 0.7843, 0.8706, 0.8196, 0.7961,\n",
       "          0.8431, 0.7843, 0.0000, 0.2745, 0.3843, 0.0000, 0.4039, 0.2314,\n",
       "          0.2667, 0.2784, 0.1922, 0.0000, 0.8588, 0.8078, 0.8392, 0.8235,\n",
       "          0.9804, 0.1490, 0.0000, 0.0000],\n",
       "         [0.0000, 0.0000, 0.0000, 0.0000, 0.9686, 0.8549, 0.8314, 0.8235,\n",
       "          0.8431, 0.8392, 0.0000, 0.9961, 0.9529, 0.5451, 1.0000, 0.6824,\n",
       "          0.9843, 1.0000, 0.8039, 0.0000, 0.8431, 0.8510, 0.8392, 0.8157,\n",
       "          0.8627, 0.3725, 0.0000, 0.0000],\n",
       "         [0.0000, 0.0000, 0.0000, 0.1765, 0.8863, 0.8392, 0.8392, 0.8431,\n",
       "          0.8784, 0.8039, 0.0000, 0.1647, 0.1373, 0.2353, 0.0627, 0.0667,\n",
       "          0.0471, 0.0510, 0.2745, 0.0000, 0.7412, 0.8471, 0.8314, 0.8078,\n",
       "          0.8314, 0.6118, 0.0000, 0.0000],\n",
       "         [0.0000, 0.0000, 0.0000, 0.6431, 0.9216, 0.8392, 0.8275, 0.8627,\n",
       "          0.8471, 0.7882, 0.2039, 0.2784, 0.3490, 0.3686, 0.3255, 0.3059,\n",
       "          0.2745, 0.2980, 0.3608, 0.3412, 0.8078, 0.8118, 0.8706, 0.8353,\n",
       "          0.8588, 0.8157, 0.0000, 0.0000],\n",
       "         [0.0000, 0.0000, 0.0000, 0.4157, 0.7333, 0.8745, 0.9294, 0.9725,\n",
       "          0.8275, 0.7765, 0.9882, 0.9804, 0.9725, 0.9608, 0.9725, 0.9882,\n",
       "          0.9922, 0.9804, 0.9882, 0.9373, 0.7882, 0.8314, 0.8824, 0.8431,\n",
       "          0.7569, 0.4431, 0.0000, 0.0000],\n",
       "         [0.0000, 0.0000, 0.0000, 0.0000, 0.0000, 0.0667, 0.2118, 0.6235,\n",
       "          0.8706, 0.7569, 0.8157, 0.7529, 0.7725, 0.7843, 0.7843, 0.7843,\n",
       "          0.7843, 0.7882, 0.7961, 0.7647, 0.8235, 0.6471, 0.0000, 0.0000,\n",
       "          0.0000, 0.0000, 0.0000, 0.0000],\n",
       "         [0.0000, 0.0000, 0.0000, 0.0000, 0.0000, 0.0000, 0.0000, 0.1843,\n",
       "          0.8824, 0.7529, 0.8392, 0.7961, 0.8078, 0.8000, 0.8000, 0.8039,\n",
       "          0.8078, 0.8000, 0.8314, 0.7725, 0.8549, 0.4196, 0.0000, 0.0000,\n",
       "          0.0000, 0.0000, 0.0000, 0.0000],\n",
       "         [0.0000, 0.0000, 0.0000, 0.0000, 0.0039, 0.0235, 0.0000, 0.1804,\n",
       "          0.8314, 0.7647, 0.8314, 0.7922, 0.8078, 0.8039, 0.8000, 0.8039,\n",
       "          0.8078, 0.8000, 0.8314, 0.7843, 0.8549, 0.3569, 0.0000, 0.0118,\n",
       "          0.0039, 0.0000, 0.0000, 0.0000],\n",
       "         [0.0000, 0.0000, 0.0000, 0.0000, 0.0000, 0.0039, 0.0000, 0.0431,\n",
       "          0.7725, 0.7804, 0.8039, 0.7922, 0.8039, 0.8078, 0.8000, 0.8039,\n",
       "          0.8118, 0.8000, 0.8039, 0.8039, 0.8549, 0.3020, 0.0000, 0.0196,\n",
       "          0.0000, 0.0000, 0.0000, 0.0000],\n",
       "         [0.0000, 0.0000, 0.0000, 0.0000, 0.0000, 0.0118, 0.0000, 0.0078,\n",
       "          0.7490, 0.7765, 0.7882, 0.8039, 0.8078, 0.8039, 0.8039, 0.8078,\n",
       "          0.8196, 0.8078, 0.7804, 0.8196, 0.8588, 0.2902, 0.0000, 0.0196,\n",
       "          0.0000, 0.0000, 0.0000, 0.0000],\n",
       "         [0.0000, 0.0000, 0.0000, 0.0000, 0.0000, 0.0078, 0.0000, 0.0000,\n",
       "          0.7373, 0.7725, 0.7843, 0.8118, 0.8118, 0.8000, 0.8118, 0.8118,\n",
       "          0.8235, 0.8157, 0.7765, 0.8118, 0.8667, 0.2824, 0.0000, 0.0157,\n",
       "          0.0000, 0.0000, 0.0000, 0.0000],\n",
       "         [0.0000, 0.0000, 0.0000, 0.0000, 0.0000, 0.0078, 0.0000, 0.0000,\n",
       "          0.8431, 0.7765, 0.7961, 0.8078, 0.8157, 0.8039, 0.8118, 0.8118,\n",
       "          0.8235, 0.8157, 0.7843, 0.7922, 0.8706, 0.2941, 0.0000, 0.0157,\n",
       "          0.0000, 0.0000, 0.0000, 0.0000],\n",
       "         [0.0000, 0.0000, 0.0000, 0.0000, 0.0000, 0.0039, 0.0000, 0.0000,\n",
       "          0.8314, 0.7765, 0.8196, 0.8078, 0.8196, 0.8078, 0.8157, 0.8118,\n",
       "          0.8275, 0.8078, 0.8039, 0.7765, 0.8667, 0.3137, 0.0000, 0.0118,\n",
       "          0.0000, 0.0000, 0.0000, 0.0000],\n",
       "         [0.0000, 0.0000, 0.0000, 0.0000, 0.0000, 0.0039, 0.0000, 0.0000,\n",
       "          0.8000, 0.7882, 0.8039, 0.8157, 0.8118, 0.8039, 0.8275, 0.8039,\n",
       "          0.8235, 0.8235, 0.8196, 0.7647, 0.8667, 0.3765, 0.0000, 0.0118,\n",
       "          0.0000, 0.0000, 0.0000, 0.0000],\n",
       "         [0.0000, 0.0000, 0.0000, 0.0000, 0.0000, 0.0039, 0.0000, 0.0000,\n",
       "          0.7922, 0.7882, 0.8039, 0.8196, 0.8118, 0.8039, 0.8353, 0.8078,\n",
       "          0.8235, 0.8196, 0.8235, 0.7608, 0.8510, 0.4118, 0.0000, 0.0078,\n",
       "          0.0000, 0.0000, 0.0000, 0.0000],\n",
       "         [0.0000, 0.0000, 0.0000, 0.0000, 0.0000, 0.0039, 0.0000, 0.0000,\n",
       "          0.8000, 0.8000, 0.8039, 0.8157, 0.8118, 0.8039, 0.8431, 0.8118,\n",
       "          0.8235, 0.8157, 0.8275, 0.7569, 0.8353, 0.4510, 0.0000, 0.0078,\n",
       "          0.0000, 0.0000, 0.0000, 0.0000],\n",
       "         [0.0000, 0.0000, 0.0000, 0.0000, 0.0000, 0.0000, 0.0000, 0.0000,\n",
       "          0.8000, 0.8118, 0.8118, 0.8157, 0.8078, 0.8078, 0.8431, 0.8235,\n",
       "          0.8235, 0.8118, 0.8314, 0.7647, 0.8235, 0.4627, 0.0000, 0.0078,\n",
       "          0.0000, 0.0000, 0.0000, 0.0000],\n",
       "         [0.0000, 0.0000, 0.0000, 0.0000, 0.0000, 0.0039, 0.0000, 0.0000,\n",
       "          0.7765, 0.8157, 0.8157, 0.8157, 0.8000, 0.8118, 0.8314, 0.8314,\n",
       "          0.8235, 0.8118, 0.8275, 0.7686, 0.8118, 0.4745, 0.0000, 0.0039,\n",
       "          0.0000, 0.0000, 0.0000, 0.0000],\n",
       "         [0.0000, 0.0000, 0.0000, 0.0000, 0.0000, 0.0039, 0.0000, 0.0000,\n",
       "          0.7765, 0.8235, 0.8118, 0.8157, 0.8078, 0.8196, 0.8353, 0.8314,\n",
       "          0.8275, 0.8118, 0.8235, 0.7725, 0.8118, 0.4863, 0.0000, 0.0039,\n",
       "          0.0000, 0.0000, 0.0000, 0.0000],\n",
       "         [0.0000, 0.0000, 0.0000, 0.0000, 0.0000, 0.0000, 0.0000, 0.0000,\n",
       "          0.6745, 0.8235, 0.7961, 0.7882, 0.7804, 0.8000, 0.8118, 0.8039,\n",
       "          0.8000, 0.7882, 0.8039, 0.7725, 0.8078, 0.4980, 0.0000, 0.0000,\n",
       "          0.0000, 0.0000, 0.0000, 0.0000],\n",
       "         [0.0000, 0.0000, 0.0000, 0.0000, 0.0000, 0.0000, 0.0000, 0.0000,\n",
       "          0.7373, 0.8667, 0.8392, 0.9176, 0.9255, 0.9333, 0.9569, 0.9569,\n",
       "          0.9569, 0.9412, 0.9529, 0.8392, 0.8784, 0.6353, 0.0000, 0.0078,\n",
       "          0.0000, 0.0000, 0.0000, 0.0000],\n",
       "         [0.0000, 0.0000, 0.0000, 0.0000, 0.0000, 0.0039, 0.0000, 0.0000,\n",
       "          0.5451, 0.5725, 0.5098, 0.5294, 0.5294, 0.5373, 0.4902, 0.4863,\n",
       "          0.4902, 0.4745, 0.4667, 0.4471, 0.5098, 0.2980, 0.0000, 0.0000,\n",
       "          0.0000, 0.0000, 0.0000, 0.0000]]])"
      ]
     },
     "execution_count": 169,
     "metadata": {},
     "output_type": "execute_result"
    }
   ],
   "source": [
    "# Nota: to emulate ToTensor:\n",
    "def T(image):\n",
    "    array = np.asarray(np.array(image) / 255, dtype=np.float32)\n",
    "    w, h = array.shape\n",
    "    t = np.reshape(array, (1, 28, 28))\n",
    "    return torch.from_numpy(t)\n",
    "T(image)"
   ]
  },
  {
   "cell_type": "code",
   "execution_count": 172,
   "id": "5747f9d4-88dd-4f23-8983-2669f0f55a9b",
   "metadata": {},
   "outputs": [],
   "source": [
    "data = torchvision.datasets.FashionMNIST(\n",
    "    root=\"data\",\n",
    "    download=True,\n",
    "    transform=T,\n",
    ")"
   ]
  },
  {
   "cell_type": "markdown",
   "id": "f6ba33ef-ca90-4128-b15c-b0817e612a97",
   "metadata": {},
   "source": [
    "## Data Loader"
   ]
  },
  {
   "cell_type": "code",
   "execution_count": null,
   "id": "f1e3325b-f50f-4312-b3eb-6effbcae247e",
   "metadata": {},
   "outputs": [],
   "source": [
    "dl = torch."
   ]
  }
 ],
 "metadata": {
  "kernelspec": {
   "display_name": "Python 3 (ipykernel)",
   "language": "python",
   "name": "python3"
  },
  "language_info": {
   "codemirror_mode": {
    "name": "ipython",
    "version": 3
   },
   "file_extension": ".py",
   "mimetype": "text/x-python",
   "name": "python",
   "nbconvert_exporter": "python",
   "pygments_lexer": "ipython3",
   "version": "3.11.7"
  }
 },
 "nbformat": 4,
 "nbformat_minor": 5
}
